{
 "cells": [
  {
   "cell_type": "code",
   "execution_count": 2,
   "metadata": {
    "collapsed": false
   },
   "outputs": [
    {
     "name": "stderr",
     "output_type": "stream",
     "text": [
      "WARNING: replacing module UNSflow\n",
      "\n",
      "WARNING: deprecated syntax \"call(eld::EldUpDef, ...)\".\n",
      "Use \"(eld::EldUpDef)(...)\" instead.\n",
      "\n",
      "WARNING: deprecated syntax \"call(eld::EldUptstartDef, ...)\".\n",
      "Use \"(eld::EldUptstartDef)(...)\" instead.\n",
      "\n",
      "WARNING: deprecated syntax \"call(cons::ConstDef, ...)\".\n",
      "Use \"(cons::ConstDef)(...)\" instead.\n",
      "\n",
      "WARNING: deprecated syntax \"call(eld::EldRampReturnDef, ...)\".\n",
      "Use \"(eld::EldRampReturnDef)(...)\" instead.\n",
      "\n",
      "WARNING: deprecated syntax \"call(kin::SinDef, ...)\".\n",
      "Use \"(kin::SinDef)(...)\" instead.\n",
      "\n",
      "WARNING: deprecated syntax \"call(kin::CosDef, ...)\".\n",
      "Use \"(kin::CosDef)(...)\" instead.\n",
      "WARNING: Base.ASCIIString is deprecated, use String instead.\n",
      "  likely near /Users/kiran/Documents/Projects/UNSflow/src/types.jl:294\n",
      "WARNING: Base.ASCIIString is deprecated, use String instead.\n",
      "  likely near /Users/kiran/Documents/Projects/UNSflow/src/types.jl:294\n",
      "WARNING: Base.ASCIIString is deprecated, use String instead.\n",
      "  likely near /Users/kiran/Documents/Projects/UNSflow/src/types.jl:486\n",
      "WARNING: Base.ASCIIString is deprecated, use String instead.\n",
      "  likely near /Users/kiran/Documents/Projects/UNSflow/src/types.jl:486\n",
      "WARNING: Base.ASCIIString is deprecated, use String instead.\n",
      "  likely near /Users/kiran/Documents/Projects/UNSflow/src/types.jl:606\n",
      "WARNING: Base.ASCIIString is deprecated, use String instead.\n",
      "  likely near /Users/kiran/Documents/Projects/UNSflow/src/types.jl:674\n",
      "\n",
      "WARNING: deprecated syntax \"call(eld::EldUpIntDef, ...)\".\n",
      "Use \"(eld::EldUpIntDef)(...)\" instead.\n",
      "\n",
      "WARNING: deprecated syntax \"call(eld::EldUpInttstartDef, ...)\".\n",
      "Use \"(eld::EldUpInttstartDef)(...)\" instead.\n",
      "\n",
      "WARNING: deprecated syntax \"call(kelv::KelvinCondition, ...)\".\n",
      "Use \"(kelv::KelvinCondition)(...)\" instead.\n",
      "\n",
      "WARNING: deprecated syntax \"call(kelv::KelvinCondition2DOF, ...)\".\n",
      "Use \"(kelv::KelvinCondition2DOF)(...)\" instead.\n",
      "\n",
      "WARNING: deprecated syntax \"call(kelv::KelvinCondition2DFree, ...)\".\n",
      "Use \"(kelv::KelvinCondition2DFree)(...)\" instead.\n",
      "\n",
      "WARNING: deprecated syntax \"call(kelv::KelvinConditionwFlap, ...)\".\n",
      "Use \"(kelv::KelvinConditionwFlap)(...)\" instead.\n",
      "\n",
      "WARNING: deprecated syntax \"call(kelv::KelvinKutta, ...)\".\n",
      "Use \"(kelv::KelvinKutta)(...)\" instead.\n",
      "\n",
      "WARNING: deprecated syntax \"call(kelv::KelvinKutta2DOF, ...)\".\n",
      "Use \"(kelv::KelvinKutta2DOF)(...)\" instead.\n",
      "\n",
      "WARNING: deprecated syntax \"call(kelv::KelvinKutta2DFree, ...)\".\n",
      "Use \"(kelv::KelvinKutta2DFree)(...)\" instead.\n",
      "\n",
      "WARNING: deprecated syntax \"call(kelv::KelvinKuttawFlap, ...)\".\n",
      "Use \"(kelv::KelvinKuttawFlap)(...)\" instead.\n",
      "WARNING: Base.ASCIIString is deprecated, use String instead.\n",
      "  likely near /Users/kiran/Documents/Projects/UNSflow/src/calculations.jl:610\n"
     ]
    }
   ],
   "source": [
    "#workspace()\n",
    "include(\"../src/UNSflow.jl\")\n",
    "using UNSflow"
   ]
  },
  {
   "cell_type": "code",
   "execution_count": 4,
   "metadata": {
    "collapsed": false
   },
   "outputs": [
    {
     "name": "stderr",
     "output_type": "stream",
     "text": [
      "WARNING: Base.ASCIIString is deprecated, use String instead.\n",
      "  likely near In[4]:41\n",
      "WARNING: Base.ASCIIString is deprecated, use String instead.\n",
      "  likely near In[4]:41\n",
      "WARNING: Base.ASCIIString is deprecated, use String instead.\n",
      "  likely near In[4]:41\n",
      "WARNING: Base.ASCIIString is deprecated, use String instead.\n",
      "  likely near In[4]:41\n",
      "WARNING: Base.ASCIIString is deprecated, use String instead.\n",
      "  likely near In[4]:41\n",
      "WARNING: Base.ASCIIString is deprecated, use String instead.\n",
      "  likely near In[4]:41\n",
      "WARNING: Base.ASCIIString is deprecated, use String instead.\n",
      "  likely near In[4]:41\n",
      "WARNING: Base.ASCIIString is deprecated, use String instead.\n",
      "  likely near In[4]:41\n",
      "WARNING: slice is deprecated, use view instead.\n",
      " in depwarn(::String, ::Symbol) at ./deprecated.jl:64\n",
      " in slice(::Array{Float64,2}, ::Vararg{Any,N}) at ./deprecated.jl:30\n",
      " in sumabs2j at /Users/kiran/.julia/v0.5/NLsolve/src/utils.jl:1 [inlined]\n",
      " in trust_region_(::NLsolve.DifferentiableMultivariateFunction, ::Array{Float64,1}, ::Float64, ::Float64, ::Int64, ::Bool, ::Bool, ::Bool, ::Float64, ::Bool) at /Users/kiran/.julia/v0.5/NLsolve/src/trust_region.jl:105\n",
      " in #nlsolve#17(::Symbol, ::Float64, ::Float64, ::Int64, ::Bool, ::Bool, ::Bool, ::Function, ::Float64, ::Bool, ::NLsolve.#nlsolve, ::NLsolve.DifferentiableMultivariateFunction, ::Array{Float64,1}) at /Users/kiran/.julia/v0.5/NLsolve/src/nlsolve_func_defs.jl:24\n",
      " in ldvm(::UNSflow.TwoDSurf, ::UNSflow.TwoDFlowField, ::Int64, ::Float64, ::UNSflow.DelVortDef) at /Users/kiran/Documents/Projects/UNSflow/src/solvers.jl:260\n",
      " in ldvm(::UNSflow.TwoDSurf, ::UNSflow.TwoDFlowField, ::Int64, ::Float64) at /Users/kiran/Documents/Projects/UNSflow/src/solvers.jl:234\n",
      " in include_string(::String, ::String) at ./loading.jl:441\n",
      " in execute_request(::ZMQ.Socket, ::IJulia.Msg) at /Users/kiran/.julia/v0.5/IJulia/src/execute_request.jl:169\n",
      " in eventloop(::ZMQ.Socket) at /Users/kiran/.julia/v0.5/IJulia/src/eventloop.jl:8\n",
      " in (::IJulia.##9#15)() at ./task.jl:360\n",
      "while loading In[4], in expression starting on line 45\n",
      "WARNING: slice is deprecated, use view instead.\n",
      " in depwarn(::String, ::Symbol) at ./deprecated.jl:64\n",
      " in slice(::Array{Float64,2}, ::Vararg{Any,N}) at ./deprecated.jl:30\n",
      " in sumabs2j at /Users/kiran/.julia/v0.5/NLsolve/src/utils.jl:1 [inlined]\n",
      " in trust_region_(::NLsolve.DifferentiableMultivariateFunction, ::Array{Float64,1}, ::Float64, ::Float64, ::Int64, ::Bool, ::Bool, ::Bool, ::Float64, ::Bool) at /Users/kiran/.julia/v0.5/NLsolve/src/trust_region.jl:145\n",
      " in #nlsolve#17(::Symbol, ::Float64, ::Float64, ::Int64, ::Bool, ::Bool, ::Bool, ::Function, ::Float64, ::Bool, ::NLsolve.#nlsolve, ::NLsolve.DifferentiableMultivariateFunction, ::Array{Float64,1}) at /Users/kiran/.julia/v0.5/NLsolve/src/nlsolve_func_defs.jl:24\n",
      " in ldvm(::UNSflow.TwoDSurf, ::UNSflow.TwoDFlowField, ::Int64, ::Float64, ::UNSflow.DelVortDef) at /Users/kiran/Documents/Projects/UNSflow/src/solvers.jl:260\n",
      " in ldvm(::UNSflow.TwoDSurf, ::UNSflow.TwoDFlowField, ::Int64, ::Float64) at /Users/kiran/Documents/Projects/UNSflow/src/solvers.jl:234\n",
      " in include_string(::String, ::String) at ./loading.jl:441\n",
      " in execute_request(::ZMQ.Socket, ::IJulia.Msg) at /Users/kiran/.julia/v0.5/IJulia/src/execute_request.jl:169\n",
      " in eventloop(::ZMQ.Socket) at /Users/kiran/.julia/v0.5/IJulia/src/eventloop.jl:8\n",
      " in (::IJulia.##9#15)() at ./task.jl:360\n",
      "while loading In[4], in expression starting on line 45\n"
     ]
    },
    {
     "data": {
      "text/plain": [
       "(\n",
       "[0.015 0.0872665 … 9.74096 0.0123073; 0.03 0.0872665 … 0.306189 0.0124999; … ; 15.0 0.0872665 … 0.524017 0.0439935; 15.015 0.0872665 … 0.524041 0.0439974],\n",
       "\n",
       "UNSflow.TwoDSurf(1.0,1.0,\"FlatPlate\",0.0,70,35,\"Prescribed\",UNSflow.KinemDef(UNSflow.ConstDef(0.08726646259971647),UNSflow.ConstDef(0.0),UNSflow.ConstDef(1.0)),[0.0,0.0,0.0,0.0,0.0,0.0,0.0,0.0,0.0,0.0  …  0.0,0.0,0.0,0.0,0.0,0.0,0.0,0.0,0.0,0.0],[0.0,0.0,0.0,0.0,0.0,0.0,0.0,0.0,0.0,0.0  …  0.0,0.0,0.0,0.0,0.0,0.0,0.0,0.0,0.0,0.0],[0.0,0.0455303,0.0910607,0.136591,0.182121,0.227652,0.273182,0.318712,0.364243,0.409773  …  2.73182,2.77735,2.82288,2.86841,2.91394,2.95947,3.005,3.05053,3.09606,3.14159],[0.0,0.000518163,0.00207158,0.00465703,0.00826915,0.0129005,0.0185414,0.0251802,0.0328031,0.0413943  …  0.958606,0.967197,0.97482,0.981459,0.9871,0.991731,0.995343,0.997928,0.999482,1.0],UNSflow.KinemPar(0.08726646259971647,0.0,0.0,0.0,1.0,0.0),[-16.015,-16.0145,-16.0129,-16.0104,-16.0068,-16.0021,-15.9965,-15.9899,-15.9823,-15.9738  …  -15.06,-15.0515,-15.0439,-15.0373,-15.0317,-15.027,-15.0234,-15.0209,-15.0193,-15.0188],[0.0,-4.51609e-5,-0.00018055,-0.000405887,-0.000720704,-0.00112435,-0.00161599,-0.00219459,-0.00285898,-0.00360776  …  -0.083548,-0.0842968,-0.0849611,-0.0855398,-0.0860314,-0.086435,-0.0867499,-0.0869752,-0.0871106,-0.0871557],[-6.26075e-5,-6.26048e-5,-6.25966e-5,-6.25829e-5,-6.25639e-5,-6.25395e-5,-6.25099e-5,-6.24752e-5,-6.24354e-5,-6.23909e-5  …  -7.341e-5,-7.53225e-5,-7.74202e-5,-7.95244e-5,-8.1215e-5,-8.20594e-5,-8.21449e-5,-8.19106e-5,-8.16718e-5,-8.15772e-5],[-0.00319692,-0.0031971,-0.00319765,-0.00319855,-0.00319981,-0.00320144,-0.00320342,-0.00320577,-0.00320847,-0.00321153  …  -0.00386557,-0.00389864,-0.00393364,-0.00396848,-0.00399813,-0.00401718,-0.00402609,-0.00402946,-0.00403053,-0.00403074],[-0.0839655,-0.0839653,-0.0839648,-0.0839639,-0.0839627,-0.083961,-0.0839591,-0.0839567,-0.083954,-0.083951  …  -0.0832985,-0.0832654,-0.0832303,-0.0831954,-0.0831657,-0.0831467,-0.0831378,-0.0831345,-0.0831334,-0.0831332],[0.0836804],[-0.000352666,0.00010026,-5.10345e-5,2.87917e-5,-1.63744e-5,8.85333e-6,-4.14381e-6,1.18806e-6,6.18802e-7,-1.65355e-6  …  1.87408e-7,-1.90586e-7,1.81044e-7,-1.62877e-7,1.39551e-7,-1.13875e-7,8.80268e-8,-6.36023e-8,4.16811e-8,-2.29064e-8],[0.000250775],[4.87939e-5,-1.44148e-5,7.24614e-6],[0.0836804],[-0.000352666,0.00010026,-5.10345e-5],UNSflow.TwoDVort[UNSflow.TwoDVort(-16.0147,-2.25804e-5,0.007618,0.02,0.0,0.0),UNSflow.TwoDVort(-16.0137,-0.000112855,0.00761007,0.02,0.0,0.0),UNSflow.TwoDVort(-16.0116,-0.000293218,0.00759421,0.02,0.0,0.0),UNSflow.TwoDVort(-16.0086,-0.000563295,0.00757046,0.02,0.0,0.0),UNSflow.TwoDVort(-16.0045,-0.000922526,0.00753888,0.02,0.0,0.0),UNSflow.TwoDVort(-15.9993,-0.00137017,0.00749952,0.02,0.0,0.0),UNSflow.TwoDVort(-15.9932,-0.00190529,0.00745247,0.02,0.0,0.0),UNSflow.TwoDVort(-15.9861,-0.00252679,0.00739784,0.02,0.0,0.0),UNSflow.TwoDVort(-15.978,-0.00323337,0.00733572,0.02,0.0,0.0),UNSflow.TwoDVort(-15.969,-0.00402357,0.00726626,0.02,0.0,0.0)  …  UNSflow.TwoDVort(-15.0648,-0.0831322,0.000345605,0.02,0.0,0.0),UNSflow.TwoDVort(-15.0558,-0.0839224,0.000277371,0.02,0.0,0.0),UNSflow.TwoDVort(-15.0477,-0.084629,0.000216482,0.02,0.0,0.0),UNSflow.TwoDVort(-15.0406,-0.0852505,0.000163066,0.02,0.0,0.0),UNSflow.TwoDVort(-15.0345,-0.0857856,0.000117208,0.02,0.0,0.0),UNSflow.TwoDVort(-15.0293,-0.0862332,7.89299e-5,0.02,0.0,0.0),UNSflow.TwoDVort(-15.0252,-0.0865924,4.82289e-5,0.02,0.0,0.0),UNSflow.TwoDVort(-15.0222,-0.0868625,2.51255e-5,0.02,0.0,0.0),UNSflow.TwoDVort(-15.0201,-0.0870429,9.67585e-6,0.02,0.0,0.0),UNSflow.TwoDVort(-15.0191,-0.0871332,1.93646e-6,0.02,0.0,0.0)],[21.0],Int8[0]),UNSflow.TwoDFlowField(UNSflow.ConstDef(0.0),UNSflow.ConstDef(0.0),[0.0],[0.0],UNSflow.TwoDVort[UNSflow.TwoDVort(-0.245868,0.0250196,-0.0418654,0.02,-0.0111513,0.00999026),UNSflow.TwoDVort(-0.332077,-0.0288906,-0.00160178,0.02,0.0450021,-0.092512),UNSflow.TwoDVort(-0.185156,0.0810387,-0.00712348,0.02,-0.0858638,0.0954171),UNSflow.TwoDVort(-0.235167,-0.104392,-0.00529475,0.02,0.0838879,0.0150895),UNSflow.TwoDVort(-0.325099,0.036371,-0.00477537,0.02,-0.0417915,-0.110985),UNSflow.TwoDVort(-0.272671,-0.0565134,-0.0042714,0.02,0.0906756,-0.0242905),UNSflow.TwoDVort(-0.283633,0.0889844,-0.00389213,0.02,-0.0980636,-0.0548891),UNSflow.TwoDVort(-0.265313,0.142718,-0.00358774,0.02,-0.128987,-0.00110472),UNSflow.TwoDVort(-0.146599,-0.0529174,-0.0033379,0.02,0.0469305,0.0795446),UNSflow.TwoDVort(-0.26457,0.114807,-0.00312795,0.02,-0.112652,0.00057802)  …  UNSflow.TwoDVort(-14.8772,-0.0976712,-1.3217e-5,0.02,-0.0045089,-0.0575518),UNSflow.TwoDVort(-14.8921,-0.0968078,-1.31889e-5,0.02,-0.00465414,-0.058959),UNSflow.TwoDVort(-14.907,-0.0959233,-1.31609e-5,0.02,-0.00481057,-0.0604824),UNSflow.TwoDVort(-14.922,-0.0950159,-1.3133e-5,0.02,-0.00498025,-0.062145),UNSflow.TwoDVort(-14.9369,-0.0940837,-1.31051e-5,0.02,-0.00516599,-0.0639791),UNSflow.TwoDVort(-14.9518,-0.0931239,-1.30774e-5,0.02,-0.00537188,-0.066032),UNSflow.TwoDVort(-14.9667,-0.0921334,-1.30497e-5,0.02,-0.00560423,-0.0683774),UNSflow.TwoDVort(-14.9816,-0.0911077,-1.30221e-5,0.02,-0.00587359,-0.0711405),UNSflow.TwoDVort(-14.9965,-0.0900405,-1.29946e-5,0.02,-0.00619753,-0.0745324),UNSflow.TwoDVort(-15.0115,-0.0889225,-1.29672e-5,0.02,-0.00657397,-0.0785231)],UNSflow.TwoDVort[],UNSflow.TwoDVort[]))"
      ]
     },
     "execution_count": 4,
     "metadata": {},
     "output_type": "execute_result"
    }
   ],
   "source": [
    "#Construct dimensionless quantities from given values\n",
    "AR = 6\n",
    "\n",
    "#_dAll values below are nondimensional\n",
    "c = 1\n",
    "u = 1\n",
    "t_tot = 15.0\n",
    "\n",
    "\n",
    "n_span = 12\n",
    "n_bterm = 40\n",
    "\n",
    "psi = zeros(n_span)\n",
    "dpsi = pi/n_span\n",
    "\n",
    "for i = 1:n_span\n",
    "    psi[i] = (real(i)-0.5)*dpsi\n",
    "end\n",
    "\n",
    "\n",
    "#Run LDVM at all these locations:\n",
    "alpha_amp = 5*pi/180\n",
    "h_amp = 0.\n",
    "\n",
    "dtstar = 0.015\n",
    "\n",
    "nsteps =round(Int,t_tot/dtstar)+1\n",
    "\n",
    "hdef = ConstDef(h_amp)\n",
    "alphadef = ConstDef(alpha_amp)\n",
    "udef = ConstDef(u)\n",
    "pvt = 0.0 #Doesnt matter, no pitch\n",
    "lespcrit = [21;] #high value to turn off LEV shedding\n",
    "\n",
    "\n",
    "W_mat = Array{Float64,2}[]\n",
    "W_surf = TwoDSurf[]\n",
    "W_curfield = TwoDFlowField[]\n",
    "\n",
    "full_kinem = KinemDef(alphadef, hdef, udef)\n",
    "surf = TwoDSurf(c, u, \"FlatPlate\", pvt, 70, 35, \"Prescribed\", full_kinem, lespcrit)\n",
    "curfield = TwoDFlowField()\n",
    "del = DelVortDef(1, 500, 10)\n",
    "\n",
    "mt, st, ct = ldvm(surf, curfield, nsteps, dtstar)\n",
    "\n",
    "\n"
   ]
  },
  {
   "cell_type": "code",
   "execution_count": 5,
   "metadata": {
    "collapsed": false
   },
   "outputs": [],
   "source": [
    "\n",
    "    \n",
    "\n",
    "for i = 1:Int(n_span/2) #Same solution at all locations\n",
    "    push!(W_mat, mt)\n",
    "    push!(W_surf, st)\n",
    "    push!(W_curfield, ct)\n",
    "end\n",
    "\n",
    "\n",
    "#Mirror image for the rest of the span\n",
    "for i = Int(n_span/2)+1:n_span\n",
    "    mt = W_mat[n_span - i + 1]\n",
    "    st = W_surf[n_span - i + 1]\n",
    "    ct = W_curfield[n_span - i + 1]\n",
    "    push!(W_mat, mt)\n",
    "    push!(W_surf, st)\n",
    "    push!(W_curfield, ct)\n",
    "end"
   ]
  },
  {
   "cell_type": "code",
   "execution_count": 6,
   "metadata": {
    "collapsed": false
   },
   "outputs": [
    {
     "data": {
      "text/plain": [
       "1001-element Array{Float64,1}:\n",
       " 0.0\n",
       " 0.0\n",
       " 0.0\n",
       " 0.0\n",
       " 0.0\n",
       " 0.0\n",
       " 0.0\n",
       " 0.0\n",
       " 0.0\n",
       " 0.0\n",
       " 0.0\n",
       " 0.0\n",
       " 0.0\n",
       " ⋮  \n",
       " 0.0\n",
       " 0.0\n",
       " 0.0\n",
       " 0.0\n",
       " 0.0\n",
       " 0.0\n",
       " 0.0\n",
       " 0.0\n",
       " 0.0\n",
       " 0.0\n",
       " 0.0\n",
       " 0.0"
      ]
     },
     "execution_count": 6,
     "metadata": {},
     "output_type": "execute_result"
    }
   ],
   "source": [
    "lhs = zeros(n_span,n_bterm)\n",
    "rhs = zeros(n_span)\n",
    "b_coeff = zeros(nsteps,n_bterm)\n",
    "sp_gam = zeros(nsteps,n_span)\n",
    "\n",
    "dt = W_mat[1][2,1] - W_mat[1][1,1]\n",
    "\n",
    "cnc_f = zeros(nsteps)\n",
    "cnnc_f = zeros(nsteps)\n",
    "\n",
    "\n"
   ]
  },
  {
   "cell_type": "code",
   "execution_count": 9,
   "metadata": {
    "collapsed": true
   },
   "outputs": [],
   "source": [
    "bdot = zeros(nsteps,n_bterm)\n",
    "\n",
    "for i = 1:nsteps\n",
    "    for j = 1:n_span\n",
    "        for n = 1:n_bterm\n",
    "            lhs[j,n] = sin(n*psi[j])*(sin(psi[j]) + (n*pi/(2*AR)))\n",
    "        end\n",
    "        rhs[j] = pi*sin(psi[j])*W_mat[j][i,9]/(2*AR)\n",
    "    end\n",
    "        \n",
    "    b_coeff[i,:] = \\(lhs, rhs)\n",
    "    if i >= 2   \n",
    "        bdot[i,:] = (b_coeff[i,:] - b_coeff[i-1,:])/dt\n",
    "    end\n",
    "       \n",
    "end\n",
    "        "
   ]
  },
  {
   "cell_type": "code",
   "execution_count": 18,
   "metadata": {
    "collapsed": false
   },
   "outputs": [],
   "source": [
    "a03d = zeros(nsteps,n_span)\n",
    "cd_ind = zeros(nsteps)\n",
    "a0dot3d = zeros(nsteps,n_span)\n",
    "gam_other = zeros(nsteps,n_span)\n",
    "\n",
    "b_d = 6\n",
    "c_d = 1\n",
    "\n",
    "for i = 1:nsteps\n",
    "    for j = 1:n_span\n",
    "         sp_gam[i,j] = 0\n",
    "         for n = 1:n_bterm\n",
    "             sp_gam[i,j] = sp_gam[i,j] + 2*b_d*u*b_coeff[i,n]*sin(n*psi[j])\n",
    "         end\n",
    "    end  \n",
    "end\n",
    "\n",
    "for i = 1:nsteps\n",
    "    cd_ind[i] = 0\n",
    "    for n = 1:n_bterm\n",
    "        cd_ind[i] = cd_ind[i] + real(n)*b_coeff[i,n]^2\n",
    "    end\n",
    "    cd_ind[i] = cd_ind[i]*pi*AR\n",
    "    for j = 1:n_span\n",
    "        a03d[i,j] = 0\n",
    "        for n = 1:n_bterm\n",
    "            a03d[i,j] = a03d[i,j] - real(n)*b_coeff[i,n]*sin(n*psi[j])/sin(psi[j])\n",
    "            a0dot3d[i,j] = a0dot3d[i,j] - real(n)*bdot[i,n]*sin(n*psi[j])/sin(psi[j])\n",
    "        end\n",
    "        gam_other[i,j] = u*c_d*pi*(W_mat[j][i,9] + a03d[i,j])\n",
    "    end\n",
    "end\n",
    "\n",
    "\n"
   ]
  },
  {
   "cell_type": "code",
   "execution_count": 19,
   "metadata": {
    "collapsed": false
   },
   "outputs": [
    {
     "data": {
      "image/png": "[encoded data removed]",
      "text/plain": [
       "PyPlot.Figure(PyObject <matplotlib.figure.Figure object at 0x318029390>)"
      ]
     },
     "metadata": {},
     "output_type": "display_data"
    },
    {
     "data": {
      "text/plain": [
       "1-element Array{Any,1}:\n",
       " PyObject <matplotlib.lines.Line2D object at 0x318ae4e10>"
      ]
     },
     "execution_count": 19,
     "metadata": {},
     "output_type": "execute_result"
    }
   ],
   "source": [
    "plot(sp_gam[10,1:n_span])\n",
    "plot(gam_other[10,:])\n",
    "#plot(a03d[10,:])\n",
    "#plot(a0dot3d[10,:])"
   ]
  },
  {
   "cell_type": "code",
   "execution_count": 24,
   "metadata": {
    "collapsed": false
   },
   "outputs": [],
   "source": [
    "W_alpha = zeros(nsteps,n_span)\n",
    "W_h = zeros(nsteps,n_span)\n",
    "W_u = zeros(nsteps,n_span)\n",
    "W_hdot = zeros(nsteps,n_span)\n",
    "\n",
    "\n",
    "\n",
    "W_u[:,:] = 1\n",
    "W_alpha[:,:] = 5*pi/180\n",
    "\n",
    "\n",
    "\n",
    "W_cn = zeros(nsteps)\n",
    "W_cs = zeros(nsteps)\n",
    "W_cl = zeros(nsteps)\n",
    "W_cd = zeros(nsteps)\n",
    "W_cdi = zeros(nsteps)\n",
    "\n",
    "cn3d = zeros(nsteps, n_span)\n",
    "cs3d = zeros(nsteps, n_span)\n",
    "cl3d = zeros(nsteps, n_span)\n",
    "cd3d = zeros(nsteps, n_span)\n",
    "\n",
    "for i = 1:nsteps\n",
    "    W_cn[i] = 0\n",
    "    W_cs[i] = 0\n",
    "    for j = 1:n_span\n",
    "        cn3d[i,j] = W_mat[j][i,10] + (2*pi/u)*(W_u[i,j]*cos(W_alpha[i,j]) + W_hdot[i,j]*sin(W_alpha[i,j]))*a03d[1,j] + (2*pi*c/u)*(3*a0dot3d[i,j]/4)\n",
    "        cs3d[i,j] = W_mat[j][i,11] + 2*pi*a03d[i,j]^2\n",
    "        cl3d[i,j] = cn3d[i,j]*cos(W_alpha[i,j]) + cs3d[i,j]*sin(W_alpha[i,j])\n",
    "        cd3d[i,j] = cn3d[i,j]*sin(W_alpha[i,j]) - cs3d[i,j]*cos(W_alpha[i,j]) \n",
    "        W_cn[i] = W_cn[i] + cn3d[i,j]*sin(psi[j])*dpsi/2\n",
    "        W_cs[i] = W_cs[i] + cs3d[i,j]*sin(psi[j])*dpsi/2\n",
    "        W_cl[i] = W_cl[i] + cl3d[i,j]*sin(psi[j])*dpsi/2\n",
    "        W_cd[i] = W_cd[i] + cd3d[i,j]*sin(psi[j])*dpsi/2\n",
    "    end\n",
    "end\n",
    "\n",
    "\n",
    "#cn_w = \n",
    "\n",
    "#sum_bcoeff = 0\n",
    "#    for n = 1:n_bterm\n",
    "#        if rem(n,2) != 0\n",
    "#            sum_bcoeff = sum_bcoeff + b_coeff[n]\n",
    "#        end\n",
    "#    end\n",
    "\n",
    "#    cnc_f[i] = -2*pi*(u[i]*cos(alpha[i])/surf.uref + hdot[i]*sin(alpha[i])/surf.uref)*(sum_bcoeff)\n",
    "#    sum_bdot = 0\n",
    "#        for n = 1:n_bterm\n",
    "#            if rem(n,2) != 0\n",
    "#                sum_bdot = sum_bdot + bdot[n]\n",
    "#            end\n",
    "#        end\n",
    "#        cnnc_f[i] = -(2*pi*surf.c/(surf.uref))*(3*sum_bdot/4)\n",
    "#    end"
   ]
  },
  {
   "cell_type": "code",
   "execution_count": 38,
   "metadata": {
    "collapsed": false
   },
   "outputs": [
    {
     "data": {
      "image/png": "[encoded data removed]",
      "text/plain": [
       "PyPlot.Figure(PyObject <matplotlib.figure.Figure object at 0x31a0d1a90>)"
      ]
     },
     "metadata": {},
     "output_type": "display_data"
    },
    {
     "data": {
      "text/plain": [
       "1-element Array{Any,1}:\n",
       " PyObject <matplotlib.lines.Line2D object at 0x31a160910>"
      ]
     },
     "execution_count": 38,
     "metadata": {},
     "output_type": "execute_result"
    }
   ],
   "source": [
    "\n",
    "plot(W_mat[1][:,1],W_mat[1][:,6])\n",
    "plot(W_mat[1][:,1],W_cl)\n",
    "plot(W_mat[1][:,1],pi*AR*b_coeff[:,1])\n",
    "#PyPlot.axis([12,14,0.2,0.6])"
   ]
  },
  {
   "cell_type": "code",
   "execution_count": 41,
   "metadata": {
    "collapsed": false
   },
   "outputs": [
    {
     "data": {
      "text/plain": [
       "1001-element Array{Float64,1}:\n",
       " 0.0001173  \n",
       " 0.000121788\n",
       " 0.000141747\n",
       " 0.000156582\n",
       " 0.000169962\n",
       " 0.00018193 \n",
       " 0.000192835\n",
       " 0.000202887\n",
       " 0.00021224 \n",
       " 0.000221004\n",
       " 0.000229264\n",
       " 0.000237087\n",
       " 0.000244525\n",
       " ⋮          \n",
       " 0.000734621\n",
       " 0.000734658\n",
       " 0.000734695\n",
       " 0.000734732\n",
       " 0.000734769\n",
       " 0.000734805\n",
       " 0.000734842\n",
       " 0.000734879\n",
       " 0.000734915\n",
       " 0.000734952\n",
       " 0.000734988\n",
       " 0.000735025"
      ]
     },
     "execution_count": 41,
     "metadata": {},
     "output_type": "execute_result"
    }
   ],
   "source": [
    "b_coeff[:,1]"
   ]
  },
  {
   "cell_type": "code",
   "execution_count": null,
   "metadata": {
    "collapsed": true
   },
   "outputs": [],
   "source": []
  }
 ],
 "metadata": {
  "anaconda-cloud": {},
  "kernelspec": {
   "display_name": "Julia 0.5.0-rc4",
   "language": "julia",
   "name": "julia-0.5"
  },
  "language_info": {
   "file_extension": ".jl",
   "mimetype": "application/julia",
   "name": "julia",
   "version": "0.5.0"
  }
 },
 "nbformat": 4,
 "nbformat_minor": 1
}
