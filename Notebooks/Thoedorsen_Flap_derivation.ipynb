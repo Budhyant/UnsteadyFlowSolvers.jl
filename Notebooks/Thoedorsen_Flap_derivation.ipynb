{
 "cells": [
  {
   "cell_type": "code",
   "execution_count": 7,
   "metadata": {
    "collapsed": false
   },
   "outputs": [],
   "source": [
    "using SymPy\n"
   ]
  },
  {
   "cell_type": "code",
   "execution_count": 8,
   "metadata": {
    "collapsed": false
   },
   "outputs": [
    {
     "data": {
      "text/plain": [
       "(h0,alpha0,beta0,w,t,k,C,a,phi,psi,c)"
      ]
     },
     "execution_count": 8,
     "metadata": {},
     "output_type": "execute_result"
    }
   ],
   "source": [
    "@vars h0 alpha0 beta0 w t k C a phi psi c"
   ]
  },
  {
   "cell_type": "code",
   "execution_count": 9,
   "metadata": {
    "collapsed": false
   },
   "outputs": [
    {
     "data": {
      "text/plain": [
       "(u,rho,b)"
      ]
     },
     "execution_count": 9,
     "metadata": {},
     "output_type": "execute_result"
    }
   ],
   "source": [
    "u, rho, b = symbols(\"u, rho, b\")\n"
   ]
  },
  {
   "cell_type": "code",
   "execution_count": 10,
   "metadata": {
    "collapsed": false
   },
   "outputs": [
    {
     "data": {
      "text/latex": [
       "$$- h_{0} e^{i t w}$$"
      ],
      "text/plain": [
       "     I*t*w\n",
       "-h0*e     "
      ]
     },
     "execution_count": 10,
     "metadata": {},
     "output_type": "execute_result"
    }
   ],
   "source": [
    "h = -h0*exp(im*w*t) #Minus because plunge is downward in Theo\n"
   ]
  },
  {
   "cell_type": "code",
   "execution_count": 11,
   "metadata": {
    "collapsed": false,
    "scrolled": true
   },
   "outputs": [
    {
     "data": {
      "text/latex": [
       "$$2 i \\pi C b h_{0} \\rho u w e^{i t w} - \\pi b^{2} h_{0} \\rho w^{2} e^{i t w}$$"
      ],
      "text/plain": [
       "                       I*t*w       2         2  I*t*w\n",
       "2*I*pi*C*b*h0*rho*u*w*e      - pi*b *h0*rho*w *e     "
      ]
     },
     "execution_count": 11,
     "metadata": {},
     "output_type": "execute_result"
    }
   ],
   "source": [
    "P_h = -rho*b*b*pi*diff(h,t,2)-2*rho*u*pi*b*C*diff(h,t,1)\n"
   ]
  },
  {
   "cell_type": "code",
   "execution_count": 12,
   "metadata": {
    "collapsed": false,
    "scrolled": false
   },
   "outputs": [
    {
     "data": {
      "text/latex": [
       "$$\\frac{2 \\pi}{u^{2}} b h_{0} w \\left(- 2 i C u + b w\\right) e^{i t w}$$"
      ],
      "text/plain": [
       "                              I*t*w\n",
       "2*pi*b*h0*w*(-2*I*C*u + b*w)*e     \n",
       "-----------------------------------\n",
       "                  2                \n",
       "                 u                 "
      ]
     },
     "execution_count": 12,
     "metadata": {},
     "output_type": "execute_result"
    }
   ],
   "source": [
    "Cl_h = simplify(-2*P_h/(rho*u*u))  #Minus because lift is downward in Theo"
   ]
  },
  {
   "cell_type": "code",
   "execution_count": 13,
   "metadata": {
    "collapsed": false
   },
   "outputs": [
    {
     "data": {
      "text/latex": [
       "$$2 \\pi h_{0} k \\left(- 2 i C + k\\right) e^{i t w}$$"
      ],
      "text/plain": [
       "                        I*t*w\n",
       "2*pi*h0*k*(-2*I*C + k)*e     "
      ]
     },
     "execution_count": 13,
     "metadata": {},
     "output_type": "execute_result"
    }
   ],
   "source": [
    "Cl_h = simplify(subs(Cl_h,b*w,u*k))"
   ]
  },
  {
   "cell_type": "code",
   "execution_count": 20,
   "metadata": {
    "collapsed": true
   },
   "outputs": [],
   "source": [
    "#Brilliant"
   ]
  },
  {
   "cell_type": "code",
   "execution_count": 14,
   "metadata": {
    "collapsed": false
   },
   "outputs": [
    {
     "data": {
      "text/latex": [
       "$$- 2 \\pi C b \\rho u \\left(i \\alpha_{0} b w \\left(- a + 0.5\\right) e^{i \\left(\\phi + t w\\right)} + \\alpha_{0} u e^{i \\left(\\phi + t w\\right)}\\right) - b^{2} \\rho \\left(\\pi a \\alpha_{0} b w^{2} e^{i \\left(\\phi + t w\\right)} + i \\pi \\alpha_{0} u w e^{i \\left(\\phi + t w\\right)}\\right)$$"
      ],
      "text/plain": [
       "                 /                         I*(phi + t*w)             I*(phi + \n",
       "- 2*pi*C*b*rho*u*\\I*alpha0*b*w*(-a + 0.5)*e              + alpha0*u*e         \n",
       "\n",
       "t*w)\\    2     /               2  I*(phi + t*w)                    I*(phi + t*\n",
       "    / - b *rho*\\pi*a*alpha0*b*w *e              + I*pi*alpha0*u*w*e           \n",
       "\n",
       "w)\\\n",
       "  /"
      ]
     },
     "execution_count": 14,
     "metadata": {},
     "output_type": "execute_result"
    }
   ],
   "source": [
    "alpha = alpha0*exp(im*(w*t+phi))\n",
    "P_alpha = -rho*b*b*(u*pi*diff(alpha,t,1)-pi*b*a*diff(alpha,t,2)) - 2*rho*u*b*C*pi*(u*alpha+b*(1/2-a)*diff(alpha,t,1))\n"
   ]
  },
  {
   "cell_type": "code",
   "execution_count": 44,
   "metadata": {
    "collapsed": false
   },
   "outputs": [
    {
     "data": {
      "text/latex": [
       "$$\\frac{\\pi \\alpha_{0}}{u^{2}} \\left(- 2 C u \\left(i b w \\left(a - 0.5\\right) - u\\right) + b w \\left(a b w + i u\\right)\\right) e^{i \\left(\\phi + t w\\right)}$$"
      ],
      "text/plain": [
       "                                                              I*(phi + t*w)\n",
       "pi*alpha0*(-2*C*u*(I*b*w*(a - 0.5) - u) + b*w*(a*b*w + I*u))*e             \n",
       "---------------------------------------------------------------------------\n",
       "                                      2                                    \n",
       "                                     u                                     "
      ]
     },
     "execution_count": 44,
     "metadata": {},
     "output_type": "execute_result"
    }
   ],
   "source": [
    "Cl_alpha = simplify(-P_alpha/(rho*u*u*b)) #Minus because lift is downward in Theo"
   ]
  },
  {
   "cell_type": "code",
   "execution_count": 45,
   "metadata": {
    "collapsed": false
   },
   "outputs": [
    {
     "data": {
      "text/latex": [
       "$$- \\pi \\alpha_{0} \\left(2 C \\left(i k \\left(a - 0.5\\right) - 1\\right) - k \\left(a k + i\\right)\\right) e^{i \\left(\\phi + t w\\right)}$$"
      ],
      "text/plain": [
       "                                                    I*(phi + t*w)\n",
       "-pi*alpha0*(2*C*(I*k*(a - 0.5) - 1) - k*(a*k + I))*e             "
      ]
     },
     "execution_count": 45,
     "metadata": {},
     "output_type": "execute_result"
    }
   ],
   "source": [
    "Cl_alpha = simplify(subs(Cl_alpha,b*w,u*k)) "
   ]
  },
  {
   "cell_type": "code",
   "execution_count": 15,
   "metadata": {
    "collapsed": false,
    "scrolled": true
   },
   "outputs": [
    {
     "data": {
      "text/latex": [
       "$$\\beta_{0} e^{i \\left(\\psi + t w\\right)}$$"
      ],
      "text/plain": [
       "       I*(psi + t*w)\n",
       "beta0*e             "
      ]
     },
     "execution_count": 15,
     "metadata": {},
     "output_type": "execute_result"
    }
   ],
   "source": [
    "beta = beta0*exp(im*(w*t+psi))"
   ]
  },
  {
   "cell_type": "code",
   "execution_count": 16,
   "metadata": {
    "collapsed": false
   },
   "outputs": [
    {
     "data": {
      "text/latex": [
       "$$c \\operatorname{acos}{\\left (c \\right )} + \\frac{1}{3} \\left(- c^{2} - 2\\right) \\sqrt{- c^{2} + 1}$$"
      ],
      "text/plain": [
       "                          __________\n",
       "            /   2    \\   /    2     \n",
       "            \\- c  - 2/*\\/  - c  + 1 \n",
       "c*acos(c) + ------------------------\n",
       "                       3            "
      ]
     },
     "execution_count": 16,
     "metadata": {},
     "output_type": "execute_result"
    }
   ],
   "source": [
    "T1 = -(2+c*c)*sqrt(1-c*c)/3+c*acos(c)"
   ]
  },
  {
   "cell_type": "code",
   "execution_count": 17,
   "metadata": {
    "collapsed": false,
    "scrolled": true
   },
   "outputs": [
    {
     "data": {
      "text/latex": [
       "$$c \\sqrt{- c^{2} + 1} - \\operatorname{acos}{\\left (c \\right )}$$"
      ],
      "text/plain": [
       "     __________          \n",
       "    /    2               \n",
       "c*\\/  - c  + 1  - acos(c)"
      ]
     },
     "execution_count": 17,
     "metadata": {},
     "output_type": "execute_result"
    }
   ],
   "source": [
    "T4 = c*sqrt(1-c*c)-acos(c)"
   ]
  },
  {
   "cell_type": "code",
   "execution_count": 18,
   "metadata": {
    "collapsed": false
   },
   "outputs": [
    {
     "data": {
      "text/latex": [
       "$$\\left(- 2 c + 1\\right) \\operatorname{acos}{\\left (c \\right )} + \\left(- c + 2\\right) \\sqrt{- c^{2} + 1}$$"
      ],
      "text/plain": [
       "                                 __________\n",
       "                                /    2     \n",
       "(-2*c + 1)*acos(c) + (-c + 2)*\\/  - c  + 1 "
      ]
     },
     "execution_count": 18,
     "metadata": {},
     "output_type": "execute_result"
    }
   ],
   "source": [
    "T11 = (2-c)*sqrt(1-c*c)+(1-2*c)*acos(c)\n"
   ]
  },
  {
   "cell_type": "code",
   "execution_count": 19,
   "metadata": {
    "collapsed": false
   },
   "outputs": [
    {
     "data": {
      "text/latex": [
       "$$- 2 \\pi C b \\rho u \\left(\\frac{i b \\beta_{0} w}{2 \\pi} \\left(\\left(- 2 c + 1\\right) \\operatorname{acos}{\\left (c \\right )} + \\left(- c + 2\\right) \\sqrt{- c^{2} + 1}\\right) e^{i \\left(\\psi + t w\\right)} + \\frac{\\beta_{0} u}{\\pi} \\left(\\sqrt{- c^{2} + 1} + \\operatorname{acos}{\\left (c \\right )}\\right) e^{i \\left(\\psi + t w\\right)}\\right) - b^{2} \\rho \\left(b \\beta_{0} w^{2} \\left(c \\operatorname{acos}{\\left (c \\right )} + \\frac{1}{3} \\left(- c^{2} - 2\\right) \\sqrt{- c^{2} + 1}\\right) e^{i \\left(\\psi + t w\\right)} - i \\beta_{0} u w \\left(c \\sqrt{- c^{2} + 1} - \\operatorname{acos}{\\left (c \\right )}\\right) e^{i \\left(\\psi + t w\\right)}\\right)$$"
      ],
      "text/plain": [
       "                 /            /                                 __________\\   \n",
       "                 |            |                                /    2     |  I\n",
       "                 |I*b*beta0*w*\\(-2*c + 1)*acos(c) + (-c + 2)*\\/  - c  + 1 /*e \n",
       "- 2*pi*C*b*rho*u*|------------------------------------------------------------\n",
       "                 \\                                  2*pi                      \n",
       "\n",
       "                       /   __________          \\               \\          /   \n",
       "*(psi + t*w)           |  /    2               |  I*(psi + t*w)|          |   \n",
       "               beta0*u*\\\\/  - c  + 1  + acos(c)/*e             |    2     |   \n",
       "------------ + ------------------------------------------------| - b *rho*|b*b\n",
       "                                      pi                       /          \\   \n",
       "\n",
       "        /                          __________\\                                \n",
       "        |            /   2    \\   /    2     |                              / \n",
       "      2 |            \\- c  - 2/*\\/  - c  + 1 |  I*(psi + t*w)               | \n",
       "eta0*w *|c*acos(c) + ------------------------|*e              - I*beta0*u*w*\\c\n",
       "        \\                       3            /                                \n",
       "\n",
       "                                        \\\n",
       "    __________          \\               |\n",
       "   /    2               |  I*(psi + t*w)|\n",
       "*\\/  - c  + 1  - acos(c)/*e             |\n",
       "                                        /"
      ]
     },
     "execution_count": 19,
     "metadata": {},
     "output_type": "execute_result"
    }
   ],
   "source": [
    "T10 = sqrt(1-c*c)+acos(c)\n",
    "P_beta = -rho*b*b*(-u*T4*diff(beta,t,1) - T1*b*diff(beta,t,2)) - 2*rho*u*b*C*pi*(T10*u*beta/pi + (b*T11*diff(beta,t,1)/2)/pi)\n"
   ]
  },
  {
   "cell_type": "code",
   "execution_count": 20,
   "metadata": {
    "collapsed": false
   },
   "outputs": [
    {
     "data": {
      "text/latex": [
       "$$\\frac{\\beta_{0}}{3 u^{2}} \\left(3 C u \\left(- i b w \\left(\\left(c - 2\\right) \\sqrt{- c^{2} + 1} + \\left(2 c - 1\\right) \\operatorname{acos}{\\left (c \\right )}\\right) + 2 u \\left(\\sqrt{- c^{2} + 1} + \\operatorname{acos}{\\left (c \\right )}\\right)\\right) + b w \\left(b w \\left(3 c \\operatorname{acos}{\\left (c \\right )} - \\sqrt{- c^{2} + 1} \\left(c^{2} + 2\\right)\\right) - 3 i u \\left(c \\sqrt{- c^{2} + 1} - \\operatorname{acos}{\\left (c \\right )}\\right)\\right)\\right) e^{i \\left(\\psi + t w\\right)}$$"
      ],
      "text/plain": [
       "      /      /        /           __________                    \\       /   __\n",
       "      |      |        |          /    2                         |       |  /  \n",
       "beta0*\\3*C*u*\\- I*b*w*\\(c - 2)*\\/  - c  + 1  + (2*c - 1)*acos(c)/ + 2*u*\\\\/  -\n",
       "------------------------------------------------------------------------------\n",
       "                                                                              \n",
       "                                                                              \n",
       "\n",
       "________          \\\\       /    /                 __________         \\        \n",
       "  2               ||       |    |                /    2      / 2    \\|        \n",
       " c  + 1  + acos(c)// + b*w*\\b*w*\\3*c*acos(c) - \\/  - c  + 1 *\\c  + 2// - 3*I*u\n",
       "------------------------------------------------------------------------------\n",
       "                        2                                                     \n",
       "                     3*u                                                      \n",
       "\n",
       " /     __________          \\\\\\               \n",
       " |    /    2               |||  I*(psi + t*w)\n",
       "*\\c*\\/  - c  + 1  - acos(c)///*e             \n",
       "---------------------------------------------\n",
       "                                             \n",
       "                                             "
      ]
     },
     "execution_count": 20,
     "metadata": {},
     "output_type": "execute_result"
    }
   ],
   "source": [
    "Cl_beta = simplify(-P_beta/(rho*u*u*b)) #Minus because lift is downward in Theo"
   ]
  },
  {
   "cell_type": "code",
   "execution_count": 21,
   "metadata": {
    "collapsed": false
   },
   "outputs": [
    {
     "data": {
      "text/latex": [
       "$$\\frac{\\beta_{0}}{3} \\left(3 C \\left(- i k \\left(\\left(c - 2\\right) \\sqrt{- c^{2} + 1} + \\left(2 c - 1\\right) \\operatorname{acos}{\\left (c \\right )}\\right) + 2 \\sqrt{- c^{2} + 1} + 2 \\operatorname{acos}{\\left (c \\right )}\\right) + k \\left(k \\left(3 c \\operatorname{acos}{\\left (c \\right )} - \\sqrt{- c^{2} + 1} \\left(c^{2} + 2\\right)\\right) - 3 i \\left(c \\sqrt{- c^{2} + 1} - \\operatorname{acos}{\\left (c \\right )}\\right)\\right)\\right) e^{i \\left(\\psi + t w\\right)}$$"
      ],
      "text/plain": [
       "      /    /      /           __________                    \\        _________\n",
       "      |    |      |          /    2                         |       /    2    \n",
       "beta0*\\3*C*\\- I*k*\\(c - 2)*\\/  - c  + 1  + (2*c - 1)*acos(c)/ + 2*\\/  - c  + 1\n",
       "------------------------------------------------------------------------------\n",
       "                                                                              \n",
       "\n",
       "_            \\     /  /                 __________         \\       /     _____\n",
       "             |     |  |                /    2      / 2    \\|       |    /    2\n",
       "  + 2*acos(c)/ + k*\\k*\\3*c*acos(c) - \\/  - c  + 1 *\\c  + 2// - 3*I*\\c*\\/  - c \n",
       "------------------------------------------------------------------------------\n",
       "                3                                                             \n",
       "\n",
       "_____          \\\\\\               \n",
       "               |||  I*(psi + t*w)\n",
       " + 1  - acos(c)///*e             \n",
       "---------------------------------\n",
       "                                 "
      ]
     },
     "execution_count": 21,
     "metadata": {},
     "output_type": "execute_result"
    }
   ],
   "source": [
    "Cl_beta = simplify(subs(Cl_beta,b*w,u*k)) "
   ]
  },
  {
   "cell_type": "code",
   "execution_count": 77,
   "metadata": {
    "collapsed": true
   },
   "outputs": [],
   "source": [
    "#Lets also express it in terms of the Ts"
   ]
  },
  {
   "cell_type": "code",
   "execution_count": 78,
   "metadata": {
    "collapsed": false
   },
   "outputs": [
    {
     "data": {
      "text/plain": [
       "(t1,t4,t10,t11)"
      ]
     },
     "execution_count": 78,
     "metadata": {},
     "output_type": "execute_result"
    }
   ],
   "source": [
    "@vars t1 t4 t10 t11"
   ]
  },
  {
   "cell_type": "code",
   "execution_count": 4,
   "metadata": {
    "collapsed": false
   },
   "outputs": [
    {
     "ename": "LoadError",
     "evalue": "LoadError: UndefVarError: rho not defined\nwhile loading In[4], in expression starting on line 1",
     "output_type": "error",
     "traceback": [
      "LoadError: UndefVarError: rho not defined\nwhile loading In[4], in expression starting on line 1",
      ""
     ]
    }
   ],
   "source": [
    "P_beta = -rho*b*b*(-u*t4*diff(beta,t,1) - t1*b*diff(beta,t,2)) - 2*rho*u*b*C*pi*(t10*u*beta/pi + (b*t11*diff(beta,t,1)/2)/pi)\n"
   ]
  },
  {
   "cell_type": "code",
   "execution_count": 80,
   "metadata": {
    "collapsed": false
   },
   "outputs": [
    {
     "data": {
      "text/latex": [
       "$$\\frac{\\beta_{0}}{u^{2}} \\left(C u \\left(i b t_{11} w + 2 t_{10} u\\right) + b w \\left(b t_{1} w - i t_{4} u\\right)\\right) e^{i \\left(\\psi + t w\\right)}$$"
      ],
      "text/plain": [
       "                                                           I*(psi + t*w)\n",
       "beta0*(C*u*(I*b*t11*w + 2*t10*u) + b*w*(b*t1*w - I*t4*u))*e             \n",
       "------------------------------------------------------------------------\n",
       "                                    2                                   \n",
       "                                   u                                    "
      ]
     },
     "execution_count": 80,
     "metadata": {},
     "output_type": "execute_result"
    }
   ],
   "source": [
    "Cl_beta = simplify(-P_beta/(rho*u*u*b)) #Minus because lift is downward in Theo"
   ]
  },
  {
   "cell_type": "code",
   "execution_count": 81,
   "metadata": {
    "collapsed": false
   },
   "outputs": [
    {
     "data": {
      "text/latex": [
       "$$\\beta_{0} \\left(C \\left(i k t_{11} + 2 t_{10}\\right) + k \\left(k t_{1} - i t_{4}\\right)\\right) e^{i \\left(\\psi + t w\\right)}$$"
      ],
      "text/plain": [
       "                                               I*(psi + t*w)\n",
       "beta0*(C*(I*k*t11 + 2*t10) + k*(k*t1 - I*t4))*e             "
      ]
     },
     "execution_count": 81,
     "metadata": {},
     "output_type": "execute_result"
    }
   ],
   "source": [
    "Cl_beta = simplify(subs(Cl_beta,b*w,u*k)) "
   ]
  },
  {
   "cell_type": "code",
   "execution_count": 82,
   "metadata": {
    "collapsed": false
   },
   "outputs": [
    {
     "name": "stdout",
     "output_type": "stream",
     "text": [
      "search: lambdify LambdaStaticData\n",
      "\n"
     ]
    },
    {
     "data": {
      "text/latex": [
       "\\texttt{lambidfy(ex::Sym,[vars])}: Lambidfy an expression returning a native Julia function.  SymPy's \\href{http://docs.sympy.org/dev/modules/utilities/lambdify.html}{lambdify} function translates code into Python, this translates an expression into a \\texttt{Julia} function.\n",
       "Evaluating the function does not call into SymPy, so should be much faster.\n",
       "The optional \\texttt{[vars]} specifies the order of the variables when more than one is in \\texttt{ex}. The default is to use the ordering of \\texttt{free_symbols(ex)}.\n",
       "The keyword aruguments allow for the passing of expressions that are not covered by the default ones. These are dictionaries whose keys are strings with a SymPy name and whose values are symbols representing \\texttt{Julia} values. For examples \\texttt{Dict(\"sin\"=>:sin)} could be used to map a function, were that not already done.\n",
       "Not all expressions can be lambdified. If not, an error is thrown.\n",
       "Some simple examples\n",
       "\\begin{verbatim}\n",
       "@vars x y\n",
       "lambdify(x^2)(2)       # 4\n",
       "lambdify(x*y^2)(2,3)   # 2*3^2 using default ordering\n",
       "lambdify(x*y^2, [y, x])(2,3) # 3*2^2, as function is (y,x) -> x*y^2 equivalent in Julia\n",
       "\\end{verbatim}\n",
       "Compare times\n",
       "\\begin{verbatim}\n",
       "xs = rand(1000)\n",
       "@vars x\n",
       "ex = sin(x)*cos(2x) * exp(x^2/2)\n",
       "map(u -> N(ex(u)), xs)   # 3.435850 seconds\n",
       "SymPy.mapsubs(ex, x, xs) # 0.008569 seconds (does calculuations in Python)\n",
       "map(lambdify(ex), xs)    # 0.007085 seconds\n",
       "\\end{verbatim}\n",
       "This is a \\emph{temporary} solution. The proper fix is to do this in SymPy.\n"
      ],
      "text/markdown": [
       "`lambidfy(ex::Sym,[vars])`: Lambidfy an expression returning a native Julia function.  SymPy's [lambdify](http://docs.sympy.org/dev/modules/utilities/lambdify.html) function translates code into Python, this translates an expression into a `Julia` function.\n",
       "\n",
       "Evaluating the function does not call into SymPy, so should be much faster.\n",
       "\n",
       "The optional `[vars]` specifies the order of the variables when more than one is in `ex`. The default is to use the ordering of `free_symbols(ex)`.\n",
       "\n",
       "The keyword aruguments allow for the passing of expressions that are not covered by the default ones. These are dictionaries whose keys are strings with a SymPy name and whose values are symbols representing `Julia` values. For examples `Dict(\"sin\"=>:sin)` could be used to map a function, were that not already done.\n",
       "\n",
       "Not all expressions can be lambdified. If not, an error is thrown.\n",
       "\n",
       "Some simple examples\n",
       "\n",
       "```\n",
       "@vars x y\n",
       "lambdify(x^2)(2)       # 4\n",
       "lambdify(x*y^2)(2,3)   # 2*3^2 using default ordering\n",
       "lambdify(x*y^2, [y, x])(2,3) # 3*2^2, as function is (y,x) -> x*y^2 equivalent in Julia\n",
       "```\n",
       "\n",
       "Compare times\n",
       "\n",
       "```\n",
       "xs = rand(1000)\n",
       "@vars x\n",
       "ex = sin(x)*cos(2x) * exp(x^2/2)\n",
       "map(u -> N(ex(u)), xs)   # 3.435850 seconds\n",
       "SymPy.mapsubs(ex, x, xs) # 0.008569 seconds (does calculuations in Python)\n",
       "map(lambdify(ex), xs)    # 0.007085 seconds\n",
       "```\n",
       "\n",
       "This is a *temporary* solution. The proper fix is to do this in SymPy.\n"
      ],
      "text/plain": [
       "`lambidfy(ex::Sym,[vars])`: Lambidfy an expression returning a native Julia function.  SymPy's [lambdify](http://docs.sympy.org/dev/modules/utilities/lambdify.html) function translates code into Python, this translates an expression into a `Julia` function.\n",
       "\n",
       "Evaluating the function does not call into SymPy, so should be much faster.\n",
       "\n",
       "The optional `[vars]` specifies the order of the variables when more than one is in `ex`. The default is to use the ordering of `free_symbols(ex)`.\n",
       "\n",
       "The keyword aruguments allow for the passing of expressions that are not covered by the default ones. These are dictionaries whose keys are strings with a SymPy name and whose values are symbols representing `Julia` values. For examples `Dict(\"sin\"=>:sin)` could be used to map a function, were that not already done.\n",
       "\n",
       "Not all expressions can be lambdified. If not, an error is thrown.\n",
       "\n",
       "Some simple examples\n",
       "\n",
       "```\n",
       "@vars x y\n",
       "lambdify(x^2)(2)       # 4\n",
       "lambdify(x*y^2)(2,3)   # 2*3^2 using default ordering\n",
       "lambdify(x*y^2, [y, x])(2,3) # 3*2^2, as function is (y,x) -> x*y^2 equivalent in Julia\n",
       "```\n",
       "\n",
       "Compare times\n",
       "\n",
       "```\n",
       "xs = rand(1000)\n",
       "@vars x\n",
       "ex = sin(x)*cos(2x) * exp(x^2/2)\n",
       "map(u -> N(ex(u)), xs)   # 3.435850 seconds\n",
       "SymPy.mapsubs(ex, x, xs) # 0.008569 seconds (does calculuations in Python)\n",
       "map(lambdify(ex), xs)    # 0.007085 seconds\n",
       "```\n",
       "\n",
       "This is a *temporary* solution. The proper fix is to do this in SymPy.\n"
      ]
     },
     "execution_count": 82,
     "metadata": {},
     "output_type": "execute_result"
    }
   ],
   "source": [
    "?lambdify\n"
   ]
  },
  {
   "cell_type": "code",
   "execution_count": 3,
   "metadata": {
    "collapsed": false
   },
   "outputs": [
    {
     "ename": "LoadError",
     "evalue": "LoadError: UndefVarError: Cl_beta not defined\nwhile loading In[3], in expression starting on line 1",
     "output_type": "error",
     "traceback": [
      "LoadError: UndefVarError: Cl_beta not defined\nwhile loading In[3], in expression starting on line 1",
      ""
     ]
    }
   ],
   "source": [
    "Cl_beta"
   ]
  },
  {
   "cell_type": "code",
   "execution_count": 87,
   "metadata": {
    "collapsed": true
   },
   "outputs": [],
   "source": [
    "#I'll bring it back to the form without t*s"
   ]
  },
  {
   "cell_type": "code",
   "execution_count": 2,
   "metadata": {
    "collapsed": false
   },
   "outputs": [
    {
     "ename": "LoadError",
     "evalue": "LoadError: UndefVarError: Cl_beta not defined\nwhile loading In[2], in expression starting on line 1",
     "output_type": "error",
     "traceback": [
      "LoadError: UndefVarError: Cl_beta not defined\nwhile loading In[2], in expression starting on line 1",
      ""
     ]
    }
   ],
   "source": [
    "Cl_beta"
   ]
  },
  {
   "cell_type": "code",
   "execution_count": 89,
   "metadata": {
    "collapsed": true
   },
   "outputs": [],
   "source": [
    "#Try flap only case"
   ]
  },
  {
   "cell_type": "code",
   "execution_count": 22,
   "metadata": {
    "collapsed": false
   },
   "outputs": [
    {
     "data": {
      "text/latex": [
       "$$0.0290888208665722 \\left(-5.83447826983362 + 7.24123937329862 i + 3 \\left(0.503795535782272 - 0.031014581557946 i\\right) \\left(3.82644590996207 + 5.10521975530927 i\\right)\\right) e^{7.86 i t}$$"
      ],
      "text/plain": [
       "                                                                              \n",
       "0.0290888208665722*(-5.83447826983362 + 7.24123937329862*I + 3*(0.503795535782\n",
       "\n",
       "                                                                     7.86*I*t\n",
       "272 - 0.031014581557946*I)*(3.82644590996207 + 5.10521975530927*I))*e        "
      ]
     },
     "execution_count": 22,
     "metadata": {},
     "output_type": "execute_result"
    }
   ],
   "source": [
    "step1 = Cl_beta(beta0=>5*pi/180, k=>3.93, c=>0.5, psi=>0,  w=>3.93*2, C=>besselh(1,2,3.93)./(besselh(1,2,3.93) + im*besselh(0,2,3.93))) "
   ]
  },
  {
   "cell_type": "code",
   "execution_count": 32,
   "metadata": {
    "collapsed": false
   },
   "outputs": [],
   "source": [
    "clr = zeros(100)\n",
    "cli = zeros(100)\n",
    "time = zeros(100)\n",
    "for i = 1:100\n",
    "    time[i] = i*0.1\n",
    "    clr[i] = real(subs(step1,t,time[i]))\n",
    "    cli[i] = imag(subs(step1,t,time[i]))\n",
    "end"
   ]
  },
  {
   "cell_type": "code",
   "execution_count": 33,
   "metadata": {
    "collapsed": false
   },
   "outputs": [
    {
     "data": {
      "text/plain": [
       "100-element Array{Float64,1}:\n",
       " -0.2918    \n",
       " -0.424745  \n",
       " -0.30852   \n",
       " -0.0113044 \n",
       "  0.292542  \n",
       "  0.424773  \n",
       "  0.307815  \n",
       "  0.0102819 \n",
       " -0.293283  \n",
       " -0.424797  \n",
       " -0.307109  \n",
       " -0.00925924\n",
       "  0.294023  \n",
       "  ⋮         \n",
       " -0.307741  \n",
       " -0.424775  \n",
       " -0.29262   \n",
       "  0.0111968 \n",
       "  0.308446  \n",
       "  0.424748  \n",
       "  0.291878  \n",
       " -0.0122193 \n",
       " -0.309148  \n",
       " -0.424719  \n",
       " -0.291134  \n",
       "  0.0132418 "
      ]
     },
     "execution_count": 33,
     "metadata": {},
     "output_type": "execute_result"
    }
   ],
   "source": [
    "clr"
   ]
  },
  {
   "cell_type": "code",
   "execution_count": 28,
   "metadata": {
    "collapsed": false
   },
   "outputs": [],
   "source": [
    "using PyPlot\n"
   ]
  },
  {
   "cell_type": "code",
   "execution_count": 35,
   "metadata": {
    "collapsed": false
   },
   "outputs": [
    {
     "data": {
      "image/png": "[encoded data removed]",
      "text/plain": [
       "PyPlot.Figure(PyObject <matplotlib.figure.Figure object at 0x7f468268a290>)"
      ]
     },
     "metadata": {},
     "output_type": "display_data"
    },
    {
     "data": {
      "text/plain": [
       "1-element Array{Any,1}:\n",
       " PyObject <matplotlib.lines.Line2D object at 0x7f46825f3690>"
      ]
     },
     "execution_count": 35,
     "metadata": {},
     "output_type": "execute_result"
    }
   ],
   "source": [
    "plot(time,cli)"
   ]
  },
  {
   "cell_type": "code",
   "execution_count": 114,
   "metadata": {
    "collapsed": true
   },
   "outputs": [],
   "source": [
    "#Let's do Cm_alpha and Cm_beta as well\n"
   ]
  },
  {
   "cell_type": "code",
   "execution_count": 115,
   "metadata": {
    "collapsed": false
   },
   "outputs": [
    {
     "data": {
      "text/latex": [
       "$$\\left(c \\sqrt{- c^{2} + 1} - \\operatorname{acos}{\\left (c \\right )}\\right) \\left(2 \\left(- 2 c + 1\\right) \\operatorname{acos}{\\left (c \\right )} + \\left(- c + 2\\right) \\sqrt{- c^{2} + 1} + \\left(c + 2\\right) \\sqrt{- c^{2} + 1}\\right)$$"
      ],
      "text/plain": [
       "/     __________          \\ /                                   __________    \n",
       "|    /    2               | |                                  /    2         \n",
       "\\c*\\/  - c  + 1  - acos(c)/*\\2*(-2*c + 1)*acos(c) + (-c + 2)*\\/  - c  + 1  + (\n",
       "\n",
       "          __________\\\n",
       "         /    2     |\n",
       "c + 2)*\\/  - c  + 1 /"
      ]
     },
     "execution_count": 115,
     "metadata": {},
     "output_type": "execute_result"
    }
   ],
   "source": [
    "T12 = (2+c)*sqrt(1-c*c)+(1-2*c)*acos(c)\n",
    "T2 = T4*(T11+T12)"
   ]
  },
  {
   "cell_type": "code",
   "execution_count": 116,
   "metadata": {
    "collapsed": false
   },
   "outputs": [
    {
     "data": {
      "text/latex": [
       "$$\\frac{c}{4} \\sqrt{- c^{2} + 1} \\left(2 c^{2} + 7\\right) \\operatorname{acos}{\\left (c \\right )} + \\frac{1}{8} \\left(c^{2} - 1\\right) \\left(5 c^{2} + 4\\right) - \\left(c^{2} + 0.125\\right) \\operatorname{acos}^{2}{\\left (c \\right )}$$"
      ],
      "text/plain": [
       "     __________                                                               \n",
       "    /    2      /   2    \\           / 2    \\ /   2    \\                      \n",
       "c*\\/  - c  + 1 *\\2*c  + 7/*acos(c)   \\c  - 1/*\\5*c  + 4/   / 2        \\     2 \n",
       "---------------------------------- + ------------------- - \\c  + 0.125/*acos (\n",
       "                4                             8                               \n",
       "\n",
       "  \n",
       "  \n",
       "  \n",
       "c)\n",
       "  "
      ]
     },
     "execution_count": 116,
     "metadata": {},
     "output_type": "execute_result"
    }
   ],
   "source": [
    "T3 = -(1-c*c)*(5*c*c+4)/8+c*(7+2*c*c)*sqrt(1-c*c)*acos(c)/4-(1/8+c*c)*acos(c)*acos(c)"
   ]
  },
  {
   "cell_type": "code",
   "execution_count": 118,
   "metadata": {
    "collapsed": false
   },
   "outputs": [
    {
     "data": {
      "text/latex": [
       "$$c^{2} + 2 c \\sqrt{- c^{2} + 1} \\operatorname{acos}{\\left (c \\right )} - \\operatorname{acos}^{2}{\\left (c \\right )} - 1$$"
      ],
      "text/plain": [
       "            __________                       \n",
       " 2         /    2                    2       \n",
       "c  + 2*c*\\/  - c  + 1 *acos(c) - acos (c) - 1"
      ]
     },
     "execution_count": 118,
     "metadata": {},
     "output_type": "execute_result"
    }
   ],
   "source": [
    "T5 = -(1-c*c)+2*c*sqrt(1-c*c)*acos(c)-acos(c)*acos(c)"
   ]
  },
  {
   "cell_type": "code",
   "execution_count": 119,
   "metadata": {
    "collapsed": false
   },
   "outputs": [
    {
     "data": {
      "text/latex": [
       "$$\\left(c \\sqrt{- c^{2} + 1} - \\operatorname{acos}{\\left (c \\right )}\\right) \\left(2 \\left(- 2 c + 1\\right) \\operatorname{acos}{\\left (c \\right )} + \\left(- c + 2\\right) \\sqrt{- c^{2} + 1} + \\left(c + 2\\right) \\sqrt{- c^{2} + 1}\\right)$$"
      ],
      "text/plain": [
       "/     __________          \\ /                                   __________    \n",
       "|    /    2               | |                                  /    2         \n",
       "\\c*\\/  - c  + 1  - acos(c)/*\\2*(-2*c + 1)*acos(c) + (-c + 2)*\\/  - c  + 1  + (\n",
       "\n",
       "          __________\\\n",
       "         /    2     |\n",
       "c + 2)*\\/  - c  + 1 /"
      ]
     },
     "execution_count": 119,
     "metadata": {},
     "output_type": "execute_result"
    }
   ],
   "source": [
    "T6 = T2"
   ]
  },
  {
   "cell_type": "code",
   "execution_count": 120,
   "metadata": {
    "collapsed": false
   },
   "outputs": [
    {
     "data": {
      "text/latex": [
       "$$\\frac{c}{8} \\sqrt{- c^{2} + 1} \\left(2 c^{2} + 7\\right) - \\left(c^{2} + 0.125\\right) \\operatorname{acos}{\\left (c \\right )}$$"
      ],
      "text/plain": [
       "     __________                                  \n",
       "    /    2      /   2    \\                       \n",
       "c*\\/  - c  + 1 *\\2*c  + 7/   / 2        \\        \n",
       "-------------------------- - \\c  + 0.125/*acos(c)\n",
       "            8                                    "
      ]
     },
     "execution_count": 120,
     "metadata": {},
     "output_type": "execute_result"
    }
   ],
   "source": [
    "T7 = c*(7+2*c*c)*sqrt(1-c*c)/8-(1/8+c*c)*acos(c)"
   ]
  },
  {
   "cell_type": "code",
   "execution_count": 121,
   "metadata": {
    "collapsed": false
   },
   "outputs": [
    {
     "data": {
      "text/latex": [
       "$$c \\operatorname{acos}{\\left (c \\right )} + \\frac{1}{3} \\left(- 2 c^{2} - 1\\right) \\sqrt{- c^{2} + 1}$$"
      ],
      "text/plain": [
       "                            __________\n",
       "            /     2    \\   /    2     \n",
       "            \\- 2*c  - 1/*\\/  - c  + 1 \n",
       "c*acos(c) + --------------------------\n",
       "                        3             "
      ]
     },
     "execution_count": 121,
     "metadata": {},
     "output_type": "execute_result"
    }
   ],
   "source": [
    "T8 = -(1+2*c*c)*sqrt(1-c*c)/3+c*acos(c)"
   ]
  },
  {
   "cell_type": "code",
   "execution_count": 122,
   "metadata": {
    "collapsed": false
   },
   "outputs": [
    {
     "data": {
      "text/latex": [
       "$$\\frac{a}{2} \\left(c \\sqrt{- c^{2} + 1} - \\operatorname{acos}{\\left (c \\right )}\\right) + \\frac{1}{6} \\left(- c^{2} + 1\\right)^{1.5}$$"
      ],
      "text/plain": [
       "  /     __________          \\             1.5\n",
       "  |    /    2               |   /   2    \\   \n",
       "a*\\c*\\/  - c  + 1  - acos(c)/   \\- c  + 1/   \n",
       "----------------------------- + -------------\n",
       "              2                       6      "
      ]
     },
     "execution_count": 122,
     "metadata": {},
     "output_type": "execute_result"
    }
   ],
   "source": [
    "T9 = ((1-c*c)^(3/2)/3+a*T4)/2"
   ]
  },
  {
   "cell_type": "code",
   "execution_count": 123,
   "metadata": {
    "collapsed": false
   },
   "outputs": [
    {
     "data": {
      "text/latex": [
       "$$2 c \\sqrt{- c^{2} + 1} + \\left(- 2 c + 1\\right) \\operatorname{acos}{\\left (c \\right )} + \\left(- c + 2\\right) \\sqrt{- c^{2} + 1} - 2 \\operatorname{acos}{\\left (c \\right )}$$"
      ],
      "text/plain": [
       "       __________                                    __________            \n",
       "      /    2                                        /    2                 \n",
       "2*c*\\/  - c  + 1  + (-2*c + 1)*acos(c) + (-c + 2)*\\/  - c  + 1  - 2*acos(c)"
      ]
     },
     "execution_count": 123,
     "metadata": {},
     "output_type": "execute_result"
    }
   ],
   "source": [
    "T12 = T11+2*T4"
   ]
  },
  {
   "cell_type": "code",
   "execution_count": 124,
   "metadata": {
    "collapsed": false
   },
   "outputs": [
    {
     "data": {
      "text/latex": [
       "$$- \\frac{c}{16} \\sqrt{- c^{2} + 1} \\left(2 c^{2} + 7\\right) - \\frac{1}{2} \\left(- a + c\\right) \\left(c \\operatorname{acos}{\\left (c \\right )} + \\frac{1}{3} \\left(- c^{2} - 2\\right) \\sqrt{- c^{2} + 1}\\right) + \\frac{1}{2} \\left(c^{2} + 0.125\\right) \\operatorname{acos}{\\left (c \\right )}$$"
      ],
      "text/plain": [
       "                                        /                          __________\\\n",
       "                                        |            /   2    \\   /    2     |\n",
       "       __________                       |            \\- c  - 2/*\\/  - c  + 1 |\n",
       "      /    2      /   2    \\   (-a + c)*|c*acos(c) + ------------------------|\n",
       "  c*\\/  - c  + 1 *\\2*c  + 7/            \\                       3            /\n",
       "- -------------------------- - -----------------------------------------------\n",
       "              16                                      2                       \n",
       "\n",
       "                       \n",
       "                       \n",
       "                       \n",
       "   / 2        \\        \n",
       "   \\c  + 0.125/*acos(c)\n",
       " + --------------------\n",
       "            2          "
      ]
     },
     "execution_count": 124,
     "metadata": {},
     "output_type": "execute_result"
    }
   ],
   "source": [
    "T13 = -(T7+(c-a)*T1)/2"
   ]
  },
  {
   "cell_type": "code",
   "execution_count": 125,
   "metadata": {
    "collapsed": false
   },
   "outputs": [
    {
     "data": {
      "text/latex": [
       "$$\\frac{a c}{2} + 0.0625$$"
      ],
      "text/plain": [
       "a*c         \n",
       "--- + 0.0625\n",
       " 2          "
      ]
     },
     "execution_count": 125,
     "metadata": {},
     "output_type": "execute_result"
    }
   ],
   "source": [
    "T14 = 1/16+a*c/2"
   ]
  },
  {
   "cell_type": "code",
   "execution_count": 126,
   "metadata": {
    "collapsed": false
   },
   "outputs": [
    {
     "data": {
      "text/latex": [
       "$$c \\sqrt{- c^{2} + 1} + \\sqrt{- c^{2} + 1}$$"
      ],
      "text/plain": [
       "     __________      __________\n",
       "    /    2          /    2     \n",
       "c*\\/  - c  + 1  + \\/  - c  + 1 "
      ]
     },
     "execution_count": 126,
     "metadata": {},
     "output_type": "execute_result"
    }
   ],
   "source": [
    "T15 = T4 + T10"
   ]
  },
  {
   "cell_type": "code",
   "execution_count": 127,
   "metadata": {
    "collapsed": false
   },
   "outputs": [
    {
     "data": {
      "text/latex": [
       "$$- \\left(- a + c\\right) \\left(c \\sqrt{- c^{2} + 1} - \\operatorname{acos}{\\left (c \\right )}\\right) + \\frac{1}{2} \\left(- 2 c + 1\\right) \\operatorname{acos}{\\left (c \\right )} + \\frac{1}{2} \\left(- c + 2\\right) \\sqrt{- c^{2} + 1} - \\frac{1}{3} \\left(- 2 c^{2} - 1\\right) \\sqrt{- c^{2} + 1} + \\frac{1}{3} \\left(- c^{2} - 2\\right) \\sqrt{- c^{2} + 1}$$"
      ],
      "text/plain": [
       "                                                                          ____\n",
       "           /     __________          \\                                   /    \n",
       "           |    /    2               |   (-2*c + 1)*acos(c)   (-c + 2)*\\/  - c\n",
       "- (-a + c)*\\c*\\/  - c  + 1  - acos(c)/ + ------------------ + ----------------\n",
       "                                                 2                      2     \n",
       "\n",
       "______                   __________                 __________\n",
       "2        /     2    \\   /    2        /   2    \\   /    2     \n",
       "  + 1    \\- 2*c  - 1/*\\/  - c  + 1    \\- c  - 2/*\\/  - c  + 1 \n",
       "------ - -------------------------- + ------------------------\n",
       "                     3                           3            "
      ]
     },
     "execution_count": 127,
     "metadata": {},
     "output_type": "execute_result"
    }
   ],
   "source": [
    "T16 = T1 - T8 -(c-a)*T4+T11/2"
   ]
  },
  {
   "cell_type": "code",
   "execution_count": 128,
   "metadata": {
    "collapsed": false
   },
   "outputs": [
    {
     "data": {
      "text/latex": [
       "$$- a \\left(c \\sqrt{- c^{2} + 1} - \\operatorname{acos}{\\left (c \\right )}\\right) - c \\operatorname{acos}{\\left (c \\right )} + \\left(a - 0.5\\right) \\left(c \\sqrt{- c^{2} + 1} - \\operatorname{acos}{\\left (c \\right )}\\right) - \\frac{1}{3} \\left(- c^{2} - 2\\right) \\sqrt{- c^{2} + 1} - \\frac{1}{3} \\left(- c^{2} + 1\\right)^{1.5}$$"
      ],
      "text/plain": [
       "                                                                              \n",
       "    /     __________          \\                         /     __________      \n",
       "    |    /    2               |                         |    /    2           \n",
       "- a*\\c*\\/  - c  + 1  - acos(c)/ - c*acos(c) + (a - 0.5)*\\c*\\/  - c  + 1  - aco\n",
       "                                                                              \n",
       "\n",
       "                      __________             1.5\n",
       "    \\   /   2    \\   /    2        /   2    \\   \n",
       "    |   \\- c  - 2/*\\/  - c  + 1    \\- c  + 1/   \n",
       "s(c)/ - ------------------------ - -------------\n",
       "                   3                     3      "
      ]
     },
     "execution_count": 128,
     "metadata": {},
     "output_type": "execute_result"
    }
   ],
   "source": [
    "T17 = -2*T9 - T1 + (a-1/2)*T4"
   ]
  },
  {
   "cell_type": "code",
   "execution_count": 129,
   "metadata": {
    "collapsed": false
   },
   "outputs": [
    {
     "data": {
      "text/latex": [
       "$$c^{2} + 2 c \\sqrt{- c^{2} + 1} \\operatorname{acos}{\\left (c \\right )} - \\left(c \\sqrt{- c^{2} + 1} - \\operatorname{acos}{\\left (c \\right )}\\right) \\left(\\sqrt{- c^{2} + 1} + \\operatorname{acos}{\\left (c \\right )}\\right) - \\operatorname{acos}^{2}{\\left (c \\right )} - 1$$"
      ],
      "text/plain": [
       "            __________           /     __________          \\ /   __________   \n",
       " 2         /    2                |    /    2               | |  /    2        \n",
       "c  + 2*c*\\/  - c  + 1 *acos(c) - \\c*\\/  - c  + 1  - acos(c)/*\\\\/  - c  + 1  + \n",
       "\n",
       "       \\               \n",
       "       |       2       \n",
       "acos(c)/ - acos (c) - 1"
      ]
     },
     "execution_count": 129,
     "metadata": {},
     "output_type": "execute_result"
    }
   ],
   "source": [
    "T18 = T5 - T4*T10"
   ]
  },
  {
   "cell_type": "code",
   "execution_count": 130,
   "metadata": {
    "collapsed": false
   },
   "outputs": [
    {
     "data": {
      "text/latex": [
       "$$\\left(c \\sqrt{- c^{2} + 1} - \\operatorname{acos}{\\left (c \\right )}\\right) \\left(\\left(- 2 c + 1\\right) \\operatorname{acos}{\\left (c \\right )} + \\left(- c + 2\\right) \\sqrt{- c^{2} + 1}\\right)$$"
      ],
      "text/plain": [
       "/     __________          \\ /                                 __________\\\n",
       "|    /    2               | |                                /    2     |\n",
       "\\c*\\/  - c  + 1  - acos(c)/*\\(-2*c + 1)*acos(c) + (-c + 2)*\\/  - c  + 1 /"
      ]
     },
     "execution_count": 130,
     "metadata": {},
     "output_type": "execute_result"
    }
   ],
   "source": [
    "T19 = T4*T11"
   ]
  },
  {
   "cell_type": "code",
   "execution_count": 131,
   "metadata": {
    "collapsed": false
   },
   "outputs": [
    {
     "data": {
      "text/latex": [
       "$$- \\sqrt{- c^{2} + 1} + \\operatorname{acos}{\\left (c \\right )}$$"
      ],
      "text/plain": [
       "     __________          \n",
       "    /    2               \n",
       "- \\/  - c  + 1  + acos(c)"
      ]
     },
     "execution_count": 131,
     "metadata": {},
     "output_type": "execute_result"
    }
   ],
   "source": [
    "T20 = T10 - 2*sqrt(1-c*c)"
   ]
  },
  {
   "cell_type": "code",
   "execution_count": 132,
   "metadata": {
    "collapsed": false
   },
   "outputs": [
    {
     "data": {
      "text/latex": [
       "$$- 2 i \\pi C b^{2} h_{0} \\rho u w \\left(a + 0.5\\right) e^{i t w} + \\pi a b^{3} h_{0} \\rho w^{2} e^{i t w}$$"
      ],
      "text/plain": [
       "            2                       I*t*w         3         2  I*t*w\n",
       "- 2*I*pi*C*b *h0*rho*u*w*(a + 0.5)*e      + pi*a*b *h0*rho*w *e     "
      ]
     },
     "execution_count": 132,
     "metadata": {},
     "output_type": "execute_result"
    }
   ],
   "source": [
    "M_alpha_h = -rho*b*b*(-a*pi*b*diff(h,t,2))+2*rho*u*b*b*pi*(a+1/2)*C*diff(h,t,1)"
   ]
  },
  {
   "cell_type": "code",
   "execution_count": 136,
   "metadata": {
    "collapsed": false
   },
   "outputs": [
    {
     "data": {
      "text/latex": [
       "$$\\frac{\\pi b}{u^{2}} h_{0} w \\left(- 2 i C u \\left(a + 0.5\\right) + a b w\\right) e^{i t w}$$"
      ],
      "text/plain": [
       "                                        I*t*w\n",
       "pi*b*h0*w*(-2*I*C*u*(a + 0.5) + a*b*w)*e     \n",
       "---------------------------------------------\n",
       "                       2                     \n",
       "                      u                      "
      ]
     },
     "execution_count": 136,
     "metadata": {},
     "output_type": "execute_result"
    }
   ],
   "source": [
    "Cm_alpha_h = simplify(M_alpha_h/(rho*u*u*b)) "
   ]
  },
  {
   "cell_type": "code",
   "execution_count": 137,
   "metadata": {
    "collapsed": false
   },
   "outputs": [
    {
     "data": {
      "text/latex": [
       "$$- \\pi h_{0} k \\left(2 i C \\left(a + 0.5\\right) - a k\\right) e^{i t w}$$"
      ],
      "text/plain": [
       "                                  I*t*w\n",
       "-pi*h0*k*(2*I*C*(a + 0.5) - a*k)*e     "
      ]
     },
     "execution_count": 137,
     "metadata": {},
     "output_type": "execute_result"
    }
   ],
   "source": [
    "Cm_alpha_h = simplify(subs(Cm_alpha_h,b*w,u*k)) "
   ]
  },
  {
   "cell_type": "code",
   "execution_count": 142,
   "metadata": {
    "collapsed": false
   },
   "outputs": [
    {
     "data": {
      "text/latex": [
       "$$2 \\pi C b^{2} \\rho u \\left(a + 0.5\\right) \\left(i \\alpha_{0} b w \\left(- a - 1\\right) e^{i \\left(\\phi + t w\\right)} + \\alpha_{0} u e^{i \\left(\\phi + t w\\right)}\\right) - b^{2} \\rho \\left(- \\pi \\alpha_{0} b^{2} w^{2} \\left(a^{2} + 0.125\\right) e^{i \\left(\\phi + t w\\right)} + i \\pi \\alpha_{0} b u w \\left(- a + 0.5\\right) e^{i \\left(\\phi + t w\\right)}\\right)$$"
      ],
      "text/plain": [
       "        2                 /                       I*(phi + t*w)             I*\n",
       "2*pi*C*b *rho*u*(a + 0.5)*\\I*alpha0*b*w*(-a - 1)*e              + alpha0*u*e  \n",
       "\n",
       "(phi + t*w)\\    2     /             2  2 / 2        \\  I*(phi + t*w)          \n",
       "           / - b *rho*\\- pi*alpha0*b *w *\\a  + 0.125/*e              + I*pi*al\n",
       "\n",
       "                       I*(phi + t*w)\\\n",
       "pha0*b*u*w*(-a + 0.5)*e             /"
      ]
     },
     "execution_count": 142,
     "metadata": {},
     "output_type": "execute_result"
    }
   ],
   "source": [
    "M_alpha_alpha = -rho*b*b*(pi*(1/2-a)*u*b*diff(alpha,t,1)+pi*b*b*(1/8+a*a)*diff(alpha,t,2))+2*rho*u*b*b*pi*(a+1/2)*C*(u*alpha+b*(1-2-a)*diff(alpha,t,1))"
   ]
  },
  {
   "cell_type": "code",
   "execution_count": 143,
   "metadata": {
    "collapsed": false
   },
   "outputs": [
    {
     "data": {
      "text/latex": [
       "$$\\frac{\\pi \\alpha_{0}}{2 u^{2}} \\left(- 2 C u \\left(a + 0.5\\right) \\left(i b w \\left(a + 1\\right) - u\\right) + b w \\left(b w \\left(a^{2} + 0.125\\right) + i u \\left(a - 0.5\\right)\\right)\\right) e^{i \\left(\\phi + t w\\right)}$$"
      ],
      "text/plain": [
       "          /                                           /    / 2        \\       \n",
       "pi*alpha0*\\-2*C*u*(a + 0.5)*(I*b*w*(a + 1) - u) + b*w*\\b*w*\\a  + 0.125/ + I*u*\n",
       "------------------------------------------------------------------------------\n",
       "                                                     2                        \n",
       "                                                  2*u                         \n",
       "\n",
       "         \\\\  I*(phi + t*w)\n",
       "(a - 0.5)//*e             \n",
       "--------------------------\n",
       "                          \n",
       "                          "
      ]
     },
     "execution_count": 143,
     "metadata": {},
     "output_type": "execute_result"
    }
   ],
   "source": [
    "Cm_alpha_alpha = simplify(M_alpha_alpha/(2*rho*u*u*b*b)) "
   ]
  },
  {
   "cell_type": "code",
   "execution_count": 144,
   "metadata": {
    "collapsed": false
   },
   "outputs": [
    {
     "data": {
      "text/latex": [
       "$$- \\frac{\\pi \\alpha_{0}}{2} \\left(2 C \\left(a + 0.5\\right) \\left(i k \\left(a + 1\\right) - 1\\right) - k \\left(k \\left(a^{2} + 0.125\\right) + i \\left(a - 0.5\\right)\\right)\\right) e^{i \\left(\\phi + t w\\right)}$$"
      ],
      "text/plain": [
       "           /                                    /  / 2        \\              \\\n",
       "-pi*alpha0*\\2*C*(a + 0.5)*(I*k*(a + 1) - 1) - k*\\k*\\a  + 0.125/ + I*(a - 0.5)/\n",
       "------------------------------------------------------------------------------\n",
       "                                               2                              \n",
       "\n",
       "\\  I*(phi + t*w) \n",
       "/*e              \n",
       "-----------------\n",
       "                 "
      ]
     },
     "execution_count": 144,
     "metadata": {},
     "output_type": "execute_result"
    }
   ],
   "source": [
    "Cm_alpha_alpha = simplify(subs(Cm_alpha_alpha,b*w,u*k)) "
   ]
  },
  {
   "cell_type": "code",
   "execution_count": 148,
   "metadata": {
    "collapsed": false
   },
   "outputs": [
    {
     "data": {
      "text/latex": [
       "$$2 \\pi C b^{2} \\rho u \\left(a + 0.5\\right) \\left(\\frac{i b \\beta_{0} w}{2 \\pi} \\left(\\left(- 2 c + 1\\right) \\operatorname{acos}{\\left (c \\right )} + \\left(- c + 2\\right) \\sqrt{- c^{2} + 1}\\right) e^{i \\left(\\psi + t w\\right)} + \\frac{\\beta_{0} u}{\\pi} \\left(\\sqrt{- c^{2} + 1} + \\operatorname{acos}{\\left (c \\right )}\\right) e^{i \\left(\\psi + t w\\right)}\\right) - b^{2} \\rho \\left(- b^{2} \\beta_{0} w^{2} \\left(- \\frac{c}{8} \\sqrt{- c^{2} + 1} \\left(2 c^{2} + 7\\right) - \\left(- a + c\\right) \\left(c \\operatorname{acos}{\\left (c \\right )} + \\frac{1}{3} \\left(- c^{2} - 2\\right) \\sqrt{- c^{2} + 1}\\right) + \\left(c^{2} + 0.125\\right) \\operatorname{acos}{\\left (c \\right )}\\right) e^{i \\left(\\psi + t w\\right)} + i b \\beta_{0} u w \\left(- \\left(- a + c\\right) \\left(c \\sqrt{- c^{2} + 1} - \\operatorname{acos}{\\left (c \\right )}\\right) + \\frac{1}{2} \\left(- 2 c + 1\\right) \\operatorname{acos}{\\left (c \\right )} + \\frac{1}{2} \\left(- c + 2\\right) \\sqrt{- c^{2} + 1} - \\frac{1}{3} \\left(- 2 c^{2} - 1\\right) \\sqrt{- c^{2} + 1} + \\frac{1}{3} \\left(- c^{2} - 2\\right) \\sqrt{- c^{2} + 1}\\right) e^{i \\left(\\psi + t w\\right)} + \\beta_{0} u^{2} \\left(c \\sqrt{- c^{2} + 1} + \\sqrt{- c^{2} + 1}\\right) e^{i \\left(\\psi + t w\\right)}\\right)$$"
      ],
      "text/plain": [
       "                          /            /                                 _____\n",
       "                          |            |                                /    2\n",
       "        2                 |I*b*beta0*w*\\(-2*c + 1)*acos(c) + (-c + 2)*\\/  - c \n",
       "2*pi*C*b *rho*u*(a + 0.5)*|---------------------------------------------------\n",
       "                          \\                                  2*pi             \n",
       "\n",
       "_____\\                          /   __________          \\               \\     \n",
       "     |  I*(psi + t*w)           |  /    2               |  I*(psi + t*w)|     \n",
       " + 1 /*e                beta0*u*\\\\/  - c  + 1  + acos(c)/*e             |    2\n",
       "--------------------- + ------------------------------------------------| - b \n",
       "                                               pi                       /     \n",
       "\n",
       "     /              /       __________                       /                \n",
       "     |              |      /    2      /   2    \\            |            /   \n",
       "     |   2        2 |  c*\\/  - c  + 1 *\\2*c  + 7/            |            \\- c\n",
       "*rho*|- b *beta0*w *|- -------------------------- - (-a + c)*|c*acos(c) + ----\n",
       "     \\              \\              8                         \\                \n",
       "\n",
       "          __________\\                       \\                                /\n",
       "2    \\   /    2     |                       |                                |\n",
       "  - 2/*\\/  - c  + 1 |   / 2        \\        |  I*(psi + t*w)                 |\n",
       "--------------------| + \\c  + 0.125/*acos(c)|*e              + I*b*beta0*u*w*|\n",
       "       3            /                       /                                \\\n",
       "\n",
       "                                                                          ____\n",
       "           /     __________          \\                                   /    \n",
       "           |    /    2               |   (-2*c + 1)*acos(c)   (-c + 2)*\\/  - c\n",
       "- (-a + c)*\\c*\\/  - c  + 1  - acos(c)/ + ------------------ + ----------------\n",
       "                                                 2                      2     \n",
       "\n",
       "______                   __________                 __________\\               \n",
       "2        /     2    \\   /    2        /   2    \\   /    2     |               \n",
       "  + 1    \\- 2*c  - 1/*\\/  - c  + 1    \\- c  - 2/*\\/  - c  + 1 |  I*(psi + t*w)\n",
       "------ - -------------------------- + ------------------------|*e             \n",
       "                     3                           3            /               \n",
       "\n",
       "                                                            \\\n",
       "            /     __________      __________\\               |\n",
       "          2 |    /    2          /    2     |  I*(psi + t*w)|\n",
       " + beta0*u *\\c*\\/  - c  + 1  + \\/  - c  + 1 /*e             |\n",
       "                                                            /"
      ]
     },
     "execution_count": 148,
     "metadata": {},
     "output_type": "execute_result"
    }
   ],
   "source": [
    "M_alpha_beta = -rho*b*b*(T15*u*u*beta+T16*u*b*diff(beta,t,1)+2*T13*b*b*diff(beta,t,2))+2*rho*u*b*b*pi*(a+1/2)*C*(T10*u*beta/pi+(b*T11*diff(beta,t,1)/2)/pi)"
   ]
  },
  {
   "cell_type": "code",
   "execution_count": 149,
   "metadata": {
    "collapsed": false
   },
   "outputs": [
    {
     "data": {
      "text/latex": [
       "$$\\frac{\\beta_{0}}{48 u^{2}} \\left(24 C u \\left(a + 0.5\\right) \\left(- i b w \\left(\\left(c - 2\\right) \\sqrt{- c^{2} + 1} + \\left(2 c - 1\\right) \\operatorname{acos}{\\left (c \\right )}\\right) + 2 u \\left(\\sqrt{- c^{2} + 1} + \\operatorname{acos}{\\left (c \\right )}\\right)\\right) - b^{2} w^{2} \\left(3 c \\sqrt{- c^{2} + 1} \\left(2 c^{2} + 7\\right) - 8 \\left(a - c\\right) \\left(3 c \\operatorname{acos}{\\left (c \\right )} - \\sqrt{- c^{2} + 1} \\left(c^{2} + 2\\right)\\right) - 24 \\left(c^{2} + 0.125\\right) \\operatorname{acos}{\\left (c \\right )}\\right) + 4 i b u w \\left(- 6 \\left(a - c\\right) \\left(c \\sqrt{- c^{2} + 1} - \\operatorname{acos}{\\left (c \\right )}\\right) + 3 \\left(c - 2\\right) \\sqrt{- c^{2} + 1} + 3 \\left(2 c - 1\\right) \\operatorname{acos}{\\left (c \\right )} + 2 \\sqrt{- c^{2} + 1} \\left(c^{2} + 2\\right) - 2 \\sqrt{- c^{2} + 1} \\left(2 c^{2} + 1\\right)\\right) - 24 u^{2} \\left(c + 1\\right) \\sqrt{- c^{2} + 1}\\right) e^{i \\left(\\psi + t w\\right)}$$"
      ],
      "text/plain": [
       "      /                 /        /           __________                    \\  \n",
       "      |                 |        |          /    2                         |  \n",
       "beta0*\\24*C*u*(a + 0.5)*\\- I*b*w*\\(c - 2)*\\/  - c  + 1  + (2*c - 1)*acos(c)/ +\n",
       "------------------------------------------------------------------------------\n",
       "                                                                              \n",
       "                                                                              \n",
       "\n",
       "     /   __________          \\\\         /       __________                    \n",
       "     |  /    2               ||    2  2 |      /    2      /   2    \\         \n",
       " 2*u*\\\\/  - c  + 1  + acos(c)// - b *w *\\3*c*\\/  - c  + 1 *\\2*c  + 7/ - 8*(a -\n",
       "------------------------------------------------------------------------------\n",
       "                                                                              \n",
       "                                                                              \n",
       "\n",
       "    /                 __________         \\                          \\         \n",
       "    |                /    2      / 2    \\|      / 2        \\        |         \n",
       " c)*\\3*c*acos(c) - \\/  - c  + 1 *\\c  + 2// - 24*\\c  + 0.125/*acos(c)/ + 4*I*b*\n",
       "------------------------------------------------------------------------------\n",
       "                                                            2                 \n",
       "                                                        48*u                  \n",
       "\n",
       "    /            /     __________          \\                __________        \n",
       "    |            |    /    2               |               /    2             \n",
       "u*w*\\- 6*(a - c)*\\c*\\/  - c  + 1  - acos(c)/ + 3*(c - 2)*\\/  - c  + 1  + 3*(2*\n",
       "------------------------------------------------------------------------------\n",
       "                                                                              \n",
       "                                                                              \n",
       "\n",
       "                      __________                 __________           \\       \n",
       "                     /    2      / 2    \\       /    2      /   2    \\|       \n",
       "c - 1)*acos(c) + 2*\\/  - c  + 1 *\\c  + 2/ - 2*\\/  - c  + 1 *\\2*c  + 1// - 24*u\n",
       "------------------------------------------------------------------------------\n",
       "                                                                              \n",
       "                                                                              \n",
       "\n",
       "             __________\\               \n",
       "2           /    2     |  I*(psi + t*w)\n",
       " *(c + 1)*\\/  - c  + 1 /*e             \n",
       "---------------------------------------\n",
       "                                       \n",
       "                                       "
      ]
     },
     "execution_count": 149,
     "metadata": {},
     "output_type": "execute_result"
    }
   ],
   "source": [
    "Cm_alpha_beta = simplify(M_alpha_beta/(2*rho*u*u*b*b)) "
   ]
  },
  {
   "cell_type": "code",
   "execution_count": 150,
   "metadata": {
    "collapsed": false
   },
   "outputs": [
    {
     "data": {
      "text/latex": [
       "$$\\frac{\\beta_{0}}{48} \\left(24 C \\left(a + 0.5\\right) \\left(- i k \\left(\\left(c - 2\\right) \\sqrt{- c^{2} + 1} + \\left(2 c - 1\\right) \\operatorname{acos}{\\left (c \\right )}\\right) + 2 \\sqrt{- c^{2} + 1} + 2 \\operatorname{acos}{\\left (c \\right )}\\right) + k^{2} \\left(- 3 c \\sqrt{- c^{2} + 1} \\left(2 c^{2} + 7\\right) + 8 \\left(a - c\\right) \\left(3 c \\operatorname{acos}{\\left (c \\right )} - \\sqrt{- c^{2} + 1} \\left(c^{2} + 2\\right)\\right) + 24 \\left(c^{2} + 0.125\\right) \\operatorname{acos}{\\left (c \\right )}\\right) + 4 i k \\left(- 6 \\left(a - c\\right) \\left(c \\sqrt{- c^{2} + 1} - \\operatorname{acos}{\\left (c \\right )}\\right) + 3 \\left(c - 2\\right) \\sqrt{- c^{2} + 1} + 3 \\left(2 c - 1\\right) \\operatorname{acos}{\\left (c \\right )} + 2 \\sqrt{- c^{2} + 1} \\left(c^{2} + 2\\right) - 2 \\sqrt{- c^{2} + 1} \\left(2 c^{2} + 1\\right)\\right) - 24 \\left(c + 1\\right) \\sqrt{- c^{2} + 1}\\right) e^{i \\left(\\psi + t w\\right)}$$"
      ],
      "text/plain": [
       "      /               /      /           __________                    \\      \n",
       "      |               |      |          /    2                         |      \n",
       "beta0*\\24*C*(a + 0.5)*\\- I*k*\\(c - 2)*\\/  - c  + 1  + (2*c - 1)*acos(c)/ + 2*\\\n",
       "------------------------------------------------------------------------------\n",
       "                                                                              \n",
       "\n",
       "  __________            \\      /         __________                        /  \n",
       " /    2                 |    2 |        /    2      /   2    \\             |  \n",
       "/  - c  + 1  + 2*acos(c)/ + k *\\- 3*c*\\/  - c  + 1 *\\2*c  + 7/ + 8*(a - c)*\\3*\n",
       "------------------------------------------------------------------------------\n",
       "                                                                              \n",
       "\n",
       "               __________         \\                          \\         /      \n",
       "              /    2      / 2    \\|      / 2        \\        |         |      \n",
       "c*acos(c) - \\/  - c  + 1 *\\c  + 2// + 24*\\c  + 0.125/*acos(c)/ + 4*I*k*\\- 6*(a\n",
       "------------------------------------------------------------------------------\n",
       "                                                   48                         \n",
       "\n",
       "      /     __________          \\                __________                   \n",
       "      |    /    2               |               /    2                        \n",
       " - c)*\\c*\\/  - c  + 1  - acos(c)/ + 3*(c - 2)*\\/  - c  + 1  + 3*(2*c - 1)*acos\n",
       "------------------------------------------------------------------------------\n",
       "                                                                              \n",
       "\n",
       "           __________                 __________           \\                 _\n",
       "          /    2      / 2    \\       /    2      /   2    \\|                / \n",
       "(c) + 2*\\/  - c  + 1 *\\c  + 2/ - 2*\\/  - c  + 1 *\\2*c  + 1// - 24*(c + 1)*\\/  \n",
       "------------------------------------------------------------------------------\n",
       "                                                                              \n",
       "\n",
       "_________\\               \n",
       "   2     |  I*(psi + t*w)\n",
       "- c  + 1 /*e             \n",
       "-------------------------\n",
       "                         "
      ]
     },
     "execution_count": 150,
     "metadata": {},
     "output_type": "execute_result"
    }
   ],
   "source": [
    "Cm_alpha_beta = simplify(subs(Cm_alpha_beta,b*w,u*k)) "
   ]
  },
  {
   "cell_type": "code",
   "execution_count": 151,
   "metadata": {
    "collapsed": false
   },
   "outputs": [
    {
     "data": {
      "text/latex": [
       "$$i C b^{2} h_{0} \\rho u w \\left(2 c \\sqrt{- c^{2} + 1} + \\left(- 2 c + 1\\right) \\operatorname{acos}{\\left (c \\right )} + \\left(- c + 2\\right) \\sqrt{- c^{2} + 1} - 2 \\operatorname{acos}{\\left (c \\right )}\\right) e^{i t w} - b^{3} h_{0} \\rho w^{2} \\left(- c \\operatorname{acos}{\\left (c \\right )} - \\frac{1}{3} \\left(- c^{2} - 2\\right) \\sqrt{- c^{2} + 1}\\right) e^{i t w}$$"
      ],
      "text/plain": [
       "                                                                              \n",
       "                  /       __________                                    ______\n",
       "     2            |      /    2                                        /    2 \n",
       "I*C*b *h0*rho*u*w*\\2*c*\\/  - c  + 1  + (-2*c + 1)*acos(c) + (-c + 2)*\\/  - c  \n",
       "                                                                              \n",
       "\n",
       "                                        /                           __________\n",
       "____            \\                       |             /   2    \\   /    2     \n",
       "                |  I*t*w    3         2 |             \\- c  - 2/*\\/  - c  + 1 \n",
       "+ 1  - 2*acos(c)/*e      - b *h0*rho*w *|-c*acos(c) - ------------------------\n",
       "                                        \\                        3            \n",
       "\n",
       "\\       \n",
       "|       \n",
       "|  I*t*w\n",
       "|*e     \n",
       "/       "
      ]
     },
     "execution_count": 151,
     "metadata": {},
     "output_type": "execute_result"
    }
   ],
   "source": [
    "M_beta_h = -rho*b*b*(-T1*b*diff(h,t,2))-rho*u*b*b*T12*C*diff(h,t,1)"
   ]
  },
  {
   "cell_type": "code",
   "execution_count": 152,
   "metadata": {
    "collapsed": false
   },
   "outputs": [
    {
     "data": {
      "text/latex": [
       "$$\\frac{b h_{0} w}{3 u^{2}} \\left(- 3 i C u \\left(- 2 c \\sqrt{- c^{2} + 1} + \\left(c - 2\\right) \\sqrt{- c^{2} + 1} + \\left(2 c - 1\\right) \\operatorname{acos}{\\left (c \\right )} + 2 \\operatorname{acos}{\\left (c \\right )}\\right) + b w \\left(3 c \\operatorname{acos}{\\left (c \\right )} - \\sqrt{- c^{2} + 1} \\left(c^{2} + 2\\right)\\right)\\right) e^{i t w}$$"
      ],
      "text/plain": [
       "       /          /         __________              __________                \n",
       "       |          |        /    2                  /    2                     \n",
       "b*h0*w*\\- 3*I*C*u*\\- 2*c*\\/  - c  + 1  + (c - 2)*\\/  - c  + 1  + (2*c - 1)*aco\n",
       "------------------------------------------------------------------------------\n",
       "                                                                           2  \n",
       "                                                                        3*u   \n",
       "\n",
       "                \\       /                 __________         \\\\       \n",
       "                |       |                /    2      / 2    \\||  I*t*w\n",
       "s(c) + 2*acos(c)/ + b*w*\\3*c*acos(c) - \\/  - c  + 1 *\\c  + 2///*e     \n",
       "----------------------------------------------------------------------\n",
       "                                                                      \n",
       "                                                                      "
      ]
     },
     "execution_count": 152,
     "metadata": {},
     "output_type": "execute_result"
    }
   ],
   "source": [
    "Cm_beta_h = simplify(M_beta_h/(rho*u*u*b)) "
   ]
  },
  {
   "cell_type": "code",
   "execution_count": 153,
   "metadata": {
    "collapsed": false
   },
   "outputs": [
    {
     "data": {
      "text/latex": [
       "$$- \\frac{h_{0} k}{3} \\left(3 i C \\left(- 2 c \\sqrt{- c^{2} + 1} + \\left(c - 2\\right) \\sqrt{- c^{2} + 1} + \\left(2 c - 1\\right) \\operatorname{acos}{\\left (c \\right )} + 2 \\operatorname{acos}{\\left (c \\right )}\\right) - k \\left(3 c \\operatorname{acos}{\\left (c \\right )} - \\sqrt{- c^{2} + 1} \\left(c^{2} + 2\\right)\\right)\\right) e^{i t w}$$"
      ],
      "text/plain": [
       "      /      /         __________              __________                     \n",
       "      |      |        /    2                  /    2                          \n",
       "-h0*k*\\3*I*C*\\- 2*c*\\/  - c  + 1  + (c - 2)*\\/  - c  + 1  + (2*c - 1)*acos(c) \n",
       "------------------------------------------------------------------------------\n",
       "                                                                      3       \n",
       "\n",
       "           \\     /                 __________         \\\\        \n",
       "           |     |                /    2      / 2    \\||  I*t*w \n",
       "+ 2*acos(c)/ - k*\\3*c*acos(c) - \\/  - c  + 1 *\\c  + 2///*e      \n",
       "----------------------------------------------------------------\n",
       "                                                                "
      ]
     },
     "execution_count": 153,
     "metadata": {},
     "output_type": "execute_result"
    }
   ],
   "source": [
    "Cm_beta_h = simplify(subs(Cm_beta_h,b*w,u*k)) "
   ]
  },
  {
   "cell_type": "code",
   "execution_count": 154,
   "metadata": {
    "collapsed": false
   },
   "outputs": [
    {
     "data": {
      "text/latex": [
       "$$- C b^{2} \\rho u \\left(i \\alpha_{0} b w \\left(- a + 0.5\\right) e^{i \\left(\\phi + t w\\right)} + \\alpha_{0} u e^{i \\left(\\phi + t w\\right)}\\right) \\left(2 c \\sqrt{- c^{2} + 1} + \\left(- 2 c + 1\\right) \\operatorname{acos}{\\left (c \\right )} + \\left(- c + 2\\right) \\sqrt{- c^{2} + 1} - 2 \\operatorname{acos}{\\left (c \\right )}\\right) - b^{2} \\rho \\left(- \\alpha_{0} b^{2} w^{2} \\left(- \\frac{c}{8} \\sqrt{- c^{2} + 1} \\left(2 c^{2} + 7\\right) - \\left(- a + c\\right) \\left(c \\operatorname{acos}{\\left (c \\right )} + \\frac{1}{3} \\left(- c^{2} - 2\\right) \\sqrt{- c^{2} + 1}\\right) + \\left(c^{2} + 0.125\\right) \\operatorname{acos}{\\left (c \\right )}\\right) e^{i \\left(\\phi + t w\\right)} + i \\alpha_{0} b u w \\left(- a \\left(c \\sqrt{- c^{2} + 1} - \\operatorname{acos}{\\left (c \\right )}\\right) - c \\operatorname{acos}{\\left (c \\right )} + \\left(a - 0.5\\right) \\left(c \\sqrt{- c^{2} + 1} - \\operatorname{acos}{\\left (c \\right )}\\right) - \\frac{1}{3} \\left(- c^{2} - 2\\right) \\sqrt{- c^{2} + 1} - \\frac{1}{3} \\left(- c^{2} + 1\\right)^{1.5}\\right) e^{i \\left(\\phi + t w\\right)}\\right)$$"
      ],
      "text/plain": [
       "                                                                              \n",
       "                                                                              \n",
       "     2       /                         I*(phi + t*w)             I*(phi + t*w)\n",
       "- C*b *rho*u*\\I*alpha0*b*w*(-a + 0.5)*e              + alpha0*u*e             \n",
       "                                                                              \n",
       "\n",
       "                                                                              \n",
       "  /       __________                                    __________            \n",
       "\\ |      /    2                                        /    2                 \n",
       "/*\\2*c*\\/  - c  + 1  + (-2*c + 1)*acos(c) + (-c + 2)*\\/  - c  + 1  - 2*acos(c)\n",
       "                                                                              \n",
       "\n",
       "           /               /       __________                       /         \n",
       "\\          |               |      /    2      /   2    \\            |         \n",
       "|    2     |          2  2 |  c*\\/  - c  + 1 *\\2*c  + 7/            |         \n",
       "/ - b *rho*|- alpha0*b *w *|- -------------------------- - (-a + c)*|c*acos(c)\n",
       "           \\               \\              8                         \\         \n",
       "\n",
       "                 __________\\                       \\                          \n",
       "   /   2    \\   /    2     |                       |                          \n",
       "   \\- c  - 2/*\\/  - c  + 1 |   / 2        \\        |  I*(phi + t*w)           \n",
       " + ------------------------| + \\c  + 0.125/*acos(c)|*e              + I*alpha0\n",
       "              3            /                       /                          \n",
       "\n",
       "       /                                                                      \n",
       "       |    /     __________          \\                         /     ________\n",
       "       |    |    /    2               |                         |    /    2   \n",
       "*b*u*w*|- a*\\c*\\/  - c  + 1  - acos(c)/ - c*acos(c) + (a - 0.5)*\\c*\\/  - c  + \n",
       "       \\                                                                      \n",
       "\n",
       "                              __________             1.5\\               \\\n",
       "__          \\   /   2    \\   /    2        /   2    \\   |               |\n",
       "            |   \\- c  - 2/*\\/  - c  + 1    \\- c  + 1/   |  I*(phi + t*w)|\n",
       "1  - acos(c)/ - ------------------------ - -------------|*e             |\n",
       "                           3                     3      /               /"
      ]
     },
     "execution_count": 154,
     "metadata": {},
     "output_type": "execute_result"
    }
   ],
   "source": [
    "M_beta_alpha = -rho*b*b*(T17*u*b*diff(alpha,t,1)+2*T13*b*b*diff(alpha,t,2))-rho*u*b*b*T12*C*(u*alpha+b*(1/2-a)*diff(alpha,t,1))"
   ]
  },
  {
   "cell_type": "code",
   "execution_count": 155,
   "metadata": {
    "collapsed": false
   },
   "outputs": [
    {
     "data": {
      "text/latex": [
       "$$\\frac{\\alpha_{0}}{48 u^{2}} \\left(- 24 C u \\left(- i b w \\left(a - 0.5\\right) + u\\right) \\left(2 c \\sqrt{- c^{2} + 1} + \\left(- c + 2\\right) \\sqrt{- c^{2} + 1} - \\left(2 c - 1\\right) \\operatorname{acos}{\\left (c \\right )} - 2 \\operatorname{acos}{\\left (c \\right )}\\right) + b w \\left(b w \\left(- 3 c \\sqrt{- c^{2} + 1} \\left(2 c^{2} + 7\\right) - 8 \\left(- a + c\\right) \\left(3 c \\operatorname{acos}{\\left (c \\right )} - \\sqrt{- c^{2} + 1} \\left(c^{2} + 2\\right)\\right) + 24 \\left(c^{2} + 0.125\\right) \\operatorname{acos}{\\left (c \\right )}\\right) - 8 i u \\left(- 3 a \\left(c \\sqrt{- c^{2} + 1} - \\operatorname{acos}{\\left (c \\right )}\\right) - 3 c \\operatorname{acos}{\\left (c \\right )} + 3 \\left(a - 0.5\\right) \\left(c \\sqrt{- c^{2} + 1} - \\operatorname{acos}{\\left (c \\right )}\\right) + \\sqrt{- c^{2} + 1} \\left(c^{2} + 2\\right) - \\left(- c^{2} + 1\\right)^{1.5}\\right)\\right)\\right) e^{i \\left(\\phi + t w\\right)}$$"
      ],
      "text/plain": [
       "       /                                /       __________               _____\n",
       "       |                                |      /    2                   /    2\n",
       "alpha0*\\- 24*C*u*(-I*b*w*(a - 0.5) + u)*\\2*c*\\/  - c  + 1  + (-c + 2)*\\/  - c \n",
       "------------------------------------------------------------------------------\n",
       "                                                                              \n",
       "                                                                              \n",
       "\n",
       "_____                                \\       /    /         __________        \n",
       "                                     |       |    |        /    2      /   2  \n",
       " + 1  - (2*c - 1)*acos(c) - 2*acos(c)/ + b*w*\\b*w*\\- 3*c*\\/  - c  + 1 *\\2*c  +\n",
       "------------------------------------------------------------------------------\n",
       "                                                                              \n",
       "                                                                              \n",
       "\n",
       "                 /                 __________         \\                       \n",
       "  \\              |                /    2      / 2    \\|      / 2        \\     \n",
       " 7/ - 8*(-a + c)*\\3*c*acos(c) - \\/  - c  + 1 *\\c  + 2// + 24*\\c  + 0.125/*acos\n",
       "------------------------------------------------------------------------------\n",
       "                                           2                                  \n",
       "                                       48*u                                   \n",
       "\n",
       "   \\         /      /     __________          \\                             / \n",
       "   |         |      |    /    2               |                             | \n",
       "(c)/ - 8*I*u*\\- 3*a*\\c*\\/  - c  + 1  - acos(c)/ - 3*c*acos(c) + 3*(a - 0.5)*\\c\n",
       "------------------------------------------------------------------------------\n",
       "                                                                              \n",
       "                                                                              \n",
       "\n",
       "    __________          \\      __________                      1.5\\\\\\         \n",
       "   /    2               |     /    2      / 2    \\   /   2    \\   |||  I*(phi \n",
       "*\\/  - c  + 1  - acos(c)/ + \\/  - c  + 1 *\\c  + 2/ - \\- c  + 1/   ///*e       \n",
       "------------------------------------------------------------------------------\n",
       "                                                                              \n",
       "                                                                              \n",
       "\n",
       "      \n",
       "+ t*w)\n",
       "      \n",
       "------\n",
       "      \n",
       "      "
      ]
     },
     "execution_count": 155,
     "metadata": {},
     "output_type": "execute_result"
    }
   ],
   "source": [
    "Cm_beta_alpha = simplify(M_beta_alpha/(2*rho*u*u*b*b)) "
   ]
  },
  {
   "cell_type": "code",
   "execution_count": 156,
   "metadata": {
    "collapsed": false
   },
   "outputs": [
    {
     "data": {
      "text/latex": [
       "$$\\frac{\\alpha_{0}}{48} \\left(24 C \\left(i k \\left(a - 0.5\\right) - 1\\right) \\left(2 c \\sqrt{- c^{2} + 1} + \\left(- c + 2\\right) \\sqrt{- c^{2} + 1} - \\left(2 c - 1\\right) \\operatorname{acos}{\\left (c \\right )} - 2 \\operatorname{acos}{\\left (c \\right )}\\right) + k \\left(- k \\left(3 c \\sqrt{- c^{2} + 1} \\left(2 c^{2} + 7\\right) + 8 \\left(- a + c\\right) \\left(3 c \\operatorname{acos}{\\left (c \\right )} - \\sqrt{- c^{2} + 1} \\left(c^{2} + 2\\right)\\right) - 24 \\left(c^{2} + 0.125\\right) \\operatorname{acos}{\\left (c \\right )}\\right) + 8 i \\left(3 a \\left(c \\sqrt{- c^{2} + 1} - \\operatorname{acos}{\\left (c \\right )}\\right) + 3 c \\operatorname{acos}{\\left (c \\right )} - 3 \\left(a - 0.5\\right) \\left(c \\sqrt{- c^{2} + 1} - \\operatorname{acos}{\\left (c \\right )}\\right) - \\sqrt{- c^{2} + 1} \\left(c^{2} + 2\\right) + \\left(- c^{2} + 1\\right)^{1.5}\\right)\\right)\\right) e^{i \\left(\\phi + t w\\right)}$$"
      ],
      "text/plain": [
       "       /                         /       __________               __________  \n",
       "       |                         |      /    2                   /    2       \n",
       "alpha0*\\24*C*(I*k*(a - 0.5) - 1)*\\2*c*\\/  - c  + 1  + (-c + 2)*\\/  - c  + 1  -\n",
       "------------------------------------------------------------------------------\n",
       "                                                                              \n",
       "\n",
       "                              \\     /    /       __________                   \n",
       "                              |     |    |      /    2      /   2    \\        \n",
       " (2*c - 1)*acos(c) - 2*acos(c)/ + k*\\- k*\\3*c*\\/  - c  + 1 *\\2*c  + 7/ + 8*(-a\n",
       "------------------------------------------------------------------------------\n",
       "                                                                              \n",
       "\n",
       "      /                 __________         \\                          \\       \n",
       "      |                /    2      / 2    \\|      / 2        \\        |       \n",
       " + c)*\\3*c*acos(c) - \\/  - c  + 1 *\\c  + 2// - 24*\\c  + 0.125/*acos(c)/ + 8*I*\n",
       "------------------------------------------------------------------------------\n",
       "                                  48                                          \n",
       "\n",
       "/    /     __________          \\                             /     __________ \n",
       "|    |    /    2               |                             |    /    2      \n",
       "\\3*a*\\c*\\/  - c  + 1  - acos(c)/ + 3*c*acos(c) - 3*(a - 0.5)*\\c*\\/  - c  + 1  \n",
       "------------------------------------------------------------------------------\n",
       "                                                                              \n",
       "\n",
       "         \\      __________                      1.5\\\\\\               \n",
       "         |     /    2      / 2    \\   /   2    \\   |||  I*(phi + t*w)\n",
       "- acos(c)/ - \\/  - c  + 1 *\\c  + 2/ + \\- c  + 1/   ///*e             \n",
       "---------------------------------------------------------------------\n",
       "                                                                     "
      ]
     },
     "execution_count": 156,
     "metadata": {},
     "output_type": "execute_result"
    }
   ],
   "source": [
    "Cm_beta_alpha = simplify(subs(Cm_beta_alpha,b*w,u*k)) "
   ]
  },
  {
   "cell_type": "code",
   "execution_count": 159,
   "metadata": {
    "collapsed": false
   },
   "outputs": [
    {
     "data": {
      "text/latex": [
       "$$- C b^{2} \\rho u \\left(\\frac{i b \\beta_{0} w}{2 \\pi} \\left(\\left(- 2 c + 1\\right) \\operatorname{acos}{\\left (c \\right )} + \\left(- c + 2\\right) \\sqrt{- c^{2} + 1}\\right) e^{i \\left(\\psi + t w\\right)} + \\frac{\\beta_{0} u}{\\pi} \\left(\\sqrt{- c^{2} + 1} + \\operatorname{acos}{\\left (c \\right )}\\right) e^{i \\left(\\psi + t w\\right)}\\right) \\left(2 c \\sqrt{- c^{2} + 1} + \\left(- 2 c + 1\\right) \\operatorname{acos}{\\left (c \\right )} + \\left(- c + 2\\right) \\sqrt{- c^{2} + 1} - 2 \\operatorname{acos}{\\left (c \\right )}\\right) - b^{2} \\rho \\left(\\frac{b^{2} \\beta_{0}}{\\pi} w^{2} \\left(\\frac{c}{4} \\sqrt{- c^{2} + 1} \\left(2 c^{2} + 7\\right) \\operatorname{acos}{\\left (c \\right )} + \\frac{1}{8} \\left(c^{2} - 1\\right) \\left(5 c^{2} + 4\\right) - \\left(c^{2} + 0.125\\right) \\operatorname{acos}^{2}{\\left (c \\right )}\\right) e^{i \\left(\\psi + t w\\right)} - \\frac{i b \\beta_{0} u}{2 \\pi} w \\left(c \\sqrt{- c^{2} + 1} - \\operatorname{acos}{\\left (c \\right )}\\right) \\left(\\left(- 2 c + 1\\right) \\operatorname{acos}{\\left (c \\right )} + \\left(- c + 2\\right) \\sqrt{- c^{2} + 1}\\right) e^{i \\left(\\psi + t w\\right)} + \\frac{\\beta_{0} u^{2}}{\\pi} \\left(c^{2} + 2 c \\sqrt{- c^{2} + 1} \\operatorname{acos}{\\left (c \\right )} - \\left(c \\sqrt{- c^{2} + 1} - \\operatorname{acos}{\\left (c \\right )}\\right) \\left(\\sqrt{- c^{2} + 1} + \\operatorname{acos}{\\left (c \\right )}\\right) - \\operatorname{acos}^{2}{\\left (c \\right )} - 1\\right) e^{i \\left(\\psi + t w\\right)}\\right)$$"
      ],
      "text/plain": [
       "                                                                              \n",
       "                                                                              \n",
       "             /            /                                 __________\\       \n",
       "             |            |                                /    2     |  I*(ps\n",
       "     2       |I*b*beta0*w*\\(-2*c + 1)*acos(c) + (-c + 2)*\\/  - c  + 1 /*e     \n",
       "- C*b *rho*u*|----------------------------------------------------------------\n",
       "             \\                                  2*pi                          \n",
       "\n",
       "                                                                              \n",
       "                                                                              \n",
       "                   /   __________          \\               \\                  \n",
       "i + t*w)           |  /    2               |  I*(psi + t*w)| /       _________\n",
       "           beta0*u*\\\\/  - c  + 1  + acos(c)/*e             | |      /    2    \n",
       "-------- + ------------------------------------------------|*\\2*c*\\/  - c  + 1\n",
       "                                  pi                       /                  \n",
       "\n",
       "                                                                      /       \n",
       "                                                                      |       \n",
       "                                                                      | 2     \n",
       "_                                    __________            \\          |b *beta\n",
       "                                    /    2                 |    2     |       \n",
       "  + (-2*c + 1)*acos(c) + (-c + 2)*\\/  - c  + 1  - 2*acos(c)/ - b *rho*|-------\n",
       "                                                                      \\       \n",
       "\n",
       "     /     __________                                                         \n",
       "     |    /    2      /   2    \\           / 2    \\ /   2    \\                \n",
       "   2 |c*\\/  - c  + 1 *\\2*c  + 7/*acos(c)   \\c  - 1/*\\5*c  + 4/   / 2        \\ \n",
       "0*w *|---------------------------------- + ------------------- - \\c  + 0.125/*\n",
       "     \\                4                             8                         \n",
       "------------------------------------------------------------------------------\n",
       "                                               pi                             \n",
       "\n",
       "        \\                                                                     \n",
       "        |                                                                     \n",
       "    2   |  I*(psi + t*w)                 /     __________          \\ /        \n",
       "acos (c)|*e                              |    /    2               | |        \n",
       "        /                  I*b*beta0*u*w*\\c*\\/  - c  + 1  - acos(c)/*\\(-2*c + \n",
       "------------------------ - ---------------------------------------------------\n",
       "                                                                            2*\n",
       "\n",
       "                                                                              \n",
       "                                                                              \n",
       "                         __________\\                           /            __\n",
       "                        /    2     |  I*(psi + t*w)          2 | 2         /  \n",
       "1)*acos(c) + (-c + 2)*\\/  - c  + 1 /*e                beta0*u *\\c  + 2*c*\\/  -\n",
       "--------------------------------------------------- + ------------------------\n",
       "pi                                                                            \n",
       "\n",
       "                                                                              \n",
       "                                                                              \n",
       "________           /     __________          \\ /   __________          \\      \n",
       "  2                |    /    2               | |  /    2               |      \n",
       " c  + 1 *acos(c) - \\c*\\/  - c  + 1  - acos(c)/*\\\\/  - c  + 1  + acos(c)/ - aco\n",
       "------------------------------------------------------------------------------\n",
       "                                       pi                                     \n",
       "\n",
       "                         \\\n",
       "                         |\n",
       "         \\               |\n",
       " 2       |  I*(psi + t*w)|\n",
       "s (c) - 1/*e             |\n",
       "-------------------------|\n",
       "                         /"
      ]
     },
     "execution_count": 159,
     "metadata": {},
     "output_type": "execute_result"
    }
   ],
   "source": [
    "M_beta_beta = -rho*b*b*(u*u*T18*beta/pi - (u*b*T19*diff(beta,t,1)/2)/pi - T3*b*b*diff(beta,t,2)/pi) - rho*u*b*b*T12*C*(T10*u*beta/pi + (b*T11*diff(beta,t,1)/2)/pi)"
   ]
  },
  {
   "cell_type": "code",
   "execution_count": 160,
   "metadata": {
    "collapsed": false
   },
   "outputs": [
    {
     "data": {
      "text/latex": [
       "$$\\frac{\\beta_{0} e^{i \\left(\\psi + t w\\right)}}{16 \\pi u^{2}} \\left(- 4 C u \\left(i b w \\left(\\left(- c + 2\\right) \\sqrt{- c^{2} + 1} - \\left(2 c - 1\\right) \\operatorname{acos}{\\left (c \\right )}\\right) + 2 u \\left(\\sqrt{- c^{2} + 1} + \\operatorname{acos}{\\left (c \\right )}\\right)\\right) \\left(2 c \\sqrt{- c^{2} + 1} + \\left(- c + 2\\right) \\sqrt{- c^{2} + 1} - \\left(2 c - 1\\right) \\operatorname{acos}{\\left (c \\right )} - 2 \\operatorname{acos}{\\left (c \\right )}\\right) - b^{2} w^{2} \\left(2 c \\sqrt{- c^{2} + 1} \\left(2 c^{2} + 7\\right) \\operatorname{acos}{\\left (c \\right )} + \\left(c^{2} - 1\\right) \\left(5 c^{2} + 4\\right) - \\left(8 c^{2} + 1.0\\right) \\operatorname{acos}^{2}{\\left (c \\right )}\\right) + 4 i b u w \\left(c \\sqrt{- c^{2} + 1} - \\operatorname{acos}{\\left (c \\right )}\\right) \\left(\\left(- c + 2\\right) \\sqrt{- c^{2} + 1} - \\left(2 c - 1\\right) \\operatorname{acos}{\\left (c \\right )}\\right) + 8 u^{2} \\left(- c^{2} - 2 c \\sqrt{- c^{2} + 1} \\operatorname{acos}{\\left (c \\right )} + \\left(c \\sqrt{- c^{2} + 1} - \\operatorname{acos}{\\left (c \\right )}\\right) \\left(\\sqrt{- c^{2} + 1} + \\operatorname{acos}{\\left (c \\right )}\\right) + \\operatorname{acos}^{2}{\\left (c \\right )} + 1\\right)\\right)$$"
      ],
      "text/plain": [
       "      /        /      /            __________                    \\       /   _\n",
       "      |        |      |           /    2                         |       |  / \n",
       "beta0*\\- 4*C*u*\\I*b*w*\\(-c + 2)*\\/  - c  + 1  - (2*c - 1)*acos(c)/ + 2*u*\\\\/  \n",
       "------------------------------------------------------------------------------\n",
       "                                                                              \n",
       "                                                                              \n",
       "\n",
       "_________          \\\\ /       __________               __________             \n",
       "   2               || |      /    2                   /    2                  \n",
       "- c  + 1  + acos(c)//*\\2*c*\\/  - c  + 1  + (-c + 2)*\\/  - c  + 1  - (2*c - 1)*\n",
       "------------------------------------------------------------------------------\n",
       "                                                                              \n",
       "                                                                              \n",
       "\n",
       "                   \\         /       __________                               \n",
       "                   |    2  2 |      /    2      /   2    \\           / 2    \\ \n",
       "acos(c) - 2*acos(c)/ - b *w *\\2*c*\\/  - c  + 1 *\\2*c  + 7/*acos(c) + \\c  - 1/*\n",
       "------------------------------------------------------------------------------\n",
       "                                                                              \n",
       "                                                                              \n",
       "\n",
       "                                  \\             /     __________          \\ / \n",
       "/   2    \\   /   2      \\     2   |             |    /    2               | | \n",
       "\\5*c  + 4/ - \\8*c  + 1.0/*acos (c)/ + 4*I*b*u*w*\\c*\\/  - c  + 1  - acos(c)/*\\(\n",
       "------------------------------------------------------------------------------\n",
       "           2                                                                  \n",
       "    16*pi*u                                                                   \n",
       "\n",
       "           __________                    \\        /              __________   \n",
       "          /    2                         |      2 |   2         /    2        \n",
       "-c + 2)*\\/  - c  + 1  - (2*c - 1)*acos(c)/ + 8*u *\\- c  - 2*c*\\/  - c  + 1 *ac\n",
       "------------------------------------------------------------------------------\n",
       "                                                                              \n",
       "                                                                              \n",
       "\n",
       "        /     __________          \\ /   __________          \\               \\\\\n",
       "        |    /    2               | |  /    2               |       2       ||\n",
       "os(c) + \\c*\\/  - c  + 1  - acos(c)/*\\\\/  - c  + 1  + acos(c)/ + acos (c) + 1//\n",
       "------------------------------------------------------------------------------\n",
       "                                                                              \n",
       "                                                                              \n",
       "\n",
       "               \n",
       "  I*(psi + t*w)\n",
       "*e             \n",
       "---------------\n",
       "               \n",
       "               "
      ]
     },
     "execution_count": 160,
     "metadata": {},
     "output_type": "execute_result"
    }
   ],
   "source": [
    "Cm_beta_beta = simplify(M_beta_beta/(2*rho*u*u*b*b)) "
   ]
  },
  {
   "cell_type": "code",
   "execution_count": 161,
   "metadata": {
    "collapsed": false
   },
   "outputs": [
    {
     "data": {
      "text/latex": [
       "$$- \\frac{\\beta_{0}}{16 \\pi} \\left(- 4 C \\left(- i k \\left(\\left(c - 2\\right) \\sqrt{- c^{2} + 1} + \\left(2 c - 1\\right) \\operatorname{acos}{\\left (c \\right )}\\right) + 2 \\sqrt{- c^{2} + 1} + 2 \\operatorname{acos}{\\left (c \\right )}\\right) \\left(- 2 c \\sqrt{- c^{2} + 1} + \\left(c - 2\\right) \\sqrt{- c^{2} + 1} + \\left(2 c - 1\\right) \\operatorname{acos}{\\left (c \\right )} + 2 \\operatorname{acos}{\\left (c \\right )}\\right) + 8 c^{2} + 16 c \\sqrt{- c^{2} + 1} \\operatorname{acos}{\\left (c \\right )} + k^{2} \\left(2 c \\sqrt{- c^{2} + 1} \\left(2 c^{2} + 7\\right) \\operatorname{acos}{\\left (c \\right )} + \\left(c^{2} - 1\\right) \\left(5 c^{2} + 4\\right) - \\left(8 c^{2} + 1.0\\right) \\operatorname{acos}^{2}{\\left (c \\right )}\\right) + 4 i k \\left(c \\sqrt{- c^{2} + 1} - \\operatorname{acos}{\\left (c \\right )}\\right) \\left(\\left(c - 2\\right) \\sqrt{- c^{2} + 1} + \\left(2 c - 1\\right) \\operatorname{acos}{\\left (c \\right )}\\right) - 8 \\left(c \\sqrt{- c^{2} + 1} - \\operatorname{acos}{\\left (c \\right )}\\right) \\left(\\sqrt{- c^{2} + 1} + \\operatorname{acos}{\\left (c \\right )}\\right) - 8 \\operatorname{acos}^{2}{\\left (c \\right )} - 8\\right) e^{i \\left(\\psi + t w\\right)}$$"
      ],
      "text/plain": [
       "       /      /      /           __________                    \\        ______\n",
       "       |      |      |          /    2                         |       /    2 \n",
       "-beta0*\\- 4*C*\\- I*k*\\(c - 2)*\\/  - c  + 1  + (2*c - 1)*acos(c)/ + 2*\\/  - c  \n",
       "------------------------------------------------------------------------------\n",
       "                                                                              \n",
       "\n",
       "____            \\ /         __________              __________                \n",
       "                | |        /    2                  /    2                     \n",
       "+ 1  + 2*acos(c)/*\\- 2*c*\\/  - c  + 1  + (c - 2)*\\/  - c  + 1  + (2*c - 1)*aco\n",
       "------------------------------------------------------------------------------\n",
       "                                                                              \n",
       "\n",
       "                \\                  __________              /       __________ \n",
       "                |      2          /    2                 2 |      /    2      \n",
       "s(c) + 2*acos(c)/ + 8*c  + 16*c*\\/  - c  + 1 *acos(c) + k *\\2*c*\\/  - c  + 1 *\n",
       "------------------------------------------------------------------------------\n",
       "                                                                             1\n",
       "\n",
       "                                                                \\         /   \n",
       "/   2    \\           / 2    \\ /   2    \\   /   2      \\     2   |         |   \n",
       "\\2*c  + 7/*acos(c) + \\c  - 1/*\\5*c  + 4/ - \\8*c  + 1.0/*acos (c)/ + 4*I*k*\\c*\\\n",
       "------------------------------------------------------------------------------\n",
       "6*pi                                                                          \n",
       "\n",
       "  __________          \\ /           __________                    \\     /     \n",
       " /    2               | |          /    2                         |     |    /\n",
       "/  - c  + 1  - acos(c)/*\\(c - 2)*\\/  - c  + 1  + (2*c - 1)*acos(c)/ - 8*\\c*\\/ \n",
       "------------------------------------------------------------------------------\n",
       "                                                                              \n",
       "\n",
       "__________          \\ /   __________          \\                 \\             \n",
       "    2               | |  /    2               |         2       |  I*(psi + t*\n",
       " - c  + 1  - acos(c)/*\\\\/  - c  + 1  + acos(c)/ - 8*acos (c) - 8/*e           \n",
       "------------------------------------------------------------------------------\n",
       "                                                                              \n",
       "\n",
       "   \n",
       "w) \n",
       "   \n",
       "---\n",
       "   "
      ]
     },
     "execution_count": 161,
     "metadata": {},
     "output_type": "execute_result"
    }
   ],
   "source": [
    "Cm_beta_beta = simplify(subs(Cm_beta_beta,b*w,u*k)) "
   ]
  },
  {
   "cell_type": "code",
   "execution_count": 162,
   "metadata": {
    "collapsed": false
   },
   "outputs": [
    {
     "data": {
      "text/latex": [
       "$$- \\pi \\alpha_{0} \\left(2 C \\left(i k \\left(a - 0.5\\right) - 1\\right) - k \\left(a k + i\\right)\\right) e^{i \\left(\\phi + t w\\right)} + \\frac{\\beta_{0}}{3} \\left(3 C \\left(- i k \\left(\\left(c - 2\\right) \\sqrt{- c^{2} + 1} + \\left(2 c - 1\\right) \\operatorname{acos}{\\left (c \\right )}\\right) + 2 \\sqrt{- c^{2} + 1} + 2 \\operatorname{acos}{\\left (c \\right )}\\right) + k \\left(k \\left(3 c \\operatorname{acos}{\\left (c \\right )} - \\sqrt{- c^{2} + 1} \\left(c^{2} + 2\\right)\\right) - 3 i \\left(c \\sqrt{- c^{2} + 1} - \\operatorname{acos}{\\left (c \\right )}\\right)\\right)\\right) e^{i \\left(\\psi + t w\\right)} + 2 \\pi h_{0} k \\left(- 2 i C + k\\right) e^{i t w}$$"
      ],
      "text/plain": [
       "                                                                           /  \n",
       "                                                                           |  \n",
       "                                                     I*(phi + t*w)   beta0*\\3*\n",
       "- pi*alpha0*(2*C*(I*k*(a - 0.5) - 1) - k*(a*k + I))*e              + ---------\n",
       "                                                                              \n",
       "\n",
       "  /      /           __________                    \\        __________        \n",
       "  |      |          /    2                         |       /    2             \n",
       "C*\\- I*k*\\(c - 2)*\\/  - c  + 1  + (2*c - 1)*acos(c)/ + 2*\\/  - c  + 1  + 2*aco\n",
       "------------------------------------------------------------------------------\n",
       "                                                                              \n",
       "\n",
       "    \\     /  /                 __________         \\       /     __________    \n",
       "    |     |  |                /    2      / 2    \\|       |    /    2         \n",
       "s(c)/ + k*\\k*\\3*c*acos(c) - \\/  - c  + 1 *\\c  + 2// - 3*I*\\c*\\/  - c  + 1  - a\n",
       "------------------------------------------------------------------------------\n",
       "       3                                                                      \n",
       "\n",
       "      \\\\\\                                               \n",
       "      |||  I*(psi + t*w)                                \n",
       "cos(c)///*e                                        I*t*w\n",
       "------------------------ + 2*pi*h0*k*(-2*I*C + k)*e     \n",
       "                                                        "
      ]
     },
     "execution_count": 162,
     "metadata": {},
     "output_type": "execute_result"
    }
   ],
   "source": [
    "Cl = Cl_h + Cl_alpha + Cl_beta"
   ]
  },
  {
   "cell_type": "code",
   "execution_count": 163,
   "metadata": {
    "collapsed": false
   },
   "outputs": [
    {
     "data": {
      "text/latex": [
       "$$- \\frac{\\pi \\alpha_{0}}{2} \\left(2 C \\left(a + 0.5\\right) \\left(i k \\left(a + 1\\right) - 1\\right) - k \\left(k \\left(a^{2} + 0.125\\right) + i \\left(a - 0.5\\right)\\right)\\right) e^{i \\left(\\phi + t w\\right)} + \\frac{\\beta_{0}}{48} \\left(24 C \\left(a + 0.5\\right) \\left(- i k \\left(\\left(c - 2\\right) \\sqrt{- c^{2} + 1} + \\left(2 c - 1\\right) \\operatorname{acos}{\\left (c \\right )}\\right) + 2 \\sqrt{- c^{2} + 1} + 2 \\operatorname{acos}{\\left (c \\right )}\\right) + k^{2} \\left(- 3 c \\sqrt{- c^{2} + 1} \\left(2 c^{2} + 7\\right) + 8 \\left(a - c\\right) \\left(3 c \\operatorname{acos}{\\left (c \\right )} - \\sqrt{- c^{2} + 1} \\left(c^{2} + 2\\right)\\right) + 24 \\left(c^{2} + 0.125\\right) \\operatorname{acos}{\\left (c \\right )}\\right) + 4 i k \\left(- 6 \\left(a - c\\right) \\left(c \\sqrt{- c^{2} + 1} - \\operatorname{acos}{\\left (c \\right )}\\right) + 3 \\left(c - 2\\right) \\sqrt{- c^{2} + 1} + 3 \\left(2 c - 1\\right) \\operatorname{acos}{\\left (c \\right )} + 2 \\sqrt{- c^{2} + 1} \\left(c^{2} + 2\\right) - 2 \\sqrt{- c^{2} + 1} \\left(2 c^{2} + 1\\right)\\right) - 24 \\left(c + 1\\right) \\sqrt{- c^{2} + 1}\\right) e^{i \\left(\\psi + t w\\right)} - \\pi h_{0} k \\left(2 i C \\left(a + 0.5\\right) - a k\\right) e^{i t w}$$"
      ],
      "text/plain": [
       "                                                                              \n",
       "            /                                    /  / 2        \\              \n",
       "  pi*alpha0*\\2*C*(a + 0.5)*(I*k*(a + 1) - 1) - k*\\k*\\a  + 0.125/ + I*(a - 0.5)\n",
       "- ----------------------------------------------------------------------------\n",
       "                                                2                             \n",
       "\n",
       "                          /               /      /           __________       \n",
       "\\\\  I*(phi + t*w)         |               |      |          /    2            \n",
       "//*e                beta0*\\24*C*(a + 0.5)*\\- I*k*\\(c - 2)*\\/  - c  + 1  + (2*c\n",
       "----------------- + ----------------------------------------------------------\n",
       "                                                                              \n",
       "\n",
       "             \\        __________            \\      /         __________       \n",
       "             |       /    2                 |    2 |        /    2      /   2 \n",
       " - 1)*acos(c)/ + 2*\\/  - c  + 1  + 2*acos(c)/ + k *\\- 3*c*\\/  - c  + 1 *\\2*c  \n",
       "------------------------------------------------------------------------------\n",
       "                                                                              \n",
       "\n",
       "                 /                 __________         \\                       \n",
       "   \\             |                /    2      / 2    \\|      / 2        \\     \n",
       "+ 7/ + 8*(a - c)*\\3*c*acos(c) - \\/  - c  + 1 *\\c  + 2// + 24*\\c  + 0.125/*acos\n",
       "------------------------------------------------------------------------------\n",
       "                                                                       48     \n",
       "\n",
       "   \\         /            /     __________          \\                _________\n",
       "   |         |            |    /    2               |               /    2    \n",
       "(c)/ + 4*I*k*\\- 6*(a - c)*\\c*\\/  - c  + 1  - acos(c)/ + 3*(c - 2)*\\/  - c  + 1\n",
       "------------------------------------------------------------------------------\n",
       "                                                                              \n",
       "\n",
       "_                              __________                 __________          \n",
       "                              /    2      / 2    \\       /    2      /   2    \n",
       "  + 3*(2*c - 1)*acos(c) + 2*\\/  - c  + 1 *\\c  + 2/ - 2*\\/  - c  + 1 *\\2*c  + 1\n",
       "------------------------------------------------------------------------------\n",
       "                                                                              \n",
       "\n",
       " \\                 __________\\                                                \n",
       "\\|                /    2     |  I*(psi + t*w)                                 \n",
       "// - 24*(c + 1)*\\/  - c  + 1 /*e                                              \n",
       "--------------------------------------------- - pi*h0*k*(2*I*C*(a + 0.5) - a*k\n",
       "                                                                              \n",
       "\n",
       "        \n",
       "        \n",
       "   I*t*w\n",
       ")*e     \n",
       "        "
      ]
     },
     "execution_count": 163,
     "metadata": {},
     "output_type": "execute_result"
    }
   ],
   "source": [
    "Cm_alpha = Cm_alpha_h + Cm_alpha_alpha + Cm_alpha_beta "
   ]
  },
  {
   "cell_type": "code",
   "execution_count": 164,
   "metadata": {
    "collapsed": false
   },
   "outputs": [
    {
     "data": {
      "text/latex": [
       "$$\\frac{\\alpha_{0}}{48} \\left(24 C \\left(i k \\left(a - 0.5\\right) - 1\\right) \\left(2 c \\sqrt{- c^{2} + 1} + \\left(- c + 2\\right) \\sqrt{- c^{2} + 1} - \\left(2 c - 1\\right) \\operatorname{acos}{\\left (c \\right )} - 2 \\operatorname{acos}{\\left (c \\right )}\\right) + k \\left(- k \\left(3 c \\sqrt{- c^{2} + 1} \\left(2 c^{2} + 7\\right) + 8 \\left(- a + c\\right) \\left(3 c \\operatorname{acos}{\\left (c \\right )} - \\sqrt{- c^{2} + 1} \\left(c^{2} + 2\\right)\\right) - 24 \\left(c^{2} + 0.125\\right) \\operatorname{acos}{\\left (c \\right )}\\right) + 8 i \\left(3 a \\left(c \\sqrt{- c^{2} + 1} - \\operatorname{acos}{\\left (c \\right )}\\right) + 3 c \\operatorname{acos}{\\left (c \\right )} - 3 \\left(a - 0.5\\right) \\left(c \\sqrt{- c^{2} + 1} - \\operatorname{acos}{\\left (c \\right )}\\right) - \\sqrt{- c^{2} + 1} \\left(c^{2} + 2\\right) + \\left(- c^{2} + 1\\right)^{1.5}\\right)\\right)\\right) e^{i \\left(\\phi + t w\\right)} - \\frac{\\beta_{0}}{16 \\pi} \\left(- 4 C \\left(- i k \\left(\\left(c - 2\\right) \\sqrt{- c^{2} + 1} + \\left(2 c - 1\\right) \\operatorname{acos}{\\left (c \\right )}\\right) + 2 \\sqrt{- c^{2} + 1} + 2 \\operatorname{acos}{\\left (c \\right )}\\right) \\left(- 2 c \\sqrt{- c^{2} + 1} + \\left(c - 2\\right) \\sqrt{- c^{2} + 1} + \\left(2 c - 1\\right) \\operatorname{acos}{\\left (c \\right )} + 2 \\operatorname{acos}{\\left (c \\right )}\\right) + 8 c^{2} + 16 c \\sqrt{- c^{2} + 1} \\operatorname{acos}{\\left (c \\right )} + k^{2} \\left(2 c \\sqrt{- c^{2} + 1} \\left(2 c^{2} + 7\\right) \\operatorname{acos}{\\left (c \\right )} + \\left(c^{2} - 1\\right) \\left(5 c^{2} + 4\\right) - \\left(8 c^{2} + 1.0\\right) \\operatorname{acos}^{2}{\\left (c \\right )}\\right) + 4 i k \\left(c \\sqrt{- c^{2} + 1} - \\operatorname{acos}{\\left (c \\right )}\\right) \\left(\\left(c - 2\\right) \\sqrt{- c^{2} + 1} + \\left(2 c - 1\\right) \\operatorname{acos}{\\left (c \\right )}\\right) - 8 \\left(c \\sqrt{- c^{2} + 1} - \\operatorname{acos}{\\left (c \\right )}\\right) \\left(\\sqrt{- c^{2} + 1} + \\operatorname{acos}{\\left (c \\right )}\\right) - 8 \\operatorname{acos}^{2}{\\left (c \\right )} - 8\\right) e^{i \\left(\\psi + t w\\right)} - \\frac{h_{0} k}{3} \\left(3 i C \\left(- 2 c \\sqrt{- c^{2} + 1} + \\left(c - 2\\right) \\sqrt{- c^{2} + 1} + \\left(2 c - 1\\right) \\operatorname{acos}{\\left (c \\right )} + 2 \\operatorname{acos}{\\left (c \\right )}\\right) - k \\left(3 c \\operatorname{acos}{\\left (c \\right )} - \\sqrt{- c^{2} + 1} \\left(c^{2} + 2\\right)\\right)\\right) e^{i t w}$$"
      ],
      "text/plain": [
       "       /                         /       __________               __________  \n",
       "       |                         |      /    2                   /    2       \n",
       "alpha0*\\24*C*(I*k*(a - 0.5) - 1)*\\2*c*\\/  - c  + 1  + (-c + 2)*\\/  - c  + 1  -\n",
       "------------------------------------------------------------------------------\n",
       "                                                                              \n",
       "\n",
       "                              \\     /    /       __________                   \n",
       "                              |     |    |      /    2      /   2    \\        \n",
       " (2*c - 1)*acos(c) - 2*acos(c)/ + k*\\- k*\\3*c*\\/  - c  + 1 *\\2*c  + 7/ + 8*(-a\n",
       "------------------------------------------------------------------------------\n",
       "                                                                              \n",
       "\n",
       "      /                 __________         \\                          \\       \n",
       "      |                /    2      / 2    \\|      / 2        \\        |       \n",
       " + c)*\\3*c*acos(c) - \\/  - c  + 1 *\\c  + 2// - 24*\\c  + 0.125/*acos(c)/ + 8*I*\n",
       "------------------------------------------------------------------------------\n",
       "                                  48                                          \n",
       "\n",
       "/    /     __________          \\                             /     __________ \n",
       "|    |    /    2               |                             |    /    2      \n",
       "\\3*a*\\c*\\/  - c  + 1  - acos(c)/ + 3*c*acos(c) - 3*(a - 0.5)*\\c*\\/  - c  + 1  \n",
       "------------------------------------------------------------------------------\n",
       "                                                                              \n",
       "\n",
       "         \\      __________                      1.5\\\\\\                        \n",
       "         |     /    2      / 2    \\   /   2    \\   |||  I*(phi + t*w)         \n",
       "- acos(c)/ - \\/  - c  + 1 *\\c  + 2/ + \\- c  + 1/   ///*e                beta0*\n",
       "--------------------------------------------------------------------- - ------\n",
       "                                                                              \n",
       "\n",
       "/      /      /           __________                    \\        __________   \n",
       "|      |      |          /    2                         |       /    2        \n",
       "\\- 4*C*\\- I*k*\\(c - 2)*\\/  - c  + 1  + (2*c - 1)*acos(c)/ + 2*\\/  - c  + 1  + \n",
       "------------------------------------------------------------------------------\n",
       "                                                                              \n",
       "\n",
       "         \\ /         __________              __________                       \n",
       "         | |        /    2                  /    2                            \n",
       "2*acos(c)/*\\- 2*c*\\/  - c  + 1  + (c - 2)*\\/  - c  + 1  + (2*c - 1)*acos(c) + \n",
       "------------------------------------------------------------------------------\n",
       "                                                                              \n",
       "\n",
       "         \\                  __________              /       __________        \n",
       "         |      2          /    2                 2 |      /    2      /   2  \n",
       "2*acos(c)/ + 8*c  + 16*c*\\/  - c  + 1 *acos(c) + k *\\2*c*\\/  - c  + 1 *\\2*c  +\n",
       "------------------------------------------------------------------------------\n",
       "                                                                      16*pi   \n",
       "\n",
       "                                                         \\         /     _____\n",
       "  \\           / 2    \\ /   2    \\   /   2      \\     2   |         |    /    2\n",
       " 7/*acos(c) + \\c  - 1/*\\5*c  + 4/ - \\8*c  + 1.0/*acos (c)/ + 4*I*k*\\c*\\/  - c \n",
       "------------------------------------------------------------------------------\n",
       "                                                                              \n",
       "\n",
       "_____          \\ /           __________                    \\     /     _______\n",
       "               | |          /    2                         |     |    /    2  \n",
       " + 1  - acos(c)/*\\(c - 2)*\\/  - c  + 1  + (2*c - 1)*acos(c)/ - 8*\\c*\\/  - c  +\n",
       "------------------------------------------------------------------------------\n",
       "                                                                              \n",
       "\n",
       "___          \\ /   __________          \\                 \\                    \n",
       "             | |  /    2               |         2       |  I*(psi + t*w)     \n",
       " 1  - acos(c)/*\\\\/  - c  + 1  + acos(c)/ - 8*acos (c) - 8/*e                h0\n",
       "------------------------------------------------------------------------- - --\n",
       "                                                                              \n",
       "\n",
       "   /      /         __________              __________                        \n",
       "   |      |        /    2                  /    2                             \n",
       "*k*\\3*I*C*\\- 2*c*\\/  - c  + 1  + (c - 2)*\\/  - c  + 1  + (2*c - 1)*acos(c) + 2\n",
       "------------------------------------------------------------------------------\n",
       "                                                                   3          \n",
       "\n",
       "        \\     /                 __________         \\\\       \n",
       "        |     |                /    2      / 2    \\||  I*t*w\n",
       "*acos(c)/ - k*\\3*c*acos(c) - \\/  - c  + 1 *\\c  + 2///*e     \n",
       "------------------------------------------------------------\n",
       "                                                            "
      ]
     },
     "execution_count": 164,
     "metadata": {},
     "output_type": "execute_result"
    }
   ],
   "source": [
    "Cm_beta = Cm_beta_h + Cm_beta_alpha + Cm_beta_beta "
   ]
  },
  {
   "cell_type": "code",
   "execution_count": 1,
   "metadata": {
    "collapsed": true
   },
   "outputs": [],
   "source": [
    "#Let's convert symbolic expressions to code"
   ]
  },
  {
   "cell_type": "code",
   "execution_count": 4,
   "metadata": {
    "collapsed": false
   },
   "outputs": [
    {
     "data": {
      "text/plain": [
       "(t1,t2,t3,t4,t5,t6,t7,t8,t9,t10,t11,t12,t13,t14,t15,t16,t17,t18,t19,t20)"
      ]
     },
     "execution_count": 4,
     "metadata": {},
     "output_type": "execute_result"
    }
   ],
   "source": [
    "@vars t1 t2 t3 t4 t5 t6 t7 t8 t9 t10 t11 t12 t13 t14 t15 t16 t17 t18 t19 t20"
   ]
  },
  {
   "cell_type": "code",
   "execution_count": 3,
   "metadata": {
    "collapsed": true
   },
   "outputs": [],
   "source": [
    "using SymPy\n",
    "#Doesnt seem to be a better way than simple copying formulae into code - I cant see the function created by lambdify"
   ]
  },
  {
   "cell_type": "code",
   "execution_count": 42,
   "metadata": {
    "collapsed": false
   },
   "outputs": [
    {
     "data": {
      "text/latex": [
       "$$2 \\pi h_{0} k \\left(- 2 i C + k\\right) e^{i t w}$$"
      ],
      "text/plain": [
       "                        I*t*w\n",
       "2*pi*h0*k*(-2*I*C + k)*e     "
      ]
     },
     "execution_count": 42,
     "metadata": {},
     "output_type": "execute_result"
    }
   ],
   "source": [
    "Cl_h\n"
   ]
  },
  {
   "cell_type": "code",
   "execution_count": 46,
   "metadata": {
    "collapsed": false
   },
   "outputs": [
    {
     "data": {
      "text/latex": [
       "$$- \\pi \\alpha_{0} \\left(2 C \\left(i k \\left(a - 0.5\\right) - 1\\right) - k \\left(a k + i\\right)\\right) e^{i \\left(\\phi + t w\\right)}$$"
      ],
      "text/plain": [
       "                                                    I*(phi + t*w)\n",
       "-pi*alpha0*(2*C*(I*k*(a - 0.5) - 1) - k*(a*k + I))*e             "
      ]
     },
     "execution_count": 46,
     "metadata": {},
     "output_type": "execute_result"
    }
   ],
   "source": [
    "Cl_alpha"
   ]
  },
  {
   "cell_type": "code",
   "execution_count": 49,
   "metadata": {
    "collapsed": false
   },
   "outputs": [
    {
     "data": {
      "text/latex": [
       "$$- 2 \\pi C b \\rho u \\left(\\frac{i b \\beta_{0} t_{11}}{2 \\pi} w e^{i \\left(\\psi + t w\\right)} + \\frac{\\beta_{0} t_{10}}{\\pi} u e^{i \\left(\\psi + t w\\right)}\\right) - b^{2} \\rho \\left(b \\beta_{0} t_{1} w^{2} e^{i \\left(\\psi + t w\\right)} - i \\beta_{0} t_{4} u w e^{i \\left(\\psi + t w\\right)}\\right)$$"
      ],
      "text/plain": [
       "                 /                 I*(psi + t*w)                I*(psi + t*w)\\\n",
       "                 |I*b*beta0*t11*w*e                beta0*t10*u*e             |\n",
       "- 2*pi*C*b*rho*u*|------------------------------ + --------------------------|\n",
       "                 \\             2*pi                            pi            /\n",
       "\n",
       "                                                                        \n",
       "    2     /            2  I*(psi + t*w)                   I*(psi + t*w)\\\n",
       " - b *rho*\\b*beta0*t1*w *e              - I*beta0*t4*u*w*e             /\n",
       "                                                                        "
      ]
     },
     "execution_count": 49,
     "metadata": {},
     "output_type": "execute_result"
    }
   ],
   "source": [
    "P_beta = -rho*b*b*(-u*t4*diff(beta,t,1) - t1*b*diff(beta,t,2)) - 2*rho*u*b*C*pi*(t10*u*beta/pi + (b*t11*diff(beta,t,1)/2)/pi)\n"
   ]
  },
  {
   "cell_type": "code",
   "execution_count": 34,
   "metadata": {
    "collapsed": false
   },
   "outputs": [
    {
     "name": "stdout",
     "output_type": "stream",
     "text": [
      "search: expr_Clh\n",
      "\n"
     ]
    },
    {
     "data": {
      "text/latex": [
       "No documentation found.\n",
       "\\texttt{expr_Clh} is a generic \\texttt{Function}.\n",
       "\\begin{verbatim}\n",
       "# 1 method for generic function \"##7968\":\n",
       "##7968(h0, k, w, C, t)\n",
       "\\end{verbatim}\n"
      ],
      "text/markdown": [
       "No documentation found.\n",
       "\n",
       "`expr_Clh` is a generic `Function`.\n",
       "\n",
       "```julia\n",
       "# 1 method for generic function \"##7968\":\n",
       "##7968(h0, k, w, C, t)\n",
       "```\n"
      ],
      "text/plain": [
       "No documentation found.\n",
       "\n",
       "`expr_Clh` is a generic `Function`.\n",
       "\n",
       "```julia\n",
       "# 1 method for generic function \"##7968\":\n",
       "##7968(h0, k, w, C, t)\n",
       "```\n"
      ]
     },
     "execution_count": 34,
     "metadata": {},
     "output_type": "execute_result"
    }
   ],
   "source": [
    "?expr_Clh\n"
   ]
  },
  {
   "cell_type": "code",
   "execution_count": 25,
   "metadata": {
    "collapsed": false
   },
   "outputs": [
    {
     "data": {
      "text/plain": [
       "(anonymous function)"
      ]
     },
     "execution_count": 25,
     "metadata": {},
     "output_type": "execute_result"
    }
   ],
   "source": [
    "convert(Function,Cl_h)"
   ]
  },
  {
   "cell_type": "code",
   "execution_count": 26,
   "metadata": {
    "collapsed": false
   },
   "outputs": [
    {
     "data": {
      "text/plain": [
       "(anonymous function)"
      ]
     },
     "execution_count": 26,
     "metadata": {},
     "output_type": "execute_result"
    }
   ],
   "source": [
    "ans\n"
   ]
  },
  {
   "cell_type": "code",
   "execution_count": 27,
   "metadata": {
    "collapsed": false
   },
   "outputs": [
    {
     "data": {
      "text/plain": [
       "svec(2*pi*h0*k*(-2*I*C + k)*exp(I*t*w),Box(#undef),Box(\n",
       "[h0]\n",
       "[  ]\n",
       "[k ]\n",
       "[  ]\n",
       "[w ]\n",
       "[  ]\n",
       "[C ]\n",
       "[  ]\n",
       "[t ]),Box(5))"
      ]
     },
     "execution_count": 27,
     "metadata": {},
     "output_type": "execute_result"
    }
   ],
   "source": [
    "ans.env"
   ]
  },
  {
   "cell_type": "code",
   "execution_count": 50,
   "metadata": {
    "collapsed": false
   },
   "outputs": [
    {
     "data": {
      "text/latex": [
       "$$\\frac{\\beta_{0}}{u^{2}} \\left(C u \\left(i b t_{11} w + 2 t_{10} u\\right) + b w \\left(b t_{1} w - i t_{4} u\\right)\\right) e^{i \\left(\\psi + t w\\right)}$$"
      ],
      "text/plain": [
       "                                                           I*(psi + t*w)\n",
       "beta0*(C*u*(I*b*t11*w + 2*t10*u) + b*w*(b*t1*w - I*t4*u))*e             \n",
       "------------------------------------------------------------------------\n",
       "                                    2                                   \n",
       "                                   u                                    "
      ]
     },
     "execution_count": 50,
     "metadata": {},
     "output_type": "execute_result"
    }
   ],
   "source": [
    "Cl_beta = simplify(-P_beta/(rho*u*u*b)) #Minus because lift is downward in Theo"
   ]
  },
  {
   "cell_type": "code",
   "execution_count": 51,
   "metadata": {
    "collapsed": false
   },
   "outputs": [
    {
     "data": {
      "text/latex": [
       "$$\\beta_{0} \\left(C \\left(i k t_{11} + 2 t_{10}\\right) + k \\left(k t_{1} - i t_{4}\\right)\\right) e^{i \\left(\\psi + t w\\right)}$$"
      ],
      "text/plain": [
       "                                               I*(psi + t*w)\n",
       "beta0*(C*(I*k*t11 + 2*t10) + k*(k*t1 - I*t4))*e             "
      ]
     },
     "execution_count": 51,
     "metadata": {},
     "output_type": "execute_result"
    }
   ],
   "source": [
    "Cl_beta = simplify(subs(Cl_beta,b*w,u*k)) "
   ]
  },
  {
   "cell_type": "code",
   "execution_count": null,
   "metadata": {
    "collapsed": true
   },
   "outputs": [],
   "source": []
  }
 ],
 "metadata": {
  "kernelspec": {
   "display_name": "Julia 0.4.6-pre",
   "language": "julia",
   "name": "julia-0.4"
  },
  "language_info": {
   "file_extension": ".jl",
   "mimetype": "application/julia",
   "name": "julia",
   "version": "0.4.6"
  }
 },
 "nbformat": 4,
 "nbformat_minor": 0
}
