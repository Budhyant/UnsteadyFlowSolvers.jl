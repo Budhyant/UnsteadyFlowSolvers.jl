{
 "cells": [
  {
   "cell_type": "code",
   "execution_count": 1,
   "metadata": {
    "collapsed": true
   },
   "outputs": [],
   "source": [
    "### Attempt to shed LEVs using the shear layer velocity instead of a 2D newton interation"
   ]
  },
  {
   "cell_type": "code",
   "execution_count": 1,
   "metadata": {
    "collapsed": false
   },
   "outputs": [
    {
     "name": "stderr",
     "output_type": "stream",
     "text": [
      "/Users/kiran/.julia/v0.5/Conda/deps/usr/lib/python2.7/site-packages/matplotlib/font_manager.py:273: UserWarning: Matplotlib is building the font cache using fc-list. This may take a moment.\n",
      "  warnings.warn('Matplotlib is building the font cache using fc-list. This may take a moment.')\n"
     ]
    }
   ],
   "source": [
    "include(\"../src/UNSflow.jl\")\n",
    "using UNSflow"
   ]
  },
  {
   "cell_type": "code",
   "execution_count": 2,
   "metadata": {
    "collapsed": false
   },
   "outputs": [
    {
     "data": {
      "text/plain": [
       "UNSflow.KinemDef(UNSflow.EldRampReturnDef(0.4363323129985824,0.11,11.0),UNSflow.ConstDef(0.0),UNSflow.ConstDef(1.0))"
      ]
     },
     "execution_count": 2,
     "metadata": {},
     "output_type": "execute_result"
    }
   ],
   "source": [
    "alphadef = EldRampReturnDef(25*pi/180,0.11,11)\n",
    "hdef = ConstDef(0.)\n",
    "udef = ConstDef(1.)\n",
    "full_kinem = KinemDef(alphadef, hdef, udef)"
   ]
  },
  {
   "cell_type": "code",
   "execution_count": 6,
   "metadata": {
    "collapsed": false
   },
   "outputs": [
    {
     "data": {
      "text/plain": [
       "UNSflow.TwoDFlowField(UNSflow.ConstDef(0.0),UNSflow.ConstDef(0.0),[0.0],[0.0],UNSflow.TwoDVort[],UNSflow.TwoDVort[],UNSflow.TwoDVort[])"
      ]
     },
     "execution_count": 6,
     "metadata": {},
     "output_type": "execute_result"
    }
   ],
   "source": [
    "pvt = 0.0 #leading edge\n",
    "\n",
    "lespcrit = [0.1;] #Note that the value is entered as an array. \n",
    "\n",
    "# The argument \"FlatPlate\" provides zero camber. To use an airfoil, specify the coordinate file which should be\n",
    "#in the same folder. For eg. \"sd7003.dat\". \n",
    "#The XFOIL convention must be used for the coordinate: TE->Upper surface->LE->Lower surface->TE\n",
    "surf = TwoDSurf(\"FlatPlate\", pvt, full_kinem,lespcrit)\n",
    "\n",
    "curfield = TwoDFlowField()\n",
    "\n"
   ]
  },
  {
   "cell_type": "code",
   "execution_count": 17,
   "metadata": {
    "collapsed": false
   },
   "outputs": [
    {
     "data": {
      "text/plain": [
       "UNSflow.TwoDFlowField(UNSflow.ConstDef(0.0),UNSflow.ConstDef(0.0),[0.0],[0.0],UNSflow.TwoDVort[UNSflow.TwoDVort(0.0075,-2.7894e-12,0.0,0.02,0.0,0.0)],UNSflow.TwoDVort[UNSflow.TwoDVort(-0.9925,0.0,0.0,0.02,0.0,0.0)],UNSflow.TwoDVort[])"
      ]
     },
     "execution_count": 17,
     "metadata": {},
     "output_type": "execute_result"
    }
   ],
   "source": [
    "surf = TwoDSurf(\"FlatPlate\", pvt, full_kinem,lespcrit)\n",
    "\n",
    "curfield = TwoDFlowField()\n",
    "\n",
    "\n",
    "surf.a0[1] = 0.2\n",
    "dt = 0.015\n",
    "place_tev(surf,curfield,dt)\n",
    " place_lev(surf,curfield,dt)"
   ]
  },
  {
   "cell_type": "code",
   "execution_count": 18,
   "metadata": {
    "collapsed": false
   },
   "outputs": [
    {
     "data": {
      "text/plain": [
       "Results of Nonlinear Solver Algorithm\n",
       " * Algorithm: Trust-region with dogleg and autoscaling\n",
       " * Starting Point: [-0.01,0.01]\n",
       " * Zero: [-0.00131769,0.141262]\n",
       " * Inf-norm of residuals: 0.000000\n",
       " * Iterations: 2\n",
       " * Convergence: true\n",
       "   * |x - x'| < 0.0e+00: false\n",
       "   * |f(x)| < 1.0e-08: true\n",
       " * Function Calls (f): 3\n",
       " * Jacobian Calls (df/dx): 3"
      ]
     },
     "execution_count": 18,
     "metadata": {},
     "output_type": "execute_result"
    }
   ],
   "source": [
    "kelvkutta = KelvinKutta(surf,curfield)\n",
    "soln = nlsolve(not_in_place(kelvkutta), [-0.01; 0.01])"
   ]
  },
  {
   "cell_type": "code",
   "execution_count": 20,
   "metadata": {
    "collapsed": false
   },
   "outputs": [
    {
     "data": {
      "text/plain": [
       "1-element Array{Float64,1}:\n",
       " -0.0999958"
      ]
     },
     "execution_count": 20,
     "metadata": {},
     "output_type": "execute_result"
    }
   ],
   "source": [
    "surf.a0"
   ]
  },
  {
   "cell_type": "code",
   "execution_count": null,
   "metadata": {
    "collapsed": true
   },
   "outputs": [],
   "source": []
  },
  {
   "cell_type": "code",
   "execution_count": 5,
   "metadata": {
    "collapsed": false
   },
   "outputs": [
    {
     "name": "stderr",
     "output_type": "stream",
     "text": [
      "WARNING: slice is deprecated, use view instead.\n",
      " in depwarn(::String, ::Symbol) at ./deprecated.jl:64\n",
      " in slice(::Array{Float64,2}, ::Vararg{Any,N}) at ./deprecated.jl:30\n",
      " in sumabs2j at /Users/kiran/.julia/v0.5/NLsolve/src/utils.jl:1 [inlined]\n",
      " in trust_region_(::NLsolve.DifferentiableMultivariateFunction, ::Array{Float64,1}, ::Float64, ::Float64, ::Int64, ::Bool, ::Bool, ::Bool, ::Float64, ::Bool) at /Users/kiran/.julia/v0.5/NLsolve/src/trust_region.jl:105\n",
      " in #nlsolve#17(::Symbol, ::Float64, ::Float64, ::Int64, ::Bool, ::Bool, ::Bool, ::Function, ::Float64, ::Bool, ::NLsolve.#nlsolve, ::NLsolve.DifferentiableMultivariateFunction, ::Array{Float64,1}) at /Users/kiran/.julia/v0.5/NLsolve/src/nlsolve_func_defs.jl:24\n",
      " in ldvm(::UNSflow.TwoDSurf, ::UNSflow.TwoDFlowField, ::Int64, ::Float64, ::UNSflow.DelVortDef, ::Array{Float64,2}, ::Float64) at /Users/kiran/Documents/Projects/UNSflow/src/solvers.jl:399\n",
      " in ldvm(::UNSflow.TwoDSurf, ::UNSflow.TwoDFlowField, ::Int64) at /Users/kiran/Documents/Projects/UNSflow/src/solvers.jl:366\n",
      " in include_string(::String, ::String) at ./loading.jl:441\n",
      " in execute_request(::ZMQ.Socket, ::IJulia.Msg) at /Users/kiran/.julia/v0.5/IJulia/src/execute_request.jl:169\n",
      " in eventloop(::ZMQ.Socket) at /Users/kiran/.julia/v0.5/IJulia/src/eventloop.jl:8\n",
      " in (::IJulia.##9#15)() at ./task.jl:360\n",
      "while loading In[5], in expression starting on line 11\n",
      "WARNING: slice is deprecated, use view instead.\n",
      " in depwarn(::String, ::Symbol) at ./deprecated.jl:64\n",
      " in slice(::Array{Float64,2}, ::Vararg{Any,N}) at ./deprecated.jl:30\n",
      " in sumabs2j at /Users/kiran/.julia/v0.5/NLsolve/src/utils.jl:1 [inlined]\n",
      " in trust_region_(::NLsolve.DifferentiableMultivariateFunction, ::Array{Float64,1}, ::Float64, ::Float64, ::Int64, ::Bool, ::Bool, ::Bool, ::Float64, ::Bool) at /Users/kiran/.julia/v0.5/NLsolve/src/trust_region.jl:145\n",
      " in #nlsolve#17(::Symbol, ::Float64, ::Float64, ::Int64, ::Bool, ::Bool, ::Bool, ::Function, ::Float64, ::Bool, ::NLsolve.#nlsolve, ::NLsolve.DifferentiableMultivariateFunction, ::Array{Float64,1}) at /Users/kiran/.julia/v0.5/NLsolve/src/nlsolve_func_defs.jl:24\n",
      " in ldvm(::UNSflow.TwoDSurf, ::UNSflow.TwoDFlowField, ::Int64, ::Float64, ::UNSflow.DelVortDef, ::Array{Float64,2}, ::Float64) at /Users/kiran/Documents/Projects/UNSflow/src/solvers.jl:399\n",
      " in ldvm(::UNSflow.TwoDSurf, ::UNSflow.TwoDFlowField, ::Int64) at /Users/kiran/Documents/Projects/UNSflow/src/solvers.jl:366\n",
      " in include_string(::String, ::String) at ./loading.jl:441\n",
      " in execute_request(::ZMQ.Socket, ::IJulia.Msg) at /Users/kiran/.julia/v0.5/IJulia/src/execute_request.jl:169\n",
      " in eventloop(::ZMQ.Socket) at /Users/kiran/.julia/v0.5/IJulia/src/eventloop.jl:8\n",
      " in (::IJulia.##9#15)() at ./task.jl:360\n",
      "while loading In[5], in expression starting on line 11\n"
     ]
    },
    {
     "data": {
      "text/plain": [
       "(\n",
       "[0.015 3.88004e-12 … -0.00313718 -1.03687; 0.03 5.39695e-12 … -0.00310377 -0.0731614; … ; 6.99 3.05084e-11 … -0.0020327 -0.131838; 7.005 2.19333e-11 … -0.00203312 -0.132138],\n",
       "\n",
       "UNSflow.TwoDSurf(1.0,1.0,\"sd7003_fine.dat\",0.0,70,35,UNSflow.KinemDef(UNSflow.EldRampReturnDef(0.4363323129985824,0.11,11.0),UNSflow.ConstDef(0.0),UNSflow.ConstDef(1.0)),[0.0,-5.99471e-6,0.000351646,0.000894037,0.00142227,0.00207434,0.00279854,0.00356268,0.00436563,0.0052146  …  0.00264481,0.00214758,0.00167547,0.00124276,0.000864072,0.000549277,0.000305074,0.000132841,3.09154e-5,-2.10125e-22],[-0.116908,0.0825492,0.277066,0.165111,0.139332,0.137238,0.121122,0.109736,0.101937,0.0952721  …  -0.0557201,-0.060042,-0.0637845,-0.0663916,-0.067739,-0.0680462,-0.0667908,-0.0671201,-0.0618912,-0.057189],[0.0,0.0455303,0.0910607,0.136591,0.182121,0.227652,0.273182,0.318712,0.364243,0.409773  …  2.73182,2.77735,2.82288,2.86841,2.91394,2.95947,3.005,3.05053,3.09606,3.14159],[0.0,0.000518163,0.00207158,0.00465703,0.00826915,0.0129005,0.0185414,0.0251802,0.0328031,0.0413943  …  0.958606,0.967197,0.97482,0.981459,0.9871,0.991731,0.995343,0.997928,0.999482,1.0],UNSflow.KinemPar(2.1933279129683904e-11,0.0,-4.82530581570466e-10,0.0,1.0,0.0),[-8.005,-8.00448,-8.00293,-8.00034,-7.99673,-7.9921,-7.98646,-7.97982,-7.9722,-7.96361  …  -7.04639,-7.0378,-7.03018,-7.02354,-7.0179,-7.01327,-7.00966,-7.00707,-7.00552,-7.005],[0.0,-5.99471e-6,0.000351646,0.000894037,0.00142227,0.00207434,0.00279854,0.00356268,0.00436563,0.0052146  …  0.00264481,0.00214758,0.00167547,0.00124276,0.000864072,0.000549277,0.000305074,0.000132841,3.09154e-5,-1.80182e-11],[-0.0144479,-0.0144553,-0.0144709,-0.0144979,-0.01454,-0.0145949,-0.0146638,-0.0147476,-0.0148466,-0.0149612  …  -0.104598,-0.109289,-0.113807,-0.118042,-0.121838,-0.125032,-0.127558,-0.129398,-0.130521,-0.130908],[0.0371132,0.0371224,0.0371552,0.0372093,0.0372817,0.0373744,0.0374868,0.0376182,0.0377686,0.0379381  …  -0.0129,-0.0216387,-0.0310029,-0.0404159,-0.048633,-0.0544414,-0.0579417,-0.0599278,-0.060933,-0.0612336],[-0.152332,0.0442336,0.235901,0.125508,0.100025,0.0978608,0.0818596,0.0704999,0.0626551,0.0559086  …  -0.0369919,-0.0318414,-0.0255225,-0.0181387,-0.0108528,-0.00509689,-0.000329336,0.00149286,0.00711985,0.0115311],[0.0179883],[0.045289,0.0502733,0.00495301,0.0147715,-0.00119628,0.00447851,-0.00272648,-0.000594098,-0.00357375,-0.00244309  …  -0.00731469,-0.00768693,-0.00740461,-0.00777015,-0.0074866,-0.00779763,-0.00750051,-0.00774999,-0.00744673,-0.0075854],[0.000121885],[0.102421,-0.102964,0.0767286],[0.0179883],[0.045289,0.0502733,0.00495301],UNSflow.TwoDVort[UNSflow.TwoDVort(-8.00474,-2.99736e-6,0.00149995,0.02,0.0,0.0),UNSflow.TwoDVort(-8.00371,0.000172826,0.00130612,0.02,0.0,0.0),UNSflow.TwoDVort(-8.00164,0.000622842,0.00157604,0.02,0.0,0.0),UNSflow.TwoDVort(-7.99854,0.00115816,0.00216258,0.02,0.0,0.0),UNSflow.TwoDVort(-7.99442,0.00174831,0.00230611,0.02,0.0,0.0),UNSflow.TwoDVort(-7.98928,0.00243644,0.00214393,0.02,0.0,0.0),UNSflow.TwoDVort(-7.98314,0.00318061,0.00240725,0.02,0.0,0.0),UNSflow.TwoDVort(-7.97601,0.00396416,0.0029225,0.02,0.0,0.0),UNSflow.TwoDVort(-7.9679,0.00479012,0.00300744,0.02,0.0,0.0),UNSflow.TwoDVort(-7.95883,0.00564767,0.00289957,0.02,0.0,0.0)  …  UNSflow.TwoDVort(-7.05117,0.00289946,-0.000509689,0.02,0.0,0.0),UNSflow.TwoDVort(-7.0421,0.0023962,-0.000529499,0.02,0.0,0.0),UNSflow.TwoDVort(-7.03399,0.00191153,-0.000449007,0.02,0.0,0.0),UNSflow.TwoDVort(-7.02686,0.00145911,-0.000387693,0.02,0.0,0.0),UNSflow.TwoDVort(-7.02072,0.00105341,-0.000356378,0.02,0.0,0.0),UNSflow.TwoDVort(-7.01558,0.000706674,-0.000268988,0.02,0.0,0.0),UNSflow.TwoDVort(-7.01146,0.000427175,-0.000150651,0.02,0.0,0.0),UNSflow.TwoDVort(-7.00836,0.000218957,-8.1031e-5,0.02,0.0,0.0),UNSflow.TwoDVort(-7.00629,8.18782e-5,-4.57467e-5,0.02,0.0,0.0),UNSflow.TwoDVort(-7.00526,1.54577e-5,-1.38128e-5,0.02,0.0,0.0)],[0.18],Int8[0]),UNSflow.TwoDFlowField(UNSflow.ConstDef(0.0),UNSflow.ConstDef(0.0),[0.0],[0.0],UNSflow.TwoDVort[UNSflow.TwoDVort(-0.227533,0.363252,-0.0145628,0.02,-0.0397214,0.0415004),UNSflow.TwoDVort(-0.257923,0.392492,-0.000525495,0.02,-0.0892159,0.00394857),UNSflow.TwoDVort(-0.200707,0.383391,-0.00247381,0.02,-0.0895949,0.0999726),UNSflow.TwoDVort(-0.192617,0.324605,-0.00182638,0.02,0.0123019,0.0851172),UNSflow.TwoDVort(-0.176773,0.380674,-0.00164046,0.02,-0.0635857,0.112553),UNSflow.TwoDVort(-0.172278,0.348282,-0.00147138,0.02,-0.0189428,0.109453),UNSflow.TwoDVort(-0.267852,0.339306,-0.00134402,0.02,-0.014587,0.00453225),UNSflow.TwoDVort(-0.252838,0.422723,-0.00124149,0.02,-0.0966886,0.0313973),UNSflow.TwoDVort(-0.176556,0.431529,-0.00115691,0.02,-0.0901156,0.077855),UNSflow.TwoDVort(-0.135411,0.402433,-0.00108554,0.02,-0.0648704,0.0990209)  …  UNSflow.TwoDVort(-6.89727,-0.0165443,-0.00396227,0.02,-0.200225,-0.107622),UNSflow.TwoDVort(-6.90763,-0.0142832,-0.00372726,0.02,-0.196841,-0.100533),UNSflow.TwoDVort(-6.91821,-0.0121856,-0.00351492,0.02,-0.191869,-0.0942782),UNSflow.TwoDVort(-6.92905,-0.0102714,-0.00332239,0.02,-0.185318,-0.088591),UNSflow.TwoDVort(-6.94018,-0.00854255,-0.00314537,0.02,-0.177417,-0.0836008),UNSflow.TwoDVort(-6.95164,-0.00698392,-0.00298022,0.02,-0.168627,-0.0796001),UNSflow.TwoDVort(-6.96342,-0.00556871,-0.00282542,0.02,-0.159495,-0.0769739),UNSflow.TwoDVort(-6.97553,-0.00426256,-0.00268051,0.02,-0.150557,-0.0762632),UNSflow.TwoDVort(-6.98794,-0.00302394,-0.0025451,0.02,-0.142282,-0.0780463),UNSflow.TwoDVort(-7.00062,-0.00180407,-0.00241899,0.02,-0.1344,-0.0790883)],UNSflow.TwoDVort[UNSflow.TwoDVort(-3.10836,-1.47885,0.00349872,0.02,0.0636351,-0.181442),UNSflow.TwoDVort(-3.1177,-1.44432,0.00562678,0.02,0.06902,-0.17065),UNSflow.TwoDVort(-3.14283,-1.34788,0.00830904,0.02,0.0519475,-0.160873),UNSflow.TwoDVort(-3.33914,-1.14312,0.0107445,0.02,-0.0143005,-0.135525),UNSflow.TwoDVort(-3.71697,-1.12218,0.0128695,0.02,-0.0646979,-0.250678),UNSflow.TwoDVort(-3.6405,-1.1024,0.0147576,0.02,-0.115944,-0.0944065),UNSflow.TwoDVort(-3.74459,-1.18022,0.0164962,0.02,0.0276272,-0.174501),UNSflow.TwoDVort(-3.95097,-1.00148,0.0181297,0.02,-0.183746,-0.12113),UNSflow.TwoDVort(-3.6185,-1.15299,0.0196746,0.02,-0.0786837,-0.14882),UNSflow.TwoDVort(-4.05408,-1.13319,0.0211339,0.02,0.0610567,-0.156792)  …  UNSflow.TwoDVort(-5.11583,3.14377e-5,0.00991251,0.02,0.0537159,-0.763049),UNSflow.TwoDVort(-5.78109,-0.0549006,0.00907945,0.02,0.0732744,0.77562),UNSflow.TwoDVort(-5.71289,-0.468876,0.00779451,0.02,-0.407176,0.222935),UNSflow.TwoDVort(-5.60665,-0.597902,0.00699445,0.02,-0.422255,0.0972309),UNSflow.TwoDVort(-5.594,-0.590984,0.00567077,0.02,-0.396142,0.0342832),UNSflow.TwoDVort(-5.58062,-0.652862,0.00431037,0.02,-0.422284,0.0274718),UNSflow.TwoDVort(-5.51126,-0.694849,0.00300391,0.02,-0.393229,-0.0328306),UNSflow.TwoDVort(-5.51274,-0.704718,0.00221156,0.02,-0.409945,-0.0285909),UNSflow.TwoDVort(-5.46442,-0.730612,0.00109562,0.02,-0.395272,-0.0734165),UNSflow.TwoDVort(-5.49001,-0.703832,0.000607305,0.02,-0.401629,-0.0722223)],UNSflow.TwoDVort[]),0.0)"
      ]
     },
     "execution_count": 5,
     "metadata": {},
     "output_type": "execute_result"
    }
   ],
   "source": [
    "\n",
    "\n",
    "#Specify simulation details - time step, and number of steps.\n",
    "#The default nondimensional timestep is 0.015. There is usually no need to change this. \n",
    "\n",
    "time_total = 7. #Required total time\n",
    "nsteps = Int(round(time_total/0.015))\n",
    "\n",
    "\n",
    "\n",
    "#Now the code is run as :\n",
    "#The variables mat, surf and curfield are returned\n",
    "mat, surf, curfield = ldvm(surf, curfield, nsteps)\n",
    "\n"
   ]
  },
  {
   "cell_type": "code",
   "execution_count": 6,
   "metadata": {
    "collapsed": false
   },
   "outputs": [
    {
     "data": {
      "text/plain": [
       "144-element Array{UNSflow.TwoDVort,1}:\n",
       " UNSflow.TwoDVort(-3.10836,-1.47885,0.00349872,0.02,0.0636351,-0.181442)   \n",
       " UNSflow.TwoDVort(-3.1177,-1.44432,0.00562678,0.02,0.06902,-0.17065)       \n",
       " UNSflow.TwoDVort(-3.14283,-1.34788,0.00830904,0.02,0.0519475,-0.160873)   \n",
       " UNSflow.TwoDVort(-3.33914,-1.14312,0.0107445,0.02,-0.0143005,-0.135525)   \n",
       " UNSflow.TwoDVort(-3.71697,-1.12218,0.0128695,0.02,-0.0646979,-0.250678)   \n",
       " UNSflow.TwoDVort(-3.6405,-1.1024,0.0147576,0.02,-0.115944,-0.0944065)     \n",
       " UNSflow.TwoDVort(-3.74459,-1.18022,0.0164962,0.02,0.0276272,-0.174501)    \n",
       " UNSflow.TwoDVort(-3.95097,-1.00148,0.0181297,0.02,-0.183746,-0.12113)     \n",
       " UNSflow.TwoDVort(-3.6185,-1.15299,0.0196746,0.02,-0.0786837,-0.14882)     \n",
       " UNSflow.TwoDVort(-4.05408,-1.13319,0.0211339,0.02,0.0610567,-0.156792)    \n",
       " UNSflow.TwoDVort(-3.6917,-1.05199,0.022508,0.02,-0.180674,-0.275576)      \n",
       " UNSflow.TwoDVort(-6.75633,0.0244376,0.023798,0.02,-0.669035,-0.240633)    \n",
       " UNSflow.TwoDVort(-6.58163,0.21408,0.0250059,0.02,-0.496718,0.100954)      \n",
       " ⋮                                                                         \n",
       " UNSflow.TwoDVort(-5.23211,0.252587,0.0113242,0.02,0.356492,-0.350933)     \n",
       " UNSflow.TwoDVort(-5.29589,0.495697,0.0108352,0.02,0.387751,-0.384916)     \n",
       " UNSflow.TwoDVort(-5.11583,3.14377e-5,0.00991251,0.02,0.0537159,-0.763049) \n",
       " UNSflow.TwoDVort(-5.78109,-0.0549006,0.00907945,0.02,0.0732744,0.77562)   \n",
       " UNSflow.TwoDVort(-5.71289,-0.468876,0.00779451,0.02,-0.407176,0.222935)   \n",
       " UNSflow.TwoDVort(-5.60665,-0.597902,0.00699445,0.02,-0.422255,0.0972309)  \n",
       " UNSflow.TwoDVort(-5.594,-0.590984,0.00567077,0.02,-0.396142,0.0342832)    \n",
       " UNSflow.TwoDVort(-5.58062,-0.652862,0.00431037,0.02,-0.422284,0.0274718)  \n",
       " UNSflow.TwoDVort(-5.51126,-0.694849,0.00300391,0.02,-0.393229,-0.0328306) \n",
       " UNSflow.TwoDVort(-5.51274,-0.704718,0.00221156,0.02,-0.409945,-0.0285909) \n",
       " UNSflow.TwoDVort(-5.46442,-0.730612,0.00109562,0.02,-0.395272,-0.0734165) \n",
       " UNSflow.TwoDVort(-5.49001,-0.703832,0.000607305,0.02,-0.401629,-0.0722223)"
      ]
     },
     "execution_count": 6,
     "metadata": {},
     "output_type": "execute_result"
    }
   ],
   "source": [
    "curfield.lev"
   ]
  },
  {
   "cell_type": "code",
   "execution_count": 7,
   "metadata": {
    "collapsed": true
   },
   "outputs": [],
   "source": [
    "### Calculation of shear layer velocity\n"
   ]
  },
  {
   "cell_type": "code",
   "execution_count": null,
   "metadata": {
    "collapsed": true
   },
   "outputs": [],
   "source": []
  }
 ],
 "metadata": {
  "kernelspec": {
   "display_name": "Julia 0.5.0-rc4",
   "language": "julia",
   "name": "julia-0.5"
  },
  "language_info": {
   "file_extension": ".jl",
   "mimetype": "application/julia",
   "name": "julia",
   "version": "0.5.0"
  }
 },
 "nbformat": 4,
 "nbformat_minor": 1
}
