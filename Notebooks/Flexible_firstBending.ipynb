{
 "cells": [
  {
   "cell_type": "code",
   "execution_count": 25,
   "metadata": {
    "collapsed": false
   },
   "outputs": [
    {
     "name": "stderr",
     "output_type": "stream",
     "text": [
      "WARNING: replacing module UNSflow\n",
      "\n",
      "WARNING: deprecated syntax \"call(eld::EldUpDef, ...)\".\n",
      "Use \"(eld::EldUpDef)(...)\" instead.\n",
      "\n",
      "WARNING: deprecated syntax \"call(eld::EldUptstartDef, ...)\".\n",
      "Use \"(eld::EldUptstartDef)(...)\" instead.\n",
      "\n",
      "WARNING: deprecated syntax \"call(cons::ConstDef, ...)\".\n",
      "Use \"(cons::ConstDef)(...)\" instead.\n",
      "\n",
      "WARNING: deprecated syntax \"call(eld::EldRampReturnDef, ...)\".\n",
      "Use \"(eld::EldRampReturnDef)(...)\" instead.\n",
      "\n",
      "WARNING: deprecated syntax \"call(kin::SinDef, ...)\".\n",
      "Use \"(kin::SinDef)(...)\" instead.\n",
      "\n",
      "WARNING: deprecated syntax \"call(kin::CosDef, ...)\".\n",
      "Use \"(kin::CosDef)(...)\" instead.\n",
      "WARNING: Base.ASCIIString is deprecated, use String instead.\n",
      "  likely near /Users/kiran/Documents/Projects/UNSflow/src/types.jl:294\n",
      "WARNING: Base.ASCIIString is deprecated, use String instead.\n",
      "  likely near /Users/kiran/Documents/Projects/UNSflow/src/types.jl:294\n",
      "WARNING: Base.ASCIIString is deprecated, use String instead.\n",
      "  likely near /Users/kiran/Documents/Projects/UNSflow/src/types.jl:486\n",
      "WARNING: Base.ASCIIString is deprecated, use String instead.\n",
      "  likely near /Users/kiran/Documents/Projects/UNSflow/src/types.jl:486\n",
      "WARNING: Base.ASCIIString is deprecated, use String instead.\n",
      "  likely near /Users/kiran/Documents/Projects/UNSflow/src/types.jl:606\n",
      "WARNING: Base.ASCIIString is deprecated, use String instead.\n",
      "  likely near /Users/kiran/Documents/Projects/UNSflow/src/types.jl:674\n",
      "\n",
      "WARNING: deprecated syntax \"call(eld::EldUpIntDef, ...)\".\n",
      "Use \"(eld::EldUpIntDef)(...)\" instead.\n",
      "\n",
      "WARNING: deprecated syntax \"call(eld::EldUpInttstartDef, ...)\".\n",
      "Use \"(eld::EldUpInttstartDef)(...)\" instead.\n",
      "\n",
      "WARNING: deprecated syntax \"call(kelv::KelvinCondition, ...)\".\n",
      "Use \"(kelv::KelvinCondition)(...)\" instead.\n",
      "\n",
      "WARNING: deprecated syntax \"call(kelv::KelvinCondition2DOF, ...)\".\n",
      "Use \"(kelv::KelvinCondition2DOF)(...)\" instead.\n",
      "\n",
      "WARNING: deprecated syntax \"call(kelv::KelvinCondition2DFree, ...)\".\n",
      "Use \"(kelv::KelvinCondition2DFree)(...)\" instead.\n",
      "\n",
      "WARNING: deprecated syntax \"call(kelv::KelvinConditionwFlap, ...)\".\n",
      "Use \"(kelv::KelvinConditionwFlap)(...)\" instead.\n",
      "\n",
      "WARNING: deprecated syntax \"call(kelv::KelvinKutta, ...)\".\n",
      "Use \"(kelv::KelvinKutta)(...)\" instead.\n",
      "\n",
      "WARNING: deprecated syntax \"call(kelv::KelvinKutta2DOF, ...)\".\n",
      "Use \"(kelv::KelvinKutta2DOF)(...)\" instead.\n",
      "\n",
      "WARNING: deprecated syntax \"call(kelv::KelvinKutta2DFree, ...)\".\n",
      "Use \"(kelv::KelvinKutta2DFree)(...)\" instead.\n",
      "\n",
      "WARNING: deprecated syntax \"call(kelv::KelvinKuttawFlap, ...)\".\n",
      "Use \"(kelv::KelvinKuttawFlap)(...)\" instead.\n",
      "WARNING: Base.ASCIIString is deprecated, use String instead.\n",
      "  likely near /Users/kiran/Documents/Projects/UNSflow/src/calculations.jl:610\n"
     ]
    },
    {
     "data": {
      "text/plain": [
       "UNSflow"
      ]
     },
     "execution_count": 25,
     "metadata": {},
     "output_type": "execute_result"
    }
   ],
   "source": [
    "#workspace()\n",
    "include(\"../src/UNSflow.jl\")"
   ]
  },
  {
   "cell_type": "code",
   "execution_count": 26,
   "metadata": {
    "collapsed": false
   },
   "outputs": [
    {
     "name": "stderr",
     "output_type": "stream",
     "text": [
      "WARNING: using UNSflow.ConstDef in module Main conflicts with an existing identifier.\n",
      "WARNING: using UNSflow.TwoDSurf in module Main conflicts with an existing identifier.\n",
      "WARNING: using UNSflow.TwoDFlowField in module Main conflicts with an existing identifier.\n",
      "WARNING: using UNSflow.ldvm in module Main conflicts with an existing identifier.\n",
      "WARNING: using UNSflow.KinemDef in module Main conflicts with an existing identifier.\n",
      "WARNING: using UNSflow.DelVortDef in module Main conflicts with an existing identifier.\n",
      "WARNING: using UNSflow.CosDef in module Main conflicts with an existing identifier.\n"
     ]
    }
   ],
   "source": [
    "using UNSflow"
   ]
  },
  {
   "cell_type": "markdown",
   "metadata": {},
   "source": [
    "# Recreate Antonio 3D results using a strip theory approach and LDVM"
   ]
  },
  {
   "cell_type": "code",
   "execution_count": 27,
   "metadata": {
    "collapsed": false
   },
   "outputs": [
    {
     "data": {
      "text/plain": [
       "224.99718753515583"
      ]
     },
     "execution_count": 27,
     "metadata": {},
     "output_type": "execute_result"
    }
   ],
   "source": [
    "c = 0.2\n",
    "u = 10\n",
    "f = 0.8889\n",
    "k = 2*pi*f*c/(2*u)\n",
    "c = 1\n",
    "u = 1\n",
    "w = 2*k\n",
    "b = 6\n",
    "\n",
    "T = (2*pi/w)\n",
    "ncyc = 4\n",
    "t_tot = ncyc*T "
   ]
  },
  {
   "cell_type": "code",
   "execution_count": 28,
   "metadata": {
    "collapsed": false
   },
   "outputs": [],
   "source": [
    "#The bending mode which we wish to simulate\n",
    "data = readdlm(\"../test/anto_mode1.dat\");"
   ]
  },
  {
   "cell_type": "code",
   "execution_count": 29,
   "metadata": {
    "collapsed": false
   },
   "outputs": [],
   "source": [
    "using PyPlot"
   ]
  },
  {
   "cell_type": "code",
   "execution_count": 30,
   "metadata": {
    "collapsed": false
   },
   "outputs": [
    {
     "data": {
      "image/png": "[encoded data removed]",
      "text/plain": [
       "PyPlot.Figure(PyObject <matplotlib.figure.Figure object at 0x316dea450>)"
      ]
     },
     "metadata": {},
     "output_type": "display_data"
    },
    {
     "data": {
      "text/plain": [
       "1-element Array{Any,1}:\n",
       " PyObject <matplotlib.lines.Line2D object at 0x317d6b550>"
      ]
     },
     "execution_count": 30,
     "metadata": {},
     "output_type": "execute_result"
    }
   ],
   "source": [
    "plot(data[:,3],data[:,4])"
   ]
  },
  {
   "cell_type": "markdown",
   "metadata": {},
   "source": [
    "### Let's place strips at -3, -2, -1 and 0. Set up 2D problems at these positions. \n",
    "\n"
   ]
  },
  {
   "cell_type": "code",
   "execution_count": null,
   "metadata": {
    "collapsed": false
   },
   "outputs": [],
   "source": [
    "#Strip at y = -3\n",
    "\n",
    "h_amp = 0.45/c #input is nondimensional\n",
    "alpha_amp = 5*pi/180 #Root incidence\n",
    "\n",
    "\n",
    "\n",
    "dtstar = 0.015*0.2*2/(k*h_amp) \n",
    "dt = dtstar*c/u\n",
    "\n",
    "nsteps =round(Int,t_tot/dt)+1\n",
    "\n",
    "alphadef = ConstDef(alpha_amp)\n",
    "hdef = CosDef(0., h_amp, w, 0.)\n",
    "udef = ConstDef(u)\n",
    "\n",
    "full_kinem = KinemDef(alphadef, hdef, udef)\n",
    "\n",
    "pvt = 0.0 #Doesnt matter, no pitch\n",
    "\n",
    "lespcrit = [21;] #high value to turn off LEV shedding\n",
    "\n",
    "surf = TwoDSurf(c, u, \"FlatPlate\", pvt, 70, 35, \"Prescribed\", full_kinem, lespcrit)\n",
    "\n",
    "curfield = TwoDFlowField()\n",
    "\n",
    "del = DelVortDef(1, 500, 10)\n"
   ]
  },
  {
   "cell_type": "code",
   "execution_count": null,
   "metadata": {
    "collapsed": false
   },
   "outputs": [],
   "source": [
    "nsteps"
   ]
  },
  {
   "cell_type": "code",
   "execution_count": null,
   "metadata": {
    "collapsed": false,
    "scrolled": true
   },
   "outputs": [],
   "source": [
    "mat, surf, curfield = ldvm(surf, curfield, nsteps, dtstar)"
   ]
  },
  {
   "cell_type": "code",
   "execution_count": null,
   "metadata": {
    "collapsed": false
   },
   "outputs": [],
   "source": [
    "range = round(Int,(ncyc-1)*nsteps/ncyc)+1:nsteps\n",
    "tbyT = (mat[range,1]-mat[range[1]])/T\n"
   ]
  },
  {
   "cell_type": "code",
   "execution_count": null,
   "metadata": {
    "collapsed": false
   },
   "outputs": [],
   "source": [
    "plot(tbyT,mat[range,5])\n"
   ]
  },
  {
   "cell_type": "code",
   "execution_count": null,
   "metadata": {
    "collapsed": false
   },
   "outputs": [],
   "source": [
    "##Store these values so we can get back to it later\n",
    "\n",
    "mat1, surf1, curfield1 = mat, surf, curfield\n"
   ]
  },
  {
   "cell_type": "code",
   "execution_count": null,
   "metadata": {
    "collapsed": false
   },
   "outputs": [],
   "source": [
    "# Second strip \n",
    "\n",
    "#Strip at y = -2\n",
    "\n",
    "h_amp = (0.1638 + 0.1407)/(2*c) #m #Roughly calculated from file\n",
    "alpha_amp = 5*pi/180 # built incidence\n",
    "\n",
    "\n",
    "dtstar = 0.015*0.2*2/(k*h_amp) \n",
    "dt = dtstar*c/u\n",
    "\n",
    "nsteps =round(Int,t_tot/dt)+1\n",
    "\n",
    "alphadef = ConstDef(alpha_amp)\n",
    "hdef = CosDef(0., h_amp, w, 0.)\n",
    "udef = ConstDef(u)\n",
    "\n",
    "full_kinem = KinemDef(alphadef, hdef, udef)\n",
    "\n",
    "pvt = 0.0 #Doesnt matter, no pitch\n",
    "\n",
    "lespcrit = [21;] #high value to turn off LEV shedding\n",
    "\n",
    "surf = TwoDSurf(c, u, \"FlatPlate\", pvt, 70, 35, \"Prescribed\", full_kinem, lespcrit)\n",
    "\n",
    "curfield = TwoDFlowField()\n",
    "\n",
    "del = DelVortDef(1, 500, 10)\n",
    "\n",
    "\n",
    "\n"
   ]
  },
  {
   "cell_type": "code",
   "execution_count": null,
   "metadata": {
    "collapsed": false
   },
   "outputs": [],
   "source": [
    "mat, surf, curfield = ldvm(surf, curfield, nsteps, dtstar)"
   ]
  },
  {
   "cell_type": "code",
   "execution_count": null,
   "metadata": {
    "collapsed": false
   },
   "outputs": [],
   "source": [
    "range = round(Int,(ncyc-1)*nsteps/ncyc)+1:nsteps\n",
    "tbyT = (mat[range,1]-mat[range[1]])/T"
   ]
  },
  {
   "cell_type": "code",
   "execution_count": null,
   "metadata": {
    "collapsed": false
   },
   "outputs": [],
   "source": [
    "plot(tbyT,mat[range,6])"
   ]
  },
  {
   "cell_type": "code",
   "execution_count": null,
   "metadata": {
    "collapsed": false
   },
   "outputs": [],
   "source": [
    "##Store these values so we can get back to it later\n",
    "\n",
    "mat2, surf2, curfield2 = mat, surf, curfield"
   ]
  },
  {
   "cell_type": "code",
   "execution_count": null,
   "metadata": {
    "collapsed": false
   },
   "outputs": [],
   "source": [
    "# Third strip \n",
    "\n",
    "#Strip at y = -1\n",
    "\n",
    "h_amp = (-0.0912 - 0.1107)/(2*c) #m #Roughly calculated from file\n",
    "alpha_amp = 5*pi/180 #Since we are using the airfoil file, no need to consider built incidence?\n",
    "\n",
    "dtstar = 0.015*0.2*2/(k*abs(h_amp)) \n",
    "dt = dtstar*c/u\n",
    "\n",
    "nsteps =round(Int,t_tot/dt)+1\n",
    "\n",
    "alphadef = ConstDef(alpha_amp)\n",
    "hdef = CosDef(0., h_amp, w, 0.)\n",
    "udef = ConstDef(u)\n",
    "\n",
    "full_kinem = KinemDef(alphadef, hdef, udef)\n",
    "\n",
    "pvt = 0.0 #Doesnt matter, no pitch\n",
    "\n",
    "lespcrit = [21;] #high value to turn off LEV shedding\n",
    "\n",
    "surf = TwoDSurf(c, u, \"FlatPlate\", pvt, 70, 35, \"Prescribed\", full_kinem, lespcrit)\n",
    "\n",
    "curfield = TwoDFlowField()\n",
    "\n",
    "del = DelVortDef(1, 500, 10)"
   ]
  },
  {
   "cell_type": "code",
   "execution_count": null,
   "metadata": {
    "collapsed": false
   },
   "outputs": [],
   "source": [
    "mat, surf, curfield = ldvm(surf, curfield, nsteps, dtstar)"
   ]
  },
  {
   "cell_type": "code",
   "execution_count": null,
   "metadata": {
    "collapsed": false
   },
   "outputs": [],
   "source": [
    "range = round(Int,(ncyc-1)*nsteps/ncyc)+1:nsteps\n",
    "tbyT = (mat[range,1]-mat[range[1]])/T"
   ]
  },
  {
   "cell_type": "code",
   "execution_count": null,
   "metadata": {
    "collapsed": false
   },
   "outputs": [],
   "source": [
    "plot(tbyT,mat[range,6])"
   ]
  },
  {
   "cell_type": "code",
   "execution_count": null,
   "metadata": {
    "collapsed": false
   },
   "outputs": [],
   "source": [
    "##Store these values so we can get back to it later\n",
    "\n",
    "mat3, surf3, curfield3 = mat, surf, curfield"
   ]
  },
  {
   "cell_type": "code",
   "execution_count": null,
   "metadata": {
    "collapsed": false
   },
   "outputs": [],
   "source": [
    "# Second strip \n",
    "\n",
    "#Strip at y = 0\n",
    "\n",
    "h_amp = -0.2040/c #m #Roughly calculated from file\n",
    "alpha_amp = 5*pi/180 #Since we are using the airfoil file, no need to consider built incidence?\n",
    "\n",
    "\n",
    "dtstar = 0.015*0.2*2/(k*abs(h_amp)) \n",
    "dt = dtstar*c/u\n",
    "\n",
    "nsteps =round(Int,t_tot/dt)+1\n",
    "\n",
    "alphadef = ConstDef(alpha_amp)\n",
    "hdef = CosDef(0., h_amp, w, 0.)\n",
    "udef = ConstDef(u)\n",
    "\n",
    "full_kinem = KinemDef(alphadef, hdef, udef)\n",
    "\n",
    "pvt = 0.0 #Doesnt matter, no pitch\n",
    "\n",
    "lespcrit = [21;] #high value to turn off LEV shedding\n",
    "\n",
    "surf = TwoDSurf(c, u, \"FlatPlate\", pvt, 70, 35, \"Prescribed\", full_kinem, lespcrit)\n",
    "\n",
    "curfield = TwoDFlowField()\n",
    "\n",
    "del = DelVortDef(1, 500, 10)\n",
    "\n",
    "\n",
    "\n",
    "\n"
   ]
  },
  {
   "cell_type": "code",
   "execution_count": null,
   "metadata": {
    "collapsed": false
   },
   "outputs": [],
   "source": [
    "mat, surf, curfield = ldvm(surf, curfield, nsteps, dtstar)"
   ]
  },
  {
   "cell_type": "code",
   "execution_count": null,
   "metadata": {
    "collapsed": false
   },
   "outputs": [],
   "source": [
    "range = round(Int,(ncyc-1)*nsteps/ncyc)+1:nsteps\n",
    "tbyT = (mat[range,1]-mat[range[1]])/T"
   ]
  },
  {
   "cell_type": "code",
   "execution_count": null,
   "metadata": {
    "collapsed": false
   },
   "outputs": [],
   "source": [
    "plot(tbyT,mat[range,6])"
   ]
  },
  {
   "cell_type": "code",
   "execution_count": null,
   "metadata": {
    "collapsed": false
   },
   "outputs": [],
   "source": [
    "##Store these values so we can get back to it later\n",
    "\n",
    "mat4, surf4, curfield4 = mat, surf, curfield"
   ]
  },
  {
   "cell_type": "markdown",
   "metadata": {},
   "source": [
    "## Let's try and gather the results"
   ]
  },
  {
   "cell_type": "code",
   "execution_count": null,
   "metadata": {
    "collapsed": false
   },
   "outputs": [],
   "source": [
    "#Using nondimensional quantities here\n",
    "time = [0:0.001:t_tot;]\n",
    "cl1_spl = Spline1D(mat1[:,1],mat1[:,6])\n",
    "cl2_spl = Spline1D(mat2[:,1],mat2[:,6])\n",
    "cl3_spl = Spline1D(mat3[:,1],mat3[:,6])\n",
    "cl4_spl = Spline1D(mat4[:,1],mat4[:,6])\n",
    "\n",
    "cm1_spl = Spline1D(mat1[:,1],mat1[:,8])\n",
    "cm2_spl = Spline1D(mat2[:,1],mat2[:,8])\n",
    "cm3_spl = Spline1D(mat3[:,1],mat3[:,8])\n",
    "cm4_spl = Spline1D(mat4[:,1],mat4[:,8])\n",
    "\n",
    "cd1_spl = Spline1D(mat1[:,1],mat1[:,7])\n",
    "cd2_spl = Spline1D(mat2[:,1],mat2[:,7])\n",
    "cd3_spl = Spline1D(mat3[:,1],mat3[:,7])\n",
    "cd4_spl = Spline1D(mat4[:,1],mat4[:,7])\n",
    "\n",
    "cl1 = evaluate(cl1_spl,time)\n",
    "cl2 = evaluate(cl2_spl,time)\n",
    "cl3 = evaluate(cl3_spl,time)\n",
    "cl4 = evaluate(cl4_spl,time)\n",
    "\n",
    "cm1 = evaluate(cm1_spl,time)\n",
    "cm2 = evaluate(cm2_spl,time)\n",
    "cm3 = evaluate(cm3_spl,time)\n",
    "cm4 = evaluate(cm4_spl,time)\n",
    "\n",
    "cd1 = evaluate(cd1_spl,time)\n",
    "cd2 = evaluate(cd2_spl,time)\n",
    "cd3 = evaluate(cd3_spl,time)\n",
    "cd4 = evaluate(cd4_spl,time)\n",
    "\n",
    "range = round(Int,(ncyc-1)*length(time)/ncyc)+1:length(time)\n",
    "tbyT = (time[range]-time[range[1]])/(T)\n",
    "\n"
   ]
  },
  {
   "cell_type": "code",
   "execution_count": null,
   "metadata": {
    "collapsed": false
   },
   "outputs": [],
   "source": [
    "#Now consider that there are 6 strips\n",
    "# at strip 1 and 6 , cl = 0.5*(cl1+cl2)\n",
    "dy = 1\n",
    "cl_tot = (cl1 + cl2 + cl2 + cl3 + cl3 + cl4)*dy*c/b\n",
    "\n",
    "#plot(tbyT,cl1[range])\n",
    "#plot(tbyT,cl2[range])\n",
    "#plot(tbyT,cl3[range])\n",
    "#plot(tbyT,cl4[range])\n",
    "#plot(tbyT,cl_tot[range])\n",
    "\n",
    "\n",
    "#cm_tot = (cm1 + cm2 + cm2 + cm3 + cm3 + cm4)*dy*c/b\n",
    "#plot(tbyT,cm_tot[range])\n",
    "\n",
    "cd_tot = (cd1 + cd2 + cd2 + cd3 + cd3 + cd4)*dy*c/b\n",
    "plot(tbyT,cd_tot[range])\n",
    "\n",
    "\n",
    "\n"
   ]
  },
  {
   "cell_type": "code",
   "execution_count": null,
   "metadata": {
    "collapsed": false,
    "scrolled": true
   },
   "outputs": [],
   "source": [
    "### Visualise the 3D problem\n",
    "fig = figure()\n",
    "ax = gca(projection=\"3d\")\n",
    "\n",
    "plot3D(map(q->q.x, surf1.bv),map(q->q.z,surf1.bv),-3,\"y\",color = \"black\",linewidth=2.0)\n",
    "plot3D(map(q->q.x, surf2.bv),map(q->q.z,surf2.bv),-2,\"y\",color = \"black\",linewidth=2.0)\n",
    "plot3D(map(q->q.x, surf3.bv),map(q->q.z,surf3.bv),-1,\"y\",color = \"black\",linewidth=2.0)\n",
    "plot3D(map(q->q.x, surf4.bv),map(q->q.z,surf4.bv),0, \"y\",color = \"black\",linewidth=2.0)\n",
    "plot3D(map(q->q.x, surf1.bv),map(q->q.z,surf1.bv),3, \"y\",color = \"black\",linewidth=2.0)\n",
    "plot3D(map(q->q.x, surf2.bv),map(q->q.z,surf2.bv),2, \"y\",color = \"black\",linewidth=2.0)\n",
    "plot3D(map(q->q.x, surf3.bv),map(q->q.z,surf3.bv),1, \"y\",color = \"black\",linewidth=2.0)\n",
    "\n",
    "\n",
    "scatter3D(map(q->q.x, curfield1.tev),map(q->q.z,curfield1.tev),-3,\"z\",s=20,c=map(q->q.s,curfield1.tev),cmap=ColorMap(\"jet\"),edgecolors=\"none\")\n",
    "scatter3D(map(q->q.x, curfield2.tev),map(q->q.z,curfield2.tev),-2,\"z\",s=20,c=map(q->q.s,curfield2.tev),cmap=ColorMap(\"jet\"),edgecolors=\"none\")\n",
    "scatter3D(map(q->q.x, curfield3.tev),map(q->q.z,curfield3.tev),-1,\"z\",s=20,c=map(q->q.s,curfield3.tev),cmap=ColorMap(\"jet\"),edgecolors=\"none\")\n",
    "scatter3D(map(q->q.x, curfield4.tev),map(q->q.z,curfield4.tev),0,\"z\",s=20,c=map(q->q.s,curfield4.tev),cmap=ColorMap(\"jet\"),edgecolors=\"none\")\n",
    "scatter3D(map(q->q.x, curfield1.tev),map(q->q.z,curfield1.tev),3,\"z\",s=20,c=map(q->q.s,curfield1.tev),cmap=ColorMap(\"jet\"),edgecolors=\"none\")\n",
    "scatter3D(map(q->q.x, curfield2.tev),map(q->q.z,curfield2.tev),2,\"z\",s=20,c=map(q->q.s,curfield2.tev),cmap=ColorMap(\"jet\"),edgecolors=\"none\")\n",
    "scatter3D(map(q->q.x, curfield3.tev),map(q->q.z,curfield3.tev),1,\"z\",s=20,c=map(q->q.s,curfield3.tev),cmap=ColorMap(\"jet\"),edgecolors=\"none\")\n",
    "\n",
    "\n",
    "\n",
    "\n",
    "\n",
    "\n",
    "#axis(\"equal\")\n",
    "#ax[:view_init](20, 120)\n",
    "\n"
   ]
  },
  {
   "cell_type": "markdown",
   "metadata": {
    "collapsed": false
   },
   "source": [
    "\n",
    "# Now we atttempt the same problem with a basic LLT correction - circulation goes to zero at the wingtips \n"
   ]
  },
  {
   "cell_type": "code",
   "execution_count": 59,
   "metadata": {
    "collapsed": false
   },
   "outputs": [
    {
     "data": {
      "text/plain": [
       "0-element Array{UNSflow.TwoDFlowField,1}"
      ]
     },
     "execution_count": 59,
     "metadata": {},
     "output_type": "execute_result"
    }
   ],
   "source": [
    "#Construct dimensionless quantities from given values\n",
    "c_d = 0.2\n",
    "b_d = 6\n",
    "AR = b_d/c_d\n",
    "\n",
    "u_d = 10\n",
    "f_d = 0.8889\n",
    "k = 2*pi*f_d*c_d/(2*u_d)\n",
    "\n",
    "#_dAll values below are nondimensional\n",
    "c = 1\n",
    "u = 1\n",
    "w = 2*k\n",
    "T = (2*pi/w)\n",
    "ncyc = 8\n",
    "t_tot = ncyc*T \n",
    "\n",
    "modedata = readdlm(\"../test/anto_mode1.dat\");\n",
    "mode_spl = Spline1D(modedata[:,3],modedata[:,4])\n",
    "\n",
    "n_span = 12\n",
    "n_bterm = 40\n",
    "\n",
    "psi = zeros(n_span)\n",
    "dpsi = pi/n_span\n",
    "\n",
    "for i = 1:n_span\n",
    "    psi[i] = (real(i)-0.5)*dpsi\n",
    "end\n",
    "\n",
    "scale = 0.02\n",
    "\n",
    "#Run LDVM at all these locations:\n",
    "alpha_amp = 5*pi/180\n",
    "\n",
    "h_amp = zeros(n_span)\n",
    "for i = 1:n_span   \n",
    "    y_d = -b_d*cos(psi[i])/2.\n",
    "    h_amp[i] = evaluate(mode_spl,y_d)*scale/c_d\n",
    "end\n",
    "\n",
    "dtstar = min(0.015*8,0.015*0.2*2/(k*maximum(h_amp)))\n",
    "nsteps =round(Int,t_tot/dtstar)+1\n",
    "\n",
    "alphadef = ConstDef(alpha_amp)\n",
    "udef = ConstDef(u)\n",
    "pvt = 0.0 #Doesnt matter, no pitch\n",
    "lespcrit = [21;] #high value to turn off LEV shedding\n",
    "\n",
    "\n",
    "W_mat = Array{Float64,2}[]\n",
    "W_surf = TwoDSurf[]\n",
    "W_curfield = TwoDFlowField[]\n",
    "\n",
    "\n",
    "\n"
   ]
  },
  {
   "cell_type": "code",
   "execution_count": 60,
   "metadata": {
    "collapsed": false
   },
   "outputs": [
    {
     "data": {
      "text/plain": [
       "3751"
      ]
     },
     "execution_count": 60,
     "metadata": {},
     "output_type": "execute_result"
    }
   ],
   "source": [
    "nsteps"
   ]
  },
  {
   "cell_type": "code",
   "execution_count": 61,
   "metadata": {
    "collapsed": false
   },
   "outputs": [],
   "source": [
    "for i = 1:Int(n_span/2) #Since problem is symmetric\n",
    "    hdef = CosDef(0., h_amp[i], w, 0.)\n",
    "    full_kinem = KinemDef(alphadef, hdef, udef)\n",
    "    surf = TwoDSurf(c, u, \"FlatPlate\", pvt, 70, 35, \"Prescribed\", full_kinem, lespcrit)\n",
    "    curfield = TwoDFlowField()\n",
    "    del = DelVortDef(1, 500, 10)\n",
    "\n",
    "    mt, st, ct = ldvm(surf, curfield, nsteps, dtstar)\n",
    "    push!(W_mat, mt)\n",
    "    push!(W_surf, st)\n",
    "    push!(W_curfield, ct)\n",
    "end\n",
    "\n",
    "\n",
    "\n",
    "\n",
    "#Mirror image for the rest of the span\n",
    "for i = Int(n_span/2)+1:n_span\n",
    "    mt = W_mat[n_span - i + 1]\n",
    "    st = W_surf[n_span - i + 1]\n",
    "    ct = W_curfield[n_span - i + 1]\n",
    "    push!(W_mat, mt)\n",
    "    push!(W_surf, st)\n",
    "    push!(W_curfield, ct)\n",
    "end"
   ]
  },
  {
   "cell_type": "code",
   "execution_count": 62,
   "metadata": {
    "collapsed": false
   },
   "outputs": [
    {
     "data": {
      "text/plain": [
       "0.12"
      ]
     },
     "execution_count": 62,
     "metadata": {},
     "output_type": "execute_result"
    }
   ],
   "source": [
    "dtstar"
   ]
  },
  {
   "cell_type": "code",
   "execution_count": 63,
   "metadata": {
    "collapsed": false
   },
   "outputs": [
    {
     "data": {
      "text/plain": [
       "3751-element Array{Float64,1}:\n",
       " 0.0\n",
       " 0.0\n",
       " 0.0\n",
       " 0.0\n",
       " 0.0\n",
       " 0.0\n",
       " 0.0\n",
       " 0.0\n",
       " 0.0\n",
       " 0.0\n",
       " 0.0\n",
       " 0.0\n",
       " 0.0\n",
       " ⋮  \n",
       " 0.0\n",
       " 0.0\n",
       " 0.0\n",
       " 0.0\n",
       " 0.0\n",
       " 0.0\n",
       " 0.0\n",
       " 0.0\n",
       " 0.0\n",
       " 0.0\n",
       " 0.0\n",
       " 0.0"
      ]
     },
     "execution_count": 63,
     "metadata": {},
     "output_type": "execute_result"
    }
   ],
   "source": [
    "lhs = zeros(n_span,n_bterm)\n",
    "rhs = zeros(n_span)\n",
    "b_coeff = zeros(nsteps,n_bterm)\n",
    "sp_gam = zeros(nsteps,n_span)\n",
    "\n",
    "dt = W_mat[1][2,1] - W_mat[1][1,1]\n",
    "\n",
    "cnc_f = zeros(nsteps)\n",
    "cnnc_f = zeros(nsteps)\n",
    "\n"
   ]
  },
  {
   "cell_type": "code",
   "execution_count": 64,
   "metadata": {
    "collapsed": false
   },
   "outputs": [],
   "source": [
    "bdot = zeros(nsteps,n_bterm)\n",
    "\n",
    "for i = 1:nsteps\n",
    "    for j = 1:n_span\n",
    "        for n = 1:n_bterm\n",
    "            lhs[j,n] = sin(n*psi[j])*(sin(psi[j]) + (n*pi/(2*AR)))\n",
    "        end\n",
    "        rhs[j] = pi*sin(psi[j])*W_mat[j][i,9]/(2*AR)\n",
    "    end\n",
    "        \n",
    "    b_coeff[i,:] = \\(lhs, rhs)\n",
    "    if i >= 2   \n",
    "        bdot[i,:] = (b_coeff[i,:] - b_coeff[i-1,:])/dt\n",
    "    end\n",
    "       \n",
    "end\n",
    "        "
   ]
  },
  {
   "cell_type": "code",
   "execution_count": 65,
   "metadata": {
    "collapsed": false
   },
   "outputs": [],
   "source": [
    "a03d = zeros(nsteps,n_span)\n",
    "cd_ind = zeros(nsteps)\n",
    "a0dot3d = zeros(nsteps,n_span)\n",
    "gam_other = zeros(nsteps,n_span)\n",
    "\n",
    "for i = 1:nsteps\n",
    "    for j = 1:n_span\n",
    "         sp_gam[i,j] = 0\n",
    "         for n = 1:n_bterm\n",
    "             sp_gam[i,j] = sp_gam[i,j] + 2*b_d*u*b_coeff[i,n]*sin(n*psi[j])\n",
    "         end\n",
    "    end  \n",
    "end\n",
    "\n",
    "for i = 1:nsteps\n",
    "    cd_ind[i] = 0\n",
    "    for n = 1:n_bterm\n",
    "        cd_ind[i] = cd_ind[i] + real(n)*b_coeff[i,n]^2\n",
    "    end\n",
    "    cd_ind[i] = cd_ind[i]*pi*AR\n",
    "    for j = 1:n_span\n",
    "        a03d[i,j] = 0\n",
    "        for n = 1:n_bterm\n",
    "            a03d[i,j] = a03d[i,j] - real(n)*b_coeff[i,n]*sin(n*psi[j])/sin(psi[j])\n",
    "            a0dot3d[i,j] = a0dot3d[i,j] - real(n)*bdot[i,n]*sin(n*psi[j])/sin(psi[j])\n",
    "        end\n",
    "        gam_other[i,j] = u*c_d*pi*(W_mat[j][i,9] + a03d[i,j])\n",
    "    end\n",
    "end\n",
    "\n"
   ]
  },
  {
   "cell_type": "code",
   "execution_count": 66,
   "metadata": {
    "collapsed": false
   },
   "outputs": [
    {
     "data": {
      "image/png": "[encoded data removed]",
      "text/plain": [
       "PyPlot.Figure(PyObject <matplotlib.figure.Figure object at 0x317e32410>)"
      ]
     },
     "metadata": {},
     "output_type": "display_data"
    },
    {
     "data": {
      "text/plain": [
       "1-element Array{Any,1}:\n",
       " PyObject <matplotlib.lines.Line2D object at 0x317f3c110>"
      ]
     },
     "execution_count": 66,
     "metadata": {},
     "output_type": "execute_result"
    }
   ],
   "source": [
    "plot(sp_gam[10,1:n_span])\n",
    "plot(gam_other[10,:])\n",
    "plot(a03d[10,:])\n",
    "plot(a0dot3d[10,:])"
   ]
  },
  {
   "cell_type": "code",
   "execution_count": 67,
   "metadata": {
    "collapsed": false
   },
   "outputs": [],
   "source": [
    "W_alpha = zeros(nsteps,n_span)\n",
    "W_h = zeros(nsteps,n_span)\n",
    "W_hdot = zeros(nsteps,n_span)\n",
    "W_u = zeros(nsteps,n_span)\n",
    "W_u[:,:] = 1\n",
    "W_alpha[:,:] = 5*pi/180\n",
    "for i = 1:nsteps\n",
    "    for j = 1:n_span\n",
    "        hdef = CosDef(0., h_amp[j], w, 0.)\n",
    "        tt = W_mat[1][i,1]    \n",
    "        W_h[i,j] = hdef(tt)*c\n",
    "        W_hdot[i,j] = ForwardDiff.derivative(hdef,tt)*u\n",
    "    end\n",
    "end\n"
   ]
  },
  {
   "cell_type": "code",
   "execution_count": 68,
   "metadata": {
    "collapsed": false
   },
   "outputs": [],
   "source": [
    "W_cn = zeros(nsteps)\n",
    "W_cs = zeros(nsteps)\n",
    "W_cl = zeros(nsteps)\n",
    "W_cd = zeros(nsteps)\n",
    "W_cdi = zeros(nsteps)\n",
    "\n",
    "cn3d = zeros(nsteps, n_span)\n",
    "cs3d = zeros(nsteps, n_span)\n",
    "cl3d = zeros(nsteps, n_span)\n",
    "cd3d = zeros(nsteps, n_span)\n",
    "\n",
    "for i = 1:nsteps\n",
    "    W_cn[i] = 0\n",
    "    W_cs[i] = 0\n",
    "    for j = 1:n_span\n",
    "        cn3d[i,j] = W_mat[j][i,10] + (2*pi/u)*(W_u[i,j]*cos(W_alpha[i,j]) + W_hdot[i,j]*sin(W_alpha[i,j]))*a03d[1,j] + (2*pi*c/u)*(3*a0dot3d[i,j]/4)\n",
    "        cs3d[i,j] = W_mat[j][i,11] + 2*pi*a03d[i,j]^2\n",
    "        cl3d[i,j] = cn3d[i,j]*cos(W_alpha[i,j]) + cs3d[i,j]*sin(W_alpha[i,j])\n",
    "        cd3d[i,j] = cn3d[i,j]*sin(W_alpha[i,j]) - cs3d[i,j]*cos(W_alpha[i,j]) \n",
    "        W_cn[i] = W_cn[i] + cn3d[i,j]*sin(psi[j])*dpsi/2\n",
    "        W_cs[i] = W_cs[i] + cs3d[i,j]*sin(psi[j])*dpsi/2\n",
    "        W_cl[i] = W_cl[i] + cl3d[i,j]*sin(psi[j])*dpsi/2\n",
    "        W_cd[i] = W_cd[i] + cd3d[i,j]*sin(psi[j])*dpsi/2\n",
    "    end\n",
    "end\n",
    "\n",
    "\n",
    "#cn_w = \n",
    "\n",
    "#sum_bcoeff = 0\n",
    "#    for n = 1:n_bterm\n",
    "#        if rem(n,2) != 0\n",
    "#            sum_bcoeff = sum_bcoeff + b_coeff[n]\n",
    "#        end\n",
    "#    end\n",
    "\n",
    "#    cnc_f[i] = -2*pi*(u[i]*cos(alpha[i])/surf.uref + hdot[i]*sin(alpha[i])/surf.uref)*(sum_bcoeff)\n",
    "#    sum_bdot = 0\n",
    "#        for n = 1:n_bterm\n",
    "#            if rem(n,2) != 0\n",
    "#                sum_bdot = sum_bdot + bdot[n]\n",
    "#            end\n",
    "#        end\n",
    "#        cnnc_f[i] = -(2*pi*surf.c/(surf.uref))*(3*sum_bdot/4)\n",
    "#    end"
   ]
  },
  {
   "cell_type": "code",
   "execution_count": 69,
   "metadata": {
    "collapsed": true
   },
   "outputs": [],
   "source": [
    "using PyPlot"
   ]
  },
  {
   "cell_type": "code",
   "execution_count": 92,
   "metadata": {
    "collapsed": false
   },
   "outputs": [
    {
     "data": {
      "image/png": "[encoded data removed]",
      "text/plain": [
       "PyPlot.Figure(PyObject <matplotlib.figure.Figure object at 0x31b022f10>)"
      ]
     },
     "metadata": {},
     "output_type": "display_data"
    },
    {
     "data": {
      "text/plain": [
       "4-element Array{Float64,1}:\n",
       " 0.0 \n",
       " 1.0 \n",
       " 0.49\n",
       " 0.5 "
      ]
     },
     "execution_count": 92,
     "metadata": {},
     "output_type": "execute_result"
    }
   ],
   "source": [
    "Tn = T*c_d/u_d\n",
    "dlt = readcsv(\"../test/anto_cl.csv\")\n",
    "plot(dlt[:,1]/Tn,dlt[:,2])\n",
    "t_th = W_mat[1][:,1]*c_d/u_d\n",
    "range = round(Int,(ncyc-1)*nsteps/ncyc)+1:nsteps\n",
    "tbyT = (t_th[range]-t_th[range[1]])/Tn\n",
    "plot(tbyT,W_cl[range]+0.17)\n",
    "\n",
    "\n",
    "\n",
    "#plot(W_mat[1][:,1]*c_d/u_d,W_cl)\n",
    "PyPlot.axis([0,1,0.49,0.5])"
   ]
  },
  {
   "cell_type": "code",
   "execution_count": 71,
   "metadata": {
    "collapsed": false
   },
   "outputs": [
    {
     "ename": "LoadError",
     "evalue": "LoadError: UndefVarError: cl not defined\nwhile loading In[71], in expression starting on line 1",
     "output_type": "error",
     "traceback": [
      "LoadError: UndefVarError: cl not defined\nwhile loading In[71], in expression starting on line 1",
      ""
     ]
    }
   ],
   "source": [
    "plot(W_mat[1][:,1]*c_d/u_d,cl)\n",
    "#PyPlot.axis([0,120,0,1])"
   ]
  },
  {
   "cell_type": "code",
   "execution_count": null,
   "metadata": {
    "collapsed": true
   },
   "outputs": [],
   "source": []
  }
 ],
 "metadata": {
  "anaconda-cloud": {},
  "kernelspec": {
   "display_name": "Julia 0.5.0-rc4",
   "language": "julia",
   "name": "julia-0.5"
  },
  "language_info": {
   "file_extension": ".jl",
   "mimetype": "application/julia",
   "name": "julia",
   "version": "0.5.0"
  }
 },
 "nbformat": 4,
 "nbformat_minor": 1
}
