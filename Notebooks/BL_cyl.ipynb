{
 "cells": [
  {
   "cell_type": "markdown",
   "metadata": {},
   "source": [
    "### Integral BL code for cylinder"
   ]
  },
  {
   "cell_type": "code",
   "execution_count": 1,
   "metadata": {
    "collapsed": false
   },
   "outputs": [
    {
     "data": {
      "text/plain": [
       "calcEigen (generic function with 1 method)"
      ]
     },
     "execution_count": 1,
     "metadata": {},
     "output_type": "execute_result"
    }
   ],
   "source": [
    "#ntime=cfl*dx/ttime                                                             \n",
    "ntime=100\n",
    "cfl= 0.2\n",
    "ncell = 100\n",
    "dx = pi/real(ncell)\n",
    "ttime = 1.\n",
    "time = 0.005\n",
    "uinf = 1.\n",
    "c = 1.\n",
    "re = 1000\n",
    "\n",
    "x = zeros(ncell+2)\n",
    "ue = zeros(ncell+2)\n",
    "uex = zeros(ncell+2)\n",
    "uet = zeros(ncell+2)\n",
    "#Set sources                                                                    \n",
    "for i = 2:ncell+1\n",
    "    x[i] = real(i-2)*dx + 0.5*dx\n",
    "    ue[i] = 2*sin(x[i])\n",
    "    uex[i] = 2*cos(x[i])\n",
    "end \n",
    "\n",
    "uet[1:ncell+2] = 0\n",
    "\n",
    "ue[1] = 10e-6\n",
    "ue[ncell+2] = 10e-6\n",
    "uex[1] = cos(0.)\n",
    "uex[ncell+2] = cos(pi)\n",
    "\n",
    "E = zeros(ncell+2)\n",
    "B = zeros(ncell+2)\n",
    "del = zeros(ncell+2)\n",
    "F = zeros(ncell+2)\n",
    "dfde = zeros(ncell+2)\n",
    "S = zeros(ncell+2)\n",
    "unk = zeros(2,ncell+2)\n",
    "\n",
    "\n",
    "#Set initial conditions                                                         \n",
    "E[:] = 0.4142\n",
    "B = 131.9*E.^3 - 167.32*E.^2 + 76.642*E - 11.068\n",
    "del = sqrt(B*time)\n",
    "F = 4.8274*E.^4 - 5.9816*E.^3 + 4.0274*E.^2 + 0.23247*E + 0.15174\n",
    "\n",
    "unk[1,:] = del\n",
    "unk[2,:] = del.*(E + 1)\n",
    "\n",
    "function FfromE(E::Float64)\n",
    "      F = 4.8274*E^4 - 5.9816*E^3 + 4.0274*E^2 + 0.23247*E + 0.15174\n",
    "end\n",
    "\n",
    "function BfromE(E::Float64)\n",
    "    if E < -0.0616\n",
    "        B = -225.86*E^3 - 3016.6*E^2 - 208.68*E - 17.915 \n",
    "    elseif E > -0.0395\n",
    "        B = 131.9*E^3 - 167.32*E^2 + 76.642*E - 11.068\n",
    "    else\n",
    "        B = 0.5*(-225.86*E^3 - 3016.6*E^2 - 208.68*E - 17.915 + 131.9*E^3 - 167.32*E^2 + 76.642*E - 11.068)\n",
    "    end\n",
    "end\n",
    "\n",
    "function SfromE(E::Float64)\n",
    "    if E < -0.0582\n",
    "        S = 451.55*E^3 + 2010.*E^2 + 138.96*E + 11.296\n",
    "    elseif E > -0.042\n",
    "        S = -96.739*E^3 + 117.74*E^2 - 46.432*E + 6.8074\n",
    "    else\n",
    "        S = 0.5*(451.55*E^3 + 2010.*E^2 + 138.96*E + 11.296 - 96.739*E^3 + 117.74*E^2 - 46.432*E + 6.8074)\n",
    "    end\n",
    "end\n",
    "\n",
    "function dfdefromE(E::Float64)\n",
    "    dfde = 4*4.8274*E^3 - 3*5.9816*E^2 + 2*4.0274*E + 0.23247\n",
    "end\n",
    "\n",
    "function calcdt(cfl::Float64, lamb::Array{Float64,2})\n",
    "    dt = 10000\n",
    "    for ic = 1:size(lamb,2)\n",
    "        dti = cfl*(dx/(abs(lamb[1,ic]) + abs(lamb[2,ic])))\n",
    "        if dti < dt\n",
    "            dt=dti\n",
    "        end \n",
    "    end \n",
    "    return dt\n",
    "end\n",
    "\n",
    "function calcEigen(ue::Vector{Float64}, E::Vector{Float64}, F::Vector{Float64}, dfde::Vector{Float64})\n",
    "    ncell = length(E) - 2\n",
    "    lamb = zeros(2,ncell+2)\n",
    "    for ic = 1:ncell+2\n",
    "        aq = 1.\n",
    "        bq = -ue[ic]*(dfde[ic] - 1.)\n",
    "        cq = ue[ic]*ue[ic]*(E[ic]*dfde[ic] - F[ic])\n",
    "        lamb[1,ic] = (-bq + sqrt(bq*bq - 4*aq*cq))/(2*aq)\n",
    "        lamb[2,ic] = (-bq - sqrt(bq*bq - 4*aq*cq))/(2*aq)\n",
    "\n",
    "        #Always have lamb1 > lamb2                                                \n",
    "        if lamb[2,ic] > lamb[1,ic]\n",
    "            temp  = lamb[2,ic]\n",
    "            lamb[2,ic] = lamb[1,ic]\n",
    "            lamb[1,ic] = temp\n",
    "        end         \n",
    "    end\n",
    "    return lamb\n",
    "end"
   ]
  },
  {
   "cell_type": "code",
   "execution_count": 2,
   "metadata": {
    "collapsed": false
   },
   "outputs": [
    {
     "data": {
      "text/plain": [
       "calc_flux (generic function with 1 method)"
      ]
     },
     "execution_count": 2,
     "metadata": {},
     "output_type": "execute_result"
    }
   ],
   "source": [
    "function calc_flux(lamb::Array{Float64,2}, ue::Vector{Float64}, E::Vector{Float64}, del::Vector{Float64})\n",
    "    ncell = length(ue) - 2\n",
    "    flux = zeros(2,2,ncell+2)\n",
    "    Apos = zeros(2,2)\n",
    "    \n",
    "    for ic = 1:ncell+2\n",
    "        if lamb[1,ic] >= 0. && lamb[2,ic] >= 0.\n",
    "            flux[1,1,ic] = ue[ic]*E[ic]*del[ic]\n",
    "            flux[1,2,ic] = ue[ic]*F[ic]*del[ic]\n",
    "        elseif lamb[1,ic] < 0. && lamb[2,ic] < 0.\n",
    "            flux[1,:,ic] = 0.\n",
    "            else\n",
    "            Apos[1,1] = (ue[ic]*lamb[1,ic]/(lamb[1,ic] - lamb[2,ic]))*(-1. - lamb[2,ic]/ue[ic])       \n",
    "            Apos[1,2] = ue[ic]*lamb[1,ic]/(lamb[1,ic] - lamb[2,ic])\n",
    "            Apos[2,1] = -(ue[ic]*lamb[1,ic]/(lamb[1,ic] - lamb[2,ic]))*(1 + lamb[1,ic]/ue[ic])*(1 + lamb[2,ic]/ue[ic])\n",
    "            Apos[2,2] = (ue[ic]*lamb[1,ic]/(lamb[1,ic] - lamb[2,ic]))*(1 + lamb[1,ic]/ue[ic])\n",
    "            flux[1,1,ic] =  Apos[1,1]*del[ic] + Apos[1,2]*(E[ic] + 1.)*del[ic]\n",
    "            flux[1,2,ic] = Apos[2,1]*del[ic] + Apos[2,2]*(E[ic] + 1.)*del[ic]\n",
    "        end\n",
    "    end\n",
    "    for ic = 1:ncell+2\n",
    "        if lamb[1,ic] >= 0. && lamb[2,ic] >= 0.\n",
    "            flux[2,:,ic] = 0.\n",
    "         elseif lamb[1,ic] < 0. && lamb[2,ic] < 0.\n",
    "            flux[2,1,ic] = ue[ic]*E[ic]*del[ic]\n",
    "            flux[2,2,ic] = ue[ic]*F[ic]*del[ic]\n",
    "         else\n",
    "            Aneg[1,1] = (ue[ic]*lamb[2,ic]/(lamb[1,ic] - lamb[2,ic]))*(1. + lamb[1,ic]/ue[ic])\n",
    "            Aneg[1,2] = -ue[ic]*lamb[2,ic]/(lamb[1,ic] - lamb[2,ic])\n",
    "            Aneg[2,1] = (ue[ic]*lamb[2,ic]/(lamb[1,ic] - lamb[2,ic]))*(1. + lamb[1,ic]/ue[ic])*(1. + lamb[2,ic]/ue[ic])\n",
    "            Aneg[2,2] = (ue[ic]*lamb[2,ic]/(lamb[1,ic] - lamb[2,ic]))*(-1. - lamb[2,ic]/ue[ic])\n",
    "            flux[2,1,ic] = Aneg[1,1]*del[ic] + Aneg[1,2]*(E[ic] + 1.)*del[ic]\n",
    "            flux[2,2,ic] = Aneg[2,1]*del[ic] + Aneg[2,2]*(E[ic] + 1.)*del[ic]\n",
    "         end\n",
    "    end\n",
    "    return flux\n",
    "end\n",
    "\n",
    "        "
   ]
  },
  {
   "cell_type": "code",
   "execution_count": 3,
   "metadata": {
    "collapsed": false
   },
   "outputs": [
    {
     "data": {
      "text/plain": [
       "2"
      ]
     },
     "execution_count": 3,
     "metadata": {},
     "output_type": "execute_result"
    }
   ],
   "source": [
    "lamb = zeros(2,ncell+2)\n",
    "unkt = zeros(2,ncell+2)\n",
    "unkh = zeros(2,ncell+2)\n",
    "rhs = zeros(2,ncell+2)\n",
    "flux = zeros(2,2,ncell+2)\n",
    "crit = zeros(ncell+2)\n",
    "Apos = zeros(2,2)\n",
    "Aneg = zeros(2,2)\n",
    "nstage = 2"
   ]
  },
  {
   "cell_type": "code",
   "execution_count": 4,
   "metadata": {
    "collapsed": false
   },
   "outputs": [
    {
     "name": "stdout",
     "output_type": "stream",
     "text": [
      "3.0944687637859465 0.09421290141928503 10.406365982653648\n",
      "3.0944687637859465 0.09421290141928503 11.843868350950743\n",
      "3.0944687637859465 0.09421290141928503 13.573567330869528\n"
     ]
    }
   ],
   "source": [
    "#Main loop over time steps\n",
    "for i = 1:ntime\n",
    "#i = 1\n",
    "    unk[:,1] = 2*unk[:,2] - unk[:,3]\n",
    "    unk[:,ncell+2] = 2*unk[:,ncell+1] - unk[:,ncell]\n",
    "    #Calculate derived quantities                                                \n",
    "    for ic = 1:ncell+2\n",
    "        del[ic] = unk[1,ic]\n",
    "        E[ic] = (unk[2,ic]./del[ic]) - 1.\n",
    "        F[ic] = FfromE(E[ic])\n",
    "        B[ic] = BfromE(E[ic])    \n",
    "        S[ic] = SfromE(E[ic]) \n",
    "        dfde[ic] = dfdefromE(E[ic])\n",
    "    end \n",
    "\n",
    "    #Compute eigenvalues                                                         \n",
    "    lamb = calcEigen(ue, E, F, dfde)\n",
    "    \n",
    "    #Compute timestep\n",
    "    dt = calcdt(cfl, lamb)\n",
    "    \n",
    "    #Compute fluxes\n",
    "    flux = calc_flux(lamb, ue, E, del)\n",
    "\n",
    "    #compute rhs\n",
    "    for ic = 2:ncell+1\n",
    "        rhs[1,ic] = B[ic]/(2*del[ic]) - del[ic]*uet[ic]/ue[ic] - (E[ic] + 1.)*del[ic]*uex[ic]\n",
    "        rhs[2,ic] = S[ic]/del[ic] - 2*E[ic]*del[ic]*uet[ic]/ue[ic] - 2*F[ic]*del[ic]*uex[ic]\n",
    "    end\n",
    "    \n",
    "    for ic = 2:ncell\n",
    "        unkh[1,ic] = unk[1,ic] - (dt/dx)*(flux[1,1,ic] - flux[1,1,ic-1] + flux[2,1,ic+1] \n",
    "        - flux[2,1,ic]) + dt*rhs[1,ic]\n",
    "        unkh[2,ic] = unk[2,ic] - (dt/dx)*(flux[1,2,ic] - flux[1,2,ic-1] + flux[2,2,ic+1] \n",
    "        - flux[2,2,ic]) + dt*rhs[2,ic]\n",
    "    end\n",
    "    ic = ncell+1\n",
    "    unkh[1,ic] = unk[1,ic] - (dt/dx)*(flux[1,1,ic] - flux[1,1,ic-1]) + dt*rhs[1,ic]\n",
    "    unkh[2,ic] = unk[2,ic] - (dt/dx)*(flux[1,2,ic] - flux[1,2,ic-1]) + dt*rhs[2,ic]\n",
    "    \n",
    "    #Update ghost cells       \n",
    "    unkh[:,1] = 2*unkh[:,2] - unkh[:,3]\n",
    "    unkh[:,ncell+2] = 2*unkh[:,ncell+1] - unkh[:,ncell]\n",
    "    \n",
    "    #Calculate derived quantities\n",
    "    for ic = 1:ncell+2\n",
    "        del[ic] = unk[1,ic]\n",
    "        E[ic] = (unk[2,ic]./del[ic]) - 1.\n",
    "        F[ic] = FfromE(E[ic])\n",
    "        B[ic] = BfromE(E[ic])    \n",
    "        S[ic] = SfromE(E[ic]) \n",
    "        dfde[ic] = dfdefromE(E[ic])\n",
    "    end \n",
    "    \n",
    "    #Compute eigenvalues                                                         \n",
    "    lamb = calcEigen(ue, E, F, dfde)\n",
    "    \n",
    "    #Compute fluxes\n",
    "    fluxhalf = calc_flux(lamb, ue, E, del)\n",
    "\n",
    "    #compute rhs\n",
    "    for ic = 2:ncell+1\n",
    "        rhs[1,ic] = B[ic]/(2*del[ic]) - del[ic]*uet[ic]/ue[ic] - (E[ic] + 1.)*del[ic]*uex[ic]\n",
    "        rhs[2,ic] = S[ic]/del[ic] - 2*E[ic]*del[ic]*uet[ic]/ue[ic] - 2*F[ic]*del[ic]*uex[ic]\n",
    "    end\n",
    "    \n",
    "    ic = 2\n",
    "    unk[1,ic] = 0.5*(unk[1,ic] + unkh[1,ic]) - (0.5*dt/dx)*(flux[1,1,ic] - flux[1,1,ic-1] \n",
    "    - flux[2,1,ic] + 2*flux[2,1,ic+1] - flux[2,1,ic+2] + fluxhalf[1,1,ic] - fluxhalf[1,1,ic-1] \n",
    "    + fluxhalf[2,1,ic+1] - fluxhalf[2,1,ic]) + 0.5*dt*rhs[1,ic]\n",
    "    unk[2,ic] = 0.5*(unk[2,ic] + unkh[2,ic]) - (0.5*dt/dx)*(flux[1,2,ic] - flux[1,2,ic-1] \n",
    "    - flux[2,2,ic] + 2*flux[2,2,ic+1] - flux[2,2,ic+2] + fluxhalf[1,2,ic] - fluxhalf[1,2,ic-1] \n",
    "    + fluxhalf[2,2,ic+1] - fluxhalf[2,2,ic]) + 0.5*dt*rhs[2,ic]\n",
    "    for ic = 3:ncell\n",
    "        unk[1,ic] = 0.5*(unk[1,ic] + unkh[1,ic]) - (0.5*dt/dx)*(flux[1,1,ic] - 2*flux[1,1,ic-1] + \n",
    "        flux[1,1,ic-2] - flux[2,1,ic] + 2*flux[2,1,ic+1] - flux[2,1,ic+2] + fluxhalf[1,1,ic] \n",
    "        -fluxhalf[1,1,ic-1] + fluxhalf[2,1,ic+1] - fluxhalf[2,1,ic]) + 0.5*dt*rhs[1,ic]\n",
    "        unk[2,ic] = 0.5*(unk[2,ic] + unkh[2,ic]) - (0.5*dt/dx)*(flux[1,2,ic] - 2*flux[1,2,ic-1] \n",
    "        + flux[1,2,ic-2] - flux[2,2,ic] + 2*flux[2,2,ic+1] - flux[2,2,ic+2] + fluxhalf[1,2,ic] \n",
    "        - fluxhalf[1,2,ic-1] + fluxhalf[2,2,ic+1] - fluxhalf[2,2,ic]) + 0.5*dt*rhs[2,ic]\n",
    "    end\n",
    "    ic = ncell+1\n",
    "    unk[1,ic] = 0.5*(unk[1,ic] + unkh[1,ic]) - (0.5*dt/dx)*(flux[1,1,ic] - 2*flux[1,1,ic-1] \n",
    "    + flux[1,1,ic-2] +fluxhalf[1,1,ic] - fluxhalf[1,1,ic-1]) + 0.5*dt*rhs[1,ic]\n",
    "    unk[2,ic] = 0.5*(unk[2,ic] + unkh[2,ic]) - (0.5*dt/dx)*(flux[1,2,ic] - 2*flux[1,2,ic-1] \n",
    "    + flux[1,2,ic-2] +fluxhalf[1,2,ic] - fluxhalf[1,2,ic-1]) + 0.5*dt*rhs[2,ic]\n",
    "    \n",
    "    time = time + dt\n",
    "    if time > ttime\n",
    "        quit()\n",
    "    end\n",
    "    \n",
    "    for ic = 2:ncell+1\n",
    "        crit[ic] = abs((del[ic+1] - del[ic])/(del[ic] - del[ic-1]))\n",
    "        if abs(crit[ic]) > 10.\n",
    "            println(x[ic],\" \", ue[ic],\" \", crit[ic])\n",
    "        end \n",
    "    end\n",
    "    \n",
    "end\n",
    "\n",
    "        \n",
    "            \n",
    "      \n",
    "                \n",
    "   "
   ]
  },
  {
   "cell_type": "code",
   "execution_count": 9,
   "metadata": {
    "collapsed": false
   },
   "outputs": [
    {
     "data": {
      "text/plain": [
       "0.37854908283662403"
      ]
     },
     "execution_count": 9,
     "metadata": {},
     "output_type": "execute_result"
    }
   ],
   "source": [
    "time"
   ]
  },
  {
   "cell_type": "code",
   "execution_count": 7,
   "metadata": {
    "collapsed": false
   },
   "outputs": [],
   "source": [
    "using PyPlot"
   ]
  },
  {
   "cell_type": "code",
   "execution_count": 8,
   "metadata": {
    "collapsed": false
   },
   "outputs": [
    {
     "data": {
      "image/png": "[encoded data removed]",
      "text/plain": [
       "PyPlot.Figure(PyObject <matplotlib.figure.Figure object at 0x31fc05510>)"
      ]
     },
     "metadata": {},
     "output_type": "display_data"
    },
    {
     "data": {
      "text/plain": [
       "1-element Array{Any,1}:\n",
       " PyObject <matplotlib.lines.Line2D object at 0x321610410>"
      ]
     },
     "execution_count": 8,
     "metadata": {},
     "output_type": "execute_result"
    }
   ],
   "source": [
    "plot(x,del)"
   ]
  },
  {
   "cell_type": "code",
   "execution_count": null,
   "metadata": {
    "collapsed": false
   },
   "outputs": [],
   "source": [
    "rhs"
   ]
  },
  {
   "cell_type": "code",
   "execution_count": null,
   "metadata": {
    "collapsed": true
   },
   "outputs": [],
   "source": []
  }
 ],
 "metadata": {
  "anaconda-cloud": {},
  "kernelspec": {
   "display_name": "Julia 0.5.0-rc4",
   "language": "julia",
   "name": "julia-0.5"
  },
  "language_info": {
   "file_extension": ".jl",
   "mimetype": "application/julia",
   "name": "julia",
   "version": "0.5.0"
  }
 },
 "nbformat": 4,
 "nbformat_minor": 1
}
