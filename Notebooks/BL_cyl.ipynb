{
 "cells": [
  {
   "cell_type": "markdown",
   "metadata": {},
   "source": [
    "### Integral BL code for cylinder"
   ]
  },
  {
   "cell_type": "code",
   "execution_count": 1,
   "metadata": {
    "collapsed": false
   },
   "outputs": [
    {
     "data": {
      "text/plain": [
       "IBLm_cyl (generic function with 5 methods)"
      ]
     },
     "execution_count": 1,
     "metadata": {},
     "output_type": "execute_result"
    }
   ],
   "source": [
    "include(\"bl_cyl.jl\")"
   ]
  },
  {
   "cell_type": "code",
   "execution_count": 2,
   "metadata": {
    "collapsed": false
   },
   "outputs": [
    {
     "name": "stdout",
     "output_type": "stream",
     "text": [
      "1.3700979159411864 1.7399590081420393 1.9714521618633019 10.50028184635716\n"
     ]
    },
    {
     "data": {
      "text/plain": [
       "(1.3700979159411864,[0.0,0.0483322,0.0966644,0.144997,0.193329,0.241661,0.289993,0.338325,0.386658,0.43499  …  2.7066,2.75494,2.80327,2.8516,2.89993,2.94826,2.9966,3.04493,3.09326,3.14159],[0.408933,0.430655,0.452378,0.459532,0.462749,0.46513,0.467608,0.470466,0.473794,0.477628  …  6.74586,6.91736,7.07603,7.22009,7.34811,7.45804,7.55114,7.67915,8.1618,8.64445],[0.446668,0.452646,0.458049,0.459784,0.460225,0.460233,0.460092,0.459888,0.459642,0.459356  …  -0.0829835,-0.0838713,-0.0846065,-0.0852432,-0.0859096,-0.0869929,-0.0895185,-0.095324,-0.104921,-0.113447])"
      ]
     },
     "execution_count": 2,
     "metadata": {},
     "output_type": "execute_result"
    }
   ],
   "source": [
    "t, x, del, E = IBLm_cyl()\n"
   ]
  },
  {
   "cell_type": "code",
   "execution_count": 4,
   "metadata": {
    "collapsed": false
   },
   "outputs": [
    {
     "name": "stderr",
     "output_type": "stream",
     "text": [
      "/Users/kiran/.julia/v0.5/Conda/deps/usr/lib/python2.7/site-packages/matplotlib/font_manager.py:273: UserWarning: Matplotlib is building the font cache using fc-list. This may take a moment.\n",
      "  warnings.warn('Matplotlib is building the font cache using fc-list. This may take a moment.')\n"
     ]
    }
   ],
   "source": [
    "using PyPlot"
   ]
  },
  {
   "cell_type": "code",
   "execution_count": 7,
   "metadata": {
    "collapsed": false
   },
   "outputs": [
    {
     "data": {
      "image/png": "[encoded data removed]",
      "text/plain": [
       "PyPlot.Figure(PyObject <matplotlib.figure.Figure object at 0x31cc51d90>)"
      ]
     },
     "metadata": {},
     "output_type": "display_data"
    },
    {
     "data": {
      "text/plain": [
       "1-element Array{Any,1}:\n",
       " PyObject <matplotlib.lines.Line2D object at 0x31d0b2d10>"
      ]
     },
     "execution_count": 7,
     "metadata": {},
     "output_type": "execute_result"
    }
   ],
   "source": [
    "plot(x[2:end], diff(del))"
   ]
  },
  {
   "cell_type": "code",
   "execution_count": 29,
   "metadata": {
    "collapsed": false
   },
   "outputs": [
    {
     "data": {
      "text/plain": [
       "thick (generic function with 2 methods)"
      ]
     },
     "execution_count": 29,
     "metadata": {},
     "output_type": "execute_result"
    }
   ],
   "source": [
    "### Express an airfoil as a Fourier series. \n",
    "using PyPlot\n",
    "using ForwardDiff\n",
    "\n",
    "function thick(x)\n",
    "    num = 5\n",
    "    b1 = 0.2969\n",
    "    b2 = -0.1260\n",
    "    b3 = -0.3516\n",
    "    b4 = 0.2843\n",
    "    b5 = -0.1015\n",
    "    th = 5.*num*(b1*sqrt(x) + b2*x + b3*x^2 + b4*x^3 + b5*x^4)\n",
    "end\n"
   ]
  },
  {
   "cell_type": "code",
   "execution_count": 62,
   "metadata": {
    "collapsed": false
   },
   "outputs": [],
   "source": [
    "# Consider a NACA 0012 airfoil. \n",
    "ncell = 64\n",
    "num = 0.12\n",
    "x = zeros(ncell + 2)\n",
    "th = zeros(ncell + 2)\n",
    "thdot = zeros(ncell + 2)\n",
    "\n",
    "dx = 1./(ncell + 1.)\n",
    "for ic = 1:ncell+2\n",
    "    x[ic] = real(ic-1)*dx\n",
    "end\n",
    "\n",
    "\n",
    "for ic = 1:ncell+2\n",
    "    th[ic] = thick(x[ic])\n",
    "end \n",
    "\n",
    "for ic = 1:ncell+2\n",
    "    thdot[ic] = ForwardDiff.derivative(thick,x[ic])\n",
    "end\n"
   ]
  },
  {
   "cell_type": "code",
   "execution_count": 63,
   "metadata": {
    "collapsed": false
   },
   "outputs": [
    {
     "data": {
      "text/plain": [
       "66-element Array{Float64,1}:\n",
       " 0.0\n",
       " 0.0\n",
       " 0.0\n",
       " 0.0\n",
       " 0.0\n",
       " 0.0\n",
       " 0.0\n",
       " 0.0\n",
       " 0.0\n",
       " 0.0\n",
       " 0.0\n",
       " 0.0\n",
       " 0.0\n",
       " ⋮  \n",
       " 0.0\n",
       " 0.0\n",
       " 0.0\n",
       " 0.0\n",
       " 0.0\n",
       " 0.0\n",
       " 0.0\n",
       " 0.0\n",
       " 0.0\n",
       " 0.0\n",
       " 0.0\n",
       " 0.0"
      ]
     },
     "execution_count": 63,
     "metadata": {},
     "output_type": "execute_result"
    }
   ],
   "source": [
    "thdot"
   ]
  },
  {
   "cell_type": "code",
   "execution_count": 60,
   "metadata": {
    "collapsed": false
   },
   "outputs": [
    {
     "data": {
      "text/plain": [
       "-6.6588869656623"
      ]
     },
     "execution_count": 60,
     "metadata": {},
     "output_type": "execute_result"
    }
   ],
   "source": [
    "thdot[10] = ForwardDiff.derivative(thick,1.1)"
   ]
  },
  {
   "cell_type": "code",
   "execution_count": 61,
   "metadata": {
    "collapsed": false
   },
   "outputs": [
    {
     "data": {
      "text/plain": [
       "66-element Array{Float64,1}:\n",
       "  0.0    \n",
       "  0.0    \n",
       "  0.0    \n",
       "  0.0    \n",
       "  0.0    \n",
       "  0.0    \n",
       "  0.0    \n",
       "  0.0    \n",
       "  0.0    \n",
       " -6.65889\n",
       "  0.0    \n",
       "  0.0    \n",
       "  0.0    \n",
       "  ⋮      \n",
       "  0.0    \n",
       "  0.0    \n",
       "  0.0    \n",
       "  0.0    \n",
       "  0.0    \n",
       "  0.0    \n",
       "  0.0    \n",
       "  0.0    \n",
       "  0.0    \n",
       "  0.0    \n",
       "  0.0    \n",
       "  0.0    "
      ]
     },
     "execution_count": 61,
     "metadata": {},
     "output_type": "execute_result"
    }
   ],
   "source": [
    "thdot"
   ]
  },
  {
   "cell_type": "code",
   "execution_count": null,
   "metadata": {
    "collapsed": true
   },
   "outputs": [],
   "source": []
  }
 ],
 "metadata": {
  "anaconda-cloud": {},
  "kernelspec": {
   "display_name": "Julia 0.5.0-rc4",
   "language": "julia",
   "name": "julia-0.5"
  },
  "language_info": {
   "file_extension": ".jl",
   "mimetype": "application/julia",
   "name": "julia",
   "version": "0.5.0"
  }
 },
 "nbformat": 4,
 "nbformat_minor": 1
}
