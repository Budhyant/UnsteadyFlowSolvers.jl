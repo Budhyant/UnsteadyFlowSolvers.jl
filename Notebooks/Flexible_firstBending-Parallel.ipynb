{
 "cells": [
  {
   "cell_type": "code",
   "execution_count": 1,
   "metadata": {
    "collapsed": false
   },
   "outputs": [
    {
     "data": {
      "text/plain": [
       "4"
      ]
     },
     "execution_count": 1,
     "metadata": {},
     "output_type": "execute_result"
    }
   ],
   "source": [
    "addprocs(3)\n",
    "nprocs()"
   ]
  },
  {
   "cell_type": "code",
   "execution_count": 2,
   "metadata": {
    "collapsed": false
   },
   "outputs": [
    {
     "name": "stderr",
     "output_type": "stream",
     "text": [
      "WARNING: replacing module Dierckx.\n",
      "WARNING: replacing module Dierckx.\n",
      "WARNING: replacing module Dierckx.\n",
      "WARNING: replacing module ForwardDiff.\n",
      "WARNING: replacing module ForwardDiff.\n",
      "WARNING: replacing module ForwardDiff.\n"
     ]
    },
    {
     "ename": "LoadError",
     "evalue": "LoadError: On worker 2:\nLoadError: InitError: PyError (:PyImport_ImportModule) None\n\n in pyerr_check at /Users/kiran/.julia/v0.5/PyCall/src/exception.jl:56 [inlined]\n in pyerr_check at /Users/kiran/.julia/v0.5/PyCall/src/exception.jl:61 [inlined]\n in macro expansion at /Users/kiran/.julia/v0.5/PyCall/src/exception.jl:81 [inlined]\n in pyimport at /Users/kiran/.julia/v0.5/PyCall/src/PyCall.jl:387\n in __init__ at /Users/kiran/.julia/v0.5/PyPlot/src/PyPlot.jl:256\n in _require_from_serialized at ./loading.jl:190\n in _require_search_from_serialized at ./loading.jl:217\n in jlcall__require_search_from_serialized_34134 at /opt/julia/usr/lib/julia/sys.dylib:?\n in require at ./loading.jl:371\n in jlcall_require_22382 at /opt/julia/usr/lib/julia/sys.dylib:?\n in include_string at ./loading.jl:441\n in jlcall_include_string_35097 at /opt/julia/usr/lib/julia/sys.dylib:?\n in include_from_node1 at ./loading.jl:491\n in jlcall_include_from_node1_20159 at /opt/julia/usr/lib/julia/sys.dylib:?\n in eval at ./boot.jl:234\n in jlcall_eval_19783 at /opt/julia/usr/lib/julia/sys.dylib:?\n in #1 at ./multi.jl:1957\n in #625 at ./multi.jl:1421\n in run_work_thunk at ./multi.jl:1001\n in macro expansion at ./multi.jl:1421 [inlined]\n in #624 at ./event.jl:68\nduring initialization of module PyPlot\nwhile loading /Users/kiran/Documents/Projects/UNSflow/src/UNSflow.jl, in expression starting on line 9\n in #remotecall_fetch#606(::Array{Any,1}, ::Function, ::Function, ::Base.Worker) at ./multi.jl:1070\n in remotecall_fetch(::Function, ::Base.Worker) at ./multi.jl:1062\n in #remotecall_fetch#609(::Array{Any,1}, ::Function, ::Function, ::Int64) at ./multi.jl:1080\n in remotecall_fetch(::Function, ::Int64) at ./multi.jl:1080\n in (::##2#4)() at ./multi.jl:1959\n\n...and 3 other exceptions.\n\nwhile loading In[2], in expression starting on line 1",
     "output_type": "error",
     "traceback": [
      "LoadError: On worker 2:\nLoadError: InitError: PyError (:PyImport_ImportModule) None\n\n in pyerr_check at /Users/kiran/.julia/v0.5/PyCall/src/exception.jl:56 [inlined]\n in pyerr_check at /Users/kiran/.julia/v0.5/PyCall/src/exception.jl:61 [inlined]\n in macro expansion at /Users/kiran/.julia/v0.5/PyCall/src/exception.jl:81 [inlined]\n in pyimport at /Users/kiran/.julia/v0.5/PyCall/src/PyCall.jl:387\n in __init__ at /Users/kiran/.julia/v0.5/PyPlot/src/PyPlot.jl:256\n in _require_from_serialized at ./loading.jl:190\n in _require_search_from_serialized at ./loading.jl:217\n in jlcall__require_search_from_serialized_34134 at /opt/julia/usr/lib/julia/sys.dylib:?\n in require at ./loading.jl:371\n in jlcall_require_22382 at /opt/julia/usr/lib/julia/sys.dylib:?\n in include_string at ./loading.jl:441\n in jlcall_include_string_35097 at /opt/julia/usr/lib/julia/sys.dylib:?\n in include_from_node1 at ./loading.jl:491\n in jlcall_include_from_node1_20159 at /opt/julia/usr/lib/julia/sys.dylib:?\n in eval at ./boot.jl:234\n in jlcall_eval_19783 at /opt/julia/usr/lib/julia/sys.dylib:?\n in #1 at ./multi.jl:1957\n in #625 at ./multi.jl:1421\n in run_work_thunk at ./multi.jl:1001\n in macro expansion at ./multi.jl:1421 [inlined]\n in #624 at ./event.jl:68\nduring initialization of module PyPlot\nwhile loading /Users/kiran/Documents/Projects/UNSflow/src/UNSflow.jl, in expression starting on line 9\n in #remotecall_fetch#606(::Array{Any,1}, ::Function, ::Function, ::Base.Worker) at ./multi.jl:1070\n in remotecall_fetch(::Function, ::Base.Worker) at ./multi.jl:1062\n in #remotecall_fetch#609(::Array{Any,1}, ::Function, ::Function, ::Int64) at ./multi.jl:1080\n in remotecall_fetch(::Function, ::Int64) at ./multi.jl:1080\n in (::##2#4)() at ./multi.jl:1959\n\n...and 3 other exceptions.\n\nwhile loading In[2], in expression starting on line 1",
      "",
      " in sync_end() at ./task.jl:311",
      " in macro expansion; at ./multi.jl:1968 [inlined]",
      " in anonymous at ./<missing>:?"
     ]
    }
   ],
   "source": [
    "@everywhere include(\"../src/UNSflow.jl\")\n",
    "#@everywhere include(\"../src/UNSflow.jl\")\n",
    "#@everywhere using UNSflow"
   ]
  },
  {
   "cell_type": "code",
   "execution_count": 3,
   "metadata": {
    "collapsed": false
   },
   "outputs": [
    {
     "name": "stderr",
     "output_type": "stream",
     "text": [
      "WARNING: replacing module UNSflow\n",
      "WARNING: replacing module UNSflow\n",
      "WARNING: replacing module UNSflow\n",
      "WARNING: replacing module UNSflow\n",
      "WARNING: replacing module NLsolve.\n",
      "WARNING: replacing module NLsolve.\n",
      "WARNING: replacing module NLsolve.\n",
      "\n",
      "WARNING: deprecated syntax \"call(eld::EldUpDef, ...)\".\n",
      "Use \"(eld::EldUpDef)(...)\" instead.\n",
      "\n",
      "WARNING: deprecated syntax \"call(eld::EldUptstartDef, ...)\".\n",
      "Use \"(eld::EldUptstartDef)(...)\" instead.\n",
      "\n",
      "WARNING: deprecated syntax \"call(cons::ConstDef, ...)\".\n",
      "Use \"(cons::ConstDef)(...)\" instead.\n",
      "\n",
      "WARNING: deprecated syntax \"call(eld::EldRampReturnDef, ...)\".\n",
      "Use \"(eld::EldRampReturnDef)(...)\" instead.\n",
      "\n",
      "WARNING: deprecated syntax \"call(eld::EldUpDef, ...)\".\n",
      "Use \"(eld::EldUpDef)(...)\" instead.\n",
      "\n",
      "WARNING: deprecated syntax \"call(kin::SinDef, ...)\".\n",
      "Use \"(kin::SinDef)(...)\" instead.\n",
      "\n",
      "WARNING: deprecated syntax \"call(kin::CosDef, ...)\".\n",
      "Use \"(kin::CosDef)(...)\" instead.\n",
      "\n",
      "WARNING: deprecated syntax \"call(eld::EldUptstartDef, ...)\".\n",
      "Use \"(eld::EldUptstartDef)(...)\" instead.\n",
      "\n",
      "WARNING: deprecated syntax \"call(cons::ConstDef, ...)\".\n",
      "Use \"(cons::ConstDef)(...)\" instead.\n",
      "\n",
      "WARNING: deprecated syntax \"call(eld::EldRampReturnDef, ...)\".\n",
      "Use \"(eld::EldRampReturnDef)(...)\" instead.\n",
      "\n",
      "WARNING: deprecated syntax \"call(eld::EldUpDef, ...)\".\n",
      "Use \"(eld::EldUpDef)(...)\" instead.\n",
      "\n",
      "WARNING: deprecated syntax \"call(kin::SinDef, ...)\".\n",
      "Use \"(kin::SinDef)(...)\" instead.\n",
      "\n",
      "WARNING: deprecated syntax \"call(kin::CosDef, ...)\".\n",
      "Use \"(kin::CosDef)(...)\" instead.\n",
      "\n",
      "WARNING: deprecated syntax \"call(eld::EldUptstartDef, ...)\".\n",
      "Use \"(eld::EldUptstartDef)(...)\" instead.\n",
      "\n",
      "WARNING: deprecated syntax \"call(cons::ConstDef, ...)\".\n",
      "Use \"(cons::ConstDef)(...)\" instead.\n",
      "\n",
      "WARNING: deprecated syntax \"call(eld::EldRampReturnDef, ...)\".\n",
      "Use \"(eld::EldRampReturnDef)(...)\" instead.\n",
      "\n",
      "WARNING: deprecated syntax \"call(kin::SinDef, ...)\".\n",
      "Use \"(kin::SinDef)(...)\" instead.\n",
      "\n",
      "WARNING: deprecated syntax \"call(kin::CosDef, ...)\".\n",
      "Use \"(kin::CosDef)(...)\" instead.\n",
      "WARNING: Base.ASCIIString is deprecated, use String instead.\n",
      "  likely near /Users/kiran/Documents/Projects/UNSflow/src/types.jl:294\n",
      "WARNING: Base.ASCIIString is deprecated, use String instead.\n",
      "  likely near /Users/kiran/Documents/Projects/UNSflow/src/types.jl:294\n",
      "WARNING: WARNING: Base.ASCIIString is deprecatedBase.ASCIIString is deprecated, use , use StringString instead.\n",
      "  likely near /Users/kiran/Documents/Projects/UNSflow/src/types.jl:486\n",
      " instead.\n",
      "  likely near /Users/kiran/Documents/Projects/UNSflow/src/types.jl:294\n",
      "WARNING: Base.ASCIIString is deprecated, use String instead.\n",
      "  likely near /Users/kiran/Documents/Projects/UNSflow/src/types.jl:294\n",
      "WARNING: Base.ASCIIString is deprecated, use String instead.\n",
      "  likely near /Users/kiran/Documents/Projects/UNSflow/src/types.jl:605\n",
      "WARNING: Base.ASCIIString is deprecated, use String instead.\n",
      "  likely near /Users/kiran/Documents/Projects/UNSflow/src/types.jl:294\n",
      "WARNING: Base.ASCIIString is deprecated, use String instead.\n",
      "  likely near /Users/kiran/Documents/Projects/UNSflow/src/types.jl:294\n",
      "WARNING: Base.ASCIIString is deprecated, use String instead.\n",
      "  likely near /Users/kiran/Documents/Projects/UNSflow/src/types.jl:673\n",
      "WARNING: Base.ASCIIString is deprecated, use String instead.\n",
      "  likely near /Users/kiran/Documents/Projects/UNSflow/src/types.jl:486\n",
      "\n",
      "WARNING: deprecated syntax \"call(eld::EldUpIntDef, ...)\".\n",
      "Use \"(eld::EldUpIntDef)(...)\" instead.\n",
      "\n",
      "WARNING: deprecated syntax \"call(eld::EldUpInttstartDef, ...)\".\n",
      "Use \"(eld::EldUpInttstartDef)(...)\" instead.\n",
      "WARNING: Base.ASCIIString is deprecated, use String instead.\n",
      "  likely near /Users/kiran/Documents/Projects/UNSflow/src/types.jl:605\n",
      "WARNING: Base.ASCIIString is deprecated, use String instead.\n",
      "  likely near /Users/kiran/Documents/Projects/UNSflow/src/types.jl:486\n",
      "WARNING: \n",
      "WARNING: deprecated syntax \"call(kelv::KelvinCondition, ...)\".\n",
      "Use \"(kelv::KelvinCondition)(...)\" instead.\n",
      "Base.ASCIIString is deprecated, use String instead.\n",
      "  likely near /Users/kiran/Documents/Projects/UNSflow/src/types.jl:673\n",
      "WARNING: Base.ASCIIString is deprecated, use String instead.\n",
      "  likely near /Users/kiran/Documents/Projects/UNSflow/src/types.jl:605\n",
      "\n",
      "WARNING: deprecated syntax \"call(kelv::KelvinCondition2DOF, ...)\".\n",
      "Use \"(kelv::KelvinCondition2DOF)(...)\" instead.\n",
      "\n",
      "WARNING: deprecated syntax \"call(eld::EldUpIntDef, ...)\".\n",
      "Use \"(eld::EldUpIntDef)(...)\" instead.\n",
      "\n",
      "WARNING: deprecated syntax \"call(kelv::KelvinCondition2DFree, ...)\".\n",
      "Use \"(kelv::KelvinCondition2DFree)(...)\" instead.\n",
      "\n",
      "WARNING: deprecated syntax \"call(eld::EldUpInttstartDef, ...)\".\n",
      "Use \"(eld::EldUpInttstartDef)(...)\" instead.\n",
      "\n",
      "WARNING: deprecated syntax \"call(kelv::KelvinConditionwFlap, ...)\".\n",
      "Use \"(kelv::KelvinConditionwFlap)(...)\" instead.\n",
      "WARNING: Base.ASCIIString is deprecated, use String instead.\n",
      "  likely near /Users/kiran/Documents/Projects/UNSflow/src/types.jl:673\n",
      "\n",
      "WARNING: deprecated syntax \"call(eld::EldUpIntDef, ...)\".\n",
      "Use \"(eld::EldUpIntDef)(...)\" instead.\n",
      "\n",
      "WARNING: deprecated syntax \"call(kelv::KelvinCondition, ...)\".\n",
      "Use \"(kelv::KelvinCondition)(...)\" instead.\n",
      "\n",
      "WARNING: deprecated syntax \"call(eld::EldUpInttstartDef, ...)\".\n",
      "Use \"(eld::EldUpInttstartDef)(...)\" instead.\n",
      "\n",
      "WARNING: deprecated syntax \"call(kelv::KelvinCondition2DOF, ...)\".\n",
      "Use \"(kelv::KelvinCondition2DOF)(...)\" instead.\n",
      "\n",
      "WARNING: deprecated syntax \"call(kelv::KelvinKutta, ...)\".\n",
      "Use \"(kelv::KelvinKutta)(...)\" instead.\n",
      "\n",
      "WARNING: deprecated syntax \"call(kelv::KelvinCondition2DFree, ...)\".\n",
      "Use \"(kelv::KelvinCondition2DFree)(...)\" instead.\n",
      "\n",
      "WARNING: deprecated syntax \"call(kelv::KelvinKutta2DOF, ...)\".\n",
      "Use \"(kelv::KelvinKutta2DOF)(...)\" instead.\n",
      "\n",
      "WARNING: deprecated syntax \"call(kelv::KelvinConditionwFlap, ...)\".\n",
      "Use \"(kelv::KelvinConditionwFlap)(...)\" instead.\n",
      "\n",
      "WARNING: deprecated syntax \"call(kelv::KelvinCondition, ...)\".\n",
      "Use \"(kelv::KelvinCondition)(...)\" instead.\n",
      "\n",
      "WARNING: deprecated syntax \"call(kelv::KelvinCondition2DOF, ...)\".\n",
      "Use \"(kelv::KelvinCondition2DOF)(...)\" instead.\n",
      "\n",
      "WARNING: deprecated syntax \"call(kelv::KelvinKutta2DFree, ...)\".\n",
      "Use \"(kelv::KelvinKutta2DFree)(...)\" instead.\n",
      "\n",
      "WARNING: deprecated syntax \"call(kelv::KelvinCondition2DFree, ...)\".\n",
      "Use \"(kelv::KelvinCondition2DFree)(...)\" instead.\n",
      "\n",
      "WARNING: deprecated syntax \"call(kelv::KelvinKuttawFlap, ...)\".\n",
      "Use \"(kelv::KelvinKuttawFlap)(...)\" instead.\n",
      "\n",
      "WARNING: deprecated syntax \"call(kelv::KelvinConditionwFlap, ...)\".\n",
      "Use \"(kelv::KelvinConditionwFlap)(...)\" instead.\n",
      "\n",
      "WARNING: deprecated syntax \"call(kelv::KelvinKutta, ...)\".\n",
      "Use \"(kelv::KelvinKutta)(...)\" instead.\n",
      "\n",
      "WARNING: deprecated syntax \"call(kelv::KelvinKutta, ...)\".\n",
      "Use \"(kelv::KelvinKutta)(...)\" instead.\n",
      "\n",
      "WARNING: deprecated syntax \"call(kelv::KelvinKutta2DOF, ...)\".\n",
      "Use \"(kelv::KelvinKutta2DOF)(...)\" instead.\n",
      "\n",
      "WARNING: deprecated syntax \"call(kelv::KelvinKutta2DOF, ...)\".\n",
      "Use \"(kelv::KelvinKutta2DOF)(...)\" instead.\n",
      "\n",
      "WARNING: deprecated syntax \"call(kelv::KelvinKutta2DFree, ...)\".\n",
      "Use \"(kelv::KelvinKutta2DFree)(...)\" instead.\n",
      "\n",
      "WARNING: deprecated syntax \"call(kelv::KelvinKutta2DFree, ...)\".\n",
      "Use \"(kelv::KelvinKutta2DFree)(...)\" instead.\n",
      "\n",
      "WARNING: deprecated syntax \"call(kelv::KelvinKuttawFlap, ...)\".\n",
      "Use \"(kelv::KelvinKuttawFlap)(...)\" instead.\n",
      "\n",
      "WARNING: deprecated syntax \"call(kelv::KelvinKuttawFlap, ...)\".\n",
      "Use \"(kelv::KelvinKuttawFlap)(...)\" instead.\n",
      "\n",
      "WARNING: deprecated syntax \"call(eld::EldUpDef, ...)\".\n",
      "Use \"(eld::EldUpDef)(...)\" instead.\n",
      "\n",
      "WARNING: deprecated syntax \"call(eld::EldUptstartDef, ...)\".\n",
      "Use \"(eld::EldUptstartDef)(...)\" instead.\n",
      "\n",
      "WARNING: deprecated syntax \"call(cons::ConstDef, ...)\".\n",
      "Use \"(cons::ConstDef)(...)\" instead.\n",
      "\n",
      "WARNING: deprecated syntax \"call(eld::EldRampReturnDef, ...)\".\n",
      "Use \"(eld::EldRampReturnDef)(...)\" instead.\n",
      "\n",
      "WARNING: deprecated syntax \"call(kin::SinDef, ...)\".\n",
      "Use \"(kin::SinDef)(...)\" instead.\n",
      "\n",
      "WARNING: deprecated syntax \"call(kin::CosDef, ...)\".\n",
      "Use \"(kin::CosDef)(...)\" instead.\n",
      "WARNING: Base.ASCIIString is deprecated, use String instead.\n",
      "  likely near /Users/kiran/Documents/Projects/UNSflow/src/types.jl:294\n",
      "WARNING: Base.ASCIIString is deprecated, use String instead.\n",
      "  likely near /Users/kiran/Documents/Projects/UNSflow/src/types.jl:294\n",
      "WARNING: Base.ASCIIString is deprecated, use String instead.\n",
      "  likely near /Users/kiran/Documents/Projects/UNSflow/src/types.jl:486\n",
      "WARNING: Base.ASCIIString is deprecated, use String instead.\n",
      "  likely near /Users/kiran/Documents/Projects/UNSflow/src/types.jl:605\n",
      "WARNING: Base.ASCIIString is deprecated, use String instead.\n",
      "  likely near /Users/kiran/Documents/Projects/UNSflow/src/types.jl:673\n",
      "WARNING: Base.ASCIIString is deprecated, use String instead.\n",
      "  likely near /Users/kiran/Documents/Projects/UNSflow/src/calculations.jl:610\n",
      "\n",
      "WARNING: deprecated syntax \"call(eld::EldUpIntDef, ...)\".\n",
      "Use \"(eld::EldUpIntDef)(...)\" instead.\n",
      "\n",
      "WARNING: deprecated syntax \"call(eld::EldUpInttstartDef, ...)\".\n",
      "Use \"(eld::EldUpInttstartDef)(...)\" instead.\n",
      "WARNING: Base.ASCIIString is deprecated, use String instead.\n",
      "  likely near /Users/kiran/Documents/Projects/UNSflow/src/calculations.jl:610\n",
      "\n",
      "WARNING: deprecated syntax \"call(kelv::KelvinCondition, ...)\".\n",
      "Use \"(kelv::KelvinCondition)(...)\" instead.\n",
      "\n",
      "WARNING: deprecated syntax \"call(kelv::KelvinCondition2DOF, ...)\".\n",
      "Use \"(kelv::KelvinCondition2DOF)(...)\" instead.\n",
      "\n",
      "WARNING: deprecated syntax \"call(kelv::KelvinCondition2DFree, ...)\".\n",
      "Use \"(kelv::KelvinCondition2DFree)(...)\" instead.\n",
      "\n",
      "WARNING: deprecated syntax \"call(kelv::KelvinConditionwFlap, ...)\".\n",
      "Use \"(kelv::KelvinConditionwFlap)(...)\" instead.\n",
      "WARNING: Base.ASCIIString is deprecated, use String instead.\n",
      "  likely near /Users/kiran/Documents/Projects/UNSflow/src/calculations.jl:610\n",
      "\n",
      "WARNING: deprecated syntax \"call(kelv::KelvinKutta, ...)\".\n",
      "Use \"(kelv::KelvinKutta)(...)\" instead.\n",
      "\n",
      "WARNING: deprecated syntax \"call(kelv::KelvinKutta2DOF, ...)\".\n",
      "Use \"(kelv::KelvinKutta2DOF)(...)\" instead.\n",
      "\n",
      "WARNING: deprecated syntax \"call(kelv::KelvinKutta2DFree, ...)\".\n",
      "Use \"(kelv::KelvinKutta2DFree)(...)\" instead.\n",
      "\n",
      "WARNING: deprecated syntax \"call(kelv::KelvinKuttawFlap, ...)\".\n",
      "Use \"(kelv::KelvinKuttawFlap)(...)\" instead.\n",
      "WARNING: Base.ASCIIString is deprecated, use String instead.\n",
      "  likely near /Users/kiran/Documents/Projects/UNSflow/src/calculations.jl:610\n"
     ]
    }
   ],
   "source": [
    "@everywhere include(\"../src/UNSflow.jl\")\n",
    "@everywhere using UNSflow"
   ]
  },
  {
   "cell_type": "markdown",
   "metadata": {},
   "source": [
    "# Recreate Antonio 3D results using a strip theory approach and LDVM"
   ]
  },
  {
   "cell_type": "code",
   "execution_count": null,
   "metadata": {
    "collapsed": true
   },
   "outputs": [],
   "source": []
  },
  {
   "cell_type": "markdown",
   "metadata": {
    "collapsed": false
   },
   "source": [
    "### basic LLT correction - circulation goes to zero at the wingtips. The LDVM runs are done in parallel  \n"
   ]
  },
  {
   "cell_type": "code",
   "execution_count": 10,
   "metadata": {
    "collapsed": false
   },
   "outputs": [
    {
     "data": {
      "text/plain": [
       "1-element Array{Int64,1}:\n",
       " 21"
      ]
     },
     "execution_count": 10,
     "metadata": {},
     "output_type": "execute_result"
    }
   ],
   "source": [
    "#Construct dimensionless quantities from given values\n",
    "c_d = 0.2\n",
    "b_d = 6\n",
    "AR = b_d/c_d\n",
    "\n",
    "u_d = 10\n",
    "f_d = 0.8889\n",
    "k = 2*pi*f_d*c_d/(2*u_d)\n",
    "\n",
    "#_dAll values below are nondimensional\n",
    "c = 1\n",
    "u = 1\n",
    "w = 2*k\n",
    "T = (2*pi/w)\n",
    "ncyc = 8\n",
    "t_tot = ncyc*T \n",
    "\n",
    "modedata = readdlm(\"../test/anto_mode1.dat\");\n",
    "mode_spl = Spline1D(modedata[:,3],modedata[:,4])\n",
    "\n",
    "n_span = 12\n",
    "n_bterm = 40\n",
    "\n",
    "psi = zeros(n_span)\n",
    "dpsi = pi/n_span\n",
    "\n",
    "for i = 1:n_span\n",
    "    psi[i] = (real(i)-0.5)*dpsi\n",
    "end\n",
    "\n",
    "scale = 0.5\n",
    "\n",
    "#Run LDVM at all these locations:\n",
    "alpha_amp = 5*pi/180\n",
    "\n",
    "h_amp = zeros(n_span)\n",
    "for i = 1:n_span   \n",
    "    y_d = -b_d*cos(psi[i])/2.\n",
    "    h_amp[i] = evaluate(mode_spl,y_d)*scale/c_d\n",
    "end\n",
    "\n",
    "dtstar = min(0.015*8,0.015*0.2*4/(k*maximum(h_amp)))\n",
    "nsteps =round(Int,t_tot/dtstar)+1\n",
    "\n",
    "alphadef = ConstDef(alpha_amp)\n",
    "udef = ConstDef(u)\n",
    "pvt = 0.0 #Doesnt matter, no pitch\n",
    "lespcrit = [21;] #high value to turn off LEV shedding\n",
    "\n"
   ]
  },
  {
   "cell_type": "code",
   "execution_count": 11,
   "metadata": {
    "collapsed": false
   },
   "outputs": [
    {
     "data": {
      "text/plain": [
       "3751"
      ]
     },
     "execution_count": 11,
     "metadata": {},
     "output_type": "execute_result"
    }
   ],
   "source": [
    "nsteps"
   ]
  },
  {
   "cell_type": "code",
   "execution_count": 12,
   "metadata": {
    "collapsed": false
   },
   "outputs": [
    {
     "name": "stdout",
     "output_type": "stream",
     "text": [
      "856.849131 seconds (750.54 k allocations: 27.560 MB, 0.00% gc time)\n"
     ]
    }
   ],
   "source": [
    "#Time parallel and serial runs\n",
    "\n",
    "#Parallel\n",
    "\n",
    "W_mat = Array{Float64,2}[]\n",
    "W_surf = TwoDSurf[]\n",
    "W_curfield = TwoDFlowField[]\n",
    "\n",
    "#Create an aray of inputs for use in pmap. \n",
    "#ldvm_in = Tuple{TwoDSurf,TwoDFlowField,Int64,Float64}[]\n",
    "surf_in = TwoDSurf[]\n",
    "field_in = TwoDFlowField[]\n",
    "n_in = Int64[]\n",
    "dt_in = Float64[]\n",
    "del_in = DelVortDef[]\n",
    "\n",
    "for i = 1:Int(n_span/2)\n",
    "    hdef = CosDef(0., h_amp[i], w, 0.)\n",
    "    full_kinem = KinemDef(alphadef, hdef, udef)\n",
    "    surf = TwoDSurf(\"FlatPlate\", pvt, full_kinem, lespcrit)\n",
    "    curfield = TwoDFlowField()\n",
    "    del = DelVortDef(1, 500, 10)\n",
    "    push!(surf_in,surf)\n",
    "    push!(field_in, curfield)\n",
    "    push!(n_in,nsteps,)\n",
    "    push!(dt_in,dtstar)\n",
    "    push!(del_in,del)\n",
    "end\n",
    "\n",
    "@time fullsol = pmap((a1,a2,a3,a4,a5)->ldvm(a1,a2,a3,a4),surf_in,field_in,n_in,dt_in,del_in)\n",
    "\n",
    "for i = 1:Int(n_span/2)\n",
    "    push!(W_mat,fullsol[i][1])\n",
    "    push!(W_surf, fullsol[i][2])\n",
    "    push!(W_curfield, fullsol[i][3])\n",
    "end\n",
    "    \n",
    "\n"
   ]
  },
  {
   "cell_type": "code",
   "execution_count": null,
   "metadata": {
    "collapsed": false
   },
   "outputs": [],
   "source": [
    "W_mat\n"
   ]
  },
  {
   "cell_type": "code",
   "execution_count": null,
   "metadata": {
    "collapsed": true
   },
   "outputs": [],
   "source": [
    "#Mirror image for the rest of the span\n",
    "for i = Int(n_span/2)+1:n_span\n",
    "    mt = W_mat[n_span - i + 1]\n",
    "    st = W_surf[n_span - i + 1]\n",
    "    ct = W_curfield[n_span - i + 1]\n",
    "    push!(W_mat, mt)\n",
    "    push!(W_surf, st)\n",
    "    push!(W_curfield, ct)\n",
    "end"
   ]
  },
  {
   "cell_type": "code",
   "execution_count": null,
   "metadata": {
    "collapsed": false
   },
   "outputs": [],
   "source": [
    "lhs = zeros(n_span,n_bterm)\n",
    "rhs = zeros(n_span)\n",
    "b_coeff = zeros(nsteps,n_bterm)\n",
    "sp_gam = zeros(nsteps,n_span)\n",
    "\n",
    "dt = W_mat[1][2,1] - W_mat[1][1,1]\n",
    "\n",
    "cnc_f = zeros(nsteps)\n",
    "cnnc_f = zeros(nsteps)\n",
    "\n"
   ]
  },
  {
   "cell_type": "code",
   "execution_count": null,
   "metadata": {
    "collapsed": false
   },
   "outputs": [],
   "source": [
    "bdot = zeros(nsteps,n_bterm)\n",
    "\n",
    "for i = 1:nsteps\n",
    "    for j = 1:n_span\n",
    "        for n = 1:n_bterm\n",
    "            lhs[j,n] = sin(n*psi[j])*(sin(psi[j]) + (n*pi/(2*AR)))\n",
    "        end\n",
    "        rhs[j] = pi*sin(psi[j])*W_mat[j][i,9]/(2*AR)\n",
    "    end\n",
    "        \n",
    "    b_coeff[i,:] = \\(lhs, rhs)\n",
    "    if i >= 2   \n",
    "        bdot[i,:] = (b_coeff[i,:] - b_coeff[i-1,:])/dt\n",
    "    end\n",
    "       \n",
    "end\n",
    "        "
   ]
  },
  {
   "cell_type": "code",
   "execution_count": null,
   "metadata": {
    "collapsed": false
   },
   "outputs": [],
   "source": [
    "a03d = zeros(nsteps,n_span)\n",
    "cd_ind = zeros(nsteps)\n",
    "a0dot3d = zeros(nsteps,n_span)\n",
    "gam_other = zeros(nsteps,n_span)\n",
    "\n",
    "for i = 1:nsteps\n",
    "    for j = 1:n_span\n",
    "         sp_gam[i,j] = 0\n",
    "         for n = 1:n_bterm\n",
    "             sp_gam[i,j] = sp_gam[i,j] + 2*b_d*u*b_coeff[i,n]*sin(n*psi[j])\n",
    "         end\n",
    "    end  \n",
    "end\n",
    "\n",
    "for i = 1:nsteps\n",
    "    cd_ind[i] = 0\n",
    "    for n = 1:n_bterm\n",
    "        cd_ind[i] = cd_ind[i] + real(n)*b_coeff[i,n]^2\n",
    "    end\n",
    "    cd_ind[i] = cd_ind[i]*pi*AR\n",
    "    for j = 1:n_span\n",
    "        a03d[i,j] = 0\n",
    "        for n = 1:n_bterm\n",
    "            a03d[i,j] = a03d[i,j] - real(n)*b_coeff[i,n]*sin(n*psi[j])/sin(psi[j])\n",
    "            a0dot3d[i,j] = a0dot3d[i,j] - real(n)*bdot[i,n]*sin(n*psi[j])/sin(psi[j])\n",
    "        end\n",
    "        gam_other[i,j] = u*c_d*pi*(W_mat[j][i,9] + a03d[i,j])\n",
    "    end\n",
    "end\n",
    "\n"
   ]
  },
  {
   "cell_type": "code",
   "execution_count": null,
   "metadata": {
    "collapsed": false
   },
   "outputs": [],
   "source": [
    "plot(sp_gam[10,1:n_span])\n",
    "plot(gam_other[10,:])\n",
    "plot(a03d[10,:])\n",
    "plot(a0dot3d[10,:])"
   ]
  },
  {
   "cell_type": "code",
   "execution_count": null,
   "metadata": {
    "collapsed": false
   },
   "outputs": [],
   "source": [
    "W_alpha = zeros(nsteps,n_span)\n",
    "W_h = zeros(nsteps,n_span)\n",
    "W_hdot = zeros(nsteps,n_span)\n",
    "W_u = zeros(nsteps,n_span)\n",
    "W_u[:,:] = 1\n",
    "W_alpha[:,:] = 5*pi/180\n",
    "for i = 1:nsteps\n",
    "    for j = 1:n_span\n",
    "        hdef = CosDef(0., h_amp[j], w, 0.)\n",
    "        tt = W_mat[1][i,1]    \n",
    "        W_h[i,j] = hdef(tt)*c\n",
    "        W_hdot[i,j] = ForwardDiff.derivative(hdef,tt)*u\n",
    "    end\n",
    "end\n"
   ]
  },
  {
   "cell_type": "code",
   "execution_count": null,
   "metadata": {
    "collapsed": false
   },
   "outputs": [],
   "source": [
    "W_cn = zeros(nsteps)\n",
    "W_cs = zeros(nsteps)\n",
    "W_cl = zeros(nsteps)\n",
    "W_cd = zeros(nsteps)\n",
    "W_cdi = zeros(nsteps)\n",
    "\n",
    "cn3d = zeros(nsteps, n_span)\n",
    "cs3d = zeros(nsteps, n_span)\n",
    "cl3d = zeros(nsteps, n_span)\n",
    "cd3d = zeros(nsteps, n_span)\n",
    "\n",
    "for i = 1:nsteps\n",
    "    W_cn[i] = 0\n",
    "    W_cs[i] = 0\n",
    "    for j = 1:n_span\n",
    "        cn3d[i,j] = W_mat[j][i,10] + (2*pi/u)*(W_u[i,j]*cos(W_alpha[i,j]) + W_hdot[i,j]*sin(W_alpha[i,j]))*a03d[1,j] + (2*pi*c/u)*(3*a0dot3d[i,j]/4)\n",
    "        cs3d[i,j] = W_mat[j][i,11] + 2*pi*a03d[i,j]^2\n",
    "        cl3d[i,j] = cn3d[i,j]*cos(W_alpha[i,j]) + cs3d[i,j]*sin(W_alpha[i,j])\n",
    "        cd3d[i,j] = cn3d[i,j]*sin(W_alpha[i,j]) - cs3d[i,j]*cos(W_alpha[i,j]) \n",
    "        W_cn[i] = W_cn[i] + cn3d[i,j]*sin(psi[j])*dpsi/2\n",
    "        W_cs[i] = W_cs[i] + cs3d[i,j]*sin(psi[j])*dpsi/2\n",
    "        W_cl[i] = W_cl[i] + cl3d[i,j]*sin(psi[j])*dpsi/2\n",
    "        W_cd[i] = W_cd[i] + cd3d[i,j]*sin(psi[j])*dpsi/2\n",
    "    end\n",
    "end\n",
    "\n",
    "\n",
    "#cn_w = \n",
    "\n",
    "#sum_bcoeff = 0\n",
    "#    for n = 1:n_bterm\n",
    "#        if rem(n,2) != 0\n",
    "#            sum_bcoeff = sum_bcoeff + b_coeff[n]\n",
    "#        end\n",
    "#    end\n",
    "\n",
    "#    cnc_f[i] = -2*pi*(u[i]*cos(alpha[i])/surf.uref + hdot[i]*sin(alpha[i])/surf.uref)*(sum_bcoeff)\n",
    "#    sum_bdot = 0\n",
    "#        for n = 1:n_bterm\n",
    "#            if rem(n,2) != 0\n",
    "#                sum_bdot = sum_bdot + bdot[n]\n",
    "#            end\n",
    "#        end\n",
    "#        cnnc_f[i] = -(2*pi*surf.c/(surf.uref))*(3*sum_bdot/4)\n",
    "#    end"
   ]
  },
  {
   "cell_type": "code",
   "execution_count": null,
   "metadata": {
    "collapsed": false
   },
   "outputs": [],
   "source": [
    "dlt = readcsv(\"../test/anto_cl.csv\")\n",
    "plot(dlt[:,1]/T,dlt[:,2])\n",
    "t_th = W_mat[1][:,1]*c_d/u_d\n",
    "range = round(Int,(ncyc-1)*nsteps/ncyc)+1:nsteps\n",
    "tbyT = (t_th-t_th[1])/T\n",
    "plot(tbyT,W_cl[range])\n",
    "\n",
    "\n"
   ]
  },
  {
   "cell_type": "code",
   "execution_count": null,
   "metadata": {
    "collapsed": false
   },
   "outputs": [],
   "source": [
    "plot(W_mat[1][:,1]*c_d/u_d,W_cl)\n",
    "PyPlot.axis([0,4,0.0,0.7])"
   ]
  },
  {
   "cell_type": "code",
   "execution_count": null,
   "metadata": {
    "collapsed": false
   },
   "outputs": [],
   "source": [
    "plot(W_mat[1][:,1]*c_d/u_d,cd_ind/6)\n",
    "#PyPlot.axis([0,120,0,1])"
   ]
  },
  {
   "cell_type": "code",
   "execution_count": null,
   "metadata": {
    "collapsed": false
   },
   "outputs": [],
   "source": [
    "W_mat[1]"
   ]
  },
  {
   "cell_type": "code",
   "execution_count": null,
   "metadata": {
    "collapsed": false
   },
   "outputs": [],
   "source": [
    "W_mat[2]"
   ]
  },
  {
   "cell_type": "code",
   "execution_count": null,
   "metadata": {
    "collapsed": true
   },
   "outputs": [],
   "source": [
    "### Visualise the 3D problem\n",
    "fig = figure()\n",
    "ax = gca(projection=\"3d\")\n",
    "\n",
    "plot3D(map(q->q.x, surf1.bv),map(q->q.z,surf1.bv),-3,\"y\",color = \"black\",linewidth=2.0)\n",
    "plot3D(map(q->q.x, surf2.bv),map(q->q.z,surf2.bv),-2,\"y\",color = \"black\",linewidth=2.0)\n",
    "plot3D(map(q->q.x, surf3.bv),map(q->q.z,surf3.bv),-1,\"y\",color = \"black\",linewidth=2.0)\n",
    "plot3D(map(q->q.x, surf4.bv),map(q->q.z,surf4.bv),0, \"y\",color = \"black\",linewidth=2.0)\n",
    "plot3D(map(q->q.x, surf1.bv),map(q->q.z,surf1.bv),3, \"y\",color = \"black\",linewidth=2.0)\n",
    "plot3D(map(q->q.x, surf2.bv),map(q->q.z,surf2.bv),2, \"y\",color = \"black\",linewidth=2.0)\n",
    "plot3D(map(q->q.x, surf3.bv),map(q->q.z,surf3.bv),1, \"y\",color = \"black\",linewidth=2.0)\n",
    "\n",
    "\n",
    "scatter3D(map(q->q.x, curfield1.tev),map(q->q.z,curfield1.tev),-3,\"z\",s=20,c=map(q->q.s,curfield1.tev),cmap=ColorMap(\"jet\"),edgecolors=\"none\")\n",
    "scatter3D(map(q->q.x, curfield2.tev),map(q->q.z,curfield2.tev),-2,\"z\",s=20,c=map(q->q.s,curfield2.tev),cmap=ColorMap(\"jet\"),edgecolors=\"none\")\n",
    "scatter3D(map(q->q.x, curfield3.tev),map(q->q.z,curfield3.tev),-1,\"z\",s=20,c=map(q->q.s,curfield3.tev),cmap=ColorMap(\"jet\"),edgecolors=\"none\")\n",
    "scatter3D(map(q->q.x, curfield4.tev),map(q->q.z,curfield4.tev),0,\"z\",s=20,c=map(q->q.s,curfield4.tev),cmap=ColorMap(\"jet\"),edgecolors=\"none\")\n",
    "scatter3D(map(q->q.x, curfield1.tev),map(q->q.z,curfield1.tev),3,\"z\",s=20,c=map(q->q.s,curfield1.tev),cmap=ColorMap(\"jet\"),edgecolors=\"none\")\n",
    "scatter3D(map(q->q.x, curfield2.tev),map(q->q.z,curfield2.tev),2,\"z\",s=20,c=map(q->q.s,curfield2.tev),cmap=ColorMap(\"jet\"),edgecolors=\"none\")\n",
    "scatter3D(map(q->q.x, curfield3.tev),map(q->q.z,curfield3.tev),1,\"z\",s=20,c=map(q->q.s,curfield3.tev),cmap=ColorMap(\"jet\"),edgecolors=\"none\")\n",
    "\n",
    "\n",
    "\n",
    "\n",
    "\n",
    "\n",
    "#axis(\"equal\")\n",
    "#ax[:view_init](20, 120)\n",
    "\n",
    "\n"
   ]
  }
 ],
 "metadata": {
  "anaconda-cloud": {},
  "kernelspec": {
   "display_name": "Julia 0.5.0-rc4",
   "language": "julia",
   "name": "julia-0.5"
  },
  "language_info": {
   "file_extension": ".jl",
   "mimetype": "application/julia",
   "name": "julia",
   "version": "0.5.0"
  }
 },
 "nbformat": 4,
 "nbformat_minor": 1
}
