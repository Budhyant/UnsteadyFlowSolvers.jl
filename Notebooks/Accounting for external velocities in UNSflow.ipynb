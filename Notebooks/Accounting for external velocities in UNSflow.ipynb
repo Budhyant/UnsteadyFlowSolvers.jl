{
 "cells": [
  {
   "cell_type": "markdown",
   "metadata": {},
   "source": [
    "# External velocities may include gusts, turbulence, etc..."
   ]
  },
  {
   "cell_type": "markdown",
   "metadata": {},
   "source": [
    "### Equations from LDVM (JFM 2014) are modified here to add u_ext(t) and w_ext(t) - These are uniform over the airfoil chord"
   ]
  },
  {
   "cell_type": "markdown",
   "metadata": {},
   "source": [
    "The vorticity distribution on the airfoil is taken to be:\n",
    "\n",
    "\\begin{equation}\n",
    "\\gamma(\\theta,t)=2U\\left[A_{0}(t)\\frac{1+\\cos \\theta}{\\sin \\theta} + \\sum_{n=1}^{\\infty}A_{n}(t) \\sin(n\\theta)\\right]\n",
    "\\end{equation}"
   ]
  },
  {
   "cell_type": "markdown",
   "metadata": {},
   "source": [
    "where $\\theta$ is a variable of transformation related to\n",
    "the chordwise coordinate $x$ as,\n",
    "\n",
    "\\begin{equation}\n",
    "x=\\frac{c}{2}(1-\\cos\\theta)\n",
    "\\end{equation}"
   ]
  },
  {
   "cell_type": "markdown",
   "metadata": {},
   "source": [
    "in which $A_{0}(t)$, $A_{1}(t)$, ..., $A_{n}(t)$ are the\n",
    "time-dependent Fourier coefficients, $c$ is the airfoil chord, and $U$\n",
    "is the component of the airfoil's velocity in the negative $X$\n",
    "direction."
   ]
  },
  {
   "cell_type": "markdown",
   "metadata": {},
   "source": [
    "\\begin{equation}\n",
    "A_{0}(t) = -\\frac{1}{\\pi}\n",
    "\\displaystyle \\int_{0}^{\\pi}\\frac{W(x,t)}{U}d \\theta\n",
    "\\end{equation}\n",
    "\\begin{equation}\n",
    "A_{n}(t) =\n",
    "\\frac{2}{\\pi} \\displaystyle \\int_{0}^{\\pi}\\frac{W(x,t)}{U} \\cos n\n",
    "\\theta d \\theta\n",
    "\\end{equation}\n"
   ]
  },
  {
   "cell_type": "markdown",
   "metadata": {},
   "source": [
    "The downwash with no external flow velocity is, \n",
    "\n",
    "\\begin{equation}\n",
    "W(x,t)\\equiv \\frac{\\partial\\phi_{B}}{\\partial z}=\\frac{\\partial\n",
    "  \\eta}{\\partial x}(U \\cos \\alpha+\\dot{h} \\sin \\alpha+\\frac{\\partial\n",
    "  \\phi_{lev}}{\\partial x} +\\frac{\\partial \\phi_{tev}}{\\partial x}) -\n",
    "   U \\sin \\alpha -\\dot{\\alpha}(x-ac)\n",
    "  +\\dot{h} \\cos \\alpha -\\frac{\\partial \\phi_{tev}}{\\partial z}-\n",
    "  \\frac{\\partial \\phi_{lev}}{\\partial z}\n",
    "\\end{equation}"
   ]
  },
  {
   "cell_type": "markdown",
   "metadata": {},
   "source": [
    "The terms multiplied with $\\partial \\eta/\\partial x$ are all velocities tangential to (along) the chord. The other terms are velocities normal to and entering the chord.  "
   ]
  },
  {
   "cell_type": "markdown",
   "metadata": {},
   "source": [
    "The new downwash will be: "
   ]
  },
  {
   "cell_type": "markdown",
   "metadata": {},
   "source": [
    "\\begin{equation}\n",
    "W(x,t)\\equiv \\frac{\\partial\\phi_{B}}{\\partial z}=\\frac{\\partial\n",
    "  \\eta}{\\partial x}(U \\cos \\alpha+\\dot{h} \\sin \\alpha+\\frac{\\partial\n",
    "        \\phi_{lev}}{\\partial x} +\\frac{\\partial \\phi_{tev}}{\\partial x} + u_{ext}\\cos \\alpha -w_{ext}\\sin\\alpha) -\n",
    "   U \\sin \\alpha -\\dot{\\alpha}(x-ac)\n",
    "  +\\dot{h} \\cos \\alpha -\\frac{\\partial \\phi_{tev}}{\\partial z}-\n",
    "    \\frac{\\partial \\phi_{lev}}{\\partial z} - u_{ext} \\sin \\alpha - w_{ext} \\cos \\alpha\n",
    "\\end{equation}"
   ]
  },
  {
   "cell_type": "markdown",
   "metadata": {},
   "source": [
    "### Now modify the pressure equations as well"
   ]
  },
  {
   "cell_type": "markdown",
   "metadata": {},
   "source": [
    "From the unsteady Bernoulli's equation, we have that:\n",
    "\n",
    "\\begin{equation}\n",
    "    \\Delta p(x) = p_l(x)-p_u(x) \n",
    "= \\rho \\left(\\frac{1}{2}(V_{t_u}^2-V_{t_l}^2)+\n",
    "\\left(\\frac{\\partial \\phi}{\\partial t}\\right)_u-\n",
    "\\left(\\frac{\\partial \\phi}{\\partial t}\\right)_l\\right)\n",
    "\\end{equation}\n"
   ]
  },
  {
   "cell_type": "markdown",
   "metadata": {},
   "source": [
    "The velocity potential is comprised of components from bound\n",
    "vorticity, leading-edge vortices and trailing-edge vortices,\n",
    "\n",
    "\\begin{equation}\n",
    "\\phi=\\phi_b+\\phi_{lev}+\\phi_{tev}\n",
    "\\end{equation}\n"
   ]
  },
  {
   "cell_type": "markdown",
   "metadata": {},
   "source": [
    "and the tangential velocities on upper and lower surface are expresse\\\n",
    "d as:\n",
    "\n",
    "\\begin{equation}\n",
    "V_{t_u} = U\\cos \\alpha +\\dot{h} \\sin \\alpha +\n",
    "           \\left(\\frac{\\partial \\phi_{lev}}{\\partial x}\\right)_u +\n",
    "           \\left(\\frac{\\partial \\phi_{tev}}{\\partial x}\\right)_u +\n",
    "           \\left(\\frac{\\partial \\phi_{b}}{\\partial x}\\right)_u \n",
    "\\end{equation}\n",
    "\\begin{equation}\n",
    "V_{t_l} = U\\cos \\alpha +\\dot{h} \\sin \\alpha +\n",
    "           \\left(\\frac{\\partial \\phi_{lev}}{\\partial x}\\right)_l +\n",
    "           \\left(\\frac{\\partial \\phi_{tev}}{\\partial x}\\right)_l +\n",
    "           \\left(\\frac{\\partial \\phi_{b}}{\\partial x}\\right)_l\n",
    "\\end{equation}\n"
   ]
  },
  {
   "cell_type": "markdown",
   "metadata": {},
   "source": [
    "These expressions are now modified to:\n",
    "\n",
    "\\begin{equation}\n",
    "    V_{t_u} = U\\cos \\alpha +\\dot{h} \\sin \\alpha + u_{ext}\\cos \\alpha - w_{ext}\\sin \\alpha +\n",
    "           \\left(\\frac{\\partial \\phi_{lev}}{\\partial x}\\right)_u +\n",
    "           \\left(\\frac{\\partial \\phi_{tev}}{\\partial x}\\right)_u +\n",
    "           \\left(\\frac{\\partial \\phi_{b}}{\\partial x}\\right)_u \n",
    "\\end{equation}\n",
    "\n",
    "\\begin{equation}\n",
    "V_{t_l} = U\\cos \\alpha +\\dot{h} \\sin \\alpha + u_{ext}\\cos \\alpha - w_{ext}\\sin \\alpha + \n",
    "           \\left(\\frac{\\partial \\phi_{lev}}{\\partial x}\\right)_l +\n",
    "           \\left(\\frac{\\partial \\phi_{tev}}{\\partial x}\\right)_l +\n",
    "           \\left(\\frac{\\partial \\phi_{b}}{\\partial x}\\right)_l\n",
    "\\end{equation}\n",
    "\n"
   ]
  },
  {
   "cell_type": "markdown",
   "metadata": {},
   "source": [
    "Now, \n",
    "\n",
    "\\begin{equation}\n",
    "\\left(\\frac{\\partial \\phi_b}{\\partial x}\\right)_u = \\frac{\\gamma(x)}{2} \n",
    "\\end{equation}\n",
    "\\begin{equation}\n",
    "\\left(\\frac{\\partial \\phi_b}{\\partial x}\\right)_l = -\\frac{\\gamma(x)}{2}\n",
    "\\end{equation}"
   ]
  },
  {
   "cell_type": "markdown",
   "metadata": {},
   "source": [
    "\\begin{equation}\n",
    "V_{t_u}^2-V_{t_l}^2 = 2\\left(U\\cos \\alpha +\\dot{h}\\sin \\alpha + u_{ext}\\cos \\alpha - w_{ext}\\sin \\alpha\n",
    "+\\left(\\frac{\\partial \\phi_{lev}}{\\partial\n",
    "x}\\right)+\\left(\\frac{\\partial \\phi_{tev}}{\\partial\n",
    "x}\\right)\\right)\\gamma(x)\n",
    "\\end{equation}\n"
   ]
  },
  {
   "cell_type": "markdown",
   "metadata": {},
   "source": [
    "\\begin{eqnarray}\n",
    "\\phi_u&=&\\int_0^x\\frac{\\gamma(x)}{2}dx+\n",
    "         \\int_0^x\\left(\\frac{\\partial \\phi_{lev}}{\\partial x}\\right)dx+\n",
    "         \\int_0^x\\left(\\frac{\\partial \\phi_{tev}}{\\partial x}\\right)dx \\\\\n",
    "\\phi_l&=&-\\int_0^x\\frac{\\gamma(x)}{2}dx +\n",
    "         \\int_0^x\\left(\\frac{\\partial \\phi_{lev}}{\\partial x}\\right)dx+\n",
    "         \\int_0^x\\left(\\frac{\\partial \\phi_{tev}}{\\partial x}\\right)dx\n",
    "\\end{eqnarray}"
   ]
  },
  {
   "cell_type": "markdown",
   "metadata": {},
   "source": [
    "\\begin{equation}\n",
    "\\left(\\frac{\\partial \\phi}{\\partial t}\\right)_u-\n",
    "\\left(\\frac{\\partial \\phi}{\\partial t}\\right)_l=\n",
    "\\frac{\\partial}{\\partial t}\\int_0^x \\gamma(x)dx\n",
    "\\end{equation}"
   ]
  },
  {
   "cell_type": "markdown",
   "metadata": {},
   "source": [
    "\\begin{equation}\n",
    "  \\Delta p(x)=\\rho\\left[ \\left (U \\cos \\alpha+\\dot{h}\\sin \\alpha + u_{ext}\\cos \\alpha - w_{ext}\\sin \\alpha + \n",
    "              \\left(\\frac{\\partial \\phi_{lev}}{\\partial x}\\right)+\n",
    "              \\left(\\frac{\\partial \\phi_{tev}}{\\partial x}\\right)\\right)\\gamma(\\\n",
    "x) +\n",
    "              \\frac{\\partial}{\\partial t} \\int_0^x \\gamma(x)dx \\right]\n",
    "\\end{equation}"
   ]
  },
  {
   "cell_type": "markdown",
   "metadata": {},
   "source": [
    "The normal force on the airfoil is obtained by integrating\n",
    "the pressure coefficient over the chord,\n",
    "\n",
    "\\begin{equation}\n",
    "F_N = \\rho \\left [\\int_{0}^{c} \\left( U\\cos \\alpha +\n",
    "       \\dot{h} \\sin \\alpha + u_{ext}\\cos \\alpha - w_{ext}\\sin \\alpha + \\left(\\frac{\\partial \\phi_{lev}}{\\partial x}\\right) +\n",
    "       \\left (\\frac{\\partial \\phi_{tev}}{\\partial x}\\right)\\right)\\gamma(x,t)dx + \\int_{0}^{c} \\frac{\\partial}{\\partial t} \\int_{0}^{x}\n",
    "\\gamma(x_{0},t)dx_{0}dx \\right]\n",
    "\\end{equation}\n",
    "\n"
   ]
  },
  {
   "cell_type": "markdown",
   "metadata": {},
   "source": [
    "\\begin{equation}\n",
    " F_N = \\rho \\pi cU \\left[\\left(U\\cos \\alpha +\\dot{h}\\sin \\alpha + u_{ext}\\cos\\alpha - w_{ext}\\sin\\alpha \\right)\\left(A_{0}(t)+\n",
    "\\frac{1}{2}A_{1}(t)\\right) + c \\left(\\frac{3}{4}\\dot{A_{0}}(t)+\n",
    "\\frac{1}{4}\\dot{A_{1}}(t)+\\frac{1}{8}\\dot{A_{2} }(t)\\right)\\right] \\rho \\int_{0}^{c}\\left(\\left(\\frac{\\partial \\phi_{lev}}{\\partial x}\\right) +\n",
    "\\left(\\frac{\\partial \\phi_{tev}}{\\partial x}\\right) \\right)\\gamma(x,t)dx\n",
    "\\end{equation}\n"
   ]
  },
  {
   "cell_type": "markdown",
   "metadata": {},
   "source": [
    "\\begin{equation}\n",
    "F_S=\\rho \\pi c U^{2} A_{0}^{2}\n",
    "\\end{equation}\n"
   ]
  },
  {
   "cell_type": "markdown",
   "metadata": {},
   "source": [
    "The moment on the airfoil,\n",
    "\n",
    "\\begin{equation}\n",
    "M = \\int_{0}^{c} \\Delta p (x_{ref}-x)dx \\\\\n",
    "= x_{ref} F_{N} - \\rho \\pi c^2 U \\left[\\left( U \\cos \\alpha +\n",
    "\\dot{h} \\sin \\alpha + u_{ext}\\cos\\alpha - w_{ext}\\sin\\alpha \\right)\\left(\\frac{1}{4}A_{0}(t)+\\frac{1}{4}A_{1}(t)-\n",
    "\\frac{1}{8}A_{2}(t) \\right)\n",
    " + c \\left(\\frac{7}{16}\\dot{A_{0}}(t)+\\frac{11}{64}\\dot{A_{1}}(t) +\n",
    "\\frac{1}{16} \\dot{A_{2}}(t)-\\frac{1}{64}\\dot{A_{3}}(t)\\right)\\right]\n",
    "-\\rho \\int_{0}^{c} \\left(\\left(\\frac{\\partial \\phi_{lev}}{\\partial x}\\right)+\n",
    "\\left(\\frac{\\partial \\phi_{lev}}{\\partial x}\\right)\\right)\\gamma(x,t)xdx\n",
    "\\end{equation}\n"
   ]
  },
  {
   "cell_type": "code",
   "execution_count": null,
   "metadata": {
    "collapsed": true
   },
   "outputs": [],
   "source": []
  }
 ],
 "metadata": {
  "kernelspec": {
   "display_name": "Julia 0.4.5",
   "language": "julia",
   "name": "julia-0.4"
  },
  "language_info": {
   "file_extension": ".jl",
   "mimetype": "application/julia",
   "name": "julia",
   "version": "0.4.5"
  }
 },
 "nbformat": 4,
 "nbformat_minor": 0
}
