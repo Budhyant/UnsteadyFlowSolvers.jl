{
 "cells": [
  {
   "cell_type": "markdown",
   "metadata": {},
   "source": [
    "# Convert a 2D LDVM solution to 3D using a quasi-steady LLT (circulation correction)"
   ]
  },
  {
   "cell_type": "code",
   "execution_count": 1,
   "metadata": {
    "collapsed": false
   },
   "outputs": [
    {
     "name": "stderr",
     "output_type": "stream",
     "text": [
      "INFO: Installing matplotlib via the Conda matplotlib package...\n"
     ]
    },
    {
     "name": "stdout",
     "output_type": "stream",
     "text": [
      "Fetching package metadata .......\n",
      "Solving package specifications: ..........\n",
      "\n",
      "# All requested packages already installed.\n",
      "# packages in environment at /Users/kramesh/.julia/v0.5/Conda/deps/usr:\n",
      "#\n",
      "matplotlib                1.5.3               np111py27_1  \n"
     ]
    },
    {
     "name": "stderr",
     "output_type": "stream",
     "text": [
      "WARNING: Method definition ldvm_E(UNSflow.TwoDSurf_2DOF, UNSflow.TwoDFlowField) in module UNSflow at /Users/kramesh/Documents/Workspace/UNSflow/src/solvers.jl:1037 overwritten at /Users/kramesh/Documents/Workspace/UNSflow/src/solvers.jl:1171.\n",
      "WARNING: Method definition ldvm_E(UNSflow.TwoDSurf_2DOF, UNSflow.TwoDFlowField, Int64) in module UNSflow at /Users/kramesh/Documents/Workspace/UNSflow/src/solvers.jl:1037 overwritten at /Users/kramesh/Documents/Workspace/UNSflow/src/solvers.jl:1171.\n",
      "WARNING: Method definition ldvm_E(UNSflow.TwoDSurf_2DOF, UNSflow.TwoDFlowField, Int64, Float64) in module UNSflow at /Users/kramesh/Documents/Workspace/UNSflow/src/solvers.jl:1037 overwritten at /Users/kramesh/Documents/Workspace/UNSflow/src/solvers.jl:1171.\n",
      "WARNING: Method definition ldvm_E(UNSflow.TwoDSurf_2DOF, UNSflow.TwoDFlowField, Int64, Float64, Any) in module UNSflow at /Users/kramesh/Documents/Workspace/UNSflow/src/solvers.jl:1037 overwritten at /Users/kramesh/Documents/Workspace/UNSflow/src/solvers.jl:1171.\n",
      "WARNING: Method definition ldvm_E(UNSflow.TwoDSurf_2DOF, UNSflow.TwoDFlowField, Int64, Float64, Any, Any) in module UNSflow at /Users/kramesh/Documents/Workspace/UNSflow/src/solvers.jl:1037 overwritten at /Users/kramesh/Documents/Workspace/UNSflow/src/solvers.jl:1171.\n",
      "WARNING: Method definition ldvm_E(UNSflow.TwoDSurf_2DOF, UNSflow.TwoDFlowField, Int64, Float64, Any, Any, Any) in module UNSflow at /Users/kramesh/Documents/Workspace/UNSflow/src/solvers.jl:1037 overwritten at /Users/kramesh/Documents/Workspace/UNSflow/src/solvers.jl:1171.\n"
     ]
    },
    {
     "data": {
      "text/plain": [
       "UNSflow"
      ]
     },
     "execution_count": 1,
     "metadata": {},
     "output_type": "execute_result"
    }
   ],
   "source": [
    "include(\"../src/UNSflow.jl\")"
   ]
  },
  {
   "cell_type": "code",
   "execution_count": 2,
   "metadata": {
    "collapsed": false
   },
   "outputs": [
    {
     "name": "stderr",
     "output_type": "stream",
     "text": [
      "WARNING: replacing module UNSflow\n",
      "WARNING: Method definition ldvm_E(UNSflow.TwoDSurf_2DOF, UNSflow.TwoDFlowField) in module UNSflow at /Users/kramesh/Documents/Workspace/UNSflow/src/solvers.jl:1037 overwritten at /Users/kramesh/Documents/Workspace/UNSflow/src/solvers.jl:1171.\n",
      "WARNING: Method definition ldvm_E(UNSflow.TwoDSurf_2DOF, UNSflow.TwoDFlowField, Int64) in module UNSflow at /Users/kramesh/Documents/Workspace/UNSflow/src/solvers.jl:1037 overwritten at /Users/kramesh/Documents/Workspace/UNSflow/src/solvers.jl:1171.\n",
      "WARNING: Method definition ldvm_E(UNSflow.TwoDSurf_2DOF, UNSflow.TwoDFlowField, Int64, Float64) in module UNSflow at /Users/kramesh/Documents/Workspace/UNSflow/src/solvers.jl:1037 overwritten at /Users/kramesh/Documents/Workspace/UNSflow/src/solvers.jl:1171.\n",
      "WARNING: Method definition ldvm_E(UNSflow.TwoDSurf_2DOF, UNSflow.TwoDFlowField, Int64, Float64, Any) in module UNSflow at /Users/kramesh/Documents/Workspace/UNSflow/src/solvers.jl:1037 overwritten at /Users/kramesh/Documents/Workspace/UNSflow/src/solvers.jl:1171.\n",
      "WARNING: Method definition ldvm_E(UNSflow.TwoDSurf_2DOF, UNSflow.TwoDFlowField, Int64, Float64, Any, Any) in module UNSflow at /Users/kramesh/Documents/Workspace/UNSflow/src/solvers.jl:1037 overwritten at /Users/kramesh/Documents/Workspace/UNSflow/src/solvers.jl:1171.\n",
      "WARNING: Method definition ldvm_E(UNSflow.TwoDSurf_2DOF, UNSflow.TwoDFlowField, Int64, Float64, Any, Any, Any) in module UNSflow at /Users/kramesh/Documents/Workspace/UNSflow/src/solvers.jl:1037 overwritten at /Users/kramesh/Documents/Workspace/UNSflow/src/solvers.jl:1171.\n"
     ]
    },
    {
     "data": {
      "text/plain": [
       "UNSflow"
      ]
     },
     "execution_count": 2,
     "metadata": {},
     "output_type": "execute_result"
    }
   ],
   "source": [
    "include(\"../src/UNSflow.jl\")"
   ]
  },
  {
   "cell_type": "code",
   "execution_count": 3,
   "metadata": {
    "collapsed": true
   },
   "outputs": [],
   "source": [
    "using UNSflow"
   ]
  },
  {
   "cell_type": "code",
   "execution_count": 4,
   "metadata": {
    "collapsed": false
   },
   "outputs": [
    {
     "name": "stderr",
     "output_type": "stream",
     "text": [
      "WARNING: slice is deprecated, use view instead.\n",
      " in depwarn(::String, ::Symbol) at ./deprecated.jl:64\n",
      " in slice(::Array{Float64,2}, ::Vararg{Any,N}) at ./deprecated.jl:30\n",
      " in sumabs2j at /Users/kramesh/.julia/v0.5/NLsolve/src/utils.jl:1 [inlined]\n",
      " in trust_region_(::NLsolve.DifferentiableMultivariateFunction, ::Array{Float64,1}, ::Float64, ::Float64, ::Int64, ::Bool, ::Bool, ::Bool, ::Float64, ::Bool) at /Users/kramesh/.julia/v0.5/NLsolve/src/trust_region.jl:105\n",
      " in #nlsolve#17(::Symbol, ::Float64, ::Float64, ::Int64, ::Bool, ::Bool, ::Bool, ::Function, ::Float64, ::Bool, ::NLsolve.#nlsolve, ::NLsolve.DifferentiableMultivariateFunction, ::Array{Float64,1}) at /Users/kramesh/.julia/v0.5/NLsolve/src/nlsolve_func_defs.jl:24\n",
      " in ldvm(::UNSflow.TwoDSurf, ::UNSflow.TwoDFlowField, ::Int64, ::Float64, ::UNSflow.DelVortDef, ::Array{Float64,2}, ::Float64) at /Users/kramesh/Documents/Workspace/UNSflow/src/solvers.jl:317\n",
      " in ldvm(::UNSflow.TwoDSurf, ::UNSflow.TwoDFlowField, ::Int64, ::Float64) at /Users/kramesh/Documents/Workspace/UNSflow/src/solvers.jl:284\n",
      " in include_string(::String, ::String) at ./loading.jl:441\n",
      " in execute_request(::ZMQ.Socket, ::IJulia.Msg) at /Users/kramesh/.julia/v0.5/IJulia/src/execute_request.jl:169\n",
      " in eventloop(::ZMQ.Socket) at /Users/kramesh/.julia/v0.5/IJulia/src/eventloop.jl:8\n",
      " in (::IJulia.##9#15)() at ./task.jl:360\n",
      "while loading In[4], in expression starting on line 15\n",
      "WARNING: slice is deprecated, use view instead.\n",
      " in depwarn(::String, ::Symbol) at ./deprecated.jl:64\n",
      " in slice(::Array{Float64,2}, ::Vararg{Any,N}) at ./deprecated.jl:30\n",
      " in sumabs2j at /Users/kramesh/.julia/v0.5/NLsolve/src/utils.jl:1 [inlined]\n",
      " in trust_region_(::NLsolve.DifferentiableMultivariateFunction, ::Array{Float64,1}, ::Float64, ::Float64, ::Int64, ::Bool, ::Bool, ::Bool, ::Float64, ::Bool) at /Users/kramesh/.julia/v0.5/NLsolve/src/trust_region.jl:145\n",
      " in #nlsolve#17(::Symbol, ::Float64, ::Float64, ::Int64, ::Bool, ::Bool, ::Bool, ::Function, ::Float64, ::Bool, ::NLsolve.#nlsolve, ::NLsolve.DifferentiableMultivariateFunction, ::Array{Float64,1}) at /Users/kramesh/.julia/v0.5/NLsolve/src/nlsolve_func_defs.jl:24\n",
      " in ldvm(::UNSflow.TwoDSurf, ::UNSflow.TwoDFlowField, ::Int64, ::Float64, ::UNSflow.DelVortDef, ::Array{Float64,2}, ::Float64) at /Users/kramesh/Documents/Workspace/UNSflow/src/solvers.jl:317\n",
      " in ldvm(::UNSflow.TwoDSurf, ::UNSflow.TwoDFlowField, ::Int64, ::Float64) at /Users/kramesh/Documents/Workspace/UNSflow/src/solvers.jl:284\n",
      " in include_string(::String, ::String) at ./loading.jl:441\n",
      " in execute_request(::ZMQ.Socket, ::IJulia.Msg) at /Users/kramesh/.julia/v0.5/IJulia/src/execute_request.jl:169\n",
      " in eventloop(::ZMQ.Socket) at /Users/kramesh/.julia/v0.5/IJulia/src/eventloop.jl:8\n",
      " in (::IJulia.##9#15)() at ./task.jl:360\n",
      "while loading In[4], in expression starting on line 15\n"
     ]
    },
    {
     "data": {
      "text/plain": [
       "(\n",
       "[0.0075 7.36966e-13 … -1.49021e-10 -4.57644e-7; 0.015 8.86735e-13 … -1.49022e-10 0.000662616; … ; 2.4975 0.785398 … 3.16401 -1.38508; 2.505 0.785398 … 3.16277 -1.39106],\n",
       "\n",
       "UNSflow.TwoDSurf(1.0,1.0,\"FlatPlate\",0.0,70,35,UNSflow.KinemDef(UNSflow.EldUpDef(0.7853981633974483,0.39269908169872414,0.8),UNSflow.ConstDef(0.0),UNSflow.ConstDef(1.0)),[0.0,0.0,0.0,0.0,0.0,0.0,0.0,0.0,0.0,0.0  …  0.0,0.0,0.0,0.0,0.0,0.0,0.0,0.0,0.0,0.0],[0.0,0.0,0.0,0.0,0.0,0.0,0.0,0.0,0.0,0.0  …  0.0,0.0,0.0,0.0,0.0,0.0,0.0,0.0,0.0,0.0],[0.0,0.0455303,0.0910607,0.136591,0.182121,0.227652,0.273182,0.318712,0.364243,0.409773  …  2.73182,2.77735,2.82288,2.86841,2.91394,2.95947,3.005,3.05053,3.09606,3.14159],[0.0,0.000518163,0.00207158,0.00465703,0.00826915,0.0129005,0.0185414,0.0251802,0.0328031,0.0413943  …  0.958606,0.967197,0.97482,0.981459,0.9871,0.991731,0.995343,0.997928,0.999482,1.0],UNSflow.KinemPar(0.7853980399798931,0.0,3.0452002087852504e-6,0.0,1.0,0.0),[-3.505,-3.50463,-3.50354,-3.50171,-3.49915,-3.49588,-3.49189,-3.48719,-3.4818,-3.47573  …  -2.82716,-2.82109,-2.8157,-2.811,-2.80702,-2.80374,-2.80119,-2.79936,-2.79826,-2.79789],[0.0,-0.000366397,-0.00146483,-0.00329301,-0.00584717,-0.009122,-0.0131107,-0.0178051,-0.0231953,-0.0292702  …  -0.677836,-0.683911,-0.689302,-0.693996,-0.697985,-0.70126,-0.703814,-0.705642,-0.70674,-0.707107],[-0.749578,-0.751983,-0.758424,-0.766624,-0.772959,-0.773248,-0.766037,-0.756615,-0.75219,-0.756137  …  -0.968414,-0.975746,-0.98655,-0.998607,-1.00741,-1.01001,-1.00779,-1.00376,-1.00035,-0.999049],[1.37888,1.37469,1.36317,1.34757,1.33331,1.3273,1.3341,1.35086,1.3712,1.3913  …  -0.821899,-0.842777,-0.865131,-0.886667,-0.902959,-0.911352,-0.913569,-0.912737,-0.911289,-0.910651],[-1.15209,-1.14743,-1.13473,-1.1179,-1.10334,-1.09888,-1.10879,-1.1273,-1.14481,-1.15624  …  0.558833,0.578781,0.602226,0.62598,0.643726,0.651495,0.651497,0.648056,0.644623,0.643252],[5.79975e-6],[-0.923244,-0.402989,-0.000819501,0.163454,0.0393356,0.0199663,0.00909554,0.00578557,-0.0107678,-0.0260939  …  -0.00588014,-0.00695714,-0.00341825,0.00115617,0.00518098,0.0057307,0.00343381,-0.00051844,-0.00365564,-0.00444687],[1.27162],[-2.10267,-0.191535,-0.279328],[5.79975e-6],[-0.923244,-0.402989,-0.000819501],UNSflow.TwoDVort[UNSflow.TwoDVort(-3.50482,-0.000183198,-6.26833e-5,0.02,0.0,0.0),UNSflow.TwoDVort(-3.50408,-0.000915612,-0.000296157,0.02,0.0,0.0),UNSflow.TwoDVort(-3.50262,-0.00237892,-0.00072045,0.02,0.0,0.0),UNSflow.TwoDVort(-3.50043,-0.00457009,-0.00129263,0.02,0.0,0.0),UNSflow.TwoDVort(-3.49752,-0.00748459,-0.00195191,0.02,0.0,0.0),UNSflow.TwoDVort(-3.49388,-0.0111164,-0.00267973,0.02,0.0,0.0),UNSflow.TwoDVort(-3.48954,-0.0154579,-0.00362871,0.02,0.0,0.0),UNSflow.TwoDVort(-3.4845,-0.0205002,-0.00498201,0.02,0.0,0.0),UNSflow.TwoDVort(-3.47877,-0.0262328,-0.00669949,0.02,0.0,0.0),UNSflow.TwoDVort(-3.47236,-0.0326438,-0.00870449,0.02,0.0,0.0)  …  UNSflow.TwoDVort(-2.83054,-0.674463,-0.00428032,0.02,0.0,0.0),UNSflow.TwoDVort(-2.82413,-0.680874,-0.00374848,0.02,0.0,0.0),UNSflow.TwoDVort(-2.81839,-0.686607,-0.00311575,0.02,0.0,0.0),UNSflow.TwoDVort(-2.81335,-0.691649,-0.00244285,0.02,0.0,0.0),UNSflow.TwoDVort(-2.80901,-0.69599,-0.00178092,0.02,0.0,0.0),UNSflow.TwoDVort(-2.80538,-0.699622,-0.00115628,0.02,0.0,0.0),UNSflow.TwoDVort(-2.80246,-0.702537,-0.000642005,0.02,0.0,0.0),UNSflow.TwoDVort(-2.80027,-0.704728,-0.000302314,0.02,0.0,0.0),UNSflow.TwoDVort(-2.79881,-0.706191,-0.000113083,0.02,0.0,0.0),UNSflow.TwoDVort(-2.79808,-0.706924,-2.36024e-5,0.02,0.0,0.0)],[0.0],Int8[1]),UNSflow.TwoDFlowField(UNSflow.ConstDef(0.0),UNSflow.ConstDef(0.0),[0.0],[0.0],UNSflow.TwoDVort[UNSflow.TwoDVort(-0.0864787,0.137892,-7.33097e-12,0.02,-0.103001,0.0991571),UNSflow.TwoDVort(-0.0949076,0.138945,-8.55998e-13,0.02,-0.104045,0.0996502),UNSflow.TwoDVort(-0.103353,0.140011,-1.91263e-12,0.02,-0.105106,0.100144),UNSflow.TwoDVort(-0.111817,0.141088,-2.67992e-12,0.02,-0.106185,0.10064),UNSflow.TwoDVort(-0.120298,0.142178,-3.16831e-12,0.02,-0.107283,0.101136),UNSflow.TwoDVort(-0.128798,0.14328,-3.71064e-12,0.02,-0.108399,0.101633),UNSflow.TwoDVort(-0.137316,0.144394,-4.45014e-12,0.02,-0.109534,0.102131),UNSflow.TwoDVort(-0.145854,0.145521,-5.32203e-12,0.02,-0.110689,0.10263),UNSflow.TwoDVort(-0.154412,0.146661,-6.37555e-12,0.02,-0.111865,0.103129),UNSflow.TwoDVort(-0.16299,0.147814,-7.64436e-12,0.02,-0.113061,0.103628)  …  UNSflow.TwoDVort(-2.76346,-0.745852,-0.00473893,0.02,-0.404168,-0.420228),UNSflow.TwoDVort(-2.76845,-0.742466,-0.00482975,0.02,-0.413585,-0.433584),UNSflow.TwoDVort(-2.77319,-0.739012,-0.00499871,0.02,-0.426385,-0.446514),UNSflow.TwoDVort(-2.77775,-0.735501,-0.00508264,0.02,-0.44291,-0.460308),UNSflow.TwoDVort(-2.78215,-0.731941,-0.00512071,0.02,-0.463493,-0.475428),UNSflow.TwoDVort(-2.78636,-0.728307,-0.00515215,0.02,-0.488691,-0.491061),UNSflow.TwoDVort(-2.79035,-0.724576,-0.00519041,0.02,-0.517929,-0.505366),UNSflow.TwoDVort(-2.79409,-0.720747,-0.00523836,0.02,-0.548037,-0.515619),UNSflow.TwoDVort(-2.79757,-0.716851,-0.00529127,0.02,-0.574519,-0.519567),UNSflow.TwoDVort(-2.80081,-0.712935,-0.00533967,0.02,-0.595004,-0.517171)],UNSflow.TwoDVort[UNSflow.TwoDVort(-1.48298,-0.378828,3.36622e-12,0.02,0.125729,-0.583633),UNSflow.TwoDVort(-1.56085,-0.319067,1.63494e-12,0.02,-0.404261,-1.04545),UNSflow.TwoDVort(-1.44454,-0.257012,2.19817e-12,0.02,-0.370284,-0.275),UNSflow.TwoDVort(-1.46028,-0.277206,2.6814e-12,0.02,-0.407685,-0.419212),UNSflow.TwoDVort(-1.36479,-0.239703,3.17069e-12,0.02,-0.470977,0.3301),UNSflow.TwoDVort(-1.3252,-0.23633,3.80542e-12,0.02,-0.418783,0.594311),UNSflow.TwoDVort(-1.37248,-0.267486,4.5689e-12,0.02,-0.437496,0.310707),UNSflow.TwoDVort(-1.37182,-0.327458,5.50513e-12,0.02,0.0311344,0.306804),UNSflow.TwoDVort(-1.45303,-0.404149,6.59881e-12,0.02,0.28876,-0.27638),UNSflow.TwoDVort(-1.50027,-0.41828,7.95579e-12,0.02,0.251929,-0.614444)  …  UNSflow.TwoDVort(-3.50964,0.0816681,0.00983873,0.02,-0.50751,1.20011),UNSflow.TwoDVort(-3.51345,0.0722233,0.00976205,0.02,-0.587938,1.17739),UNSflow.TwoDVort(-3.51659,0.0629915,0.00971701,0.02,-0.671759,1.15266),UNSflow.TwoDVort(-3.51906,0.0539908,0.00972674,0.02,-0.761795,1.12479),UNSflow.TwoDVort(-3.52083,0.0452481,0.00976424,0.02,-0.86142,1.09096),UNSflow.TwoDVort(-3.52184,0.0368105,0.00978641,0.02,-0.973266,1.04599),UNSflow.TwoDVort(-3.52201,0.0287632,0.00979103,0.02,-1.09621,0.983506),UNSflow.TwoDVort(-3.52125,0.0212368,0.00980536,0.02,-1.22075,0.901802),UNSflow.TwoDVort(-3.51956,0.0143723,0.00982675,0.02,-1.3282,0.811545),UNSflow.TwoDVort(-3.51708,0.00822817,0.00982141,0.02,-1.40619,0.728838)],UNSflow.TwoDVort[]),0.0)"
      ]
     },
     "execution_count": 4,
     "metadata": {},
     "output_type": "execute_result"
    }
   ],
   "source": [
    "alphadef = EldUpDef(45*pi/180,pi/8,0.8)\n",
    "hdef = ConstDef(0.)\n",
    "udef = ConstDef(1.)\n",
    "full_kinem = KinemDef(alphadef, hdef, udef)\n",
    "\n",
    "pvt = 0.0 #leading edge\n",
    "\n",
    "surf = TwoDSurf(\"FlatPlate\", pvt,full_kinem)\n",
    "\n",
    "curfield = TwoDFlowField()\n",
    "\n",
    "dtstar = 0.0075\n",
    "nsteps =round(Int,2.5/dtstar)+1\n",
    "\n",
    "mat, surf, curfield = ldvm(surf, curfield, nsteps,dtstar)"
   ]
  },
  {
   "cell_type": "code",
   "execution_count": 5,
   "metadata": {
    "collapsed": false
   },
   "outputs": [
    {
     "ename": "LoadError",
     "evalue": "LoadError: SystemError: opening file ../test/PR_2D.csv: No such file or directory\nwhile loading In[5], in expression starting on line 1",
     "output_type": "error",
     "traceback": [
      "LoadError: SystemError: opening file ../test/PR_2D.csv: No such file or directory\nwhile loading In[5], in expression starting on line 1",
      "",
      " in #systemerror#51 at ./error.jl:34 [inlined]",
      " in systemerror(::String, ::Bool) at ./error.jl:34",
      " in open(::String, ::Bool, ::Bool, ::Bool, ::Bool, ::Bool) at ./iostream.jl:89",
      " in open(::Base.#readstring, ::String) at ./iostream.jl:111",
      " in #readdlm_auto#11(::Array{Any,1}, ::Function, ::String, ::Char, ::Type{T}, ::Char, ::Bool) at ./datafmt.jl:124",
      " in #readdlm#7(::Array{Any,1}, ::Function, ::String, ::Char, ::Char) at ./datafmt.jl:73",
      " in #readdlm#6(::Array{Any,1}, ::Function, ::String, ::Char) at ./datafmt.jl:65",
      " in #readcsv#12(::Array{Any,1}, ::Function, ::String) at ./datafmt.jl:623",
      " in readcsv(::String) at ./datafmt.jl:623"
     ]
    }
   ],
   "source": [
    "k_2d = readcsv(\"../test/PR_2D.csv\")\n",
    "nsteps"
   ]
  },
  {
   "cell_type": "code",
   "execution_count": 6,
   "metadata": {
    "collapsed": false
   },
   "outputs": [
    {
     "ename": "LoadError",
     "evalue": "LoadError: UndefVarError: k_2d not defined\nwhile loading In[6], in expression starting on line 1",
     "output_type": "error",
     "traceback": [
      "LoadError: UndefVarError: k_2d not defined\nwhile loading In[6], in expression starting on line 1",
      ""
     ]
    }
   ],
   "source": [
    "plot(k_2d[:,1],k_2d[:,2])\n",
    "plot(mat[:,1]-1,mat[:,6])"
   ]
  },
  {
   "cell_type": "code",
   "execution_count": 7,
   "metadata": {
    "collapsed": true
   },
   "outputs": [],
   "source": [
    "n_span = 12\n",
    "n_bterm = 40\n",
    "\n",
    "psi = zeros(n_span)\n",
    "dpsi = pi/n_span\n",
    "\n",
    "for i = 1:n_span\n",
    "    psi[i] = (real(i)-0.5)*dpsi\n",
    "end"
   ]
  },
  {
   "cell_type": "code",
   "execution_count": 8,
   "metadata": {
    "collapsed": true
   },
   "outputs": [],
   "source": [
    "W_mat = Array{Float64,2}[]\n",
    "W_surf = TwoDSurf[]\n",
    "W_curfield = TwoDFlowField[]\n",
    "\n",
    "for i = 1:n_span\n",
    "    push!(W_mat, mat)\n",
    "    push!(W_surf, surf)\n",
    "    push!(W_curfield, curfield)\n",
    "end\n",
    "\n"
   ]
  },
  {
   "cell_type": "code",
   "execution_count": 9,
   "metadata": {
    "collapsed": false
   },
   "outputs": [
    {
     "data": {
      "text/plain": [
       "12-element Array{Array{Float64,2},1}:\n",
       " [0.0075 7.36966e-13 … -1.49021e-10 -4.57644e-7; 0.015 8.86735e-13 … -1.49022e-10 0.000662616; … ; 2.4975 0.785398 … 3.16401 -1.38508; 2.505 0.785398 … 3.16277 -1.39106]\n",
       " [0.0075 7.36966e-13 … -1.49021e-10 -4.57644e-7; 0.015 8.86735e-13 … -1.49022e-10 0.000662616; … ; 2.4975 0.785398 … 3.16401 -1.38508; 2.505 0.785398 … 3.16277 -1.39106]\n",
       " [0.0075 7.36966e-13 … -1.49021e-10 -4.57644e-7; 0.015 8.86735e-13 … -1.49022e-10 0.000662616; … ; 2.4975 0.785398 … 3.16401 -1.38508; 2.505 0.785398 … 3.16277 -1.39106]\n",
       " [0.0075 7.36966e-13 … -1.49021e-10 -4.57644e-7; 0.015 8.86735e-13 … -1.49022e-10 0.000662616; … ; 2.4975 0.785398 … 3.16401 -1.38508; 2.505 0.785398 … 3.16277 -1.39106]\n",
       " [0.0075 7.36966e-13 … -1.49021e-10 -4.57644e-7; 0.015 8.86735e-13 … -1.49022e-10 0.000662616; … ; 2.4975 0.785398 … 3.16401 -1.38508; 2.505 0.785398 … 3.16277 -1.39106]\n",
       " [0.0075 7.36966e-13 … -1.49021e-10 -4.57644e-7; 0.015 8.86735e-13 … -1.49022e-10 0.000662616; … ; 2.4975 0.785398 … 3.16401 -1.38508; 2.505 0.785398 … 3.16277 -1.39106]\n",
       " [0.0075 7.36966e-13 … -1.49021e-10 -4.57644e-7; 0.015 8.86735e-13 … -1.49022e-10 0.000662616; … ; 2.4975 0.785398 … 3.16401 -1.38508; 2.505 0.785398 … 3.16277 -1.39106]\n",
       " [0.0075 7.36966e-13 … -1.49021e-10 -4.57644e-7; 0.015 8.86735e-13 … -1.49022e-10 0.000662616; … ; 2.4975 0.785398 … 3.16401 -1.38508; 2.505 0.785398 … 3.16277 -1.39106]\n",
       " [0.0075 7.36966e-13 … -1.49021e-10 -4.57644e-7; 0.015 8.86735e-13 … -1.49022e-10 0.000662616; … ; 2.4975 0.785398 … 3.16401 -1.38508; 2.505 0.785398 … 3.16277 -1.39106]\n",
       " [0.0075 7.36966e-13 … -1.49021e-10 -4.57644e-7; 0.015 8.86735e-13 … -1.49022e-10 0.000662616; … ; 2.4975 0.785398 … 3.16401 -1.38508; 2.505 0.785398 … 3.16277 -1.39106]\n",
       " [0.0075 7.36966e-13 … -1.49021e-10 -4.57644e-7; 0.015 8.86735e-13 … -1.49022e-10 0.000662616; … ; 2.4975 0.785398 … 3.16401 -1.38508; 2.505 0.785398 … 3.16277 -1.39106]\n",
       " [0.0075 7.36966e-13 … -1.49021e-10 -4.57644e-7; 0.015 8.86735e-13 … -1.49022e-10 0.000662616; … ; 2.4975 0.785398 … 3.16401 -1.38508; 2.505 0.785398 … 3.16277 -1.39106]"
      ]
     },
     "execution_count": 9,
     "metadata": {},
     "output_type": "execute_result"
    }
   ],
   "source": [
    "W_mat"
   ]
  },
  {
   "cell_type": "code",
   "execution_count": 10,
   "metadata": {
    "collapsed": false
   },
   "outputs": [
    {
     "ename": "LoadError",
     "evalue": "LoadError: BoundsError: attempt to access 334×8 Array{Float64,2} at index [1,9]\nwhile loading In[10], in expression starting on line 17",
     "output_type": "error",
     "traceback": [
      "LoadError: BoundsError: attempt to access 334×8 Array{Float64,2} at index [1,9]\nwhile loading In[10], in expression starting on line 17",
      "",
      " in getindex(::Array{Float64,2}, ::Int64, ::Int64) at ./array.jl:387",
      " in macro expansion; at ./In[10]:22 [inlined]",
      " in anonymous at ./<missing>:?"
     ]
    }
   ],
   "source": [
    "AR = 4\n",
    "u = 1 #uref\n",
    "c = 1\n",
    "\n",
    "\n",
    "lhs = zeros(n_span,n_bterm)\n",
    "rhs = zeros(n_span)\n",
    "b_coeff = zeros(nsteps,n_bterm)\n",
    "\n",
    "dt = W_mat[1][2,1] - W_mat[1][1,1]\n",
    "\n",
    "cnc_f = zeros(nsteps)\n",
    "cnnc_f = zeros(nsteps)\n",
    "\n",
    "bdot = zeros(nsteps,n_bterm)\n",
    "\n",
    "for i = 1:nsteps\n",
    "    for j = 1:n_span\n",
    "        for n = 1:n_bterm\n",
    "            lhs[j,n] = sin(n*psi[j])*(sin(psi[j]) + (n*pi/(2*AR)))\n",
    "        end\n",
    "        rhs[j] = pi*sin(psi[j])*W_mat[j][i,9]/(2*AR)\n",
    "    end\n",
    "        \n",
    "    b_coeff[i,:] = \\(lhs, rhs)\n",
    "    if i >= 2   \n",
    "        bdot[i,:] = (b_coeff[i,:] - b_coeff[i-1,:])/dt\n",
    "    end\n",
    "       \n",
    "end\n",
    "\n",
    "a03d = zeros(nsteps,n_span)\n",
    "cd_ind = zeros(nsteps)\n",
    "a0dot3d = zeros(nsteps,n_span)\n",
    "\n",
    "\n",
    "for i = 1:nsteps\n",
    "    cd_ind[i] = 0\n",
    "    for n = 1:n_bterm\n",
    "        cd_ind[i] = cd_ind[i] + real(n)*b_coeff[i,n]^2\n",
    "    end\n",
    "    cd_ind[i] = cd_ind[i]*pi*AR\n",
    "    for j = 1:n_span\n",
    "        a03d[i,j] = 0\n",
    "        for n = 1:n_bterm\n",
    "            a03d[i,j] = a03d[i,j] - real(n)*b_coeff[i,n]*sin(n*psi[j])/sin(psi[j])\n",
    "            a0dot3d[i,j] = a0dot3d[i,j] - real(n)*bdot[i,n]*sin(n*psi[j])/sin(psi[j])\n",
    "        end\n",
    "    end\n",
    "end\n",
    "\n",
    "W_alpha = zeros(nsteps,n_span)\n",
    "W_h = zeros(nsteps,n_span)\n",
    "W_hdot = zeros(nsteps,n_span)\n",
    "W_u = zeros(nsteps,n_span)\n",
    "W_u[:,:] = 1\n",
    "W_alpha[:,:] = 0\n",
    "for i = 1:nsteps\n",
    "    for j = 1:n_span\n",
    "        W_alpha[i,j] = W_mat[j][i,2]\n",
    "    end\n",
    "end\n",
    "\n",
    "W_cn = zeros(nsteps)\n",
    "W_cs = zeros(nsteps)\n",
    "W_cl = zeros(nsteps)\n",
    "W_cd = zeros(nsteps)\n",
    "W_cdi = zeros(nsteps)\n",
    "\n",
    "cn3d = zeros(nsteps, n_span)\n",
    "cs3d = zeros(nsteps, n_span)\n",
    "cl3d = zeros(nsteps, n_span)\n",
    "cd3d = zeros(nsteps, n_span)\n",
    "\n",
    "#This is causing huge spikes just now \n",
    "#a0dot3d = zeros(nsteps,n_span)\n",
    "\n",
    "for i = 1:nsteps\n",
    "    W_cn[i] = 0\n",
    "    W_cs[i] = 0\n",
    "    for j = 1:n_span\n",
    "        cn3d[i,j] = W_mat[j][i,10] + (2*pi/u)*(W_u[i,j]*cos(W_alpha[i,j]) + W_hdot[i,j]*sin(W_alpha[i,j]))*a03d[1,j] + (2*pi*c/u)*(3*a0dot3d[i,j]/4)\n",
    "        cs3d[i,j] = W_mat[j][i,11] + 2*pi*a03d[i,j]^2\n",
    "        cl3d[i,j] = cn3d[i,j]*cos(W_alpha[i,j]) + cs3d[i,j]*sin(W_alpha[i,j])\n",
    "        cd3d[i,j] = cn3d[i,j]*sin(W_alpha[i,j]) - cs3d[i,j]*cos(W_alpha[i,j]) \n",
    "        W_cn[i] = W_cn[i] + cn3d[i,j]*sin(psi[j])*dpsi/2\n",
    "        W_cs[i] = W_cs[i] + cs3d[i,j]*sin(psi[j])*dpsi/2\n",
    "        W_cl[i] = W_cl[i] + cl3d[i,j]*sin(psi[j])*dpsi/2\n",
    "        W_cd[i] = W_cd[i] + cd3d[i,j]*sin(psi[j])*dpsi/2\n",
    "    end\n",
    "end\n",
    "    "
   ]
  },
  {
   "cell_type": "code",
   "execution_count": 11,
   "metadata": {
    "collapsed": false
   },
   "outputs": [
    {
     "ename": "LoadError",
     "evalue": "LoadError: UndefVarError: W_cl not defined\nwhile loading In[11], in expression starting on line 1",
     "output_type": "error",
     "traceback": [
      "LoadError: UndefVarError: W_cl not defined\nwhile loading In[11], in expression starting on line 1",
      ""
     ]
    }
   ],
   "source": [
    "plot(W_mat[1][:,1],W_cl)"
   ]
  },
  {
   "cell_type": "markdown",
   "metadata": {},
   "source": [
    "# Can epps correction help to get rid of the oscillations - or is including the unsteady term here fundamentally wrong?"
   ]
  },
  {
   "cell_type": "code",
   "execution_count": null,
   "metadata": {
    "collapsed": true
   },
   "outputs": [],
   "source": []
  }
 ],
 "metadata": {
  "anaconda-cloud": {},
  "kernelspec": {
   "display_name": "Julia 0.5.0",
   "language": "julia",
   "name": "julia-0.5"
  },
  "language_info": {
   "file_extension": ".jl",
   "mimetype": "application/julia",
   "name": "julia",
   "version": "0.5.0"
  }
 },
 "nbformat": 4,
 "nbformat_minor": 1
}
