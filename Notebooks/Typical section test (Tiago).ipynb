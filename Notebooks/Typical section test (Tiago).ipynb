{
 "cells": [
  {
   "cell_type": "markdown",
   "metadata": {},
   "source": [
    "# Tiago testcases "
   ]
  },
  {
   "cell_type": "markdown",
   "metadata": {},
   "source": [
    "## Simulation of typical section aeroelastic response (based on setup at ITA LNCA)"
   ]
  },
  {
   "cell_type": "code",
   "execution_count": 1,
   "metadata": {
    "collapsed": false
   },
   "outputs": [
    {
     "name": "stderr",
     "output_type": "stream",
     "text": [
      "WARNING: Method definition redirect_stderr(Function, Any) in module Compat at /Users/kiran/.julia/v0.4/Compat/src/Compat.jl:1597 overwritten in module Compat at /Users/kiran/.julia/v0.4/Compat/src/Compat.jl:1597.\n",
      "WARNING: Method definition unescape_string(Any, AbstractString) in module Compat at /Users/kiran/.julia/v0.4/Compat/src/Compat.jl:1573 overwritten in module Compat at /Users/kiran/.julia/v0.4/Compat/src/Compat.jl:1573.\n",
      "WARNING: Method definition write(Main.Base.IO, Main.Base.IO) in module Compat at /Users/kiran/.julia/v0.4/Compat/src/Compat.jl:1078 overwritten in module Compat at /Users/kiran/.julia/v0.4/Compat/src/Compat.jl:1078.\n",
      "WARNING: Method definition write(AbstractString, Any...) in module Compat at /Users/kiran/.julia/v0.4/Compat/src/Compat.jl:1067 overwritten in module Compat at /Users/kiran/.julia/v0.4/Compat/src/Compat.jl:1067.\n",
      "WARNING: Method definition call(Type{Symbol}, Any...) in module Compat at /Users/kiran/.julia/v0.4/Compat/src/Compat.jl:413 overwritten in module Compat at /Users/kiran/.julia/v0.4/Compat/src/Compat.jl:413.\n",
      "WARNING: Method definition call(Type{Union{UTF8String, ASCIIString}}, Main.Base.AbstractIOBuffer{T<:AbstractArray{UInt8, 1}}) in module Compat at /Users/kiran/.julia/v0.4/Compat/src/Compat.jl:1492 overwritten in module Compat at /Users/kiran/.julia/v0.4/Compat/src/Compat.jl:1492.\n",
      "WARNING: Method definition call(Type{Union{UTF8String, ASCIIString}}, Main.Base.Cstring) in module Compat at /Users/kiran/.julia/v0.4/Compat/src/Compat.jl:1497 overwritten in module Compat at /Users/kiran/.julia/v0.4/Compat/src/Compat.jl:1497.\n",
      "WARNING: Method definition call(Type{Union{UTF8String, ASCIIString}}, Array{UInt8, 1}) in module Compat at /Users/kiran/.julia/v0.4/Compat/src/Compat.jl:1498 overwritten in module Compat at /Users/kiran/.julia/v0.4/Compat/src/Compat.jl:1498.\n",
      "WARNING: Method definition call(Type{Union{UTF8String, ASCIIString}}, Union{Ptr{UInt8}, Ptr{Int8}}) in module Compat at /Users/kiran/.julia/v0.4/Compat/src/Compat.jl:1499 overwritten in module Compat at /Users/kiran/.julia/v0.4/Compat/src/Compat.jl:1499.\n",
      "WARNING: Method definition call(Type{Union{UTF8String, ASCIIString}}, Union{Ptr{UInt8}, Ptr{Int8}}, Integer) in module Compat at /Users/kiran/.julia/v0.4/Compat/src/Compat.jl:1500 overwritten in module Compat at /Users/kiran/.julia/v0.4/Compat/src/Compat.jl:1500.\n",
      "WARNING: Method definition call(Type{Union{UTF8String, ASCIIString}}, AbstractString) in module Compat at /Users/kiran/.julia/v0.4/Compat/src/Compat.jl:1501 overwritten in module Compat at /Users/kiran/.julia/v0.4/Compat/src/Compat.jl:1501.\n",
      "WARNING: Method definition read!(AbstractString, Any) in module Compat at /Users/kiran/.julia/v0.4/Compat/src/Compat.jl:1070 overwritten in module Compat at /Users/kiran/.julia/v0.4/Compat/src/Compat.jl:1070.\n",
      "WARNING: Method definition precision(Type{Main.Base.MPFR.BigFloat}) in module Compat at /Users/kiran/.julia/v0.4/Compat/src/Compat.jl:1115 overwritten in module Compat at /Users/kiran/.julia/v0.4/Compat/src/Compat.jl:1115.\n",
      "WARNING: Method definition escape_string(Any, AbstractString, AbstractString) in module Compat at /Users/kiran/.julia/v0.4/Compat/src/Compat.jl:1575 overwritten in module Compat at /Users/kiran/.julia/v0.4/Compat/src/Compat.jl:1575.\n",
      "WARNING: Method definition readlines(AbstractString) in module Compat at /Users/kiran/.julia/v0.4/Compat/src/Compat.jl:1073 overwritten in module Compat at /Users/kiran/.julia/v0.4/Compat/src/Compat.jl:1073.\n",
      "WARNING: Method definition readavailable(Main.Base.IOStream) in module Compat at /Users/kiran/.julia/v0.4/Compat/src/Compat.jl:1074 overwritten in module Compat at /Users/kiran/.julia/v0.4/Compat/src/Compat.jl:1074.\n",
      "WARNING: Method definition readavailable(Main.Base.AbstractIOBuffer{Array{UInt8, 1}}) in module Compat at /Users/kiran/.julia/v0.4/Compat/src/Compat.jl:1075 overwritten in module Compat at /Users/kiran/.julia/v0.4/Compat/src/Compat.jl:1075.\n",
      "WARNING: Method definition eachline(AbstractString) in module Compat at /Users/kiran/.julia/v0.4/Compat/src/Compat.jl:1084 overwritten in module Compat at /Users/kiran/.julia/v0.4/Compat/src/Compat.jl:1084.\n",
      "WARNING: Method definition remotecall_wait(Function, Main.Base.LocalProcess, Any...) in module Compat at /Users/kiran/.julia/v0.4/Compat/src/Compat.jl:991 overwritten in module Compat at /Users/kiran/.julia/v0.4/Compat/src/Compat.jl:991.\n",
      "WARNING: Method definition remotecall_wait(Function, Main.Base.Worker, Any...) in module Compat at /Users/kiran/.julia/v0.4/Compat/src/Compat.jl:992 overwritten in module Compat at /Users/kiran/.julia/v0.4/Compat/src/Compat.jl:992.\n",
      "WARNING: Method definition remotecall_wait(Function, Integer, Any...) in module Compat at /Users/kiran/.julia/v0.4/Compat/src/Compat.jl:993 overwritten in module Compat at /Users/kiran/.julia/v0.4/Compat/src/Compat.jl:993.\n",
      "WARNING: Method definition redirect_stdout(Function, Any) in module Compat at /Users/kiran/.julia/v0.4/Compat/src/Compat.jl:1597 overwritten in module Compat at /Users/kiran/.julia/v0.4/Compat/src/Compat.jl:1597.\n",
      "WARNING: Method definition join(Main.Base.IO, Any) in module Compat at /Users/kiran/.julia/v0.4/Compat/src/Compat.jl:1567 overwritten in module Compat at /Users/kiran/.julia/v0.4/Compat/src/Compat.jl:1567.\n",
      "WARNING: Method definition join(Main.Base.IO, Any, Any) in module Compat at /Users/kiran/.julia/v0.4/Compat/src/Compat.jl:1569 overwritten in module Compat at /Users/kiran/.julia/v0.4/Compat/src/Compat.jl:1569.\n",
      "WARNING: Method definition join(Main.Base.IO, Any, Any, Any) in module Compat at /Users/kiran/.julia/v0.4/Compat/src/Compat.jl:1571 overwritten in module Compat at /Users/kiran/.julia/v0.4/Compat/src/Compat.jl:1571.\n",
      "WARNING: Method definition cor(AbstractArray{T<:Any, 2}, AbstractArray{T<:Any, 2}, Integer) in module Compat at /Users/kiran/.julia/v0.4/Compat/src/Compat.jl:1057 overwritten in module Compat at /Users/kiran/.julia/v0.4/Compat/src/Compat.jl:1057.\n",
      "WARNING: Method definition cor(AbstractArray{T<:Any, 2}, Integer) in module Compat at /Users/kiran/.julia/v0.4/Compat/src/Compat.jl:1056 overwritten in module Compat at /Users/kiran/.julia/v0.4/Compat/src/Compat.jl:1056.\n",
      "WARNING: Method definition remotecall_fetch(Function, Main.Base.LocalProcess, Any...) in module Compat at /Users/kiran/.julia/v0.4/Compat/src/Compat.jl:991 overwritten in module Compat at /Users/kiran/.julia/v0.4/Compat/src/Compat.jl:991.\n",
      "WARNING: Method definition remotecall_fetch(Function, Main.Base.Worker, Any...) in module Compat at /Users/kiran/.julia/v0.4/Compat/src/Compat.jl:992 overwritten in module Compat at /Users/kiran/.julia/v0.4/Compat/src/Compat.jl:992.\n",
      "WARNING: Method definition remotecall_fetch(Function, Integer, Any...) in module Compat at /Users/kiran/.julia/v0.4/Compat/src/Compat.jl:993 overwritten in module Compat at /Users/kiran/.julia/v0.4/Compat/src/Compat.jl:993.\n",
      "WARNING: Method definition show(Main.Base.IO, Any, Any) in module Compat at /Users/kiran/.julia/v0.4/Compat/src/Compat.jl:1580 overwritten in module Compat at /Users/kiran/.julia/v0.4/Compat/src/Compat.jl:1580.\n",
      "WARNING: Method definition readline(AbstractString) in module Compat at /Users/kiran/.julia/v0.4/Compat/src/Compat.jl:1072 overwritten in module Compat at /Users/kiran/.julia/v0.4/Compat/src/Compat.jl:1072.\n",
      "WARNING: Method definition cov(AbstractArray{T<:Any, 1}, AbstractArray{T<:Any, 1}, Bool) in module Compat at /Users/kiran/.julia/v0.4/Compat/src/Compat.jl:1052 overwritten in module Compat at /Users/kiran/.julia/v0.4/Compat/src/Compat.jl:1052.\n",
      "WARNING: Method definition cov(AbstractArray{T<:Any, 2}, AbstractArray{T<:Any, 2}, Integer) in module Compat at /Users/kiran/.julia/v0.4/Compat/src/Compat.jl:1053 overwritten in module Compat at /Users/kiran/.julia/v0.4/Compat/src/Compat.jl:1053.\n",
      "WARNING: Method definition cov(AbstractArray{T<:Any, 2}, AbstractArray{T<:Any, 2}, Integer, Bool) in module Compat at /Users/kiran/.julia/v0.4/Compat/src/Compat.jl:1054 overwritten in module Compat at /Users/kiran/.julia/v0.4/Compat/src/Compat.jl:1054.\n",
      "WARNING: Method definition cov(AbstractArray{T<:Any, 1}, Bool) in module Compat at /Users/kiran/.julia/v0.4/Compat/src/Compat.jl:1049 overwritten in module Compat at /Users/kiran/.julia/v0.4/Compat/src/Compat.jl:1049.\n",
      "WARNING: Method definition cov(AbstractArray{T<:Any, 2}, Integer) in module Compat at /Users/kiran/.julia/v0.4/Compat/src/Compat.jl:1050 overwritten in module Compat at /Users/kiran/.julia/v0.4/Compat/src/Compat.jl:1050.\n",
      "WARNING: Method definition cov(AbstractArray{T<:Any, 2}, Integer, Bool) in module Compat at /Users/kiran/.julia/v0.4/Compat/src/Compat.jl:1051 overwritten in module Compat at /Users/kiran/.julia/v0.4/Compat/src/Compat.jl:1051.\n",
      "WARNING: Method definition read(Main.Base.IO) in module Compat at /Users/kiran/.julia/v0.4/Compat/src/Compat.jl:1064 overwritten in module Compat at /Users/kiran/.julia/v0.4/Compat/src/Compat.jl:1064.\n",
      "WARNING: Method definition read(Main.Base.IO, Any) in module Compat at /Users/kiran/.julia/v0.4/Compat/src/Compat.jl:1065 overwritten in module Compat at /Users/kiran/.julia/v0.4/Compat/src/Compat.jl:1065.\n",
      "WARNING: Method definition read(AbstractString, Any...) in module Compat at /Users/kiran/.julia/v0.4/Compat/src/Compat.jl:1069 overwritten in module Compat at /Users/kiran/.julia/v0.4/Compat/src/Compat.jl:1069.\n",
      "WARNING: Method definition readuntil(AbstractString, Any...) in module Compat at /Users/kiran/.julia/v0.4/Compat/src/Compat.jl:1071 overwritten in module Compat at /Users/kiran/.julia/v0.4/Compat/src/Compat.jl:1071.\n",
      "WARNING: Method definition redirect_stdin(Function, Any) in module Compat at /Users/kiran/.julia/v0.4/Compat/src/Compat.jl:1597 overwritten in module Compat at /Users/kiran/.julia/v0.4/Compat/src/Compat.jl:1597.\n",
      "WARNING: Method definition remotecall(Function, Main.Base.LocalProcess, Any...) in module Compat at /Users/kiran/.julia/v0.4/Compat/src/Compat.jl:991 overwritten in module Compat at /Users/kiran/.julia/v0.4/Compat/src/Compat.jl:991.\n",
      "WARNING: Method definition remotecall(Function, Main.Base.Worker, Any...) in module Compat at /Users/kiran/.julia/v0.4/Compat/src/Compat.jl:992 overwritten in module Compat at /Users/kiran/.julia/v0.4/Compat/src/Compat.jl:992.\n",
      "WARNING: Method definition remotecall(Function, Integer, Any...) in module Compat at /Users/kiran/.julia/v0.4/Compat/src/Compat.jl:993 overwritten in module Compat at /Users/kiran/.julia/v0.4/Compat/src/Compat.jl:993.\n",
      "WARNING: Method definition remote_do(Function, Main.Base.LocalProcess, Any...) in module Compat at /Users/kiran/.julia/v0.4/Compat/src/Compat.jl:991 overwritten in module Compat at /Users/kiran/.julia/v0.4/Compat/src/Compat.jl:991.\n",
      "WARNING: Method definition remote_do(Function, Main.Base.Worker, Any...) in module Compat at /Users/kiran/.julia/v0.4/Compat/src/Compat.jl:992 overwritten in module Compat at /Users/kiran/.julia/v0.4/Compat/src/Compat.jl:992.\n",
      "WARNING: Method definition remote_do(Function, Integer, Any...) in module Compat at /Users/kiran/.julia/v0.4/Compat/src/Compat.jl:993 overwritten in module Compat at /Users/kiran/.julia/v0.4/Compat/src/Compat.jl:993.\n",
      "/Users/kiran/.julia/v0.4/Conda/deps/usr/lib/python2.7/site-packages/matplotlib/font_manager.py:273: UserWarning: Matplotlib is building the font cache using fc-list. This may take a moment.\n",
      "  warnings.warn('Matplotlib is building the font cache using fc-list. This may take a moment.')\n",
      "\n",
      "WARNING: deprecated syntax \"run (\" at /Users/kiran/Documents/Projects/UNSflow/src/postprocess.jl:280.\n",
      "Use \"run(\" instead.\n"
     ]
    }
   ],
   "source": [
    "workspace()\n",
    "include(\"../src/UNSflow.jl\")\n",
    "using UNSflow"
   ]
  },
  {
   "cell_type": "markdown",
   "metadata": {},
   "source": [
    "### Structural and aerodynamic parameters"
   ]
  },
  {
   "cell_type": "code",
   "execution_count": 2,
   "metadata": {
    "collapsed": false
   },
   "outputs": [
    {
     "data": {
      "text/plain": [
       "0.0"
      ]
     },
     "execution_count": 2,
     "metadata": {},
     "output_type": "execute_result"
    }
   ],
   "source": [
    "c = 0.29; #m, Chord\n",
    "mass = 6.5 # + 7.0; %kg, Mass from base and typical seccion\n",
    "airdensity = 1.119 #kg/m^3   ### Structural definitions\n",
    "pvt = 0.43105  #Elastic Axis, Percentage from LE Pivot(0-1)\n",
    "\n",
    "w_h = 2.38*2*pi  # rad/s Natural Frequency for H\n",
    "w_alpha = 4.29*2*pi  #rad/s Natural Frequency for Alpha\n",
    "\n",
    "x_alpha = 0.0275/c #Distance between ea and cg divided by c %Static Unbalance\n",
    "r_alpha = 0.064/(c/2) # 2*sqrt(Itheta/(m*c^2)) %Radius of Gyration (Admensional)\n",
    "kappa = pi*airdensity*c^2/(4*mass/0.75) \n",
    "\n",
    "w_alphadot = 0.\n",
    "w_hdot = 1.\n",
    "cubic_h_1 = 1.\n",
    "cubic_h_3 = 0.\n",
    "cubic_alpha_1 = 1.\n",
    "cubic_alpha_3 = 0."
   ]
  },
  {
   "cell_type": "markdown",
   "metadata": {},
   "source": [
    "### Initial condition"
   ]
  },
  {
   "cell_type": "code",
   "execution_count": 3,
   "metadata": {
    "collapsed": false
   },
   "outputs": [
    {
     "data": {
      "text/plain": [
       "0"
      ]
     },
     "execution_count": 3,
     "metadata": {},
     "output_type": "execute_result"
    }
   ],
   "source": [
    "alpha_init = 10*pi/180\n",
    "alphadot_init = 0.\n",
    "h_init = 0.\n",
    "hdot_init = 0.\n",
    "udot = 0\n"
   ]
  },
  {
   "cell_type": "markdown",
   "metadata": {},
   "source": [
    "### Simulation control"
   ]
  },
  {
   "cell_type": "code",
   "execution_count": 4,
   "metadata": {
    "collapsed": false
   },
   "outputs": [
    {
     "data": {
      "text/plain": [
       "UNSflow.DelVortDef(1,500,10.0)"
      ]
     },
     "execution_count": 4,
     "metadata": {},
     "output_type": "execute_result"
    }
   ],
   "source": [
    "dt = 0.015\n",
    "lespcrit = [21;] # High value, No LEV shedding\n",
    "del = DelVortDef(1, 500, 10)\n",
    "\n"
   ]
  },
  {
   "cell_type": "markdown",
   "metadata": {},
   "source": [
    "### Case 1"
   ]
  },
  {
   "cell_type": "code",
   "execution_count": 8,
   "metadata": {
    "collapsed": false
   },
   "outputs": [
    {
     "name": "stdout",
     "output_type": "stream",
     "text": [
      "245.464686 seconds (6.24 G allocations: 93.992 GB, 3.76% gc time)\n"
     ]
    },
    {
     "data": {
      "text/plain": [
       "(\n",
       "5000x8 Array{Float64,2}:\n",
       " 0.000483333  0.174533   0.0          …  19.1198    3.32173     -0.575909  \n",
       " 0.000966667  0.174533   0.0              0.617932  0.0585594    0.0731989 \n",
       " 0.00145      0.174533   0.0              0.549322  0.0462447    0.0112673 \n",
       " 0.00193333   0.17451    6.46614e-6       0.675085  0.0673498    0.0340981 \n",
       " 0.00241667   0.174459   1.27675e-5       0.663285  0.0641967    0.0445064 \n",
       " 0.0029       0.174378   1.88567e-5   …   0.647813  0.0604302    0.054442  \n",
       " 0.00338333   0.174268   2.47881e-5       0.635555  0.0572526    0.0625699 \n",
       " 0.00386667   0.174128   3.05609e-5       0.625156  0.0544237    0.0692623 \n",
       " 0.00435      0.17396    3.61726e-5       0.616229  0.0518738    0.0748614 \n",
       " 0.00483333   0.173764   4.16215e-5       0.608422  0.0495399    0.0796433 \n",
       " 0.00531667   0.173539   4.69062e-5   …   0.60147   0.0473746    0.0837974 \n",
       " 0.0058       0.173285   5.20253e-5       0.595165  0.0453409    0.0874608 \n",
       " 0.00628333   0.173004   5.69779e-5       0.589325  0.0434064    0.0907393 \n",
       " ⋮                                    ⋱   ⋮                                \n",
       " 2.41135      0.0275933  0.000249542      0.169835  0.00411425   0.00246076\n",
       " 2.41183      0.0280722  0.000250857      0.171322  0.00418873   0.00300956\n",
       " 2.41232      0.0285465  0.000252156  …   0.172782  0.0042613    0.00355757\n",
       " 2.4128       0.0290161  0.000253437      0.174215  0.00433192   0.00410473\n",
       " 2.41328      0.029481   0.000254701      0.17562   0.00440057   0.00465094\n",
       " 2.41377      0.0299411  0.000255946      0.176998  0.00446719   0.00519612\n",
       " 2.41425      0.0303962  0.000257172      0.178348  0.00453175   0.00574019\n",
       " 2.41473      0.0308464  0.00025838   …   0.17967   0.00459422   0.00628306\n",
       " 2.41522      0.0312916  0.000259567      0.180964  0.00465453   0.00682466\n",
       " 2.4157       0.0317317  0.000260735      0.18223   0.00471269   0.0073649 \n",
       " 2.41618      0.0321667  0.000261881      0.183467  0.00476863   0.0079037 \n",
       " 2.41667      0.0325965  0.000263007      0.184675  0.00482234   0.00844098,\n",
       "\n",
       "UNSflow.TwoDSurf_2DOF(0.29,9.0,\"FlatPlate\",0.43105,70,35,[0.0,0.0,0.0,0.0,0.0,0.0,0.0,0.0,0.0,0.0  …  0.0,0.0,0.0,0.0,0.0,0.0,0.0,0.0,0.0,0.0],[0.0,0.0,0.0,0.0,0.0,0.0,0.0,0.0,0.0,0.0  …  0.0,0.0,0.0,0.0,0.0,0.0,0.0,0.0,0.0,0.0],[0.0,0.0455303,0.0910607,0.136591,0.182121,0.227652,0.273182,0.318712,0.364243,0.409773  …  2.73182,2.77735,2.82288,2.86841,2.91394,2.95947,3.005,3.05053,3.09606,3.14159],[0.0,0.000150267,0.000600758,0.00135054,0.00239805,0.00374113,0.00537699,0.00730224,0.00951289,0.0120044  …  0.277996,0.280487,0.282698,0.284623,0.286259,0.287602,0.288649,0.289399,0.28985,0.29],UNSflow.TwoDOFPar(0.09482758620689656,0.44137931034482764,0.008528327517829698,26.954864967800425,14.953981031087414,0.0,1.0,1.0,0.0,1.0,0.0),UNSflow.KinemPar2DOF(0.032596470607190606,0.00026300693896212933,0.8782366134684589,0.0022839897964966834,9.0,0.0,-23.10120672722571,-0.09657975400334035,0.032596470607190606,0.032596470607190606,0.032596470607190606,0.00026300693896212933,0.00026300693896212933,0.00026300693896212933,0.8782366134684589,0.8782366134684589,0.8782366134684589,0.0022839897964966834,0.0022839897964966834,0.0022839897964966834,-22.839937314165667,-22.839937314165667,-22.839937314165667,-0.0945783673434973,-0.0945783673434973,-0.0945783673434973),[-22.0402,-22.0401,-22.0396,-22.0388,-22.0378,-22.0365,-22.0348,-22.0329,-22.0307,-22.0282  …  -21.7618,-21.7593,-21.757,-21.7551,-21.7535,-21.7521,-21.7511,-21.7503,-21.7499,-21.7497],[0.00439115,0.00438618,0.00437131,0.00434656,0.00431197,0.00426763,0.00421362,0.00415006,0.00407708,0.00399482  …  -0.00478691,-0.00486916,-0.00494215,-0.00500571,-0.00505972,-0.00510406,-0.00513864,-0.0051634,-0.00517827,-0.00518323],[-0.00167797,-0.00167825,-0.00167911,-0.00168053,-0.00168253,-0.00168509,-0.00168822,-0.00169192,-0.00169618,-0.001701  …  -0.00487174,-0.00535796,-0.00591353,-0.00649767,-0.00700127,-0.00729992,-0.00739926,-0.00740204,-0.00738214,-0.00737231],[-0.0866708,-0.0867016,-0.0867938,-0.0869477,-0.0871638,-0.0874424,-0.0877844,-0.0881904,-0.0886615,-0.0891989  …  -0.351398,-0.37208,-0.394294,-0.41663,-0.435696,-0.447794,-0.453193,-0.455006,-0.455448,-0.455499],[-0.0945705,-0.0946718,-0.0949752,-0.0954798,-0.0961837,-0.0970847,-0.0981795,-0.0994644,-0.100935,-0.102586  …  -0.0740255,-0.0555268,-0.0352484,-0.0145957,0.00303983,0.0139614,0.0184408,0.0195943,0.0196395,0.0195588],[0.013813514963688293],[-0.00150322,0.00729206,-0.00387559,0.00219183,-0.00124635,0.00067478,-0.000317539,9.3521e-5,4.34631e-5,-0.000122061  …  1.39573e-5,-1.42466e-5,1.35738e-5,-1.22457e-5,1.05218e-5,-8.61364e-6,6.68515e-6,-4.85701e-6,3.21138e-6,-1.79768e-6],[0.7802967934255594],[-0.2760640169110325,-0.07173323692028986,0.04512590026810255],[0.013813514963688293],[-0.001503219347827595,0.007292057777495711,-0.0038755907370381084],[UNSflow.TwoDVort(-22.040126960293463,0.004388665378497295,0.003282984225394803,0.0058,0.0,0.0),UNSflow.TwoDVort(-22.039826095464356,0.00437874834096436,0.003282779032291558,0.0058,0.0,0.0),UNSflow.TwoDVort(-22.03922498939437,0.004358934820473226,0.0032823364467730333,0.0058,0.0,0.0),UNSflow.TwoDVort(-22.038324887967637,0.0043292658835707015,0.003281567862519126,0.0058,0.0,0.0),UNSflow.TwoDVort(-22.037127656781905,0.0042898030236592066,0.0032803597065453926,0.0058,0.0,0.0),UNSflow.TwoDVort(-22.035635777281534,0.004240628033542163,0.0032785927513072255,0.0058,0.0,0.0),UNSflow.TwoDVort(-22.03385234161467,0.004181842835895869,0.003276083917049866,0.0058,0.0,0.0),UNSflow.TwoDVort(-22.03178104622406,0.004113569272019358,0.003272583610154449,0.0058,0.0,0.0),UNSflow.TwoDVort(-22.029426184185667,0.0040359488492995935,0.0032678653373343055,0.0058,0.0,0.0),UNSflow.TwoDVort(-22.026792636310695,0.003949142447915745,0.00326171412216491,0.0058,0.0,0.0)  …  UNSflow.TwoDVort(-21.763142671619264,-0.004741227253498738,-0.000531024261252471,0.0058,0.0,0.0),UNSflow.TwoDVort(-21.760509123744328,-0.004828033654882524,-0.0004935489808331843,0.0058,0.0,0.0),UNSflow.TwoDVort(-21.758154261705954,-0.004905654077602308,-0.00043741468395894017,0.0058,0.0,0.0),UNSflow.TwoDVort(-21.75608296631531,-0.004973927641478852,-0.0003616571345706314,0.0058,0.0,0.0),UNSflow.TwoDVort(-21.754299530648453,-0.005032712839125122,-0.0002709942843744474,0.0058,0.0,0.0),UNSflow.TwoDVort(-21.752807651148068,-0.005081887829242194,-0.00017916504742292427,0.0058,0.0,0.0),UNSflow.TwoDVort(-21.75161041996227,-0.005121350689153726,-0.00010245880643431527,0.0058,0.0,0.0),UNSflow.TwoDVort(-21.75071031853551,-0.005151019626056252,-4.924003337136613e-5,0.0058,0.0,0.0),UNSflow.TwoDVort(-21.75010921246554,-0.005170833146547359,-1.786283634329745e-5,0.0058,0.0,0.0),UNSflow.TwoDVort(-21.749808347636527,-0.0051807501840802715,-3.47454165126919e-6,0.0058,0.0,0.0)],[21.0],Int8[0]),UNSflow.TwoDFlowField(UNSflow.ConstDef(0.0),UNSflow.ConstDef(0.0),[0.0],[0.0],[UNSflow.TwoDVort(-18.871482985307978,0.11779673302602324,-0.00043530453375461783,0.0058,-0.046172812804524614,0.23269251832210885),UNSflow.TwoDVort(-18.87603305080262,0.11737333325318654,-0.0004763328513874357,0.0058,-0.04684700029394119,0.22986883284850707),UNSflow.TwoDVort(-18.88057737801952,0.11693033529141283,-0.0005170788496176078,0.0058,-0.047520733682166284,0.22722032334376147),UNSflow.TwoDVort(-18.885116774745658,0.11646818629372391,-0.0005577610822484723,0.0058,-0.04830848681886461,0.22592235833248883),UNSflow.TwoDVort(-18.889649678592896,0.11598565527540022,-0.0005983441615617629,0.0058,-0.04913950598191079,0.22530923802039043),UNSflow.TwoDVort(-18.894173769437007,0.1154823562416151,-0.0006389494264068974,0.0058,-0.04996550457192342,0.22503620226100235),UNSflow.TwoDVort(-18.89869527362273,0.11496188627571462,-0.0006789481275414674,0.0058,-0.05082388325271808,0.22495543539631419),UNSflow.TwoDVort(-18.90321667530789,0.11442552778904179,-0.000719269804766878,0.0058,-0.05173386644963501,0.22498558409359037),UNSflow.TwoDVort(-18.90773269331806,0.11387083743971155,-0.0007593392899914626,0.0058,-0.05265138379234239,0.22505550199765828),UNSflow.TwoDVort(-18.912241800175202,0.11329598822038797,-0.000799296159766252,0.0058,-0.053548000714546205,0.22510634911203095)  …  UNSflow.TwoDVort(-21.70838695294876,-0.006309521404811318,-0.002688514834477681,0.0058,0.002806505981007373,-0.2889678885088389),UNSflow.TwoDVort(-21.712741556729956,-0.006257818472128876,-0.002674180056344248,0.0058,0.0023196172378032336,-0.3003433968991273),UNSflow.TwoDVort(-21.717095847073985,-0.006198232084872345,-0.002659448235205612,0.0058,0.0017791941642056864,-0.3126878981628082),UNSflow.TwoDVort(-21.721449791194367,-0.0061303388222846925,-0.002644319365204386,0.0058,0.00117090235861809,-0.3262740987453351),UNSflow.TwoDVort(-21.7258033496321,-0.006053588816571554,-0.0026287971489402017,0.0058,0.0004718767216613756,-0.341508676845622),UNSflow.TwoDVort(-21.73015647217303,-0.005967242505265584,-0.0026128842328608437,0.0058,-0.0003575369690695816,-0.3590363703568942),UNSflow.TwoDVort(-21.73450908983214,-0.005870257707749851,-0.00259657992139264,0.0058,-0.0013942380997377915,-0.3799616503317123),UNSflow.TwoDVort(-21.738861097060315,-0.005761071495484964,-0.002579893298169816,0.0058,-0.0028073650289556686,-0.4063415972962842),UNSflow.TwoDVort(-21.743212307730563,-0.005637146854361156,-0.0025628223686013692,0.0058,-0.004955688049320884,-0.4417180398816171),UNSflow.TwoDVort(-21.747562364936215,-0.0054942673112363,-0.002545371857414795,0.0058,-0.007584453559092646,-0.47771770646637973)],UNSflow.TwoDVort[],UNSflow.TwoDVort[]))"
      ]
     },
     "execution_count": 8,
     "metadata": {},
     "output_type": "execute_result"
    }
   ],
   "source": [
    "u = 9\n",
    "\n",
    "kinem = KinemPar2DOF(alpha_init, h_init, alphadot_init, hdot_init, u, udot, 0., 0., 0., 0., 0., 0., 0., 0., 0., 0., 0., 0., 0., 0., 0., 0., 0., 0., 0., 0.)\n",
    "\n",
    "strpar = TwoDOFPar(x_alpha, r_alpha, kappa, w_alpha, w_h, w_alphadot, w_hdot, cubic_h_1, cubic_h_3, cubic_alpha_1, cubic_alpha_3)\n",
    "\n",
    "surf = TwoDSurf_2DOF(c, u, \"FlatPlate\", pvt, 70, 35, strpar, kinem, lespcrit)\n",
    "\n",
    "curfield = TwoDFlowField()\n",
    "\n",
    "nsteps = 5000\n",
    "\n",
    "@time mat, surf, curfield = ldvm(surf, curfield, nsteps, dt, del)\n"
   ]
  },
  {
   "cell_type": "code",
   "execution_count": 6,
   "metadata": {
    "collapsed": false
   },
   "outputs": [
    {
     "name": "stderr",
     "output_type": "stream",
     "text": [
      "WARNING: using PyPlot.surf in module Main conflicts with an existing identifier.\n"
     ]
    }
   ],
   "source": [
    "using PyPlot\n"
   ]
  },
  {
   "cell_type": "code",
   "execution_count": 7,
   "metadata": {
    "collapsed": false
   },
   "outputs": [
    {
     "data": {
      "text/plain": [
       "1-element Array{Any,1}:\n",
       " PyObject <matplotlib.lines.Line2D object at 0x308623590>"
      ]
     },
     "execution_count": 7,
     "metadata": {},
     "output_type": "execute_result"
    }
   ],
   "source": [
    "plot(mat[:,1],mat[:,2])"
   ]
  },
  {
   "cell_type": "code",
   "execution_count": 13,
   "metadata": {
    "collapsed": false
   },
   "outputs": [
    {
     "data": {
      "text/plain": [
       "14.953981031087414"
      ]
     },
     "execution_count": 13,
     "metadata": {},
     "output_type": "execute_result"
    }
   ],
   "source": [
    "w_h"
   ]
  },
  {
   "cell_type": "code",
   "execution_count": null,
   "metadata": {
    "collapsed": true
   },
   "outputs": [],
   "source": []
  },
  {
   "cell_type": "raw",
   "metadata": {},
   "source": []
  },
  {
   "cell_type": "code",
   "execution_count": null,
   "metadata": {
    "collapsed": true
   },
   "outputs": [],
   "source": []
  }
 ],
 "metadata": {
  "kernelspec": {
   "display_name": "Julia 0.4.5",
   "language": "julia",
   "name": "julia-0.4"
  },
  "language_info": {
   "file_extension": ".jl",
   "mimetype": "application/julia",
   "name": "julia",
   "version": "0.4.5"
  }
 },
 "nbformat": 4,
 "nbformat_minor": 0
}
