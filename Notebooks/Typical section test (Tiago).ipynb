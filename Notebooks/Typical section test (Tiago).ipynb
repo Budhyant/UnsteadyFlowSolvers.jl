{
 "cells": [
  {
   "cell_type": "markdown",
   "metadata": {},
   "source": [
    "# Tiago testcases "
   ]
  },
  {
   "cell_type": "markdown",
   "metadata": {},
   "source": [
    "## Simulation of typical section aeroelastic response (based on setup at ITA LNCA)"
   ]
  },
  {
   "cell_type": "code",
   "execution_count": 1,
   "metadata": {
    "collapsed": false
   },
   "outputs": [
    {
     "name": "stderr",
     "output_type": "stream",
     "text": [
      "WARNING: Method definition eachline(AbstractString) in module Compat at /Users/kiran/.julia/v0.4/Compat/src/Compat.jl:937 overwritten in module Compat at /Users/kiran/.julia/v0.4/Compat/src/Compat.jl:937.\n",
      "WARNING: Method definition remote_do(Function, Main.Base.LocalProcess, Any...) in module Compat at /Users/kiran/.julia/v0.4/Compat/src/Compat.jl:844 overwritten in module Compat at /Users/kiran/.julia/v0.4/Compat/src/Compat.jl:844.\n",
      "WARNING: Method definition remote_do(Function, Main.Base.Worker, Any...) in module Compat at /Users/kiran/.julia/v0.4/Compat/src/Compat.jl:845 overwritten in module Compat at /Users/kiran/.julia/v0.4/Compat/src/Compat.jl:845.\n",
      "WARNING: Method definition remote_do(Function, Integer, Any...) in module Compat at /Users/kiran/.julia/v0.4/Compat/src/Compat.jl:846 overwritten in module Compat at /Users/kiran/.julia/v0.4/Compat/src/Compat.jl:846.\n",
      "WARNING: Method definition remotecall(Function, Main.Base.LocalProcess, Any...) in module Compat at /Users/kiran/.julia/v0.4/Compat/src/Compat.jl:844 overwritten in module Compat at /Users/kiran/.julia/v0.4/Compat/src/Compat.jl:844.\n",
      "WARNING: Method definition remotecall(Function, Main.Base.Worker, Any...) in module Compat at /Users/kiran/.julia/v0.4/Compat/src/Compat.jl:845 overwritten in module Compat at /Users/kiran/.julia/v0.4/Compat/src/Compat.jl:845.\n",
      "WARNING: Method definition remotecall(Function, Integer, Any...) in module Compat at /Users/kiran/.julia/v0.4/Compat/src/Compat.jl:846 overwritten in module Compat at /Users/kiran/.julia/v0.4/Compat/src/Compat.jl:846.\n",
      "WARNING: Method definition cov(AbstractArray{T<:Any, 1}, AbstractArray{T<:Any, 1}, Bool) in module Compat at /Users/kiran/.julia/v0.4/Compat/src/Compat.jl:905 overwritten in module Compat at /Users/kiran/.julia/v0.4/Compat/src/Compat.jl:905.\n",
      "WARNING: Method definition cov(AbstractArray{T<:Any, 2}, AbstractArray{T<:Any, 2}, Integer) in module Compat at /Users/kiran/.julia/v0.4/Compat/src/Compat.jl:906 overwritten in module Compat at /Users/kiran/.julia/v0.4/Compat/src/Compat.jl:906.\n",
      "WARNING: Method definition cov(AbstractArray{T<:Any, 2}, AbstractArray{T<:Any, 2}, Integer, Bool) in module Compat at /Users/kiran/.julia/v0.4/Compat/src/Compat.jl:907 overwritten in module Compat at /Users/kiran/.julia/v0.4/Compat/src/Compat.jl:907.\n",
      "WARNING: Method definition cov(AbstractArray{T<:Any, 1}, Bool) in module Compat at /Users/kiran/.julia/v0.4/Compat/src/Compat.jl:902 overwritten in module Compat at /Users/kiran/.julia/v0.4/Compat/src/Compat.jl:902.\n",
      "WARNING: Method definition cov(AbstractArray{T<:Any, 2}, Integer) in module Compat at /Users/kiran/.julia/v0.4/Compat/src/Compat.jl:903 overwritten in module Compat at /Users/kiran/.julia/v0.4/Compat/src/Compat.jl:903.\n",
      "WARNING: Method definition cov(AbstractArray{T<:Any, 2}, Integer, Bool) in module Compat at /Users/kiran/.julia/v0.4/Compat/src/Compat.jl:904 overwritten in module Compat at /Users/kiran/.julia/v0.4/Compat/src/Compat.jl:904.\n",
      "WARNING: Method definition read!(AbstractString, Any) in module Compat at /Users/kiran/.julia/v0.4/Compat/src/Compat.jl:923 overwritten in module Compat at /Users/kiran/.julia/v0.4/Compat/src/Compat.jl:923.\n",
      "WARNING: Method definition read(Main.Base.IO) in module Compat at /Users/kiran/.julia/v0.4/Compat/src/Compat.jl:917 overwritten in module Compat at /Users/kiran/.julia/v0.4/Compat/src/Compat.jl:917.\n",
      "WARNING: Method definition read(Main.Base.IO, Any) in module Compat at /Users/kiran/.julia/v0.4/Compat/src/Compat.jl:918 overwritten in module Compat at /Users/kiran/.julia/v0.4/Compat/src/Compat.jl:918.\n",
      "WARNING: Method definition read(AbstractString, Any...) in module Compat at /Users/kiran/.julia/v0.4/Compat/src/Compat.jl:922 overwritten in module Compat at /Users/kiran/.julia/v0.4/Compat/src/Compat.jl:922.\n",
      "WARNING: Method definition readuntil(AbstractString, Any...) in module Compat at /Users/kiran/.julia/v0.4/Compat/src/Compat.jl:924 overwritten in module Compat at /Users/kiran/.julia/v0.4/Compat/src/Compat.jl:924.\n",
      "WARNING: Method definition call(Type{Symbol}, Any...) in module Compat at /Users/kiran/.julia/v0.4/Compat/src/Compat.jl:400 overwritten in module Compat at /Users/kiran/.julia/v0.4/Compat/src/Compat.jl:400.\n",
      "WARNING: Method definition call(Type{Union{UTF8String, ASCIIString}}, Main.Base.AbstractIOBuffer{T<:AbstractArray{UInt8, 1}}) in module Compat at /Users/kiran/.julia/v0.4/Compat/src/Compat.jl:1278 overwritten in module Compat at /Users/kiran/.julia/v0.4/Compat/src/Compat.jl:1278.\n",
      "WARNING: Method definition call(Type{Union{UTF8String, ASCIIString}}, Main.Base.Cstring) in module Compat at /Users/kiran/.julia/v0.4/Compat/src/Compat.jl:1283 overwritten in module Compat at /Users/kiran/.julia/v0.4/Compat/src/Compat.jl:1283.\n",
      "WARNING: Method definition call(Type{Union{UTF8String, ASCIIString}}, Array{UInt8, 1}) in module Compat at /Users/kiran/.julia/v0.4/Compat/src/Compat.jl:1284 overwritten in module Compat at /Users/kiran/.julia/v0.4/Compat/src/Compat.jl:1284.\n",
      "WARNING: Method definition call(Type{Union{UTF8String, ASCIIString}}, Union{Ptr{UInt8}, Ptr{Int8}}) in module Compat at /Users/kiran/.julia/v0.4/Compat/src/Compat.jl:1285 overwritten in module Compat at /Users/kiran/.julia/v0.4/Compat/src/Compat.jl:1285.\n",
      "WARNING: Method definition call(Type{Union{UTF8String, ASCIIString}}, Union{Ptr{UInt8}, Ptr{Int8}}, Integer) in module Compat at /Users/kiran/.julia/v0.4/Compat/src/Compat.jl:1286 overwritten in module Compat at /Users/kiran/.julia/v0.4/Compat/src/Compat.jl:1286.\n",
      "WARNING: Method definition call(Type{Union{UTF8String, ASCIIString}}, AbstractString) in module Compat at /Users/kiran/.julia/v0.4/Compat/src/Compat.jl:1287 overwritten in module Compat at /Users/kiran/.julia/v0.4/Compat/src/Compat.jl:1287.\n",
      "WARNING: Method definition cor(AbstractArray{T<:Any, 2}, AbstractArray{T<:Any, 2}, Integer) in module Compat at /Users/kiran/.julia/v0.4/Compat/src/Compat.jl:910 overwritten in module Compat at /Users/kiran/.julia/v0.4/Compat/src/Compat.jl:910.\n",
      "WARNING: Method definition cor(AbstractArray{T<:Any, 2}, Integer) in module Compat at /Users/kiran/.julia/v0.4/Compat/src/Compat.jl:909 overwritten in module Compat at /Users/kiran/.julia/v0.4/Compat/src/Compat.jl:909.\n",
      "WARNING: Method definition readavailable(Main.Base.IOStream) in module Compat at /Users/kiran/.julia/v0.4/Compat/src/Compat.jl:927 overwritten in module Compat at /Users/kiran/.julia/v0.4/Compat/src/Compat.jl:927.\n",
      "WARNING: Method definition readavailable(Main.Base.AbstractIOBuffer{Array{UInt8, 1}}) in module Compat at /Users/kiran/.julia/v0.4/Compat/src/Compat.jl:928 overwritten in module Compat at /Users/kiran/.julia/v0.4/Compat/src/Compat.jl:928.\n",
      "WARNING: Method definition readlines(AbstractString) in module Compat at /Users/kiran/.julia/v0.4/Compat/src/Compat.jl:926 overwritten in module Compat at /Users/kiran/.julia/v0.4/Compat/src/Compat.jl:926.\n",
      "WARNING: Method definition readline(AbstractString) in module Compat at /Users/kiran/.julia/v0.4/Compat/src/Compat.jl:925 overwritten in module Compat at /Users/kiran/.julia/v0.4/Compat/src/Compat.jl:925.\n",
      "WARNING: Method definition remotecall_wait(Function, Main.Base.LocalProcess, Any...) in module Compat at /Users/kiran/.julia/v0.4/Compat/src/Compat.jl:844 overwritten in module Compat at /Users/kiran/.julia/v0.4/Compat/src/Compat.jl:844.\n",
      "WARNING: Method definition remotecall_wait(Function, Main.Base.Worker, Any...) in module Compat at /Users/kiran/.julia/v0.4/Compat/src/Compat.jl:845 overwritten in module Compat at /Users/kiran/.julia/v0.4/Compat/src/Compat.jl:845.\n",
      "WARNING: Method definition remotecall_wait(Function, Integer, Any...) in module Compat at /Users/kiran/.julia/v0.4/Compat/src/Compat.jl:846 overwritten in module Compat at /Users/kiran/.julia/v0.4/Compat/src/Compat.jl:846.\n",
      "WARNING: Method definition remotecall_fetch(Function, Main.Base.LocalProcess, Any...) in module Compat at /Users/kiran/.julia/v0.4/Compat/src/Compat.jl:844 overwritten in module Compat at /Users/kiran/.julia/v0.4/Compat/src/Compat.jl:844.\n",
      "WARNING: Method definition remotecall_fetch(Function, Main.Base.Worker, Any...) in module Compat at /Users/kiran/.julia/v0.4/Compat/src/Compat.jl:845 overwritten in module Compat at /Users/kiran/.julia/v0.4/Compat/src/Compat.jl:845.\n",
      "WARNING: Method definition remotecall_fetch(Function, Integer, Any...) in module Compat at /Users/kiran/.julia/v0.4/Compat/src/Compat.jl:846 overwritten in module Compat at /Users/kiran/.julia/v0.4/Compat/src/Compat.jl:846.\n",
      "WARNING: Method definition write(Main.Base.IO, Main.Base.IO) in module Compat at /Users/kiran/.julia/v0.4/Compat/src/Compat.jl:931 overwritten in module Compat at /Users/kiran/.julia/v0.4/Compat/src/Compat.jl:931.\n",
      "WARNING: Method definition write(AbstractString, Any...) in module Compat at /Users/kiran/.julia/v0.4/Compat/src/Compat.jl:920 overwritten in module Compat at /Users/kiran/.julia/v0.4/Compat/src/Compat.jl:920.\n",
      "WARNING: Method definition precision(Type{Main.Base.MPFR.BigFloat}) in module Compat at /Users/kiran/.julia/v0.4/Compat/src/Compat.jl:968 overwritten in module Compat at /Users/kiran/.julia/v0.4/Compat/src/Compat.jl:968.\n",
      "objc[6806]: Class TKApplication is implemented in both /System/Library/Frameworks/Tk.framework/Versions/8.5/Tk and /Users/kiran/.julia/v0.4/Conda/deps/usr/lib/libtk8.5.dylib. One of the two will be used. Which one is undefined.\n",
      "objc[6806]: Class TKMenu is implemented in both /System/Library/Frameworks/Tk.framework/Versions/8.5/Tk and /Users/kiran/.julia/v0.4/Conda/deps/usr/lib/libtk8.5.dylib. One of the two will be used. Which one is undefined.\n",
      "objc[6806]: Class TKContentView is implemented in both /System/Library/Frameworks/Tk.framework/Versions/8.5/Tk and /Users/kiran/.julia/v0.4/Conda/deps/usr/lib/libtk8.5.dylib. One of the two will be used. Which one is undefined.\n",
      "objc[6806]: Class TKWindow is implemented in both /System/Library/Frameworks/Tk.framework/Versions/8.5/Tk and /Users/kiran/.julia/v0.4/Conda/deps/usr/lib/libtk8.5.dylib. One of the two will be used. Which one is undefined.\n",
      "/Users/kiran/.julia/v0.4/Conda/deps/usr/lib/python2.7/site-packages/matplotlib/font_manager.py:273: UserWarning: Matplotlib is building the font cache using fc-list. This may take a moment.\n",
      "  warnings.warn('Matplotlib is building the font cache using fc-list. This may take a moment.')\n",
      "\n",
      "WARNING: deprecated syntax \"run (\" at /Users/kiran/Documents/Projects/UNSflow/src/postprocess.jl:280.\n",
      "Use \"run(\" instead.\n"
     ]
    }
   ],
   "source": [
    "workspace()\n",
    "include(\"../src/UNSflow.jl\")\n",
    "using UNSflow"
   ]
  },
  {
   "cell_type": "markdown",
   "metadata": {},
   "source": [
    "### Structural and aerodynamic parameters"
   ]
  },
  {
   "cell_type": "code",
   "execution_count": 2,
   "metadata": {
    "collapsed": false
   },
   "outputs": [
    {
     "data": {
      "text/plain": [
       "0.0"
      ]
     },
     "execution_count": 2,
     "metadata": {},
     "output_type": "execute_result"
    }
   ],
   "source": [
    "c = 0.29; #m, Chord\n",
    "mass = 6.5 # + 7.0; %kg, Mass from base and typical seccion\n",
    "airdensity = 1.119 #kg/m^3   ### Structural definitions\n",
    "pvt = 0.43105  #Elastic Axis, Percentage from LE Pivot(0-1)\n",
    "\n",
    "w_h = 2.38*2*pi  # rad/s Natural Frequency for H\n",
    "w_alpha = 4.29*2*pi  #rad/s Natural Frequency for Alpha\n",
    "\n",
    "x_alpha = 0.0275/c #Distance between ea and cg divided by c %Static Unbalance\n",
    "r_alpha = 0.064/(c/2) # 2*sqrt(Itheta/(m*c^2)) %Radius of Gyration (Admensional)\n",
    "kappa = pi*airdensity*c^2/(4*mass/0.75) \n",
    "\n",
    "w_alphadot = 0.\n",
    "w_hdot = 1.\n",
    "cubic_h_1 = 1.\n",
    "cubic_h_3 = 0.\n",
    "cubic_alpha_1 = 1.\n",
    "cubic_alpha_3 = 0."
   ]
  },
  {
   "cell_type": "markdown",
   "metadata": {},
   "source": [
    "### Initial condition"
   ]
  },
  {
   "cell_type": "code",
   "execution_count": 3,
   "metadata": {
    "collapsed": false
   },
   "outputs": [
    {
     "data": {
      "text/plain": [
       "0"
      ]
     },
     "execution_count": 3,
     "metadata": {},
     "output_type": "execute_result"
    }
   ],
   "source": [
    "alpha_init = 10*pi/180\n",
    "alphadot_init = 0.\n",
    "h_init = 0.\n",
    "hdot_init = 0.\n",
    "udot = 0\n"
   ]
  },
  {
   "cell_type": "markdown",
   "metadata": {},
   "source": [
    "### Simulation control"
   ]
  },
  {
   "cell_type": "code",
   "execution_count": 4,
   "metadata": {
    "collapsed": false
   },
   "outputs": [
    {
     "data": {
      "text/plain": [
       "UNSflow.DelVortDef(1,500,10.0)"
      ]
     },
     "execution_count": 4,
     "metadata": {},
     "output_type": "execute_result"
    }
   ],
   "source": [
    "dt = 0.015\n",
    "lespcrit = [21;] # High value, No LEV shedding\n",
    "del = DelVortDef(1, 500, 10)\n",
    "\n"
   ]
  },
  {
   "cell_type": "markdown",
   "metadata": {},
   "source": [
    "### Case 1"
   ]
  },
  {
   "cell_type": "code",
   "execution_count": 5,
   "metadata": {
    "collapsed": false
   },
   "outputs": [
    {
     "data": {
      "text/plain": [
       "(\n",
       "1000x8 Array{Float64,2}:\n",
       " 0.000483333  0.174533   0.0          …  19.1198    3.32173    -0.575909 \n",
       " 0.000966667  0.174533   0.0              0.617932  0.0585594   0.0731989\n",
       " 0.00145      0.174533   0.0              0.549322  0.0462447   0.0112673\n",
       " 0.00193333   0.17451    6.46614e-6       0.675085  0.0673498   0.0340981\n",
       " 0.00241667   0.174459   1.27675e-5       0.663285  0.0641967   0.0445064\n",
       " 0.0029       0.174378   1.88567e-5   …   0.647813  0.0604302   0.054442 \n",
       " 0.00338333   0.174268   2.47881e-5       0.635555  0.0572526   0.0625699\n",
       " 0.00386667   0.174128   3.05609e-5       0.625156  0.0544237   0.0692623\n",
       " 0.00435      0.17396    3.61726e-5       0.616229  0.0518738   0.0748614\n",
       " 0.00483333   0.173764   4.16215e-5       0.608422  0.0495399   0.0796433\n",
       " 0.00531667   0.173539   4.69062e-5   …   0.60147   0.0473746   0.0837974\n",
       " 0.0058       0.173285   5.20253e-5       0.595165  0.0453409   0.0874608\n",
       " 0.00628333   0.173004   5.69779e-5       0.589325  0.0434064   0.0907393\n",
       " ⋮                                    ⋱   ⋮                              \n",
       " 0.478017     0.13281   -0.000341087      0.602484  0.0430109   0.0802688\n",
       " 0.4785       0.133317  -0.000332091      0.602271  0.0426093   0.0814511\n",
       " 0.478983     0.133804  -0.000323144  …   0.601968  0.0421888   0.0826203\n",
       " 0.479467     0.13427   -0.000314249      0.601575  0.0417496   0.0837763\n",
       " 0.47995      0.134716  -0.000305406      0.601093  0.0412921   0.0849189\n",
       " 0.480433     0.135141  -0.000296617      0.600522  0.0408166   0.0860479\n",
       " 0.480917     0.135544  -0.000287884      0.599862  0.0403234   0.0871632\n",
       " 0.4814       0.135927  -0.000279207  …   0.599112  0.0398128   0.0882646\n",
       " 0.481883     0.136289  -0.000270588      0.598274  0.039285    0.089352 \n",
       " 0.482367     0.13663   -0.000262028      0.597347  0.0387405   0.0904252\n",
       " 0.48285      0.13695   -0.000253528      0.59633   0.0381795   0.0914842\n",
       " 0.483333     0.137248  -0.00024509       0.595227  0.0376026   0.0925286,\n",
       "\n",
       "UNSflow.TwoDSurf_2DOF(0.29,9.0,\"FlatPlate\",0.43105,70,35,[0.0,0.0,0.0,0.0,0.0,0.0,0.0,0.0,0.0,0.0  …  0.0,0.0,0.0,0.0,0.0,0.0,0.0,0.0,0.0,0.0],[0.0,0.0,0.0,0.0,0.0,0.0,0.0,0.0,0.0,0.0  …  0.0,0.0,0.0,0.0,0.0,0.0,0.0,0.0,0.0,0.0],[0.0,0.0455303,0.0910607,0.136591,0.182121,0.227652,0.273182,0.318712,0.364243,0.409773  …  2.73182,2.77735,2.82288,2.86841,2.91394,2.95947,3.005,3.05053,3.09606,3.14159],[0.0,0.000150267,0.000600758,0.00135054,0.00239805,0.00374113,0.00537699,0.00730224,0.00951289,0.0120044  …  0.277996,0.280487,0.282698,0.284623,0.286259,0.287602,0.288649,0.289399,0.28985,0.29],UNSflow.TwoDOFPar(0.09482758620689656,0.44137931034482764,0.008528327517829698,26.954864967800425,14.953981031087414,0.0,1.0,1.0,0.0,1.0,0.0),UNSflow.KinemPar2DOF(0.13724827121195066,-0.00024509001983709513,0.5742586087221361,0.01732860998187191,9.0,0.0,-90.71218946143031,-0.27873898804980674,0.13724827121195066,0.13724827121195066,0.13724827121195066,-0.00024509001983709513,-0.00024509001983709513,-0.00024509001983709513,0.5742586087221361,0.5742586087221361,0.5742586087221361,0.01732860998187191,0.01732860998187191,0.01732860998187191,-90.5904805640063,-90.5904805640063,-90.5904805640063,-0.27366750053698546,-0.27366750053698546,-0.27366750053698546),[-4.63894,-4.63879,-4.63834,-4.6376,-4.63656,-4.63523,-4.63361,-4.6317,-4.62951,-4.62704  …  -4.3633,-4.36083,-4.35864,-4.35673,-4.35511,-4.35378,-4.35274,-4.352,-4.35155,-4.3514],[0.0169005,0.0168799,0.0168181,0.0167153,0.0165717,0.0163876,0.0161633,0.0158994,0.0155963,0.0152548  …  -0.0212107,-0.0215522,-0.0218553,-0.0221192,-0.0223435,-0.0225276,-0.0226712,-0.022774,-0.0228358,-0.0228564],[-0.0224529,-0.0224567,-0.022468,-0.022487,-0.0225135,-0.0225476,-0.0225894,-0.0226388,-0.022696,-0.0227609  …  -0.0566112,-0.0601152,-0.0639668,-0.067907,-0.0712928,-0.0734151,-0.0743155,-0.074576,-0.0746109,-0.0746045],[-0.2713,-0.27138,-0.271618,-0.272017,-0.272576,-0.273296,-0.274178,-0.275225,-0.276438,-0.277819  …  -0.786182,-0.818539,-0.852771,-0.886877,-0.916127,-0.935395,-0.944998,-0.94912,-0.950727,-0.951133],[-0.870589,-0.870596,-0.870616,-0.87065,-0.870694,-0.870747,-0.870807,-0.870869,-0.870929,-0.870983  …  -0.515516,-0.484415,-0.451248,-0.418029,-0.38953,-0.370924,-0.36189,-0.358202,-0.356864,-0.356548],[0.0838620196008622],[-0.0210847,0.0121056,-0.00598737,0.00327757,-0.00183641,0.000989859,-0.000469217,0.000145758,5.10539e-5,-0.000163844  …  1.93253e-5,-1.96967e-5,1.87413e-5,-1.6884e-5,1.44846e-5,-1.18354e-5,9.16315e-6,-6.63411e-6,4.36123e-6,-2.41209e-6],[1.178956167552121],[-0.5849391947739268,-0.4761354776636004,0.26934537784614987],[0.0838620196008622],[-0.021084732656836087,0.012105593259118612,-0.005987368426080087],[UNSflow.TwoDVort(-4.638864752445556,0.016890163890325237,0.01992529138569435,0.0058,0.0,0.0),UNSflow.TwoDVort(-4.638566922456316,0.016848984195498046,0.019901095825543884,0.0058,0.0,0.0),UNSflow.TwoDVort(-4.637971879775964,0.01676671015704962,0.019852749352132087,0.0058,0.0,0.0),UNSflow.TwoDVort(-4.637080857721335,0.016643512300488383,0.01978030883714698,0.0058,0.0,0.0),UNSflow.TwoDVort(-4.635895703071693,0.01647964597218523,0.019683884145804145,0.0058,0.0,0.0),UNSflow.TwoDVort(-4.634418872241021,0.01627545081012905,0.01956366230966669,0.0058,0.0,0.0),UNSflow.TwoDVort(-4.632653426186748,0.01603135003997508,0.019419828814199985,0.0058,0.0,0.0),UNSflow.TwoDVort(-4.6306030240654135,0.015747849597845264,0.019252562235856148,0.0058,0.0,0.0),UNSflow.TwoDVort(-4.628271915648522,0.015425537081698306,0.0190621503263944,0.0058,0.0,0.0),UNSflow.TwoDVort(-4.625664932514253,0.015065080533443107,0.018848971394545968,0.0058,0.0,0.0)  …  UNSflow.TwoDVort(-4.364674419360889,-0.021020975514233306,-0.0005454528049536596,0.0058,0.0,0.0),UNSflow.TwoDVort(-4.362067436226624,-0.02138143206248848,-0.0005409790687186682,0.0058,0.0,0.0),UNSflow.TwoDVort(-4.359736327809742,-0.021703744578635456,-0.0005019588741243262,0.0058,0.0,0.0),UNSflow.TwoDVort(-4.357685925688408,-0.02198724502076529,-0.00042793624574097555,0.0058,0.0,0.0),UNSflow.TwoDVort(-4.35592047963413,-0.02223134579091926,-0.000326411058210662,0.0058,0.0,0.0),UNSflow.TwoDVort(-4.354443648803457,-0.02243554095297548,-0.00021737022558147439,0.0058,0.0,0.0),UNSflow.TwoDVort(-4.35325849415381,-0.02259940728127862,-0.00012425962918378097,0.0058,0.0,0.0),UNSflow.TwoDVort(-4.3523674720991785,-0.022722605137839816,-5.9486622259035395e-5,0.0058,0.0,0.0),UNSflow.TwoDVort(-4.351772429418826,-0.022804879176288248,-2.1513538565169714e-5,0.0058,0.0,0.0),UNSflow.TwoDVort(-4.3514745994295865,-0.02284605887111544,-4.181490324651675e-6,0.0058,0.0,0.0)],[21.0],Int8[0]),UNSflow.TwoDFlowField(UNSflow.ConstDef(0.0),UNSflow.ConstDef(0.0),[0.0],[0.0],[UNSflow.TwoDVort(-1.574930650244356,0.20725047691359247,-0.006983992335899569,0.0058,-1.1577389033150356,0.7277504463318915),UNSflow.TwoDVort(-1.5767069277591237,0.20387051898219335,-0.00706954213760029,0.0058,-0.9878759924383766,0.671406356024982),UNSflow.TwoDVort(-1.5781898490763206,0.2008167548028104,-0.007154020936771886,0.0058,-0.8263657261956215,0.6561836898508412),UNSflow.TwoDVort(-1.5843428341770847,0.19641455886218215,-0.007237415105737822,0.0058,-0.9638837205088109,0.5181103248001381),UNSflow.TwoDVort(-1.59538333472617,0.18839408716074627,-0.007319711143530286,0.0058,-1.0626875775923919,0.030441625419624016),UNSflow.TwoDVort(-1.5923509070394761,0.18618810099637806,-0.0074008956789469536,0.0058,-0.680728383597901,0.39567953596180816),UNSflow.TwoDVort(-1.5904426569436834,0.18756942980158126,-0.007480955474038398,0.0058,-0.7781917911898707,0.5914552764871468),UNSflow.TwoDVort(-1.5881708842105084,0.1878554856279887,-0.0075598774276620356,0.0058,-0.7225262416824482,0.8240668626392744),UNSflow.TwoDVort(-1.603853173166339,0.17768542271674856,-0.007637648578959811,0.0058,-1.0971388760942018,0.3154427066993277),UNSflow.TwoDVort(-1.611804167335413,0.162648995454849,-0.007714256110660387,0.0058,-0.4554599899994149,0.26338939189005695)  …  UNSflow.TwoDVort(-4.310454286849151,-0.028486827428799415,-0.004334064928247497,0.0058,-0.06641089630750943,-1.0693462470241843),UNSflow.TwoDVort(-4.314787087848015,-0.028027516587880483,-0.00424504463283269,0.0058,-0.07088912751288487,-1.0873989473230306),UNSflow.TwoDVort(-4.319116486020942,-0.027555326612669653,-0.00415544575317099,0.0058,-0.07558021624775914,-1.1067838934947092),UNSflow.TwoDVort(-4.3234424170379695,-0.027069892165711828,-0.004065284377337457,0.0058,-0.08054537772881899,-1.1278866370666674),UNSflow.TwoDVort(-4.327764793299276,-0.026570685495783446,-0.003974574775412238,0.0058,-0.08587908126610823,-1.1512791271604481),UNSflow.TwoDVort(-4.332083489214339,-0.02605693324982528,-0.003883329610535559,0.0058,-0.09173784669374678,-1.1778631454613862),UNSflow.TwoDVort(-4.336398313523138,-0.025527468363262775,-0.0037915610993702565,0.0058,-0.09840678612937806,-1.2091747670950799),UNSflow.TwoDVort(-4.3407089515795265,-0.024980443077906138,-0.0036992800606517632,0.0058,-0.1064642584575585,-1.248056144633498),UNSflow.TwoDVort(-4.345014833182576,-0.024412734228789885,-0.003606501304446851,0.0058,-0.11701755087344917,-1.299348818751484),UNSflow.TwoDVort(-4.3493148965668205,-0.023819039154322624,-0.0035132518868758577,0.0058,-0.12841954380473286,-1.3515059074700218)],UNSflow.TwoDVort[],UNSflow.TwoDVort[]))"
      ]
     },
     "execution_count": 5,
     "metadata": {},
     "output_type": "execute_result"
    }
   ],
   "source": [
    "u = 9\n",
    "\n",
    "kinem = KinemPar2DOF(alpha_init, h_init, alphadot_init, hdot_init, u, udot, 0., 0., 0., 0., 0., 0., 0., 0., 0., 0., 0., 0., 0., 0., 0., 0., 0., 0., 0., 0.)\n",
    "\n",
    "strpar = TwoDOFPar(x_alpha, r_alpha, kappa, w_alpha, w_h, w_alphadot, w_hdot, cubic_h_1, cubic_h_3, cubic_alpha_1, cubic_alpha_3)\n",
    "\n",
    "surf = TwoDSurf_2DOF(c, u, \"FlatPlate\", pvt, 70, 35, strpar, kinem, lespcrit)\n",
    "\n",
    "curfield = TwoDFlowField()\n",
    "\n",
    "nsteps = 150000\n",
    "\n",
    "mat, surf, curfield = ldvm(surf, curfield, nsteps, dt, del)\n"
   ]
  },
  {
   "cell_type": "code",
   "execution_count": 10,
   "metadata": {
    "collapsed": false
   },
   "outputs": [
    {
     "data": {
      "text/plain": [
       "true"
      ]
     },
     "execution_count": 10,
     "metadata": {},
     "output_type": "execute_result"
    }
   ],
   "source": [
    "using PyPlot\n"
   ]
  },
  {
   "cell_type": "code",
   "execution_count": 12,
   "metadata": {
    "collapsed": false
   },
   "outputs": [
    {
     "data": {
      "text/plain": [
       "1-element Array{Any,1}:\n",
       " PyObject <matplotlib.lines.Line2D object at 0x31f4d39d0>"
      ]
     },
     "execution_count": 12,
     "metadata": {},
     "output_type": "execute_result"
    }
   ],
   "source": [
    "PyPlot.plot(mat[:,1],mat[:,2])"
   ]
  },
  {
   "cell_type": "code",
   "execution_count": null,
   "metadata": {
    "collapsed": true
   },
   "outputs": [],
   "source": []
  }
 ],
 "metadata": {
  "kernelspec": {
   "display_name": "Julia 0.4.5",
   "language": "julia",
   "name": "julia-0.4"
  },
  "language_info": {
   "file_extension": ".jl",
   "mimetype": "application/julia",
   "name": "julia",
   "version": "0.4.5"
  }
 },
 "nbformat": 4,
 "nbformat_minor": 0
}
