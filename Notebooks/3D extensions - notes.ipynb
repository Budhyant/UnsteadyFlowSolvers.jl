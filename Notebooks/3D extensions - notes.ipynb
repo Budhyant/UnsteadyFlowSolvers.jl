{
 "cells": [
  {
   "cell_type": "markdown",
   "metadata": {},
   "source": [
    "### Testing 3D data type \n",
    "\n"
   ]
  },
  {
   "cell_type": "markdown",
   "metadata": {},
   "source": [
    "### First test a steady case - 5 deg AoA"
   ]
  },
  {
   "cell_type": "code",
   "execution_count": 1,
   "metadata": {
    "collapsed": false
   },
   "outputs": [
    {
     "data": {
      "text/plain": [
       "UNSflow"
      ]
     },
     "execution_count": 1,
     "metadata": {},
     "output_type": "execute_result"
    }
   ],
   "source": [
    "include(\"../src/UNSflow.jl\")\n",
    "    "
   ]
  },
  {
   "cell_type": "code",
   "execution_count": 2,
   "metadata": {
    "collapsed": false
   },
   "outputs": [],
   "source": [
    "using UNSflow"
   ]
  },
  {
   "cell_type": "markdown",
   "metadata": {},
   "source": [
    "### Run a 2D case first"
   ]
  },
  {
   "cell_type": "code",
   "execution_count": 3,
   "metadata": {
    "collapsed": false,
    "scrolled": true
   },
   "outputs": [
    {
     "name": "stderr",
     "output_type": "stream",
     "text": [
      "WARNING: slice is deprecated, use view instead.\n",
      " in depwarn(::String, ::Symbol) at ./deprecated.jl:64\n",
      " in slice(::Array{Float64,2}, ::Vararg{Any,N}) at ./deprecated.jl:30\n",
      " in sumabs2j at /Users/kramesh/.julia/v0.5/NLsolve/src/utils.jl:1 [inlined]\n",
      " in trust_region_(::NLsolve.DifferentiableMultivariateFunction, ::Array{Float64,1}, ::Float64, ::Float64, ::Int64, ::Bool, ::Bool, ::Bool, ::Float64, ::Bool) at /Users/kramesh/.julia/v0.5/NLsolve/src/trust_region.jl:105\n",
      " in #nlsolve#17(::Symbol, ::Float64, ::Float64, ::Int64, ::Bool, ::Bool, ::Bool, ::Function, ::Float64, ::Bool, ::NLsolve.#nlsolve, ::NLsolve.DifferentiableMultivariateFunction, ::Array{Float64,1}) at /Users/kramesh/.julia/v0.5/NLsolve/src/nlsolve_func_defs.jl:24\n",
      " in ldvm(::UNSflow.TwoDSurf, ::UNSflow.TwoDFlowField, ::Int64, ::Float64, ::UNSflow.DelVortDef, ::Array{Float64,2}, ::Float64) at /Users/kramesh/Documents/Workspace/UNSflow/src/solvers.jl:399\n",
      " in ldvm(::UNSflow.TwoDSurf, ::UNSflow.TwoDFlowField, ::Int64) at /Users/kramesh/Documents/Workspace/UNSflow/src/solvers.jl:366\n",
      " in include_string(::String, ::String) at ./loading.jl:441\n",
      " in execute_request(::ZMQ.Socket, ::IJulia.Msg) at /Users/kramesh/.julia/v0.5/IJulia/src/execute_request.jl:169\n",
      " in eventloop(::ZMQ.Socket) at /Users/kramesh/.julia/v0.5/IJulia/src/eventloop.jl:8\n",
      " in (::IJulia.##9#15)() at ./task.jl:360\n",
      "while loading In[3], in expression starting on line 10\n",
      "WARNING: slice is deprecated, use view instead.\n",
      " in depwarn(::String, ::Symbol) at ./deprecated.jl:64\n",
      " in slice(::Array{Float64,2}, ::Vararg{Any,N}) at ./deprecated.jl:30\n",
      " in sumabs2j at /Users/kramesh/.julia/v0.5/NLsolve/src/utils.jl:1 [inlined]\n",
      " in trust_region_(::NLsolve.DifferentiableMultivariateFunction, ::Array{Float64,1}, ::Float64, ::Float64, ::Int64, ::Bool, ::Bool, ::Bool, ::Float64, ::Bool) at /Users/kramesh/.julia/v0.5/NLsolve/src/trust_region.jl:145\n",
      " in #nlsolve#17(::Symbol, ::Float64, ::Float64, ::Int64, ::Bool, ::Bool, ::Bool, ::Function, ::Float64, ::Bool, ::NLsolve.#nlsolve, ::NLsolve.DifferentiableMultivariateFunction, ::Array{Float64,1}) at /Users/kramesh/.julia/v0.5/NLsolve/src/nlsolve_func_defs.jl:24\n",
      " in ldvm(::UNSflow.TwoDSurf, ::UNSflow.TwoDFlowField, ::Int64, ::Float64, ::UNSflow.DelVortDef, ::Array{Float64,2}, ::Float64) at /Users/kramesh/Documents/Workspace/UNSflow/src/solvers.jl:399\n",
      " in ldvm(::UNSflow.TwoDSurf, ::UNSflow.TwoDFlowField, ::Int64) at /Users/kramesh/Documents/Workspace/UNSflow/src/solvers.jl:366\n",
      " in include_string(::String, ::String) at ./loading.jl:441\n",
      " in execute_request(::ZMQ.Socket, ::IJulia.Msg) at /Users/kramesh/.julia/v0.5/IJulia/src/execute_request.jl:169\n",
      " in eventloop(::ZMQ.Socket) at /Users/kramesh/.julia/v0.5/IJulia/src/eventloop.jl:8\n",
      " in (::IJulia.##9#15)() at ./task.jl:360\n",
      "while loading In[3], in expression starting on line 10\n"
     ]
    },
    {
     "data": {
      "text/plain": [
       "(\n",
       "[0.015 0.0872665 … 0.83672 -4.4864; 0.03 0.0872665 … 0.0142337 -0.0913623; … ; 9.99 0.0872665 … 0.00278776 -0.128292; 10.005 0.0872665 … 0.00278366 -0.128304],\n",
       "\n",
       "UNSflow.TwoDSurf(1.0,1.0,\"FlatPlate\",0.0,70,35,UNSflow.KinemDef(UNSflow.ConstDef(0.08726646259971647),UNSflow.ConstDef(0.0),UNSflow.ConstDef(1.0)),[0.0,0.0,0.0,0.0,0.0,0.0,0.0,0.0,0.0,0.0  …  0.0,0.0,0.0,0.0,0.0,0.0,0.0,0.0,0.0,0.0],[0.0,0.0,0.0,0.0,0.0,0.0,0.0,0.0,0.0,0.0  …  0.0,0.0,0.0,0.0,0.0,0.0,0.0,0.0,0.0,0.0],[0.0,0.0455303,0.0910607,0.136591,0.182121,0.227652,0.273182,0.318712,0.364243,0.409773  …  2.73182,2.77735,2.82288,2.86841,2.91394,2.95947,3.005,3.05053,3.09606,3.14159],[0.0,0.000518163,0.00207158,0.00465703,0.00826915,0.0129005,0.0185414,0.0251802,0.0328031,0.0413943  …  0.958606,0.967197,0.97482,0.981459,0.9871,0.991731,0.995343,0.997928,0.999482,1.0],UNSflow.KinemPar(0.08726646259971647,0.0,0.0,0.0,1.0,0.0),[-11.005,-11.0045,-11.0029,-11.0004,-10.9968,-10.9921,-10.9865,-10.9799,-10.9723,-10.9638  …  -10.05,-10.0415,-10.0339,-10.0273,-10.0217,-10.017,-10.0134,-10.0109,-10.0093,-10.0088],[0.0,-4.51609e-5,-0.00018055,-0.000405887,-0.000720704,-0.00112435,-0.00161599,-0.00219459,-0.00285898,-0.00360776  …  -0.083548,-0.0842968,-0.0849611,-0.0855398,-0.0860314,-0.086435,-0.0867499,-0.0869752,-0.0871106,-0.0871557],[-0.000124372,-0.000124371,-0.000124365,-0.000124357,-0.000124345,-0.000124329,-0.000124311,-0.000124289,-0.000124265,-0.000124238  …  -0.000158086,-0.000162614,-0.000167564,-0.000172525,-0.000176526,-0.000178564,-0.000178837,-0.000178354,-0.000177839,-0.000177633],[-0.00472112,-0.00472151,-0.00472268,-0.00472462,-0.00472734,-0.00473084,-0.00473511,-0.00474016,-0.00474599,-0.00475258  …  -0.0062343,-0.00631078,-0.00639172,-0.00647229,-0.00654088,-0.00658501,-0.00660572,-0.00661361,-0.00661615,-0.00661667],[-0.0824417,-0.0824414,-0.0824402,-0.0824383,-0.0824356,-0.0824321,-0.0824278,-0.0824228,-0.082417,-0.0824104  …  -0.0809314,-0.0808548,-0.0807737,-0.080693,-0.0806244,-0.0805802,-0.0805596,-0.0805518,-0.0805493,-0.0805488],[0.0818021],[-0.000799042,0.000235586,-0.000118562,6.66832e-5,-3.78868e-5,2.04796e-5,-9.58977e-6,2.75849e-6,1.41656e-6,-3.80748e-6  …  4.32125e-7,-4.39486e-7,4.17505e-7,-3.75629e-7,3.21848e-7,-2.62644e-7,2.03041e-7,-1.46716e-7,9.61618e-8,-5.28622e-8],[0.000556978],[0.00015547,-4.81515e-5,2.38918e-5],[0.0818021],[-0.000799042,0.000235586,-0.000118562],UNSflow.TwoDVort[UNSflow.TwoDVort(-11.0047,-2.25804e-5,0.007447,0.02,0.0,0.0),UNSflow.TwoDVort(-11.0037,-0.000112855,0.00743918,0.02,0.0,0.0),UNSflow.TwoDVort(-11.0016,-0.000293218,0.00742357,0.02,0.0,0.0),UNSflow.TwoDVort(-10.9986,-0.000563295,0.00740019,0.02,0.0,0.0),UNSflow.TwoDVort(-10.9945,-0.000922526,0.00736909,0.02,0.0,0.0),UNSflow.TwoDVort(-10.9893,-0.00137017,0.00733035,0.02,0.0,0.0),UNSflow.TwoDVort(-10.9832,-0.00190529,0.00728403,0.02,0.0,0.0),UNSflow.TwoDVort(-10.9761,-0.00252679,0.00723025,0.02,0.0,0.0),UNSflow.TwoDVort(-10.968,-0.00323337,0.00716911,0.02,0.0,0.0),UNSflow.TwoDVort(-10.959,-0.00402357,0.00710074,0.02,0.0,0.0)  …  UNSflow.TwoDVort(-10.0548,-0.0831322,0.000329672,0.02,0.0,0.0),UNSflow.TwoDVort(-10.0458,-0.0839224,0.000264096,0.02,0.0,0.0),UNSflow.TwoDVort(-10.0377,-0.084629,0.000205745,0.02,0.0,0.0),UNSflow.TwoDVort(-10.0306,-0.0852505,0.000154747,0.02,0.0,0.0),UNSflow.TwoDVort(-10.0245,-0.0857856,0.000111146,0.02,0.0,0.0),UNSflow.TwoDVort(-10.0193,-0.0862332,7.48668e-5,0.02,0.0,0.0),UNSflow.TwoDVort(-10.0152,-0.0865924,4.57924e-5,0.02,0.0,0.0),UNSflow.TwoDVort(-10.0122,-0.0868625,2.38837e-5,0.02,0.0,0.0),UNSflow.TwoDVort(-10.0101,-0.0870429,9.20491e-6,0.02,0.0,0.0),UNSflow.TwoDVort(-10.0091,-0.0871332,1.84287e-6,0.02,0.0,0.0)],[18.0],Int8[0]),UNSflow.TwoDFlowField(UNSflow.ConstDef(0.0),UNSflow.ConstDef(0.0),[0.0],[0.0],UNSflow.TwoDVort[UNSflow.TwoDVort(-0.220652,-0.0315957,-0.0418654,0.02,0.0353429,-0.0162015),UNSflow.TwoDVort(-0.202569,0.0340705,-0.00160178,0.02,-0.0687934,0.00858614),UNSflow.TwoDVort(-0.142972,0.0576085,-0.00712348,0.02,-0.088826,0.0967298),UNSflow.TwoDVort(-0.12598,0.0130827,-0.00529475,0.02,0.00690782,0.112997),UNSflow.TwoDVort(-0.239452,0.0685663,-0.00477537,0.02,-0.118352,-0.0535718),UNSflow.TwoDVort(-0.10509,-0.0884082,-0.0042714,0.02,0.0625767,0.0797253),UNSflow.TwoDVort(-0.177487,0.083837,-0.00389213,0.02,-0.135668,0.0333275),UNSflow.TwoDVort(-0.195881,0.0735185,-0.00358774,0.02,-0.11208,-0.0114731),UNSflow.TwoDVort(-0.170731,0.0480661,-0.0033379,0.02,-0.0562825,0.0261215),UNSflow.TwoDVort(-0.142886,0.0417576,-0.00312795,0.02,-0.0253243,0.0911563)  …  UNSflow.TwoDVort(-9.86715,-0.097765,-3.07294e-5,0.02,-0.00445166,-0.0583118),UNSflow.TwoDVort(-9.88208,-0.09689,-3.06369e-5,0.02,-0.00459369,-0.0596895),UNSflow.TwoDVort(-9.89701,-0.0959943,-3.05447e-5,0.02,-0.00474672,-0.0611816),UNSflow.TwoDVort(-9.91194,-0.0950763,-3.04529e-5,0.02,-0.00491279,-0.062811),UNSflow.TwoDVort(-9.92687,-0.0941339,-3.03615e-5,0.02,-0.00509469,-0.0646095),UNSflow.TwoDVort(-9.94179,-0.0931646,-3.02704e-5,0.02,-0.00529648,-0.0666242),UNSflow.TwoDVort(-9.95671,-0.092165,-3.01798e-5,0.02,-0.00552447,-0.0689283),UNSflow.TwoDVort(-9.97163,-0.091131,-3.00895e-5,0.02,-0.00578927,-0.0716469),UNSflow.TwoDVort(-9.98654,-0.0900562,-2.99997e-5,0.02,-0.00610856,-0.0749906),UNSflow.TwoDVort(-10.0015,-0.0889313,-2.99101e-5,0.02,-0.00647903,-0.0789139)],UNSflow.TwoDVort[],UNSflow.TwoDVort[]),0.0)"
      ]
     },
     "execution_count": 3,
     "metadata": {},
     "output_type": "execute_result"
    }
   ],
   "source": [
    "alphadef = ConstDef(5.*pi/180)\n",
    "hdef = ConstDef(0.)\n",
    "udef = ConstDef(1.)\n",
    "kinemdef = KinemDef(alphadef, hdef, udef) \n",
    "pvt = 0.0 #leading edge\n",
    "lespcrit = [18.;]\n",
    "surf = TwoDSurf(\"FlatPlate\", pvt, kinemdef,lespcrit)\n",
    "curfield = TwoDFlowField()\n",
    "nsteps = Int(round(10./0.015))\n",
    "mat2d, surf2d, curfield2d = ldvm(surf, curfield, nsteps)"
   ]
  },
  {
   "cell_type": "code",
   "execution_count": 4,
   "metadata": {
    "collapsed": false
   },
   "outputs": [
    {
     "data": {
      "image/png": "[encoded data removed]",
      "text/plain": [
       "PyPlot.Figure(PyObject <matplotlib.figure.Figure object at 0x323479050>)"
      ]
     },
     "metadata": {},
     "output_type": "display_data"
    },
    {
     "data": {
      "text/plain": [
       "0.5142235022388082"
      ]
     },
     "execution_count": 4,
     "metadata": {},
     "output_type": "execute_result"
    }
   ],
   "source": [
    "plot(mat2d[:,1],mat2d[:,6])\n",
    "mat2d[end,6]"
   ]
  },
  {
   "cell_type": "code",
   "execution_count": 5,
   "metadata": {
    "collapsed": true
   },
   "outputs": [],
   "source": [
    "# Theoretical value (2*pi*alpha) = 0.5483\n",
    "# 2D value = 0.5142\n",
    "# Error = 6% lower"
   ]
  },
  {
   "cell_type": "code",
   "execution_count": 6,
   "metadata": {
    "collapsed": false
   },
   "outputs": [
    {
     "data": {
      "text/plain": [
       "UNSflow.KinemDef3D(UNSflow.ConstDef(0.08726646259971647),UNSflow.ConstDef(0.0),UNSflow.ConstDef(1.0),\"Constant\",0,[0.0])"
      ]
     },
     "execution_count": 6,
     "metadata": {},
     "output_type": "execute_result"
    }
   ],
   "source": [
    "cref = 1.\n",
    "bref = 10.\n",
    "sref = 10.\n",
    "\n",
    "patch1 = patch(0., -5., 0., 0., \"FlatPlate\", 1., 0., 0.11, 10)\n",
    "patch2 = patch(0., 0., 0., 0., \"FlatPlate\", 1., 0., 0.11, 10)\n",
    "patch3 = patch(0., 5., 0., 0., \"FlatPlate\", 1., 0., 0.11, 5)\n",
    "patchdata = [patch1; patch2; patch3]\n",
    "\n",
    "alphadef = ConstDef(5.*pi/180)\n",
    "hdef = ConstDef(0.)\n",
    "udef = ConstDef(1.)\n",
    "kin = KinemDef3D(alphadef, hdef, udef)\n",
    "\n",
    "\n",
    "\n"
   ]
  },
  {
   "cell_type": "code",
   "execution_count": null,
   "metadata": {
    "collapsed": false
   },
   "outputs": [],
   "source": [
    "surf = ThreeDSurf(cref, bref, sref, patchdata, kin, 1., 70, 35, 21)\n",
    "field = ThreeDFlowField()\n",
    "dtstar = 0.0075\n",
    "nsteps =round(Int,10./dtstar) + 1\n",
    "mat3d, surf3d, field3d = LLT_ldvm(surf, field, nsteps, dtstar)\n"
   ]
  },
  {
   "cell_type": "code",
   "execution_count": null,
   "metadata": {
    "collapsed": false
   },
   "outputs": [],
   "source": [
    "plot(mat3d[:,1],mat3d[:,2])"
   ]
  },
  {
   "cell_type": "code",
   "execution_count": null,
   "metadata": {
    "collapsed": false
   },
   "outputs": [],
   "source": [
    "# Theoretical value = 0.4569\n",
    "# 3D value from LLT = 0.4164\n",
    "# 8% error lower\n"
   ]
  },
  {
   "cell_type": "code",
   "execution_count": null,
   "metadata": {
    "collapsed": false
   },
   "outputs": [],
   "source": [
    "for i = 1:surf.nspan\n",
    "    plot(surf.yle[i], surf3d[i].a0[1], \"x\")\n",
    "end"
   ]
  },
  {
   "cell_type": "code",
   "execution_count": null,
   "metadata": {
    "collapsed": true
   },
   "outputs": [],
   "source": [
    "### Now try the pitch ramp case\n"
   ]
  },
  {
   "cell_type": "code",
   "execution_count": null,
   "metadata": {
    "collapsed": false,
    "scrolled": true
   },
   "outputs": [],
   "source": [
    "alphadef = EldUpDef(45.*pi/180, pi/8, 0.8)\n",
    "hdef = ConstDef(0.)\n",
    "udef = ConstDef(1.)\n",
    "kinemdef = KinemDef(alphadef, hdef, udef) \n",
    "pvt = 0.0 #leading edge\n",
    "lespcrit = [18.;]\n",
    "surf = TwoDSurf(\"FlatPlate\", pvt, kinemdef,lespcrit)\n",
    "\n",
    "curfield = TwoDFlowField()\n",
    "dtstar = 0.0075\n",
    "nsteps = Int(round(2.5/0.0075))\n",
    "mat2d, surf2d, curfield2d = ldvm(surf, curfield, nsteps, dtstar)"
   ]
  },
  {
   "cell_type": "code",
   "execution_count": null,
   "metadata": {
    "collapsed": false
   },
   "outputs": [],
   "source": [
    "cref = 1.\n",
    "bref = 10.\n",
    "sref = 10.\n",
    "\n",
    "patch1 = patch(0., -5., 0., 0., \"FlatPlate\", 1., 0., 0.11, 10)\n",
    "patch2 = patch(0., 0., 0., 0., \"FlatPlate\", 1., 0., 0.11, 10)\n",
    "patch3 = patch(0., 5., 0., 0., \"FlatPlate\", 1., 0., 0.11, 5)\n",
    "patchdata = [patch1; patch2; patch3]\n",
    "\n",
    "alphadef = ConstDef(5.*pi/180)\n",
    "hdef = ConstDef(0.)\n",
    "udef = ConstDef(1.)\n",
    "kin = KinemDef3D(alphadef, hdef, udef)\n",
    "\n",
    "\n",
    "\n",
    "\n"
   ]
  },
  {
   "cell_type": "code",
   "execution_count": null,
   "metadata": {
    "collapsed": false
   },
   "outputs": [],
   "source": [
    "surf = ThreeDSurf(cref, bref, sref, patchdata, kin, 1., 70, 35, 21)\n",
    "field = ThreeDFlowField()\n",
    "dtstar = 0.0075\n",
    "nsteps =round(Int,10./dtstar) + 1\n",
    "mat3d, surf3d, field3d = LLT_ldvm(surf, field, nsteps, dtstar)\n",
    "\n"
   ]
  },
  {
   "cell_type": "code",
   "execution_count": null,
   "metadata": {
    "collapsed": false
   },
   "outputs": [],
   "source": [
    "plot(mat3d[:,1], mat3d[:,2])"
   ]
  },
  {
   "cell_type": "code",
   "execution_count": null,
   "metadata": {
    "collapsed": false
   },
   "outputs": [],
   "source": [
    "2.5/0.075"
   ]
  },
  {
   "cell_type": "code",
   "execution_count": null,
   "metadata": {
    "collapsed": true
   },
   "outputs": [],
   "source": []
  }
 ],
 "metadata": {
  "anaconda-cloud": {},
  "kernelspec": {
   "display_name": "Julia 0.5.0",
   "language": "julia",
   "name": "julia-0.5"
  },
  "language_info": {
   "file_extension": ".jl",
   "mimetype": "application/julia",
   "name": "julia",
   "version": "0.5.0"
  }
 },
 "nbformat": 4,
 "nbformat_minor": 1
}
