{
 "cells": [
  {
   "cell_type": "markdown",
   "metadata": {},
   "source": [
    "### Testing 3D data type \n",
    "\n"
   ]
  },
  {
   "cell_type": "code",
   "execution_count": 1,
   "metadata": {
    "collapsed": false
   },
   "outputs": [
    {
     "name": "stderr",
     "output_type": "stream",
     "text": [
      "WARNING: Method definition ldvm_E(UNSflow.TwoDSurf_2DOF, UNSflow.TwoDFlowField) in module UNSflow at /Users/kramesh/Documents/Workspace/UNSflow/src/solvers.jl:1037 overwritten at /Users/kramesh/Documents/Workspace/UNSflow/src/solvers.jl:1171.\n",
      "WARNING: Method definition ldvm_E(UNSflow.TwoDSurf_2DOF, UNSflow.TwoDFlowField, Int64) in module UNSflow at /Users/kramesh/Documents/Workspace/UNSflow/src/solvers.jl:1037 overwritten at /Users/kramesh/Documents/Workspace/UNSflow/src/solvers.jl:1171.\n",
      "WARNING: Method definition ldvm_E(UNSflow.TwoDSurf_2DOF, UNSflow.TwoDFlowField, Int64, Float64) in module UNSflow at /Users/kramesh/Documents/Workspace/UNSflow/src/solvers.jl:1037 overwritten at /Users/kramesh/Documents/Workspace/UNSflow/src/solvers.jl:1171.\n",
      "WARNING: Method definition ldvm_E(UNSflow.TwoDSurf_2DOF, UNSflow.TwoDFlowField, Int64, Float64, Any) in module UNSflow at /Users/kramesh/Documents/Workspace/UNSflow/src/solvers.jl:1037 overwritten at /Users/kramesh/Documents/Workspace/UNSflow/src/solvers.jl:1171.\n",
      "WARNING: Method definition ldvm_E(UNSflow.TwoDSurf_2DOF, UNSflow.TwoDFlowField, Int64, Float64, Any, Any) in module UNSflow at /Users/kramesh/Documents/Workspace/UNSflow/src/solvers.jl:1037 overwritten at /Users/kramesh/Documents/Workspace/UNSflow/src/solvers.jl:1171.\n",
      "WARNING: Method definition ldvm_E(UNSflow.TwoDSurf_2DOF, UNSflow.TwoDFlowField, Int64, Float64, Any, Any, Any) in module UNSflow at /Users/kramesh/Documents/Workspace/UNSflow/src/solvers.jl:1037 overwritten at /Users/kramesh/Documents/Workspace/UNSflow/src/solvers.jl:1171.\n"
     ]
    },
    {
     "data": {
      "text/plain": [
       "UNSflow"
      ]
     },
     "execution_count": 1,
     "metadata": {},
     "output_type": "execute_result"
    }
   ],
   "source": [
    "include(\"../src/UNSflow.jl\")\n",
    "    "
   ]
  },
  {
   "cell_type": "code",
   "execution_count": 2,
   "metadata": {
    "collapsed": false
   },
   "outputs": [],
   "source": [
    "using UNSflow"
   ]
  },
  {
   "cell_type": "code",
   "execution_count": 3,
   "metadata": {
    "collapsed": false
   },
   "outputs": [
    {
     "data": {
      "text/plain": [
       "UNSflow.KinemDef3D(UNSflow.EldUpDef(0.7853981633974483,0.39269908169872414,0.8),UNSflow.ConstDef(0.0),UNSflow.ConstDef(1.0),\"Constant\",0,[0.0])"
      ]
     },
     "execution_count": 3,
     "metadata": {},
     "output_type": "execute_result"
    }
   ],
   "source": [
    "cref = 1.\n",
    "bref = 10.\n",
    "sref = 10.\n",
    "\n",
    "patch1 = patch(0., -5., 0., 0., \"FlatPlate\", 1., 0., 50., 5)\n",
    "patch2 = patch(0., 0., 0., 0., \"FlatPlate\", 1., 0., 50., 5)\n",
    "patch3 = patch(0., 5., 0., 0., \"FlatPlate\", 1., 0., 50., 5)\n",
    "patchdata = [patch1; patch2; patch3]\n",
    "\n",
    "alphadef = EldUpDef(45*pi/180,pi/8,0.8)\n",
    "hdef = ConstDef(0.)\n",
    "udef = ConstDef(1.)\n",
    "kin = KinemDef3D(alphadef, hdef, udef)\n",
    "\n",
    "\n",
    "\n"
   ]
  },
  {
   "cell_type": "code",
   "execution_count": 4,
   "metadata": {
    "collapsed": false
   },
   "outputs": [
    {
     "data": {
      "text/plain": [
       "UNSflow.ThreeDSurf(1.0,10.0,10.0,1.0,UNSflow.patch[UNSflow.patch(0.0,-5.0,0.0,0.0,\"FlatPlate\",1.0,0.0,50.0,5),UNSflow.patch(0.0,0.0,0.0,0.0,\"FlatPlate\",1.0,0.0,50.0,5),UNSflow.patch(0.0,5.0,0.0,0.0,\"FlatPlate\",1.0,0.0,50.0,5)],70,11,35,70,UNSflow.KinemDef3D(UNSflow.EldUpDef(0.7853981633974483,0.39269908169872414,0.8),UNSflow.ConstDef(0.0),UNSflow.ConstDef(1.0),\"Constant\",0,[0.0]),[1.0,1.0,1.0,1.0,1.0,1.0,1.0,1.0,1.0,1.0,1.0,0.0,0.0,0.0,0.0,0.0],[0.0,0.0,0.0,0.0,0.0,0.0,0.0,0.0,0.0,0.0,0.0,0.0,0.0,0.0,0.0,0.0],[0.0 0.0 … 0.0 0.0; 0.0 0.0 … 0.0 0.0; … ; 0.0 0.0 … 0.0 0.0; 0.0 0.0 … 0.0 0.0],[0.0 0.0 … 0.0 0.0; 0.0 0.0 … 0.0 0.0; … ; 0.0 0.0 … 0.0 0.0; 0.0 0.0 … 0.0 0.0],[0.0,0.0455303,0.0910607,0.136591,0.182121,0.227652,0.273182,0.318712,0.364243,0.409773  …  2.73182,2.77735,2.82288,2.86841,2.91394,2.95947,3.005,3.05053,3.09606,3.14159],[0.0 0.0 … 0.0 0.0; 0.0 0.0 … 0.0 0.0; … ; 0.0 0.0 … 0.0 0.0; 0.0 0.0 … 0.0 0.0],[0.0,0.0,0.0,0.0,0.0,0.0,0.0,0.0,0.0,0.0,0.0,0.0,0.0,0.0,0.0,0.0],[-5.0,-5.0,-5.0,-5.0,-5.0,1.0,1.0,1.0,1.0,1.0,5.0,0.0,0.0,0.0,0.0,0.0],[0.0,0.0,0.0,0.0,0.0,0.0,0.0,0.0,0.0,0.0,0.0,0.0,0.0,0.0,0.0,0.0],UNSflow.KinemPar[UNSflow.KinemPar(6.12399e-13,0.0,1.51114e-11,0.0,1.0,0.0),UNSflow.KinemPar(6.12399e-13,0.0,1.51114e-11,0.0,1.0,0.0),UNSflow.KinemPar(6.12399e-13,0.0,1.51114e-11,0.0,1.0,0.0),UNSflow.KinemPar(6.12399e-13,0.0,1.51114e-11,0.0,1.0,0.0),UNSflow.KinemPar(6.12399e-13,0.0,1.51114e-11,0.0,1.0,0.0),UNSflow.KinemPar(6.12399e-13,0.0,1.51114e-11,0.0,1.0,0.0),UNSflow.KinemPar(6.12399e-13,0.0,1.51114e-11,0.0,1.0,0.0),UNSflow.KinemPar(6.12399e-13,0.0,1.51114e-11,0.0,1.0,0.0),UNSflow.KinemPar(6.12399e-13,0.0,1.51114e-11,0.0,1.0,0.0),UNSflow.KinemPar(6.12399e-13,0.0,1.51114e-11,0.0,1.0,0.0),UNSflow.KinemPar(6.12399e-13,0.0,1.51114e-11,0.0,1.0,0.0)],[-1.0 -1.0 … -1.0 -1.0; -1.0 -1.0 … -1.0 -1.0; … ; 0.0 0.0 … 0.0 0.0; 0.0 0.0 … 0.0 0.0],[0.0 0.0 … 0.0 0.0; 0.0 0.0 … 0.0 0.0; … ; 0.0 0.0 … 0.0 0.0; 0.0 0.0 … 0.0 0.0],[0.0 0.0 … 0.0 0.0; 0.0 0.0 … 0.0 0.0; … ; 0.0 0.0 … 0.0 0.0; 0.0 0.0 … 0.0 0.0],[0.0 0.0 … 0.0 0.0; 0.0 0.0 … 0.0 0.0; … ; 0.0 0.0 … 0.0 0.0; 0.0 0.0 … 0.0 0.0],[0.0 0.0 … 0.0 0.0; 0.0 0.0 … 0.0 0.0; … ; 0.0 0.0 … 0.0 0.0; 0.0 0.0 … 0.0 0.0],[0.0 0.0 … 0.0 0.0; 0.0 0.0 … 0.0 0.0; … ; 0.0 0.0 … 0.0 0.0; 0.0 0.0 … 0.0 0.0],[0.0,0.0,0.0,0.0,0.0,0.0,0.0,0.0,0.0,0.0,0.0],[0.0 0.0 … 0.0 0.0; 0.0 0.0 … 0.0 0.0; … ; 0.0 0.0 … 0.0 0.0; 0.0 0.0 … 0.0 0.0],[0.0,0.0,0.0,0.0,0.0,0.0,0.0,0.0,0.0,0.0,0.0],[0.0 0.0 0.0; 0.0 0.0 0.0; … ; 0.0 0.0 0.0; 0.0 0.0 0.0],[0.0,0.0,0.0,0.0,0.0,0.0,0.0,0.0,0.0,0.0,0.0],[0.0 0.0 0.0; 0.0 0.0 0.0; … ; 0.0 0.0 0.0; 0.0 0.0 0.0],UNSflow.ThreeDVort[UNSflow.ThreeDVort([0.0,0.0,0.0],[0.0,0.0,0.0],0.02,0.0,0.0,0.0) UNSflow.ThreeDVort([0.0,0.0,0.0],[0.0,0.0,0.0],0.02,0.0,0.0,0.0) … UNSflow.ThreeDVort([0.0,0.0,0.0],[0.0,0.0,0.0],0.02,0.0,0.0,0.0) UNSflow.ThreeDVort([0.0,0.0,0.0],[0.0,0.0,0.0],0.02,0.0,0.0,0.0); UNSflow.ThreeDVort([0.0,0.0,0.0],[0.0,0.0,0.0],0.02,0.0,0.0,0.0) UNSflow.ThreeDVort([0.0,0.0,0.0],[0.0,0.0,0.0],0.02,0.0,0.0,0.0) … UNSflow.ThreeDVort([0.0,0.0,0.0],[0.0,0.0,0.0],0.02,0.0,0.0,0.0) UNSflow.ThreeDVort([0.0,0.0,0.0],[0.0,0.0,0.0],0.02,0.0,0.0,0.0); … ; UNSflow.ThreeDVort([0.0,0.0,0.0],[0.0,0.0,0.0],0.02,0.0,0.0,0.0) UNSflow.ThreeDVort([0.0,0.0,0.0],[0.0,0.0,0.0],0.02,0.0,0.0,0.0) … UNSflow.ThreeDVort([0.0,0.0,0.0],[0.0,0.0,0.0],0.02,0.0,0.0,0.0) UNSflow.ThreeDVort([0.0,0.0,0.0],[0.0,0.0,0.0],0.02,0.0,0.0,0.0); UNSflow.ThreeDVort([0.0,0.0,0.0],[0.0,0.0,0.0],0.02,0.0,0.0,0.0) UNSflow.ThreeDVort([0.0,0.0,0.0],[0.0,0.0,0.0],0.02,0.0,0.0,0.0) … UNSflow.ThreeDVort([0.0,0.0,0.0],[0.0,0.0,0.0],0.02,0.0,0.0,0.0) UNSflow.ThreeDVort([0.0,0.0,0.0],[0.0,0.0,0.0],0.02,0.0,0.0,0.0)],[50.0,50.0,50.0,50.0,50.0,50.0,50.0,50.0,50.0,50.0,50.0,0.0,0.0,0.0,0.0,0.0],Int8[0,0,0,0,0,0,0,0,0,0,0])"
      ]
     },
     "execution_count": 4,
     "metadata": {},
     "output_type": "execute_result"
    }
   ],
   "source": [
    "surf = ThreeDSurf(cref, bref, sref, patchdata, kin)"
   ]
  },
  {
   "cell_type": "code",
   "execution_count": null,
   "metadata": {
    "collapsed": false
   },
   "outputs": [],
   "source": []
  },
  {
   "cell_type": "code",
   "execution_count": null,
   "metadata": {
    "collapsed": true
   },
   "outputs": [],
   "source": []
  },
  {
   "cell_type": "code",
   "execution_count": null,
   "metadata": {
    "collapsed": true
   },
   "outputs": [],
   "source": []
  },
  {
   "cell_type": "code",
   "execution_count": null,
   "metadata": {
    "collapsed": true
   },
   "outputs": [],
   "source": []
  }
 ],
 "metadata": {
  "anaconda-cloud": {},
  "kernelspec": {
   "display_name": "Julia 0.5.0",
   "language": "julia",
   "name": "julia-0.5"
  },
  "language_info": {
   "file_extension": ".jl",
   "mimetype": "application/julia",
   "name": "julia",
   "version": "0.5.0"
  }
 },
 "nbformat": 4,
 "nbformat_minor": 1
}
