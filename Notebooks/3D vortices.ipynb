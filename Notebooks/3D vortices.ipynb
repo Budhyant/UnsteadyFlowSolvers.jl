{
 "cells": [
  {
   "cell_type": "code",
   "execution_count": 1,
   "metadata": {
    "collapsed": false
   },
   "outputs": [
    {
     "name": "stderr",
     "output_type": "stream",
     "text": [
      "/Users/kiran/.julia/v0.5/Conda/deps/usr/lib/python2.7/site-packages/matplotlib/font_manager.py:273: UserWarning: Matplotlib is building the font cache using fc-list. This may take a moment.\n",
      "  warnings.warn('Matplotlib is building the font cache using fc-list. This may take a moment.')\n"
     ]
    },
    {
     "data": {
      "text/plain": [
       "UNSflow"
      ]
     },
     "execution_count": 1,
     "metadata": {},
     "output_type": "execute_result"
    }
   ],
   "source": [
    "include(\"../src/UNSflow.jl\")"
   ]
  },
  {
   "cell_type": "code",
   "execution_count": 2,
   "metadata": {
    "collapsed": true
   },
   "outputs": [],
   "source": [
    "using UNSflow\n",
    "\n",
    "import UNSflow.mutual_ind"
   ]
  },
  {
   "cell_type": "code",
   "execution_count": 3,
   "metadata": {
    "collapsed": false
   },
   "outputs": [
    {
     "data": {
      "text/plain": [
       "UNSflow.ThreeDVort([1.0,0.0,1.0],[0.0,1.0,0.0],0.02,[0.0,0.0,0.0],[0.0,0.0,0.0])"
      ]
     },
     "execution_count": 3,
     "metadata": {},
     "output_type": "execute_result"
    }
   ],
   "source": [
    "v1 = ThreeDVort([1;0;1;], [0.; 1.; 0.;], 0.02,[0.;0.;0.;], [0.;0.;0.;] )"
   ]
  },
  {
   "cell_type": "code",
   "execution_count": 4,
   "metadata": {
    "collapsed": false
   },
   "outputs": [
    {
     "data": {
      "text/plain": [
       "UNSflow.ThreeDVort([-1.0,1.0,0.0],[0.0,1.0,0.0],0.02,[0.0,0.0,0.0],[0.0,0.0,0.0])"
      ]
     },
     "execution_count": 4,
     "metadata": {},
     "output_type": "execute_result"
    }
   ],
   "source": [
    "v2= ThreeDVort([-1;1;0;], [0.; 1.; 0.;], 0.02,[0.;0.;0.;], [0.;0.;0.;] )"
   ]
  },
  {
   "cell_type": "code",
   "execution_count": 55,
   "metadata": {
    "collapsed": false
   },
   "outputs": [
    {
     "name": "stderr",
     "output_type": "stream",
     "text": [
      "WARNING: Method definition fgfromrhoGauss(Float64) in module Main at In[48]:2 overwritten at In[55]:2.\n",
      "WARNING: Method definition fgfromrhoLeonard(Float64) in module Main at In[48]:8 overwritten at In[55]:8.\n",
      "WARNING: Method definition mutual_ind(Array{UNSflow.ThreeDVort, 1}) in module Main at In[48]:14 overwritten at In[55]:14.\n",
      "WARNING: Method definition mutual_ind_dble(Array{UNSflow.ThreeDVort, 1}) in module Main at In[48]:48 overwritten at In[55]:48.\n"
     ]
    },
    {
     "data": {
      "text/plain": [
       "mutual_ind_dble (generic function with 1 method)"
      ]
     },
     "execution_count": 55,
     "metadata": {},
     "output_type": "execute_result"
    }
   ],
   "source": [
    "function fgfromrhoGauss(rho::Float64)\n",
    "    f = sqrt(2./pi)*exp(-rho^2/2.)\n",
    "    g = erf(rho/sqrt(2.)) - rho*f\n",
    "    return f, g\n",
    "end\n",
    "\n",
    "function fgfromrhoLeonard(rho::Float64)\n",
    "    f = 7.5/(rho^2 + 1.)^3.5\n",
    "    g = (rho^3*(rho^2 + 2.5))/(rho^2 + 1.)^2.5\n",
    "    return f, g\n",
    "end\n",
    "\n",
    "function mutual_ind(vorts::Vector{ThreeDVort})\n",
    "      for i = 1:length(vorts)\n",
    "          for j = i+1:length(vorts)\n",
    "            rvec = vorts[i].x - vorts[j].x\n",
    "#              dx = vorts[i].x[1] - vorts[j].x[1]\n",
    "#              dy = vorts[i].x[2] - vorts[j].x[2]\n",
    "#              dz = vorts[i].x[3] - vorts[j].x[3]\n",
    "              #source - tar\n",
    "\n",
    "            r = norm(rvec)\n",
    "              rhoi = r/vorts[i].vc\n",
    "              rhoj = r/vorts[j].vc\n",
    "\n",
    "            f, g = fgfromrhoLeonard(rhoi)\n",
    "            \n",
    "            vorts[j].v -= -g*cross(rvec,vorts[i].s)/(4.*pi*r^3)\n",
    "                \n",
    "              vorts[j].ds += (-g*cross(vorts[j].s, vorts[i].s)/rhoi^3 + \n",
    "            ((3*g/rhoi^3 - f)*dot(vorts[j].s, rvec)*cross(rvec,vorts[i].s))/r^2)/(4*pi*vorts[i].vc^3)  \n",
    "                \n",
    "            \n",
    "            f, g = fgfromrhoLeonard(rhoj)\n",
    "            vorts[i].v += -g*cross(rvec,vorts[j].s)/(4.*pi*r^3)\n",
    "                \n",
    "            vorts[i].ds += (-g*cross(vorts[i].s, vorts[j].s)/rhoj^3 + \n",
    "                ((3*g/rhoj^3 - f)*dot(vorts[i].s, rvec)*cross(rvec,vorts[j].s))/r^2)/(4*pi*vorts[j].vc^3)  \n",
    "                \n",
    "            \n",
    "\n",
    "          end\n",
    "      end\n",
    "      return vorts\n",
    "end\n",
    "\n",
    "function mutual_ind_dble(vorts::Vector{ThreeDVort})\n",
    "      for i = 1:length(vorts)\n",
    "          for j = 1:length(vorts)\n",
    "            if i != j     \n",
    "                rvec = vorts[i].x - vorts[j].x\n",
    "#              dx = vorts[i].x[1] - vorts[j].x[1]\n",
    "#              dy = vorts[i].x[2] - vorts[j].x[2]\n",
    "#              dz = vorts[i].x[3] - vorts[j].x[3]\n",
    "              #source - tar\n",
    "\n",
    "             r = norm(rvec)\n",
    "         \n",
    "              rhoj = r/vorts[j].vc\n",
    "\n",
    "            f, g = fgfromrhoLeonard(rhoj)\n",
    "            vorts[i].v += -g*cross(rvec,vorts[j].s)/(4.*pi*r^3)\n",
    "                \n",
    "            vorts[i].ds += (-g*cross(vorts[i].s, vorts[j].s)/rhoj^3 + \n",
    "                ((3*g/rhoj^3 - f)*dot(vorts[i].s, rvec)*cross(rvec,vorts[j].s))/r^2)/(4*pi*vorts[j].vc^3)  \n",
    "                \n",
    "            \n",
    "            end\n",
    "          end\n",
    "      end\n",
    "      return vorts\n",
    "end"
   ]
  },
  {
   "cell_type": "code",
   "execution_count": 56,
   "metadata": {
    "collapsed": false
   },
   "outputs": [
    {
     "data": {
      "text/plain": [
       "2-element Array{UNSflow.ThreeDVort,1}:\n",
       " UNSflow.ThreeDVort([1.0,0.0,1.0],[0.0,1.0,0.0],0.02,[0.00541456,0.0,-0.0108291],[0.00812184,0.0,-0.0162437])  \n",
       " UNSflow.ThreeDVort([-1.0,1.0,0.0],[0.0,1.0,0.0],0.02,[-0.00541456,0.0,0.0108291],[-0.00270728,0.0,0.00541456])"
      ]
     },
     "execution_count": 56,
     "metadata": {},
     "output_type": "execute_result"
    }
   ],
   "source": [
    "mutual_ind([v1; v2])"
   ]
  },
  {
   "cell_type": "markdown",
   "metadata": {
    "collapsed": true
   },
   "source": [
    "### Develop code to convect 3D vortices and visualise the results"
   ]
  },
  {
   "cell_type": "code",
   "execution_count": 57,
   "metadata": {
    "collapsed": false
   },
   "outputs": [
    {
     "data": {
      "text/plain": [
       "50"
      ]
     },
     "execution_count": 57,
     "metadata": {},
     "output_type": "execute_result"
    }
   ],
   "source": [
    "nvort = 50"
   ]
  },
  {
   "cell_type": "code",
   "execution_count": 58,
   "metadata": {
    "collapsed": false
   },
   "outputs": [],
   "source": [
    "vorts = ThreeDVort[]\n",
    "for i = 1:nvort\n",
    "    x = [0.0; real(i)*0.05; 0.0]\n",
    "    s = [0.0; 0.002; 0.0]\n",
    "    vcore = 0.02\n",
    "    v = [0.0; 0.0; 0.0]\n",
    "    ds = [0.0; 0.0; 0.0]\n",
    "    push!(vorts, ThreeDVort(x, s, vcore, v, ds))\n",
    "end\n",
    "\n",
    "     "
   ]
  },
  {
   "cell_type": "markdown",
   "metadata": {},
   "source": [
    "dt = 0.015\n",
    "ntime = 100\n",
    "@time for i =1:ntime\n",
    "    for j = 1:nvort\n",
    "        vorts[j].v = zeros(3)\n",
    "        vorts[j].ds = zeros(3)\n",
    "    end\n",
    "    mutual_ind(vorts)\n",
    "    for j = 1:nvort\n",
    "        vorts[j].x += vorts[j].v + dt\n",
    "        vorts[j].s += vorts[j].ds + dt\n",
    "    end\n",
    "end"
   ]
  },
  {
   "cell_type": "code",
   "execution_count": 59,
   "metadata": {
    "collapsed": false
   },
   "outputs": [
    {
     "data": {
      "text/plain": [
       "3-element Array{Float64,1}:\n",
       " 0.0  \n",
       " 0.002\n",
       " 0.0  "
      ]
     },
     "execution_count": 59,
     "metadata": {},
     "output_type": "execute_result"
    }
   ],
   "source": [
    "vorts[1].s"
   ]
  },
  {
   "cell_type": "code",
   "execution_count": 60,
   "metadata": {
    "collapsed": true
   },
   "outputs": [],
   "source": [
    "#leapfrogging vortices"
   ]
  },
  {
   "cell_type": "markdown",
   "metadata": {},
   "source": [
    "The important quantities that should be related are:\n",
    "Vortex strength (m2/s)\n",
    "vortex core (m)\n",
    "time step (m/s)\n",
    "\n",
    "strength/(core*dt) = parameter\n",
    "my usual = 0.01/(0.02*0.015) = 33\n",
    "shiwei's = 10/(1*0.1) = 100\n",
    "shiwei's distance between vortices:\n",
    "radius = 6\n",
    "number of points = 24\n",
    "circ = 2*pi*6 = 37.7\n",
    "distance bet vort = 37.7/24 = 1.6\n",
    "\n"
   ]
  },
  {
   "cell_type": "code",
   "execution_count": 69,
   "metadata": {
    "collapsed": false
   },
   "outputs": [
    {
     "name": "stdout",
     "output_type": "stream",
     "text": [
      "  2.080822 seconds (47.05 M allocations: 2.093 GB, 11.01% gc time)\n"
     ]
    }
   ],
   "source": [
    "vorts = ThreeDVort[]\n",
    "dt = 0.1\n",
    "core = 1\n",
    "ndiv = Int(48)\n",
    "for i = 1:ndiv/2\n",
    "    x = [0; 6*sind(15*i); 6*cosd(15*i)]\n",
    "    s = 10*[0.0; -cosd(15*i); sind(15*i)]\n",
    "    v = zeros(3)\n",
    "    ds = zeros(3)\n",
    "    push!(vorts, ThreeDVort(x, s, core, v, ds))\n",
    "end\n",
    "for i = Int(ndiv/2+1):ndiv\n",
    "    x = [2; 6*sind(15*i); 6*cosd(15*i)]\n",
    "    s = 10*[0.0; -cosd(15*i); sind(15*i)]\n",
    "    v = zeros(3)\n",
    "    ds = zeros(3)\n",
    "    push!(vorts, ThreeDVort(x, s, core, v, ds))\n",
    "end\n",
    "    \n",
    "dt = 0.1\n",
    "ntime = 500\n",
    "@time for i =1:ntime\n",
    "    for j = 1:ndiv\n",
    "        vorts[j].v = zeros(3)\n",
    "        vorts[j].ds = zeros(3)\n",
    "    end\n",
    "    mutual_ind(vorts)\n",
    "    for j = 1:ndiv\n",
    "        vorts[j].x += vorts[j].v*dt\n",
    "        vorts[j].s += vorts[j].ds*dt\n",
    "    end\n",
    "end"
   ]
  },
  {
   "cell_type": "code",
   "execution_count": 70,
   "metadata": {
    "collapsed": false
   },
   "outputs": [
    {
     "data": {
      "text/plain": [
       "3-element Array{Float64,1}:\n",
       "   1.78747e-13\n",
       " -10.946      \n",
       "   2.93297    "
      ]
     },
     "execution_count": 70,
     "metadata": {},
     "output_type": "execute_result"
    }
   ],
   "source": [
    "vorts[1].s"
   ]
  },
  {
   "cell_type": "code",
   "execution_count": 71,
   "metadata": {
    "collapsed": false
   },
   "outputs": [],
   "source": [
    "xs = zeros(ndiv)\n",
    "ys = zeros(ndiv)\n",
    "zs = zeros(ndiv)\n",
    "\n",
    "for i = 1:ndiv\n",
    "    xs[i] = vorts[i].x[1]\n",
    "    ys[i] = vorts[i].x[2]\n",
    "    zs[i] = vorts[i].x[3]\n",
    "end"
   ]
  },
  {
   "cell_type": "code",
   "execution_count": 72,
   "metadata": {
    "collapsed": false
   },
   "outputs": [
    {
     "data": {
      "text/plain": [
       "PyObject <mpl_toolkits.mplot3d.art3d.Path3DCollection object at 0x32c494910>"
      ]
     },
     "execution_count": 72,
     "metadata": {},
     "output_type": "execute_result"
    }
   ],
   "source": [
    "using PyPlot\n",
    "ax = gca(projection=\"3d\")\n",
    "pygui(true)\n",
    "scatter3D(xs, ys,zs,s=20,)\n",
    "#s"
   ]
  },
  {
   "cell_type": "markdown",
   "metadata": {},
   "source": [
    "Works when the computations are done both ways. The biot savart can be simply inverted in sign. The stretchig is probably more complex. Must be properly derived"
   ]
  },
  {
   "cell_type": "code",
   "execution_count": null,
   "metadata": {
    "collapsed": true
   },
   "outputs": [],
   "source": []
  },
  {
   "cell_type": "code",
   "execution_count": null,
   "metadata": {
    "collapsed": true
   },
   "outputs": [],
   "source": []
  },
  {
   "cell_type": "code",
   "execution_count": null,
   "metadata": {
    "collapsed": true
   },
   "outputs": [],
   "source": []
  }
 ],
 "metadata": {
  "anaconda-cloud": {},
  "kernelspec": {
   "display_name": "Julia 0.5.0-rc4",
   "language": "julia",
   "name": "julia-0.5"
  },
  "language_info": {
   "file_extension": ".jl",
   "mimetype": "application/julia",
   "name": "julia",
   "version": "0.5.0"
  }
 },
 "nbformat": 4,
 "nbformat_minor": 1
}
