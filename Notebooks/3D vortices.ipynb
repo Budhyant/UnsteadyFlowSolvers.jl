{
 "cells": [
  {
   "cell_type": "code",
   "execution_count": 1,
   "metadata": {
    "collapsed": false
   },
   "outputs": [
    {
     "data": {
      "text/plain": [
       "UNSflow"
      ]
     },
     "execution_count": 1,
     "metadata": {},
     "output_type": "execute_result"
    }
   ],
   "source": [
    "include(\"../src/UNSflow.jl\")"
   ]
  },
  {
   "cell_type": "code",
   "execution_count": 7,
   "metadata": {
    "collapsed": true
   },
   "outputs": [],
   "source": [
    "using UNSflow\n",
    "\n",
    "import UNSflow.mutual_ind"
   ]
  },
  {
   "cell_type": "code",
   "execution_count": 11,
   "metadata": {
    "collapsed": false
   },
   "outputs": [
    {
     "data": {
      "text/plain": [
       "UNSflow.ThreeDVort([1.0,0.0,1.0],[0.0,1.0,0.0],0.02,[0.0,0.0,0.0],[0.0,0.0,0.0])"
      ]
     },
     "execution_count": 11,
     "metadata": {},
     "output_type": "execute_result"
    }
   ],
   "source": [
    "v1 = ThreeDVort([1;0;1;], [0.; 1.; 0.;], 0.02,[0.;0.;0.;], [0.;0.;0.;] )"
   ]
  },
  {
   "cell_type": "code",
   "execution_count": 13,
   "metadata": {
    "collapsed": false
   },
   "outputs": [
    {
     "data": {
      "text/plain": [
       "UNSflow.ThreeDVort([-1.0,1.0,0.0],[0.0,1.0,0.0],0.02,[0.0,0.0,0.0],[0.0,0.0,0.0])"
      ]
     },
     "execution_count": 13,
     "metadata": {},
     "output_type": "execute_result"
    }
   ],
   "source": [
    "v2= ThreeDVort([-1;1;0;], [0.; 1.; 0.;], 0.02,[0.;0.;0.;], [0.;0.;0.;] )"
   ]
  },
  {
   "cell_type": "code",
   "execution_count": 8,
   "metadata": {
    "collapsed": false
   },
   "outputs": [
    {
     "name": "stderr",
     "output_type": "stream",
     "text": [
      "WARNING: Method definition fgfromrhoGauss(Float64) in module Main at In[5]:2 overwritten at In[8]:2.\n"
     ]
    },
    {
     "data": {
      "text/plain": [
       "mutual_ind (generic function with 2 methods)"
      ]
     },
     "execution_count": 8,
     "metadata": {},
     "output_type": "execute_result"
    }
   ],
   "source": [
    "function fgfromrhoGauss(rho::Float64)\n",
    "    f = sqrt(2./pi)*exp(-rho^2/2.)\n",
    "    g = erf(rho/sqrt(2.)) - rho*f\n",
    "    return f, g\n",
    "end\n",
    "\n",
    "function mutual_ind(vorts::Vector{ThreeDVort})\n",
    "      for i = 1:length(vorts)\n",
    "          for j = i+1:length(vorts)\n",
    "              dx = vorts[i].x[1] - vorts[j].x[1]\n",
    "              dy = vorts[i].x[2] - vorts[j].x[2]\n",
    "              dz = vorts[i].x[3] - vorts[j].x[3]\n",
    "              #source - tar\n",
    "\n",
    "              r = sqrt(dx*dx + dz*dz + dy*dy)\n",
    "              rhoi = r/vorts[i].vc\n",
    "              rhoj = r/vorts[i].vc\n",
    "\n",
    "              f, g = fgfromrhoGauss(rhoi)\n",
    "            \n",
    "              vorts[j].v += -g*cross([dx; dy; dz],vorts[i].s)/(4.*pi*r^3)\n",
    "                \n",
    "              vorts[j].ds += -(-g*cross(vorts[j].s, vorts[i].s)/rhoi^3 + \n",
    "                ((3*g/rhoi^3 - f)*dot(vorts[j].s, [dx;dy;dz])*cross([dx;dy;dz],vorts[i].s))/r^2)/(4*pi*vorts[i].vc^3)  \n",
    "                \n",
    "            \n",
    "            f, g = fgfromrhoGauss(rhoj)\n",
    "            vorts[i].v += -g*cross([dx; dy; dz],vorts[j].s)/(4.*pi*r^3)\n",
    "                \n",
    "            vorts[i].ds += -(-g*cross(vorts[i].s, vorts[j].s)/rhoj^3 + \n",
    "            ((3*g/rhoj^3 - f)*dot(vorts[i].s, [dx;dy;dz])*cross([dx;dy;dz],vorts[j].s))/r^2)/(4*pi*vorts[j].vc^3)  \n",
    "                \n",
    "\n",
    "          end\n",
    "      end\n",
    "      return vorts\n",
    "end"
   ]
  },
  {
   "cell_type": "code",
   "execution_count": 14,
   "metadata": {
    "collapsed": false
   },
   "outputs": [
    {
     "data": {
      "text/plain": [
       "2-element Array{UNSflow.ThreeDVort,1}:\n",
       " UNSflow.ThreeDVort([1.0,0.0,1.0],[0.0,1.0,0.0],0.02,[0.0125322,0.0,-0.0250644],[-0.00270728,0.0,0.00541456])  \n",
       " UNSflow.ThreeDVort([-1.0,1.0,0.0],[0.0,1.0,0.0],0.02,[0.00541456,0.0,-0.0108291],[-0.00270728,0.0,0.00541456])"
      ]
     },
     "execution_count": 14,
     "metadata": {},
     "output_type": "execute_result"
    }
   ],
   "source": [
    "mutual_ind([v1; v2])"
   ]
  },
  {
   "cell_type": "code",
   "execution_count": null,
   "metadata": {
    "collapsed": true
   },
   "outputs": [],
   "source": []
  }
 ],
 "metadata": {
  "kernelspec": {
   "display_name": "Julia 0.5.0",
   "language": "julia",
   "name": "julia-0.5"
  },
  "language_info": {
   "file_extension": ".jl",
   "mimetype": "application/julia",
   "name": "julia",
   "version": "0.5.0"
  }
 },
 "nbformat": 4,
 "nbformat_minor": 1
}
