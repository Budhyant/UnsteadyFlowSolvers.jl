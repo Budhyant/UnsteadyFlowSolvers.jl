{
 "cells": [
  {
   "cell_type": "code",
   "execution_count": 1,
   "metadata": {
    "collapsed": true
   },
   "outputs": [
    {
     "data": {
      "text/plain": [
       "3-element Array{Int64,1}:\n",
       " 2\n",
       " 3\n",
       " 4"
      ]
     },
     "execution_count": 1,
     "metadata": {},
     "output_type": "execute_result"
    }
   ],
   "source": [
    "#workspace()\n",
    "addprocs(3)"
   ]
  },
  {
   "cell_type": "code",
   "execution_count": 2,
   "metadata": {
    "collapsed": true
   },
   "outputs": [
    {
     "name": "stderr",
     "output_type": "stream",
     "text": [
      "WARNING: replacing module Dierckx.\n",
      "WARNING: replacing module Dierckx.\n",
      "WARNING: replacing module Dierckx.\n",
      "WARNING: replacing module ForwardDiff.\n",
      "WARNING: replacing module ForwardDiff.\n",
      "WARNING: replacing module ForwardDiff.\n"
     ]
    },
    {
     "ename": "LoadError",
     "evalue": "LoadError: On worker 2:\nLoadError: InitError: PyError (:PyImport_ImportModule) None\n\n in pyerr_check at /Users/kiran/.julia/v0.5/PyCall/src/exception.jl:56 [inlined]\n in pyerr_check at /Users/kiran/.julia/v0.5/PyCall/src/exception.jl:61 [inlined]\n in macro expansion at /Users/kiran/.julia/v0.5/PyCall/src/exception.jl:81 [inlined]\n in pyimport at /Users/kiran/.julia/v0.5/PyCall/src/PyCall.jl:387\n in __init__ at /Users/kiran/.julia/v0.5/PyPlot/src/PyPlot.jl:256\n in _require_from_serialized at ./loading.jl:190\n in _require_search_from_serialized at ./loading.jl:217\n in jlcall__require_search_from_serialized_34134 at /opt/julia/usr/lib/julia/sys.dylib:?\n in require at ./loading.jl:371\n in jlcall_require_22382 at /opt/julia/usr/lib/julia/sys.dylib:?\n in include_string at ./loading.jl:441\n in jlcall_include_string_35097 at /opt/julia/usr/lib/julia/sys.dylib:?\n in include_from_node1 at ./loading.jl:491\n in jlcall_include_from_node1_20159 at /opt/julia/usr/lib/julia/sys.dylib:?\n in eval at ./boot.jl:234\n in jlcall_eval_19783 at /opt/julia/usr/lib/julia/sys.dylib:?\n in #1 at ./multi.jl:1957\n in #625 at ./multi.jl:1421\n in run_work_thunk at ./multi.jl:1001\n in macro expansion at ./multi.jl:1421 [inlined]\n in #624 at ./event.jl:68\nduring initialization of module PyPlot\nwhile loading /Users/kiran/Documents/Projects/UNSflow/src/UNSflow.jl, in expression starting on line 9\n in #remotecall_fetch#606(::Array{Any,1}, ::Function, ::Function, ::Base.Worker) at ./multi.jl:1070\n in remotecall_fetch(::Function, ::Base.Worker) at ./multi.jl:1062\n in #remotecall_fetch#609(::Array{Any,1}, ::Function, ::Function, ::Int64) at ./multi.jl:1080\n in remotecall_fetch(::Function, ::Int64) at ./multi.jl:1080\n in (::##2#4)() at ./multi.jl:1959\n\n...and 3 other exceptions.\n\nwhile loading In[2], in expression starting on line 1",
     "output_type": "error",
     "traceback": [
      "LoadError: On worker 2:\nLoadError: InitError: PyError (:PyImport_ImportModule) None\n\n in pyerr_check at /Users/kiran/.julia/v0.5/PyCall/src/exception.jl:56 [inlined]\n in pyerr_check at /Users/kiran/.julia/v0.5/PyCall/src/exception.jl:61 [inlined]\n in macro expansion at /Users/kiran/.julia/v0.5/PyCall/src/exception.jl:81 [inlined]\n in pyimport at /Users/kiran/.julia/v0.5/PyCall/src/PyCall.jl:387\n in __init__ at /Users/kiran/.julia/v0.5/PyPlot/src/PyPlot.jl:256\n in _require_from_serialized at ./loading.jl:190\n in _require_search_from_serialized at ./loading.jl:217\n in jlcall__require_search_from_serialized_34134 at /opt/julia/usr/lib/julia/sys.dylib:?\n in require at ./loading.jl:371\n in jlcall_require_22382 at /opt/julia/usr/lib/julia/sys.dylib:?\n in include_string at ./loading.jl:441\n in jlcall_include_string_35097 at /opt/julia/usr/lib/julia/sys.dylib:?\n in include_from_node1 at ./loading.jl:491\n in jlcall_include_from_node1_20159 at /opt/julia/usr/lib/julia/sys.dylib:?\n in eval at ./boot.jl:234\n in jlcall_eval_19783 at /opt/julia/usr/lib/julia/sys.dylib:?\n in #1 at ./multi.jl:1957\n in #625 at ./multi.jl:1421\n in run_work_thunk at ./multi.jl:1001\n in macro expansion at ./multi.jl:1421 [inlined]\n in #624 at ./event.jl:68\nduring initialization of module PyPlot\nwhile loading /Users/kiran/Documents/Projects/UNSflow/src/UNSflow.jl, in expression starting on line 9\n in #remotecall_fetch#606(::Array{Any,1}, ::Function, ::Function, ::Base.Worker) at ./multi.jl:1070\n in remotecall_fetch(::Function, ::Base.Worker) at ./multi.jl:1062\n in #remotecall_fetch#609(::Array{Any,1}, ::Function, ::Function, ::Int64) at ./multi.jl:1080\n in remotecall_fetch(::Function, ::Int64) at ./multi.jl:1080\n in (::##2#4)() at ./multi.jl:1959\n\n...and 3 other exceptions.\n\nwhile loading In[2], in expression starting on line 1",
      "",
      " in sync_end() at ./task.jl:311",
      " in macro expansion; at ./multi.jl:1968 [inlined]",
      " in anonymous at ./<missing>:?"
     ]
    }
   ],
   "source": [
    "@everywhere include(\"../src/UNSflow.jl\")"
   ]
  },
  {
   "cell_type": "code",
   "execution_count": 3,
   "metadata": {
    "collapsed": true
   },
   "outputs": [
    {
     "name": "stderr",
     "output_type": "stream",
     "text": [
      "WARNING: replacing module UNSflow\n",
      "WARNING: replacing module UNSflow\n",
      "WARNING: replacing module UNSflow\n",
      "WARNING: replacing module UNSflow\n",
      "WARNING: replacing module NLsolve.\n",
      "WARNING: replacing module NLsolve.\n",
      "WARNING: replacing module NLsolve.\n",
      "\n",
      "WARNING: deprecated syntax \"call(eld::EldUpDef, ...)\".\n",
      "Use \"(eld::EldUpDef)(...)\" instead.\n",
      "\n",
      "WARNING: deprecated syntax \"call(eld::EldUptstartDef, ...)\".\n",
      "Use \"(eld::EldUptstartDef)(...)\" instead.\n",
      "\n",
      "WARNING: deprecated syntax \"call(cons::ConstDef, ...)\".\n",
      "Use \"(cons::ConstDef)(...)\" instead.\n",
      "\n",
      "WARNING: deprecated syntax \"call(eld::EldRampReturnDef, ...)\".\n",
      "Use \"(eld::EldRampReturnDef)(...)\" instead.\n",
      "\n",
      "WARNING: deprecated syntax \"call(kin::SinDef, ...)\".\n",
      "Use \"(kin::SinDef)(...)\" instead.\n",
      "\n",
      "WARNING: deprecated syntax \"call(kin::CosDef, ...)\".\n",
      "Use \"(kin::CosDef)(...)\" instead.\n",
      "\n",
      "WARNING: deprecated syntax \"call(eld::EldUpDef, ...)\".\n",
      "Use \"(eld::EldUpDef)(...)\" instead.\n",
      "\n",
      "WARNING: deprecated syntax \"call(eld::EldUptstartDef, ...)\".\n",
      "Use \"(eld::EldUptstartDef)(...)\" instead.\n",
      "\n",
      "WARNING: deprecated syntax \"call(cons::ConstDef, ...)\".\n",
      "Use \"(cons::ConstDef)(...)\" instead.\n",
      "\n",
      "WARNING: deprecated syntax \"call(eld::EldRampReturnDef, ...)\".\n",
      "Use \"(eld::EldRampReturnDef)(...)\" instead.\n",
      "\n",
      "WARNING: deprecated syntax \"call(eld::EldUpDef, ...)\".\n",
      "Use \"(eld::EldUpDef)(...)\" instead.\n",
      "\n",
      "WARNING: deprecated syntax \"call(eld::EldUptstartDef, ...)\".\n",
      "Use \"(eld::EldUptstartDef)(...)\" instead.\n",
      "\n",
      "WARNING: deprecated syntax \"call(cons::ConstDef, ...)\".\n",
      "Use \"(cons::ConstDef)(...)\" instead.\n",
      "\n",
      "WARNING: deprecated syntax \"call(eld::EldRampReturnDef, ...)\".\n",
      "Use \"(eld::EldRampReturnDef)(...)\" instead.\n",
      "\n",
      "WARNING: deprecated syntax \"call(kin::SinDef, ...)\".\n",
      "Use \"(kin::SinDef)(...)\" instead.\n",
      "\n",
      "WARNING: deprecated syntax \"call(kin::CosDef, ...)\".\n",
      "Use \"(kin::CosDef)(...)\" instead.\n",
      "\n",
      "WARNING: deprecated syntax \"call(kin::SinDef, ...)\".\n",
      "Use \"(kin::SinDef)(...)\" instead.\n",
      "\n",
      "WARNING: deprecated syntax \"call(kin::CosDef, ...)\".\n",
      "Use \"(kin::CosDef)(...)\" instead.\n",
      "\n",
      "WARNING: deprecated syntax \"call(eld::EldUpDef, ...)\".\n",
      "Use \"(eld::EldUpDef)(...)\" instead.\n",
      "\n",
      "WARNING: deprecated syntax \"call(eld::EldUptstartDef, ...)\".\n",
      "Use \"(eld::EldUptstartDef)(...)\" instead.\n",
      "\n",
      "WARNING: deprecated syntax \"call(cons::ConstDef, ...)\".\n",
      "Use \"(cons::ConstDef)(...)\" instead.\n",
      "\n",
      "WARNING: deprecated syntax \"call(eld::EldRampReturnDef, ...)\".\n",
      "Use \"(eld::EldRampReturnDef)(...)\" instead.\n",
      "\n",
      "WARNING: deprecated syntax \"call(kin::SinDef, ...)\".\n",
      "Use \"(kin::SinDef)(...)\" instead.\n",
      "\n",
      "WARNING: deprecated syntax \"call(kin::CosDef, ...)\".\n",
      "Use \"(kin::CosDef)(...)\" instead.\n",
      "WARNING: Base.ASCIIString is deprecated, use String instead.\n",
      "  likely near /Users/kiran/Documents/Projects/UNSflow/src/types.jl:294\n",
      "WARNING: Base.ASCIIString is deprecated, use String instead.\n",
      "  likely near /Users/kiran/Documents/Projects/UNSflow/src/types.jl:294\n",
      "WARNING: Base.ASCIIString is deprecated, use String instead.\n",
      "  likely near /Users/kiran/Documents/Projects/UNSflow/src/types.jl:294\n",
      "WARNING: Base.ASCIIString is deprecated, use String instead.\n",
      "  likely near /Users/kiran/Documents/Projects/UNSflow/src/types.jl:294\n",
      "WARNING: Base.ASCIIString is deprecated, use String instead.\n",
      "  likely near /Users/kiran/Documents/Projects/UNSflow/src/types.jl:294\n",
      "WARNING: Base.ASCIIString is deprecated, use String instead.\n",
      "  likely near /Users/kiran/Documents/Projects/UNSflow/src/types.jl:294\n",
      "WARNING: Base.ASCIIString is deprecated, use String instead.\n",
      "  likely near /Users/kiran/Documents/Projects/UNSflow/src/types.jl:486\n",
      "WARNING: Base.ASCIIString is deprecated, use String instead.\n",
      "  likely near /Users/kiran/Documents/Projects/UNSflow/src/types.jl:486\n",
      "WARNING: Base.ASCIIString is deprecated, use String instead.\n",
      "  likely near /Users/kiran/Documents/Projects/UNSflow/src/types.jl:486\n",
      "WARNING: Base.ASCIIString is deprecated, use String instead.\n",
      "  likely near /Users/kiran/Documents/Projects/UNSflow/src/types.jl:294\n",
      "WARNING: Base.ASCIIString is deprecated, use String instead.\n",
      "  likely near /Users/kiran/Documents/Projects/UNSflow/src/types.jl:294\n",
      "WARNING: Base.ASCIIString is deprecated, use String instead.\n",
      "  likely near /Users/kiran/Documents/Projects/UNSflow/src/types.jl:605\n",
      "WARNING: Base.ASCIIString is deprecated, use String instead.\n",
      "  likely near /Users/kiran/Documents/Projects/UNSflow/src/types.jl:605\n",
      "WARNING: Base.ASCIIString is deprecated, use String instead.\n",
      "  likely near /Users/kiran/Documents/Projects/UNSflow/src/types.jl:605\n",
      "WARNING: Base.ASCIIString is deprecated, use String instead.\n",
      "  likely near /Users/kiran/Documents/Projects/UNSflow/src/types.jl:673\n",
      "WARNING: Base.ASCIIString is deprecated, use String instead.\n",
      "  likely near /Users/kiran/Documents/Projects/UNSflow/src/types.jl:673\n",
      "\n",
      "WARNING: deprecated syntax \"call(eld::EldUpIntDef, ...)\".\n",
      "Use \"(eld::EldUpIntDef)(...)\" instead.\n",
      "\n",
      "WARNING: deprecated syntax \"call(eld::EldUpInttstartDef, ...)\".\n",
      "Use \"(eld::EldUpInttstartDef)(...)\" instead.\n",
      "WARNING: Base.ASCIIString is deprecated, use String instead.\n",
      "  likely near /Users/kiran/Documents/Projects/UNSflow/src/types.jl:673\n",
      "\n",
      "WARNING: deprecated syntax \"call(eld::EldUpIntDef, ...)\".\n",
      "Use \"(eld::EldUpIntDef)(...)\" instead.\n",
      "\n",
      "WARNING: deprecated syntax \"call(eld::EldUpInttstartDef, ...)\".\n",
      "Use \"(eld::EldUpInttstartDef)(...)\" instead.\n",
      "\n",
      "WARNING: deprecated syntax \"call(eld::EldUpIntDef, ...)\".\n",
      "Use \"(eld::EldUpIntDef)(...)\" instead.\n",
      "WARNING: Base.ASCIIString is deprecated, use String instead.\n",
      "  likely near /Users/kiran/Documents/Projects/UNSflow/src/types.jl:486\n",
      "\n",
      "WARNING: deprecated syntax \"call(eld::EldUpInttstartDef, ...)\".\n",
      "Use \"(eld::EldUpInttstartDef)(...)\" instead.\n",
      "\n",
      "WARNING: deprecated syntax \"call(kelv::KelvinCondition, ...)\".\n",
      "Use \"(kelv::KelvinCondition)(...)\" instead.\n",
      "\n",
      "WARNING: deprecated syntax \"call(kelv::KelvinCondition2DOF, ...)\".\n",
      "Use \"(kelv::KelvinCondition2DOF)(...)\" instead.\n",
      "\n",
      "WARNING: deprecated syntax \"call(kelv::KelvinCondition, ...)\".\n",
      "Use \"(kelv::KelvinCondition)(...)\" instead.\n",
      "\n",
      "WARNING: deprecated syntax \"call(kelv::KelvinCondition2DFree, ...)\".\n",
      "Use \"(kelv::KelvinCondition2DFree)(...)\" instead.\n",
      "\n",
      "WARNING: deprecated syntax \"call(kelv::KelvinCondition2DOF, ...)\".\n",
      "Use \"(kelv::KelvinCondition2DOF)(...)\" instead.\n",
      "\n",
      "WARNING: deprecated syntax \"call(kelv::KelvinConditionwFlap, ...)\".\n",
      "Use \"(kelv::KelvinConditionwFlap)(...)\" instead.\n",
      "WARNING: Base.ASCIIString is deprecated, use String instead.\n",
      "  likely near /Users/kiran/Documents/Projects/UNSflow/src/types.jl:605\n",
      "\n",
      "WARNING: deprecated syntax \"call(kelv::KelvinCondition, ...)\".\n",
      "Use \"(kelv::KelvinCondition)(...)\" instead.\n",
      "\n",
      "WARNING: deprecated syntax \"call(kelv::KelvinCondition2DFree, ...)\".\n",
      "Use \"(kelv::KelvinCondition2DFree)(...)\" instead.\n",
      "\n",
      "WARNING: deprecated syntax \"call(kelv::KelvinCondition2DOF, ...)\".\n",
      "Use \"(kelv::KelvinCondition2DOF)(...)\" instead.\n",
      "\n",
      "WARNING: deprecated syntax \"call(kelv::KelvinConditionwFlap, ...)\".\n",
      "Use \"(kelv::KelvinConditionwFlap)(...)\" instead.\n",
      "\n",
      "WARNING: deprecated syntax \"call(kelv::KelvinCondition2DFree, ...)\".\n",
      "Use \"(kelv::KelvinCondition2DFree)(...)\" instead.\n",
      "\n",
      "WARNING: deprecated syntax \"call(kelv::KelvinConditionwFlap, ...)\".\n",
      "Use \"(kelv::KelvinConditionwFlap)(...)\" instead.\n",
      "WARNING: Base.ASCIIString is deprecated, use String instead.\n",
      "  likely near /Users/kiran/Documents/Projects/UNSflow/src/types.jl:673\n",
      "\n",
      "WARNING: deprecated syntax \"call(kelv::KelvinKutta, ...)\".\n",
      "Use \"(kelv::KelvinKutta)(...)\" instead.\n",
      "\n",
      "WARNING: deprecated syntax \"call(kelv::KelvinKutta2DOF, ...)\".\n",
      "Use \"(kelv::KelvinKutta2DOF)(...)\" instead.\n",
      "\n",
      "WARNING: deprecated syntax \"call(kelv::KelvinKutta, ...)\".\n",
      "Use \"(kelv::KelvinKutta)(...)\" instead.\n",
      "\n",
      "WARNING: deprecated syntax \"call(eld::EldUpIntDef, ...)\".\n",
      "Use \"(eld::EldUpIntDef)(...)\" instead.\n",
      "\n",
      "WARNING: deprecated syntax \"call(eld::EldUpInttstartDef, ...)\".\n",
      "Use \"(eld::EldUpInttstartDef)(...)\" instead.\n",
      "\n",
      "WARNING: deprecated syntax \"call(kelv::KelvinKutta2DFree, ...)\".\n",
      "Use \"(kelv::KelvinKutta2DFree)(...)\" instead.\n",
      "\n",
      "WARNING: deprecated syntax \"call(kelv::KelvinKutta2DOF, ...)\".\n",
      "Use \"(kelv::KelvinKutta2DOF)(...)\" instead.\n",
      "\n",
      "WARNING: deprecated syntax \"call(kelv::KelvinKutta, ...)\".\n",
      "Use \"(kelv::KelvinKutta)(...)\" instead.\n",
      "\n",
      "WARNING: deprecated syntax \"call(kelv::KelvinKuttawFlap, ...)\".\n",
      "Use \"(kelv::KelvinKuttawFlap)(...)\" instead.\n",
      "\n",
      "WARNING: deprecated syntax \"call(kelv::KelvinKutta2DFree, ...)\".\n",
      "Use \"(kelv::KelvinKutta2DFree)(...)\" instead.\n",
      "\n",
      "WARNING: deprecated syntax \"call(kelv::KelvinKutta2DOF, ...)\".\n",
      "Use \"(kelv::KelvinKutta2DOF)(...)\" instead.\n",
      "\n",
      "WARNING: deprecated syntax \"call(kelv::KelvinKuttawFlap, ...)\".\n",
      "Use \"(kelv::KelvinKuttawFlap)(...)\" instead.\n",
      "\n",
      "WARNING: deprecated syntax \"call(kelv::KelvinKutta2DFree, ...)\".\n",
      "Use \"(kelv::KelvinKutta2DFree)(...)\" instead.\n",
      "\n",
      "WARNING: deprecated syntax \"call(kelv::KelvinKuttawFlap, ...)\".\n",
      "Use \"(kelv::KelvinKuttawFlap)(...)\" instead.\n",
      "\n",
      "WARNING: deprecated syntax \"call(kelv::KelvinCondition, ...)\".\n",
      "Use \"(kelv::KelvinCondition)(...)\" instead.\n",
      "\n",
      "WARNING: deprecated syntax \"call(kelv::KelvinCondition2DOF, ...)\".\n",
      "Use \"(kelv::KelvinCondition2DOF)(...)\" instead.\n",
      "\n",
      "WARNING: deprecated syntax \"call(kelv::KelvinCondition2DFree, ...)\".\n",
      "Use \"(kelv::KelvinCondition2DFree)(...)\" instead.\n",
      "\n",
      "WARNING: deprecated syntax \"call(kelv::KelvinConditionwFlap, ...)\".\n",
      "Use \"(kelv::KelvinConditionwFlap)(...)\" instead.\n",
      "\n",
      "WARNING: deprecated syntax \"call(kelv::KelvinKutta, ...)\".\n",
      "Use \"(kelv::KelvinKutta)(...)\" instead.\n",
      "\n",
      "WARNING: deprecated syntax \"call(kelv::KelvinKutta2DOF, ...)\".\n",
      "Use \"(kelv::KelvinKutta2DOF)(...)\" instead.\n",
      "\n",
      "WARNING: deprecated syntax \"call(kelv::KelvinKutta2DFree, ...)\".\n",
      "Use \"(kelv::KelvinKutta2DFree)(...)\" instead.\n",
      "\n",
      "WARNING: deprecated syntax \"call(kelv::KelvinKuttawFlap, ...)\".\n",
      "Use \"(kelv::KelvinKuttawFlap)(...)\" instead.\n",
      "WARNING: Base.ASCIIString is deprecated, use String instead.\n",
      "  likely near /Users/kiran/Documents/Projects/UNSflow/src/calculations.jl:610\n",
      "WARNING: Base.ASCIIString is deprecated, use String instead.\n",
      "  likely near /Users/kiran/Documents/Projects/UNSflow/src/calculations.jl:610\n",
      "WARNING: Base.ASCIIString is deprecated, use String instead.\n",
      "  likely near /Users/kiran/Documents/Projects/UNSflow/src/calculations.jl:610\n",
      "WARNING: Base.ASCIIString is deprecated, use String instead.\n",
      "  likely near /Users/kiran/Documents/Projects/UNSflow/src/calculations.jl:610\n"
     ]
    }
   ],
   "source": [
    "@everywhere include(\"../src/UNSflow.jl\")\n",
    "@everywhere using UNSflow"
   ]
  },
  {
   "cell_type": "code",
   "execution_count": 4,
   "metadata": {
    "collapsed": false
   },
   "outputs": [
    {
     "data": {
      "text/plain": [
       "Spline1D(knots=[-2.994,-2.9615 … 2.9615,2.994] (78 elements), k=3, extrapolation=\"nearest\", residual=0.0)"
      ]
     },
     "execution_count": 4,
     "metadata": {},
     "output_type": "execute_result"
    }
   ],
   "source": [
    "#Construct dimensionless quantities from given values\n",
    "c_d = 0.2\n",
    "b_d = 6\n",
    "AR = b_d/c_d\n",
    "\n",
    "u_d = 10\n",
    "f_d = 0.8889\n",
    "k = 2*pi*f_d*c_d/(2*u_d)\n",
    "\n",
    "#_dAll values below are nondimensional\n",
    "c = 1\n",
    "u = 1\n",
    "w = 2*k\n",
    "T = (2*pi/w)\n",
    "ncyc = 4\n",
    "t_tot = ncyc*T \n",
    "\n",
    "modedata = readdlm(\"../test/anto_mode1.dat\");\n",
    "mode_spl = Spline1D(modedata[:,3],modedata[:,4])"
   ]
  },
  {
   "cell_type": "code",
   "execution_count": 5,
   "metadata": {
    "collapsed": true
   },
   "outputs": [
    {
     "data": {
      "text/plain": [
       "234-element Array{Float64,1}:\n",
       " -0.0801412 \n",
       " -0.0745103 \n",
       " -0.0703989 \n",
       " -0.0627126 \n",
       " -0.0534174 \n",
       " -0.0479952 \n",
       " -0.0426922 \n",
       " -0.0308947 \n",
       " -0.0260684 \n",
       " -0.0206166 \n",
       " -0.0140921 \n",
       " -0.00551217\n",
       "  0.00333587\n",
       "  ⋮         \n",
       " -0.0978652 \n",
       " -0.110105  \n",
       " -0.123147  \n",
       " -0.126897  \n",
       " -0.128645  \n",
       " -0.125997  \n",
       " -0.115358  \n",
       " -0.110441  \n",
       " -0.104184  \n",
       " -0.100073  \n",
       " -0.0956037 \n",
       " -0.0922071 "
      ]
     },
     "execution_count": 5,
     "metadata": {},
     "output_type": "execute_result"
    }
   ],
   "source": [
    "Tn = T*c_d/u_d\n",
    "dlt = readcsv(\"../test/anto_cl.csv\")\n",
    "dlt = dlt[2:end,:]\n",
    "t_ant = dlt[:,1]/Tn\n",
    "\n",
    "len = indmin(abs(t_ant-1))\n",
    "\n",
    "ant_steady = 0.4946\n",
    "ant_ocl = dlt[:,2] - ant_steady"
   ]
  },
  {
   "cell_type": "markdown",
   "metadata": {},
   "source": [
    "# 2% of the bending mode"
   ]
  },
  {
   "cell_type": "code",
   "execution_count": 6,
   "metadata": {
    "collapsed": false
   },
   "outputs": [
    {
     "data": {
      "text/plain": [
       "0.02"
      ]
     },
     "execution_count": 6,
     "metadata": {},
     "output_type": "execute_result"
    }
   ],
   "source": [
    "n_span = 12\n",
    "n_bterm = 40\n",
    "\n",
    "psi = zeros(n_span)\n",
    "dpsi = pi/n_span\n",
    "\n",
    "for i = 1:n_span\n",
    "    psi[i] = (real(i)-0.5)*dpsi\n",
    "end\n",
    "\n",
    "scale = 0.02\n"
   ]
  },
  {
   "cell_type": "code",
   "execution_count": 9,
   "metadata": {
    "collapsed": false
   },
   "outputs": [
    {
     "name": "stdout",
     "output_type": "stream",
     "text": [
      "161.608034 seconds (512.26 k allocations: 19.224 MB, 0.01% gc time)\n"
     ]
    }
   ],
   "source": [
    "#Run LDVM at all these locations:\n",
    "alpha_amp = 5*pi/180\n",
    "\n",
    "h_amp = zeros(n_span)\n",
    "for i = 1:n_span   \n",
    "    y_d = -b_d*cos(psi[i])/2.\n",
    "    h_amp[i] = evaluate(mode_spl,y_d)*scale/c_d\n",
    "end\n",
    "\n",
    "dtstar = min(0.015*8,0.015*0.2*2/(k*maximum(h_amp)))\n",
    "nsteps = round(Int,t_tot/dtstar)+1\n",
    "\n",
    "alphadef = ConstDef(alpha_amp)\n",
    "udef = ConstDef(u)\n",
    "pvt = 0.0 #Doesnt matter, no pitch\n",
    "lespcrit = [21;] #high value to turn off LEV shedding\n",
    "\n",
    "\n",
    "W_mat = Array{Float64,2}[]\n",
    "W_surf = TwoDSurf[]\n",
    "W_curfield = TwoDFlowField[]\n",
    "\n",
    "surf_in = TwoDSurf[]\n",
    "field_in = TwoDFlowField[]\n",
    "n_in = Int64[]\n",
    "dt_in = Float64[]\n",
    "del_in = DelVortDef[]\n",
    "\n",
    "for i = 1:Int(n_span/2)\n",
    "    hdef = CosDef(0., h_amp[i], w, 0.)\n",
    "    full_kinem = KinemDef(alphadef, hdef, udef)\n",
    "    surf = TwoDSurf(\"FlatPlate\", pvt, full_kinem, lespcrit)\n",
    "    curfield = TwoDFlowField()\n",
    "    del = DelVortDef(1, 500, 10)\n",
    "    push!(surf_in,surf)\n",
    "    push!(field_in, curfield)\n",
    "    push!(n_in,nsteps,)\n",
    "    push!(dt_in,dtstar)\n",
    "    push!(del_in,del)\n",
    "end\n",
    "\n",
    "@time fullsol = pmap((a1,a2,a3,a4,a5)->ldvm(a1,a2,a3,a4),surf_in,field_in,n_in,dt_in,del_in)\n",
    "\n",
    "for i = 1:Int(n_span/2)\n",
    "    push!(W_mat,fullsol[i][1])\n",
    "    push!(W_surf, fullsol[i][2])\n",
    "    push!(W_curfield, fullsol[i][3])\n",
    "end\n",
    "    "
   ]
  },
  {
   "cell_type": "code",
   "execution_count": 10,
   "metadata": {
    "collapsed": false
   },
   "outputs": [
    {
     "data": {
      "text/plain": [
       "1876"
      ]
     },
     "execution_count": 10,
     "metadata": {},
     "output_type": "execute_result"
    }
   ],
   "source": [
    "nsteps"
   ]
  },
  {
   "cell_type": "code",
   "execution_count": 11,
   "metadata": {
    "collapsed": true
   },
   "outputs": [],
   "source": [
    "\n",
    "#Mirror image for the rest of the span\n",
    "for i = Int(n_span/2)+1:n_span\n",
    "    mt = W_mat[n_span - i + 1]\n",
    "    st = W_surf[n_span - i + 1]\n",
    "    ct = W_curfield[n_span - i + 1]\n",
    "    push!(W_mat, mt)\n",
    "    push!(W_surf, st)\n",
    "    push!(W_curfield, ct)\n",
    "end\n",
    "\n",
    "lhs = zeros(n_span,n_bterm)\n",
    "rhs = zeros(n_span)\n",
    "b_coeff = zeros(nsteps,n_bterm)\n",
    "\n",
    "dt = W_mat[1][2,1] - W_mat[1][1,1]\n",
    "\n",
    "cnc_f = zeros(nsteps)\n",
    "cnnc_f = zeros(nsteps)\n",
    "\n",
    "bdot = zeros(nsteps,n_bterm)\n",
    "\n",
    "for i = 1:nsteps\n",
    "    for j = 1:n_span\n",
    "        for n = 1:n_bterm\n",
    "            lhs[j,n] = sin(n*psi[j])*(sin(psi[j]) + (n*pi/(2*AR)))\n",
    "        end\n",
    "        rhs[j] = pi*sin(psi[j])*W_mat[j][i,9]/(2*AR)\n",
    "    end\n",
    "        \n",
    "    b_coeff[i,:] = \\(lhs, rhs)\n",
    "    if i >= 2   \n",
    "        bdot[i,:] = (b_coeff[i,:] - b_coeff[i-1,:])/dt\n",
    "    end\n",
    "       \n",
    "end\n",
    "\n",
    "a03d = zeros(nsteps,n_span)\n",
    "cd_ind = zeros(nsteps)\n",
    "a0dot3d = zeros(nsteps,n_span)\n",
    "\n",
    "\n",
    "for i = 1:nsteps\n",
    "    cd_ind[i] = 0\n",
    "    for n = 1:n_bterm\n",
    "        cd_ind[i] = cd_ind[i] + real(n)*b_coeff[i,n]^2\n",
    "    end\n",
    "    cd_ind[i] = cd_ind[i]*pi*AR\n",
    "    for j = 1:n_span\n",
    "        a03d[i,j] = 0\n",
    "        for n = 1:n_bterm\n",
    "            a03d[i,j] = a03d[i,j] - real(n)*b_coeff[i,n]*sin(n*psi[j])/sin(psi[j])\n",
    "            a0dot3d[i,j] = a0dot3d[i,j] - real(n)*bdot[i,n]*sin(n*psi[j])/sin(psi[j])\n",
    "        end\n",
    "    end\n",
    "end\n",
    "\n",
    "W_alpha = zeros(nsteps,n_span)\n",
    "W_h = zeros(nsteps,n_span)\n",
    "W_hdot = zeros(nsteps,n_span)\n",
    "W_u = zeros(nsteps,n_span)\n",
    "W_u[:,:] = 1\n",
    "W_alpha[:,:] = 5*pi/180\n",
    "for i = 1:nsteps\n",
    "    for j = 1:n_span\n",
    "        hdef = CosDef(0., h_amp[j], w, 0.)\n",
    "        tt = W_mat[1][i,1]    \n",
    "        W_h[i,j] = hdef(tt)*c\n",
    "        W_hdot[i,j] = ForwardDiff.derivative(hdef,tt)*u\n",
    "    end\n",
    "end\n",
    "\n",
    "W_cn = zeros(nsteps)\n",
    "W_cs = zeros(nsteps)\n",
    "W_cl = zeros(nsteps)\n",
    "W_cd = zeros(nsteps)\n",
    "W_cdi = zeros(nsteps)\n",
    "\n",
    "cn3d = zeros(nsteps, n_span)\n",
    "cs3d = zeros(nsteps, n_span)\n",
    "cl3d = zeros(nsteps, n_span)\n",
    "cd3d = zeros(nsteps, n_span)\n",
    "\n",
    "for i = 1:nsteps\n",
    "    W_cn[i] = 0\n",
    "    W_cs[i] = 0\n",
    "    for j = 1:n_span\n",
    "        cn3d[i,j] = W_mat[j][i,10] + (2*pi/u)*(W_u[i,j]*cos(W_alpha[i,j]) + W_hdot[i,j]*sin(W_alpha[i,j]))*a03d[1,j] + (2*pi*c/u)*(3*a0dot3d[i,j]/4)\n",
    "        cs3d[i,j] = W_mat[j][i,11] + 2*pi*a03d[i,j]^2\n",
    "        cl3d[i,j] = cn3d[i,j]*cos(W_alpha[i,j]) + cs3d[i,j]*sin(W_alpha[i,j])\n",
    "        cd3d[i,j] = cn3d[i,j]*sin(W_alpha[i,j]) - cs3d[i,j]*cos(W_alpha[i,j]) \n",
    "        W_cn[i] = W_cn[i] + cn3d[i,j]*sin(psi[j])*dpsi/2\n",
    "        W_cs[i] = W_cs[i] + cs3d[i,j]*sin(psi[j])*dpsi/2\n",
    "        W_cl[i] = W_cl[i] + cl3d[i,j]*sin(psi[j])*dpsi/2\n",
    "        W_cd[i] = W_cd[i] + cd3d[i,j]*sin(psi[j])*dpsi/2\n",
    "    end\n",
    "end\n",
    "    "
   ]
  },
  {
   "cell_type": "code",
   "execution_count": 12,
   "metadata": {
    "collapsed": false
   },
   "outputs": [
    {
     "data": {
      "text/plain": [
       "4.3328626640109125"
      ]
     },
     "execution_count": 12,
     "metadata": {},
     "output_type": "execute_result"
    }
   ],
   "source": [
    "t_th = W_mat[1][:,1]*c_d/u_d\n",
    "\n",
    "range = round(Int,(ncyc-1)*nsteps/ncyc)+1:nsteps\n",
    "tbyT = (t_th[range]-t_th[range[1]])/Tn\n",
    "\n",
    "kr_spl = Spline1D(tbyT,W_cl[range])\n",
    "kr_eval = evaluate(kr_spl,t_ant)\n",
    "\n",
    "ant_cl = ant_steady + ant_ocl*scale\n",
    "\n",
    "len = indmin(abs(t_ant-1))\n",
    "\n",
    "err = Array(Float64,len)\n",
    "for i = 1:len\n",
    "    err[i] = (ant_cl[i] - kr_eval[i])/ant_cl[i] \n",
    "end\n",
    "rms_err = sqrt(mean(err.^2))*100\n",
    "\n"
   ]
  },
  {
   "cell_type": "code",
   "execution_count": 13,
   "metadata": {
    "collapsed": false
   },
   "outputs": [
    {
     "data": {
      "image/png": "[encoded data removed]",
      "text/plain": [
       "PyPlot.Figure(PyObject <matplotlib.figure.Figure object at 0x3174f74d0>)"
      ]
     },
     "metadata": {},
     "output_type": "display_data"
    },
    {
     "data": {
      "text/plain": [
       "1-element Array{Any,1}:\n",
       " PyObject <matplotlib.lines.Line2D object at 0x319327690>"
      ]
     },
     "execution_count": 13,
     "metadata": {},
     "output_type": "execute_result"
    }
   ],
   "source": [
    "plot(t_ant,kr_eval)\n",
    "plot(t_ant,ant_cl)"
   ]
  },
  {
   "cell_type": "markdown",
   "metadata": {},
   "source": [
    "### 10% scale "
   ]
  },
  {
   "cell_type": "code",
   "execution_count": 20,
   "metadata": {
    "collapsed": false
   },
   "outputs": [
    {
     "data": {
      "text/plain": [
       "0.1"
      ]
     },
     "execution_count": 20,
     "metadata": {},
     "output_type": "execute_result"
    }
   ],
   "source": [
    "n_span = 12\n",
    "n_bterm = 40\n",
    "\n",
    "psi = zeros(n_span)\n",
    "dpsi = pi/n_span\n",
    "\n",
    "for i = 1:n_span\n",
    "    psi[i] = (real(i)-0.5)*dpsi\n",
    "end\n",
    "\n",
    "scale = 0.1\n",
    "\n",
    "\n",
    "\n"
   ]
  },
  {
   "cell_type": "code",
   "execution_count": 21,
   "metadata": {
    "collapsed": false
   },
   "outputs": [
    {
     "name": "stdout",
     "output_type": "stream",
     "text": [
      "175.030673 seconds (511.95 k allocations: 18.833 MB, 0.00% gc time)\n"
     ]
    }
   ],
   "source": [
    "#Run LDVM at all these locations:\n",
    "alpha_amp = 5*pi/180\n",
    "\n",
    "h_amp = zeros(n_span)\n",
    "for i = 1:n_span   \n",
    "    y_d = -b_d*cos(psi[i])/2.\n",
    "    h_amp[i] = evaluate(mode_spl,y_d)*scale/c_d\n",
    "end\n",
    "\n",
    "dtstar = min(0.015*8,0.015*0.2*2/(k*maximum(h_amp)))\n",
    "nsteps = round(Int,t_tot/dtstar)+1\n",
    "\n",
    "alphadef = ConstDef(alpha_amp)\n",
    "udef = ConstDef(u)\n",
    "pvt = 0.0 #Doesnt matter, no pitch\n",
    "lespcrit = [21;] #high value to turn off LEV shedding\n",
    "\n",
    "\n",
    "W_mat = Array{Float64,2}[]\n",
    "W_surf = TwoDSurf[]\n",
    "W_curfield = TwoDFlowField[]\n",
    "\n",
    "surf_in = TwoDSurf[]\n",
    "field_in = TwoDFlowField[]\n",
    "n_in = Int64[]\n",
    "dt_in = Float64[]\n",
    "del_in = DelVortDef[]\n",
    "\n",
    "for i = 1:Int(n_span/2)\n",
    "    hdef = CosDef(0., h_amp[i], w, 0.)\n",
    "    full_kinem = KinemDef(alphadef, hdef, udef)\n",
    "    surf = TwoDSurf(\"FlatPlate\", pvt, full_kinem, lespcrit)\n",
    "    curfield = TwoDFlowField()\n",
    "    del = DelVortDef(1, 500, 10)\n",
    "    push!(surf_in,surf)\n",
    "    push!(field_in, curfield)\n",
    "    push!(n_in,nsteps,)\n",
    "    push!(dt_in,dtstar)\n",
    "    push!(del_in,del)\n",
    "end\n",
    "\n",
    "@time fullsol = pmap((a1,a2,a3,a4,a5)->ldvm(a1,a2,a3,a4),surf_in,field_in,n_in,dt_in,del_in)\n",
    "\n",
    "for i = 1:Int(n_span/2)\n",
    "    push!(W_mat,fullsol[i][1])\n",
    "    push!(W_surf, fullsol[i][2])\n",
    "    push!(W_curfield, fullsol[i][3])\n",
    "end\n",
    "    "
   ]
  },
  {
   "cell_type": "code",
   "execution_count": 22,
   "metadata": {
    "collapsed": false
   },
   "outputs": [
    {
     "data": {
      "text/plain": [
       "4.601797877522341"
      ]
     },
     "execution_count": 22,
     "metadata": {},
     "output_type": "execute_result"
    }
   ],
   "source": [
    "\n",
    "#Mirror image for the rest of the span\n",
    "for i = Int(n_span/2)+1:n_span\n",
    "    mt = W_mat[n_span - i + 1]\n",
    "    st = W_surf[n_span - i + 1]\n",
    "    ct = W_curfield[n_span - i + 1]\n",
    "    push!(W_mat, mt)\n",
    "    push!(W_surf, st)\n",
    "    push!(W_curfield, ct)\n",
    "end\n",
    "\n",
    "lhs = zeros(n_span,n_bterm)\n",
    "rhs = zeros(n_span)\n",
    "b_coeff = zeros(nsteps,n_bterm)\n",
    "\n",
    "dt = W_mat[1][2,1] - W_mat[1][1,1]\n",
    "\n",
    "cnc_f = zeros(nsteps)\n",
    "cnnc_f = zeros(nsteps)\n",
    "\n",
    "bdot = zeros(nsteps,n_bterm)\n",
    "\n",
    "for i = 1:nsteps\n",
    "    for j = 1:n_span\n",
    "        for n = 1:n_bterm\n",
    "            lhs[j,n] = sin(n*psi[j])*(sin(psi[j]) + (n*pi/(2*AR)))\n",
    "        end\n",
    "        rhs[j] = pi*sin(psi[j])*W_mat[j][i,9]/(2*AR)\n",
    "    end\n",
    "        \n",
    "    b_coeff[i,:] = \\(lhs, rhs)\n",
    "    if i >= 2   \n",
    "        bdot[i,:] = (b_coeff[i,:] - b_coeff[i-1,:])/dt\n",
    "    end\n",
    "       \n",
    "end\n",
    "\n",
    "a03d = zeros(nsteps,n_span)\n",
    "cd_ind = zeros(nsteps)\n",
    "a0dot3d = zeros(nsteps,n_span)\n",
    "\n",
    "\n",
    "for i = 1:nsteps\n",
    "    cd_ind[i] = 0\n",
    "    for n = 1:n_bterm\n",
    "        cd_ind[i] = cd_ind[i] + real(n)*b_coeff[i,n]^2\n",
    "    end\n",
    "    cd_ind[i] = cd_ind[i]*pi*AR\n",
    "    for j = 1:n_span\n",
    "        a03d[i,j] = 0\n",
    "        for n = 1:n_bterm\n",
    "            a03d[i,j] = a03d[i,j] - real(n)*b_coeff[i,n]*sin(n*psi[j])/sin(psi[j])\n",
    "            a0dot3d[i,j] = a0dot3d[i,j] - real(n)*bdot[i,n]*sin(n*psi[j])/sin(psi[j])\n",
    "        end\n",
    "    end\n",
    "end\n",
    "\n",
    "W_alpha = zeros(nsteps,n_span)\n",
    "W_h = zeros(nsteps,n_span)\n",
    "W_hdot = zeros(nsteps,n_span)\n",
    "W_u = zeros(nsteps,n_span)\n",
    "W_u[:,:] = 1\n",
    "W_alpha[:,:] = 5*pi/180\n",
    "for i = 1:nsteps\n",
    "    for j = 1:n_span\n",
    "        hdef = CosDef(0., h_amp[j], w, 0.)\n",
    "        tt = W_mat[1][i,1]    \n",
    "        W_h[i,j] = hdef(tt)*c\n",
    "        W_hdot[i,j] = ForwardDiff.derivative(hdef,tt)*u\n",
    "    end\n",
    "end\n",
    "\n",
    "W_cn = zeros(nsteps)\n",
    "W_cs = zeros(nsteps)\n",
    "W_cl = zeros(nsteps)\n",
    "W_cd = zeros(nsteps)\n",
    "W_cdi = zeros(nsteps)\n",
    "\n",
    "cn3d = zeros(nsteps, n_span)\n",
    "cs3d = zeros(nsteps, n_span)\n",
    "cl3d = zeros(nsteps, n_span)\n",
    "cd3d = zeros(nsteps, n_span)\n",
    "\n",
    "for i = 1:nsteps\n",
    "    W_cn[i] = 0\n",
    "    W_cs[i] = 0\n",
    "    for j = 1:n_span\n",
    "        cn3d[i,j] = W_mat[j][i,10] + (2*pi/u)*(W_u[i,j]*cos(W_alpha[i,j]) + W_hdot[i,j]*sin(W_alpha[i,j]))*a03d[1,j] + (2*pi*c/u)*(3*a0dot3d[i,j]/4)\n",
    "        cs3d[i,j] = W_mat[j][i,11] + 2*pi*a03d[i,j]^2\n",
    "        cl3d[i,j] = cn3d[i,j]*cos(W_alpha[i,j]) + cs3d[i,j]*sin(W_alpha[i,j])\n",
    "        cd3d[i,j] = cn3d[i,j]*sin(W_alpha[i,j]) - cs3d[i,j]*cos(W_alpha[i,j]) \n",
    "        W_cn[i] = W_cn[i] + cn3d[i,j]*sin(psi[j])*dpsi/2\n",
    "        W_cs[i] = W_cs[i] + cs3d[i,j]*sin(psi[j])*dpsi/2\n",
    "        W_cl[i] = W_cl[i] + cl3d[i,j]*sin(psi[j])*dpsi/2\n",
    "        W_cd[i] = W_cd[i] + cd3d[i,j]*sin(psi[j])*dpsi/2\n",
    "    end\n",
    "end\n",
    "    \n",
    "\n",
    "t_th = W_mat[1][:,1]*c_d/u_d\n",
    "\n",
    "range = round(Int,(ncyc-1)*nsteps/ncyc)+1:nsteps\n",
    "tbyT = (t_th[range]-t_th[range[1]])/Tn\n",
    "\n",
    "kr_spl = Spline1D(tbyT,W_cl[range])\n",
    "kr_eval = evaluate(kr_spl,t_ant)\n",
    "\n",
    "ant_cl = ant_steady + ant_ocl*scale\n",
    "\n",
    "len = indmin(abs(t_ant-1))\n",
    "\n",
    "err = Array(Float64,len)\n",
    "for i = 1:len\n",
    "    err[i] = (ant_cl[i] - kr_eval[i])/ant_cl[i] \n",
    "end\n",
    "rms_err = sqrt(mean(err.^2))*100\n",
    "\n",
    "\n"
   ]
  },
  {
   "cell_type": "code",
   "execution_count": 23,
   "metadata": {
    "collapsed": false
   },
   "outputs": [
    {
     "data": {
      "image/png": "[encoded data removed]",
      "text/plain": [
       "PyPlot.Figure(PyObject <matplotlib.figure.Figure object at 0x319b42150>)"
      ]
     },
     "metadata": {},
     "output_type": "display_data"
    },
    {
     "data": {
      "text/plain": [
       "1-element Array{Any,1}:\n",
       " PyObject <matplotlib.lines.Line2D object at 0x319f50d50>"
      ]
     },
     "execution_count": 23,
     "metadata": {},
     "output_type": "execute_result"
    }
   ],
   "source": [
    "plot(t_ant,kr_eval)\n",
    "plot(t_ant,ant_cl)"
   ]
  },
  {
   "cell_type": "markdown",
   "metadata": {},
   "source": [
    "### 25% scale "
   ]
  },
  {
   "cell_type": "code",
   "execution_count": 24,
   "metadata": {
    "collapsed": false
   },
   "outputs": [
    {
     "data": {
      "text/plain": [
       "0.25"
      ]
     },
     "execution_count": 24,
     "metadata": {},
     "output_type": "execute_result"
    }
   ],
   "source": [
    "n_span = 12\n",
    "n_bterm = 40\n",
    "\n",
    "psi = zeros(n_span)\n",
    "dpsi = pi/n_span\n",
    "\n",
    "for i = 1:n_span\n",
    "    psi[i] = (real(i)-0.5)*dpsi\n",
    "end\n",
    "\n",
    "scale = 0.25\n"
   ]
  },
  {
   "cell_type": "code",
   "execution_count": 25,
   "metadata": {
    "collapsed": false
   },
   "outputs": [
    {
     "name": "stdout",
     "output_type": "stream",
     "text": [
      "175.961643 seconds (410.67 k allocations: 14.652 MB)\n"
     ]
    }
   ],
   "source": [
    "#Run LDVM at all these locations:\n",
    "alpha_amp = 5*pi/180\n",
    "\n",
    "h_amp = zeros(n_span)\n",
    "for i = 1:n_span   \n",
    "    y_d = -b_d*cos(psi[i])/2.\n",
    "    h_amp[i] = evaluate(mode_spl,y_d)*scale/c_d\n",
    "end\n",
    "\n",
    "dtstar = min(0.015*8,0.015*0.2*2/(k*maximum(h_amp)))\n",
    "nsteps = round(Int,t_tot/dtstar)+1\n",
    "\n",
    "alphadef = ConstDef(alpha_amp)\n",
    "udef = ConstDef(u)\n",
    "pvt = 0.0 #Doesnt matter, no pitch\n",
    "lespcrit = [21;] #high value to turn off LEV shedding\n",
    "\n",
    "\n",
    "W_mat = Array{Float64,2}[]\n",
    "W_surf = TwoDSurf[]\n",
    "W_curfield = TwoDFlowField[]\n",
    "\n",
    "surf_in = TwoDSurf[]\n",
    "field_in = TwoDFlowField[]\n",
    "n_in = Int64[]\n",
    "dt_in = Float64[]\n",
    "del_in = DelVortDef[]\n",
    "\n",
    "for i = 1:Int(n_span/2)\n",
    "    hdef = CosDef(0., h_amp[i], w, 0.)\n",
    "    full_kinem = KinemDef(alphadef, hdef, udef)\n",
    "    surf = TwoDSurf(\"FlatPlate\", pvt, full_kinem, lespcrit)\n",
    "    curfield = TwoDFlowField()\n",
    "    del = DelVortDef(1, 500, 10)\n",
    "    push!(surf_in,surf)\n",
    "    push!(field_in, curfield)\n",
    "    push!(n_in,nsteps,)\n",
    "    push!(dt_in,dtstar)\n",
    "    push!(del_in,del)\n",
    "end\n",
    "\n",
    "@time fullsol = pmap((a1,a2,a3,a4,a5)->ldvm(a1,a2,a3,a4),surf_in,field_in,n_in,dt_in,del_in)\n",
    "\n",
    "for i = 1:Int(n_span/2)\n",
    "    push!(W_mat,fullsol[i][1])\n",
    "    push!(W_surf, fullsol[i][2])\n",
    "    push!(W_curfield, fullsol[i][3])\n",
    "end\n",
    "    "
   ]
  },
  {
   "cell_type": "code",
   "execution_count": 26,
   "metadata": {
    "collapsed": false
   },
   "outputs": [
    {
     "data": {
      "text/plain": [
       "5.809515307820985"
      ]
     },
     "execution_count": 26,
     "metadata": {},
     "output_type": "execute_result"
    }
   ],
   "source": [
    "\n",
    "#Mirror image for the rest of the span\n",
    "for i = Int(n_span/2)+1:n_span\n",
    "    mt = W_mat[n_span - i + 1]\n",
    "    st = W_surf[n_span - i + 1]\n",
    "    ct = W_curfield[n_span - i + 1]\n",
    "    push!(W_mat, mt)\n",
    "    push!(W_surf, st)\n",
    "    push!(W_curfield, ct)\n",
    "end\n",
    "\n",
    "lhs = zeros(n_span,n_bterm)\n",
    "rhs = zeros(n_span)\n",
    "b_coeff = zeros(nsteps,n_bterm)\n",
    "\n",
    "dt = W_mat[1][2,1] - W_mat[1][1,1]\n",
    "\n",
    "cnc_f = zeros(nsteps)\n",
    "cnnc_f = zeros(nsteps)\n",
    "\n",
    "bdot = zeros(nsteps,n_bterm)\n",
    "\n",
    "for i = 1:nsteps\n",
    "    for j = 1:n_span\n",
    "        for n = 1:n_bterm\n",
    "            lhs[j,n] = sin(n*psi[j])*(sin(psi[j]) + (n*pi/(2*AR)))\n",
    "        end\n",
    "        rhs[j] = pi*sin(psi[j])*W_mat[j][i,9]/(2*AR)\n",
    "    end\n",
    "        \n",
    "    b_coeff[i,:] = \\(lhs, rhs)\n",
    "    if i >= 2   \n",
    "        bdot[i,:] = (b_coeff[i,:] - b_coeff[i-1,:])/dt\n",
    "    end\n",
    "       \n",
    "end\n",
    "\n",
    "a03d = zeros(nsteps,n_span)\n",
    "cd_ind = zeros(nsteps)\n",
    "a0dot3d = zeros(nsteps,n_span)\n",
    "\n",
    "\n",
    "for i = 1:nsteps\n",
    "    cd_ind[i] = 0\n",
    "    for n = 1:n_bterm\n",
    "        cd_ind[i] = cd_ind[i] + real(n)*b_coeff[i,n]^2\n",
    "    end\n",
    "    cd_ind[i] = cd_ind[i]*pi*AR\n",
    "    for j = 1:n_span\n",
    "        a03d[i,j] = 0\n",
    "        for n = 1:n_bterm\n",
    "            a03d[i,j] = a03d[i,j] - real(n)*b_coeff[i,n]*sin(n*psi[j])/sin(psi[j])\n",
    "            a0dot3d[i,j] = a0dot3d[i,j] - real(n)*bdot[i,n]*sin(n*psi[j])/sin(psi[j])\n",
    "        end\n",
    "    end\n",
    "end\n",
    "\n",
    "W_alpha = zeros(nsteps,n_span)\n",
    "W_h = zeros(nsteps,n_span)\n",
    "W_hdot = zeros(nsteps,n_span)\n",
    "W_u = zeros(nsteps,n_span)\n",
    "W_u[:,:] = 1\n",
    "W_alpha[:,:] = 5*pi/180\n",
    "for i = 1:nsteps\n",
    "    for j = 1:n_span\n",
    "        hdef = CosDef(0., h_amp[j], w, 0.)\n",
    "        tt = W_mat[1][i,1]    \n",
    "        W_h[i,j] = hdef(tt)*c\n",
    "        W_hdot[i,j] = ForwardDiff.derivative(hdef,tt)*u\n",
    "    end\n",
    "end\n",
    "\n",
    "W_cn = zeros(nsteps)\n",
    "W_cs = zeros(nsteps)\n",
    "W_cl = zeros(nsteps)\n",
    "W_cd = zeros(nsteps)\n",
    "W_cdi = zeros(nsteps)\n",
    "\n",
    "cn3d = zeros(nsteps, n_span)\n",
    "cs3d = zeros(nsteps, n_span)\n",
    "cl3d = zeros(nsteps, n_span)\n",
    "cd3d = zeros(nsteps, n_span)\n",
    "\n",
    "for i = 1:nsteps\n",
    "    W_cn[i] = 0\n",
    "    W_cs[i] = 0\n",
    "    for j = 1:n_span\n",
    "        cn3d[i,j] = W_mat[j][i,10] + (2*pi/u)*(W_u[i,j]*cos(W_alpha[i,j]) + W_hdot[i,j]*sin(W_alpha[i,j]))*a03d[1,j] + (2*pi*c/u)*(3*a0dot3d[i,j]/4)\n",
    "        cs3d[i,j] = W_mat[j][i,11] + 2*pi*a03d[i,j]^2\n",
    "        cl3d[i,j] = cn3d[i,j]*cos(W_alpha[i,j]) + cs3d[i,j]*sin(W_alpha[i,j])\n",
    "        cd3d[i,j] = cn3d[i,j]*sin(W_alpha[i,j]) - cs3d[i,j]*cos(W_alpha[i,j]) \n",
    "        W_cn[i] = W_cn[i] + cn3d[i,j]*sin(psi[j])*dpsi/2\n",
    "        W_cs[i] = W_cs[i] + cs3d[i,j]*sin(psi[j])*dpsi/2\n",
    "        W_cl[i] = W_cl[i] + cl3d[i,j]*sin(psi[j])*dpsi/2\n",
    "        W_cd[i] = W_cd[i] + cd3d[i,j]*sin(psi[j])*dpsi/2\n",
    "    end\n",
    "end\n",
    "    \n",
    "\n",
    "t_th = W_mat[1][:,1]*c_d/u_d\n",
    "\n",
    "range = round(Int,(ncyc-1)*nsteps/ncyc)+1:nsteps\n",
    "tbyT = (t_th[range]-t_th[range[1]])/Tn\n",
    "\n",
    "kr_spl = Spline1D(tbyT,W_cl[range])\n",
    "kr_eval = evaluate(kr_spl,t_ant)\n",
    "\n",
    "ant_cl = ant_steady + ant_ocl*scale\n",
    "\n",
    "len = indmin(abs(t_ant-1))\n",
    "\n",
    "err = Array(Float64,len)\n",
    "for i = 1:len\n",
    "    err[i] = (ant_cl[i] - kr_eval[i])/ant_cl[i] \n",
    "end\n",
    "rms_err = sqrt(mean(err.^2))*100\n",
    "\n",
    "\n",
    "\n"
   ]
  },
  {
   "cell_type": "code",
   "execution_count": 27,
   "metadata": {
    "collapsed": false
   },
   "outputs": [
    {
     "data": {
      "image/png": "[encoded data removed]",
      "text/plain": [
       "PyPlot.Figure(PyObject <matplotlib.figure.Figure object at 0x319359b10>)"
      ]
     },
     "metadata": {},
     "output_type": "display_data"
    },
    {
     "data": {
      "text/plain": [
       "1-element Array{Any,1}:\n",
       " PyObject <matplotlib.lines.Line2D object at 0x31a4f00d0>"
      ]
     },
     "execution_count": 27,
     "metadata": {},
     "output_type": "execute_result"
    }
   ],
   "source": [
    "plot(t_ant,kr_eval)\n",
    "plot(t_ant,ant_cl)"
   ]
  },
  {
   "cell_type": "markdown",
   "metadata": {},
   "source": [
    "### 50% scale \n"
   ]
  },
  {
   "cell_type": "code",
   "execution_count": 28,
   "metadata": {
    "collapsed": false
   },
   "outputs": [
    {
     "data": {
      "text/plain": [
       "0.5"
      ]
     },
     "execution_count": 28,
     "metadata": {},
     "output_type": "execute_result"
    }
   ],
   "source": [
    "n_span = 12\n",
    "n_bterm = 40\n",
    "\n",
    "psi = zeros(n_span)\n",
    "dpsi = pi/n_span\n",
    "\n",
    "for i = 1:n_span\n",
    "    psi[i] = (real(i)-0.5)*dpsi\n",
    "end\n",
    "\n",
    "scale = 0.5\n",
    "\n",
    "\n",
    "\n",
    "\n",
    "\n"
   ]
  },
  {
   "cell_type": "code",
   "execution_count": 29,
   "metadata": {
    "collapsed": false
   },
   "outputs": [
    {
     "name": "stdout",
     "output_type": "stream",
     "text": [
      "331.961381 seconds (467.72 k allocations: 16.575 MB, 0.01% gc time)\n"
     ]
    }
   ],
   "source": [
    "#Run LDVM at all these locations:\n",
    "alpha_amp = 5*pi/180\n",
    "\n",
    "h_amp = zeros(n_span)\n",
    "for i = 1:n_span   \n",
    "    y_d = -b_d*cos(psi[i])/2.\n",
    "    h_amp[i] = evaluate(mode_spl,y_d)*scale/c_d\n",
    "end\n",
    "\n",
    "dtstar = min(0.015*8,0.015*0.2*2/(k*maximum(h_amp)))\n",
    "nsteps = round(Int,t_tot/dtstar)+1\n",
    "\n",
    "alphadef = ConstDef(alpha_amp)\n",
    "udef = ConstDef(u)\n",
    "pvt = 0.0 #Doesnt matter, no pitch\n",
    "lespcrit = [21;] #high value to turn off LEV shedding\n",
    "\n",
    "\n",
    "W_mat = Array{Float64,2}[]\n",
    "W_surf = TwoDSurf[]\n",
    "W_curfield = TwoDFlowField[]\n",
    "\n",
    "surf_in = TwoDSurf[]\n",
    "field_in = TwoDFlowField[]\n",
    "n_in = Int64[]\n",
    "dt_in = Float64[]\n",
    "del_in = DelVortDef[]\n",
    "\n",
    "for i = 1:Int(n_span/2)\n",
    "    hdef = CosDef(0., h_amp[i], w, 0.)\n",
    "    full_kinem = KinemDef(alphadef, hdef, udef)\n",
    "    surf = TwoDSurf(\"FlatPlate\", pvt, full_kinem, lespcrit)\n",
    "    curfield = TwoDFlowField()\n",
    "    del = DelVortDef(1, 500, 10)\n",
    "    push!(surf_in,surf)\n",
    "    push!(field_in, curfield)\n",
    "    push!(n_in,nsteps,)\n",
    "    push!(dt_in,dtstar)\n",
    "    push!(del_in,del)\n",
    "end\n",
    "\n",
    "@time fullsol = pmap((a1,a2,a3,a4,a5)->ldvm(a1,a2,a3,a4),surf_in,field_in,n_in,dt_in,del_in)\n",
    "\n",
    "for i = 1:Int(n_span/2)\n",
    "    push!(W_mat,fullsol[i][1])\n",
    "    push!(W_surf, fullsol[i][2])\n",
    "    push!(W_curfield, fullsol[i][3])\n",
    "end\n",
    "    "
   ]
  },
  {
   "cell_type": "code",
   "execution_count": 30,
   "metadata": {
    "collapsed": false
   },
   "outputs": [
    {
     "data": {
      "text/plain": [
       "8.077065913904063"
      ]
     },
     "execution_count": 30,
     "metadata": {},
     "output_type": "execute_result"
    }
   ],
   "source": [
    "\n",
    "#Mirror image for the rest of the span\n",
    "for i = Int(n_span/2)+1:n_span\n",
    "    mt = W_mat[n_span - i + 1]\n",
    "    st = W_surf[n_span - i + 1]\n",
    "    ct = W_curfield[n_span - i + 1]\n",
    "    push!(W_mat, mt)\n",
    "    push!(W_surf, st)\n",
    "    push!(W_curfield, ct)\n",
    "end\n",
    "\n",
    "lhs = zeros(n_span,n_bterm)\n",
    "rhs = zeros(n_span)\n",
    "b_coeff = zeros(nsteps,n_bterm)\n",
    "\n",
    "dt = W_mat[1][2,1] - W_mat[1][1,1]\n",
    "\n",
    "cnc_f = zeros(nsteps)\n",
    "cnnc_f = zeros(nsteps)\n",
    "\n",
    "bdot = zeros(nsteps,n_bterm)\n",
    "\n",
    "for i = 1:nsteps\n",
    "    for j = 1:n_span\n",
    "        for n = 1:n_bterm\n",
    "            lhs[j,n] = sin(n*psi[j])*(sin(psi[j]) + (n*pi/(2*AR)))\n",
    "        end\n",
    "        rhs[j] = pi*sin(psi[j])*W_mat[j][i,9]/(2*AR)\n",
    "    end\n",
    "        \n",
    "    b_coeff[i,:] = \\(lhs, rhs)\n",
    "    if i >= 2   \n",
    "        bdot[i,:] = (b_coeff[i,:] - b_coeff[i-1,:])/dt\n",
    "    end\n",
    "       \n",
    "end\n",
    "\n",
    "a03d = zeros(nsteps,n_span)\n",
    "cd_ind = zeros(nsteps)\n",
    "a0dot3d = zeros(nsteps,n_span)\n",
    "\n",
    "\n",
    "for i = 1:nsteps\n",
    "    cd_ind[i] = 0\n",
    "    for n = 1:n_bterm\n",
    "        cd_ind[i] = cd_ind[i] + real(n)*b_coeff[i,n]^2\n",
    "    end\n",
    "    cd_ind[i] = cd_ind[i]*pi*AR\n",
    "    for j = 1:n_span\n",
    "        a03d[i,j] = 0\n",
    "        for n = 1:n_bterm\n",
    "            a03d[i,j] = a03d[i,j] - real(n)*b_coeff[i,n]*sin(n*psi[j])/sin(psi[j])\n",
    "            a0dot3d[i,j] = a0dot3d[i,j] - real(n)*bdot[i,n]*sin(n*psi[j])/sin(psi[j])\n",
    "        end\n",
    "    end\n",
    "end\n",
    "\n",
    "W_alpha = zeros(nsteps,n_span)\n",
    "W_h = zeros(nsteps,n_span)\n",
    "W_hdot = zeros(nsteps,n_span)\n",
    "W_u = zeros(nsteps,n_span)\n",
    "W_u[:,:] = 1\n",
    "W_alpha[:,:] = 5*pi/180\n",
    "for i = 1:nsteps\n",
    "    for j = 1:n_span\n",
    "        hdef = CosDef(0., h_amp[j], w, 0.)\n",
    "        tt = W_mat[1][i,1]    \n",
    "        W_h[i,j] = hdef(tt)*c\n",
    "        W_hdot[i,j] = ForwardDiff.derivative(hdef,tt)*u\n",
    "    end\n",
    "end\n",
    "\n",
    "W_cn = zeros(nsteps)\n",
    "W_cs = zeros(nsteps)\n",
    "W_cl = zeros(nsteps)\n",
    "W_cd = zeros(nsteps)\n",
    "W_cdi = zeros(nsteps)\n",
    "\n",
    "cn3d = zeros(nsteps, n_span)\n",
    "cs3d = zeros(nsteps, n_span)\n",
    "cl3d = zeros(nsteps, n_span)\n",
    "cd3d = zeros(nsteps, n_span)\n",
    "\n",
    "for i = 1:nsteps\n",
    "    W_cn[i] = 0\n",
    "    W_cs[i] = 0\n",
    "    for j = 1:n_span\n",
    "        cn3d[i,j] = W_mat[j][i,10] + (2*pi/u)*(W_u[i,j]*cos(W_alpha[i,j]) + W_hdot[i,j]*sin(W_alpha[i,j]))*a03d[1,j] + (2*pi*c/u)*(3*a0dot3d[i,j]/4)\n",
    "        cs3d[i,j] = W_mat[j][i,11] + 2*pi*a03d[i,j]^2\n",
    "        cl3d[i,j] = cn3d[i,j]*cos(W_alpha[i,j]) + cs3d[i,j]*sin(W_alpha[i,j])\n",
    "        cd3d[i,j] = cn3d[i,j]*sin(W_alpha[i,j]) - cs3d[i,j]*cos(W_alpha[i,j]) \n",
    "        W_cn[i] = W_cn[i] + cn3d[i,j]*sin(psi[j])*dpsi/2\n",
    "        W_cs[i] = W_cs[i] + cs3d[i,j]*sin(psi[j])*dpsi/2\n",
    "        W_cl[i] = W_cl[i] + cl3d[i,j]*sin(psi[j])*dpsi/2\n",
    "        W_cd[i] = W_cd[i] + cd3d[i,j]*sin(psi[j])*dpsi/2\n",
    "    end\n",
    "end\n",
    "    \n",
    "\n",
    "t_th = W_mat[1][:,1]*c_d/u_d\n",
    "\n",
    "range = round(Int,(ncyc-1)*nsteps/ncyc)+1:nsteps\n",
    "tbyT = (t_th[range]-t_th[range[1]])/Tn\n",
    "\n",
    "kr_spl = Spline1D(tbyT,W_cl[range])\n",
    "kr_eval = evaluate(kr_spl,t_ant)\n",
    "\n",
    "ant_cl = ant_steady + ant_ocl*scale\n",
    "\n",
    "len = indmin(abs(t_ant-1))\n",
    "\n",
    "err = Array(Float64,len)\n",
    "for i = 1:len\n",
    "    err[i] = (ant_cl[i] - kr_eval[i])/ant_cl[i] \n",
    "end\n",
    "rms_err = sqrt(mean(err.^2))*100\n",
    "\n",
    "\n"
   ]
  },
  {
   "cell_type": "code",
   "execution_count": 31,
   "metadata": {
    "collapsed": false
   },
   "outputs": [
    {
     "data": {
      "image/png": "[encoded data removed]",
      "text/plain": [
       "PyPlot.Figure(PyObject <matplotlib.figure.Figure object at 0x319b51f90>)"
      ]
     },
     "metadata": {},
     "output_type": "display_data"
    },
    {
     "data": {
      "text/plain": [
       "1-element Array{Any,1}:\n",
       " PyObject <matplotlib.lines.Line2D object at 0x31abfe490>"
      ]
     },
     "execution_count": 31,
     "metadata": {},
     "output_type": "execute_result"
    }
   ],
   "source": [
    "plot(t_ant,kr_eval)\n",
    "plot(t_ant,ant_cl)"
   ]
  },
  {
   "cell_type": "markdown",
   "metadata": {},
   "source": [
    "### 75% scale \n"
   ]
  },
  {
   "cell_type": "code",
   "execution_count": 45,
   "metadata": {
    "collapsed": false
   },
   "outputs": [
    {
     "data": {
      "text/plain": [
       "0.75"
      ]
     },
     "execution_count": 45,
     "metadata": {},
     "output_type": "execute_result"
    }
   ],
   "source": [
    "n_span = 12\n",
    "n_bterm = 40\n",
    "\n",
    "psi = zeros(n_span)\n",
    "dpsi = pi/n_span\n",
    "\n",
    "for i = 1:n_span\n",
    "    psi[i] = (real(i)-0.5)*dpsi\n",
    "end\n",
    "\n",
    "scale = 0.75\n",
    "\n",
    "\n",
    "\n",
    "\n",
    "\n",
    "\n"
   ]
  },
  {
   "cell_type": "code",
   "execution_count": null,
   "metadata": {
    "collapsed": false
   },
   "outputs": [],
   "source": [
    "#Run LDVM at all these locations:\n",
    "alpha_amp = 5*pi/180\n",
    "\n",
    "h_amp = zeros(n_span)\n",
    "for i = 1:n_span   \n",
    "    y_d = -b_d*cos(psi[i])/2.\n",
    "    h_amp[i] = evaluate(mode_spl,y_d)*scale/c_d\n",
    "end\n",
    "\n",
    "dtstar = min(0.015*8,0.015*0.2*2/(k*maximum(h_amp)))\n",
    "nsteps = round(Int,t_tot/dtstar)+1\n",
    "\n",
    "alphadef = ConstDef(alpha_amp)\n",
    "udef = ConstDef(u)\n",
    "pvt = 0.0 #Doesnt matter, no pitch\n",
    "lespcrit = [21;] #high value to turn off LEV shedding\n",
    "\n",
    "\n",
    "W_mat = Array{Float64,2}[]\n",
    "W_surf = TwoDSurf[]\n",
    "W_curfield = TwoDFlowField[]\n",
    "\n",
    "surf_in = TwoDSurf[]\n",
    "field_in = TwoDFlowField[]\n",
    "n_in = Int64[]\n",
    "dt_in = Float64[]\n",
    "del_in = DelVortDef[]\n",
    "\n",
    "for i = 1:Int(n_span/2)\n",
    "    hdef = CosDef(0., h_amp[i], w, 0.)\n",
    "    full_kinem = KinemDef(alphadef, hdef, udef)\n",
    "    surf = TwoDSurf(\"FlatPlate\", pvt, full_kinem, lespcrit)\n",
    "    curfield = TwoDFlowField()\n",
    "    del = DelVortDef(1, 500, 10)\n",
    "    push!(surf_in,surf)\n",
    "    push!(field_in, curfield)\n",
    "    push!(n_in,nsteps,)\n",
    "    push!(dt_in,dtstar)\n",
    "    push!(del_in,del)\n",
    "end\n",
    "\n",
    "@time fullsol = pmap((a1,a2,a3,a4,a5)->ldvm(a1,a2,a3,a4),surf_in,field_in,n_in,dt_in,del_in)\n",
    "\n",
    "for i = 1:Int(n_span/2)\n",
    "    push!(W_mat,fullsol[i][1])\n",
    "    push!(W_surf, fullsol[i][2])\n",
    "    push!(W_curfield, fullsol[i][3])\n",
    "end\n",
    "    "
   ]
  },
  {
   "cell_type": "code",
   "execution_count": null,
   "metadata": {
    "collapsed": false
   },
   "outputs": [],
   "source": [
    "\n",
    "#Mirror image for the rest of the span\n",
    "for i = Int(n_span/2)+1:n_span\n",
    "    mt = W_mat[n_span - i + 1]\n",
    "    st = W_surf[n_span - i + 1]\n",
    "    ct = W_curfield[n_span - i + 1]\n",
    "    push!(W_mat, mt)\n",
    "    push!(W_surf, st)\n",
    "    push!(W_curfield, ct)\n",
    "end\n",
    "\n",
    "lhs = zeros(n_span,n_bterm)\n",
    "rhs = zeros(n_span)\n",
    "b_coeff = zeros(nsteps,n_bterm)\n",
    "\n",
    "dt = W_mat[1][2,1] - W_mat[1][1,1]\n",
    "\n",
    "cnc_f = zeros(nsteps)\n",
    "cnnc_f = zeros(nsteps)\n",
    "\n",
    "bdot = zeros(nsteps,n_bterm)\n",
    "\n",
    "for i = 1:nsteps\n",
    "    for j = 1:n_span\n",
    "        for n = 1:n_bterm\n",
    "            lhs[j,n] = sin(n*psi[j])*(sin(psi[j]) + (n*pi/(2*AR)))\n",
    "        end\n",
    "        rhs[j] = pi*sin(psi[j])*W_mat[j][i,9]/(2*AR)\n",
    "    end\n",
    "        \n",
    "    b_coeff[i,:] = \\(lhs, rhs)\n",
    "    if i >= 2   \n",
    "        bdot[i,:] = (b_coeff[i,:] - b_coeff[i-1,:])/dt\n",
    "    end\n",
    "       \n",
    "end\n",
    "\n",
    "a03d = zeros(nsteps,n_span)\n",
    "cd_ind = zeros(nsteps)\n",
    "a0dot3d = zeros(nsteps,n_span)\n",
    "\n",
    "\n",
    "for i = 1:nsteps\n",
    "    cd_ind[i] = 0\n",
    "    for n = 1:n_bterm\n",
    "        cd_ind[i] = cd_ind[i] + real(n)*b_coeff[i,n]^2\n",
    "    end\n",
    "    cd_ind[i] = cd_ind[i]*pi*AR\n",
    "    for j = 1:n_span\n",
    "        a03d[i,j] = 0\n",
    "        for n = 1:n_bterm\n",
    "            a03d[i,j] = a03d[i,j] - real(n)*b_coeff[i,n]*sin(n*psi[j])/sin(psi[j])\n",
    "            a0dot3d[i,j] = a0dot3d[i,j] - real(n)*bdot[i,n]*sin(n*psi[j])/sin(psi[j])\n",
    "        end\n",
    "    end\n",
    "end\n",
    "\n",
    "W_alpha = zeros(nsteps,n_span)\n",
    "W_h = zeros(nsteps,n_span)\n",
    "W_hdot = zeros(nsteps,n_span)\n",
    "W_u = zeros(nsteps,n_span)\n",
    "W_u[:,:] = 1\n",
    "W_alpha[:,:] = 5*pi/180\n",
    "for i = 1:nsteps\n",
    "    for j = 1:n_span\n",
    "        hdef = CosDef(0., h_amp[j], w, 0.)\n",
    "        tt = W_mat[1][i,1]    \n",
    "        W_h[i,j] = hdef(tt)*c\n",
    "        W_hdot[i,j] = ForwardDiff.derivative(hdef,tt)*u\n",
    "    end\n",
    "end\n",
    "\n",
    "W_cn = zeros(nsteps)\n",
    "W_cs = zeros(nsteps)\n",
    "W_cl = zeros(nsteps)\n",
    "W_cd = zeros(nsteps)\n",
    "W_cdi = zeros(nsteps)\n",
    "\n",
    "cn3d = zeros(nsteps, n_span)\n",
    "cs3d = zeros(nsteps, n_span)\n",
    "cl3d = zeros(nsteps, n_span)\n",
    "cd3d = zeros(nsteps, n_span)\n",
    "\n",
    "for i = 1:nsteps\n",
    "    W_cn[i] = 0\n",
    "    W_cs[i] = 0\n",
    "    for j = 1:n_span\n",
    "        cn3d[i,j] = W_mat[j][i,10] + (2*pi/u)*(W_u[i,j]*cos(W_alpha[i,j]) + W_hdot[i,j]*sin(W_alpha[i,j]))*a03d[1,j] + (2*pi*c/u)*(3*a0dot3d[i,j]/4)\n",
    "        cs3d[i,j] = W_mat[j][i,11] + 2*pi*a03d[i,j]^2\n",
    "        cl3d[i,j] = cn3d[i,j]*cos(W_alpha[i,j]) + cs3d[i,j]*sin(W_alpha[i,j])\n",
    "        cd3d[i,j] = cn3d[i,j]*sin(W_alpha[i,j]) - cs3d[i,j]*cos(W_alpha[i,j]) \n",
    "        W_cn[i] = W_cn[i] + cn3d[i,j]*sin(psi[j])*dpsi/2\n",
    "        W_cs[i] = W_cs[i] + cs3d[i,j]*sin(psi[j])*dpsi/2\n",
    "        W_cl[i] = W_cl[i] + cl3d[i,j]*sin(psi[j])*dpsi/2\n",
    "        W_cd[i] = W_cd[i] + cd3d[i,j]*sin(psi[j])*dpsi/2\n",
    "    end\n",
    "end\n",
    "    \n",
    "\n",
    "t_th = W_mat[1][:,1]*c_d/u_d\n",
    "\n",
    "range = round(Int,(ncyc-1)*nsteps/ncyc)+1:nsteps\n",
    "tbyT = (t_th[range]-t_th[range[1]])/Tn\n",
    "\n",
    "kr_spl = Spline1D(tbyT,W_cl[range])\n",
    "kr_eval = evaluate(kr_spl,t_ant)\n",
    "\n",
    "ant_cl = ant_steady + ant_ocl*scale\n",
    "\n",
    "len = indmin(abs(t_ant-1))\n",
    "\n",
    "err = Array(Float64,len)\n",
    "for i = 1:len\n",
    "    err[i] = (ant_cl[i] - kr_eval[i])/ant_cl[i] \n",
    "end\n",
    "rms_err = sqrt(mean(err.^2))*100\n",
    "\n",
    "\n",
    "\n"
   ]
  },
  {
   "cell_type": "code",
   "execution_count": null,
   "metadata": {
    "collapsed": false
   },
   "outputs": [],
   "source": [
    "plot(t_ant,kr_eval)\n",
    "plot(t_ant,ant_cl)"
   ]
  },
  {
   "cell_type": "markdown",
   "metadata": {},
   "source": [
    "### 100% scale \n",
    "\n"
   ]
  },
  {
   "cell_type": "code",
   "execution_count": 37,
   "metadata": {
    "collapsed": false
   },
   "outputs": [
    {
     "data": {
      "text/plain": [
       "1.0"
      ]
     },
     "execution_count": 37,
     "metadata": {},
     "output_type": "execute_result"
    }
   ],
   "source": [
    "n_span = 12\n",
    "n_bterm = 40\n",
    "\n",
    "psi = zeros(n_span)\n",
    "dpsi = pi/n_span\n",
    "\n",
    "for i = 1:n_span\n",
    "    psi[i] = (real(i)-0.5)*dpsi\n",
    "end\n",
    "\n",
    "scale = 1.0\n",
    "\n",
    "\n",
    "\n",
    "\n",
    "\n",
    "\n",
    "\n"
   ]
  },
  {
   "cell_type": "code",
   "execution_count": 38,
   "metadata": {
    "collapsed": false
   },
   "outputs": [
    {
     "name": "stdout",
     "output_type": "stream",
     "text": [
      "1778.655448 seconds (876.89 k allocations: 32.635 MB, 0.00% gc time)\n"
     ]
    }
   ],
   "source": [
    "#Run LDVM at all these locations:\n",
    "alpha_amp = 5*pi/180\n",
    "\n",
    "h_amp = zeros(n_span)\n",
    "for i = 1:n_span   \n",
    "    y_d = -b_d*cos(psi[i])/2.\n",
    "    h_amp[i] = evaluate(mode_spl,y_d)*scale/c_d\n",
    "end\n",
    "\n",
    "dtstar = min(0.015*8,0.015*0.2*2/(k*maximum(h_amp)))\n",
    "nsteps = round(Int,t_tot/dtstar)+1\n",
    "\n",
    "alphadef = ConstDef(alpha_amp)\n",
    "udef = ConstDef(u)\n",
    "pvt = 0.0 #Doesnt matter, no pitch\n",
    "lespcrit = [21;] #high value to turn off LEV shedding\n",
    "\n",
    "\n",
    "W_mat = Array{Float64,2}[]\n",
    "W_surf = TwoDSurf[]\n",
    "W_curfield = TwoDFlowField[]\n",
    "\n",
    "surf_in = TwoDSurf[]\n",
    "field_in = TwoDFlowField[]\n",
    "n_in = Int64[]\n",
    "dt_in = Float64[]\n",
    "del_in = DelVortDef[]\n",
    "\n",
    "for i = 1:Int(n_span/2)\n",
    "    hdef = CosDef(0., h_amp[i], w, 0.)\n",
    "    full_kinem = KinemDef(alphadef, hdef, udef)\n",
    "    surf = TwoDSurf(\"FlatPlate\", pvt, full_kinem, lespcrit)\n",
    "    curfield = TwoDFlowField()\n",
    "    del = DelVortDef(1, 500, 10)\n",
    "    push!(surf_in,surf)\n",
    "    push!(field_in, curfield)\n",
    "    push!(n_in,nsteps,)\n",
    "    push!(dt_in,dtstar)\n",
    "    push!(del_in,del)\n",
    "end\n",
    "\n",
    "@time fullsol = pmap((a1,a2,a3,a4,a5)->ldvm(a1,a2,a3,a4),surf_in,field_in,n_in,dt_in,del_in)\n",
    "\n",
    "for i = 1:Int(n_span/2)\n",
    "    push!(W_mat,fullsol[i][1])\n",
    "    push!(W_surf, fullsol[i][2])\n",
    "    push!(W_curfield, fullsol[i][3])\n",
    "end\n",
    "    "
   ]
  },
  {
   "cell_type": "code",
   "execution_count": 39,
   "metadata": {
    "collapsed": false
   },
   "outputs": [
    {
     "data": {
      "text/plain": [
       "15.015943790289882"
      ]
     },
     "execution_count": 39,
     "metadata": {},
     "output_type": "execute_result"
    }
   ],
   "source": [
    "\n",
    "#Mirror image for the rest of the span\n",
    "for i = Int(n_span/2)+1:n_span\n",
    "    mt = W_mat[n_span - i + 1]\n",
    "    st = W_surf[n_span - i + 1]\n",
    "    ct = W_curfield[n_span - i + 1]\n",
    "    push!(W_mat, mt)\n",
    "    push!(W_surf, st)\n",
    "    push!(W_curfield, ct)\n",
    "end\n",
    "\n",
    "lhs = zeros(n_span,n_bterm)\n",
    "rhs = zeros(n_span)\n",
    "b_coeff = zeros(nsteps,n_bterm)\n",
    "\n",
    "dt = W_mat[1][2,1] - W_mat[1][1,1]\n",
    "\n",
    "cnc_f = zeros(nsteps)\n",
    "cnnc_f = zeros(nsteps)\n",
    "\n",
    "bdot = zeros(nsteps,n_bterm)\n",
    "\n",
    "for i = 1:nsteps\n",
    "    for j = 1:n_span\n",
    "        for n = 1:n_bterm\n",
    "            lhs[j,n] = sin(n*psi[j])*(sin(psi[j]) + (n*pi/(2*AR)))\n",
    "        end\n",
    "        rhs[j] = pi*sin(psi[j])*W_mat[j][i,9]/(2*AR)\n",
    "    end\n",
    "        \n",
    "    b_coeff[i,:] = \\(lhs, rhs)\n",
    "    if i >= 2   \n",
    "        bdot[i,:] = (b_coeff[i,:] - b_coeff[i-1,:])/dt\n",
    "    end\n",
    "       \n",
    "end\n",
    "\n",
    "a03d = zeros(nsteps,n_span)\n",
    "cd_ind = zeros(nsteps)\n",
    "a0dot3d = zeros(nsteps,n_span)\n",
    "\n",
    "\n",
    "for i = 1:nsteps\n",
    "    cd_ind[i] = 0\n",
    "    for n = 1:n_bterm\n",
    "        cd_ind[i] = cd_ind[i] + real(n)*b_coeff[i,n]^2\n",
    "    end\n",
    "    cd_ind[i] = cd_ind[i]*pi*AR\n",
    "    for j = 1:n_span\n",
    "        a03d[i,j] = 0\n",
    "        for n = 1:n_bterm\n",
    "            a03d[i,j] = a03d[i,j] - real(n)*b_coeff[i,n]*sin(n*psi[j])/sin(psi[j])\n",
    "            a0dot3d[i,j] = a0dot3d[i,j] - real(n)*bdot[i,n]*sin(n*psi[j])/sin(psi[j])\n",
    "        end\n",
    "    end\n",
    "end\n",
    "\n",
    "W_alpha = zeros(nsteps,n_span)\n",
    "W_h = zeros(nsteps,n_span)\n",
    "W_hdot = zeros(nsteps,n_span)\n",
    "W_u = zeros(nsteps,n_span)\n",
    "W_u[:,:] = 1\n",
    "W_alpha[:,:] = 5*pi/180\n",
    "for i = 1:nsteps\n",
    "    for j = 1:n_span\n",
    "        hdef = CosDef(0., h_amp[j], w, 0.)\n",
    "        tt = W_mat[1][i,1]    \n",
    "        W_h[i,j] = hdef(tt)*c\n",
    "        W_hdot[i,j] = ForwardDiff.derivative(hdef,tt)*u\n",
    "    end\n",
    "end\n",
    "\n",
    "W_cn = zeros(nsteps)\n",
    "W_cs = zeros(nsteps)\n",
    "W_cl = zeros(nsteps)\n",
    "W_cd = zeros(nsteps)\n",
    "W_cdi = zeros(nsteps)\n",
    "\n",
    "cn3d = zeros(nsteps, n_span)\n",
    "cs3d = zeros(nsteps, n_span)\n",
    "cl3d = zeros(nsteps, n_span)\n",
    "cd3d = zeros(nsteps, n_span)\n",
    "\n",
    "for i = 1:nsteps\n",
    "    W_cn[i] = 0\n",
    "    W_cs[i] = 0\n",
    "    for j = 1:n_span\n",
    "        cn3d[i,j] = W_mat[j][i,10] + (2*pi/u)*(W_u[i,j]*cos(W_alpha[i,j]) + W_hdot[i,j]*sin(W_alpha[i,j]))*a03d[1,j] + (2*pi*c/u)*(3*a0dot3d[i,j]/4)\n",
    "        cs3d[i,j] = W_mat[j][i,11] + 2*pi*a03d[i,j]^2\n",
    "        cl3d[i,j] = cn3d[i,j]*cos(W_alpha[i,j]) + cs3d[i,j]*sin(W_alpha[i,j])\n",
    "        cd3d[i,j] = cn3d[i,j]*sin(W_alpha[i,j]) - cs3d[i,j]*cos(W_alpha[i,j]) \n",
    "        W_cn[i] = W_cn[i] + cn3d[i,j]*sin(psi[j])*dpsi/2\n",
    "        W_cs[i] = W_cs[i] + cs3d[i,j]*sin(psi[j])*dpsi/2\n",
    "        W_cl[i] = W_cl[i] + cl3d[i,j]*sin(psi[j])*dpsi/2\n",
    "        W_cd[i] = W_cd[i] + cd3d[i,j]*sin(psi[j])*dpsi/2\n",
    "    end\n",
    "end\n",
    "    \n",
    "\n",
    "t_th = W_mat[1][:,1]*c_d/u_d\n",
    "\n",
    "range = round(Int,(ncyc-1)*nsteps/ncyc)+1:nsteps\n",
    "tbyT = (t_th[range]-t_th[range[1]])/Tn\n",
    "\n",
    "kr_spl = Spline1D(tbyT,W_cl[range])\n",
    "kr_eval = evaluate(kr_spl,t_ant)\n",
    "\n",
    "ant_cl = ant_steady + ant_ocl*scale\n",
    "\n",
    "len = indmin(abs(t_ant-1))\n",
    "\n",
    "err = Array(Float64,len)\n",
    "for i = 1:len\n",
    "    err[i] = (ant_cl[i] - kr_eval[i])/ant_cl[i] \n",
    "end\n",
    "rms_err = sqrt(mean(err.^2))*100\n",
    "\n",
    "\n",
    "\n",
    "\n"
   ]
  },
  {
   "cell_type": "code",
   "execution_count": 40,
   "metadata": {
    "collapsed": false
   },
   "outputs": [
    {
     "data": {
      "image/png": "[encoded data removed]",
      "text/plain": [
       "PyPlot.Figure(PyObject <matplotlib.figure.Figure object at 0x31a4d6c10>)"
      ]
     },
     "metadata": {},
     "output_type": "display_data"
    },
    {
     "data": {
      "text/plain": [
       "1-element Array{Any,1}:\n",
       " PyObject <matplotlib.lines.Line2D object at 0x31be04150>"
      ]
     },
     "execution_count": 40,
     "metadata": {},
     "output_type": "execute_result"
    }
   ],
   "source": [
    "plot(t_ant,kr_eval)\n",
    "plot(t_ant,ant_cl)"
   ]
  },
  {
   "cell_type": "markdown",
   "metadata": {},
   "source": [
    "### 200% scale \n"
   ]
  },
  {
   "cell_type": "code",
   "execution_count": 41,
   "metadata": {
    "collapsed": false
   },
   "outputs": [
    {
     "data": {
      "text/plain": [
       "2.0"
      ]
     },
     "execution_count": 41,
     "metadata": {},
     "output_type": "execute_result"
    }
   ],
   "source": [
    "n_span = 12\n",
    "n_bterm = 40\n",
    "\n",
    "psi = zeros(n_span)\n",
    "dpsi = pi/n_span\n",
    "\n",
    "for i = 1:n_span\n",
    "    psi[i] = (real(i)-0.5)*dpsi\n",
    "end\n",
    "\n",
    "scale = 2.0\n",
    "\n",
    "\n",
    "\n",
    "\n",
    "\n",
    "\n",
    "\n",
    "\n"
   ]
  },
  {
   "cell_type": "code",
   "execution_count": 42,
   "metadata": {
    "collapsed": false
   },
   "outputs": [
    {
     "name": "stdout",
     "output_type": "stream",
     "text": [
      "10839.095215 seconds (1.61 M allocations: 68.204 MB, 0.00% gc time)\n"
     ]
    }
   ],
   "source": [
    "#Run LDVM at all these locations:\n",
    "alpha_amp = 5*pi/180\n",
    "\n",
    "h_amp = zeros(n_span)\n",
    "for i = 1:n_span   \n",
    "    y_d = -b_d*cos(psi[i])/2.\n",
    "    h_amp[i] = evaluate(mode_spl,y_d)*scale/c_d\n",
    "end\n",
    "\n",
    "dtstar = min(0.015*8,0.015*0.2*2/(k*maximum(h_amp)))\n",
    "nsteps = round(Int,t_tot/dtstar)+1\n",
    "\n",
    "alphadef = ConstDef(alpha_amp)\n",
    "udef = ConstDef(u)\n",
    "pvt = 0.0 #Doesnt matter, no pitch\n",
    "lespcrit = [21;] #high value to turn off LEV shedding\n",
    "\n",
    "\n",
    "W_mat = Array{Float64,2}[]\n",
    "W_surf = TwoDSurf[]\n",
    "W_curfield = TwoDFlowField[]\n",
    "\n",
    "surf_in = TwoDSurf[]\n",
    "field_in = TwoDFlowField[]\n",
    "n_in = Int64[]\n",
    "dt_in = Float64[]\n",
    "del_in = DelVortDef[]\n",
    "\n",
    "for i = 1:Int(n_span/2)\n",
    "    hdef = CosDef(0., h_amp[i], w, 0.)\n",
    "    full_kinem = KinemDef(alphadef, hdef, udef)\n",
    "    surf = TwoDSurf(\"FlatPlate\", pvt, full_kinem, lespcrit)\n",
    "    curfield = TwoDFlowField()\n",
    "    del = DelVortDef(1, 500, 10)\n",
    "    push!(surf_in,surf)\n",
    "    push!(field_in, curfield)\n",
    "    push!(n_in,nsteps,)\n",
    "    push!(dt_in,dtstar)\n",
    "    push!(del_in,del)\n",
    "end\n",
    "\n",
    "@time fullsol = pmap((a1,a2,a3,a4,a5)->ldvm(a1,a2,a3,a4),surf_in,field_in,n_in,dt_in,del_in)\n",
    "\n",
    "for i = 1:Int(n_span/2)\n",
    "    push!(W_mat,fullsol[i][1])\n",
    "    push!(W_surf, fullsol[i][2])\n",
    "    push!(W_curfield, fullsol[i][3])\n",
    "end\n",
    "    "
   ]
  },
  {
   "cell_type": "code",
   "execution_count": 43,
   "metadata": {
    "collapsed": false
   },
   "outputs": [
    {
     "data": {
      "text/plain": [
       "32.29123244648582"
      ]
     },
     "execution_count": 43,
     "metadata": {},
     "output_type": "execute_result"
    }
   ],
   "source": [
    "\n",
    "#Mirror image for the rest of the span\n",
    "for i = Int(n_span/2)+1:n_span\n",
    "    mt = W_mat[n_span - i + 1]\n",
    "    st = W_surf[n_span - i + 1]\n",
    "    ct = W_curfield[n_span - i + 1]\n",
    "    push!(W_mat, mt)\n",
    "    push!(W_surf, st)\n",
    "    push!(W_curfield, ct)\n",
    "end\n",
    "\n",
    "lhs = zeros(n_span,n_bterm)\n",
    "rhs = zeros(n_span)\n",
    "b_coeff = zeros(nsteps,n_bterm)\n",
    "\n",
    "dt = W_mat[1][2,1] - W_mat[1][1,1]\n",
    "\n",
    "cnc_f = zeros(nsteps)\n",
    "cnnc_f = zeros(nsteps)\n",
    "\n",
    "bdot = zeros(nsteps,n_bterm)\n",
    "\n",
    "for i = 1:nsteps\n",
    "    for j = 1:n_span\n",
    "        for n = 1:n_bterm\n",
    "            lhs[j,n] = sin(n*psi[j])*(sin(psi[j]) + (n*pi/(2*AR)))\n",
    "        end\n",
    "        rhs[j] = pi*sin(psi[j])*W_mat[j][i,9]/(2*AR)\n",
    "    end\n",
    "        \n",
    "    b_coeff[i,:] = \\(lhs, rhs)\n",
    "    if i >= 2   \n",
    "        bdot[i,:] = (b_coeff[i,:] - b_coeff[i-1,:])/dt\n",
    "    end\n",
    "       \n",
    "end\n",
    "\n",
    "a03d = zeros(nsteps,n_span)\n",
    "cd_ind = zeros(nsteps)\n",
    "a0dot3d = zeros(nsteps,n_span)\n",
    "\n",
    "\n",
    "for i = 1:nsteps\n",
    "    cd_ind[i] = 0\n",
    "    for n = 1:n_bterm\n",
    "        cd_ind[i] = cd_ind[i] + real(n)*b_coeff[i,n]^2\n",
    "    end\n",
    "    cd_ind[i] = cd_ind[i]*pi*AR\n",
    "    for j = 1:n_span\n",
    "        a03d[i,j] = 0\n",
    "        for n = 1:n_bterm\n",
    "            a03d[i,j] = a03d[i,j] - real(n)*b_coeff[i,n]*sin(n*psi[j])/sin(psi[j])\n",
    "            a0dot3d[i,j] = a0dot3d[i,j] - real(n)*bdot[i,n]*sin(n*psi[j])/sin(psi[j])\n",
    "        end\n",
    "    end\n",
    "end\n",
    "\n",
    "W_alpha = zeros(nsteps,n_span)\n",
    "W_h = zeros(nsteps,n_span)\n",
    "W_hdot = zeros(nsteps,n_span)\n",
    "W_u = zeros(nsteps,n_span)\n",
    "W_u[:,:] = 1\n",
    "W_alpha[:,:] = 5*pi/180\n",
    "for i = 1:nsteps\n",
    "    for j = 1:n_span\n",
    "        hdef = CosDef(0., h_amp[j], w, 0.)\n",
    "        tt = W_mat[1][i,1]    \n",
    "        W_h[i,j] = hdef(tt)*c\n",
    "        W_hdot[i,j] = ForwardDiff.derivative(hdef,tt)*u\n",
    "    end\n",
    "end\n",
    "\n",
    "W_cn = zeros(nsteps)\n",
    "W_cs = zeros(nsteps)\n",
    "W_cl = zeros(nsteps)\n",
    "W_cd = zeros(nsteps)\n",
    "W_cdi = zeros(nsteps)\n",
    "\n",
    "cn3d = zeros(nsteps, n_span)\n",
    "cs3d = zeros(nsteps, n_span)\n",
    "cl3d = zeros(nsteps, n_span)\n",
    "cd3d = zeros(nsteps, n_span)\n",
    "\n",
    "for i = 1:nsteps\n",
    "    W_cn[i] = 0\n",
    "    W_cs[i] = 0\n",
    "    for j = 1:n_span\n",
    "        cn3d[i,j] = W_mat[j][i,10] + (2*pi/u)*(W_u[i,j]*cos(W_alpha[i,j]) + W_hdot[i,j]*sin(W_alpha[i,j]))*a03d[1,j] + (2*pi*c/u)*(3*a0dot3d[i,j]/4)\n",
    "        cs3d[i,j] = W_mat[j][i,11] + 2*pi*a03d[i,j]^2\n",
    "        cl3d[i,j] = cn3d[i,j]*cos(W_alpha[i,j]) + cs3d[i,j]*sin(W_alpha[i,j])\n",
    "        cd3d[i,j] = cn3d[i,j]*sin(W_alpha[i,j]) - cs3d[i,j]*cos(W_alpha[i,j]) \n",
    "        W_cn[i] = W_cn[i] + cn3d[i,j]*sin(psi[j])*dpsi/2\n",
    "        W_cs[i] = W_cs[i] + cs3d[i,j]*sin(psi[j])*dpsi/2\n",
    "        W_cl[i] = W_cl[i] + cl3d[i,j]*sin(psi[j])*dpsi/2\n",
    "        W_cd[i] = W_cd[i] + cd3d[i,j]*sin(psi[j])*dpsi/2\n",
    "    end\n",
    "end\n",
    "    \n",
    "\n",
    "t_th = W_mat[1][:,1]*c_d/u_d\n",
    "\n",
    "range = round(Int,(ncyc-1)*nsteps/ncyc)+1:nsteps\n",
    "tbyT = (t_th[range]-t_th[range[1]])/Tn\n",
    "\n",
    "kr_spl = Spline1D(tbyT,W_cl[range])\n",
    "kr_eval = evaluate(kr_spl,t_ant)\n",
    "\n",
    "ant_cl = ant_steady + ant_ocl*scale\n",
    "\n",
    "len = indmin(abs(t_ant-1))\n",
    "\n",
    "err = Array(Float64,len)\n",
    "for i = 1:len\n",
    "    err[i] = (ant_cl[i] - kr_eval[i])/ant_cl[i] \n",
    "end\n",
    "rms_err = sqrt(mean(err.^2))*100\n",
    "\n",
    "\n",
    "\n",
    "\n",
    "\n"
   ]
  },
  {
   "cell_type": "code",
   "execution_count": 44,
   "metadata": {
    "collapsed": false
   },
   "outputs": [
    {
     "data": {
      "image/png": "[encoded data removed]",
      "text/plain": [
       "PyPlot.Figure(PyObject <matplotlib.figure.Figure object at 0x31b2c42d0>)"
      ]
     },
     "metadata": {},
     "output_type": "display_data"
    },
    {
     "data": {
      "text/plain": [
       "1-element Array{Any,1}:\n",
       " PyObject <matplotlib.lines.Line2D object at 0x314ca7990>"
      ]
     },
     "execution_count": 44,
     "metadata": {},
     "output_type": "execute_result"
    }
   ],
   "source": [
    "plot(t_ant,kr_eval)\n",
    "plot(t_ant,ant_cl)"
   ]
  },
  {
   "cell_type": "code",
   "execution_count": null,
   "metadata": {
    "collapsed": true
   },
   "outputs": [],
   "source": []
  }
 ],
 "metadata": {
  "kernelspec": {
   "display_name": "Julia 0.5.0",
   "language": "julia",
   "name": "julia-0.5"
  },
  "language_info": {
   "file_extension": ".jl",
   "mimetype": "application/julia",
   "name": "julia",
   "version": "0.5.0"
  }
 },
 "nbformat": 4,
 "nbformat_minor": 1
}
