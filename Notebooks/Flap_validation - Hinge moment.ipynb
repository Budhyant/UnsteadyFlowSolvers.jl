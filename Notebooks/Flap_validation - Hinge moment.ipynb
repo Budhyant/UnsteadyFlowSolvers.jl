{
 "cells": [
  {
   "cell_type": "markdown",
   "metadata": {},
   "source": [
    "#  #Validation of Flap model"
   ]
  },
  {
   "cell_type": "code",
   "execution_count": 1,
   "metadata": {
    "collapsed": false
   },
   "outputs": [
    {
     "name": "stderr",
     "output_type": "stream",
     "text": [
      "WARNING: Method definition remotecall_wait(Function, Main.Base.LocalProcess, Any...) in module Compat at /home/kiran/.julia/v0.4/Compat/src/Compat.jl:838 overwritten in module Compat at /home/kiran/.julia/v0.4/Compat/src/Compat.jl:838.\n",
      "WARNING: Method definition remotecall_wait(Function, Main.Base.Worker, Any...) in module Compat at /home/kiran/.julia/v0.4/Compat/src/Compat.jl:839 overwritten in module Compat at /home/kiran/.julia/v0.4/Compat/src/Compat.jl:839.\n",
      "WARNING: Method definition remotecall_wait(Function, Integer, Any...) in module Compat at /home/kiran/.julia/v0.4/Compat/src/Compat.jl:840 overwritten in module Compat at /home/kiran/.julia/v0.4/Compat/src/Compat.jl:840.\n",
      "WARNING: Method definition remotecall_fetch(Function, Main.Base.LocalProcess, Any...) in module Compat at /home/kiran/.julia/v0.4/Compat/src/Compat.jl:838 overwritten in module Compat at /home/kiran/.julia/v0.4/Compat/src/Compat.jl:838.\n",
      "WARNING: Method definition remotecall_fetch(Function, Main.Base.Worker, Any...) in module Compat at /home/kiran/.julia/v0.4/Compat/src/Compat.jl:839 overwritten in module Compat at /home/kiran/.julia/v0.4/Compat/src/Compat.jl:839.\n",
      "WARNING: Method definition remotecall_fetch(Function, Integer, Any...) in module Compat at /home/kiran/.julia/v0.4/Compat/src/Compat.jl:840 overwritten in module Compat at /home/kiran/.julia/v0.4/Compat/src/Compat.jl:840.\n",
      "WARNING: Method definition readavailable(Main.Base.IOStream) in module Compat at /home/kiran/.julia/v0.4/Compat/src/Compat.jl:921 overwritten in module Compat at /home/kiran/.julia/v0.4/Compat/src/Compat.jl:921.\n",
      "WARNING: Method definition readavailable(Main.Base.AbstractIOBuffer{Array{UInt8, 1}}) in module Compat at /home/kiran/.julia/v0.4/Compat/src/Compat.jl:922 overwritten in module Compat at /home/kiran/.julia/v0.4/Compat/src/Compat.jl:922.\n",
      "WARNING: Method definition readuntil(AbstractString, Any...) in module Compat at /home/kiran/.julia/v0.4/Compat/src/Compat.jl:918 overwritten in module Compat at /home/kiran/.julia/v0.4/Compat/src/Compat.jl:918.\n",
      "WARNING: Method definition read(Main.Base.IO) in module Compat at /home/kiran/.julia/v0.4/Compat/src/Compat.jl:911 overwritten in module Compat at /home/kiran/.julia/v0.4/Compat/src/Compat.jl:911.\n",
      "WARNING: Method definition read(Main.Base.IO, Any) in module Compat at /home/kiran/.julia/v0.4/Compat/src/Compat.jl:912 overwritten in module Compat at /home/kiran/.julia/v0.4/Compat/src/Compat.jl:912.\n",
      "WARNING: Method definition read(AbstractString, Any...) in module Compat at /home/kiran/.julia/v0.4/Compat/src/Compat.jl:916 overwritten in module Compat at /home/kiran/.julia/v0.4/Compat/src/Compat.jl:916.\n",
      "WARNING: Method definition readline(AbstractString) in module Compat at /home/kiran/.julia/v0.4/Compat/src/Compat.jl:919 overwritten in module Compat at /home/kiran/.julia/v0.4/Compat/src/Compat.jl:919.\n",
      "WARNING: Method definition cov(AbstractArray{T<:Any, 1}, AbstractArray{T<:Any, 1}, Bool) in module Compat at /home/kiran/.julia/v0.4/Compat/src/Compat.jl:899 overwritten in module Compat at /home/kiran/.julia/v0.4/Compat/src/Compat.jl:899.\n",
      "WARNING: Method definition cov(AbstractArray{T<:Any, 2}, AbstractArray{T<:Any, 2}, Integer) in module Compat at /home/kiran/.julia/v0.4/Compat/src/Compat.jl:900 overwritten in module Compat at /home/kiran/.julia/v0.4/Compat/src/Compat.jl:900.\n",
      "WARNING: Method definition cov(AbstractArray{T<:Any, 2}, AbstractArray{T<:Any, 2}, Integer, Bool) in module Compat at /home/kiran/.julia/v0.4/Compat/src/Compat.jl:901 overwritten in module Compat at /home/kiran/.julia/v0.4/Compat/src/Compat.jl:901.\n",
      "WARNING: Method definition cov(AbstractArray{T<:Any, 1}, Bool) in module Compat at /home/kiran/.julia/v0.4/Compat/src/Compat.jl:896 overwritten in module Compat at /home/kiran/.julia/v0.4/Compat/src/Compat.jl:896.\n",
      "WARNING: Method definition cov(AbstractArray{T<:Any, 2}, Integer) in module Compat at /home/kiran/.julia/v0.4/Compat/src/Compat.jl:897 overwritten in module Compat at /home/kiran/.julia/v0.4/Compat/src/Compat.jl:897.\n",
      "WARNING: Method definition cov(AbstractArray{T<:Any, 2}, Integer, Bool) in module Compat at /home/kiran/.julia/v0.4/Compat/src/Compat.jl:898 overwritten in module Compat at /home/kiran/.julia/v0.4/Compat/src/Compat.jl:898.\n",
      "WARNING: Method definition remote_do(Function, Main.Base.LocalProcess, Any...) in module Compat at /home/kiran/.julia/v0.4/Compat/src/Compat.jl:838 overwritten in module Compat at /home/kiran/.julia/v0.4/Compat/src/Compat.jl:838.\n",
      "WARNING: Method definition remote_do(Function, Main.Base.Worker, Any...) in module Compat at /home/kiran/.julia/v0.4/Compat/src/Compat.jl:839 overwritten in module Compat at /home/kiran/.julia/v0.4/Compat/src/Compat.jl:839.\n",
      "WARNING: Method definition remote_do(Function, Integer, Any...) in module Compat at /home/kiran/.julia/v0.4/Compat/src/Compat.jl:840 overwritten in module Compat at /home/kiran/.julia/v0.4/Compat/src/Compat.jl:840.\n",
      "WARNING: Method definition read!(AbstractString, Any) in module Compat at /home/kiran/.julia/v0.4/Compat/src/Compat.jl:917 overwritten in module Compat at /home/kiran/.julia/v0.4/Compat/src/Compat.jl:917.\n",
      "WARNING: Method definition precision(Type{Main.Base.MPFR.BigFloat}) in module Compat at /home/kiran/.julia/v0.4/Compat/src/Compat.jl:962 overwritten in module Compat at /home/kiran/.julia/v0.4/Compat/src/Compat.jl:962.\n",
      "WARNING: Method definition call(Type{Symbol}, Any...) in module Compat at /home/kiran/.julia/v0.4/Compat/src/Compat.jl:400 overwritten in module Compat at /home/kiran/.julia/v0.4/Compat/src/Compat.jl:400.\n",
      "WARNING: Method definition call(Type{Union{UTF8String, ASCIIString}}, Main.Base.Cstring) in module Compat at /home/kiran/.julia/v0.4/Compat/src/Compat.jl:1270 overwritten in module Compat at /home/kiran/.julia/v0.4/Compat/src/Compat.jl:1270.\n",
      "WARNING: Method definition call(Type{Union{UTF8String, ASCIIString}}, Array{UInt8, 1}) in module Compat at /home/kiran/.julia/v0.4/Compat/src/Compat.jl:1271 overwritten in module Compat at /home/kiran/.julia/v0.4/Compat/src/Compat.jl:1271.\n",
      "WARNING: Method definition call(Type{Union{UTF8String, ASCIIString}}, Main.Base.AbstractIOBuffer{T<:AbstractArray{UInt8, 1}}) in module Compat at /home/kiran/.julia/v0.4/Compat/src/Compat.jl:1272 overwritten in module Compat at /home/kiran/.julia/v0.4/Compat/src/Compat.jl:1272.\n",
      "WARNING: Method definition call(Type{Union{UTF8String, ASCIIString}}, Union{Ptr{UInt8}, Ptr{Int8}}) in module Compat at /home/kiran/.julia/v0.4/Compat/src/Compat.jl:1273 overwritten in module Compat at /home/kiran/.julia/v0.4/Compat/src/Compat.jl:1273.\n",
      "WARNING: Method definition call(Type{Union{UTF8String, ASCIIString}}, Union{Ptr{UInt8}, Ptr{Int8}}, Integer) in module Compat at /home/kiran/.julia/v0.4/Compat/src/Compat.jl:1274 overwritten in module Compat at /home/kiran/.julia/v0.4/Compat/src/Compat.jl:1274.\n",
      "WARNING: Method definition call(Type{Union{UTF8String, ASCIIString}}, AbstractString) in module Compat at /home/kiran/.julia/v0.4/Compat/src/Compat.jl:1275 overwritten in module Compat at /home/kiran/.julia/v0.4/Compat/src/Compat.jl:1275.\n",
      "WARNING: Method definition cor(AbstractArray{T<:Any, 2}, AbstractArray{T<:Any, 2}, Integer) in module Compat at /home/kiran/.julia/v0.4/Compat/src/Compat.jl:904 overwritten in module Compat at /home/kiran/.julia/v0.4/Compat/src/Compat.jl:904.\n",
      "WARNING: Method definition cor(AbstractArray{T<:Any, 2}, Integer) in module Compat at /home/kiran/.julia/v0.4/Compat/src/Compat.jl:903 overwritten in module Compat at /home/kiran/.julia/v0.4/Compat/src/Compat.jl:903.\n",
      "WARNING: Method definition remotecall(Function, Main.Base.LocalProcess, Any...) in module Compat at /home/kiran/.julia/v0.4/Compat/src/Compat.jl:838 overwritten in module Compat at /home/kiran/.julia/v0.4/Compat/src/Compat.jl:838.\n",
      "WARNING: Method definition remotecall(Function, Main.Base.Worker, Any...) in module Compat at /home/kiran/.julia/v0.4/Compat/src/Compat.jl:839 overwritten in module Compat at /home/kiran/.julia/v0.4/Compat/src/Compat.jl:839.\n",
      "WARNING: Method definition remotecall(Function, Integer, Any...) in module Compat at /home/kiran/.julia/v0.4/Compat/src/Compat.jl:840 overwritten in module Compat at /home/kiran/.julia/v0.4/Compat/src/Compat.jl:840.\n",
      "WARNING: Method definition eachline(AbstractString) in module Compat at /home/kiran/.julia/v0.4/Compat/src/Compat.jl:931 overwritten in module Compat at /home/kiran/.julia/v0.4/Compat/src/Compat.jl:931.\n",
      "WARNING: Method definition readlines(AbstractString) in module Compat at /home/kiran/.julia/v0.4/Compat/src/Compat.jl:920 overwritten in module Compat at /home/kiran/.julia/v0.4/Compat/src/Compat.jl:920.\n",
      "WARNING: Method definition write(Main.Base.IO, Main.Base.IO) in module Compat at /home/kiran/.julia/v0.4/Compat/src/Compat.jl:925 overwritten in module Compat at /home/kiran/.julia/v0.4/Compat/src/Compat.jl:925.\n",
      "WARNING: Method definition write(AbstractString, Any...) in module Compat at /home/kiran/.julia/v0.4/Compat/src/Compat.jl:914 overwritten in module Compat at /home/kiran/.julia/v0.4/Compat/src/Compat.jl:914.\n"
     ]
    },
    {
     "data": {
      "text/plain": [
       "UNSflow"
      ]
     },
     "execution_count": 1,
     "metadata": {},
     "output_type": "execute_result"
    }
   ],
   "source": [
    "workspace()\n",
    "include(\"../src/UNSflow.jl\")"
   ]
  },
  {
   "cell_type": "code",
   "execution_count": 3,
   "metadata": {
    "collapsed": false
   },
   "outputs": [],
   "source": [
    "using UNSflow\n"
   ]
  },
  {
   "cell_type": "markdown",
   "metadata": {},
   "source": [
    "# # Laura's case C - flap only"
   ]
  },
  {
   "cell_type": "code",
   "execution_count": 4,
   "metadata": {
    "collapsed": false
   },
   "outputs": [
    {
     "data": {
      "text/plain": [
       "0.08726646259971647"
      ]
     },
     "execution_count": 4,
     "metadata": {},
     "output_type": "execute_result"
    }
   ],
   "source": [
    "#Kinematics\n",
    "alpha_amp = 0.\n",
    "alpha_mean = 0.\n",
    "alpha_zl = 0. #Flat plate\n",
    "h_amp = 0. \n",
    "k = 3.93\n",
    "beta_amp = 5*pi/180."
   ]
  },
  {
   "cell_type": "code",
   "execution_count": 5,
   "metadata": {
    "collapsed": false
   },
   "outputs": [
    {
     "data": {
      "text/plain": [
       "UNSflow.TwoDFlowField(UNSflow.ConstDef(0.0),UNSflow.ConstDef(0.0),[0.0],[0.0],UNSflow.TwoDVort[],UNSflow.TwoDVort[])"
      ]
     },
     "execution_count": 5,
     "metadata": {},
     "output_type": "execute_result"
    }
   ],
   "source": [
    "#for UNSflow\n",
    "\n",
    "w = 2*k \n",
    "T = (2*pi/w)\n",
    "ncyc = 4\n",
    "t_tot = ncyc*T \n",
    "\n",
    "dt = 0.015*0.2/(k*beta_amp) \n",
    "nsteps =round(Int,t_tot/dt)+1\n",
    "\n",
    "alphadef = ConstDef(alpha_amp)\n",
    "hdef = ConstDef(h_amp)\n",
    "udef = ConstDef(1.)\n",
    "ndef = CosDef(0., beta_amp, w, 0.)\n",
    "\n",
    "full_kinem = KinemDefwFlap(alphadef, hdef, udef, ndef)\n",
    "\n",
    "pvt = 0.2 #Doesnt matter for flap only\n",
    "\n",
    "lespcrit = [21;] #high value to turn off LEV shedding\n",
    "\n",
    "x_b = [0.75;]\n",
    "\n",
    "surf = TwoDSurfwFlap(1., 1., \"FlatPlate\", pvt, 70, 35, \"Prescribed\", full_kinem,x_b, lespcrit)\n",
    "\n",
    "curfield = TwoDFlowField()"
   ]
  },
  {
   "cell_type": "code",
   "execution_count": 7,
   "metadata": {
    "collapsed": false,
    "scrolled": true
   },
   "outputs": [
    {
     "data": {
      "text/plain": [
       "(\n",
       "367x9 Array{Float64,2}:\n",
       " 0.00874745  0.0  0.0  1.0  0.00535496   0.284303   …  -0.124795    -0.412793\n",
       " 0.0174949   0.0  0.0  1.0  0.00524353  -0.0795446      0.0836244   -0.396348\n",
       " 0.0262423   0.0  0.0  1.0  0.0051134   -0.103412       0.0914975   -0.379367\n",
       " 0.0349898   0.0  0.0  1.0  0.00495942  -0.135325       0.106739    -0.360798\n",
       " 0.0437372   0.0  0.0  1.0  0.00478022  -0.169752       0.124444    -0.340341\n",
       " 0.0524847   0.0  0.0  1.0  0.00457713  -0.202708   …   0.140957    -0.318183\n",
       " 0.0612321   0.0  0.0  1.0  0.00435129  -0.234435       0.156556    -0.294467\n",
       " 0.0699796   0.0  0.0  1.0  0.00410379  -0.265027       0.171391    -0.269311\n",
       " 0.078727    0.0  0.0  1.0  0.00383584  -0.294333       0.185387    -0.24284 \n",
       " 0.0874745   0.0  0.0  1.0  0.00354873  -0.322221       0.198478    -0.215185\n",
       " 0.0962219   0.0  0.0  1.0  0.00324384  -0.348575   …   0.210614    -0.18648 \n",
       " 0.104969    0.0  0.0  1.0  0.00292261  -0.373283       0.221749    -0.156864\n",
       " 0.113717    0.0  0.0  1.0  0.00258655  -0.39624        0.231835    -0.126477\n",
       " ⋮                                       ⋮          ⋱                        \n",
       " 3.11409     0.0  0.0  1.0  0.00495788   0.313608   …  -0.134509    -0.449207\n",
       " 3.12284     0.0  0.0  1.0  0.00513291   0.285112      -0.117963    -0.456588\n",
       " 3.13159     0.0  0.0  1.0  0.00528309   0.255244      -0.10085     -0.461793\n",
       " 3.14033     0.0  0.0  1.0  0.00540769   0.224151      -0.0832545   -0.464797\n",
       " 3.14908     0.0  0.0  1.0  0.00550613   0.191985      -0.0652617   -0.465584\n",
       " 3.15783     0.0  0.0  1.0  0.00557793   0.158905   …  -0.0469605   -0.464151\n",
       " 3.16658     0.0  0.0  1.0  0.00562276   0.125075      -0.028441    -0.460505\n",
       " 3.17532     0.0  0.0  1.0  0.00564041   0.0906611     -0.00979404  -0.454665\n",
       " 3.18407     0.0  0.0  1.0  0.00563082   0.0558319      0.00888917  -0.44666 \n",
       " 3.19282     0.0  0.0  1.0  0.00559404   0.0207581      0.0275176   -0.436529\n",
       " 3.20157     0.0  0.0  1.0  0.00553028  -0.0143899  …   0.0460011   -0.424322\n",
       " 3.21031     0.0  0.0  1.0  0.00543986  -0.0494424      0.0642509   -0.410099,\n",
       "\n",
       "UNSflow.TwoDSurfwFlap(1.0,1.0,\"FlatPlate\",0.2,70,35,\"Prescribed\",UNSflow.KinemDefwFlap(UNSflow.ConstDef(0.0),UNSflow.ConstDef(0.0),UNSflow.ConstDef(1.0),UNSflow.CosDef(0.0,0.08726646259971647,7.86,0.0)),[0.0,0.0,0.0,0.0,0.0,0.0,0.0,0.0,0.0,0.0  …  0.0,0.0,0.0,0.0,0.0,0.0,0.0,0.0,0.0,0.0],[0.0,0.0,0.0,0.0,0.0,0.0,0.0,0.0,0.0,0.0  …  -0.0181584,-0.0189062,-0.0195698,-0.0201477,-0.0206387,-0.0210418,-0.0213563,-0.0215813,-0.0217165,-0.0217616],[-2.56758e-28,1.92535e-28,-7.69743e-28,3.7813e-27,-1.70529e-26,7.29865e-26,-3.02997e-25,1.23329e-24,-4.9509e-24,1.96715e-23  …  -0.0870466,-0.0870466,-0.0870466,-0.0870466,-0.0870466,-0.0870466,-0.0870466,-0.0870466,-0.0870466,-0.0870466],[0.0,0.0,0.0,0.0,0.0,0.0,0.0,0.0,0.0,0.0  …  0.0144389,0.0150335,0.0155612,0.0160207,0.0164111,0.0167317,0.0169817,0.0171606,0.0172682,0.017304],[0.0,0.0455303,0.0910607,0.136591,0.182121,0.227652,0.273182,0.318712,0.364243,0.409773  …  2.73182,2.77735,2.82288,2.86841,2.91394,2.95947,3.005,3.05053,3.09606,3.14159],[0.0,0.000518163,0.00207158,0.00465703,0.00826915,0.0129005,0.0185414,0.0251802,0.0328031,0.0413943  …  0.958606,0.967197,0.97482,0.981459,0.9871,0.991731,0.995343,0.997928,0.999482,1.0],[0.75],UNSflow.KinemParwFlap(0.0,0.0,0.0,0.0,1.0,0.0,0.08682770085352422,-0.06869561721446392),[-7.42063,-7.42011,-7.41855,-7.41597,-7.41236,-7.40773,-7.40208,-7.39545,-7.38782,-7.37923  …  -6.46202,-6.45343,-6.44581,-6.43917,-6.43353,-6.4289,-6.42528,-6.4227,-6.42114,-6.42063],[0.0,0.0,0.0,0.0,0.0,0.0,0.0,0.0,0.0,0.0  …  -0.0182506,-0.0190023,-0.0196692,-0.02025,-0.0207435,-0.0211487,-0.0214647,-0.0216909,-0.0218268,-0.0218722],[-5.15168e-5,-5.16225e-5,-5.19405e-5,-5.24736e-5,-5.32266e-5,-5.42062e-5,-5.5421e-5,-5.68822e-5,-5.86029e-5,-6.0599e-5  …  -0.00131518,-0.00116519,-0.000964056,-0.000753719,-0.000637792,-0.000688163,-0.000850746,-0.00103349,-0.00116908,-0.00121852],[-0.0086679,-0.00867186,-0.00868377,-0.00870367,-0.00873161,-0.0087677,-0.00881205,-0.00886481,-0.00892616,-0.00899631  …  -0.037232,-0.0362831,-0.0347538,-0.0331545,-0.0326725,-0.0340825,-0.0366938,-0.0393799,-0.0413117,-0.0420078],[0.0086679,0.00867186,0.00868377,0.00870367,0.00873161,0.0087677,0.00881205,0.00886481,0.00892616,0.00899631  …  -0.0352612,-0.0356285,-0.0366477,-0.0378058,-0.0379074,-0.0361725,-0.033297,-0.030416,-0.0283649,-0.0276287],[0.0054398560016281645],[0.0265775,-0.0151347,-0.00264999,0.0117505,-0.00844758,-0.000892502,0.00703627,-0.00553638,-0.000792794,0.005616  …  -0.0020776,7.78298e-6,0.0019063,-0.00182351,-6.084e-5,0.00181413,-0.00172951,-2.79799e-5,0.00167098,-0.00160489],[-0.01033720695878789],[-0.12447074411817834,0.09814631277696577,-0.0016637788000922612],[0.0054398560016281645],[0.02657750523468895,-0.015134681985547628,-0.002649990097647603],[UNSflow.TwoDVort(-7.4203672027783645,0.0,0.0004949672220798828,0.02,0.0,0.0),UNSflow.TwoDVort(-7.419331413411247,0.0,0.0004956823248287977,0.02,0.0,0.0),UNSflow.TwoDVort(-7.4172619815086485,0.0,0.0004989166678528278,0.02,0.0,0.0),UNSflow.TwoDVort(-7.414163196284202,0.0,0.0004998887336042546,0.02,0.0,0.0),UNSflow.TwoDVort(-7.410041480443488,0.0,0.0004980904038120201,0.02,0.0,0.0),UNSflow.TwoDVort(-7.404905376872002,0.0,0.0005028817426817788,0.02,0.0,0.0),UNSflow.TwoDVort(-7.398765530928713,0.0,0.000512246879691796,0.02,0.0,0.0),UNSflow.TwoDVort(-7.391634668381931,0.0,0.0005127344159555351,0.02,0.0,0.0),UNSflow.TwoDVort(-7.383527569033214,0.0,0.000510144593147949,0.02,0.0,0.0),UNSflow.TwoDVort(-7.3744610360839715,0.0,0.0005214236782469231,0.02,0.0,0.0)  …  UNSflow.TwoDVort(-6.466791532649417,-0.017833230007884004,0.00016640689054364368,0.02,0.0,0.0),UNSflow.TwoDVort(-6.457724999700172,-0.01862644885842709,0.00012394028019820533,0.02,0.0,0.0),UNSflow.TwoDVort(-6.449617900351456,-0.019335728145518198,0.0001230974900882302,0.02,0.0,0.0),UNSflow.TwoDVort(-6.442487037804675,-0.019959597779523226,9.93690245119123e-5,0.02,0.0,0.0),UNSflow.TwoDVort(-6.436347191861385,-0.02049676469535673,3.7552933207899915e-5,0.02,0.0,0.0),UNSflow.TwoDVort(-6.431211088289899,-0.020946115532556733,-5.3489295538920685e-6,0.02,0.0,0.0),UNSflow.TwoDVort(-6.427089372449187,-0.021306718942894334,-1.1743963182267894e-5,0.02,0.0,0.0),UNSflow.TwoDVort(-6.42399058722474,-0.021577827520735116,-1.0800220183972891e-5,0.02,0.0,0.0),UNSflow.TwoDVort(-6.42192115532214,-0.021758879352151435,-9.705552949586471e-6,0.02,0.0,0.0),UNSflow.TwoDVort(-6.420885365955023,-0.021849499179574877,-3.605864459007553e-6,0.02,0.0,0.0)],[UNSflow.TwoDVort(0.0,0.0,0.0,0.02,0.0,0.0),UNSflow.TwoDVort(0.0,0.0,0.0,0.02,0.0,0.0),UNSflow.TwoDVort(0.0,0.0,0.0,0.02,0.0,0.0),UNSflow.TwoDVort(0.0,0.0,0.0,0.02,0.0,0.0),UNSflow.TwoDVort(0.0,0.0,0.0,0.02,0.0,0.0),UNSflow.TwoDVort(0.0,0.0,0.0,0.02,0.0,0.0),UNSflow.TwoDVort(0.0,0.0,0.0,0.02,0.0,0.0),UNSflow.TwoDVort(0.0,0.0,0.0,0.02,0.0,0.0),UNSflow.TwoDVort(0.0,0.0,0.0,0.02,0.0,0.0),UNSflow.TwoDVort(0.0,0.0,0.0,0.02,0.0,0.0)  …  UNSflow.TwoDVort(0.0,0.0,0.0,0.02,0.0,0.0),UNSflow.TwoDVort(0.0,0.0,0.0,0.02,0.0,0.0),UNSflow.TwoDVort(0.0,0.0,0.0,0.02,0.0,0.0),UNSflow.TwoDVort(0.0,0.0,0.0,0.02,0.0,0.0),UNSflow.TwoDVort(0.0,0.0,0.0,0.02,0.0,0.0),UNSflow.TwoDVort(0.0,0.0,0.0,0.02,0.0,0.0),UNSflow.TwoDVort(0.0,0.0,0.0,0.02,0.0,0.0),UNSflow.TwoDVort(0.0,0.0,0.0,0.02,0.0,0.0),UNSflow.TwoDVort(0.0,0.0,0.0,0.02,0.0,0.0),UNSflow.TwoDVort(0.0,0.0,0.0,0.02,0.0,0.0)],[21.0],Int8[0]),UNSflow.TwoDFlowField(UNSflow.ConstDef(0.0),UNSflow.ConstDef(0.0),[0.0],[0.0],[UNSflow.TwoDVort(-0.2170621018276451,-0.09878654220317384,-0.02418888242729705,0.02,-0.05568242285676821,0.011602690855071363),UNSflow.TwoDVort(-0.24035400805670254,-0.08661376861509322,0.0045501786837033745,0.02,-0.10796053202182217,-0.07283389200543668),UNSflow.TwoDVort(-0.19447113003325206,-0.07830969508937943,0.0008194584087551183,0.02,-0.11694932873743104,0.09602350608758617),UNSflow.TwoDVort(-0.16323472301825473,-0.10958600518811504,0.00041054469791015235,0.02,-0.028674640054490174,0.07675788402638592),UNSflow.TwoDVort(-0.12928301639485185,-0.09733842044316353,0.0011909911405511742,0.02,-0.03719035025246535,0.04163082058552138),UNSflow.TwoDVort(-0.41728061925213505,0.07633799722612208,0.001688016805268034,0.02,-0.09167763120009463,0.13693746667789206),UNSflow.TwoDVort(-0.2151611076074779,0.1200600678307511,0.0020591722946537877,0.02,-0.09684268490555238,-0.03992144150938217),UNSflow.TwoDVort(-0.36985816267105437,0.20099221748117016,0.0023959890695929376,0.02,-0.03244296373704693,0.18286917466935834),UNSflow.TwoDVort(-0.29007697785329084,0.21508185615232991,0.0026953902450169084,0.02,0.0990895325572283,0.030011371537134245),UNSflow.TwoDVort(-0.33439883607053655,0.17708925542819096,0.0029582707787707057,0.02,-0.07766221037861123,0.15662911195773743)  …  UNSflow.TwoDVort(-6.338765089985137,-0.03749209144755126,-0.0007785173726015098,0.02,-0.011435073528665643,-0.1757714248997786),UNSflow.TwoDVort(-6.347440423645302,-0.035688728774843914,-0.0004648997269543712,0.02,-0.01350410717028095,-0.1740934799672073),UNSflow.TwoDVort(-6.356063545264633,-0.03383863262885512,-0.00014912000641323364,0.02,-0.014666960233923316,-0.17060341921087574),UNSflow.TwoDVort(-6.364650938597867,-0.03197774924349131,0.00016729196998888378,0.02,-0.014887004537074965,-0.16510262783702787),UNSflow.TwoDVort(-6.373220151725868,-0.030144311745658844,0.0004828053701684457,0.02,-0.014177704867309335,-0.15731079107260826),UNSflow.TwoDVort(-6.381788647548644,-0.028379576334974267,0.0007958973914317638,0.02,-0.012618709569326706,-0.1468208556686344),UNSflow.TwoDVort(-6.390372427922062,-0.02672904004288753,0.0011050620906754968,0.02,-0.010385577844366285,-0.13306463634150079),UNSflow.TwoDVort(-6.398984303685854,-0.025244043516617964,0.0014088188797603716,0.02,-0.007805384821242983,-0.11553622917702767),UNSflow.TwoDVort(-6.407631605852093,-0.023981229860019986,0.001705720580003471,0.02,-0.005443807011504019,-0.09555914859056074),UNSflow.TwoDVort(-6.4163134153188155,-0.022984601345959074,0.0019943609501102888,0.02,-0.003951277922544093,-0.07865689142996034)],UNSflow.TwoDVort[]))"
      ]
     },
     "execution_count": 7,
     "metadata": {},
     "output_type": "execute_result"
    }
   ],
   "source": [
    "mat, surf, curfield = ldvm(surf, curfield, nsteps, dt)\n"
   ]
  },
  {
   "cell_type": "code",
   "execution_count": 8,
   "metadata": {
    "collapsed": false
   },
   "outputs": [
    {
     "data": {
      "text/plain": [
       "UNSflow.TheoDefwFlap(0.0,0.0,0.0,0.0,3.93,0.0,0.2,0.08726646259971647,0.75,0.0)"
      ]
     },
     "execution_count": 8,
     "metadata": {},
     "output_type": "execute_result"
    }
   ],
   "source": [
    "#for Theodorsen\n",
    "theo_in = TheoDefwFlap(alpha_amp, h_amp, alpha_mean, alpha_zl, k, 0., pvt, beta_amp, x_b[1], 0.) "
   ]
  },
  {
   "cell_type": "code",
   "execution_count": 9,
   "metadata": {
    "collapsed": false
   },
   "outputs": [
    {
     "data": {
      "text/plain": [
       "([0.0,0.00277778,0.00555556,0.00833333,0.0111111,0.0138889,0.0166667,0.0194444,0.0222222,0.025  …  0.975,0.977778,0.980556,0.983333,0.986111,0.988889,0.991667,0.994444,0.997222,1.0],Complex{Float64}[0.012327+0.424731im,0.0049125+0.424881im,-0.00250345+0.424902im,-0.00991863+0.424794im,-0.0173308+0.424556im,-0.0247377+0.424189im,-0.032137+0.423693im,-0.0395266+0.423067im,-0.0469041+0.422313im,-0.0542674+0.42143im  …  0.0786177+0.417573im,0.0713181+0.418882im,0.0639968+0.420063im,0.0566559+0.421116im,0.0492978+0.42204im,0.0419247+0.422836im,0.0345388+0.423504im,0.0271423+0.424042im,0.0197377+0.424451im,0.012327+0.424731im],Complex{Float64}[0.0250906-0.233046im,0.029154-0.232572im,0.0332085-0.232028im,0.0372529-0.231413im,0.0412859-0.230728im,0.0453064-0.229972im,0.0493131-0.229147im,0.0533047-0.228251im,0.0572801-0.227286im,0.0612381-0.226252im  …  -0.0116747-0.234102im,-0.0075873-0.23427im,-0.00349757-0.234367im,0.000593221-0.234392im,0.00468383-0.234346im,0.00877302-0.234228im,0.0128595-0.23404im,0.0169421-0.23378im,0.0210196-0.233448im,0.0250906-0.233046im],Complex{Float64}[-0.229179-0.578957im,-0.21904-0.582868im,-0.208834-0.586602im,-0.198565-0.590158im,-0.188235-0.593533im,-0.177848-0.596728im,-0.167406-0.599741im,-0.156914-0.602571im,-0.146374-0.605218im,-0.135789-0.60768im  …  -0.316927-0.535977im,-0.307524-0.541427im,-0.298028-0.546711im,-0.288441-0.551829im,-0.278767-0.556779im,-0.269007-0.56156im,-0.259166-0.566169im,-0.249245-0.570606im,-0.239249-0.574869im,-0.229179-0.578957im])"
      ]
     },
     "execution_count": 9,
     "metadata": {},
     "output_type": "execute_result"
    }
   ],
   "source": [
    "(t_theo, cl, cm_alpha, cm_beta) = theodorsen(theo_in)"
   ]
  },
  {
   "cell_type": "code",
   "execution_count": 18,
   "metadata": {
    "collapsed": false
   },
   "outputs": [],
   "source": [
    "#Plots to compare\n",
    "\n",
    "#UNSflow\n",
    "mat = readdlm(\"results.dat\")\n",
    "range = round(Int,(ncyc-1)*nsteps/ncyc)+1:nsteps\n",
    "tbyT = (mat[range,1]-mat[range[1]])/T\n",
    "\n",
    "plot(tbyT, mat[range,6])\n",
    "plot(t_theo, real(cl))\n",
    "draw()"
   ]
  },
  {
   "cell_type": "code",
   "execution_count": 11,
   "metadata": {
    "collapsed": false
   },
   "outputs": [
    {
     "name": "stderr",
     "output_type": "stream",
     "text": [
      "WARNING: using PyPlot.surf in module Main conflicts with an existing identifier.\n"
     ]
    }
   ],
   "source": [
    "\n",
    "using PyPlot"
   ]
  },
  {
   "cell_type": "markdown",
   "metadata": {},
   "source": [
    "# It seems to be working but for some reason, the imaginary part of Theodorsen is giving the correct value. It should be the real part for a cosine function. Possibly a missing i."
   ]
  },
  {
   "cell_type": "code",
   "execution_count": 9,
   "metadata": {
    "collapsed": false
   },
   "outputs": [
    {
     "data": {
      "text/plain": [
       "92-element Array{Float64,1}:\n",
       " -4.47688\n",
       " -4.29707\n",
       " -4.09619\n",
       " -3.87522\n",
       " -3.63523\n",
       " -3.37737\n",
       " -3.10287\n",
       " -2.81305\n",
       " -2.50928\n",
       " -2.193  \n",
       " -1.86569\n",
       " -1.52889\n",
       " -1.18417\n",
       "  ⋮      \n",
       " -4.91238\n",
       " -5.00666\n",
       " -5.07663\n",
       " -5.12194\n",
       " -5.14237\n",
       " -5.13784\n",
       " -5.10836\n",
       " -5.05408\n",
       " -4.97529\n",
       " -4.87237\n",
       " -4.74583\n",
       " -4.59631"
      ]
     },
     "execution_count": 9,
     "metadata": {},
     "output_type": "execute_result"
    }
   ],
   "source": [
    "data[range,9]"
   ]
  },
  {
   "cell_type": "markdown",
   "metadata": {},
   "source": [
    "# Lets try a sine flap"
   ]
  },
  {
   "cell_type": "code",
   "execution_count": 10,
   "metadata": {
    "collapsed": false
   },
   "outputs": [
    {
     "data": {
      "text/plain": [
       "UNSflow.KinemDefwFlap(UNSflow.ConstDef(0.0),UNSflow.ConstDef(0.0),UNSflow.ConstDef(1.0),UNSflow.SinDef(0.0,0.08726646259971647,7.86,0.0))"
      ]
     },
     "execution_count": 10,
     "metadata": {},
     "output_type": "execute_result"
    }
   ],
   "source": [
    "ndef = SinDef(0., beta_amp, w, 0.)\n",
    "# everything else is unchanged\n",
    "full_kinem = KinemDefwFlap(alphadef, hdef, udef, ndef)\n"
   ]
  },
  {
   "cell_type": "code",
   "execution_count": 11,
   "metadata": {
    "collapsed": false
   },
   "outputs": [
    {
     "data": {
      "text/plain": [
       "UNSflow.TwoDFlowField(UNSflow.ConstDef(0.0),UNSflow.ConstDef(0.0),[0.0],[0.0],UNSflow.TwoDVort[],UNSflow.TwoDVort[])"
      ]
     },
     "execution_count": 11,
     "metadata": {},
     "output_type": "execute_result"
    }
   ],
   "source": [
    "surf = TwoDSurfwFlap(1., 1., \"FlatPlate\", pvt, 70, 35, \"Prescribed\", full_kinem,x_b, lespcrit)\n",
    "\n",
    "curfield = TwoDFlowField()"
   ]
  },
  {
   "cell_type": "code",
   "execution_count": 12,
   "metadata": {
    "collapsed": false
   },
   "outputs": [
    {
     "data": {
      "text/plain": [
       "(UNSflow.TwoDSurfwFlap(1.0,1.0,\"FlatPlate\",0.2,70,35,\"Prescribed\",UNSflow.KinemDefwFlap(UNSflow.ConstDef(0.0),UNSflow.ConstDef(0.0),UNSflow.ConstDef(1.0),UNSflow.SinDef(0.0,0.08726646259971647,7.86,0.0)),[0.0,0.0,0.0,0.0,0.0,0.0,0.0,0.0,0.0,0.0  …  0.0,0.0,0.0,0.0,0.0,0.0,0.0,0.0,0.0,0.0],[0.0,0.0,0.0,0.0,0.0,0.0,0.0,0.0,0.0,0.0  …  -0.00182324,-0.00189833,-0.00196495,-0.00202298,-0.00207228,-0.00211276,-0.00214433,-0.00216692,-0.0021805,-0.00218503],[-2.57804e-29,1.9332e-29,-7.72879e-29,3.79671e-28,-1.71224e-27,7.32839e-27,-3.04231e-26,1.23832e-25,-4.97107e-25,1.97516e-24  …  -0.00874012,-0.00874012,-0.00874012,-0.00874012,-0.00874012,-0.00874012,-0.00874012,-0.00874012,-0.00874012,-0.00874012],[0.0,0.0,0.0,0.0,0.0,0.0,0.0,0.0,0.0,0.0  …  -0.142377,-0.148241,-0.153444,-0.157975,-0.161825,-0.164986,-0.167451,-0.169216,-0.170276,-0.170629],[0.0,0.0455303,0.0910607,0.136591,0.182121,0.227652,0.273182,0.318712,0.364243,0.409773  …  2.73182,2.77735,2.82288,2.86841,2.91394,2.95947,3.005,3.05053,3.09606,3.14159],[0.0,0.000518163,0.00207158,0.00465703,0.00826915,0.0129005,0.0185414,0.0251802,0.0328031,0.0413943  …  0.958606,0.967197,0.97482,0.981459,0.9871,0.991731,0.995343,0.997928,0.999482,1.0],[0.75],UNSflow.KinemParwFlap(0.0,0.0,0.0,0.0,1.0,0.0,0.008739900408964874,0.6824657287087004),[-4.21031,-4.20979,-4.20824,-4.20566,-4.20204,-4.19741,-4.19177,-4.18513,-4.17751,-4.16892  …  -3.25171,-3.24312,-3.23549,-3.22885,-3.22321,-3.21858,-3.21497,-3.21238,-3.21083,-3.21031],[0.0,0.0,0.0,0.0,0.0,0.0,0.0,0.0,0.0,0.0  …  0.0,0.0,0.0,0.0,0.0,0.0,0.0,0.0,0.0,0.0],[7.52458e-5,7.5295e-5,7.54428e-5,7.56895e-5,7.60357e-5,7.64823e-5,7.70304e-5,7.76812e-5,7.84364e-5,7.92976e-5  …  -0.00257346,-0.00359059,-0.00496537,-0.00675559,-0.00889753,-0.0111563,-0.0132369,-0.0148874,-0.0159378,-0.0162974],[-0.00577133,-0.00577472,-0.0057849,-0.00580191,-0.00582583,-0.00585678,-0.00589491,-0.00594039,-0.00599344,-0.00605433  …  -0.107115,-0.120922,-0.136152,-0.151411,-0.163745,-0.170946,-0.173843,-0.174355,-0.174027,-0.173811],[0.00577133,0.00577472,0.0057849,0.00580191,0.00582583,0.00585678,0.00589491,0.00594039,0.00599344,0.00605433  …  -0.0439796,-0.036028,-0.0259885,-0.0152445,-0.0067425,-0.00268227,-0.00223253,-0.00347086,-0.0048497,-0.00541568],[0.0017079359106928714],[0.0168428,-0.0131257,0.000323671,0.0108499,-0.0141753,0.0100384,-0.00312719,-0.00177186,0.00282131,-0.00136343  …  -0.000266878,0.000198109,0.000143779,-0.000389991,0.000296643,2.9352e-5,-0.000263768,0.000197339,7.06457e-5,-0.000253285],[0.04377947358249058],[0.2132596653053074,-0.12263132861881099,-0.0202903132631013],[0.0017079359106928714],[0.0168428350749851,-0.013125736931546188,0.00032367108807148856],[UNSflow.TwoDVort(-4.210054060595036,0.0,0.00015543216461718582,0.02,0.0,0.0),UNSflow.TwoDVort(-4.209018271227919,0.0,0.00015567673548810422,0.02,0.0,0.0),UNSflow.TwoDVort(-4.206948839325319,0.0,0.00015669309686249197,0.02,0.0,0.0),UNSflow.TwoDVort(-4.203850054100872,0.0,0.00015719627069052015,0.02,0.0,0.0),UNSflow.TwoDVort(-4.19972833826016,0.0,0.0001569167011656328,0.02,0.0,0.0),UNSflow.TwoDVort(-4.194592234688674,0.0,0.00015840135216221203,0.02,0.0,0.0),UNSflow.TwoDVort(-4.188452388745384,0.0,0.00016143086591233595,0.02,0.0,0.0),UNSflow.TwoDVort(-4.1813215261986025,0.0,0.00016228784101313492,0.02,0.0,0.0),UNSflow.TwoDVort(-4.173214426849887,0.0,0.0001619517033049389,0.02,0.0,0.0),UNSflow.TwoDVort(-4.164147893900642,0.0,0.0001652454986567077,0.02,0.0,0.0)  …  UNSflow.TwoDVort(-3.256478390466088,0.0,-0.00024476407305657995,0.02,0.0,0.0),UNSflow.TwoDVort(-3.2474118575168442,0.0,-0.000345731915795249,0.02,0.0,0.0),UNSflow.TwoDVort(-3.239304758168128,0.0,-0.0003823055405116766,0.02,0.0,0.0),UNSflow.TwoDVort(-3.232173895621346,0.0,-0.00034960212479562817,0.02,0.0,0.0),UNSflow.TwoDVort(-3.226034049678056,0.0,-0.00026454656749506526,0.02,0.0,0.0),UNSflow.TwoDVort(-3.2208979461065708,0.0,-0.00016183040601203122,0.02,0.0,0.0),UNSflow.TwoDVort(-3.216776230265858,0.0,-7.751206597725714e-5,0.02,0.0,0.0),UNSflow.TwoDVort(-3.2136774450414105,0.0,-2.842322246543365e-5,0.02,0.0,0.0),UNSflow.TwoDVort(-3.2116080131388114,0.0,-7.76678166510331e-6,0.02,0.0,0.0),UNSflow.TwoDVort(-3.210572223771694,0.0,-1.2609420123779978e-6,0.02,0.0,0.0)],[UNSflow.TwoDVort(0.0,0.0,0.0,0.02,0.0,0.0),UNSflow.TwoDVort(0.0,0.0,0.0,0.02,0.0,0.0),UNSflow.TwoDVort(0.0,0.0,0.0,0.02,0.0,0.0),UNSflow.TwoDVort(0.0,0.0,0.0,0.02,0.0,0.0),UNSflow.TwoDVort(0.0,0.0,0.0,0.02,0.0,0.0),UNSflow.TwoDVort(0.0,0.0,0.0,0.02,0.0,0.0),UNSflow.TwoDVort(0.0,0.0,0.0,0.02,0.0,0.0),UNSflow.TwoDVort(0.0,0.0,0.0,0.02,0.0,0.0),UNSflow.TwoDVort(0.0,0.0,0.0,0.02,0.0,0.0),UNSflow.TwoDVort(0.0,0.0,0.0,0.02,0.0,0.0)  …  UNSflow.TwoDVort(0.0,0.0,0.0,0.02,0.0,0.0),UNSflow.TwoDVort(0.0,0.0,0.0,0.02,0.0,0.0),UNSflow.TwoDVort(0.0,0.0,0.0,0.02,0.0,0.0),UNSflow.TwoDVort(0.0,0.0,0.0,0.02,0.0,0.0),UNSflow.TwoDVort(0.0,0.0,0.0,0.02,0.0,0.0),UNSflow.TwoDVort(0.0,0.0,0.0,0.02,0.0,0.0),UNSflow.TwoDVort(0.0,0.0,0.0,0.02,0.0,0.0),UNSflow.TwoDVort(0.0,0.0,0.0,0.02,0.0,0.0),UNSflow.TwoDVort(0.0,0.0,0.0,0.02,0.0,0.0),UNSflow.TwoDVort(0.0,0.0,0.0,0.02,0.0,0.0)],[21.0],Int8[0]),UNSflow.TwoDFlowField(UNSflow.ConstDef(0.0),UNSflow.ConstDef(0.0),[0.0],[0.0],[UNSflow.TwoDVort(-0.06233235173782793,-0.12538546065856376,-0.03732629067241512,0.02,-0.07340763313991845,-0.049018022981585134),UNSflow.TwoDVort(-0.03096555909398906,-0.09931009617045165,0.0013964089129015714,0.02,-0.15349354553136077,0.0777699716104377),UNSflow.TwoDVort(-0.03921491269324187,-0.16392421543387087,-0.003893722318576657,0.02,0.09623914746323936,0.02632672852496792),UNSflow.TwoDVort(-0.0638162178815781,-0.1787765277657309,-0.004890840255927464,0.02,0.1110005197586804,-0.05330041733015525),UNSflow.TwoDVort(-0.08858925063705987,-0.18007142466849324,-0.004195239173168953,0.02,0.07389725671300441,-0.14581555187672987),UNSflow.TwoDVort(-0.016335341320079425,-0.15084653515040172,-0.0037980737522660055,0.02,0.019655994477833946,0.10599827674127499),UNSflow.TwoDVort(-0.019413798310457368,-0.16426042196725507,-0.0034891086329721637,0.02,0.078587236141659,0.08489227262111856),UNSflow.TwoDVort(-0.09180123433504626,-0.13466379108439724,-0.0031656231059586423,0.02,-0.013192693415572441,-0.2514173347511739),UNSflow.TwoDVort(-0.01130077314751673,-0.12985698980908222,-0.002843721170371504,0.02,-0.06050705029420273,0.11386345141494772),UNSflow.TwoDVort(-0.08266029472890475,-0.2032702409172751,-0.0025252402429944195,0.02,0.1138711490155673,-0.09072472287501797)  …  UNSflow.TwoDVort(-3.125923430342344,-0.003262366866488439,-0.004512766330299122,0.02,0.020719024864593556,0.01982299783859757),UNSflow.TwoDVort(-3.134827157259216,-0.0044001564081382625,-0.004555585020004605,0.02,0.022494043961745872,0.0008033436553360092),UNSflow.TwoDVort(-3.1437792222777894,-0.00524456246778035,-0.004577069421596853,0.02,0.023166754779691115,-0.019041458456456467),UNSflow.TwoDVort(-3.1527612214901546,-0.005786872102296689,-0.004577119312902456,0.02,0.022626555834102925,-0.039834421578603896),UNSflow.TwoDVort(-3.1617534330202486,-0.006020111662393382,-0.004555727167668449,0.02,0.020726703056018304,-0.06179670428901551),UNSflow.TwoDVort(-3.170735067849255,-0.005938396599322529,-0.004512978425902009,0.02,0.01724394047211549,-0.08529442901576681),UNSflow.TwoDVort(-3.1796842366233706,-0.005535939303152504,-0.004449051655051898,0.02,0.011834026080672012,-0.11084861764233353),UNSflow.TwoDVort(-3.188577647738012,-0.004806043391750869,-0.004364218589223886,0.02,0.004133008024665113,-0.13871933278958065),UNSflow.TwoDVort(-3.197391318537788,-0.0037436300292124003,-0.004258844021804459,0.02,-0.0052902960711849545,-0.16607047850794374),UNSflow.TwoDVort(-3.2061093940702596,-0.0023712972541791943,-0.0041333855148566415,0.02,-0.013598477427036997,-0.18378521735206316)],UNSflow.TwoDVort[]))"
      ]
     },
     "execution_count": 12,
     "metadata": {},
     "output_type": "execute_result"
    }
   ],
   "source": [
    "ldvm(surf, curfield, nsteps, dt)"
   ]
  },
  {
   "cell_type": "code",
   "execution_count": 13,
   "metadata": {
    "collapsed": false
   },
   "outputs": [
    {
     "ename": "LoadError",
     "evalue": "LoadError: UndefVarError: cl_theo not defined\nwhile loading In[13], in expression starting on line 9",
     "output_type": "error",
     "traceback": [
      "LoadError: UndefVarError: cl_theo not defined\nwhile loading In[13], in expression starting on line 9",
      ""
     ]
    }
   ],
   "source": [
    "#Plots to compare\n",
    "\n",
    "#UNSflow\n",
    "data = readdlm(\"results.dat\")\n",
    "range = round(Int,(ncyc-1)*nsteps/ncyc)+1:nsteps\n",
    "tbyT = (data[range,1]-data[range[1]])/T\n",
    "\n",
    "plot(tbyT, data[range,6])\n",
    "plot(t_theo, -real(cl_theo))"
   ]
  },
  {
   "cell_type": "markdown",
   "metadata": {},
   "source": [
    "# Negative of the real value corresponds to the sine results. So it seems like a extra i, not a missing one. In any case, the LDVM implementation seems right "
   ]
  },
  {
   "cell_type": "code",
   "execution_count": null,
   "metadata": {
    "collapsed": true
   },
   "outputs": [],
   "source": []
  },
  {
   "cell_type": "markdown",
   "metadata": {},
   "source": [
    "# # Variation of Laura's case E - Pitch and flap"
   ]
  },
  {
   "cell_type": "code",
   "execution_count": 14,
   "metadata": {
    "collapsed": false
   },
   "outputs": [
    {
     "data": {
      "text/plain": [
       "0.08726646259971647"
      ]
     },
     "execution_count": 14,
     "metadata": {},
     "output_type": "execute_result"
    }
   ],
   "source": [
    "#Kinematics\n",
    "alpha_amp = 5*pi/180\n",
    "alpha_mean = 0.\n",
    "alpha_zl = 0. #Flat plate\n",
    "h_amp = 0. \n",
    "k = 3.93\n",
    "beta_amp = 5*pi/180."
   ]
  },
  {
   "cell_type": "code",
   "execution_count": 15,
   "metadata": {
    "collapsed": false
   },
   "outputs": [
    {
     "data": {
      "text/plain": [
       "367"
      ]
     },
     "execution_count": 15,
     "metadata": {},
     "output_type": "execute_result"
    }
   ],
   "source": [
    "#for UNSflow\n",
    "\n",
    "w = 2*k \n",
    "T = (2*pi/w)\n",
    "ncyc = 4\n",
    "t_tot = ncyc*T \n",
    "\n",
    "dt = 0.015*0.2/(k*alpha_amp) \n",
    "nsteps =round(Int,t_tot/dt)+1"
   ]
  },
  {
   "cell_type": "code",
   "execution_count": 16,
   "metadata": {
    "collapsed": false
   },
   "outputs": [
    {
     "data": {
      "text/plain": [
       "UNSflow.TwoDFlowField(UNSflow.ConstDef(0.0),UNSflow.ConstDef(0.0),[0.0],[0.0],UNSflow.TwoDVort[],UNSflow.TwoDVort[])"
      ]
     },
     "execution_count": 16,
     "metadata": {},
     "output_type": "execute_result"
    }
   ],
   "source": [
    "#for UNSflow\n",
    "\n",
    "w = 2*k \n",
    "T = (2*pi/w)\n",
    "ncyc = 4\n",
    "t_tot = ncyc*T \n",
    "\n",
    "dt = 0.015*0.2/(k*beta_amp) \n",
    "nsteps =round(Int,t_tot/dt)+1\n",
    "\n",
    "alphadef = CosDef(alpha_mean, alpha_amp, w, 0.)\n",
    "hdef = ConstDef(h_amp)\n",
    "udef = ConstDef(1.)\n",
    "ndef = CosDef(0., beta_amp, w, 0.)\n",
    "\n",
    "full_kinem = KinemDefwFlap(alphadef, hdef, udef, ndef)\n",
    "\n",
    "pvt = 0.2 \n",
    "\n",
    "lespcrit = [21;] #high value to turn off LEV shedding\n",
    "\n",
    "x_b = [0.75;]\n",
    "\n",
    "surf = TwoDSurfwFlap(1., 1., \"FlatPlate\", pvt, 70, 35, \"Prescribed\", full_kinem,x_b, lespcrit)\n",
    "\n",
    "curfield = TwoDFlowField()"
   ]
  },
  {
   "cell_type": "code",
   "execution_count": 17,
   "metadata": {
    "collapsed": false
   },
   "outputs": [
    {
     "data": {
      "text/plain": [
       "(UNSflow.TwoDSurfwFlap(1.0,1.0,\"FlatPlate\",0.2,70,35,\"Prescribed\",UNSflow.KinemDefwFlap(UNSflow.CosDef(0.0,0.08726646259971647,7.86,0.0),UNSflow.ConstDef(0.0),UNSflow.ConstDef(1.0),UNSflow.CosDef(0.0,0.08726646259971647,7.86,0.0)),[0.0,0.0,0.0,0.0,0.0,0.0,0.0,0.0,0.0,0.0  …  0.0,0.0,0.0,0.0,0.0,0.0,0.0,0.0,0.0,0.0],[0.0,0.0,0.0,0.0,0.0,0.0,0.0,0.0,0.0,0.0  …  -0.0181584,-0.0189062,-0.0195698,-0.0201477,-0.0206387,-0.0210418,-0.0213563,-0.0215813,-0.0217165,-0.0217616],[-2.56758e-28,1.92535e-28,-7.69743e-28,3.7813e-27,-1.70529e-26,7.29865e-26,-3.02997e-25,1.23329e-24,-4.9509e-24,1.96715e-23  …  -0.0870466,-0.0870466,-0.0870466,-0.0870466,-0.0870466,-0.0870466,-0.0870466,-0.0870466,-0.0870466,-0.0870466],[0.0,0.0,0.0,0.0,0.0,0.0,0.0,0.0,0.0,0.0  …  0.0144389,0.0150335,0.0155612,0.0160207,0.0164111,0.0167317,0.0169817,0.0171606,0.0172682,0.017304],[0.0,0.0455303,0.0910607,0.136591,0.182121,0.227652,0.273182,0.318712,0.364243,0.409773  …  2.73182,2.77735,2.82288,2.86841,2.91394,2.95947,3.005,3.05053,3.09606,3.14159],[0.0,0.000518163,0.00207158,0.00465703,0.00826915,0.0129005,0.0185414,0.0251802,0.0328031,0.0413943  …  0.958606,0.967197,0.97482,0.981459,0.9871,0.991731,0.995343,0.997928,0.999482,1.0],[0.75],UNSflow.KinemParwFlap(0.08682770085352422,0.0,-0.06869561721446392,0.0,1.0,0.0,0.08682770085352422,-0.06869561721446392),[-4.20956,-4.20905,-4.2075,-4.20493,-4.20133,-4.19671,-4.19109,-4.18448,-4.17688,-4.16833  …  -3.25612,-3.24763,-3.24009,-3.23353,-3.22795,-3.22337,-3.2198,-3.21724,-3.21571,-3.2152],[0.0172839,0.0172391,0.0171049,0.0168814,0.0165693,0.016169,0.0156816,0.0151078,0.0144491,0.0137066  …  -0.0837407,-0.0852319,-0.0865551,-0.0877075,-0.0886866,-0.0894906,-0.0901176,-0.0905663,-0.090836,-0.0909259],[0.0101279,0.0101363,0.0101613,0.0102033,0.0102623,0.0103386,0.0104327,0.0105449,0.0106758,0.0108262  …  0.152396,0.164691,0.177997,0.191495,0.203249,0.211554,0.216731,0.219818,0.221454,0.221965],[-0.0431779,-0.0431954,-0.0432481,-0.0433359,-0.0434591,-0.043618,-0.043813,-0.0440445,-0.0443131,-0.0446193  …  0.0196664,0.0503623,0.0859839,0.122122,0.148598,0.157396,0.152708,0.143156,0.13496,0.131813],[-0.0583208,-0.0582685,-0.0581115,-0.05785,-0.0574843,-0.0570144,-0.0564408,-0.0557638,-0.054984,-0.0541018  …  -0.152652,-0.183944,-0.220415,-0.257566,-0.284999,-0.294497,-0.290261,-0.280994,-0.27296,-0.269865],[0.06451715223889314],[0.0561188,-0.0828684,0.0479313,-0.0207847,0.0105795,-0.0110248,0.011433,-0.00601401,-0.00307681,0.00961084  …  -0.0025589,0.00035683,0.00171478,-0.00168826,-0.000249723,0.00206146,-0.00193454,3.45214e-5,0.00174784,-0.00171615],[-0.1924002411443399],[-0.9902771095646434,-0.9974710662624497,0.6589936210205241],[0.06451715223889314],[0.05611878522951282,-0.08286844450893881,0.04793125329826159],[UNSflow.TwoDVort(-4.209306797441375,0.017261507652041937,0.0058718411264567115,0.02,0.0,0.0),UNSflow.TwoDVort(-4.208274883130182,0.017171995266554923,0.005861806080741401,0.02,0.0,0.0),UNSflow.TwoDVort(-4.206213193307783,0.016993156023668944,0.005843782933142737,0.02,0.0,0.0),UNSflow.TwoDVort(-4.203126001141172,0.01672536059502481,0.0058127060268665315,0.02,0.0,0.0),UNSflow.TwoDVort(-4.199019705307549,0.016369164027542488,0.005768211932942687,0.02,0.0,0.0),UNSflow.TwoDVort(-4.193902816732082,0.015925304593001628,0.005720792387853888,0.02,0.0,0.0),UNSflow.TwoDVort(-4.18778594094773,0.01539470225786056,0.005668667762681733,0.02,0.0,0.0),UNSflow.TwoDVort(-4.180681756113648,0.014778456776485318,0.005597581813626487,0.02,0.0,0.0),UNSflow.TwoDVort(-4.172604986737753,0.014077845411740782,0.005514226149423003,0.02,0.0,0.0),UNSflow.TwoDVort(-4.163572373157955,0.013294320287668322,0.005437660558629805,0.02,0.0,0.0)  …  UNSflow.TwoDVort(-3.26083980295354,-0.08291252047435455,0.003758131774708083,0.02,0.0,0.0),UNSflow.TwoDVort(-3.251875741426132,-0.0844862966721967,0.003410847520200667,0.02,0.0,0.0),UNSflow.TwoDVort(-3.2438602698255163,-0.08589353360167984,0.002989947933835875,0.02,0.0,0.0),UNSflow.TwoDVort(-3.2368100014406007,-0.08713131454937337,0.0024087403527393754,0.02,0.0,0.0),UNSflow.TwoDVort(-3.230739549029237,-0.08819707402524592,0.001694269225692563,0.02,0.0,0.0),UNSflow.TwoDVort(-3.225661494531045,-0.08908860308003523,0.0010219066393847148,0.02,0.0,0.0),UNSflow.TwoDVort(-3.22158636298942,-0.08980405388363309,0.0005281966272853946,0.02,0.0,0.0),UNSflow.TwoDVort(-3.218522600736784,-0.090341943554995,0.00022462901191230177,0.02,0.0,0.0),UNSflow.TwoDVort(-3.2164765578882646,-0.09070115723563765,6.831474876048551e-5,0.02,0.0,0.0),UNSflow.TwoDVort(-3.2154524751801046,-0.09088095040035367,1.0626081391325194e-5,0.02,0.0,0.0)],[UNSflow.TwoDVort(0.0,0.0,0.0,0.02,0.0,0.0),UNSflow.TwoDVort(0.0,0.0,0.0,0.02,0.0,0.0),UNSflow.TwoDVort(0.0,0.0,0.0,0.02,0.0,0.0),UNSflow.TwoDVort(0.0,0.0,0.0,0.02,0.0,0.0),UNSflow.TwoDVort(0.0,0.0,0.0,0.02,0.0,0.0),UNSflow.TwoDVort(0.0,0.0,0.0,0.02,0.0,0.0),UNSflow.TwoDVort(0.0,0.0,0.0,0.02,0.0,0.0),UNSflow.TwoDVort(0.0,0.0,0.0,0.02,0.0,0.0),UNSflow.TwoDVort(0.0,0.0,0.0,0.02,0.0,0.0),UNSflow.TwoDVort(0.0,0.0,0.0,0.02,0.0,0.0)  …  UNSflow.TwoDVort(0.0,0.0,0.0,0.02,0.0,0.0),UNSflow.TwoDVort(0.0,0.0,0.0,0.02,0.0,0.0),UNSflow.TwoDVort(0.0,0.0,0.0,0.02,0.0,0.0),UNSflow.TwoDVort(0.0,0.0,0.0,0.02,0.0,0.0),UNSflow.TwoDVort(0.0,0.0,0.0,0.02,0.0,0.0),UNSflow.TwoDVort(0.0,0.0,0.0,0.02,0.0,0.0),UNSflow.TwoDVort(0.0,0.0,0.0,0.02,0.0,0.0),UNSflow.TwoDVort(0.0,0.0,0.0,0.02,0.0,0.0),UNSflow.TwoDVort(0.0,0.0,0.0,0.02,0.0,0.0),UNSflow.TwoDVort(0.0,0.0,0.0,0.02,0.0,0.0)],[21.0],Int8[0]),UNSflow.TwoDFlowField(UNSflow.ConstDef(0.0),UNSflow.ConstDef(0.0),[0.0],[0.0],[UNSflow.TwoDVort(-0.24132508376726697,0.38183051929290995,-0.054720007687935474,0.02,-0.4072823781698538,-0.14781838439117184),UNSflow.TwoDVort(-0.23312682869828485,0.41632199959109456,0.02019503974887005,0.02,-0.5042734704564298,-0.15261627276924272),UNSflow.TwoDVort(-0.35478071391031124,0.4727799887795187,0.010985496586126698,0.02,-0.32265020582914805,-0.29082707174738676),UNSflow.TwoDVort(-0.39082565719001755,0.5504511139507282,0.010752991627828168,0.02,0.06909727937600997,-0.03871425889723557),UNSflow.TwoDVort(-0.4301423419181026,0.49319290236187746,0.013459191191871278,0.02,-0.16947664105393517,0.06681135058275794),UNSflow.TwoDVort(-0.5006171524640609,0.5569263960505855,0.015211436355553411,0.02,-0.03559110063211476,0.3441447673057978),UNSflow.TwoDVort(-0.4260831031493038,0.43370491469725625,0.01653963124749447,0.02,-0.444459148872777,-0.02074512392080094),UNSflow.TwoDVort(-0.42116521641701915,0.5291066222456323,0.017730210495489715,0.02,-0.018241496821173948,0.09781267001907062),UNSflow.TwoDVort(-0.2910787792010091,0.533527984680165,0.018777085750932877,0.02,-0.12819181981271763,-0.32889478278170037),UNSflow.TwoDVort(-0.3378714823326905,0.5010065729624775,0.01968510645659459,0.02,-0.16095384154480913,-0.3105745447118667)  …  UNSflow.TwoDVort(-3.1235631754382993,-0.14089124174539755,0.0032811246428074777,0.02,0.020285755372269374,-0.6891959105402401),UNSflow.TwoDVort(-3.1338981171331763,-0.1354778002641292,0.005219807099193021,0.02,-0.0007980973172819067,-0.6803703460089148),UNSflow.TwoDVort(-3.1433981334777656,-0.12965347886205142,0.0071198457431636206,0.02,-0.00517943135903649,-0.6629426154879616),UNSflow.TwoDVort(-3.1523369889462662,-0.12359387800421616,0.008974833352954058,0.02,0.007506261591282214,-0.6369269880645746),UNSflow.TwoDVort(-3.161018545920579,-0.11745286436572837,0.010779276396166437,0.02,0.035757571251769774,-0.6006480372863174),UNSflow.TwoDVort(-3.1697359477982623,-0.111385574717723,0.012528463214371104,0.02,0.07643109192793948,-0.5499944864474159),UNSflow.TwoDVort(-3.1787369367032756,-0.10558055269534916,0.014218274253962448,0.02,0.12422131450661787,-0.47733612682207155),UNSflow.TwoDVort(-3.1881904776081527,-0.10030101671091261,0.01584495296474535,0.02,0.16912491533249696,-0.3714556000693615),UNSflow.TwoDVort(-3.198133187892377,-0.09592598348557524,0.017404853348053254,0.02,0.19471068640596204,-0.2306124645972008),UNSflow.TwoDVort(-3.20840047731472,-0.09286568334093391,0.018894195918562638,0.02,0.19158431059910735,-0.10808840707990947)],UNSflow.TwoDVort[]))"
      ]
     },
     "execution_count": 17,
     "metadata": {},
     "output_type": "execute_result"
    }
   ],
   "source": [
    "ldvm(surf, curfield, nsteps, dt)"
   ]
  },
  {
   "cell_type": "code",
   "execution_count": 18,
   "metadata": {
    "collapsed": false
   },
   "outputs": [
    {
     "ename": "LoadError",
     "evalue": "LoadError: BoundsError: attempt to access ([0.0,0.00277778,0.00555556,0.00833333,0.0111111,0.0138889,0.0166667,0.0194444,0.0222222,0.025  …  0.975,0.977778,0.980556,0.983333,0.986111,0.988889,0.991667,0.994444,0.997222,1.0],Complex{Float64}[-2.17851+2.67933im,-2.22493+2.6409im,-2.27069+2.60167im,-2.31574+2.56164im,-2.3601+2.52084im,-2.40373+2.47926im,-2.44664+2.43694im,-2.48879+2.39386im,-2.53019+2.35006im,-2.57082+2.30555im  …  -1.73254+2.98714im,-1.78441+2.95644im,-1.83574+2.92485im,-1.8865+2.89237im,-1.9367+2.859im,-1.9863+2.82477im,-2.03529+2.78967im,-2.08367+2.75373im,-2.13141+2.71694im,-2.17851+2.67933im],Complex{Float64}[1.03943-0.803071im,1.05329-0.784808im,1.06683-0.766306im,1.08004-0.74757im,1.09292-0.728607im,1.10547-0.709422im,1.11768-0.690021im,1.12956-0.67041im,1.14109-0.650594im,1.15227-0.63058im  …  0.90101-0.955787im,0.917553-0.939917im,0.933817-0.92376im,0.949797-0.907322im,0.965487-0.890608im,0.980883-0.873622im,0.995981-0.85637im,1.01077-0.838857im,1.02526-0.821089im,1.03943-0.803071im],Complex{Float64}[-0.205023-0.818897im,-0.194458-0.827033im,-0.18382-0.835066im,-0.17311-0.842996im,-0.162332-0.850823im,-0.151489-0.858548im,-0.140583-0.866171im,-0.129618-0.873692im,-0.118598-0.881112im,-0.107524-0.888432im  …  10.7383-110.345im,10.9424-112.284im,11.1499-114.256im,11.3611-116.263im,11.5758-118.306im,11.7943-120.384im,12.0166-122.498im,12.2426-124.649im,12.4725-126.838im,12.7064-129.065im])\n  at index [5]\nwhile loading In[18], in expression starting on line 3",
     "output_type": "error",
     "traceback": [
      "LoadError: BoundsError: attempt to access ([0.0,0.00277778,0.00555556,0.00833333,0.0111111,0.0138889,0.0166667,0.0194444,0.0222222,0.025  …  0.975,0.977778,0.980556,0.983333,0.986111,0.988889,0.991667,0.994444,0.997222,1.0],Complex{Float64}[-2.17851+2.67933im,-2.22493+2.6409im,-2.27069+2.60167im,-2.31574+2.56164im,-2.3601+2.52084im,-2.40373+2.47926im,-2.44664+2.43694im,-2.48879+2.39386im,-2.53019+2.35006im,-2.57082+2.30555im  …  -1.73254+2.98714im,-1.78441+2.95644im,-1.83574+2.92485im,-1.8865+2.89237im,-1.9367+2.859im,-1.9863+2.82477im,-2.03529+2.78967im,-2.08367+2.75373im,-2.13141+2.71694im,-2.17851+2.67933im],Complex{Float64}[1.03943-0.803071im,1.05329-0.784808im,1.06683-0.766306im,1.08004-0.74757im,1.09292-0.728607im,1.10547-0.709422im,1.11768-0.690021im,1.12956-0.67041im,1.14109-0.650594im,1.15227-0.63058im  …  0.90101-0.955787im,0.917553-0.939917im,0.933817-0.92376im,0.949797-0.907322im,0.965487-0.890608im,0.980883-0.873622im,0.995981-0.85637im,1.01077-0.838857im,1.02526-0.821089im,1.03943-0.803071im],Complex{Float64}[-0.205023-0.818897im,-0.194458-0.827033im,-0.18382-0.835066im,-0.17311-0.842996im,-0.162332-0.850823im,-0.151489-0.858548im,-0.140583-0.866171im,-0.129618-0.873692im,-0.118598-0.881112im,-0.107524-0.888432im  …  10.7383-110.345im,10.9424-112.284im,11.1499-114.256im,11.3611-116.263im,11.5758-118.306im,11.7943-120.384im,12.0166-122.498im,12.2426-124.649im,12.4725-126.838im,12.7064-129.065im])\n  at index [5]\nwhile loading In[18], in expression starting on line 3",
      "",
      " in indexed_next at tuple.jl:21"
     ]
    }
   ],
   "source": [
    "#for Theodorsen\n",
    "theo_in = TheoDefwFlap(alpha_amp, h_amp, alpha_mean, alpha_zl, k, 0., pvt, beta_amp, x_b[1], 0.)\n",
    "(t_theo, _, cl_h, cl_alpha, cl_beta, cl_theo) = theodorsen(theo_in)"
   ]
  },
  {
   "cell_type": "code",
   "execution_count": 19,
   "metadata": {
    "collapsed": false
   },
   "outputs": [
    {
     "ename": "LoadError",
     "evalue": "LoadError: UndefVarError: cl_theo not defined\nwhile loading In[19], in expression starting on line 9",
     "output_type": "error",
     "traceback": [
      "LoadError: UndefVarError: cl_theo not defined\nwhile loading In[19], in expression starting on line 9",
      ""
     ]
    }
   ],
   "source": [
    "#Plots to compare\n",
    "\n",
    "#UNSflow\n",
    "data = readdlm(\"results.dat\")\n",
    "range = round(Int,(ncyc-1)*nsteps/ncyc)+1:nsteps\n",
    "tbyT = (data[range,1]-data[range[1]])/T\n",
    "\n",
    "plot(tbyT, data[range,6])\n",
    "plot(t_theo, real(cl_theo))\n"
   ]
  },
  {
   "cell_type": "markdown",
   "metadata": {},
   "source": [
    "# Looks good. alpha=10 + flap=5 becomes large angle and we start seeing differences between LDVM and theodorsen"
   ]
  }
 ],
 "metadata": {
  "anaconda-cloud": {},
  "kernelspec": {
   "display_name": "Julia 0.4.5",
   "language": "julia",
   "name": "julia-0.4"
  },
  "language_info": {
   "file_extension": ".jl",
   "mimetype": "application/julia",
   "name": "julia",
   "version": "0.4.6"
  }
 },
 "nbformat": 4,
 "nbformat_minor": 0
}
