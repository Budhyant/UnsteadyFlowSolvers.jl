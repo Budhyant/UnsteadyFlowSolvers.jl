{
 "cells": [
  {
   "cell_type": "markdown",
   "metadata": {},
   "source": [
    "Can we use indicial functions to represent the effect of the finite wing vortices as they shed away "
   ]
  },
  {
   "cell_type": "markdown",
   "metadata": {},
   "source": [
    "A vortex of unit strength that sheds away from the airfoil"
   ]
  },
  {
   "cell_type": "code",
   "execution_count": 15,
   "metadata": {
    "collapsed": false
   },
   "outputs": [
    {
     "name": "stderr",
     "output_type": "stream",
     "text": [
      "WARNING: replacing module UNSflow\n",
      "WARNING: using UNSflow.TwoDVort in module Main conflicts with an existing identifier.\n",
      "WARNING: using UNSflow.TheoDef in module Main conflicts with an existing identifier.\n",
      "WARNING: using UNSflow.theodorsen in module Main conflicts with an existing identifier.\n",
      "WARNING: using UNSflow.KinemPar2DFree in module Main conflicts with an existing identifier.\n",
      "WARNING: using UNSflow.ldvm_E in module Main conflicts with an existing identifier.\n",
      "WARNING: using UNSflow.transfer_cm in module Main conflicts with an existing identifier.\n",
      "WARNING: using UNSflow.lautat_wakeroll in module Main conflicts with an existing identifier.\n",
      "WARNING: using UNSflow.update_a2toan in module Main conflicts with an existing identifier.\n",
      "WARNING: using UNSflow.patch in module Main conflicts with an existing identifier.\n",
      "WARNING: using UNSflow.place_tev in module Main conflicts with an existing identifier.\n",
      "WARNING: using UNSflow.QScorrect_lautat in module Main conflicts with an existing identifier.\n",
      "WARNING: using UNSflow.KinemDef in module Main conflicts with an existing identifier.\n",
      "WARNING: using UNSflow.TwoDSurf in module Main conflicts with an existing identifier.\n",
      "WARNING: using UNSflow.interp in module Main conflicts with an existing identifier.\n",
      "WARNING: using UNSflow.KinemDefwFlap in module Main conflicts with an existing identifier.\n",
      "WARNING: using UNSflow.mutual_ind in module Main conflicts with an existing identifier.\n",
      "WARNING: using UNSflow.update_adot in module Main conflicts with an existing identifier.\n",
      "WARNING: using UNSflow.place_lev in module Main conflicts with an existing identifier.\n",
      "WARNING: using UNSflow.ldvm_more in module Main conflicts with an existing identifier.\n",
      "WARNING: using UNSflow.KelvinCondition in module Main conflicts with an existing identifier.\n",
      "WARNING: using UNSflow.KinemPar in module Main conflicts with an existing identifier.\n",
      "WARNING: using UNSflow.TwoDFreePar in module Main conflicts with an existing identifier.\n",
      "WARNING: using UNSflow.update_a0anda1 in module Main conflicts with an existing identifier.\n",
      "WARNING: using UNSflow.trapz in module Main conflicts with an existing identifier.\n",
      "WARNING: using UNSflow.KinemParwFlap in module Main conflicts with an existing identifier.\n",
      "WARNING: using UNSflow.TwoDSurfwFlap in module Main conflicts with an existing identifier.\n",
      "WARNING: using UNSflow.calc_forces_more in module Main conflicts with an existing identifier.\n",
      "WARNING: using UNSflow.anim_flow in module Main conflicts with an existing identifier.\n",
      "WARNING: using UNSflow.design_solve in module Main conflicts with an existing identifier.\n",
      "WARNING: using UNSflow.EldRampReturnDef in module Main conflicts with an existing identifier.\n",
      "WARNING: using UNSflow.KinemDef3D in module Main conflicts with an existing identifier.\n",
      "WARNING: using UNSflow.ThreeDFlowField in module Main conflicts with an existing identifier.\n",
      "WARNING: using UNSflow.view_vorts in module Main conflicts with an existing identifier.\n",
      "WARNING: using UNSflow.TheoDefwFlap in module Main conflicts with an existing identifier.\n",
      "WARNING: using UNSflow.camber_calc in module Main conflicts with an existing identifier.\n",
      "WARNING: using UNSflow.ldvm_E_more in module Main conflicts with an existing identifier.\n",
      "WARNING: using UNSflow.update_bv in module Main conflicts with an existing identifier.\n",
      "WARNING: using UNSflow.KinemPar2DOF in module Main conflicts with an existing identifier.\n",
      "WARNING: using UNSflow.ldvm in module Main conflicts with an existing identifier.\n",
      "WARNING: using UNSflow.ThreeDVort in module Main conflicts with an existing identifier.\n",
      "WARNING: using UNSflow.CosDef in module Main conflicts with an existing identifier.\n",
      "WARNING: using UNSflow.ind_vel in module Main conflicts with an existing identifier.\n",
      "WARNING: using UNSflow.ConstDef in module Main conflicts with an existing identifier.\n",
      "WARNING: using UNSflow.SinDef in module Main conflicts with an existing identifier.\n",
      "WARNING: using UNSflow.lesp_design_max in module Main conflicts with an existing identifier.\n",
      "WARNING: using UNSflow.lautat in module Main conflicts with an existing identifier.\n",
      "WARNING: using UNSflow.EldUpDef in module Main conflicts with an existing identifier.\n",
      "WARNING: using UNSflow.EldUpInttstartDef in module Main conflicts with an existing identifier.\n",
      "WARNING: using UNSflow.QScorrect_ldvm in module Main conflicts with an existing identifier.\n",
      "WARNING: using UNSflow.update_kinem in module Main conflicts with an existing identifier.\n",
      "WARNING: using UNSflow.TwoDOFPar in module Main conflicts with an existing identifier.\n",
      "WARNING: using UNSflow.MotionDef in module Main conflicts with an existing identifier.\n",
      "WARNING: using UNSflow.drone_trajectory_problem in module Main conflicts with an existing identifier.\n",
      "WARNING: using UNSflow.update_boundpos in module Main conflicts with an existing identifier.\n",
      "WARNING: using UNSflow.TwoDFlowData in module Main conflicts with an existing identifier.\n",
      "WARNING: using UNSflow.KelvinKuttaLLTldvm in module Main conflicts with an existing identifier.\n",
      "WARNING: using UNSflow.TwoDFlowField in module Main conflicts with an existing identifier.\n",
      "WARNING: using UNSflow.QSLLT_lautat in module Main conflicts with an existing identifier.\n",
      "WARNING: using UNSflow.calc_forces in module Main conflicts with an existing identifier.\n",
      "WARNING: using UNSflow.ThreeDSurf in module Main conflicts with an existing identifier.\n",
      "WARNING: using UNSflow.wakeroll in module Main conflicts with an existing identifier.\n",
      "WARNING: using UNSflow.find_tstep in module Main conflicts with an existing identifier.\n",
      "WARNING: using UNSflow.simple_LLT in module Main conflicts with an existing identifier.\n",
      "WARNING: using UNSflow.update_a2a3adot in module Main conflicts with an existing identifier.\n",
      "WARNING: using UNSflow.TwoDFreeSurf in module Main conflicts with an existing identifier.\n",
      "WARNING: using UNSflow.EldUpIntDef in module Main conflicts with an existing identifier.\n",
      "WARNING: using UNSflow.lautat_wakeroll_more in module Main conflicts with an existing identifier.\n",
      "WARNING: using UNSflow.KelvinConditionLLTldvm in module Main conflicts with an existing identifier.\n",
      "WARNING: using UNSflow.update_indbound in module Main conflicts with an existing identifier.\n",
      "WARNING: using UNSflow.calc_forces_E in module Main conflicts with an existing identifier.\n",
      "WARNING: using UNSflow.update_downwash in module Main conflicts with an existing identifier.\n",
      "WARNING: using UNSflow.TwoDSurf_2DOF in module Main conflicts with an existing identifier.\n",
      "WARNING: using UNSflow.KelvinKutta in module Main conflicts with an existing identifier.\n",
      "WARNING: using UNSflow.QSLLT_ldvm in module Main conflicts with an existing identifier.\n",
      "WARNING: using UNSflow.calc_forces_E_more in module Main conflicts with an existing identifier.\n",
      "WARNING: using UNSflow.update_externalvel in module Main conflicts with an existing identifier.\n",
      "WARNING: using UNSflow.EldUptstartDef in module Main conflicts with an existing identifier.\n",
      "WARNING: using UNSflow.DelVortDef in module Main conflicts with an existing identifier.\n"
     ]
    }
   ],
   "source": [
    "include(\"../src/UNSflow.jl\")\n",
    "using UNSflow"
   ]
  },
  {
   "cell_type": "code",
   "execution_count": 16,
   "metadata": {
    "collapsed": false
   },
   "outputs": [
    {
     "data": {
      "text/plain": [
       "UNSflow.TwoDFlowField(UNSflow.ConstDef(0.0),UNSflow.ConstDef(0.0),[0.0],[0.0],UNSflow.TwoDVort[],UNSflow.TwoDVort[],UNSflow.TwoDVort[])"
      ]
     },
     "execution_count": 16,
     "metadata": {},
     "output_type": "execute_result"
    }
   ],
   "source": [
    "\n",
    "#Define a surface \n",
    "\n",
    "alphadef = ConstDef(0.)\n",
    "hdef = ConstDef(0.)\n",
    "udef = ConstDef(1.)\n",
    "full_kinem = KinemDef(alphadef, hdef, udef)\n",
    "pvt = 0.0 #leading edge\n",
    "lespcrit = [0.18;] #Note that the value is entered as an array. \n",
    "surf = TwoDSurf(\"FlatPlate\", pvt, full_kinem,lespcrit)\n",
    "curfield = TwoDFlowField()"
   ]
  },
  {
   "cell_type": "code",
   "execution_count": 17,
   "metadata": {
    "collapsed": false
   },
   "outputs": [
    {
     "data": {
      "text/plain": [
       "-0.01"
      ]
     },
     "execution_count": 17,
     "metadata": {},
     "output_type": "execute_result"
    }
   ],
   "source": [
    "t = 0\n",
    "dt = 0.015\n",
    "place_tev(surf,curfield,dt)\n",
    "curfield.tev[1].s = -0.01"
   ]
  },
  {
   "cell_type": "code",
   "execution_count": null,
   "metadata": {
    "collapsed": false
   },
   "outputs": [],
   "source": []
  },
  {
   "cell_type": "code",
   "execution_count": 18,
   "metadata": {
    "collapsed": false
   },
   "outputs": [
    {
     "data": {
      "text/plain": [
       "UNSflow.TwoDSurf(1.0,1.0,\"FlatPlate\",0.0,70,35,UNSflow.KinemDef(UNSflow.ConstDef(0.0),UNSflow.ConstDef(0.0),UNSflow.ConstDef(1.0)),[0.0,0.0,0.0,0.0,0.0,0.0,0.0,0.0,0.0,0.0  …  0.0,0.0,0.0,0.0,0.0,0.0,0.0,0.0,0.0,0.0],[0.0,0.0,0.0,0.0,0.0,0.0,0.0,0.0,0.0,0.0  …  0.0,0.0,0.0,0.0,0.0,0.0,0.0,0.0,0.0,0.0],[0.0,0.0455303,0.0910607,0.136591,0.182121,0.227652,0.273182,0.318712,0.364243,0.409773  …  2.73182,2.77735,2.82288,2.86841,2.91394,2.95947,3.005,3.05053,3.09606,3.14159],[0.0,0.000518163,0.00207158,0.00465703,0.00826915,0.0129005,0.0185414,0.0251802,0.0328031,0.0413943  …  0.958606,0.967197,0.97482,0.981459,0.9871,0.991731,0.995343,0.997928,0.999482,1.0],UNSflow.KinemPar(0.0,0.0,0.0,0.0,1.0,0.0),[-1.0,-0.999482,-0.997928,-0.995343,-0.991731,-0.9871,-0.981459,-0.97482,-0.967197,-0.958606  …  -0.0413943,-0.0328031,-0.0251802,-0.0185414,-0.0129005,-0.00826915,-0.00465703,-0.00207158,-0.000518163,0.0],[0.0,0.0,0.0,0.0,0.0,0.0,0.0,0.0,0.0,0.0  …  0.0,0.0,0.0,0.0,0.0,0.0,0.0,0.0,0.0,0.0],[0.0,0.0,0.0,0.0,0.0,0.0,0.0,0.0,0.0,0.0  …  0.0,0.0,0.0,0.0,0.0,0.0,0.0,0.0,0.0,0.0],[-0.0015797,-0.00158051,-0.00158296,-0.00158704,-0.00159277,-0.00160019,-0.00160932,-0.00162019,-0.00163287,-0.00164739  …  -0.0321045,-0.038344,-0.045607,-0.0526413,-0.0562477,-0.0532861,-0.0453732,-0.0371228,-0.031499,-0.0295508],[0.0015797,0.00158051,0.00158296,0.00158704,0.00159277,0.00160019,0.00160932,0.00162019,0.00163287,0.00164739  …  0.0321045,0.038344,0.045607,0.0526413,0.0562477,0.0532861,0.0453732,0.0371228,0.031499,0.0295508],[-0.0102521],[-0.014788,0.0,0.0,0.0,0.0,0.0,0.0,0.0,0.0,0.0  …  0.0,0.0,0.0,0.0,0.0,0.0,0.0,0.0,0.0,0.0],[0.0],[0.0,0.0,0.0],[0.0],[0.0,0.0,0.0],UNSflow.TwoDVort[UNSflow.TwoDVort(0.0,0.0,0.0,0.02,0.0,0.0),UNSflow.TwoDVort(0.0,0.0,0.0,0.02,0.0,0.0),UNSflow.TwoDVort(0.0,0.0,0.0,0.02,0.0,0.0),UNSflow.TwoDVort(0.0,0.0,0.0,0.02,0.0,0.0),UNSflow.TwoDVort(0.0,0.0,0.0,0.02,0.0,0.0),UNSflow.TwoDVort(0.0,0.0,0.0,0.02,0.0,0.0),UNSflow.TwoDVort(0.0,0.0,0.0,0.02,0.0,0.0),UNSflow.TwoDVort(0.0,0.0,0.0,0.02,0.0,0.0),UNSflow.TwoDVort(0.0,0.0,0.0,0.02,0.0,0.0),UNSflow.TwoDVort(0.0,0.0,0.0,0.02,0.0,0.0)  …  UNSflow.TwoDVort(0.0,0.0,0.0,0.02,0.0,0.0),UNSflow.TwoDVort(0.0,0.0,0.0,0.02,0.0,0.0),UNSflow.TwoDVort(0.0,0.0,0.0,0.02,0.0,0.0),UNSflow.TwoDVort(0.0,0.0,0.0,0.02,0.0,0.0),UNSflow.TwoDVort(0.0,0.0,0.0,0.02,0.0,0.0),UNSflow.TwoDVort(0.0,0.0,0.0,0.02,0.0,0.0),UNSflow.TwoDVort(0.0,0.0,0.0,0.02,0.0,0.0),UNSflow.TwoDVort(0.0,0.0,0.0,0.02,0.0,0.0),UNSflow.TwoDVort(0.0,0.0,0.0,0.02,0.0,0.0),UNSflow.TwoDVort(0.0,0.0,0.0,0.02,0.0,0.0)],[0.18],Int8[0])"
      ]
     },
     "execution_count": 18,
     "metadata": {},
     "output_type": "execute_result"
    }
   ],
   "source": [
    "update_indbound(surf, curfield)\n",
    "update_downwash(surf, [curfield.u[1],curfield.w[1]])\n",
    "update_a0anda1(surf)"
   ]
  },
  {
   "cell_type": "code",
   "execution_count": 19,
   "metadata": {
    "collapsed": false
   },
   "outputs": [
    {
     "data": {
      "text/plain": [
       "500×2 Array{Float64,2}:\n",
       " 0.0  0.0\n",
       " 0.0  0.0\n",
       " 0.0  0.0\n",
       " 0.0  0.0\n",
       " 0.0  0.0\n",
       " 0.0  0.0\n",
       " 0.0  0.0\n",
       " 0.0  0.0\n",
       " 0.0  0.0\n",
       " 0.0  0.0\n",
       " 0.0  0.0\n",
       " 0.0  0.0\n",
       " 0.0  0.0\n",
       " ⋮       \n",
       " 0.0  0.0\n",
       " 0.0  0.0\n",
       " 0.0  0.0\n",
       " 0.0  0.0\n",
       " 0.0  0.0\n",
       " 0.0  0.0\n",
       " 0.0  0.0\n",
       " 0.0  0.0\n",
       " 0.0  0.0\n",
       " 0.0  0.0\n",
       " 0.0  0.0\n",
       " 0.0  0.0"
      ]
     },
     "execution_count": 19,
     "metadata": {},
     "output_type": "execute_result"
    }
   ],
   "source": [
    "mat = zeros(500,2)"
   ]
  },
  {
   "cell_type": "code",
   "execution_count": 22,
   "metadata": {
    "collapsed": false
   },
   "outputs": [],
   "source": [
    "for i = 1:500\n",
    "    t = t+ dt\n",
    "    update_indbound(surf, curfield)\n",
    "    update_downwash(surf, [curfield.u[1],curfield.w[1]])\n",
    "    update_a0anda1(surf)\n",
    "    mat[i,:] = [t, surf.a0[1]]\n",
    "    update_boundpos(surf, dt)\n",
    "end"
   ]
  },
  {
   "cell_type": "code",
   "execution_count": 25,
   "metadata": {
    "collapsed": false
   },
   "outputs": [
    {
     "data": {
      "image/png": "[encoded data removed]",
      "text/plain": [
       "PyPlot.Figure(PyObject <matplotlib.figure.Figure object at 0x3243833d0>)"
      ]
     },
     "metadata": {},
     "output_type": "display_data"
    },
    {
     "data": {
      "text/plain": [
       "1-element Array{Any,1}:\n",
       " PyObject <matplotlib.lines.Line2D object at 0x32442bcd0>"
      ]
     },
     "execution_count": 25,
     "metadata": {},
     "output_type": "execute_result"
    }
   ],
   "source": [
    "plot(mat[:,1],mat[:,2])"
   ]
  },
  {
   "cell_type": "code",
   "execution_count": 26,
   "metadata": {
    "collapsed": true
   },
   "outputs": [],
   "source": [
    "# To imitate wagner - add a0 = 1*pi/180, tev strength would be pi*pi/180 "
   ]
  },
  {
   "cell_type": "code",
   "execution_count": 27,
   "metadata": {
    "collapsed": false
   },
   "outputs": [
    {
     "data": {
      "image/png": "[encoded data removed]",
      "text/plain": [
       "PyPlot.Figure(PyObject <matplotlib.figure.Figure object at 0x32446cdd0>)"
      ]
     },
     "metadata": {},
     "output_type": "display_data"
    },
    {
     "data": {
      "text/plain": [
       "1-element Array{Any,1}:\n",
       " PyObject <matplotlib.lines.Line2D object at 0x3244e7fd0>"
      ]
     },
     "execution_count": 27,
     "metadata": {},
     "output_type": "execute_result"
    }
   ],
   "source": [
    "plot(mat[:,1],mat[:,2]*pi*pi/180 + pi/180)"
   ]
  },
  {
   "cell_type": "code",
   "execution_count": null,
   "metadata": {
    "collapsed": true
   },
   "outputs": [],
   "source": []
  }
 ],
 "metadata": {
  "kernelspec": {
   "display_name": "Julia 0.5.0-rc4",
   "language": "julia",
   "name": "julia-0.5"
  },
  "language_info": {
   "file_extension": ".jl",
   "mimetype": "application/julia",
   "name": "julia",
   "version": "0.5.0"
  }
 },
 "nbformat": 4,
 "nbformat_minor": 1
}
