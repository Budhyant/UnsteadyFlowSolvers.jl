{
 "cells": [
  {
   "cell_type": "markdown",
   "metadata": {},
   "source": [
    "# Tiago testcases "
   ]
  },
  {
   "cell_type": "markdown",
   "metadata": {},
   "source": [
    "## Simulation of typical section aeroelastic response (based on setup at ITA LNCA)"
   ]
  },
  {
   "cell_type": "code",
   "execution_count": 1,
   "metadata": {
    "collapsed": false
   },
   "outputs": [
    {
     "name": "stderr",
     "output_type": "stream",
     "text": [
      "objc[895]: Class TKApplication is implemented in both /System/Library/Frameworks/Tk.framework/Versions/8.5/Tk and /Users/kiran/.julia/v0.4/Conda/deps/usr/lib/libtk8.5.dylib. One of the two will be used. Which one is undefined.\n",
      "objc[895]: Class TKMenu is implemented in both /System/Library/Frameworks/Tk.framework/Versions/8.5/Tk and /Users/kiran/.julia/v0.4/Conda/deps/usr/lib/libtk8.5.dylib. One of the two will be used. Which one is undefined.\n",
      "objc[895]: Class TKContentView is implemented in both /System/Library/Frameworks/Tk.framework/Versions/8.5/Tk and /Users/kiran/.julia/v0.4/Conda/deps/usr/lib/libtk8.5.dylib. One of the two will be used. Which one is undefined.\n",
      "objc[895]: Class TKWindow is implemented in both /System/Library/Frameworks/Tk.framework/Versions/8.5/Tk and /Users/kiran/.julia/v0.4/Conda/deps/usr/lib/libtk8.5.dylib. One of the two will be used. Which one is undefined.\n",
      "/Users/kiran/.julia/v0.4/Conda/deps/usr/lib/python2.7/site-packages/matplotlib/font_manager.py:273: UserWarning: Matplotlib is building the font cache using fc-list. This may take a moment.\n",
      "  warnings.warn('Matplotlib is building the font cache using fc-list. This may take a moment.')\n"
     ]
    }
   ],
   "source": [
    "include(\"../src/UNSflow.jl\")\n",
    "using UNSflow"
   ]
  },
  {
   "cell_type": "markdown",
   "metadata": {},
   "source": [
    "### Structural and aerodynamic parameters"
   ]
  },
  {
   "cell_type": "code",
   "execution_count": 3,
   "metadata": {
    "collapsed": false
   },
   "outputs": [
    {
     "data": {
      "text/plain": [
       "0.0"
      ]
     },
     "execution_count": 3,
     "metadata": {},
     "output_type": "execute_result"
    }
   ],
   "source": [
    "c = 0.29; #m, Chord\n",
    "mass = 6.5 # + 7.0; %kg, Mass from base and typical seccion\n",
    "airdensity = 1.119 #kg/m^3   ### Structural definitions\n",
    "pvt = 0.43105  #Elastic Axis, Percentage from LE Pivot(0-1)\n",
    "\n",
    "w_h = 2.38*2*pi  # rad/s Natural Frequency for H\n",
    "w_alpha = 4.29*2*pi  #rad/s Natural Frequency for Alpha\n",
    "\n",
    "x_alpha = 0.0275/c #Distance between ea and cg divided by c %Static Unbalance\n",
    "r_alpha = 0.064/(c/2) # 2*sqrt(Itheta/(m*c^2)) %Radius of Gyration (Admensional)\n",
    "kappa = pi*airdensity*c^2/(4*mass/0.75) \n",
    "\n",
    "w_alphadot = 0.\n",
    "w_hdot = 1.\n",
    "cubic_h_1 = 1.\n",
    "cubic_h_3 = 0.\n",
    "cubic_alpha_1 = 1.\n",
    "cubic_alpha_3 = 0."
   ]
  },
  {
   "cell_type": "markdown",
   "metadata": {},
   "source": [
    "### Initial condition"
   ]
  },
  {
   "cell_type": "code",
   "execution_count": 4,
   "metadata": {
    "collapsed": false
   },
   "outputs": [
    {
     "data": {
      "text/plain": [
       "0"
      ]
     },
     "execution_count": 4,
     "metadata": {},
     "output_type": "execute_result"
    }
   ],
   "source": [
    "\n",
    "\n",
    "alpha_init = 10*pi/180\n",
    "alphadot_init = 0.\n",
    "h_init = 0.\n",
    "hdot_init = 0.\n",
    "udot = 0\n"
   ]
  },
  {
   "cell_type": "markdown",
   "metadata": {},
   "source": [
    "### Simulation control"
   ]
  },
  {
   "cell_type": "code",
   "execution_count": null,
   "metadata": {
    "collapsed": true
   },
   "outputs": [],
   "source": [
    "dt = 0.015\n",
    "lespcrit = [21;] # High value, No LEV shedding\n",
    "del = DelVortDef(1, 500, 10)\n",
    "\n"
   ]
  }
 ],
 "metadata": {
  "kernelspec": {
   "display_name": "Julia 0.4.5",
   "language": "julia",
   "name": "julia-0.4"
  },
  "language_info": {
   "file_extension": ".jl",
   "mimetype": "application/julia",
   "name": "julia",
   "version": "0.4.5"
  }
 },
 "nbformat": 4,
 "nbformat_minor": 0
}
