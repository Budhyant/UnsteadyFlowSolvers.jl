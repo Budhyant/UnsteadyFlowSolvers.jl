{
 "cells": [
  {
   "cell_type": "code",
   "execution_count": 1,
   "metadata": {
    "collapsed": false
   },
   "outputs": [
    {
     "name": "stderr",
     "output_type": "stream",
     "text": [
      "/Users/kiran/.julia/v0.5/Conda/deps/usr/lib/python2.7/site-packages/matplotlib/font_manager.py:273: UserWarning: Matplotlib is building the font cache using fc-list. This may take a moment.\n",
      "  warnings.warn('Matplotlib is building the font cache using fc-list. This may take a moment.')\n"
     ]
    }
   ],
   "source": [
    "include(\"../src/UNSflow.jl\")\n",
    "using UNSflow    "
   ]
  },
  {
   "cell_type": "code",
   "execution_count": 2,
   "metadata": {
    "collapsed": false
   },
   "outputs": [
    {
     "data": {
      "text/plain": [
       "334"
      ]
     },
     "execution_count": 2,
     "metadata": {},
     "output_type": "execute_result"
    }
   ],
   "source": [
    "cref = 1.\n",
    "bref = 10.\n",
    "sref = 10.\n",
    "\n",
    "patch1 = patch(0., -5., 0., 0., \"FlatPlate\", 1., 0., 0.11, 7)\n",
    "patch2 = patch(0., 0., 0., 0., \"FlatPlate\", 1., 0., 0.11, 7)\n",
    "patch3 = patch(0., 5., 0., 0., \"FlatPlate\", 1., 0., 0.11, 5)\n",
    "patchdata = [patch1; patch2; patch3]\n",
    "\n",
    "alphadef = ConstDef(15.*pi/180)\n",
    "hdef = ConstDef(0.)\n",
    "udef = ConstDef(1.)\n",
    "kin = KinemDef3D(alphadef, hdef, udef)\n",
    "\n",
    "\n",
    "\n",
    "surf = ThreeDSurf(cref, bref, sref, patchdata, kin, 1., 70, 35, 15)\n",
    "field = ThreeDFlowField()\n",
    "dtstar = 0.015\n",
    "nsteps = round(Int,5./dtstar) + 1\n",
    "\n"
   ]
  },
  {
   "cell_type": "code",
   "execution_count": 3,
   "metadata": {
    "collapsed": true
   },
   "outputs": [],
   "source": [
    "mat = Array(Float64, 0, 4)\n",
    "\n",
    "    mat = mat'\n",
    "\n",
    "    surf2d = TwoDSurf[]\n",
    "    field2d = TwoDFlowField[]\n",
    "    kinem2d = KinemDef[]\n",
    "\n",
    "    dt = dtstar*surf.cref/surf.uref\n",
    "\n",
    "    t = 0.\n",
    "\n",
    "    AR = surf.bref/surf.cref\n",
    "\n",
    "    bc = zeros(surf.nspan)\n",
    "    a03d = zeros(surf.nspan)\n",
    "    cl = zeros(surf.nspan)\n",
    "    cd = zeros(surf.nspan)\n",
    "    cm = zeros(surf.nspan)\n",
    "\n",
    "    lhs = zeros(surf.nspan, surf.nbterm)\n",
    "    rhs = zeros(surf.nspan)\n",
    "    bcoeff = zeros(surf.nbterm)\n",
    "\n",
    "    if surf.kindef.vartype == \"Constant\"\n",
    "\n",
    "        for i = 1:surf.nspan\n",
    "            # Kinematics at all strips is the same\n",
    "\n",
    "            push!(kinem2d, KinemDef(surf.kindef.alpha, surf.kindef.h, surf.kindef.u))\n",
    "            push!(surf2d, TwoDSurf(surf.patchdata[1].coord_file, surf.patchdata[1].pvt, kinem2d[i], [surf.patchdata[1].lc;]))\n",
    "            #If 3D flow field is defined with disturbances or external vortices, these should be transferred to the 2D flowfield\n",
    "            push!(field2d, TwoDFlowField())\n",
    "        end\n",
    "    end"
   ]
  },
  {
   "cell_type": "code",
   "execution_count": 4,
   "metadata": {
    "collapsed": false
   },
   "outputs": [
    {
     "data": {
      "text/plain": [
       "10"
      ]
     },
     "execution_count": 4,
     "metadata": {},
     "output_type": "execute_result"
    }
   ],
   "source": [
    "nsteps = 10"
   ]
  },
  {
   "cell_type": "code",
   "execution_count": 5,
   "metadata": {
    "collapsed": false
   },
   "outputs": [],
   "source": [
    "# for istep = 1:nsteps\n",
    "        #Udpate current time\n",
    "        t = t + dt\n",
    "\n",
    "        for i = 1:surf.nspan\n",
    "            #Update kinematic parameters\n",
    "            update_kinem(surf2d[i], t)\n",
    "\n",
    "            #Update flow field parameters if any\n",
    "            update_externalvel(field2d[i], t)\n",
    "\n",
    "            #Update bound vortex positions\n",
    "            update_boundpos(surf2d[i], dt)\n",
    "\n",
    "            #Add a TEV with dummy strength\n",
    "            place_tev(surf2d[i], field2d[i], dt)\n",
    "        end\n",
    "\n",
    "        kelv = KelvinConditionLLTldvm(surf, surf2d, field2d)\n",
    "\n",
    "        #Solve for TEV strength to satisfy Kelvin condition\n",
    "\n",
    "        soln = nlsolve(not_in_place(kelv), -0.01*ones(surf.nspan), method = :newton)\n",
    "\n",
    "        for i = 1:surf.nspan\n",
    "            field2d[i].tev[length(field2d[i].tev)].s = soln.zero[i]\n",
    "\n",
    "            #Update incduced velocities on airfoil\n",
    "            update_indbound(surf2d[i], field2d[i])\n",
    "\n",
    "            #Calculate downwash\n",
    "            update_downwash(surf2d[i], [field2d[i].u[1],field2d[i].w[1]])\n",
    "\n",
    "            #Calculate first two fourier coefficients\n",
    "            update_a0anda1(surf2d[i])\n",
    "\n",
    "            bc[i] = surf2d[i].a0[1] + 0.5*surf2d[i].aterm[1]\n",
    "        end\n",
    "\n",
    "        for i = 1:surf.nspan\n",
    "            for n = 1:surf.nbterm\n",
    "                lhs[i,n] = sin(n*surf.psi[i])*(sin(surf.psi[i]) + (n*pi/(2*AR)))\n",
    "            end\n",
    "            rhs[i] = pi*sin(surf.psi[i])*bc[i]/(2*AR)\n",
    "        end\n",
    "        bcoeff[:] = \\(lhs, rhs)\n",
    "\n",
    "        for i = 1:surf.nspan\n",
    "            a03d[i] = 0\n",
    "            for n = 1:surf.nbterm\n",
    "            a03d[i] = a03d[i] - real(n)*bcoeff[n]*sin(n*surf.psi[i])/sin(surf.psi[i])\n",
    "            end\n",
    "        end\n",
    "\n",
    "    #end"
   ]
  },
  {
   "cell_type": "code",
   "execution_count": 6,
   "metadata": {
    "collapsed": true
   },
   "outputs": [],
   "source": [
    "nshed = Int(0)\n",
    "        for i = 1:surf.nspan\n",
    "            #Update 3D effect on A0\n",
    "            surf2d[i].a0[1] = surf2d[i].a0[1] + a03d[i]\n",
    "\n",
    "            #2D iteration if LESP_crit is exceeded\n",
    "            if abs(surf2d[i].a0[1]) > surf2d[i].lespcrit[1]\n",
    "                #Remove the previous tev\n",
    "                pop!(field2d[i].tev)\n",
    "                #Add a TEV with dummy strength\n",
    "                place_tev(surf2d[i],field2d[i],dt)\n",
    "\n",
    "                #Add a LEV with dummy strength\n",
    "                place_lev(surf2d[i],field2d[i],dt)\n",
    "                surf2d[i].levflag[1] = 1\n",
    "                nshed += 1\n",
    "            else\n",
    "                surf2d[i].levflag[1] = 0\n",
    "            end\n",
    "        end"
   ]
  },
  {
   "cell_type": "code",
   "execution_count": 7,
   "metadata": {
    "collapsed": false
   },
   "outputs": [
    {
     "data": {
      "text/plain": [
       "Results of Nonlinear Solver Algorithm\n",
       " * Algorithm: Newton with line-search\n",
       " * Starting Point: [-0.01,-0.01,-0.01,-0.01,-0.01,-0.01,-0.01,-0.01,-0.01,-0.01,-0.01,-0.01,-0.01,-0.01,-0.01,0.01,0.01,0.01,0.01,0.01,0.01,0.01,0.01,0.01,0.01,0.01,0.01,0.01]\n",
       " * Zero: [-0.0830341,-0.110496,-0.120386,-0.122107,-0.122991,-0.123398,-0.123597,-0.123656,-0.123597,-0.123398,-0.122991,-0.122107,-0.120386,-0.110496,-0.0830341,0.00871503,0.0230819,0.0255827,0.0268674,0.0274581,0.027748,0.0278334,0.027748,0.0274581,0.0268674,0.0255827,0.0230819,0.00871503]\n",
       " * Inf-norm of residuals: 0.000000\n",
       " * Iterations: 1\n",
       " * Convergence: true\n",
       "   * |x - x'| < 0.0e+00: false\n",
       "   * |f(x)| < 1.0e-08: true\n",
       " * Function Calls (f): 2\n",
       " * Jacobian Calls (df/dx): 1"
      ]
     },
     "execution_count": 7,
     "metadata": {},
     "output_type": "execute_result"
    }
   ],
   "source": [
    " if nshed > 0\n",
    "            kelvkutta = KelvinKuttaLLTldvm(surf,surf2d,field2d, nshed)\n",
    "\n",
    "            #Solve for TEV and LEV strengths to satisfy Kelvin condition and Kutta condition at leading edge\n",
    "            soln = nlsolve(not_in_place(kelvkutta), [-0.01*ones(surf.nspan); 0.01*ones(nshed)], method = :newton)\n",
    "        end\n",
    "\n"
   ]
  },
  {
   "cell_type": "code",
   "execution_count": 8,
   "metadata": {
    "collapsed": true
   },
   "outputs": [],
   "source": [
    "  cntr = surf.nspan + 1\n",
    "\n",
    "        for i = 1:surf.nspan\n",
    "            field2d[i].tev[length(field2d[i].tev)].s = soln.zero[i]\n",
    "        end\n",
    "        for i = 1:surf.nspan\n",
    "            if surf2d[i].levflag[1] == 1\n",
    "                field2d[i].lev[length(field2d[i].lev)].s = soln.zero[cntr]\n",
    "                cntr += 1\n",
    "            end\n",
    "        end\n",
    "\n"
   ]
  },
  {
   "cell_type": "code",
   "execution_count": 9,
   "metadata": {
    "collapsed": true
   },
   "outputs": [],
   "source": [
    "    for i = 1:surf.nspan\n",
    "            #Update incduced velocities on airfoil\n",
    "            update_indbound(surf2d[i], field2d[i])\n",
    "\n",
    "            #Calculate downwash\n",
    "            update_downwash(surf2d[i], [field2d[i].u[1],field2d[i].w[1]])\n",
    "\n",
    "            #Calculate first two fourier coefficients\n",
    "            update_a0anda1(surf2d[i])\n",
    "\n",
    "            bc[i] = surf2d[i].a0[1] + 0.5*surf2d[i].aterm[1]\n",
    "        end\n",
    "\n"
   ]
  },
  {
   "cell_type": "code",
   "execution_count": 10,
   "metadata": {
    "collapsed": false
   },
   "outputs": [
    {
     "data": {
      "text/plain": [
       "15-element Array{Float64,1}:\n",
       "  0.00609926 \n",
       " -2.99247e-14\n",
       "  0.00197854 \n",
       "  2.816e-14  \n",
       "  0.00104969 \n",
       "  5.70646e-15\n",
       "  0.000583255\n",
       " -1.38092e-15\n",
       "  0.000297692\n",
       "  1.01326e-14\n",
       "  0.000125248\n",
       " -3.65845e-14\n",
       "  3.70178e-5 \n",
       " -1.43407e-13\n",
       "  5.48378e-6 "
      ]
     },
     "execution_count": 10,
     "metadata": {},
     "output_type": "execute_result"
    }
   ],
   "source": [
    "  for i = 1:surf.nspan\n",
    "            for n = 1:surf.nbterm\n",
    "                lhs[i,n] = sin(n*surf.psi[i])*(sin(surf.psi[i]) + (n*pi/(2*AR)))\n",
    "            end\n",
    "            rhs[i] = pi*sin(surf.psi[i])*bc[i]/(2*AR)\n",
    "        end\n",
    "        bcoeff[:] = \\(lhs, rhs)"
   ]
  },
  {
   "cell_type": "code",
   "execution_count": 11,
   "metadata": {
    "collapsed": false
   },
   "outputs": [],
   "source": [
    "\n",
    "        for i = 1:surf.nspan\n",
    "            a03d[i] = 0\n",
    "            for n = 1:surf.nbterm\n",
    "            a03d[i] = a03d[i] - real(n)*bcoeff[n]*sin(n*surf.psi[i])/sin(surf.psi[i])\n",
    "            end\n",
    "        end\n",
    "\n"
   ]
  },
  {
   "cell_type": "code",
   "execution_count": 12,
   "metadata": {
    "collapsed": false
   },
   "outputs": [
    {
     "data": {
      "text/plain": [
       "15-element Array{Float64,1}:\n",
       " -0.0866907 \n",
       " -0.0299333 \n",
       " -0.00971633\n",
       " -0.00619711\n",
       " -0.00438924\n",
       " -0.00355798\n",
       " -0.00314997\n",
       " -0.00302979\n",
       " -0.00314997\n",
       " -0.00355798\n",
       " -0.00438924\n",
       " -0.00619711\n",
       " -0.00971633\n",
       " -0.0299333 \n",
       " -0.0866907 "
      ]
     },
     "execution_count": 12,
     "metadata": {},
     "output_type": "execute_result"
    }
   ],
   "source": [
    "a03d"
   ]
  },
  {
   "cell_type": "code",
   "execution_count": 13,
   "metadata": {
    "collapsed": true
   },
   "outputs": [],
   "source": [
    "  for i = 1:surf.nspan\n",
    "            #Update 3D effect on A0\n",
    "            surf2d[i].a0[1] = surf2d[i].a0[1] + a03d[i]\n",
    "\n",
    "            #Update rest of Fourier terms\n",
    "            update_a2toan(surf2d[i])\n",
    "\n",
    "            #Update derivatives of Fourier coefficients\n",
    "            update_adot(surf2d[i],dt)\n",
    "\n",
    "            #Set previous values of aterm to be used for derivatives in next time step\n",
    "            surf2d[i].a0prev[1] = surf2d[i].a0[1]\n",
    "            for ia = 1:3\n",
    "                surf2d[i].aprev[ia] = surf2d[i].aterm[ia]\n",
    "            end\n",
    "\n",
    "            #Calculate bound vortex strengths\n",
    "            update_bv(surf2d[i])\n",
    "\n",
    "            wakeroll(surf2d[i], field2d[i], dt)\n",
    "\n",
    "            if (surf2d[i].levflag[1] == 1)\n",
    "                cl[i], cd[i], cm[i] = calc_forces_E(surf2d[i], field2d[i].lev[length(field2d[i].lev)].s, dt)\n",
    "            else\n",
    "                cl[i], cd[i], cm[i] = calc_forces(surf2d[i])\n",
    "            end\n",
    "\n",
    "        end"
   ]
  },
  {
   "cell_type": "code",
   "execution_count": 14,
   "metadata": {
    "collapsed": false
   },
   "outputs": [
    {
     "data": {
      "text/plain": [
       "4×1 Array{Float64,2}:\n",
       "  0.015  \n",
       " 26.669  \n",
       "  7.06945\n",
       " -9.60843"
      ]
     },
     "execution_count": 14,
     "metadata": {},
     "output_type": "execute_result"
    }
   ],
   "source": [
    "  cl3d = 0\n",
    "        cd3d = 0\n",
    "        cm3d = 0\n",
    "\n",
    "        for i = 1:surf.nspan-1\n",
    "            cl3d = cl3d + 0.5*(cl[i] + cl[i+1])*sin(0.5*(surf.psi[i] + surf.psi[i+1]))*(surf.psi[i+1] - surf.psi[i])/2\n",
    "            cd3d = cd3d + 0.5*(cd[i] + cd[i+1])*sin(0.5*(surf.psi[i] + surf.psi[i+1]))*(surf.psi[i+1] - surf.psi[i])/2\n",
    "            cm3d = cm3d + 0.5*(cm[i] + cm[i+1])*sin(0.5*(surf.psi[i] + surf.psi[i+1]))*(surf.psi[i+1] - surf.psi[i])/2\n",
    "        end\n",
    "\n",
    "        mat = hcat(mat, [t, cl3d, cd3d, cm3d])\n",
    "       \n",
    "      \n",
    "    \n",
    "      \n",
    "\n",
    "      \n",
    "\n",
    "      "
   ]
  },
  {
   "cell_type": "code",
   "execution_count": 15,
   "metadata": {
    "collapsed": true
   },
   "outputs": [],
   "source": [
    " t = t + dt\n",
    "\n",
    "        for i = 1:surf.nspan\n",
    "            #Update kinematic parameters\n",
    "            update_kinem(surf2d[i], t)\n",
    "\n",
    "            #Update flow field parameters if any\n",
    "            update_externalvel(field2d[i], t)\n",
    "\n",
    "            #Update bound vortex positions\n",
    "            update_boundpos(surf2d[i], dt)\n",
    "\n",
    "            #Add a TEV with dummy strength\n",
    "            place_tev(surf2d[i], field2d[i], dt)\n",
    "        end\n",
    "\n",
    "        kelv = KelvinConditionLLTldvm(surf, surf2d, field2d)\n",
    "\n",
    "        #Solve for TEV strength to satisfy Kelvin condition\n",
    "\n",
    "        soln = nlsolve(not_in_place(kelv), -0.01*ones(surf.nspan), method = :newton)\n",
    "\n",
    "        for i = 1:surf.nspan\n",
    "            field2d[i].tev[length(field2d[i].tev)].s = soln.zero[i]\n",
    "\n",
    "            #Update incduced velocities on airfoil\n",
    "            update_indbound(surf2d[i], field2d[i])\n",
    "\n",
    "            #Calculate downwash\n",
    "            update_downwash(surf2d[i], [field2d[i].u[1],field2d[i].w[1]])\n",
    "\n",
    "            #Calculate first two fourier coefficients\n",
    "            update_a0anda1(surf2d[i])\n",
    "\n",
    "            bc[i] = surf2d[i].a0[1] + 0.5*surf2d[i].aterm[1]\n",
    "        end\n",
    "\n",
    "        for i = 1:surf.nspan\n",
    "            for n = 1:surf.nbterm\n",
    "                lhs[i,n] = sin(n*surf.psi[i])*(sin(surf.psi[i]) + (n*pi/(2*AR)))\n",
    "            end\n",
    "            rhs[i] = pi*sin(surf.psi[i])*bc[i]/(2*AR)\n",
    "        end\n",
    "        bcoeff[:] = \\(lhs, rhs)\n",
    "\n",
    "        for i = 1:surf.nspan\n",
    "            a03d[i] = 0\n",
    "            for n = 1:surf.nbterm\n",
    "            a03d[i] = a03d[i] - real(n)*bcoeff[n]*sin(n*surf.psi[i])/sin(surf.psi[i])\n",
    "            end\n",
    "        end\n",
    "\n",
    "    #end"
   ]
  },
  {
   "cell_type": "code",
   "execution_count": 16,
   "metadata": {
    "collapsed": true
   },
   "outputs": [],
   "source": [
    "nshed = Int(0)\n",
    "        for i = 1:surf.nspan\n",
    "            #Update 3D effect on A0\n",
    "            surf2d[i].a0[1] = surf2d[i].a0[1] + a03d[i]\n",
    "\n",
    "            #2D iteration if LESP_crit is exceeded\n",
    "            if abs(surf2d[i].a0[1]) > surf2d[i].lespcrit[1]\n",
    "                #Remove the previous tev\n",
    "                pop!(field2d[i].tev)\n",
    "                #Add a TEV with dummy strength\n",
    "                place_tev(surf2d[i],field2d[i],dt)\n",
    "\n",
    "                #Add a LEV with dummy strength\n",
    "                place_lev(surf2d[i],field2d[i],dt)\n",
    "                surf2d[i].levflag[1] = 1\n",
    "                nshed += 1\n",
    "            else\n",
    "                surf2d[i].levflag[1] = 0\n",
    "            end\n",
    "        end"
   ]
  },
  {
   "cell_type": "code",
   "execution_count": 17,
   "metadata": {
    "collapsed": false
   },
   "outputs": [
    {
     "data": {
      "text/plain": [
       "Results of Nonlinear Solver Algorithm\n",
       " * Algorithm: Newton with line-search\n",
       " * Starting Point: [-0.01,-0.01,-0.01,-0.01,-0.01,-0.01,-0.01,-0.01,-0.01,-0.01,-0.01,-0.01,-0.01,-0.01,-0.01,0.01,0.01,0.01,0.01,0.01,0.01,0.01,0.01,0.01,0.01,0.01,0.01,0.01]\n",
       " * Zero: [-0.00196809,-0.00403091,-0.00836138,-0.00725937,-0.00732568,-0.00722657,-0.00723672,-0.00721113,-0.00723672,-0.00722657,-0.00732568,-0.00725937,-0.00836138,-0.00403091,-0.00196809,0.00347908,0.017095,0.016724,0.0174634,0.0176125,0.0177721,0.017777,0.0177721,0.0176125,0.0174634,0.016724,0.017095,0.00347908]\n",
       " * Inf-norm of residuals: 0.000000\n",
       " * Iterations: 1\n",
       " * Convergence: true\n",
       "   * |x - x'| < 0.0e+00: false\n",
       "   * |f(x)| < 1.0e-08: true\n",
       " * Function Calls (f): 2\n",
       " * Jacobian Calls (df/dx): 1"
      ]
     },
     "execution_count": 17,
     "metadata": {},
     "output_type": "execute_result"
    }
   ],
   "source": [
    " if nshed > 0\n",
    "            kelvkutta = KelvinKuttaLLTldvm(surf,surf2d,field2d, nshed)\n",
    "\n",
    "            #Solve for TEV and LEV strengths to satisfy Kelvin condition and Kutta condition at leading edge\n",
    "            soln = nlsolve(not_in_place(kelvkutta), [-0.01*ones(surf.nspan); 0.01*ones(nshed)], method = :newton)\n",
    "        end\n",
    "\n",
    "\n"
   ]
  },
  {
   "cell_type": "code",
   "execution_count": 18,
   "metadata": {
    "collapsed": false
   },
   "outputs": [
    {
     "data": {
      "text/plain": [
       "4×2 Array{Float64,2}:\n",
       "  0.015    0.03    \n",
       " 26.669    0.968096\n",
       "  7.06945  0.182958\n",
       " -9.60843  1.78866 "
      ]
     },
     "execution_count": 18,
     "metadata": {},
     "output_type": "execute_result"
    }
   ],
   "source": [
    "  cntr = surf.nspan + 1\n",
    "\n",
    "        for i = 1:surf.nspan\n",
    "            field2d[i].tev[length(field2d[i].tev)].s = soln.zero[i]\n",
    "        end\n",
    "        for i = 1:surf.nspan\n",
    "            if surf2d[i].levflag[1] == 1\n",
    "                field2d[i].lev[length(field2d[i].lev)].s = soln.zero[cntr]\n",
    "                cntr += 1\n",
    "            end\n",
    "        end\n",
    "\n",
    "\n",
    "    for i = 1:surf.nspan\n",
    "            #Update incduced velocities on airfoil\n",
    "            update_indbound(surf2d[i], field2d[i])\n",
    "\n",
    "            #Calculate downwash\n",
    "            update_downwash(surf2d[i], [field2d[i].u[1],field2d[i].w[1]])\n",
    "\n",
    "            #Calculate first two fourier coefficients\n",
    "            update_a0anda1(surf2d[i])\n",
    "\n",
    "            bc[i] = surf2d[i].a0[1] + 0.5*surf2d[i].aterm[1]\n",
    "        end\n",
    "\n",
    "  for i = 1:surf.nspan\n",
    "            for n = 1:surf.nbterm\n",
    "                lhs[i,n] = sin(n*surf.psi[i])*(sin(surf.psi[i]) + (n*pi/(2*AR)))\n",
    "            end\n",
    "            rhs[i] = pi*sin(surf.psi[i])*bc[i]/(2*AR)\n",
    "        end\n",
    "        bcoeff[:] = \\(lhs, rhs)\n",
    "\n",
    "\n",
    "        for i = 1:surf.nspan\n",
    "            a03d[i] = 0\n",
    "            for n = 1:surf.nbterm\n",
    "            a03d[i] = a03d[i] - real(n)*bcoeff[n]*sin(n*surf.psi[i])/sin(surf.psi[i])\n",
    "            end\n",
    "        end\n",
    "\n",
    "  for i = 1:surf.nspan\n",
    "            #Update 3D effect on A0\n",
    "            surf2d[i].a0[1] = surf2d[i].a0[1] + a03d[i]\n",
    "\n",
    "            #Update rest of Fourier terms\n",
    "            update_a2toan(surf2d[i])\n",
    "\n",
    "            #Update derivatives of Fourier coefficients\n",
    "            update_adot(surf2d[i],dt)\n",
    "\n",
    "            #Set previous values of aterm to be used for derivatives in next time step\n",
    "            surf2d[i].a0prev[1] = surf2d[i].a0[1]\n",
    "            for ia = 1:3\n",
    "                surf2d[i].aprev[ia] = surf2d[i].aterm[ia]\n",
    "            end\n",
    "\n",
    "            #Calculate bound vortex strengths\n",
    "            update_bv(surf2d[i])\n",
    "\n",
    "            wakeroll(surf2d[i], field2d[i], dt)\n",
    "\n",
    "            if (surf2d[i].levflag[1] == 1)\n",
    "                cl[i], cd[i], cm[i] = calc_forces_E(surf2d[i], field2d[i].lev[length(field2d[i].lev)].s, dt)\n",
    "            else\n",
    "                cl[i], cd[i], cm[i] = calc_forces(surf2d[i])\n",
    "            end\n",
    "\n",
    "        end\n",
    "  cl3d = 0\n",
    "        cd3d = 0\n",
    "        cm3d = 0\n",
    "\n",
    "        for i = 1:surf.nspan-1\n",
    "            cl3d = cl3d + 0.5*(cl[i] + cl[i+1])*sin(0.5*(surf.psi[i] + surf.psi[i+1]))*(surf.psi[i+1] - surf.psi[i])/2\n",
    "            cd3d = cd3d + 0.5*(cd[i] + cd[i+1])*sin(0.5*(surf.psi[i] + surf.psi[i+1]))*(surf.psi[i+1] - surf.psi[i])/2\n",
    "            cm3d = cm3d + 0.5*(cm[i] + cm[i+1])*sin(0.5*(surf.psi[i] + surf.psi[i+1]))*(surf.psi[i+1] - surf.psi[i])/2\n",
    "        end\n",
    "\n",
    "        mat = hcat(mat, [t, cl3d, cd3d, cm3d])\n",
    "       \n",
    "      \n",
    "    \n",
    "      \n",
    "\n",
    "      \n",
    "\n",
    "      "
   ]
  },
  {
   "cell_type": "code",
   "execution_count": 19,
   "metadata": {
    "collapsed": true
   },
   "outputs": [],
   "source": [
    " t = t + dt\n",
    "\n",
    "        for i = 1:surf.nspan\n",
    "            #Update kinematic parameters\n",
    "            update_kinem(surf2d[i], t)\n",
    "\n",
    "            #Update flow field parameters if any\n",
    "            update_externalvel(field2d[i], t)\n",
    "\n",
    "            #Update bound vortex positions\n",
    "            update_boundpos(surf2d[i], dt)\n",
    "\n",
    "            #Add a TEV with dummy strength\n",
    "            place_tev(surf2d[i], field2d[i], dt)\n",
    "        end\n",
    "\n",
    "        kelv = KelvinConditionLLTldvm(surf, surf2d, field2d)\n",
    "\n",
    "        #Solve for TEV strength to satisfy Kelvin condition\n",
    "\n",
    "        soln = nlsolve(not_in_place(kelv), -0.01*ones(surf.nspan), method = :newton)\n",
    "\n",
    "        for i = 1:surf.nspan\n",
    "            field2d[i].tev[length(field2d[i].tev)].s = soln.zero[i]\n",
    "\n",
    "            #Update incduced velocities on airfoil\n",
    "            update_indbound(surf2d[i], field2d[i])\n",
    "\n",
    "            #Calculate downwash\n",
    "            update_downwash(surf2d[i], [field2d[i].u[1],field2d[i].w[1]])\n",
    "\n",
    "            #Calculate first two fourier coefficients\n",
    "            update_a0anda1(surf2d[i])\n",
    "\n",
    "            bc[i] = surf2d[i].a0[1] + 0.5*surf2d[i].aterm[1]\n",
    "        end\n",
    "\n",
    "        for i = 1:surf.nspan\n",
    "            for n = 1:surf.nbterm\n",
    "                lhs[i,n] = sin(n*surf.psi[i])*(sin(surf.psi[i]) + (n*pi/(2*AR)))\n",
    "            end\n",
    "            rhs[i] = pi*sin(surf.psi[i])*bc[i]/(2*AR)\n",
    "        end\n",
    "        bcoeff[:] = \\(lhs, rhs)\n",
    "\n",
    "        for i = 1:surf.nspan\n",
    "            a03d[i] = 0\n",
    "            for n = 1:surf.nbterm\n",
    "            a03d[i] = a03d[i] - real(n)*bcoeff[n]*sin(n*surf.psi[i])/sin(surf.psi[i])\n",
    "            end\n",
    "        end\n",
    "\n",
    "    #end"
   ]
  },
  {
   "cell_type": "code",
   "execution_count": 20,
   "metadata": {
    "collapsed": true
   },
   "outputs": [],
   "source": [
    "nshed = Int(0)\n",
    "        for i = 1:surf.nspan\n",
    "            #Update 3D effect on A0\n",
    "            surf2d[i].a0[1] = surf2d[i].a0[1] + a03d[i]\n",
    "\n",
    "            #2D iteration if LESP_crit is exceeded\n",
    "            if abs(surf2d[i].a0[1]) > surf2d[i].lespcrit[1]\n",
    "                #Remove the previous tev\n",
    "                pop!(field2d[i].tev)\n",
    "                #Add a TEV with dummy strength\n",
    "                place_tev(surf2d[i],field2d[i],dt)\n",
    "\n",
    "                #Add a LEV with dummy strength\n",
    "                place_lev(surf2d[i],field2d[i],dt)\n",
    "                surf2d[i].levflag[1] = 1\n",
    "                nshed += 1\n",
    "            else\n",
    "                surf2d[i].levflag[1] = 0\n",
    "            end\n",
    "        end"
   ]
  },
  {
   "cell_type": "code",
   "execution_count": 21,
   "metadata": {
    "collapsed": false
   },
   "outputs": [
    {
     "data": {
      "text/plain": [
       "Results of Nonlinear Solver Algorithm\n",
       " * Algorithm: Newton with line-search\n",
       " * Starting Point: [-0.01,-0.01,-0.01,-0.01,-0.01,-0.01,-0.01,-0.01,-0.01,-0.01,-0.01,-0.01,-0.01,-0.01,-0.01,0.01,0.01,0.01,0.01,0.01,0.01,0.01,0.01,0.01,0.01,0.01,0.01,0.01]\n",
       " * Zero: [-0.0100772,-0.0133575,-0.022628,-0.020924,-0.0214422,-0.0213585,-0.0214615,-0.0214192,-0.0214615,-0.0213585,-0.0214422,-0.020924,-0.022628,-0.0133575,-0.0100772,-0.00281217,0.0190251,0.0164806,0.0177033,0.017692,0.0179429,0.0178882,0.0179429,0.017692,0.0177033,0.0164806,0.0190251,-0.00281217]\n",
       " * Inf-norm of residuals: 0.000000\n",
       " * Iterations: 1\n",
       " * Convergence: true\n",
       "   * |x - x'| < 0.0e+00: false\n",
       "   * |f(x)| < 1.0e-08: true\n",
       " * Function Calls (f): 2\n",
       " * Jacobian Calls (df/dx): 1"
      ]
     },
     "execution_count": 21,
     "metadata": {},
     "output_type": "execute_result"
    }
   ],
   "source": [
    " if nshed > 0\n",
    "            kelvkutta = KelvinKuttaLLTldvm(surf,surf2d,field2d, nshed)\n",
    "\n",
    "            #Solve for TEV and LEV strengths to satisfy Kelvin condition and Kutta condition at leading edge\n",
    "            soln = nlsolve(not_in_place(kelvkutta), [-0.01*ones(surf.nspan); 0.01*ones(nshed)], method = :newton)\n",
    "        end\n",
    "\n",
    "\n",
    "\n"
   ]
  },
  {
   "cell_type": "code",
   "execution_count": 22,
   "metadata": {
    "collapsed": false
   },
   "outputs": [
    {
     "data": {
      "text/plain": [
       "4×3 Array{Float64,2}:\n",
       "  0.015    0.03      0.045   \n",
       " 26.669    0.968096  0.989264\n",
       "  7.06945  0.182958  0.188737\n",
       " -9.60843  1.78866   1.66171 "
      ]
     },
     "execution_count": 22,
     "metadata": {},
     "output_type": "execute_result"
    }
   ],
   "source": [
    "  cntr = surf.nspan + 1\n",
    "\n",
    "        for i = 1:surf.nspan\n",
    "            field2d[i].tev[length(field2d[i].tev)].s = soln.zero[i]\n",
    "        end\n",
    "        for i = 1:surf.nspan\n",
    "            if surf2d[i].levflag[1] == 1\n",
    "                field2d[i].lev[length(field2d[i].lev)].s = soln.zero[cntr]\n",
    "                cntr += 1\n",
    "            end\n",
    "        end\n",
    "\n",
    "\n",
    "    for i = 1:surf.nspan\n",
    "            #Update incduced velocities on airfoil\n",
    "            update_indbound(surf2d[i], field2d[i])\n",
    "\n",
    "            #Calculate downwash\n",
    "            update_downwash(surf2d[i], [field2d[i].u[1],field2d[i].w[1]])\n",
    "\n",
    "            #Calculate first two fourier coefficients\n",
    "            update_a0anda1(surf2d[i])\n",
    "\n",
    "            bc[i] = surf2d[i].a0[1] + 0.5*surf2d[i].aterm[1]\n",
    "        end\n",
    "\n",
    "  for i = 1:surf.nspan\n",
    "            for n = 1:surf.nbterm\n",
    "                lhs[i,n] = sin(n*surf.psi[i])*(sin(surf.psi[i]) + (n*pi/(2*AR)))\n",
    "            end\n",
    "            rhs[i] = pi*sin(surf.psi[i])*bc[i]/(2*AR)\n",
    "        end\n",
    "        bcoeff[:] = \\(lhs, rhs)\n",
    "\n",
    "\n",
    "        for i = 1:surf.nspan\n",
    "            a03d[i] = 0\n",
    "            for n = 1:surf.nbterm\n",
    "            a03d[i] = a03d[i] - real(n)*bcoeff[n]*sin(n*surf.psi[i])/sin(surf.psi[i])\n",
    "            end\n",
    "        end\n",
    "\n",
    "  for i = 1:surf.nspan\n",
    "            #Update 3D effect on A0\n",
    "            surf2d[i].a0[1] = surf2d[i].a0[1] + a03d[i]\n",
    "\n",
    "            #Update rest of Fourier terms\n",
    "            update_a2toan(surf2d[i])\n",
    "\n",
    "            #Update derivatives of Fourier coefficients\n",
    "            update_adot(surf2d[i],dt)\n",
    "\n",
    "            #Set previous values of aterm to be used for derivatives in next time step\n",
    "            surf2d[i].a0prev[1] = surf2d[i].a0[1]\n",
    "            for ia = 1:3\n",
    "                surf2d[i].aprev[ia] = surf2d[i].aterm[ia]\n",
    "            end\n",
    "\n",
    "            #Calculate bound vortex strengths\n",
    "            update_bv(surf2d[i])\n",
    "\n",
    "            wakeroll(surf2d[i], field2d[i], dt)\n",
    "\n",
    "            if (surf2d[i].levflag[1] == 1)\n",
    "                cl[i], cd[i], cm[i] = calc_forces_E(surf2d[i], field2d[i].lev[length(field2d[i].lev)].s, dt)\n",
    "            else\n",
    "                cl[i], cd[i], cm[i] = calc_forces(surf2d[i])\n",
    "            end\n",
    "\n",
    "        end\n",
    "  cl3d = 0\n",
    "        cd3d = 0\n",
    "        cm3d = 0\n",
    "\n",
    "        for i = 1:surf.nspan-1\n",
    "            cl3d = cl3d + 0.5*(cl[i] + cl[i+1])*sin(0.5*(surf.psi[i] + surf.psi[i+1]))*(surf.psi[i+1] - surf.psi[i])/2\n",
    "            cd3d = cd3d + 0.5*(cd[i] + cd[i+1])*sin(0.5*(surf.psi[i] + surf.psi[i+1]))*(surf.psi[i+1] - surf.psi[i])/2\n",
    "            cm3d = cm3d + 0.5*(cm[i] + cm[i+1])*sin(0.5*(surf.psi[i] + surf.psi[i+1]))*(surf.psi[i+1] - surf.psi[i])/2\n",
    "        end\n",
    "\n",
    "        mat = hcat(mat, [t, cl3d, cd3d, cm3d])\n",
    "       \n",
    "      \n",
    "    \n",
    "      \n",
    "\n",
    "      \n",
    "\n",
    "      "
   ]
  },
  {
   "cell_type": "code",
   "execution_count": 23,
   "metadata": {
    "collapsed": true
   },
   "outputs": [],
   "source": [
    " t = t + dt\n",
    "\n",
    "        for i = 1:surf.nspan\n",
    "            #Update kinematic parameters\n",
    "            update_kinem(surf2d[i], t)\n",
    "\n",
    "            #Update flow field parameters if any\n",
    "            update_externalvel(field2d[i], t)\n",
    "\n",
    "            #Update bound vortex positions\n",
    "            update_boundpos(surf2d[i], dt)\n",
    "\n",
    "            #Add a TEV with dummy strength\n",
    "            place_tev(surf2d[i], field2d[i], dt)\n",
    "        end\n",
    "\n",
    "        kelv = KelvinConditionLLTldvm(surf, surf2d, field2d)\n",
    "\n",
    "        #Solve for TEV strength to satisfy Kelvin condition\n",
    "\n",
    "        soln = nlsolve(not_in_place(kelv), -0.01*ones(surf.nspan), method = :newton)\n",
    "\n",
    "        for i = 1:surf.nspan\n",
    "            field2d[i].tev[length(field2d[i].tev)].s = soln.zero[i]\n",
    "\n",
    "            #Update incduced velocities on airfoil\n",
    "            update_indbound(surf2d[i], field2d[i])\n",
    "\n",
    "            #Calculate downwash\n",
    "            update_downwash(surf2d[i], [field2d[i].u[1],field2d[i].w[1]])\n",
    "\n",
    "            #Calculate first two fourier coefficients\n",
    "            update_a0anda1(surf2d[i])\n",
    "\n",
    "            bc[i] = surf2d[i].a0[1] + 0.5*surf2d[i].aterm[1]\n",
    "        end\n",
    "\n",
    "        for i = 1:surf.nspan\n",
    "            for n = 1:surf.nbterm\n",
    "                lhs[i,n] = sin(n*surf.psi[i])*(sin(surf.psi[i]) + (n*pi/(2*AR)))\n",
    "            end\n",
    "            rhs[i] = pi*sin(surf.psi[i])*bc[i]/(2*AR)\n",
    "        end\n",
    "        bcoeff[:] = \\(lhs, rhs)\n",
    "\n",
    "        for i = 1:surf.nspan\n",
    "            a03d[i] = 0\n",
    "            for n = 1:surf.nbterm\n",
    "            a03d[i] = a03d[i] - real(n)*bcoeff[n]*sin(n*surf.psi[i])/sin(surf.psi[i])\n",
    "            end\n",
    "        end\n",
    "\n",
    "    #end"
   ]
  },
  {
   "cell_type": "code",
   "execution_count": 24,
   "metadata": {
    "collapsed": true
   },
   "outputs": [],
   "source": [
    "nshed = Int(0)\n",
    "        for i = 1:surf.nspan\n",
    "            #Update 3D effect on A0\n",
    "            surf2d[i].a0[1] = surf2d[i].a0[1] + a03d[i]\n",
    "\n",
    "            #2D iteration if LESP_crit is exceeded\n",
    "            if abs(surf2d[i].a0[1]) > surf2d[i].lespcrit[1]\n",
    "                #Remove the previous tev\n",
    "                pop!(field2d[i].tev)\n",
    "                #Add a TEV with dummy strength\n",
    "                place_tev(surf2d[i],field2d[i],dt)\n",
    "\n",
    "                #Add a LEV with dummy strength\n",
    "                place_lev(surf2d[i],field2d[i],dt)\n",
    "                surf2d[i].levflag[1] = 1\n",
    "                nshed += 1\n",
    "            else\n",
    "                surf2d[i].levflag[1] = 0\n",
    "            end\n",
    "        end"
   ]
  },
  {
   "cell_type": "code",
   "execution_count": 25,
   "metadata": {
    "collapsed": false
   },
   "outputs": [
    {
     "data": {
      "text/plain": [
       "Results of Nonlinear Solver Algorithm\n",
       " * Algorithm: Newton with line-search\n",
       " * Starting Point: [-0.01,-0.01,-0.01,-0.01,-0.01,-0.01,-0.01,-0.01,-0.01,-0.01,-0.01,-0.01,-0.01,-0.01,-0.01,0.01,0.01,0.01,0.01,0.01,0.01,0.01,0.01,0.01,0.01,0.01]\n",
       " * Zero: [-0.00684624,-0.00978628,-0.0188757,-0.0162944,-0.0170284,-0.0168251,-0.0169556,-0.0168796,-0.0169556,-0.0168251,-0.0170284,-0.0162944,-0.0188757,-0.00978628,-0.00684624,0.0207697,0.0158521,0.0176118,0.0173394,0.0176707,0.0175367,0.0176707,0.0173394,0.0176118,0.0158521,0.0207697]\n",
       " * Inf-norm of residuals: 0.000000\n",
       " * Iterations: 1\n",
       " * Convergence: true\n",
       "   * |x - x'| < 0.0e+00: false\n",
       "   * |f(x)| < 1.0e-08: true\n",
       " * Function Calls (f): 2\n",
       " * Jacobian Calls (df/dx): 1"
      ]
     },
     "execution_count": 25,
     "metadata": {},
     "output_type": "execute_result"
    }
   ],
   "source": [
    " if nshed > 0\n",
    "            kelvkutta = KelvinKuttaLLTldvm(surf,surf2d,field2d, nshed)\n",
    "\n",
    "            #Solve for TEV and LEV strengths to satisfy Kelvin condition and Kutta condition at leading edge\n",
    "            soln = nlsolve(not_in_place(kelvkutta), [-0.01*ones(surf.nspan); 0.01*ones(nshed)], method = :newton)\n",
    "        end\n",
    "\n",
    "\n",
    "\n",
    "\n"
   ]
  },
  {
   "cell_type": "code",
   "execution_count": 26,
   "metadata": {
    "collapsed": false
   },
   "outputs": [
    {
     "data": {
      "text/plain": [
       "4×4 Array{Float64,2}:\n",
       "  0.015    0.03      0.045     0.06    \n",
       " 26.669    0.968096  0.989264  1.01103 \n",
       "  7.06945  0.182958  0.188737  0.195019\n",
       " -9.60843  1.78866   1.66171   1.69744 "
      ]
     },
     "execution_count": 26,
     "metadata": {},
     "output_type": "execute_result"
    }
   ],
   "source": [
    "  cntr = surf.nspan + 1\n",
    "\n",
    "        for i = 1:surf.nspan\n",
    "            field2d[i].tev[length(field2d[i].tev)].s = soln.zero[i]\n",
    "        end\n",
    "        for i = 1:surf.nspan\n",
    "            if surf2d[i].levflag[1] == 1\n",
    "                field2d[i].lev[length(field2d[i].lev)].s = soln.zero[cntr]\n",
    "                cntr += 1\n",
    "            end\n",
    "        end\n",
    "\n",
    "\n",
    "    for i = 1:surf.nspan\n",
    "            #Update incduced velocities on airfoil\n",
    "            update_indbound(surf2d[i], field2d[i])\n",
    "\n",
    "            #Calculate downwash\n",
    "            update_downwash(surf2d[i], [field2d[i].u[1],field2d[i].w[1]])\n",
    "\n",
    "            #Calculate first two fourier coefficients\n",
    "            update_a0anda1(surf2d[i])\n",
    "\n",
    "            bc[i] = surf2d[i].a0[1] + 0.5*surf2d[i].aterm[1]\n",
    "        end\n",
    "\n",
    "  for i = 1:surf.nspan\n",
    "            for n = 1:surf.nbterm\n",
    "                lhs[i,n] = sin(n*surf.psi[i])*(sin(surf.psi[i]) + (n*pi/(2*AR)))\n",
    "            end\n",
    "            rhs[i] = pi*sin(surf.psi[i])*bc[i]/(2*AR)\n",
    "        end\n",
    "        bcoeff[:] = \\(lhs, rhs)\n",
    "\n",
    "\n",
    "        for i = 1:surf.nspan\n",
    "            a03d[i] = 0\n",
    "            for n = 1:surf.nbterm\n",
    "            a03d[i] = a03d[i] - real(n)*bcoeff[n]*sin(n*surf.psi[i])/sin(surf.psi[i])\n",
    "            end\n",
    "        end\n",
    "\n",
    "  for i = 1:surf.nspan\n",
    "            #Update 3D effect on A0\n",
    "            surf2d[i].a0[1] = surf2d[i].a0[1] + a03d[i]\n",
    "\n",
    "            #Update rest of Fourier terms\n",
    "            update_a2toan(surf2d[i])\n",
    "\n",
    "            #Update derivatives of Fourier coefficients\n",
    "            update_adot(surf2d[i],dt)\n",
    "\n",
    "            #Set previous values of aterm to be used for derivatives in next time step\n",
    "            surf2d[i].a0prev[1] = surf2d[i].a0[1]\n",
    "            for ia = 1:3\n",
    "                surf2d[i].aprev[ia] = surf2d[i].aterm[ia]\n",
    "            end\n",
    "\n",
    "            #Calculate bound vortex strengths\n",
    "            update_bv(surf2d[i])\n",
    "\n",
    "            wakeroll(surf2d[i], field2d[i], dt)\n",
    "\n",
    "            if (surf2d[i].levflag[1] == 1)\n",
    "                cl[i], cd[i], cm[i] = calc_forces_E(surf2d[i], field2d[i].lev[length(field2d[i].lev)].s, dt)\n",
    "            else\n",
    "                cl[i], cd[i], cm[i] = calc_forces(surf2d[i])\n",
    "            end\n",
    "\n",
    "        end\n",
    "  cl3d = 0\n",
    "        cd3d = 0\n",
    "        cm3d = 0\n",
    "\n",
    "        for i = 1:surf.nspan-1\n",
    "            cl3d = cl3d + 0.5*(cl[i] + cl[i+1])*sin(0.5*(surf.psi[i] + surf.psi[i+1]))*(surf.psi[i+1] - surf.psi[i])/2\n",
    "            cd3d = cd3d + 0.5*(cd[i] + cd[i+1])*sin(0.5*(surf.psi[i] + surf.psi[i+1]))*(surf.psi[i+1] - surf.psi[i])/2\n",
    "            cm3d = cm3d + 0.5*(cm[i] + cm[i+1])*sin(0.5*(surf.psi[i] + surf.psi[i+1]))*(surf.psi[i+1] - surf.psi[i])/2\n",
    "        end\n",
    "\n",
    "        mat = hcat(mat, [t, cl3d, cd3d, cm3d])\n",
    "       \n",
    "      \n",
    "    \n",
    "      \n",
    "\n",
    "      \n",
    "\n",
    "      "
   ]
  },
  {
   "cell_type": "code",
   "execution_count": 27,
   "metadata": {
    "collapsed": false
   },
   "outputs": [
    {
     "data": {
      "image/png": "[encoded data removed]",
      "text/plain": [
       "PyPlot.Figure(PyObject <matplotlib.figure.Figure object at 0x31dbc30d0>)"
      ]
     },
     "metadata": {},
     "output_type": "display_data"
    },
    {
     "data": {
      "text/plain": [
       "(-1.2000000000000002,0.19999999999999996,-0.30000000000000004,0.04999999999999999)"
      ]
     },
     "execution_count": 27,
     "metadata": {},
     "output_type": "execute_result"
    }
   ],
   "source": [
    "view_vorts(surf2d[10],field2d[10])\n",
    "axis(\"equal\")"
   ]
  },
  {
   "cell_type": "code",
   "execution_count": 28,
   "metadata": {
    "collapsed": true
   },
   "outputs": [],
   "source": [
    " t = t + dt\n",
    "\n",
    "        for i = 1:surf.nspan\n",
    "            #Update kinematic parameters\n",
    "            update_kinem(surf2d[i], t)\n",
    "\n",
    "            #Update flow field parameters if any\n",
    "            update_externalvel(field2d[i], t)\n",
    "\n",
    "            #Update bound vortex positions\n",
    "            update_boundpos(surf2d[i], dt)\n",
    "\n",
    "            #Add a TEV with dummy strength\n",
    "            place_tev(surf2d[i], field2d[i], dt)\n",
    "        end\n",
    "\n",
    "        kelv = KelvinConditionLLTldvm(surf, surf2d, field2d)\n",
    "\n",
    "        #Solve for TEV strength to satisfy Kelvin condition\n",
    "\n",
    "        soln = nlsolve(not_in_place(kelv), -0.01*ones(surf.nspan), method = :newton)\n",
    "\n",
    "        for i = 1:surf.nspan\n",
    "            field2d[i].tev[length(field2d[i].tev)].s = soln.zero[i]\n",
    "\n",
    "            #Update incduced velocities on airfoil\n",
    "            update_indbound(surf2d[i], field2d[i])\n",
    "\n",
    "            #Calculate downwash\n",
    "            update_downwash(surf2d[i], [field2d[i].u[1],field2d[i].w[1]])\n",
    "\n",
    "            #Calculate first two fourier coefficients\n",
    "            update_a0anda1(surf2d[i])\n",
    "\n",
    "            bc[i] = surf2d[i].a0[1] + 0.5*surf2d[i].aterm[1]\n",
    "        end\n",
    "\n",
    "        for i = 1:surf.nspan\n",
    "            for n = 1:surf.nbterm\n",
    "                lhs[i,n] = sin(n*surf.psi[i])*(sin(surf.psi[i]) + (n*pi/(2*AR)))\n",
    "            end\n",
    "            rhs[i] = pi*sin(surf.psi[i])*bc[i]/(2*AR)\n",
    "        end\n",
    "        bcoeff[:] = \\(lhs, rhs)\n",
    "\n",
    "        for i = 1:surf.nspan\n",
    "            a03d[i] = 0\n",
    "            for n = 1:surf.nbterm\n",
    "            a03d[i] = a03d[i] - real(n)*bcoeff[n]*sin(n*surf.psi[i])/sin(surf.psi[i])\n",
    "            end\n",
    "        end\n",
    "\n",
    "    #end"
   ]
  },
  {
   "cell_type": "code",
   "execution_count": 29,
   "metadata": {
    "collapsed": true
   },
   "outputs": [],
   "source": [
    "nshed = Int(0)\n",
    "        for i = 1:surf.nspan\n",
    "            #Update 3D effect on A0\n",
    "            surf2d[i].a0[1] = surf2d[i].a0[1] + a03d[i]\n",
    "\n",
    "            #2D iteration if LESP_crit is exceeded\n",
    "            if abs(surf2d[i].a0[1]) > surf2d[i].lespcrit[1]\n",
    "                #Remove the previous tev\n",
    "                pop!(field2d[i].tev)\n",
    "                #Add a TEV with dummy strength\n",
    "                place_tev(surf2d[i],field2d[i],dt)\n",
    "\n",
    "                #Add a LEV with dummy strength\n",
    "                place_lev(surf2d[i],field2d[i],dt)\n",
    "                surf2d[i].levflag[1] = 1\n",
    "                nshed += 1\n",
    "            else\n",
    "                surf2d[i].levflag[1] = 0\n",
    "            end\n",
    "        end"
   ]
  },
  {
   "cell_type": "code",
   "execution_count": 30,
   "metadata": {
    "collapsed": false
   },
   "outputs": [
    {
     "data": {
      "text/plain": [
       "Results of Nonlinear Solver Algorithm\n",
       " * Algorithm: Newton with line-search\n",
       " * Starting Point: [-0.01,-0.01,-0.01,-0.01,-0.01,-0.01,-0.01,-0.01,-0.01,-0.01,-0.01,-0.01,-0.01,-0.01,-0.01,0.01,0.01,0.01,0.01,0.01,0.01,0.01,0.01,0.01,0.01,0.01]\n",
       " * Zero: [-0.0056377,-0.0077078,-0.0181253,-0.0143441,-0.0154772,-0.0151221,-0.0153167,-0.0151924,-0.0153167,-0.0151221,-0.0154772,-0.0143441,-0.0181253,-0.0077078,-0.0056377,0.0231211,0.0151706,0.0178021,0.0171715,0.0176406,0.0173944,0.0176406,0.0171715,0.0178021,0.0151706,0.0231211]\n",
       " * Inf-norm of residuals: 0.000000\n",
       " * Iterations: 1\n",
       " * Convergence: true\n",
       "   * |x - x'| < 0.0e+00: false\n",
       "   * |f(x)| < 1.0e-08: true\n",
       " * Function Calls (f): 2\n",
       " * Jacobian Calls (df/dx): 1"
      ]
     },
     "execution_count": 30,
     "metadata": {},
     "output_type": "execute_result"
    }
   ],
   "source": [
    " if nshed > 0\n",
    "            kelvkutta = KelvinKuttaLLTldvm(surf,surf2d,field2d, nshed)\n",
    "\n",
    "            #Solve for TEV and LEV strengths to satisfy Kelvin condition and Kutta condition at leading edge\n",
    "            soln = nlsolve(not_in_place(kelvkutta), [-0.01*ones(surf.nspan); 0.01*ones(nshed)], method = :newton)\n",
    "        end\n",
    "\n",
    "\n",
    "\n",
    "\n",
    "\n"
   ]
  },
  {
   "cell_type": "code",
   "execution_count": 31,
   "metadata": {
    "collapsed": false,
    "scrolled": true
   },
   "outputs": [
    {
     "data": {
      "text/plain": [
       "4×5 Array{Float64,2}:\n",
       "  0.015    0.03      0.045     0.06      0.075   \n",
       " 26.669    0.968096  0.989264  1.01103   1.01635 \n",
       "  7.06945  0.182958  0.188737  0.195019  0.196845\n",
       " -9.60843  1.78866   1.66171   1.69744   1.72809 "
      ]
     },
     "execution_count": 31,
     "metadata": {},
     "output_type": "execute_result"
    }
   ],
   "source": [
    "  cntr = surf.nspan + 1\n",
    "\n",
    "        for i = 1:surf.nspan\n",
    "            field2d[i].tev[length(field2d[i].tev)].s = soln.zero[i]\n",
    "        end\n",
    "        for i = 1:surf.nspan\n",
    "            if surf2d[i].levflag[1] == 1\n",
    "                field2d[i].lev[length(field2d[i].lev)].s = soln.zero[cntr]\n",
    "                cntr += 1\n",
    "            end\n",
    "        end\n",
    "\n",
    "\n",
    "    for i = 1:surf.nspan\n",
    "            #Update incduced velocities on airfoil\n",
    "            update_indbound(surf2d[i], field2d[i])\n",
    "\n",
    "            #Calculate downwash\n",
    "            update_downwash(surf2d[i], [field2d[i].u[1],field2d[i].w[1]])\n",
    "\n",
    "            #Calculate first two fourier coefficients\n",
    "            update_a0anda1(surf2d[i])\n",
    "\n",
    "            bc[i] = surf2d[i].a0[1] + 0.5*surf2d[i].aterm[1]\n",
    "        end\n",
    "\n",
    "  for i = 1:surf.nspan\n",
    "            for n = 1:surf.nbterm\n",
    "                lhs[i,n] = sin(n*surf.psi[i])*(sin(surf.psi[i]) + (n*pi/(2*AR)))\n",
    "            end\n",
    "            rhs[i] = pi*sin(surf.psi[i])*bc[i]/(2*AR)\n",
    "        end\n",
    "        bcoeff[:] = \\(lhs, rhs)\n",
    "\n",
    "\n",
    "        for i = 1:surf.nspan\n",
    "            a03d[i] = 0\n",
    "            for n = 1:surf.nbterm\n",
    "            a03d[i] = a03d[i] - real(n)*bcoeff[n]*sin(n*surf.psi[i])/sin(surf.psi[i])\n",
    "            end\n",
    "        end\n",
    "\n",
    "  for i = 1:surf.nspan\n",
    "            #Update 3D effect on A0\n",
    "            surf2d[i].a0[1] = surf2d[i].a0[1] + a03d[i]\n",
    "\n",
    "            #Update rest of Fourier terms\n",
    "            update_a2toan(surf2d[i])\n",
    "\n",
    "            #Update derivatives of Fourier coefficients\n",
    "            update_adot(surf2d[i],dt)\n",
    "\n",
    "            #Set previous values of aterm to be used for derivatives in next time step\n",
    "            surf2d[i].a0prev[1] = surf2d[i].a0[1]\n",
    "            for ia = 1:3\n",
    "                surf2d[i].aprev[ia] = surf2d[i].aterm[ia]\n",
    "            end\n",
    "\n",
    "            #Calculate bound vortex strengths\n",
    "            update_bv(surf2d[i])\n",
    "\n",
    "            wakeroll(surf2d[i], field2d[i], dt)\n",
    "\n",
    "            if (surf2d[i].levflag[1] == 1)\n",
    "                cl[i], cd[i], cm[i] = calc_forces_E(surf2d[i], field2d[i].lev[length(field2d[i].lev)].s, dt)\n",
    "            else\n",
    "                cl[i], cd[i], cm[i] = calc_forces(surf2d[i])\n",
    "            end\n",
    "\n",
    "        end\n",
    "  cl3d = 0\n",
    "        cd3d = 0\n",
    "        cm3d = 0\n",
    "\n",
    "        for i = 1:surf.nspan-1\n",
    "            cl3d = cl3d + 0.5*(cl[i] + cl[i+1])*sin(0.5*(surf.psi[i] + surf.psi[i+1]))*(surf.psi[i+1] - surf.psi[i])/2\n",
    "            cd3d = cd3d + 0.5*(cd[i] + cd[i+1])*sin(0.5*(surf.psi[i] + surf.psi[i+1]))*(surf.psi[i+1] - surf.psi[i])/2\n",
    "            cm3d = cm3d + 0.5*(cm[i] + cm[i+1])*sin(0.5*(surf.psi[i] + surf.psi[i+1]))*(surf.psi[i+1] - surf.psi[i])/2\n",
    "        end\n",
    "\n",
    "        mat = hcat(mat, [t, cl3d, cd3d, cm3d])\n",
    "       \n",
    "      \n",
    "    \n",
    "      \n",
    "\n",
    "      \n",
    "\n",
    "      "
   ]
  },
  {
   "cell_type": "code",
   "execution_count": 59,
   "metadata": {
    "collapsed": false
   },
   "outputs": [
    {
     "data": {
      "text/plain": [
       "4×16 Array{Float64,2}:\n",
       "  0.015    0.03      0.045     0.06      …  0.195     0.21      0.225   \n",
       " 26.669    0.968096  0.989264  1.01103      0.996267  1.03103   1.02054 \n",
       "  7.06945  0.182958  0.188737  0.195019     0.209365  0.220529  0.212515\n",
       " -9.60843  1.78866   1.66171   1.69744      1.49125   1.5916    1.59371 "
      ]
     },
     "execution_count": 59,
     "metadata": {},
     "output_type": "execute_result"
    }
   ],
   "source": [
    "t = t + dt\n",
    "        for i = 1:surf.nspan\n",
    "            #Update kinematic parameters\n",
    "            update_kinem(surf2d[i], t)\n",
    "\n",
    "            #Update flow field parameters if any\n",
    "            update_externalvel(field2d[i], t)\n",
    "\n",
    "            #Update bound vortex positions\n",
    "            update_boundpos(surf2d[i], dt)\n",
    "\n",
    "            #Add a TEV with dummy strength\n",
    "            place_tev(surf2d[i], field2d[i], dt)\n",
    "        end\n",
    "\n",
    "        kelv = KelvinConditionLLTldvm(surf, surf2d, field2d)\n",
    "\n",
    "        #Solve for TEV strength to satisfy Kelvin condition\n",
    "\n",
    "        soln = nlsolve(not_in_place(kelv), -0.01*ones(surf.nspan), method = :newton)\n",
    "\n",
    "        for i = 1:surf.nspan\n",
    "            field2d[i].tev[length(field2d[i].tev)].s = soln.zero[i]\n",
    "\n",
    "            #Update incduced velocities on airfoil\n",
    "            update_indbound(surf2d[i], field2d[i])\n",
    "\n",
    "            #Calculate downwash\n",
    "            update_downwash(surf2d[i], [field2d[i].u[1],field2d[i].w[1]])\n",
    "\n",
    "            #Calculate first two fourier coefficients\n",
    "            update_a0anda1(surf2d[i])\n",
    "\n",
    "            bc[i] = surf2d[i].a0[1] + 0.5*surf2d[i].aterm[1]\n",
    "        end\n",
    "\n",
    "        for i = 1:surf.nspan\n",
    "            for n = 1:surf.nbterm\n",
    "                lhs[i,n] = sin(n*surf.psi[i])*(sin(surf.psi[i]) + (n*pi/(2*AR)))\n",
    "            end\n",
    "            rhs[i] = pi*sin(surf.psi[i])*bc[i]/(2*AR)\n",
    "        end\n",
    "        bcoeff[:] = \\(lhs, rhs)\n",
    "\n",
    "        for i = 1:surf.nspan\n",
    "            a03d[i] = 0\n",
    "            for n = 1:surf.nbterm\n",
    "            a03d[i] = a03d[i] - real(n)*bcoeff[n]*sin(n*surf.psi[i])/sin(surf.psi[i])\n",
    "            end\n",
    "        end\n",
    "\n",
    "    #end\n",
    "    \n",
    "    nshed = Int(0)\n",
    "        for i = 1:surf.nspan\n",
    "            #Update 3D effect on A0\n",
    "            surf2d[i].a0[1] = surf2d[i].a0[1] + a03d[i]\n",
    "\n",
    "            #2D iteration if LESP_crit is exceeded\n",
    "            if abs(surf2d[i].a0[1]) > surf2d[i].lespcrit[1]\n",
    "                #Remove the previous tev\n",
    "                pop!(field2d[i].tev)\n",
    "                #Add a TEV with dummy strength\n",
    "                place_tev(surf2d[i],field2d[i],dt)\n",
    "\n",
    "                #Add a LEV with dummy strength\n",
    "                place_lev(surf2d[i],field2d[i],dt)\n",
    "                surf2d[i].levflag[1] = 1\n",
    "                nshed += 1\n",
    "            else\n",
    "                surf2d[i].levflag[1] = 0\n",
    "            end\n",
    "        end\n",
    "    \n",
    "     if nshed > 0\n",
    "            kelvkutta = KelvinKuttaLLTldvm(surf,surf2d,field2d, nshed)\n",
    "\n",
    "            #Solve for TEV and LEV strengths to satisfy Kelvin condition and Kutta condition at leading edge\n",
    "            soln = nlsolve(not_in_place(kelvkutta), [-0.01*ones(surf.nspan); 0.01*ones(nshed)], method = :newton)\n",
    "        end\n",
    "\n",
    "\n",
    "\n",
    "  cntr = surf.nspan + 1\n",
    "\n",
    "        for i = 1:surf.nspan\n",
    "            field2d[i].tev[length(field2d[i].tev)].s = soln.zero[i]\n",
    "        end\n",
    "        for i = 1:surf.nspan\n",
    "            if surf2d[i].levflag[1] == 1\n",
    "                field2d[i].lev[length(field2d[i].lev)].s = soln.zero[cntr]\n",
    "                cntr += 1\n",
    "            end\n",
    "        end\n",
    "\n",
    "\n",
    "    for i = 1:surf.nspan\n",
    "            #Update incduced velocities on airfoil\n",
    "            update_indbound(surf2d[i], field2d[i])\n",
    "\n",
    "            #Calculate downwash\n",
    "            update_downwash(surf2d[i], [field2d[i].u[1],field2d[i].w[1]])\n",
    "\n",
    "            #Calculate first two fourier coefficients\n",
    "            update_a0anda1(surf2d[i])\n",
    "\n",
    "            bc[i] = surf2d[i].a0[1] + 0.5*surf2d[i].aterm[1]\n",
    "        end\n",
    "\n",
    "  for i = 1:surf.nspan\n",
    "            for n = 1:surf.nbterm\n",
    "                lhs[i,n] = sin(n*surf.psi[i])*(sin(surf.psi[i]) + (n*pi/(2*AR)))\n",
    "            end\n",
    "            rhs[i] = pi*sin(surf.psi[i])*bc[i]/(2*AR)\n",
    "        end\n",
    "        bcoeff[:] = \\(lhs, rhs)\n",
    "\n",
    "\n",
    "        for i = 1:surf.nspan\n",
    "            a03d[i] = 0\n",
    "            for n = 1:surf.nbterm\n",
    "            a03d[i] = a03d[i] - real(n)*bcoeff[n]*sin(n*surf.psi[i])/sin(surf.psi[i])\n",
    "            end\n",
    "        end\n",
    "\n",
    "  for i = 1:surf.nspan\n",
    "            #Update 3D effect on A0\n",
    "            surf2d[i].a0[1] = surf2d[i].a0[1] + a03d[i]\n",
    "\n",
    "            #Update rest of Fourier terms\n",
    "            update_a2toan(surf2d[i])\n",
    "\n",
    "            #Update derivatives of Fourier coefficients\n",
    "            update_adot(surf2d[i],dt)\n",
    "\n",
    "            #Set previous values of aterm to be used for derivatives in next time step\n",
    "            surf2d[i].a0prev[1] = surf2d[i].a0[1]\n",
    "            for ia = 1:3\n",
    "                surf2d[i].aprev[ia] = surf2d[i].aterm[ia]\n",
    "            end\n",
    "\n",
    "            #Calculate bound vortex strengths\n",
    "            update_bv(surf2d[i])\n",
    "\n",
    "            wakeroll(surf2d[i], field2d[i], dt)\n",
    "\n",
    "            if (surf2d[i].levflag[1] == 1)\n",
    "                cl[i], cd[i], cm[i] = calc_forces_E(surf2d[i], field2d[i].lev[length(field2d[i].lev)].s, dt)\n",
    "            else\n",
    "                cl[i], cd[i], cm[i] = calc_forces(surf2d[i])\n",
    "            end\n",
    "\n",
    "        end\n",
    "  cl3d = 0\n",
    "        cd3d = 0\n",
    "        cm3d = 0\n",
    "\n",
    "        for i = 1:surf.nspan-1\n",
    "            cl3d = cl3d + 0.5*(cl[i] + cl[i+1])*sin(0.5*(surf.psi[i] + surf.psi[i+1]))*(surf.psi[i+1] - surf.psi[i])/2\n",
    "            cd3d = cd3d + 0.5*(cd[i] + cd[i+1])*sin(0.5*(surf.psi[i] + surf.psi[i+1]))*(surf.psi[i+1] - surf.psi[i])/2\n",
    "            cm3d = cm3d + 0.5*(cm[i] + cm[i+1])*sin(0.5*(surf.psi[i] + surf.psi[i+1]))*(surf.psi[i+1] - surf.psi[i])/2\n",
    "        end\n",
    "\n",
    "        mat = hcat(mat, [t, cl3d, cd3d, cm3d])\n",
    "       \n",
    "      \n",
    "    \n",
    "      \n",
    "\n",
    "      \n",
    "\n",
    "   \n",
    "\n"
   ]
  },
  {
   "cell_type": "code",
   "execution_count": 60,
   "metadata": {
    "collapsed": false
   },
   "outputs": [
    {
     "data": {
      "text/plain": [
       "Results of Nonlinear Solver Algorithm\n",
       " * Algorithm: Newton with line-search\n",
       " * Starting Point: [-0.01,-0.01,-0.01,-0.01,-0.01,-0.01,-0.01,-0.01,-0.01,-0.01,-0.01,-0.01,-0.01,-0.01,-0.01,0.01,0.01,0.01,0.01,0.01,0.01,0.01]\n",
       " * Zero: [-0.000587228,-0.000307256,-0.0228112,0.00199335,-0.0153136,-0.00257536,-0.010438,-0.00491482,-0.010438,-0.00257536,-0.0153136,0.00199335,-0.0228112,-0.000307256,-0.000587228,0.0397386,0.00478405,0.0265931,0.0119087,0.0265931,0.00478405,0.0397386]\n",
       " * Inf-norm of residuals: 0.000000\n",
       " * Iterations: 1\n",
       " * Convergence: true\n",
       "   * |x - x'| < 0.0e+00: false\n",
       "   * |f(x)| < 1.0e-08: true\n",
       " * Function Calls (f): 2\n",
       " * Jacobian Calls (df/dx): 1"
      ]
     },
     "execution_count": 60,
     "metadata": {},
     "output_type": "execute_result"
    }
   ],
   "source": [
    "soln\n"
   ]
  },
  {
   "cell_type": "code",
   "execution_count": 61,
   "metadata": {
    "collapsed": true
   },
   "outputs": [],
   "source": [
    "for i = 1:surf.nspan\n",
    "    surf.a0[i] = surf2d[i].a0[1]\n",
    "end"
   ]
  },
  {
   "cell_type": "code",
   "execution_count": 62,
   "metadata": {
    "collapsed": false
   },
   "outputs": [
    {
     "data": {
      "image/png": "[encoded data removed]",
      "text/plain": [
       "PyPlot.Figure(PyObject <matplotlib.figure.Figure object at 0x328550e10>)"
      ]
     },
     "metadata": {},
     "output_type": "display_data"
    },
    {
     "data": {
      "text/plain": [
       "1-element Array{Any,1}:\n",
       " PyObject <matplotlib.lines.Line2D object at 0x3287bf6d0>"
      ]
     },
     "execution_count": 62,
     "metadata": {},
     "output_type": "execute_result"
    }
   ],
   "source": [
    "plot(surf.yle,surf.a0)"
   ]
  },
  {
   "cell_type": "code",
   "execution_count": 36,
   "metadata": {
    "collapsed": false
   },
   "outputs": [
    {
     "data": {
      "text/plain": [
       "UNSflow.KelvinKuttaLLTldvm(UNSflow.ThreeDSurf(1.0,10.0,10.0,1.0,UNSflow.patch[UNSflow.patch(0.0,-5.0,0.0,0.0,\"FlatPlate\",1.0,0.0,0.11,7),UNSflow.patch(0.0,0.0,0.0,0.0,\"FlatPlate\",1.0,0.0,0.11,7),UNSflow.patch(0.0,5.0,0.0,0.0,\"FlatPlate\",1.0,0.0,0.11,5)],70,15,35,15,UNSflow.KinemDef3D(UNSflow.ConstDef(0.2617993877991494),UNSflow.ConstDef(0.0),UNSflow.ConstDef(1.0),\"Constant\",0,[0.0]),[1.0,1.0,1.0,1.0,1.0,1.0,1.0,1.0,1.0,1.0,1.0,1.0,1.0,1.0,1.0],[0.0,0.0,0.0,0.0,0.0,0.0,0.0,0.0,0.0,0.0,0.0,0.0,0.0,0.0,0.0],[0.0 0.0 … 0.0 0.0; 0.0 0.0 … 0.0 0.0; … ; 0.0 0.0 … 0.0 0.0; 0.0 0.0 … 0.0 0.0],[0.0 0.0 … 0.0 0.0; 0.0 0.0 … 0.0 0.0; … ; 0.0 0.0 … 0.0 0.0; 0.0 0.0 … 0.0 0.0],[0.0,0.0455303,0.0910607,0.136591,0.182121,0.227652,0.273182,0.318712,0.364243,0.409773  …  2.73182,2.77735,2.82288,2.86841,2.91394,2.95947,3.005,3.05053,3.09606,3.14159],[0.19635,0.392699,0.589049,0.785398,0.981748,1.1781,1.37445,1.5708,1.76715,1.9635,2.15984,2.35619,2.55254,2.74889,2.94524],[0.0 0.0 … 0.0 0.0; 0.0 0.0 … 0.0 0.0; … ; 0.0 0.0 … 0.0 0.0; 0.0 0.0 … 0.0 0.0],[0.0,0.0,0.0,0.0,0.0,0.0,0.0,0.0,0.0,0.0,0.0,0.0,0.0,0.0,0.0],[-4.90393,-4.6194,-4.15735,-3.53553,-2.77785,-1.91342,-0.975452,0.0,0.975452,1.91342,2.77785,3.53553,4.15735,4.6194,4.90393],[0.0,0.0,0.0,0.0,0.0,0.0,0.0,0.0,0.0,0.0,0.0,0.0,0.0,0.0,0.0],UNSflow.KinemPar[UNSflow.KinemPar(0.261799,0.0,0.0,0.0,1.0,0.0),UNSflow.KinemPar(0.261799,0.0,0.0,0.0,1.0,0.0),UNSflow.KinemPar(0.261799,0.0,0.0,0.0,1.0,0.0),UNSflow.KinemPar(0.261799,0.0,0.0,0.0,1.0,0.0),UNSflow.KinemPar(0.261799,0.0,0.0,0.0,1.0,0.0),UNSflow.KinemPar(0.261799,0.0,0.0,0.0,1.0,0.0),UNSflow.KinemPar(0.261799,0.0,0.0,0.0,1.0,0.0),UNSflow.KinemPar(0.261799,0.0,0.0,0.0,1.0,0.0),UNSflow.KinemPar(0.261799,0.0,0.0,0.0,1.0,0.0),UNSflow.KinemPar(0.261799,0.0,0.0,0.0,1.0,0.0),UNSflow.KinemPar(0.261799,0.0,0.0,0.0,1.0,0.0),UNSflow.KinemPar(0.261799,0.0,0.0,0.0,1.0,0.0),UNSflow.KinemPar(0.261799,0.0,0.0,0.0,1.0,0.0),UNSflow.KinemPar(0.261799,0.0,0.0,0.0,1.0,0.0),UNSflow.KinemPar(0.261799,0.0,0.0,0.0,1.0,0.0)],[-1.0 -1.0 … -1.0 -1.0; -1.0 -1.0 … -1.0 -1.0; … ; -1.0 -1.0 … -1.0 -1.0; -1.0 -1.0 … -1.0 -1.0],[0.0 0.0 … 0.0 0.0; 0.0 0.0 … 0.0 0.0; … ; 0.0 0.0 … 0.0 0.0; 0.0 0.0 … 0.0 0.0],[0.0 0.0 … 0.0 0.0; 0.0 0.0 … 0.0 0.0; … ; 0.0 0.0 … 0.0 0.0; 0.0 0.0 … 0.0 0.0],[0.0 0.0 … 0.0 0.0; 0.0 0.0 … 0.0 0.0; … ; 0.0 0.0 … 0.0 0.0; 0.0 0.0 … 0.0 0.0],[0.0 0.0 … 0.0 0.0; 0.0 0.0 … 0.0 0.0; … ; 0.0 0.0 … 0.0 0.0; 0.0 0.0 … 0.0 0.0],[0.0 0.0 … 0.0 0.0; 0.0 0.0 … 0.0 0.0; … ; 0.0 0.0 … 0.0 0.0; 0.0 0.0 … 0.0 0.0],[0.075134,0.100039,0.11,0.11,0.11,0.11,0.11,0.11,0.11,0.11,0.11,0.11,0.11,0.100039,0.075134],[0.0 0.0 … 0.0 0.0; 0.0 0.0 … 0.0 0.0; … ; 0.0 0.0 … 0.0 0.0; 0.0 0.0 … 0.0 0.0],[0.0,0.0,0.0,0.0,0.0,0.0,0.0,0.0,0.0,0.0,0.0,0.0,0.0,0.0,0.0],[0.0 0.0 0.0; 0.0 0.0 0.0; … ; 0.0 0.0 0.0; 0.0 0.0 0.0],[0.0,0.0,0.0,0.0,0.0,0.0,0.0,0.0,0.0,0.0,0.0,0.0,0.0,0.0,0.0],[0.0 0.0 0.0; 0.0 0.0 0.0; … ; 0.0 0.0 0.0; 0.0 0.0 0.0],UNSflow.ThreeDVort[UNSflow.ThreeDVort([0.0,0.0,0.0],[0.0,0.0,0.0],0.02,[0.0,0.0,0.0],[0.0,0.0,0.0]) UNSflow.ThreeDVort([0.0,0.0,0.0],[0.0,0.0,0.0],0.02,[0.0,0.0,0.0],[0.0,0.0,0.0]) … UNSflow.ThreeDVort([0.0,0.0,0.0],[0.0,0.0,0.0],0.02,[0.0,0.0,0.0],[0.0,0.0,0.0]) UNSflow.ThreeDVort([0.0,0.0,0.0],[0.0,0.0,0.0],0.02,[0.0,0.0,0.0],[0.0,0.0,0.0]); UNSflow.ThreeDVort([0.0,0.0,0.0],[0.0,0.0,0.0],0.02,[0.0,0.0,0.0],[0.0,0.0,0.0]) UNSflow.ThreeDVort([0.0,0.0,0.0],[0.0,0.0,0.0],0.02,[0.0,0.0,0.0],[0.0,0.0,0.0]) … UNSflow.ThreeDVort([0.0,0.0,0.0],[0.0,0.0,0.0],0.02,[0.0,0.0,0.0],[0.0,0.0,0.0]) UNSflow.ThreeDVort([0.0,0.0,0.0],[0.0,0.0,0.0],0.02,[0.0,0.0,0.0],[0.0,0.0,0.0]); … ; UNSflow.ThreeDVort([0.0,0.0,0.0],[0.0,0.0,0.0],0.02,[0.0,0.0,0.0],[0.0,0.0,0.0]) UNSflow.ThreeDVort([0.0,0.0,0.0],[0.0,0.0,0.0],0.02,[0.0,0.0,0.0],[0.0,0.0,0.0]) … UNSflow.ThreeDVort([0.0,0.0,0.0],[0.0,0.0,0.0],0.02,[0.0,0.0,0.0],[0.0,0.0,0.0]) UNSflow.ThreeDVort([0.0,0.0,0.0],[0.0,0.0,0.0],0.02,[0.0,0.0,0.0],[0.0,0.0,0.0]); UNSflow.ThreeDVort([0.0,0.0,0.0],[0.0,0.0,0.0],0.02,[0.0,0.0,0.0],[0.0,0.0,0.0]) UNSflow.ThreeDVort([0.0,0.0,0.0],[0.0,0.0,0.0],0.02,[0.0,0.0,0.0],[0.0,0.0,0.0]) … UNSflow.ThreeDVort([0.0,0.0,0.0],[0.0,0.0,0.0],0.02,[0.0,0.0,0.0],[0.0,0.0,0.0]) UNSflow.ThreeDVort([0.0,0.0,0.0],[0.0,0.0,0.0],0.02,[0.0,0.0,0.0],[0.0,0.0,0.0])],[0.11,0.11,0.11,0.11,0.11,0.11,0.11,0.11,0.11,0.11,0.11,0.11,0.11,0.11,0.11],Int8[0,0,0,0,0,0,0,0,0,0,0,0,0,0,0]),UNSflow.TwoDSurf[UNSflow.TwoDSurf(1.0,1.0,\"FlatPlate\",0.0,70,35,UNSflow.KinemDef(UNSflow.ConstDef(0.261799),UNSflow.ConstDef(0.0),UNSflow.ConstDef(1.0)),[0.0,0.0,0.0,0.0,0.0,0.0,0.0,0.0,0.0,0.0  …  0.0,0.0,0.0,0.0,0.0,0.0,0.0,0.0,0.0,0.0],[0.0,0.0,0.0,0.0,0.0,0.0,0.0,0.0,0.0,0.0  …  0.0,0.0,0.0,0.0,0.0,0.0,0.0,0.0,0.0,0.0],[0.0,0.0455303,0.0910607,0.136591,0.182121,0.227652,0.273182,0.318712,0.364243,0.409773  …  2.73182,2.77735,2.82288,2.86841,2.91394,2.95947,3.005,3.05053,3.09606,3.14159],[0.0,0.000518163,0.00207158,0.00465703,0.00826915,0.0129005,0.0185414,0.0251802,0.0328031,0.0413943  …  0.958606,0.967197,0.97482,0.981459,0.9871,0.991731,0.995343,0.997928,0.999482,1.0],UNSflow.KinemPar(0.261799,0.0,0.0,0.0,1.0,0.0),[-1.09,-1.0895,-1.088,-1.0855,-1.08201,-1.07754,-1.07209,-1.06568,-1.05831,-1.05002  …  -0.164058,-0.15576,-0.148396,-0.141984,-0.136535,-0.132062,-0.128573,-0.126075,-0.124575,-0.124074],[0.0,-0.00013411,-0.000536164,-0.00120533,-0.00214021,-0.00333888,-0.00479886,-0.0065171,-0.00849006,-0.0107136  …  -0.248105,-0.250329,-0.252302,-0.25402,-0.25548,-0.256679,-0.257614,-0.258283,-0.258685,-0.258819],[-0.00399245,-0.00399423,-0.00399957,-0.0040085,-0.00402103,-0.00403722,-0.00405712,-0.00408078,-0.00410829,-0.00413974  …  -0.0164633,-0.0163308,-0.0160754,-0.0155942,-0.0146022,-0.0128266,-0.0105201,-0.00834041,-0.00682903,-0.00629173],[-0.0162218,-0.0162297,-0.0162535,-0.0162932,-0.016349,-0.0164211,-0.0165098,-0.0166155,-0.0167385,-0.0168793  …  -0.165937,-0.181571,-0.198239,-0.21511,-0.230363,-0.241889,-0.249336,-0.25386,-0.256346,-0.257144],[-0.242117,-0.242109,-0.242084,-0.242044,-0.241986,-0.241913,-0.241822,-0.241714,-0.241588,-0.241443  …  -0.0942753,-0.0792084,-0.0631739,-0.0470028,-0.0325263,-0.021852,-0.0152562,-0.0114506,-0.00944045,-0.00880848],[0.075134],[-0.0789027,0.0470205,-0.0279093,0.0164026,-0.00944003,0.0052107,-0.00264069,0.00108974,-0.000172433,-0.000346469  …  5.61391e-5,-5.89893e-5,5.74468e-5,-5.28322e-5,4.62726e-5,-3.86925e-5,3.08193e-5,-2.31967e-5,1.62052e-5,-1.00854e-5],[-0.140006],[0.472572,-0.405026,0.307934],[0.075134],[-0.0789027,0.0470205,-0.0279093],UNSflow.TwoDVort[UNSflow.TwoDVort(-1.08975,-6.70552e-5,0.00683852,0.02,0.0,0.0),UNSflow.TwoDVort(-1.08875,-0.000335137,0.00682559,0.02,0.0,0.0),UNSflow.TwoDVort(-1.08675,-0.000870746,0.00679979,0.02,0.0,0.0),UNSflow.TwoDVort(-1.08376,-0.00167277,0.00676112,0.02,0.0,0.0),UNSflow.TwoDVort(-1.07978,-0.00273955,0.00670969,0.02,0.0,0.0),UNSflow.TwoDVort(-1.07481,-0.00406887,0.00664565,0.02,0.0,0.0),UNSflow.TwoDVort(-1.06888,-0.00565798,0.00656916,0.02,0.0,0.0),UNSflow.TwoDVort(-1.062,-0.00750358,0.00648029,0.02,0.0,0.0),UNSflow.TwoDVort(-1.05417,-0.00960185,0.00637927,0.02,0.0,0.0),UNSflow.TwoDVort(-1.04541,-0.0119484,0.00626645,0.02,0.0,0.0)  …  UNSflow.TwoDVort(-0.168666,-0.246871,-0.00202819,0.02,0.0,0.0),UNSflow.TwoDVort(-0.159909,-0.249217,-0.00181196,0.02,0.0,0.0),UNSflow.TwoDVort(-0.152078,-0.251315,-0.00155913,0.02,0.0,0.0),UNSflow.TwoDVort(-0.14519,-0.253161,-0.00127193,0.02,0.0,0.0),UNSflow.TwoDVort(-0.139259,-0.25475,-0.000962843,0.02,0.0,0.0),UNSflow.TwoDVort(-0.134298,-0.256079,-0.000660848,0.02,0.0,0.0),UNSflow.TwoDVort(-0.130317,-0.257146,-0.000400929,0.02,0.0,0.0),UNSflow.TwoDVort(-0.127324,-0.257948,-0.000205302,0.02,0.0,0.0),UNSflow.TwoDVort(-0.125325,-0.258484,-7.80571e-5,0.02,0.0,0.0),UNSflow.TwoDVort(-0.124324,-0.258752,-1.55497e-5,0.02,0.0,0.0)],[0.11],Int8[0]),UNSflow.TwoDSurf(1.0,1.0,\"FlatPlate\",0.0,70,35,UNSflow.KinemDef(UNSflow.ConstDef(0.261799),UNSflow.ConstDef(0.0),UNSflow.ConstDef(1.0)),[0.0,0.0,0.0,0.0,0.0,0.0,0.0,0.0,0.0,0.0  …  0.0,0.0,0.0,0.0,0.0,0.0,0.0,0.0,0.0,0.0],[0.0,0.0,0.0,0.0,0.0,0.0,0.0,0.0,0.0,0.0  …  0.0,0.0,0.0,0.0,0.0,0.0,0.0,0.0,0.0,0.0],[0.0,0.0455303,0.0910607,0.136591,0.182121,0.227652,0.273182,0.318712,0.364243,0.409773  …  2.73182,2.77735,2.82288,2.86841,2.91394,2.95947,3.005,3.05053,3.09606,3.14159],[0.0,0.000518163,0.00207158,0.00465703,0.00826915,0.0129005,0.0185414,0.0251802,0.0328031,0.0413943  …  0.958606,0.967197,0.97482,0.981459,0.9871,0.991731,0.995343,0.997928,0.999482,1.0],UNSflow.KinemPar(0.261799,0.0,0.0,0.0,1.0,0.0),[-1.09,-1.0895,-1.088,-1.0855,-1.08201,-1.07754,-1.07209,-1.06568,-1.05831,-1.05002  …  -0.164058,-0.15576,-0.148396,-0.141984,-0.136535,-0.132062,-0.128573,-0.126075,-0.124575,-0.124074],[0.0,-0.00013411,-0.000536164,-0.00120533,-0.00214021,-0.00333888,-0.00479886,-0.0065171,-0.00849006,-0.0107136  …  -0.248105,-0.250329,-0.252302,-0.25402,-0.25548,-0.256679,-0.257614,-0.258283,-0.258685,-0.258819],[-0.0041744,-0.00417908,-0.0041931,-0.00421615,-0.00424672,-0.00427978,-0.00430074,-0.004271,-0.00410186,-0.00368788  …  -0.0204338,-0.019996,-0.0194478,-0.0187134,-0.017476,-0.0153599,-0.0125904,-0.0099518,-0.00811997,-0.0074693],[-0.0081131,-0.00806175,-0.00790474,-0.00763277,-0.00722874,-0.00666415,-0.00589005,-0.00480964,-0.00318047,-0.000252793  …  -0.223624,-0.244022,-0.265653,-0.287476,-0.307273,-0.322413,-0.33232,-0.338372,-0.341708,-0.342782],[-0.249902,-0.24995,-0.250098,-0.250355,-0.250737,-0.251274,-0.252017,-0.253068,-0.254685,-0.25762  …  -0.0375265,-0.0179362,0.00281549,0.0237049,0.0425067,0.0565833,0.0654357,0.0705993,0.0733472,0.0742158],[0.100039],[-0.109853,0.0540907,-0.0442782,0.0170347,-0.0118922,0.0110801,0.00295639,0.00715092,0.00279929,-0.000889866  …  0.00095736,0.00137197,0.00146194,0.000810379,0.000202935,-0.000541469,-0.000799325,-0.000849947,-0.000495004,-0.000105594],[-0.215818],[0.674778,-0.561086,0.507021],[0.100039],[-0.109853,0.0540907,-0.0442782],UNSflow.TwoDVort[UNSflow.TwoDVort(-1.08975,-6.70552e-5,0.00910406,0.02,0.0,0.0),UNSflow.TwoDVort(-1.08875,-0.000335137,0.00908606,0.02,0.0,0.0),UNSflow.TwoDVort(-1.08675,-0.000870746,0.00905369,0.02,0.0,0.0),UNSflow.TwoDVort(-1.08376,-0.00167277,0.00899748,0.02,0.0,0.0),UNSflow.TwoDVort(-1.07978,-0.00273955,0.00891578,0.02,0.0,0.0),UNSflow.TwoDVort(-1.07481,-0.00406887,0.00882836,0.02,0.0,0.0),UNSflow.TwoDVort(-1.06888,-0.00565798,0.00873231,0.02,0.0,0.0),UNSflow.TwoDVort(-1.062,-0.00750358,0.00859699,0.02,0.0,0.0),UNSflow.TwoDVort(-1.05417,-0.00960185,0.00843756,0.02,0.0,0.0),UNSflow.TwoDVort(-1.04541,-0.0119484,0.00828944,0.02,0.0,0.0)  …  UNSflow.TwoDVort(-0.168666,-0.246871,-0.00266147,0.02,0.0,0.0),UNSflow.TwoDVort(-0.159909,-0.249217,-0.00237345,0.02,0.0,0.0),UNSflow.TwoDVort(-0.152078,-0.251315,-0.00204046,0.02,0.0,0.0),UNSflow.TwoDVort(-0.14519,-0.253161,-0.00166407,0.02,0.0,0.0),UNSflow.TwoDVort(-0.139259,-0.25475,-0.00126031,0.02,0.0,0.0),UNSflow.TwoDVort(-0.134298,-0.256079,-0.000866922,0.02,0.0,0.0),UNSflow.TwoDVort(-0.130317,-0.257146,-0.000527868,0.02,0.0,0.0),UNSflow.TwoDVort(-0.127324,-0.257948,-0.00027103,0.02,0.0,0.0),UNSflow.TwoDVort(-0.125325,-0.258484,-0.000103019,0.02,0.0,0.0),UNSflow.TwoDVort(-0.124324,-0.258752,-2.04718e-5,0.02,0.0,0.0)],[0.11],Int8[0]),UNSflow.TwoDSurf(1.0,1.0,\"FlatPlate\",0.0,70,35,UNSflow.KinemDef(UNSflow.ConstDef(0.261799),UNSflow.ConstDef(0.0),UNSflow.ConstDef(1.0)),[0.0,0.0,0.0,0.0,0.0,0.0,0.0,0.0,0.0,0.0  …  0.0,0.0,0.0,0.0,0.0,0.0,0.0,0.0,0.0,0.0],[0.0,0.0,0.0,0.0,0.0,0.0,0.0,0.0,0.0,0.0  …  0.0,0.0,0.0,0.0,0.0,0.0,0.0,0.0,0.0,0.0],[0.0,0.0455303,0.0910607,0.136591,0.182121,0.227652,0.273182,0.318712,0.364243,0.409773  …  2.73182,2.77735,2.82288,2.86841,2.91394,2.95947,3.005,3.05053,3.09606,3.14159],[0.0,0.000518163,0.00207158,0.00465703,0.00826915,0.0129005,0.0185414,0.0251802,0.0328031,0.0413943  …  0.958606,0.967197,0.97482,0.981459,0.9871,0.991731,0.995343,0.997928,0.999482,1.0],UNSflow.KinemPar(0.261799,0.0,0.0,0.0,1.0,0.0),[-1.09,-1.0895,-1.088,-1.0855,-1.08201,-1.07754,-1.07209,-1.06568,-1.05831,-1.05002  …  -0.164058,-0.15576,-0.148396,-0.141984,-0.136535,-0.132062,-0.128573,-0.126075,-0.124575,-0.124074],[0.0,-0.00013411,-0.000536164,-0.00120533,-0.00214021,-0.00333888,-0.00479886,-0.0065171,-0.00849006,-0.0107136  …  -0.248105,-0.250329,-0.252302,-0.25402,-0.25548,-0.256679,-0.257614,-0.258283,-0.258685,-0.258819],[-0.0804212,-0.0840737,-0.0953855,-0.115402,-0.145639,-0.186698,-0.234511,-0.277726,-0.307543,-0.322602  …  -0.0451582,-0.0473001,-0.049938,-0.052783,-0.0546796,-0.0540446,-0.0509292,-0.0471708,-0.0443927,-0.0433908],[0.359294,0.356357,0.346825,0.328689,0.29826,0.249358,0.180366,0.111783,0.0637303,0.0303558  …  -0.351491,-0.385706,-0.422832,-0.460534,-0.493305,-0.514567,-0.523782,-0.526292,-0.526544,-0.526463],[-0.585056,-0.581274,-0.569139,-0.54644,-0.509222,-0.451359,-0.372344,-0.294913,-0.24078,-0.204645  …  0.0923832,0.125987,0.16253,0.199684,0.231829,0.252203,0.260297,0.261748,0.261273,0.260935],[0.11],[-0.171257,0.028924,-0.155312,-0.0603724,-0.0956081,-0.0343221,-0.0218527,0.00424011,0.0115874,0.00660687  …  -0.000472834,0.0016818,0.00331151,0.00257641,0.0014058,-0.000838659,-0.00209997,-0.00288554,-0.0022531,-0.00114888],[-4.15408e-13],[-0.370006,-1.31632,-1.03101],[0.11],[-0.171257,0.028924,-0.155312],UNSflow.TwoDVort[UNSflow.TwoDVort(-1.08975,-6.70552e-5,0.00994343,0.02,0.0,0.0),UNSflow.TwoDVort(-1.08875,-0.000335137,0.00966868,0.02,0.0,0.0),UNSflow.TwoDVort(-1.08675,-0.000870746,0.00912945,0.02,0.0,0.0),UNSflow.TwoDVort(-1.08376,-0.00167277,0.00828035,0.02,0.0,0.0),UNSflow.TwoDVort(-1.07978,-0.00273955,0.00715915,0.02,0.0,0.0),UNSflow.TwoDVort(-1.07481,-0.00406887,0.00601314,0.02,0.0,0.0),UNSflow.TwoDVort(-1.06888,-0.00565798,0.00507849,0.02,0.0,0.0),UNSflow.TwoDVort(-1.062,-0.00750358,0.00436766,0.02,0.0,0.0),UNSflow.TwoDVort(-1.05417,-0.00960185,0.00382242,0.02,0.0,0.0),UNSflow.TwoDVort(-1.04541,-0.0119484,0.00338393,0.02,0.0,0.0)  …  UNSflow.TwoDVort(-0.168666,-0.246871,-0.00435974,0.02,0.0,0.0),UNSflow.TwoDVort(-0.159909,-0.249217,-0.00391457,0.02,0.0,0.0),UNSflow.TwoDVort(-0.152078,-0.251315,-0.00337369,0.02,0.0,0.0),UNSflow.TwoDVort(-0.14519,-0.253161,-0.00273967,0.02,0.0,0.0),UNSflow.TwoDVort(-0.139259,-0.25475,-0.00204159,0.02,0.0,0.0),UNSflow.TwoDVort(-0.134298,-0.256079,-0.00135519,0.02,0.0,0.0),UNSflow.TwoDVort(-0.130317,-0.257146,-0.000780732,0.02,0.0,0.0),UNSflow.TwoDVort(-0.127324,-0.257948,-0.00037768,0.02,0.0,0.0),UNSflow.TwoDVort(-0.125325,-0.258484,-0.000137747,0.02,0.0,0.0),UNSflow.TwoDVort(-0.124324,-0.258752,-2.69205e-5,0.02,0.0,0.0)],[0.11],Int8[1]),UNSflow.TwoDSurf(1.0,1.0,\"FlatPlate\",0.0,70,35,UNSflow.KinemDef(UNSflow.ConstDef(0.261799),UNSflow.ConstDef(0.0),UNSflow.ConstDef(1.0)),[0.0,0.0,0.0,0.0,0.0,0.0,0.0,0.0,0.0,0.0  …  0.0,0.0,0.0,0.0,0.0,0.0,0.0,0.0,0.0,0.0],[0.0,0.0,0.0,0.0,0.0,0.0,0.0,0.0,0.0,0.0  …  0.0,0.0,0.0,0.0,0.0,0.0,0.0,0.0,0.0,0.0],[0.0,0.0455303,0.0910607,0.136591,0.182121,0.227652,0.273182,0.318712,0.364243,0.409773  …  2.73182,2.77735,2.82288,2.86841,2.91394,2.95947,3.005,3.05053,3.09606,3.14159],[0.0,0.000518163,0.00207158,0.00465703,0.00826915,0.0129005,0.0185414,0.0251802,0.0328031,0.0413943  …  0.958606,0.967197,0.97482,0.981459,0.9871,0.991731,0.995343,0.997928,0.999482,1.0],UNSflow.KinemPar(0.261799,0.0,0.0,0.0,1.0,0.0),[-1.09,-1.0895,-1.088,-1.0855,-1.08201,-1.07754,-1.07209,-1.06568,-1.05831,-1.05002  …  -0.164058,-0.15576,-0.148396,-0.141984,-0.136535,-0.132062,-0.128573,-0.126075,-0.124575,-0.124074],[0.0,-0.00013411,-0.000536164,-0.00120533,-0.00214021,-0.00333888,-0.00479886,-0.0065171,-0.00849006,-0.0107136  …  -0.248105,-0.250329,-0.252302,-0.25402,-0.25548,-0.256679,-0.257614,-0.258283,-0.258685,-0.258819],[-0.0505768,-0.052895,-0.060111,-0.0730084,-0.092781,-0.120226,-0.153632,-0.187473,-0.216847,-0.238894  …  -0.0363885,-0.0372136,-0.0382577,-0.0393479,-0.03973,-0.0383718,-0.0353832,-0.0321103,-0.0297463,-0.0288984],[0.263978,0.262918,0.259327,0.252026,0.238691,0.215169,0.179464,0.141987,0.113102,0.0901316  …  -0.316054,-0.345388,-0.376913,-0.408853,-0.437165,-0.457007,-0.467703,-0.472692,-0.474876,-0.475497],[-0.500712,-0.499088,-0.493752,-0.483361,-0.465363,-0.435539,-0.392405,-0.347447,-0.311943,-0.284049  …  0.0558834,0.0844313,0.115153,0.146287,0.173733,0.192547,0.202105,0.206078,0.207575,0.207955],[0.11],[-0.163373,0.0216362,-0.134868,-0.04665,-0.0722871,-0.016024,-0.00472589,0.0169023,0.0189282,0.0113143  …  7.82943e-6,0.00255251,0.0041119,0.00336341,0.00182678,-0.000607731,-0.0021865,-0.00304429,-0.00248819,-0.00129214],[7.79006e-13],[-0.0920728,-1.33172,-0.351712],[0.11],[-0.163373,0.0216362,-0.134868],UNSflow.TwoDVort[UNSflow.TwoDVort(-1.08975,-6.70552e-5,0.00996788,0.02,0.0,0.0),UNSflow.TwoDVort(-1.08875,-0.000335137,0.00978968,0.02,0.0,0.0),UNSflow.TwoDVort(-1.08675,-0.000870746,0.00944092,0.02,0.0,0.0),UNSflow.TwoDVort(-1.08376,-0.00167277,0.00887048,0.02,0.0,0.0),UNSflow.TwoDVort(-1.07978,-0.00273955,0.00808486,0.02,0.0,0.0),UNSflow.TwoDVort(-1.07481,-0.00406887,0.0072414,0.02,0.0,0.0),UNSflow.TwoDVort(-1.06888,-0.00565798,0.00645121,0.02,0.0,0.0),UNSflow.TwoDVort(-1.062,-0.00750358,0.00567058,0.02,0.0,0.0),UNSflow.TwoDVort(-1.05417,-0.00960185,0.00491958,0.02,0.0,0.0),UNSflow.TwoDVort(-1.04541,-0.0119484,0.00425471,0.02,0.0,0.0)  …  UNSflow.TwoDVort(-0.168666,-0.246871,-0.00379183,0.02,0.0,0.0),UNSflow.TwoDVort(-0.159909,-0.249217,-0.00339675,0.02,0.0,0.0),UNSflow.TwoDVort(-0.152078,-0.251315,-0.00292229,0.02,0.0,0.0),UNSflow.TwoDVort(-0.14519,-0.253161,-0.00237697,0.02,0.0,0.0),UNSflow.TwoDVort(-0.139259,-0.25475,-0.00178667,0.02,0.0,0.0),UNSflow.TwoDVort(-0.134298,-0.256079,-0.00120658,0.02,0.0,0.0),UNSflow.TwoDVort(-0.130317,-0.257146,-0.000712313,0.02,0.0,0.0),UNSflow.TwoDVort(-0.127324,-0.257948,-0.000354069,0.02,0.0,0.0),UNSflow.TwoDVort(-0.125325,-0.258484,-0.000132124,0.02,0.0,0.0),UNSflow.TwoDVort(-0.124324,-0.258752,-2.61974e-5,0.02,0.0,0.0)],[0.11],Int8[1]),UNSflow.TwoDSurf(1.0,1.0,\"FlatPlate\",0.0,70,35,UNSflow.KinemDef(UNSflow.ConstDef(0.261799),UNSflow.ConstDef(0.0),UNSflow.ConstDef(1.0)),[0.0,0.0,0.0,0.0,0.0,0.0,0.0,0.0,0.0,0.0  …  0.0,0.0,0.0,0.0,0.0,0.0,0.0,0.0,0.0,0.0],[0.0,0.0,0.0,0.0,0.0,0.0,0.0,0.0,0.0,0.0  …  0.0,0.0,0.0,0.0,0.0,0.0,0.0,0.0,0.0,0.0],[0.0,0.0455303,0.0910607,0.136591,0.182121,0.227652,0.273182,0.318712,0.364243,0.409773  …  2.73182,2.77735,2.82288,2.86841,2.91394,2.95947,3.005,3.05053,3.09606,3.14159],[0.0,0.000518163,0.00207158,0.00465703,0.00826915,0.0129005,0.0185414,0.0251802,0.0328031,0.0413943  …  0.958606,0.967197,0.97482,0.981459,0.9871,0.991731,0.995343,0.997928,0.999482,1.0],UNSflow.KinemPar(0.261799,0.0,0.0,0.0,1.0,0.0),[-1.09,-1.0895,-1.088,-1.0855,-1.08201,-1.07754,-1.07209,-1.06568,-1.05831,-1.05002  …  -0.164058,-0.15576,-0.148396,-0.141984,-0.136535,-0.132062,-0.128573,-0.126075,-0.124575,-0.124074],[0.0,-0.00013411,-0.000536164,-0.00120533,-0.00214021,-0.00333888,-0.00479886,-0.0065171,-0.00849006,-0.0107136  …  -0.248105,-0.250329,-0.252302,-0.25402,-0.25548,-0.256679,-0.257614,-0.258283,-0.258685,-0.258819],[-0.061032,-0.0638158,-0.0724622,-0.0878493,-0.11129,-0.143533,-0.182108,-0.21956,-0.249655,-0.270082  …  -0.0392316,-0.0404313,-0.0419349,-0.0435361,-0.0443576,-0.0431948,-0.0401367,-0.0366856,-0.0341747,-0.0332726],[0.301736,0.300083,0.294612,0.283866,0.265072,0.233412,0.18704,0.139704,0.105049,0.0795043  …  -0.328917,-0.359822,-0.393136,-0.426908,-0.456637,-0.476939,-0.487174,-0.49138,-0.492952,-0.493351],[-0.534477,-0.53216,-0.524637,-0.510276,-0.486055,-0.447129,-0.392353,-0.336936,-0.295673,-0.265712  …  0.0690444,0.0992068,0.131775,0.16481,0.193739,0.213049,0.222143,0.225313,0.226182,0.226333],[0.11],[-0.167542,0.0214259,-0.144419,-0.0533631,-0.0807787,-0.021584,-0.00887449,0.0145266,0.0179717,0.0104361  …  -0.000235613,0.00249895,0.00427464,0.00355773,0.00200899,-0.000582357,-0.00228117,-0.00326432,-0.00271969,-0.00148053],[1.71159e-12],[-0.187409,-1.3379,-0.561935],[0.11],[-0.167542,0.0214259,-0.144419],UNSflow.TwoDVort[UNSflow.TwoDVort(-1.08975,-6.70552e-5,0.00995915,0.02,0.0,0.0),UNSflow.TwoDVort(-1.08875,-0.000335137,0.0097479,0.02,0.0,0.0),UNSflow.TwoDVort(-1.08675,-0.000870746,0.00933474,0.02,0.0,0.0),UNSflow.TwoDVort(-1.08376,-0.00167277,0.00866692,0.02,0.0,0.0),UNSflow.TwoDVort(-1.07978,-0.00273955,0.00776163,0.02,0.0,0.0),UNSflow.TwoDVort(-1.07481,-0.00406887,0.00681225,0.02,0.0,0.0),UNSflow.TwoDVort(-1.06888,-0.00565798,0.00596656,0.02,0.0,0.0),UNSflow.TwoDVort(-1.062,-0.00750358,0.00518854,0.02,0.0,0.0),UNSflow.TwoDVort(-1.05417,-0.00960185,0.00448193,0.02,0.0,0.0),UNSflow.TwoDVort(-1.04541,-0.0119484,0.0038727,0.02,0.0,0.0)  …  UNSflow.TwoDVort(-0.168666,-0.246871,-0.00397673,0.02,0.0,0.0),UNSflow.TwoDVort(-0.159909,-0.249217,-0.00356545,0.02,0.0,0.0),UNSflow.TwoDVort(-0.152078,-0.251315,-0.00306765,0.02,0.0,0.0),UNSflow.TwoDVort(-0.14519,-0.253161,-0.00249295,0.02,0.0,0.0),UNSflow.TwoDVort(-0.139259,-0.25475,-0.00186894,0.02,0.0,0.0),UNSflow.TwoDVort(-0.134298,-0.256079,-0.00125502,0.02,0.0,0.0),UNSflow.TwoDVort(-0.130317,-0.257146,-0.000734306,0.02,0.0,0.0),UNSflow.TwoDVort(-0.127324,-0.257948,-0.00036151,0.02,0.0,0.0),UNSflow.TwoDVort(-0.125325,-0.258484,-0.000134062,0.02,0.0,0.0),UNSflow.TwoDVort(-0.124324,-0.258752,-2.65321e-5,0.02,0.0,0.0)],[0.11],Int8[1]),UNSflow.TwoDSurf(1.0,1.0,\"FlatPlate\",0.0,70,35,UNSflow.KinemDef(UNSflow.ConstDef(0.261799),UNSflow.ConstDef(0.0),UNSflow.ConstDef(1.0)),[0.0,0.0,0.0,0.0,0.0,0.0,0.0,0.0,0.0,0.0  …  0.0,0.0,0.0,0.0,0.0,0.0,0.0,0.0,0.0,0.0],[0.0,0.0,0.0,0.0,0.0,0.0,0.0,0.0,0.0,0.0  …  0.0,0.0,0.0,0.0,0.0,0.0,0.0,0.0,0.0,0.0],[0.0,0.0455303,0.0910607,0.136591,0.182121,0.227652,0.273182,0.318712,0.364243,0.409773  …  2.73182,2.77735,2.82288,2.86841,2.91394,2.95947,3.005,3.05053,3.09606,3.14159],[0.0,0.000518163,0.00207158,0.00465703,0.00826915,0.0129005,0.0185414,0.0251802,0.0328031,0.0413943  …  0.958606,0.967197,0.97482,0.981459,0.9871,0.991731,0.995343,0.997928,0.999482,1.0],UNSflow.KinemPar(0.261799,0.0,0.0,0.0,1.0,0.0),[-1.09,-1.0895,-1.088,-1.0855,-1.08201,-1.07754,-1.07209,-1.06568,-1.05831,-1.05002  …  -0.164058,-0.15576,-0.148396,-0.141984,-0.136535,-0.132062,-0.128573,-0.126075,-0.124575,-0.124074],[0.0,-0.00013411,-0.000536164,-0.00120533,-0.00214021,-0.00333888,-0.00479886,-0.0065171,-0.00849006,-0.0107136  …  -0.248105,-0.250329,-0.252302,-0.25402,-0.25548,-0.256679,-0.257614,-0.258283,-0.258685,-0.258819],[-0.0587727,-0.0614489,-0.0697663,-0.0845856,-0.107198,-0.138375,-0.175863,-0.212752,-0.243139,-0.264538  …  -0.0383968,-0.0394509,-0.0407801,-0.0421917,-0.0428531,-0.0416181,-0.0385798,-0.0351857,-0.0327222,-0.0318377],[0.295366,0.293908,0.28905,0.279407,0.262311,0.233114,0.189921,0.145502,0.112527,0.0877765  …  -0.32602,-0.356452,-0.389217,-0.422424,-0.451729,-0.471935,-0.482381,-0.486892,-0.488696,-0.489178],[-0.528909,-0.526808,-0.519963,-0.506813,-0.484447,-0.448175,-0.396752,-0.344299,-0.304583,-0.275137  …  0.0660298,0.095698,0.127691,0.160131,0.188609,0.207807,0.21711,0.22059,0.221694,0.221931],[0.11],[-0.167281,0.0199739,-0.143453,-0.0528892,-0.0790868,-0.0199761,-0.00705952,0.0161335,0.0190763,0.0112051  …  -0.000236879,0.00260128,0.00441838,0.00372242,0.00212479,-0.000519894,-0.0022952,-0.00332143,-0.00280231,-0.00154884],[1.45439e-12],[-0.163243,-1.35763,-0.496144],[0.11],[-0.167281,0.0199739,-0.143453],UNSflow.TwoDVort[UNSflow.TwoDVort(-1.08975,-6.70552e-5,0.00996123,0.02,0.0,0.0),UNSflow.TwoDVort(-1.08875,-0.000335137,0.00975836,0.02,0.0,0.0),UNSflow.TwoDVort(-1.08675,-0.000870746,0.00936166,0.02,0.0,0.0),UNSflow.TwoDVort(-1.08376,-0.00167277,0.00871708,0.02,0.0,0.0),UNSflow.TwoDVort(-1.07978,-0.00273955,0.00783875,0.02,0.0,0.0),UNSflow.TwoDVort(-1.07481,-0.00406887,0.00691228,0.02,0.0,0.0),UNSflow.TwoDVort(-1.06888,-0.00565798,0.00607245,0.02,0.0,0.0),UNSflow.TwoDVort(-1.062,-0.00750358,0.00527664,0.02,0.0,0.0),UNSflow.TwoDVort(-1.05417,-0.00960185,0.00453881,0.02,0.0,0.0),UNSflow.TwoDVort(-1.04541,-0.0119484,0.00389743,0.02,0.0,0.0)  …  UNSflow.TwoDVort(-0.168666,-0.246871,-0.00392371,0.02,0.0,0.0),UNSflow.TwoDVort(-0.159909,-0.249217,-0.00351711,0.02,0.0,0.0),UNSflow.TwoDVort(-0.152078,-0.251315,-0.00302512,0.02,0.0,0.0),UNSflow.TwoDVort(-0.14519,-0.253161,-0.0024588,0.02,0.0,0.0),UNSflow.TwoDVort(-0.139259,-0.25475,-0.0018456,0.02,0.0,0.0),UNSflow.TwoDVort(-0.134298,-0.256079,-0.00124212,0.02,0.0,0.0),UNSflow.TwoDVort(-0.130317,-0.257146,-0.000728844,0.02,0.0,0.0),UNSflow.TwoDVort(-0.127324,-0.257948,-0.000359967,0.02,0.0,0.0),UNSflow.TwoDVort(-0.125325,-0.258484,-0.000133901,0.02,0.0,0.0),UNSflow.TwoDVort(-0.124324,-0.258752,-2.65641e-5,0.02,0.0,0.0)],[0.11],Int8[1]),UNSflow.TwoDSurf(1.0,1.0,\"FlatPlate\",0.0,70,35,UNSflow.KinemDef(UNSflow.ConstDef(0.261799),UNSflow.ConstDef(0.0),UNSflow.ConstDef(1.0)),[0.0,0.0,0.0,0.0,0.0,0.0,0.0,0.0,0.0,0.0  …  0.0,0.0,0.0,0.0,0.0,0.0,0.0,0.0,0.0,0.0],[0.0,0.0,0.0,0.0,0.0,0.0,0.0,0.0,0.0,0.0  …  0.0,0.0,0.0,0.0,0.0,0.0,0.0,0.0,0.0,0.0],[0.0,0.0455303,0.0910607,0.136591,0.182121,0.227652,0.273182,0.318712,0.364243,0.409773  …  2.73182,2.77735,2.82288,2.86841,2.91394,2.95947,3.005,3.05053,3.09606,3.14159],[0.0,0.000518163,0.00207158,0.00465703,0.00826915,0.0129005,0.0185414,0.0251802,0.0328031,0.0413943  …  0.958606,0.967197,0.97482,0.981459,0.9871,0.991731,0.995343,0.997928,0.999482,1.0],UNSflow.KinemPar(0.261799,0.0,0.0,0.0,1.0,0.0),[-1.09,-1.0895,-1.088,-1.0855,-1.08201,-1.07754,-1.07209,-1.06568,-1.05831,-1.05002  …  -0.164058,-0.15576,-0.148396,-0.141984,-0.136535,-0.132062,-0.128573,-0.126075,-0.124575,-0.124074],[0.0,-0.00013411,-0.000536164,-0.00120533,-0.00214021,-0.00333888,-0.00479886,-0.0065171,-0.00849006,-0.0107136  …  -0.248105,-0.250329,-0.252302,-0.25402,-0.25548,-0.256679,-0.257614,-0.258283,-0.258685,-0.258819],[-0.0607087,-0.0634689,-0.0720442,-0.0873124,-0.110586,-0.142626,-0.181046,-0.218594,-0.249134,-0.270287  …  -0.0388905,-0.0400067,-0.0414125,-0.0429098,-0.0436454,-0.042444,-0.0393944,-0.0359704,-0.0334821,-0.0325885],[0.302309,0.30075,0.295571,0.285337,0.2673,0.236696,0.191663,0.145551,0.111589,0.086403  …  -0.328332,-0.359036,-0.39211,-0.425631,-0.455182,-0.475473,-0.485846,-0.490229,-0.491931,-0.492377],[-0.535114,-0.532894,-0.525672,-0.511835,-0.488389,-0.450535,-0.397093,-0.342834,-0.302125,-0.272322  …  0.0683908,0.0983377,0.130648,0.163415,0.19215,0.211438,0.220668,0.224015,0.225016,0.225215],[0.11],[-0.168082,0.0198186,-0.145262,-0.0541793,-0.0806316,-0.0209477,-0.00773296,0.0157986,0.0189848,0.0111051  …  -0.000291234,0.00259358,0.00445932,0.00377478,0.00217363,-0.000504951,-0.0023107,-0.00336717,-0.00285504,-0.00159419],[-2.91526e-12],[-0.17999,-1.36067,-0.532057],[0.11],[-0.168082,0.0198186,-0.145262],UNSflow.TwoDVort[UNSflow.TwoDVort(-1.08975,-6.70552e-5,0.00995968,0.02,0.0,0.0),UNSflow.TwoDVort(-1.08875,-0.000335137,0.00975097,0.02,0.0,0.0),UNSflow.TwoDVort(-1.08675,-0.000870746,0.00934287,0.02,0.0,0.0),UNSflow.TwoDVort(-1.08376,-0.00167277,0.00868096,0.02,0.0,0.0),UNSflow.TwoDVort(-1.07978,-0.00273955,0.00778129,0.02,0.0,0.0),UNSflow.TwoDVort(-1.07481,-0.00406887,0.00683588,0.02,0.0,0.0),UNSflow.TwoDVort(-1.06888,-0.00565798,0.0059856,0.02,0.0,0.0),UNSflow.TwoDVort(-1.062,-0.00750358,0.0051888,0.02,0.0,0.0),UNSflow.TwoDVort(-1.05417,-0.00960185,0.00445703,0.02,0.0,0.0),UNSflow.TwoDVort(-1.04541,-0.0119484,0.00382347,0.02,0.0,0.0)  …  UNSflow.TwoDVort(-0.168666,-0.246871,-0.00395598,0.02,0.0,0.0),UNSflow.TwoDVort(-0.159909,-0.249217,-0.00354656,0.02,0.0,0.0),UNSflow.TwoDVort(-0.152078,-0.251315,-0.00305039,0.02,0.0,0.0),UNSflow.TwoDVort(-0.14519,-0.253161,-0.00247895,0.02,0.0,0.0),UNSflow.TwoDVort(-0.139259,-0.25475,-0.00185999,0.02,0.0,0.0),UNSflow.TwoDVort(-0.134298,-0.256079,-0.00125068,0.02,0.0,0.0),UNSflow.TwoDVort(-0.130317,-0.257146,-0.00073277,0.02,0.0,0.0),UNSflow.TwoDVort(-0.127324,-0.257948,-0.000361326,0.02,0.0,0.0),UNSflow.TwoDVort(-0.125325,-0.258484,-0.000134281,0.02,0.0,0.0),UNSflow.TwoDVort(-0.124324,-0.258752,-2.66364e-5,0.02,0.0,0.0)],[0.11],Int8[1]),UNSflow.TwoDSurf(1.0,1.0,\"FlatPlate\",0.0,70,35,UNSflow.KinemDef(UNSflow.ConstDef(0.261799),UNSflow.ConstDef(0.0),UNSflow.ConstDef(1.0)),[0.0,0.0,0.0,0.0,0.0,0.0,0.0,0.0,0.0,0.0  …  0.0,0.0,0.0,0.0,0.0,0.0,0.0,0.0,0.0,0.0],[0.0,0.0,0.0,0.0,0.0,0.0,0.0,0.0,0.0,0.0  …  0.0,0.0,0.0,0.0,0.0,0.0,0.0,0.0,0.0,0.0],[0.0,0.0455303,0.0910607,0.136591,0.182121,0.227652,0.273182,0.318712,0.364243,0.409773  …  2.73182,2.77735,2.82288,2.86841,2.91394,2.95947,3.005,3.05053,3.09606,3.14159],[0.0,0.000518163,0.00207158,0.00465703,0.00826915,0.0129005,0.0185414,0.0251802,0.0328031,0.0413943  …  0.958606,0.967197,0.97482,0.981459,0.9871,0.991731,0.995343,0.997928,0.999482,1.0],UNSflow.KinemPar(0.261799,0.0,0.0,0.0,1.0,0.0),[-1.09,-1.0895,-1.088,-1.0855,-1.08201,-1.07754,-1.07209,-1.06568,-1.05831,-1.05002  …  -0.164058,-0.15576,-0.148396,-0.141984,-0.136535,-0.132062,-0.128573,-0.126075,-0.124575,-0.124074],[0.0,-0.00013411,-0.000536164,-0.00120533,-0.00214021,-0.00333888,-0.00479886,-0.0065171,-0.00849006,-0.0107136  …  -0.248105,-0.250329,-0.252302,-0.25402,-0.25548,-0.256679,-0.257614,-0.258283,-0.258685,-0.258819],[-0.0597747,-0.0624923,-0.0709369,-0.0859789,-0.108921,-0.140532,-0.178504,-0.215783,-0.24636,-0.267793  …  -0.0385925,-0.0396616,-0.0410105,-0.0424455,-0.0431279,-0.0419022,-0.038859,-0.0354541,-0.0329818,-0.032094],[0.29939,0.297898,0.292929,0.283075,0.26563,0.235894,0.191988,0.146911,0.113552,0.0886509  …  -0.327178,-0.357715,-0.390596,-0.42392,-0.453321,-0.473571,-0.484007,-0.488488,-0.490265,-0.490737],[-0.532537,-0.530392,-0.523407,-0.509995,-0.487207,-0.450303,-0.398065,-0.344876,-0.304739,-0.275139  …  0.0671989,0.0969724,0.129082,0.161642,0.190218,0.20946,0.218754,0.2222,0.223277,0.223503],[0.11],[-0.167859,0.019504,-0.144667,-0.053806,-0.079916,-0.0203673,-0.00716267,0.0162502,0.0192673,0.0113075  …  -0.000281584,0.0026192,0.0044858,0.00380441,0.00219249,-0.000492236,-0.00231055,-0.00337178,-0.00286475,-0.00160217],[3.4972e-12],[-0.170872,-1.36448,-0.509182],[0.11],[-0.167859,0.019504,-0.144667],UNSflow.TwoDVort[UNSflow.TwoDVort(-1.08975,-6.70552e-5,0.00996049,0.02,0.0,0.0),UNSflow.TwoDVort(-1.08875,-0.000335137,0.00975495,0.02,0.0,0.0),UNSflow.TwoDVort(-1.08675,-0.000870746,0.00935306,0.02,0.0,0.0),UNSflow.TwoDVort(-1.08376,-0.00167277,0.00870017,0.02,0.0,0.0),UNSflow.TwoDVort(-1.07978,-0.00273955,0.00781124,0.02,0.0,0.0),UNSflow.TwoDVort(-1.07481,-0.00406887,0.00687514,0.02,0.0,0.0),UNSflow.TwoDVort(-1.06888,-0.00565798,0.00602841,0.02,0.0,0.0),UNSflow.TwoDVort(-1.062,-0.00750358,0.00522765,0.02,0.0,0.0),UNSflow.TwoDVort(-1.05417,-0.00960185,0.00448733,0.02,0.0,0.0),UNSflow.TwoDVort(-1.04541,-0.0119484,0.00384459,0.02,0.0,0.0)  …  UNSflow.TwoDVort(-0.168666,-0.246871,-0.00393688,0.02,0.0,0.0),UNSflow.TwoDVort(-0.159909,-0.249217,-0.00352914,0.02,0.0,0.0),UNSflow.TwoDVort(-0.152078,-0.251315,-0.00303519,0.02,0.0,0.0),UNSflow.TwoDVort(-0.14519,-0.253161,-0.00246676,0.02,0.0,0.0),UNSflow.TwoDVort(-0.139259,-0.25475,-0.00185153,0.02,0.0,0.0),UNSflow.TwoDVort(-0.134298,-0.256079,-0.00124587,0.02,0.0,0.0),UNSflow.TwoDVort(-0.130317,-0.257146,-0.00073066,0.02,0.0,0.0),UNSflow.TwoDVort(-0.127324,-0.257948,-0.000360669,0.02,0.0,0.0),UNSflow.TwoDVort(-0.125325,-0.258484,-0.00013416,0.02,0.0,0.0),UNSflow.TwoDVort(-0.124324,-0.258752,-2.66285e-5,0.02,0.0,0.0)],[0.11],Int8[1]),UNSflow.TwoDSurf(1.0,1.0,\"FlatPlate\",0.0,70,35,UNSflow.KinemDef(UNSflow.ConstDef(0.261799),UNSflow.ConstDef(0.0),UNSflow.ConstDef(1.0)),[0.0,0.0,0.0,0.0,0.0,0.0,0.0,0.0,0.0,0.0  …  0.0,0.0,0.0,0.0,0.0,0.0,0.0,0.0,0.0,0.0],[0.0,0.0,0.0,0.0,0.0,0.0,0.0,0.0,0.0,0.0  …  0.0,0.0,0.0,0.0,0.0,0.0,0.0,0.0,0.0,0.0],[0.0,0.0455303,0.0910607,0.136591,0.182121,0.227652,0.273182,0.318712,0.364243,0.409773  …  2.73182,2.77735,2.82288,2.86841,2.91394,2.95947,3.005,3.05053,3.09606,3.14159],[0.0,0.000518163,0.00207158,0.00465703,0.00826915,0.0129005,0.0185414,0.0251802,0.0328031,0.0413943  …  0.958606,0.967197,0.97482,0.981459,0.9871,0.991731,0.995343,0.997928,0.999482,1.0],UNSflow.KinemPar(0.261799,0.0,0.0,0.0,1.0,0.0),[-1.09,-1.0895,-1.088,-1.0855,-1.08201,-1.07754,-1.07209,-1.06568,-1.05831,-1.05002  …  -0.164058,-0.15576,-0.148396,-0.141984,-0.136535,-0.132062,-0.128573,-0.126075,-0.124575,-0.124074],[0.0,-0.00013411,-0.000536164,-0.00120533,-0.00214021,-0.00333888,-0.00479886,-0.0065171,-0.00849006,-0.0107136  …  -0.248105,-0.250329,-0.252302,-0.25402,-0.25548,-0.256679,-0.257614,-0.258283,-0.258685,-0.258819],[-0.0607087,-0.0634689,-0.0720442,-0.0873124,-0.110586,-0.142626,-0.181046,-0.218594,-0.249134,-0.270287  …  -0.0388905,-0.0400067,-0.0414125,-0.0429098,-0.0436454,-0.042444,-0.0393944,-0.0359704,-0.0334821,-0.0325885],[0.302309,0.30075,0.295571,0.285337,0.2673,0.236696,0.191663,0.145551,0.111589,0.086403  …  -0.328332,-0.359036,-0.39211,-0.425631,-0.455182,-0.475473,-0.485846,-0.490229,-0.491931,-0.492377],[-0.535114,-0.532894,-0.525672,-0.511835,-0.488389,-0.450535,-0.397093,-0.342834,-0.302125,-0.272322  …  0.0683908,0.0983377,0.130648,0.163415,0.19215,0.211438,0.220668,0.224015,0.225016,0.225215],[0.11],[-0.168082,0.0198186,-0.145262,-0.0541793,-0.0806316,-0.0209477,-0.00773296,0.0157986,0.0189848,0.0111051  …  -0.000291234,0.00259358,0.00445932,0.00377478,0.00217363,-0.000504951,-0.0023107,-0.00336717,-0.00285504,-0.00159419],[2.90046e-12],[-0.17999,-1.36067,-0.532057],[0.11],[-0.168082,0.0198186,-0.145262],UNSflow.TwoDVort[UNSflow.TwoDVort(-1.08975,-6.70552e-5,0.00995968,0.02,0.0,0.0),UNSflow.TwoDVort(-1.08875,-0.000335137,0.00975097,0.02,0.0,0.0),UNSflow.TwoDVort(-1.08675,-0.000870746,0.00934287,0.02,0.0,0.0),UNSflow.TwoDVort(-1.08376,-0.00167277,0.00868096,0.02,0.0,0.0),UNSflow.TwoDVort(-1.07978,-0.00273955,0.00778129,0.02,0.0,0.0),UNSflow.TwoDVort(-1.07481,-0.00406887,0.00683588,0.02,0.0,0.0),UNSflow.TwoDVort(-1.06888,-0.00565798,0.0059856,0.02,0.0,0.0),UNSflow.TwoDVort(-1.062,-0.00750358,0.0051888,0.02,0.0,0.0),UNSflow.TwoDVort(-1.05417,-0.00960185,0.00445703,0.02,0.0,0.0),UNSflow.TwoDVort(-1.04541,-0.0119484,0.00382347,0.02,0.0,0.0)  …  UNSflow.TwoDVort(-0.168666,-0.246871,-0.00395598,0.02,0.0,0.0),UNSflow.TwoDVort(-0.159909,-0.249217,-0.00354656,0.02,0.0,0.0),UNSflow.TwoDVort(-0.152078,-0.251315,-0.00305039,0.02,0.0,0.0),UNSflow.TwoDVort(-0.14519,-0.253161,-0.00247895,0.02,0.0,0.0),UNSflow.TwoDVort(-0.139259,-0.25475,-0.00185999,0.02,0.0,0.0),UNSflow.TwoDVort(-0.134298,-0.256079,-0.00125068,0.02,0.0,0.0),UNSflow.TwoDVort(-0.130317,-0.257146,-0.00073277,0.02,0.0,0.0),UNSflow.TwoDVort(-0.127324,-0.257948,-0.000361326,0.02,0.0,0.0),UNSflow.TwoDVort(-0.125325,-0.258484,-0.000134281,0.02,0.0,0.0),UNSflow.TwoDVort(-0.124324,-0.258752,-2.66364e-5,0.02,0.0,0.0)],[0.11],Int8[1]),UNSflow.TwoDSurf(1.0,1.0,\"FlatPlate\",0.0,70,35,UNSflow.KinemDef(UNSflow.ConstDef(0.261799),UNSflow.ConstDef(0.0),UNSflow.ConstDef(1.0)),[0.0,0.0,0.0,0.0,0.0,0.0,0.0,0.0,0.0,0.0  …  0.0,0.0,0.0,0.0,0.0,0.0,0.0,0.0,0.0,0.0],[0.0,0.0,0.0,0.0,0.0,0.0,0.0,0.0,0.0,0.0  …  0.0,0.0,0.0,0.0,0.0,0.0,0.0,0.0,0.0,0.0],[0.0,0.0455303,0.0910607,0.136591,0.182121,0.227652,0.273182,0.318712,0.364243,0.409773  …  2.73182,2.77735,2.82288,2.86841,2.91394,2.95947,3.005,3.05053,3.09606,3.14159],[0.0,0.000518163,0.00207158,0.00465703,0.00826915,0.0129005,0.0185414,0.0251802,0.0328031,0.0413943  …  0.958606,0.967197,0.97482,0.981459,0.9871,0.991731,0.995343,0.997928,0.999482,1.0],UNSflow.KinemPar(0.261799,0.0,0.0,0.0,1.0,0.0),[-1.09,-1.0895,-1.088,-1.0855,-1.08201,-1.07754,-1.07209,-1.06568,-1.05831,-1.05002  …  -0.164058,-0.15576,-0.148396,-0.141984,-0.136535,-0.132062,-0.128573,-0.126075,-0.124575,-0.124074],[0.0,-0.00013411,-0.000536164,-0.00120533,-0.00214021,-0.00333888,-0.00479886,-0.0065171,-0.00849006,-0.0107136  …  -0.248105,-0.250329,-0.252302,-0.25402,-0.25548,-0.256679,-0.257614,-0.258283,-0.258685,-0.258819],[-0.0587727,-0.0614489,-0.0697663,-0.0845856,-0.107198,-0.138375,-0.175863,-0.212752,-0.243139,-0.264538  …  -0.0383968,-0.0394509,-0.0407801,-0.0421917,-0.0428531,-0.0416181,-0.0385798,-0.0351857,-0.0327222,-0.0318377],[0.295366,0.293908,0.28905,0.279407,0.262311,0.233114,0.189921,0.145502,0.112527,0.0877765  …  -0.32602,-0.356452,-0.389217,-0.422424,-0.451729,-0.471935,-0.482381,-0.486892,-0.488696,-0.489178],[-0.528909,-0.526808,-0.519963,-0.506813,-0.484447,-0.448175,-0.396752,-0.344299,-0.304583,-0.275137  …  0.0660298,0.095698,0.127691,0.160131,0.188609,0.207807,0.21711,0.22059,0.221694,0.221931],[0.11],[-0.167281,0.0199739,-0.143453,-0.0528892,-0.0790868,-0.0199761,-0.00705952,0.0161335,0.0190763,0.0112051  …  -0.000236879,0.00260128,0.00441838,0.00372242,0.00212479,-0.000519894,-0.0022952,-0.00332143,-0.00280231,-0.00154884],[-2.37958e-12],[-0.163243,-1.35763,-0.496144],[0.11],[-0.167281,0.0199739,-0.143453],UNSflow.TwoDVort[UNSflow.TwoDVort(-1.08975,-6.70552e-5,0.00996123,0.02,0.0,0.0),UNSflow.TwoDVort(-1.08875,-0.000335137,0.00975836,0.02,0.0,0.0),UNSflow.TwoDVort(-1.08675,-0.000870746,0.00936166,0.02,0.0,0.0),UNSflow.TwoDVort(-1.08376,-0.00167277,0.00871708,0.02,0.0,0.0),UNSflow.TwoDVort(-1.07978,-0.00273955,0.00783875,0.02,0.0,0.0),UNSflow.TwoDVort(-1.07481,-0.00406887,0.00691228,0.02,0.0,0.0),UNSflow.TwoDVort(-1.06888,-0.00565798,0.00607245,0.02,0.0,0.0),UNSflow.TwoDVort(-1.062,-0.00750358,0.00527664,0.02,0.0,0.0),UNSflow.TwoDVort(-1.05417,-0.00960185,0.00453881,0.02,0.0,0.0),UNSflow.TwoDVort(-1.04541,-0.0119484,0.00389743,0.02,0.0,0.0)  …  UNSflow.TwoDVort(-0.168666,-0.246871,-0.00392371,0.02,0.0,0.0),UNSflow.TwoDVort(-0.159909,-0.249217,-0.00351711,0.02,0.0,0.0),UNSflow.TwoDVort(-0.152078,-0.251315,-0.00302512,0.02,0.0,0.0),UNSflow.TwoDVort(-0.14519,-0.253161,-0.0024588,0.02,0.0,0.0),UNSflow.TwoDVort(-0.139259,-0.25475,-0.0018456,0.02,0.0,0.0),UNSflow.TwoDVort(-0.134298,-0.256079,-0.00124212,0.02,0.0,0.0),UNSflow.TwoDVort(-0.130317,-0.257146,-0.000728844,0.02,0.0,0.0),UNSflow.TwoDVort(-0.127324,-0.257948,-0.000359967,0.02,0.0,0.0),UNSflow.TwoDVort(-0.125325,-0.258484,-0.000133901,0.02,0.0,0.0),UNSflow.TwoDVort(-0.124324,-0.258752,-2.65641e-5,0.02,0.0,0.0)],[0.11],Int8[1]),UNSflow.TwoDSurf(1.0,1.0,\"FlatPlate\",0.0,70,35,UNSflow.KinemDef(UNSflow.ConstDef(0.261799),UNSflow.ConstDef(0.0),UNSflow.ConstDef(1.0)),[0.0,0.0,0.0,0.0,0.0,0.0,0.0,0.0,0.0,0.0  …  0.0,0.0,0.0,0.0,0.0,0.0,0.0,0.0,0.0,0.0],[0.0,0.0,0.0,0.0,0.0,0.0,0.0,0.0,0.0,0.0  …  0.0,0.0,0.0,0.0,0.0,0.0,0.0,0.0,0.0,0.0],[0.0,0.0455303,0.0910607,0.136591,0.182121,0.227652,0.273182,0.318712,0.364243,0.409773  …  2.73182,2.77735,2.82288,2.86841,2.91394,2.95947,3.005,3.05053,3.09606,3.14159],[0.0,0.000518163,0.00207158,0.00465703,0.00826915,0.0129005,0.0185414,0.0251802,0.0328031,0.0413943  …  0.958606,0.967197,0.97482,0.981459,0.9871,0.991731,0.995343,0.997928,0.999482,1.0],UNSflow.KinemPar(0.261799,0.0,0.0,0.0,1.0,0.0),[-1.09,-1.0895,-1.088,-1.0855,-1.08201,-1.07754,-1.07209,-1.06568,-1.05831,-1.05002  …  -0.164058,-0.15576,-0.148396,-0.141984,-0.136535,-0.132062,-0.128573,-0.126075,-0.124575,-0.124074],[0.0,-0.00013411,-0.000536164,-0.00120533,-0.00214021,-0.00333888,-0.00479886,-0.0065171,-0.00849006,-0.0107136  …  -0.248105,-0.250329,-0.252302,-0.25402,-0.25548,-0.256679,-0.257614,-0.258283,-0.258685,-0.258819],[-0.061032,-0.0638158,-0.0724622,-0.0878493,-0.11129,-0.143533,-0.182108,-0.21956,-0.249655,-0.270082  …  -0.0392316,-0.0404313,-0.0419349,-0.0435361,-0.0443576,-0.0431948,-0.0401367,-0.0366856,-0.0341747,-0.0332726],[0.301736,0.300083,0.294612,0.283866,0.265072,0.233412,0.18704,0.139704,0.105049,0.0795043  …  -0.328917,-0.359822,-0.393136,-0.426908,-0.456637,-0.476939,-0.487174,-0.49138,-0.492952,-0.493351],[-0.534477,-0.53216,-0.524637,-0.510276,-0.486055,-0.447129,-0.392353,-0.336936,-0.295673,-0.265712  …  0.0690444,0.0992068,0.131775,0.16481,0.193739,0.213049,0.222143,0.225313,0.226182,0.226333],[0.11],[-0.167542,0.0214259,-0.144419,-0.0533631,-0.0807787,-0.021584,-0.00887449,0.0145266,0.0179717,0.0104361  …  -0.000235613,0.00249895,0.00427464,0.00355773,0.00200899,-0.000582357,-0.00228117,-0.00326432,-0.00271969,-0.00148053],[-1.13243e-12],[-0.187409,-1.3379,-0.561935],[0.11],[-0.167542,0.0214259,-0.144419],UNSflow.TwoDVort[UNSflow.TwoDVort(-1.08975,-6.70552e-5,0.00995915,0.02,0.0,0.0),UNSflow.TwoDVort(-1.08875,-0.000335137,0.0097479,0.02,0.0,0.0),UNSflow.TwoDVort(-1.08675,-0.000870746,0.00933474,0.02,0.0,0.0),UNSflow.TwoDVort(-1.08376,-0.00167277,0.00866692,0.02,0.0,0.0),UNSflow.TwoDVort(-1.07978,-0.00273955,0.00776163,0.02,0.0,0.0),UNSflow.TwoDVort(-1.07481,-0.00406887,0.00681225,0.02,0.0,0.0),UNSflow.TwoDVort(-1.06888,-0.00565798,0.00596656,0.02,0.0,0.0),UNSflow.TwoDVort(-1.062,-0.00750358,0.00518854,0.02,0.0,0.0),UNSflow.TwoDVort(-1.05417,-0.00960185,0.00448193,0.02,0.0,0.0),UNSflow.TwoDVort(-1.04541,-0.0119484,0.0038727,0.02,0.0,0.0)  …  UNSflow.TwoDVort(-0.168666,-0.246871,-0.00397673,0.02,0.0,0.0),UNSflow.TwoDVort(-0.159909,-0.249217,-0.00356545,0.02,0.0,0.0),UNSflow.TwoDVort(-0.152078,-0.251315,-0.00306765,0.02,0.0,0.0),UNSflow.TwoDVort(-0.14519,-0.253161,-0.00249295,0.02,0.0,0.0),UNSflow.TwoDVort(-0.139259,-0.25475,-0.00186894,0.02,0.0,0.0),UNSflow.TwoDVort(-0.134298,-0.256079,-0.00125502,0.02,0.0,0.0),UNSflow.TwoDVort(-0.130317,-0.257146,-0.000734306,0.02,0.0,0.0),UNSflow.TwoDVort(-0.127324,-0.257948,-0.00036151,0.02,0.0,0.0),UNSflow.TwoDVort(-0.125325,-0.258484,-0.000134062,0.02,0.0,0.0),UNSflow.TwoDVort(-0.124324,-0.258752,-2.65321e-5,0.02,0.0,0.0)],[0.11],Int8[1]),UNSflow.TwoDSurf(1.0,1.0,\"FlatPlate\",0.0,70,35,UNSflow.KinemDef(UNSflow.ConstDef(0.261799),UNSflow.ConstDef(0.0),UNSflow.ConstDef(1.0)),[0.0,0.0,0.0,0.0,0.0,0.0,0.0,0.0,0.0,0.0  …  0.0,0.0,0.0,0.0,0.0,0.0,0.0,0.0,0.0,0.0],[0.0,0.0,0.0,0.0,0.0,0.0,0.0,0.0,0.0,0.0  …  0.0,0.0,0.0,0.0,0.0,0.0,0.0,0.0,0.0,0.0],[0.0,0.0455303,0.0910607,0.136591,0.182121,0.227652,0.273182,0.318712,0.364243,0.409773  …  2.73182,2.77735,2.82288,2.86841,2.91394,2.95947,3.005,3.05053,3.09606,3.14159],[0.0,0.000518163,0.00207158,0.00465703,0.00826915,0.0129005,0.0185414,0.0251802,0.0328031,0.0413943  …  0.958606,0.967197,0.97482,0.981459,0.9871,0.991731,0.995343,0.997928,0.999482,1.0],UNSflow.KinemPar(0.261799,0.0,0.0,0.0,1.0,0.0),[-1.09,-1.0895,-1.088,-1.0855,-1.08201,-1.07754,-1.07209,-1.06568,-1.05831,-1.05002  …  -0.164058,-0.15576,-0.148396,-0.141984,-0.136535,-0.132062,-0.128573,-0.126075,-0.124575,-0.124074],[0.0,-0.00013411,-0.000536164,-0.00120533,-0.00214021,-0.00333888,-0.00479886,-0.0065171,-0.00849006,-0.0107136  …  -0.248105,-0.250329,-0.252302,-0.25402,-0.25548,-0.256679,-0.257614,-0.258283,-0.258685,-0.258819],[-0.0505768,-0.052895,-0.060111,-0.0730084,-0.092781,-0.120226,-0.153632,-0.187473,-0.216847,-0.238894  …  -0.0363885,-0.0372136,-0.0382577,-0.0393479,-0.03973,-0.0383718,-0.0353832,-0.0321103,-0.0297463,-0.0288984],[0.263978,0.262918,0.259327,0.252026,0.238691,0.215169,0.179464,0.141987,0.113102,0.0901316  …  -0.316054,-0.345388,-0.376913,-0.408853,-0.437165,-0.457007,-0.467703,-0.472692,-0.474876,-0.475497],[-0.500712,-0.499088,-0.493752,-0.483361,-0.465363,-0.435539,-0.392405,-0.347447,-0.311943,-0.284049  …  0.0558834,0.0844313,0.115153,0.146287,0.173733,0.192547,0.202105,0.206078,0.207575,0.207955],[0.11],[-0.163373,0.0216362,-0.134868,-0.04665,-0.0722871,-0.016024,-0.00472589,0.0169023,0.0189282,0.0113143  …  7.82943e-6,0.00255251,0.0041119,0.00336341,0.00182678,-0.000607731,-0.0021865,-0.00304429,-0.00248819,-0.00129214],[1.42664e-12],[-0.0920728,-1.33172,-0.351712],[0.11],[-0.163373,0.0216362,-0.134868],UNSflow.TwoDVort[UNSflow.TwoDVort(-1.08975,-6.70552e-5,0.00996788,0.02,0.0,0.0),UNSflow.TwoDVort(-1.08875,-0.000335137,0.00978968,0.02,0.0,0.0),UNSflow.TwoDVort(-1.08675,-0.000870746,0.00944092,0.02,0.0,0.0),UNSflow.TwoDVort(-1.08376,-0.00167277,0.00887048,0.02,0.0,0.0),UNSflow.TwoDVort(-1.07978,-0.00273955,0.00808486,0.02,0.0,0.0),UNSflow.TwoDVort(-1.07481,-0.00406887,0.0072414,0.02,0.0,0.0),UNSflow.TwoDVort(-1.06888,-0.00565798,0.00645121,0.02,0.0,0.0),UNSflow.TwoDVort(-1.062,-0.00750358,0.00567058,0.02,0.0,0.0),UNSflow.TwoDVort(-1.05417,-0.00960185,0.00491958,0.02,0.0,0.0),UNSflow.TwoDVort(-1.04541,-0.0119484,0.00425471,0.02,0.0,0.0)  …  UNSflow.TwoDVort(-0.168666,-0.246871,-0.00379183,0.02,0.0,0.0),UNSflow.TwoDVort(-0.159909,-0.249217,-0.00339675,0.02,0.0,0.0),UNSflow.TwoDVort(-0.152078,-0.251315,-0.00292229,0.02,0.0,0.0),UNSflow.TwoDVort(-0.14519,-0.253161,-0.00237697,0.02,0.0,0.0),UNSflow.TwoDVort(-0.139259,-0.25475,-0.00178667,0.02,0.0,0.0),UNSflow.TwoDVort(-0.134298,-0.256079,-0.00120658,0.02,0.0,0.0),UNSflow.TwoDVort(-0.130317,-0.257146,-0.000712313,0.02,0.0,0.0),UNSflow.TwoDVort(-0.127324,-0.257948,-0.000354069,0.02,0.0,0.0),UNSflow.TwoDVort(-0.125325,-0.258484,-0.000132124,0.02,0.0,0.0),UNSflow.TwoDVort(-0.124324,-0.258752,-2.61974e-5,0.02,0.0,0.0)],[0.11],Int8[1]),UNSflow.TwoDSurf(1.0,1.0,\"FlatPlate\",0.0,70,35,UNSflow.KinemDef(UNSflow.ConstDef(0.261799),UNSflow.ConstDef(0.0),UNSflow.ConstDef(1.0)),[0.0,0.0,0.0,0.0,0.0,0.0,0.0,0.0,0.0,0.0  …  0.0,0.0,0.0,0.0,0.0,0.0,0.0,0.0,0.0,0.0],[0.0,0.0,0.0,0.0,0.0,0.0,0.0,0.0,0.0,0.0  …  0.0,0.0,0.0,0.0,0.0,0.0,0.0,0.0,0.0,0.0],[0.0,0.0455303,0.0910607,0.136591,0.182121,0.227652,0.273182,0.318712,0.364243,0.409773  …  2.73182,2.77735,2.82288,2.86841,2.91394,2.95947,3.005,3.05053,3.09606,3.14159],[0.0,0.000518163,0.00207158,0.00465703,0.00826915,0.0129005,0.0185414,0.0251802,0.0328031,0.0413943  …  0.958606,0.967197,0.97482,0.981459,0.9871,0.991731,0.995343,0.997928,0.999482,1.0],UNSflow.KinemPar(0.261799,0.0,0.0,0.0,1.0,0.0),[-1.09,-1.0895,-1.088,-1.0855,-1.08201,-1.07754,-1.07209,-1.06568,-1.05831,-1.05002  …  -0.164058,-0.15576,-0.148396,-0.141984,-0.136535,-0.132062,-0.128573,-0.126075,-0.124575,-0.124074],[0.0,-0.00013411,-0.000536164,-0.00120533,-0.00214021,-0.00333888,-0.00479886,-0.0065171,-0.00849006,-0.0107136  …  -0.248105,-0.250329,-0.252302,-0.25402,-0.25548,-0.256679,-0.257614,-0.258283,-0.258685,-0.258819],[-0.0804212,-0.0840737,-0.0953855,-0.115402,-0.145639,-0.186698,-0.234511,-0.277726,-0.307543,-0.322602  …  -0.0451582,-0.0473001,-0.049938,-0.052783,-0.0546796,-0.0540446,-0.0509292,-0.0471708,-0.0443927,-0.0433908],[0.359294,0.356357,0.346825,0.328689,0.29826,0.249358,0.180366,0.111783,0.0637303,0.0303558  …  -0.351491,-0.385706,-0.422832,-0.460534,-0.493305,-0.514567,-0.523782,-0.526292,-0.526544,-0.526463],[-0.585056,-0.581274,-0.569139,-0.54644,-0.509222,-0.451359,-0.372344,-0.294913,-0.24078,-0.204645  …  0.0923832,0.125987,0.16253,0.199684,0.231829,0.252203,0.260297,0.261748,0.261273,0.260935],[0.11],[-0.171257,0.028924,-0.155312,-0.0603724,-0.0956081,-0.0343221,-0.0218527,0.00424011,0.0115874,0.00660687  …  -0.000472834,0.0016818,0.00331151,0.00257641,0.0014058,-0.000838659,-0.00209997,-0.00288554,-0.0022531,-0.00114888],[-7.70125e-12],[-0.370006,-1.31632,-1.03101],[0.11],[-0.171257,0.028924,-0.155312],UNSflow.TwoDVort[UNSflow.TwoDVort(-1.08975,-6.70552e-5,0.00994343,0.02,0.0,0.0),UNSflow.TwoDVort(-1.08875,-0.000335137,0.00966868,0.02,0.0,0.0),UNSflow.TwoDVort(-1.08675,-0.000870746,0.00912945,0.02,0.0,0.0),UNSflow.TwoDVort(-1.08376,-0.00167277,0.00828035,0.02,0.0,0.0),UNSflow.TwoDVort(-1.07978,-0.00273955,0.00715915,0.02,0.0,0.0),UNSflow.TwoDVort(-1.07481,-0.00406887,0.00601314,0.02,0.0,0.0),UNSflow.TwoDVort(-1.06888,-0.00565798,0.00507849,0.02,0.0,0.0),UNSflow.TwoDVort(-1.062,-0.00750358,0.00436766,0.02,0.0,0.0),UNSflow.TwoDVort(-1.05417,-0.00960185,0.00382242,0.02,0.0,0.0),UNSflow.TwoDVort(-1.04541,-0.0119484,0.00338393,0.02,0.0,0.0)  …  UNSflow.TwoDVort(-0.168666,-0.246871,-0.00435974,0.02,0.0,0.0),UNSflow.TwoDVort(-0.159909,-0.249217,-0.00391457,0.02,0.0,0.0),UNSflow.TwoDVort(-0.152078,-0.251315,-0.00337369,0.02,0.0,0.0),UNSflow.TwoDVort(-0.14519,-0.253161,-0.00273967,0.02,0.0,0.0),UNSflow.TwoDVort(-0.139259,-0.25475,-0.00204159,0.02,0.0,0.0),UNSflow.TwoDVort(-0.134298,-0.256079,-0.00135519,0.02,0.0,0.0),UNSflow.TwoDVort(-0.130317,-0.257146,-0.000780732,0.02,0.0,0.0),UNSflow.TwoDVort(-0.127324,-0.257948,-0.00037768,0.02,0.0,0.0),UNSflow.TwoDVort(-0.125325,-0.258484,-0.000137747,0.02,0.0,0.0),UNSflow.TwoDVort(-0.124324,-0.258752,-2.69205e-5,0.02,0.0,0.0)],[0.11],Int8[1]),UNSflow.TwoDSurf(1.0,1.0,\"FlatPlate\",0.0,70,35,UNSflow.KinemDef(UNSflow.ConstDef(0.261799),UNSflow.ConstDef(0.0),UNSflow.ConstDef(1.0)),[0.0,0.0,0.0,0.0,0.0,0.0,0.0,0.0,0.0,0.0  …  0.0,0.0,0.0,0.0,0.0,0.0,0.0,0.0,0.0,0.0],[0.0,0.0,0.0,0.0,0.0,0.0,0.0,0.0,0.0,0.0  …  0.0,0.0,0.0,0.0,0.0,0.0,0.0,0.0,0.0,0.0],[0.0,0.0455303,0.0910607,0.136591,0.182121,0.227652,0.273182,0.318712,0.364243,0.409773  …  2.73182,2.77735,2.82288,2.86841,2.91394,2.95947,3.005,3.05053,3.09606,3.14159],[0.0,0.000518163,0.00207158,0.00465703,0.00826915,0.0129005,0.0185414,0.0251802,0.0328031,0.0413943  …  0.958606,0.967197,0.97482,0.981459,0.9871,0.991731,0.995343,0.997928,0.999482,1.0],UNSflow.KinemPar(0.261799,0.0,0.0,0.0,1.0,0.0),[-1.09,-1.0895,-1.088,-1.0855,-1.08201,-1.07754,-1.07209,-1.06568,-1.05831,-1.05002  …  -0.164058,-0.15576,-0.148396,-0.141984,-0.136535,-0.132062,-0.128573,-0.126075,-0.124575,-0.124074],[0.0,-0.00013411,-0.000536164,-0.00120533,-0.00214021,-0.00333888,-0.00479886,-0.0065171,-0.00849006,-0.0107136  …  -0.248105,-0.250329,-0.252302,-0.25402,-0.25548,-0.256679,-0.257614,-0.258283,-0.258685,-0.258819],[-0.0041744,-0.00417908,-0.0041931,-0.00421615,-0.00424672,-0.00427978,-0.00430074,-0.004271,-0.00410186,-0.00368788  …  -0.0204338,-0.019996,-0.0194478,-0.0187134,-0.017476,-0.0153599,-0.0125904,-0.0099518,-0.00811997,-0.0074693],[-0.0081131,-0.00806175,-0.00790474,-0.00763277,-0.00722874,-0.00666415,-0.00589005,-0.00480964,-0.00318047,-0.000252793  …  -0.223624,-0.244022,-0.265653,-0.287476,-0.307273,-0.322413,-0.33232,-0.338372,-0.341708,-0.342782],[-0.249902,-0.24995,-0.250098,-0.250355,-0.250737,-0.251274,-0.252017,-0.253068,-0.254685,-0.25762  …  -0.0375265,-0.0179362,0.00281549,0.0237049,0.0425067,0.0565833,0.0654357,0.0705993,0.0733472,0.0742158],[0.100039],[-0.109853,0.0540907,-0.0442782,0.0170347,-0.0118922,0.0110801,0.00295639,0.00715092,0.00279929,-0.000889866  …  0.00095736,0.00137197,0.00146194,0.000810379,0.000202935,-0.000541469,-0.000799325,-0.000849947,-0.000495004,-0.000105594],[-0.215818],[0.674778,-0.561086,0.507021],[0.100039],[-0.109853,0.0540907,-0.0442782],UNSflow.TwoDVort[UNSflow.TwoDVort(-1.08975,-6.70552e-5,0.00910406,0.02,0.0,0.0),UNSflow.TwoDVort(-1.08875,-0.000335137,0.00908606,0.02,0.0,0.0),UNSflow.TwoDVort(-1.08675,-0.000870746,0.00905369,0.02,0.0,0.0),UNSflow.TwoDVort(-1.08376,-0.00167277,0.00899748,0.02,0.0,0.0),UNSflow.TwoDVort(-1.07978,-0.00273955,0.00891578,0.02,0.0,0.0),UNSflow.TwoDVort(-1.07481,-0.00406887,0.00882836,0.02,0.0,0.0),UNSflow.TwoDVort(-1.06888,-0.00565798,0.00873231,0.02,0.0,0.0),UNSflow.TwoDVort(-1.062,-0.00750358,0.00859699,0.02,0.0,0.0),UNSflow.TwoDVort(-1.05417,-0.00960185,0.00843756,0.02,0.0,0.0),UNSflow.TwoDVort(-1.04541,-0.0119484,0.00828944,0.02,0.0,0.0)  …  UNSflow.TwoDVort(-0.168666,-0.246871,-0.00266147,0.02,0.0,0.0),UNSflow.TwoDVort(-0.159909,-0.249217,-0.00237345,0.02,0.0,0.0),UNSflow.TwoDVort(-0.152078,-0.251315,-0.00204046,0.02,0.0,0.0),UNSflow.TwoDVort(-0.14519,-0.253161,-0.00166407,0.02,0.0,0.0),UNSflow.TwoDVort(-0.139259,-0.25475,-0.00126031,0.02,0.0,0.0),UNSflow.TwoDVort(-0.134298,-0.256079,-0.000866922,0.02,0.0,0.0),UNSflow.TwoDVort(-0.130317,-0.257146,-0.000527868,0.02,0.0,0.0),UNSflow.TwoDVort(-0.127324,-0.257948,-0.00027103,0.02,0.0,0.0),UNSflow.TwoDVort(-0.125325,-0.258484,-0.000103019,0.02,0.0,0.0),UNSflow.TwoDVort(-0.124324,-0.258752,-2.04718e-5,0.02,0.0,0.0)],[0.11],Int8[0]),UNSflow.TwoDSurf(1.0,1.0,\"FlatPlate\",0.0,70,35,UNSflow.KinemDef(UNSflow.ConstDef(0.261799),UNSflow.ConstDef(0.0),UNSflow.ConstDef(1.0)),[0.0,0.0,0.0,0.0,0.0,0.0,0.0,0.0,0.0,0.0  …  0.0,0.0,0.0,0.0,0.0,0.0,0.0,0.0,0.0,0.0],[0.0,0.0,0.0,0.0,0.0,0.0,0.0,0.0,0.0,0.0  …  0.0,0.0,0.0,0.0,0.0,0.0,0.0,0.0,0.0,0.0],[0.0,0.0455303,0.0910607,0.136591,0.182121,0.227652,0.273182,0.318712,0.364243,0.409773  …  2.73182,2.77735,2.82288,2.86841,2.91394,2.95947,3.005,3.05053,3.09606,3.14159],[0.0,0.000518163,0.00207158,0.00465703,0.00826915,0.0129005,0.0185414,0.0251802,0.0328031,0.0413943  …  0.958606,0.967197,0.97482,0.981459,0.9871,0.991731,0.995343,0.997928,0.999482,1.0],UNSflow.KinemPar(0.261799,0.0,0.0,0.0,1.0,0.0),[-1.09,-1.0895,-1.088,-1.0855,-1.08201,-1.07754,-1.07209,-1.06568,-1.05831,-1.05002  …  -0.164058,-0.15576,-0.148396,-0.141984,-0.136535,-0.132062,-0.128573,-0.126075,-0.124575,-0.124074],[0.0,-0.00013411,-0.000536164,-0.00120533,-0.00214021,-0.00333888,-0.00479886,-0.0065171,-0.00849006,-0.0107136  …  -0.248105,-0.250329,-0.252302,-0.25402,-0.25548,-0.256679,-0.257614,-0.258283,-0.258685,-0.258819],[-0.00399245,-0.00399423,-0.00399957,-0.0040085,-0.00402103,-0.00403722,-0.00405712,-0.00408078,-0.00410829,-0.00413974  …  -0.0164633,-0.0163308,-0.0160754,-0.0155942,-0.0146022,-0.0128266,-0.0105201,-0.00834041,-0.00682903,-0.00629173],[-0.0162218,-0.0162297,-0.0162535,-0.0162932,-0.016349,-0.0164211,-0.0165098,-0.0166155,-0.0167385,-0.0168793  …  -0.165937,-0.181571,-0.198239,-0.21511,-0.230363,-0.241889,-0.249336,-0.25386,-0.256346,-0.257144],[-0.242117,-0.242109,-0.242084,-0.242044,-0.241986,-0.241913,-0.241822,-0.241714,-0.241588,-0.241443  …  -0.0942753,-0.0792084,-0.0631739,-0.0470028,-0.0325263,-0.021852,-0.0152562,-0.0114506,-0.00944045,-0.00880848],[0.075134],[-0.0789027,0.0470205,-0.0279093,0.0164026,-0.00944003,0.0052107,-0.00264069,0.00108974,-0.000172433,-0.000346469  …  5.61391e-5,-5.89893e-5,5.74468e-5,-5.28322e-5,4.62726e-5,-3.86925e-5,3.08193e-5,-2.31967e-5,1.62052e-5,-1.00854e-5],[-0.140006],[0.472572,-0.405026,0.307934],[0.075134],[-0.0789027,0.0470205,-0.0279093],UNSflow.TwoDVort[UNSflow.TwoDVort(-1.08975,-6.70552e-5,0.00683852,0.02,0.0,0.0),UNSflow.TwoDVort(-1.08875,-0.000335137,0.00682559,0.02,0.0,0.0),UNSflow.TwoDVort(-1.08675,-0.000870746,0.00679979,0.02,0.0,0.0),UNSflow.TwoDVort(-1.08376,-0.00167277,0.00676112,0.02,0.0,0.0),UNSflow.TwoDVort(-1.07978,-0.00273955,0.00670969,0.02,0.0,0.0),UNSflow.TwoDVort(-1.07481,-0.00406887,0.00664565,0.02,0.0,0.0),UNSflow.TwoDVort(-1.06888,-0.00565798,0.00656916,0.02,0.0,0.0),UNSflow.TwoDVort(-1.062,-0.00750358,0.00648029,0.02,0.0,0.0),UNSflow.TwoDVort(-1.05417,-0.00960185,0.00637927,0.02,0.0,0.0),UNSflow.TwoDVort(-1.04541,-0.0119484,0.00626645,0.02,0.0,0.0)  …  UNSflow.TwoDVort(-0.168666,-0.246871,-0.00202819,0.02,0.0,0.0),UNSflow.TwoDVort(-0.159909,-0.249217,-0.00181196,0.02,0.0,0.0),UNSflow.TwoDVort(-0.152078,-0.251315,-0.00155913,0.02,0.0,0.0),UNSflow.TwoDVort(-0.14519,-0.253161,-0.00127193,0.02,0.0,0.0),UNSflow.TwoDVort(-0.139259,-0.25475,-0.000962843,0.02,0.0,0.0),UNSflow.TwoDVort(-0.134298,-0.256079,-0.000660848,0.02,0.0,0.0),UNSflow.TwoDVort(-0.130317,-0.257146,-0.000400929,0.02,0.0,0.0),UNSflow.TwoDVort(-0.127324,-0.257948,-0.000205302,0.02,0.0,0.0),UNSflow.TwoDVort(-0.125325,-0.258484,-7.80571e-5,0.02,0.0,0.0),UNSflow.TwoDVort(-0.124324,-0.258752,-1.55497e-5,0.02,0.0,0.0)],[0.11],Int8[0])],UNSflow.TwoDFlowField[UNSflow.TwoDFlowField(UNSflow.ConstDef(0.0),UNSflow.ConstDef(0.0),[0.0],[0.0],UNSflow.TwoDVort[UNSflow.TwoDVort(-0.0432518,-0.248967,-0.0830341,0.02,-0.062742,0.09111),UNSflow.TwoDVort(-0.0328015,-0.266707,-0.00196809,0.02,0.458152,0.178507),UNSflow.TwoDVort(-0.0593747,-0.275581,-0.0100772,0.02,0.303447,-0.192193),UNSflow.TwoDVort(-0.0821511,-0.272413,-0.00684624,0.02,0.122927,-0.247273),UNSflow.TwoDVort(-0.100015,-0.267897,-0.0056377,0.02,0.0471824,-0.233734),UNSflow.TwoDVort(-0.116053,-0.263936,-0.00453707,0.02,0.0158283,-0.217283)],UNSflow.TwoDVort[],UNSflow.TwoDVort[]),UNSflow.TwoDFlowField(UNSflow.ConstDef(0.0),UNSflow.ConstDef(0.0),[0.0],[0.0],UNSflow.TwoDVort[UNSflow.TwoDVort(-0.044975,-0.246148,-0.110496,0.02,-0.104413,0.0957156),UNSflow.TwoDVort(-0.0235289,-0.260415,-0.00403091,0.02,0.491528,0.460217),UNSflow.TwoDVort(-0.051667,-0.278097,-0.0133575,0.02,0.477647,-0.146395),UNSflow.TwoDVort(-0.0788833,-0.276476,-0.00978628,0.02,0.218757,-0.30812),UNSflow.TwoDVort(-0.0988543,-0.270929,-0.0077078,0.02,0.0866959,-0.311116),UNSflow.TwoDVort(-0.115687,-0.265666,-0.00572892,0.02,0.0275854,-0.291038)],UNSflow.TwoDVort[UNSflow.TwoDVort(-0.98875,-0.00980028,0.00871503,0.02,0.153958,-0.205556),UNSflow.TwoDVort(-1.00257,-0.00171366,0.00347908,0.02,0.224567,-0.148367),UNSflow.TwoDVort(-1.02036,0.00039392,-0.00281217,0.02,0.252522,-0.152869)],UNSflow.TwoDVort[]),UNSflow.TwoDFlowField(UNSflow.ConstDef(0.0),UNSflow.ConstDef(0.0),[0.0],[0.0],UNSflow.TwoDVort[UNSflow.TwoDVort(-0.0493112,-0.240633,-0.120386,0.02,-0.212238,0.165912),UNSflow.TwoDVort(-0.0221322,-0.250391,-0.00836138,0.02,0.382896,0.707973),UNSflow.TwoDVort(-0.0468189,-0.273438,-0.022628,0.02,0.577457,0.0513435),UNSflow.TwoDVort(-0.0755876,-0.276403,-0.0188757,0.02,0.333789,-0.234011),UNSflow.TwoDVort(-0.0975197,-0.272606,-0.0181253,0.02,0.156012,-0.32193),UNSflow.TwoDVort(-0.115541,-0.267577,-0.0174114,0.02,0.0308153,-0.384809)],UNSflow.TwoDVort[UNSflow.TwoDVort(-0.998663,-0.0180489,0.0230819,0.02,-0.0928772,-0.353793),UNSflow.TwoDVort(-1.00681,-0.00681996,0.017095,0.02,0.099322,-0.316559),UNSflow.TwoDVort(-1.02343,7.61561e-5,0.0190251,0.02,0.159971,-0.243752),UNSflow.TwoDVort(-1.04132,0.00460766,0.0207697,0.02,0.230602,-0.178839),UNSflow.TwoDVort(-1.06015,0.00792694,0.0231211,0.02,0.313128,-0.0170698),UNSflow.TwoDVort(-1.08018,0.00865178,0.0261295,0.02,0.0953863,0.394941)],UNSflow.TwoDVort[]),UNSflow.TwoDFlowField(UNSflow.ConstDef(0.0),UNSflow.ConstDef(0.0),[0.0],[0.0],UNSflow.TwoDVort[UNSflow.TwoDVort(-0.0482625,-0.242002,-0.122107,0.02,-0.183574,0.136458),UNSflow.TwoDVort(-0.0213771,-0.252213,-0.00725937,0.02,0.404487,0.668709),UNSflow.TwoDVort(-0.0469589,-0.275251,-0.020924,0.02,0.573053,-0.00374006),UNSflow.TwoDVort(-0.0760268,-0.277452,-0.0162944,0.02,0.314499,-0.281279),UNSflow.TwoDVort(-0.097775,-0.27282,-0.0143441,0.02,0.137461,-0.344141),UNSflow.TwoDVort(-0.115503,-0.267281,-0.0120934,0.02,0.032781,-0.367712)],UNSflow.TwoDVort[UNSflow.TwoDVort(-0.998715,-0.016737,0.0255827,0.02,-0.0840958,-0.318616),UNSflow.TwoDVort(-1.00584,-0.00451521,0.016724,0.02,0.136359,-0.266631),UNSflow.TwoDVort(-1.02283,0.00218203,0.0164806,0.02,0.191475,-0.179262),UNSflow.TwoDVort(-1.04106,0.00566182,0.0158521,0.02,0.246062,-0.123022),UNSflow.TwoDVort(-1.05994,0.00778646,0.0151706,0.02,0.30893,0.000543392),UNSflow.TwoDVort(-1.07965,0.00784056,0.0142628,0.02,0.124829,0.349853)],UNSflow.TwoDVort[]),UNSflow.TwoDFlowField(UNSflow.ConstDef(0.0),UNSflow.ConstDef(0.0),[0.0],[0.0],UNSflow.TwoDVort[UNSflow.TwoDVort(-0.0485053,-0.241592,-0.122991,0.02,-0.190845,0.145528),UNSflow.TwoDVort(-0.0212467,-0.251532,-0.00732568,0.02,0.397078,0.687437),UNSflow.TwoDVort(-0.0465937,-0.274803,-0.0214422,0.02,0.580516,0.0151573),UNSflow.TwoDVort(-0.0757507,-0.277271,-0.0170284,0.02,0.324213,-0.268646),UNSflow.TwoDVort(-0.0976428,-0.272829,-0.0154772,0.02,0.144732,-0.338792),UNSflow.TwoDVort(-0.115495,-0.26741,-0.0137828,0.02,0.0328493,-0.374313)],UNSflow.TwoDVort[UNSflow.TwoDVort(-0.999481,-0.0172178,0.0268674,0.02,-0.103388,-0.32844),UNSflow.TwoDVort(-1.00603,-0.0048847,0.0174634,0.02,0.129703,-0.282672),UNSflow.TwoDVort(-1.02303,0.00196876,0.0177033,0.02,0.184799,-0.193106),UNSflow.TwoDVort(-1.04123,0.0056288,0.0176118,0.02,0.24085,-0.134598),UNSflow.TwoDVort(-1.06009,0.00798686,0.0178021,0.02,0.308504,-0.000757668),UNSflow.TwoDVort(-1.07987,0.00816727,0.0181985,0.02,0.113426,0.366746)],UNSflow.TwoDVort[]),UNSflow.TwoDFlowField(UNSflow.ConstDef(0.0),UNSflow.ConstDef(0.0),[0.0],[0.0],UNSflow.TwoDVort[UNSflow.TwoDVort(-0.0484296,-0.241699,-0.123398,0.02,-0.188645,0.142415),UNSflow.TwoDVort(-0.0211299,-0.251627,-0.00722657,0.02,0.39797,0.685598),UNSflow.TwoDVort(-0.0465397,-0.274972,-0.0213585,0.02,0.581184,0.0108412),UNSflow.TwoDVort(-0.075757,-0.277413,-0.0168251,0.02,0.323365,-0.273992),UNSflow.TwoDVort(-0.097655,-0.272888,-0.0151221,0.02,0.143359,-0.342211),UNSflow.TwoDVort(-0.115487,-0.2674,-0.0132062,0.02,0.0331829,-0.373488)],UNSflow.TwoDVort[UNSflow.TwoDVort(-0.999675,-0.0171458,0.0274581,0.02,-0.107019,-0.325188),UNSflow.TwoDVort(-1.00596,-0.00466166,0.0176125,0.02,0.132241,-0.278949),UNSflow.TwoDVort(-1.023,0.00223354,0.017692,0.02,0.187104,-0.186232),UNSflow.TwoDVort(-1.04124,0.00581209,0.0173394,0.02,0.241734,-0.127583),UNSflow.TwoDVort(-1.0601,0.00804246,0.0171715,0.02,0.307581,0.00313441),UNSflow.TwoDVort(-1.07984,0.00812279,0.0170525,0.02,0.115256,0.363843)],UNSflow.TwoDVort[]),UNSflow.TwoDFlowField(UNSflow.ConstDef(0.0),UNSflow.ConstDef(0.0),[0.0],[0.0],UNSflow.TwoDVort[UNSflow.TwoDVort(-0.0484747,-0.241625,-0.123597,0.02,-0.189972,0.143931),UNSflow.TwoDVort(-0.0210988,-0.251497,-0.00723672,0.02,0.396486,0.689137),UNSflow.TwoDVort(-0.0464644,-0.274895,-0.0214615,0.02,0.582667,0.0142636),UNSflow.TwoDVort(-0.0757027,-0.27739,-0.0169556,0.02,0.325231,-0.271946),UNSflow.TwoDVort(-0.0976297,-0.272896,-0.0153167,0.02,0.144702,-0.34146),UNSflow.TwoDVort(-0.115484,-0.267425,-0.0134919,0.02,0.0332258,-0.374741)],UNSflow.TwoDVort[UNSflow.TwoDVort(-0.999843,-0.0172361,0.027748,0.02,-0.111188,-0.326849),UNSflow.TwoDVort(-1.006,-0.00472427,0.0177721,0.02,0.130995,-0.281943),UNSflow.TwoDVort(-1.02304,0.0022096,0.0179429,0.02,0.185943,-0.188488),UNSflow.TwoDVort(-1.04127,0.00582166,0.0176707,0.02,0.240825,-0.129283),UNSflow.TwoDVort(-1.06013,0.00808846,0.0176406,0.02,0.30746,0.00326853),UNSflow.TwoDVort(-1.07988,0.00818443,0.0177329,0.02,0.113116,0.366975)],UNSflow.TwoDVort[]),UNSflow.TwoDFlowField(UNSflow.ConstDef(0.0),UNSflow.ConstDef(0.0),[0.0],[0.0],UNSflow.TwoDVort[UNSflow.TwoDVort(-0.0484472,-0.241666,-0.123656,0.02,-0.18917,0.142881),UNSflow.TwoDVort(-0.0210766,-0.251546,-0.00721113,0.02,0.397006,0.687984),UNSflow.TwoDVort(-0.0464662,-0.274951,-0.0214192,0.02,0.582537,0.0125414),UNSflow.TwoDVort(-0.075715,-0.277428,-0.0168796,0.02,0.324655,-0.273627),UNSflow.TwoDVort(-0.0976376,-0.272908,-0.0151924,0.02,0.144108,-0.342411),UNSflow.TwoDVort(-0.115483,-0.267418,-0.0132985,0.02,0.0332994,-0.374285)],UNSflow.TwoDVort[UNSflow.TwoDVort(-0.999856,-0.0172004,0.0278334,0.02,-0.111228,-0.325728),UNSflow.TwoDVort(-1.00597,-0.00465758,0.017777,0.02,0.131887,-0.280456),UNSflow.TwoDVort(-1.02303,0.00227895,0.0178882,0.02,0.186757,-0.18637),UNSflow.TwoDVort(-1.04127,0.00586372,0.0175367,0.02,0.241221,-0.127261),UNSflow.TwoDVort(-1.06013,0.00809209,0.0173944,0.02,0.307264,0.00415168),UNSflow.TwoDVort(-1.07987,0.00816124,0.0173246,0.02,0.113989,0.365642)],UNSflow.TwoDVort[]),UNSflow.TwoDFlowField(UNSflow.ConstDef(0.0),UNSflow.ConstDef(0.0),[0.0],[0.0],UNSflow.TwoDVort[UNSflow.TwoDVort(-0.0484747,-0.241625,-0.123597,0.02,-0.189972,0.143931),UNSflow.TwoDVort(-0.0210988,-0.251497,-0.00723672,0.02,0.396486,0.689137),UNSflow.TwoDVort(-0.0464644,-0.274895,-0.0214615,0.02,0.582667,0.0142636),UNSflow.TwoDVort(-0.0757027,-0.27739,-0.0169556,0.02,0.325231,-0.271946),UNSflow.TwoDVort(-0.0976297,-0.272896,-0.0153167,0.02,0.144702,-0.34146),UNSflow.TwoDVort(-0.115484,-0.267425,-0.0134919,0.02,0.0332258,-0.374741)],UNSflow.TwoDVort[UNSflow.TwoDVort(-0.999843,-0.0172361,0.027748,0.02,-0.111188,-0.326849),UNSflow.TwoDVort(-1.006,-0.00472427,0.0177721,0.02,0.130995,-0.281943),UNSflow.TwoDVort(-1.02304,0.0022096,0.0179429,0.02,0.185943,-0.188488),UNSflow.TwoDVort(-1.04127,0.00582166,0.0176707,0.02,0.240825,-0.129283),UNSflow.TwoDVort(-1.06013,0.00808846,0.0176406,0.02,0.30746,0.00326853),UNSflow.TwoDVort(-1.07988,0.00818443,0.0177329,0.02,0.113116,0.366975)],UNSflow.TwoDVort[]),UNSflow.TwoDFlowField(UNSflow.ConstDef(0.0),UNSflow.ConstDef(0.0),[0.0],[0.0],UNSflow.TwoDVort[UNSflow.TwoDVort(-0.0484296,-0.241699,-0.123398,0.02,-0.188645,0.142415),UNSflow.TwoDVort(-0.0211299,-0.251627,-0.00722657,0.02,0.39797,0.685598),UNSflow.TwoDVort(-0.0465397,-0.274972,-0.0213585,0.02,0.581184,0.0108412),UNSflow.TwoDVort(-0.075757,-0.277413,-0.0168251,0.02,0.323365,-0.273992),UNSflow.TwoDVort(-0.097655,-0.272888,-0.0151221,0.02,0.143359,-0.342211),UNSflow.TwoDVort(-0.115487,-0.2674,-0.0132062,0.02,0.0331829,-0.373488)],UNSflow.TwoDVort[UNSflow.TwoDVort(-0.999675,-0.0171458,0.0274581,0.02,-0.107019,-0.325188),UNSflow.TwoDVort(-1.00596,-0.00466166,0.0176125,0.02,0.132241,-0.278949),UNSflow.TwoDVort(-1.023,0.00223354,0.017692,0.02,0.187104,-0.186232),UNSflow.TwoDVort(-1.04124,0.00581209,0.0173394,0.02,0.241734,-0.127583),UNSflow.TwoDVort(-1.0601,0.00804246,0.0171715,0.02,0.307581,0.00313441),UNSflow.TwoDVort(-1.07984,0.00812279,0.0170525,0.02,0.115256,0.363843)],UNSflow.TwoDVort[]),UNSflow.TwoDFlowField(UNSflow.ConstDef(0.0),UNSflow.ConstDef(0.0),[0.0],[0.0],UNSflow.TwoDVort[UNSflow.TwoDVort(-0.0485053,-0.241592,-0.122991,0.02,-0.190845,0.145528),UNSflow.TwoDVort(-0.0212467,-0.251532,-0.00732568,0.02,0.397078,0.687437),UNSflow.TwoDVort(-0.0465937,-0.274803,-0.0214422,0.02,0.580516,0.0151573),UNSflow.TwoDVort(-0.0757507,-0.277271,-0.0170284,0.02,0.324213,-0.268646),UNSflow.TwoDVort(-0.0976428,-0.272829,-0.0154772,0.02,0.144732,-0.338792),UNSflow.TwoDVort(-0.115495,-0.26741,-0.0137828,0.02,0.0328493,-0.374313)],UNSflow.TwoDVort[UNSflow.TwoDVort(-0.999481,-0.0172178,0.0268674,0.02,-0.103388,-0.32844),UNSflow.TwoDVort(-1.00603,-0.0048847,0.0174634,0.02,0.129703,-0.282672),UNSflow.TwoDVort(-1.02303,0.00196876,0.0177033,0.02,0.184799,-0.193106),UNSflow.TwoDVort(-1.04123,0.0056288,0.0176118,0.02,0.24085,-0.134598),UNSflow.TwoDVort(-1.06009,0.00798686,0.0178021,0.02,0.308504,-0.000757668),UNSflow.TwoDVort(-1.07987,0.00816727,0.0181985,0.02,0.113426,0.366746)],UNSflow.TwoDVort[]),UNSflow.TwoDFlowField(UNSflow.ConstDef(0.0),UNSflow.ConstDef(0.0),[0.0],[0.0],UNSflow.TwoDVort[UNSflow.TwoDVort(-0.0482625,-0.242002,-0.122107,0.02,-0.183574,0.136458),UNSflow.TwoDVort(-0.0213771,-0.252213,-0.00725937,0.02,0.404487,0.668709),UNSflow.TwoDVort(-0.0469589,-0.275251,-0.020924,0.02,0.573053,-0.00374006),UNSflow.TwoDVort(-0.0760268,-0.277452,-0.0162944,0.02,0.314499,-0.281279),UNSflow.TwoDVort(-0.097775,-0.27282,-0.0143441,0.02,0.137461,-0.344141),UNSflow.TwoDVort(-0.115503,-0.267281,-0.0120934,0.02,0.032781,-0.367712)],UNSflow.TwoDVort[UNSflow.TwoDVort(-0.998715,-0.016737,0.0255827,0.02,-0.0840958,-0.318616),UNSflow.TwoDVort(-1.00584,-0.00451521,0.016724,0.02,0.136359,-0.266631),UNSflow.TwoDVort(-1.02283,0.00218203,0.0164806,0.02,0.191475,-0.179262),UNSflow.TwoDVort(-1.04106,0.00566182,0.0158521,0.02,0.246062,-0.123022),UNSflow.TwoDVort(-1.05994,0.00778646,0.0151706,0.02,0.30893,0.000543392),UNSflow.TwoDVort(-1.07965,0.00784056,0.0142628,0.02,0.124829,0.349853)],UNSflow.TwoDVort[]),UNSflow.TwoDFlowField(UNSflow.ConstDef(0.0),UNSflow.ConstDef(0.0),[0.0],[0.0],UNSflow.TwoDVort[UNSflow.TwoDVort(-0.0493112,-0.240633,-0.120386,0.02,-0.212238,0.165912),UNSflow.TwoDVort(-0.0221322,-0.250391,-0.00836138,0.02,0.382896,0.707973),UNSflow.TwoDVort(-0.0468189,-0.273438,-0.022628,0.02,0.577457,0.0513435),UNSflow.TwoDVort(-0.0755876,-0.276403,-0.0188757,0.02,0.333789,-0.234011),UNSflow.TwoDVort(-0.0975197,-0.272606,-0.0181253,0.02,0.156012,-0.32193),UNSflow.TwoDVort(-0.115541,-0.267577,-0.0174114,0.02,0.0308153,-0.384809)],UNSflow.TwoDVort[UNSflow.TwoDVort(-0.998663,-0.0180489,0.0230819,0.02,-0.0928772,-0.353793),UNSflow.TwoDVort(-1.00681,-0.00681996,0.017095,0.02,0.099322,-0.316559),UNSflow.TwoDVort(-1.02343,7.61561e-5,0.0190251,0.02,0.159971,-0.243752),UNSflow.TwoDVort(-1.04132,0.00460766,0.0207697,0.02,0.230602,-0.178839),UNSflow.TwoDVort(-1.06015,0.00792694,0.0231211,0.02,0.313128,-0.0170698),UNSflow.TwoDVort(-1.08018,0.00865178,0.0261295,0.02,0.0953863,0.394941)],UNSflow.TwoDVort[]),UNSflow.TwoDFlowField(UNSflow.ConstDef(0.0),UNSflow.ConstDef(0.0),[0.0],[0.0],UNSflow.TwoDVort[UNSflow.TwoDVort(-0.044975,-0.246148,-0.110496,0.02,-0.104413,0.0957156),UNSflow.TwoDVort(-0.0235289,-0.260415,-0.00403091,0.02,0.491528,0.460217),UNSflow.TwoDVort(-0.051667,-0.278097,-0.0133575,0.02,0.477647,-0.146395),UNSflow.TwoDVort(-0.0788833,-0.276476,-0.00978628,0.02,0.218757,-0.30812),UNSflow.TwoDVort(-0.0988543,-0.270929,-0.0077078,0.02,0.0866959,-0.311116),UNSflow.TwoDVort(-0.115687,-0.265666,-0.00572892,0.02,0.0275854,-0.291038)],UNSflow.TwoDVort[UNSflow.TwoDVort(-0.98875,-0.00980028,0.00871503,0.02,0.153958,-0.205556),UNSflow.TwoDVort(-1.00257,-0.00171366,0.00347908,0.02,0.224567,-0.148367),UNSflow.TwoDVort(-1.02036,0.00039392,-0.00281217,0.02,0.252522,-0.152869)],UNSflow.TwoDVort[]),UNSflow.TwoDFlowField(UNSflow.ConstDef(0.0),UNSflow.ConstDef(0.0),[0.0],[0.0],UNSflow.TwoDVort[UNSflow.TwoDVort(-0.0432518,-0.248967,-0.0830341,0.02,-0.062742,0.09111),UNSflow.TwoDVort(-0.0328015,-0.266707,-0.00196809,0.02,0.458152,0.178507),UNSflow.TwoDVort(-0.0593747,-0.275581,-0.0100772,0.02,0.303447,-0.192193),UNSflow.TwoDVort(-0.0821511,-0.272413,-0.00684624,0.02,0.122927,-0.247273),UNSflow.TwoDVort(-0.100015,-0.267897,-0.0056377,0.02,0.0471824,-0.233734),UNSflow.TwoDVort(-0.116053,-0.263936,-0.00453707,0.02,0.0158283,-0.217283)],UNSflow.TwoDVort[],UNSflow.TwoDVort[])],11)"
      ]
     },
     "execution_count": 36,
     "metadata": {},
     "output_type": "execute_result"
    }
   ],
   "source": [
    "kelv = kelvkutta"
   ]
  },
  {
   "cell_type": "code",
   "execution_count": 37,
   "metadata": {
    "collapsed": false,
    "scrolled": true
   },
   "outputs": [],
   "source": [
    "val = zeros(kelv.surf3d.nspan + kelv.nshed)\n",
    "bc = zeros(kelv.surf3d.nspan)\n",
    "\n",
    "    cntr = kelv.surf3d.nspan + 1\n",
    "\n",
    "for i = 1:kelv.surf3d.nspan\n",
    "        nlev = length(kelv.field[i].lev)\n",
    "        ntev = length(kelv.field[i].tev)\n",
    "       \n",
    "\n",
    "        #Update incduced velocities on airfoil\n",
    "        update_indbound(kelv.surf[i], kelv.field[i])\n",
    "\n",
    "        #Calculate downwash\n",
    "        update_downwash(kelv.surf[i], [kelv.field[i].u[1],kelv.field[i].w[1]])\n",
    "\n",
    "        #Calculate first two fourier coefficients\n",
    "        update_a0anda1(kelv.surf[i])\n",
    "\n",
    "        bc[i] = kelv.surf[i].a0[1] + 0.5*kelv.surf[i].aterm[1]\n",
    "\n",
    "        val[i] = kelv.surf[i].uref*kelv.surf[i].c*pi*(kelv.surf[i].a0[1] + kelv.surf[i].aterm[1]/2.)\n",
    "\n",
    "        for iv = 1:ntev\n",
    "            val[i] = val[i] + kelv.field[i].tev[iv].s\n",
    "        end\n",
    "        for iv = 1:nlev\n",
    "            val[i] = val[i] + kelv.field[i].lev[iv].s\n",
    "        end\n",
    "\n",
    "        if kelv.surf[i].levflag[1] == 1\n",
    "            if kelv.surf[i].a0[1] > 0\n",
    "                lesp_cond = kelv.surf[i].lespcrit[1]\n",
    "            else\n",
    "                lesp_cond = -kelv.surf[i].lespcrit[1]\n",
    "            end\n",
    "            val[cntr-1] = kelv.surf[i].a0[1] - lesp_cond\n",
    "        end\n",
    "    end\n",
    "\n",
    "    AR = kelv.surf3d.bref/kelv.surf3d.cref\n",
    "    lhs = zeros(kelv.surf3d.nspan,kelv.surf3d.nbterm)\n",
    "    rhs = zeros(kelv.surf3d.nspan)\n",
    "    bcoeff = zeros(kelv.surf3d.nbterm)\n",
    "\n",
    "    for j = 1:kelv.surf3d.nspan\n",
    "        for n = 1:kelv.surf3d.nbterm\n",
    "            lhs[j,n] = sin(n*kelv.surf3d.psi[j])*(sin(kelv.surf3d.psi[j]) + (n*pi/(2*AR)))\n",
    "        end\n",
    "        rhs[j] = pi*sin(kelv.surf3d.psi[j])*bc[j]/(2*AR)\n",
    "    end\n",
    "    bcoeff[:] = \\(lhs, rhs)\n",
    "\n",
    "    a03d = zeros(kelv.surf3d.nspan)\n",
    "\n",
    "    for j = 1:kelv.surf3d.nspan\n",
    "        a03d[j] = 0\n",
    "        for n = 1:kelv.surf3d.nbterm\n",
    "            a03d[j] = a03d[j] - real(n)*bcoeff[n]*sin(n*kelv.surf3d.psi[j])/sin(kelv.surf3d.psi[j])\n",
    "        end\n",
    "    end\n",
    "\n",
    "    cntr = kelv.surf3d.nspan + 1\n",
    "    for i = 1:kelv.surf3d.nspan\n",
    "        val[i] = val[i] + kelv.surf[i].uref*kelv.surf[i].c*pi*a03d[i]\n",
    "        if kelv.surf[i].levflag[1] == 1\n",
    "            val[cntr] = val[cntr] + a03d[i]\n",
    "            cntr += 1\n",
    "        end\n",
    "    end"
   ]
  },
  {
   "cell_type": "code",
   "execution_count": 38,
   "metadata": {
    "collapsed": false
   },
   "outputs": [
    {
     "data": {
      "text/plain": [
       "26-element Array{Float64,1}:\n",
       "  0.002045  \n",
       "  0.00442343\n",
       "  0.00778323\n",
       "  0.00835507\n",
       "  0.0090758 \n",
       "  0.00937502\n",
       "  0.00956895\n",
       "  0.00960792\n",
       "  0.00956895\n",
       "  0.00937502\n",
       "  0.0090758 \n",
       "  0.00835507\n",
       "  0.00778323\n",
       "  0.00442343\n",
       "  0.002045  \n",
       "  0.0121353 \n",
       " -0.0102592 \n",
       " -0.00200781\n",
       " -0.00380561\n",
       " -0.00230897\n",
       " -0.00303555\n",
       " -0.00230897\n",
       " -0.00380561\n",
       " -0.00200781\n",
       " -0.0102592 \n",
       "  0.0121353 "
      ]
     },
     "execution_count": 38,
     "metadata": {},
     "output_type": "execute_result"
    }
   ],
   "source": [
    "val"
   ]
  },
  {
   "cell_type": "code",
   "execution_count": null,
   "metadata": {
    "collapsed": true
   },
   "outputs": [],
   "source": []
  }
 ],
 "metadata": {
  "anaconda-cloud": {},
  "kernelspec": {
   "display_name": "Julia 0.5.0-rc4",
   "language": "julia",
   "name": "julia-0.5"
  },
  "language_info": {
   "file_extension": ".jl",
   "mimetype": "application/julia",
   "name": "julia",
   "version": "0.5.0"
  }
 },
 "nbformat": 4,
 "nbformat_minor": 1
}
