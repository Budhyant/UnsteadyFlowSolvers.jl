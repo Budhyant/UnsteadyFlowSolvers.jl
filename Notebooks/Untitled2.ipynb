{
 "cells": [
  {
   "cell_type": "code",
   "execution_count": 4,
   "metadata": {
    "collapsed": false
   },
   "outputs": [
    {
     "data": {
      "text/plain": [
       "4626"
      ]
     },
     "execution_count": 4,
     "metadata": {},
     "output_type": "execute_result"
    }
   ],
   "source": [
    "c_d = 0.2\n",
    "b_d = 6\n",
    "AR = b_d/c_d\n",
    "\n",
    "u_d = 10\n",
    "f_d = 0.8889\n",
    "k = 2*pi*f_d*c_d/(2*u_d)\n",
    "\n",
    "#_dAll values below are nondimensional\n",
    "c = 1\n",
    "u = 1\n",
    "w = 2*k\n",
    "T = (2*pi/w)\n",
    "ncyc = 4\n",
    "t_tot = ncyc*T \n",
    "\n",
    "modedata = readdlm(\"../test/anto_mode1.dat\");\n",
    "mode_spl = Spline1D(modedata[:,3],modedata[:,4])\n",
    "\n",
    "n_span = 20\n",
    "n_bterm = 40\n",
    "\n",
    "psi = zeros(n_span)\n",
    "\n",
    "for i = 1:n_span\n",
    "    psi[i] = (real(i)/(n_span+1))*pi\n",
    "end\n",
    "\n",
    "#Run LDVM at all these locations:\n",
    "alpha_amp = 5*pi/180\n",
    "\n",
    "h_amp = zeros(n_span)\n",
    "for i = 1:n_span    \n",
    "    y_d = -b_d*cos(psi[i])/2.\n",
    "    h_amp[i] = evaluate(mode_spl,y_d)/c_d\n",
    "end\n",
    "\n",
    "dtstar = 0.015*0.2*2/(k*maximum(h_amp))\n",
    "nsteps =round(Int,t_tot/dtstar)+1\n",
    "\n"
   ]
  },
  {
   "cell_type": "code",
   "execution_count": 6,
   "metadata": {
    "collapsed": false
   },
   "outputs": [
    {
     "data": {
      "text/plain": [
       "11.249859376757792"
      ]
     },
     "execution_count": 6,
     "metadata": {},
     "output_type": "execute_result"
    }
   ],
   "source": [
    "pi*c_d/k"
   ]
  },
  {
   "cell_type": "code",
   "execution_count": 8,
   "metadata": {
    "collapsed": false
   },
   "outputs": [
    {
     "name": "stderr",
     "output_type": "stream",
     "text": [
      "\n",
      "WARNING: deprecated syntax \"call(eld::EldUpDef, ...)\".\n",
      "Use \"(eld::EldUpDef)(...)\" instead.\n",
      "\n",
      "WARNING: deprecated syntax \"call(eld::EldUptstartDef, ...)\".\n",
      "Use \"(eld::EldUptstartDef)(...)\" instead.\n",
      "\n",
      "WARNING: deprecated syntax \"call(cons::ConstDef, ...)\".\n",
      "Use \"(cons::ConstDef)(...)\" instead.\n",
      "\n",
      "WARNING: deprecated syntax \"call(eld::EldRampReturnDef, ...)\".\n",
      "Use \"(eld::EldRampReturnDef)(...)\" instead.\n",
      "\n",
      "WARNING: deprecated syntax \"call(kin::SinDef, ...)\".\n",
      "Use \"(kin::SinDef)(...)\" instead.\n",
      "\n",
      "WARNING: deprecated syntax \"call(kin::CosDef, ...)\".\n",
      "Use \"(kin::CosDef)(...)\" instead.\n",
      "WARNING: Base.ASCIIString is deprecated, use String instead.\n",
      "  likely near /Users/kiran/Documents/Projects/UNSflow/src/types.jl:294\n",
      "WARNING: Base.ASCIIString is deprecated, use String instead.\n",
      "  likely near /Users/kiran/Documents/Projects/UNSflow/src/types.jl:294\n",
      "WARNING: Base.ASCIIString is deprecated, use String instead.\n",
      "  likely near /Users/kiran/Documents/Projects/UNSflow/src/types.jl:486\n",
      "WARNING: Base.ASCIIString is deprecated, use String instead.\n",
      "  likely near /Users/kiran/Documents/Projects/UNSflow/src/types.jl:486\n",
      "WARNING: Base.ASCIIString is deprecated, use String instead.\n",
      "  likely near /Users/kiran/Documents/Projects/UNSflow/src/types.jl:606\n",
      "WARNING: Base.ASCIIString is deprecated, use String instead.\n",
      "  likely near /Users/kiran/Documents/Projects/UNSflow/src/types.jl:674\n",
      "\n",
      "WARNING: deprecated syntax \"call(eld::EldUpIntDef, ...)\".\n",
      "Use \"(eld::EldUpIntDef)(...)\" instead.\n",
      "\n",
      "WARNING: deprecated syntax \"call(eld::EldUpInttstartDef, ...)\".\n",
      "Use \"(eld::EldUpInttstartDef)(...)\" instead.\n",
      "\n",
      "WARNING: deprecated syntax \"call(kelv::KelvinCondition, ...)\".\n",
      "Use \"(kelv::KelvinCondition)(...)\" instead.\n",
      "\n",
      "WARNING: deprecated syntax \"call(kelv::KelvinCondition2DOF, ...)\".\n",
      "Use \"(kelv::KelvinCondition2DOF)(...)\" instead.\n",
      "\n",
      "WARNING: deprecated syntax \"call(kelv::KelvinCondition2DFree, ...)\".\n",
      "Use \"(kelv::KelvinCondition2DFree)(...)\" instead.\n",
      "\n",
      "WARNING: deprecated syntax \"call(kelv::KelvinConditionwFlap, ...)\".\n",
      "Use \"(kelv::KelvinConditionwFlap)(...)\" instead.\n",
      "\n",
      "WARNING: deprecated syntax \"call(kelv::KelvinKutta, ...)\".\n",
      "Use \"(kelv::KelvinKutta)(...)\" instead.\n",
      "\n",
      "WARNING: deprecated syntax \"call(kelv::KelvinKutta2DOF, ...)\".\n",
      "Use \"(kelv::KelvinKutta2DOF)(...)\" instead.\n",
      "\n",
      "WARNING: deprecated syntax \"call(kelv::KelvinKutta2DFree, ...)\".\n",
      "Use \"(kelv::KelvinKutta2DFree)(...)\" instead.\n",
      "\n",
      "WARNING: deprecated syntax \"call(kelv::KelvinKuttawFlap, ...)\".\n",
      "Use \"(kelv::KelvinKuttawFlap)(...)\" instead.\n",
      "WARNING: Base.ASCIIString is deprecated, use String instead.\n",
      "  likely near /Users/kiran/Documents/Projects/UNSflow/src/calculations.jl:610\n"
     ]
    },
    {
     "data": {
      "text/plain": [
       "0-element Array{UNSflow.TwoDFlowField,1}"
      ]
     },
     "execution_count": 8,
     "metadata": {},
     "output_type": "execute_result"
    }
   ],
   "source": [
    "include(\"../src/UNSflow.jl\")\n",
    "using UNSflow\n",
    "mat = Array{Float64,2}[]\n",
    "surf = TwoDSurf[]\n",
    "curfield = TwoDFlowField[]"
   ]
  },
  {
   "cell_type": "code",
   "execution_count": 9,
   "metadata": {
    "collapsed": false
   },
   "outputs": [
    {
     "data": {
      "text/plain": [
       "10×5 Array{Float64,2}:\n",
       " 0.0  0.0  0.0  0.0  0.0\n",
       " 0.0  0.0  0.0  0.0  0.0\n",
       " 0.0  0.0  0.0  0.0  0.0\n",
       " 0.0  0.0  0.0  0.0  0.0\n",
       " 0.0  0.0  0.0  0.0  0.0\n",
       " 0.0  0.0  0.0  0.0  0.0\n",
       " 0.0  0.0  0.0  0.0  0.0\n",
       " 0.0  0.0  0.0  0.0  0.0\n",
       " 0.0  0.0  0.0  0.0  0.0\n",
       " 0.0  0.0  0.0  0.0  0.0"
      ]
     },
     "execution_count": 9,
     "metadata": {},
     "output_type": "execute_result"
    }
   ],
   "source": [
    "m = zeros(10,5)"
   ]
  },
  {
   "cell_type": "code",
   "execution_count": 11,
   "metadata": {
    "collapsed": false
   },
   "outputs": [
    {
     "data": {
      "text/plain": [
       "2-element Array{Array{Float64,2},1}:\n",
       " [0.0 0.0 0.0 0.0 0.0; 0.0 0.0 0.0 0.0 0.0; 0.0 0.0 0.0 0.0 0.0; 0.0 0.0 0.0 0.0 0.0; 0.0 0.0 0.0 0.0 0.0; 0.0 0.0 0.0 0.0 0.0; 0.0 0.0 0.0 0.0 0.0; 0.0 0.0 0.0 0.0 0.0; 0.0 0.0 0.0 0.0 0.0; 0.0 0.0 0.0 0.0 0.0]\n",
       " [0.0 0.0 0.0 0.0 0.0; 0.0 0.0 0.0 0.0 0.0; 0.0 0.0 0.0 0.0 0.0; 0.0 0.0 0.0 0.0 0.0; 0.0 0.0 0.0 0.0 0.0; 0.0 0.0 0.0 0.0 0.0; 0.0 0.0 0.0 0.0 0.0; 0.0 0.0 0.0 0.0 0.0; 0.0 0.0 0.0 0.0 0.0; 0.0 0.0 0.0 0.0 0.0]"
      ]
     },
     "execution_count": 11,
     "metadata": {},
     "output_type": "execute_result"
    }
   ],
   "source": [
    "push!(mat,m)"
   ]
  },
  {
   "cell_type": "code",
   "execution_count": 13,
   "metadata": {
    "collapsed": false
   },
   "outputs": [
    {
     "data": {
      "text/plain": [
       "1-element Array{Int64,1}:\n",
       " 21"
      ]
     },
     "execution_count": 13,
     "metadata": {},
     "output_type": "execute_result"
    }
   ],
   "source": [
    "alphadef = ConstDef(alpha_amp)\n",
    "udef = ConstDef(u)\n",
    "pvt = 0.0 #Doesnt matter, no pitch\n",
    "lespcrit = [21;] #high value to turn off LEV shedding"
   ]
  },
  {
   "cell_type": "code",
   "execution_count": 1,
   "metadata": {
    "collapsed": false
   },
   "outputs": [
    {
     "data": {
      "text/plain": [
       "5"
      ]
     },
     "execution_count": 1,
     "metadata": {},
     "output_type": "execute_result"
    }
   ],
   "source": [
    "5"
   ]
  },
  {
   "cell_type": "code",
   "execution_count": null,
   "metadata": {
    "collapsed": true
   },
   "outputs": [],
   "source": []
  }
 ],
 "metadata": {
  "kernelspec": {
   "display_name": "Julia 0.5.0-rc4",
   "language": "julia",
   "name": "julia-0.5"
  },
  "language_info": {
   "file_extension": ".jl",
   "mimetype": "application/julia",
   "name": "julia",
   "version": "0.5.0"
  }
 },
 "nbformat": 4,
 "nbformat_minor": 1
}
