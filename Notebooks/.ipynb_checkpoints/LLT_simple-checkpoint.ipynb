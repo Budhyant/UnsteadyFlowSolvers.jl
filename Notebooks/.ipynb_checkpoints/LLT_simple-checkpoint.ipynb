{
 "cells": [
  {
   "cell_type": "markdown",
   "metadata": {},
   "source": [
    "# A simple LLT extension to LDVM to account for finite (large) aspect ratios"
   ]
  },
  {
   "cell_type": "code",
   "execution_count": 1,
   "metadata": {
    "collapsed": false
   },
   "outputs": [
    {
     "name": "stderr",
     "output_type": "stream",
     "text": [
      "WARNING: Method definition redirect_stderr(Function, Any) in module Compat at /Users/kiran/.julia/v0.4/Compat/src/Compat.jl:1597 overwritten in module Compat at /Users/kiran/.julia/v0.4/Compat/src/Compat.jl:1597.\n",
      "WARNING: Method definition unescape_string(Any, AbstractString) in module Compat at /Users/kiran/.julia/v0.4/Compat/src/Compat.jl:1573 overwritten in module Compat at /Users/kiran/.julia/v0.4/Compat/src/Compat.jl:1573.\n",
      "WARNING: Method definition write(Main.Base.IO, Main.Base.IO) in module Compat at /Users/kiran/.julia/v0.4/Compat/src/Compat.jl:1078 overwritten in module Compat at /Users/kiran/.julia/v0.4/Compat/src/Compat.jl:1078.\n",
      "WARNING: Method definition write(AbstractString, Any...) in module Compat at /Users/kiran/.julia/v0.4/Compat/src/Compat.jl:1067 overwritten in module Compat at /Users/kiran/.julia/v0.4/Compat/src/Compat.jl:1067.\n",
      "WARNING: Method definition call(Type{Symbol}, Any...) in module Compat at /Users/kiran/.julia/v0.4/Compat/src/Compat.jl:413 overwritten in module Compat at /Users/kiran/.julia/v0.4/Compat/src/Compat.jl:413.\n",
      "WARNING: Method definition call(Type{Union{UTF8String, ASCIIString}}, Main.Base.AbstractIOBuffer{T<:AbstractArray{UInt8, 1}}) in module Compat at /Users/kiran/.julia/v0.4/Compat/src/Compat.jl:1492 overwritten in module Compat at /Users/kiran/.julia/v0.4/Compat/src/Compat.jl:1492.\n",
      "WARNING: Method definition call(Type{Union{UTF8String, ASCIIString}}, Main.Base.Cstring) in module Compat at /Users/kiran/.julia/v0.4/Compat/src/Compat.jl:1497 overwritten in module Compat at /Users/kiran/.julia/v0.4/Compat/src/Compat.jl:1497.\n",
      "WARNING: Method definition call(Type{Union{UTF8String, ASCIIString}}, Array{UInt8, 1}) in module Compat at /Users/kiran/.julia/v0.4/Compat/src/Compat.jl:1498 overwritten in module Compat at /Users/kiran/.julia/v0.4/Compat/src/Compat.jl:1498.\n",
      "WARNING: Method definition call(Type{Union{UTF8String, ASCIIString}}, Union{Ptr{UInt8}, Ptr{Int8}}) in module Compat at /Users/kiran/.julia/v0.4/Compat/src/Compat.jl:1499 overwritten in module Compat at /Users/kiran/.julia/v0.4/Compat/src/Compat.jl:1499.\n",
      "WARNING: Method definition call(Type{Union{UTF8String, ASCIIString}}, Union{Ptr{UInt8}, Ptr{Int8}}, Integer) in module Compat at /Users/kiran/.julia/v0.4/Compat/src/Compat.jl:1500 overwritten in module Compat at /Users/kiran/.julia/v0.4/Compat/src/Compat.jl:1500.\n",
      "WARNING: Method definition call(Type{Union{UTF8String, ASCIIString}}, AbstractString) in module Compat at /Users/kiran/.julia/v0.4/Compat/src/Compat.jl:1501 overwritten in module Compat at /Users/kiran/.julia/v0.4/Compat/src/Compat.jl:1501.\n",
      "WARNING: Method definition read!(AbstractString, Any) in module Compat at /Users/kiran/.julia/v0.4/Compat/src/Compat.jl:1070 overwritten in module Compat at /Users/kiran/.julia/v0.4/Compat/src/Compat.jl:1070.\n",
      "WARNING: Method definition precision(Type{Main.Base.MPFR.BigFloat}) in module Compat at /Users/kiran/.julia/v0.4/Compat/src/Compat.jl:1115 overwritten in module Compat at /Users/kiran/.julia/v0.4/Compat/src/Compat.jl:1115.\n",
      "WARNING: Method definition escape_string(Any, AbstractString, AbstractString) in module Compat at /Users/kiran/.julia/v0.4/Compat/src/Compat.jl:1575 overwritten in module Compat at /Users/kiran/.julia/v0.4/Compat/src/Compat.jl:1575.\n",
      "WARNING: Method definition readlines(AbstractString) in module Compat at /Users/kiran/.julia/v0.4/Compat/src/Compat.jl:1073 overwritten in module Compat at /Users/kiran/.julia/v0.4/Compat/src/Compat.jl:1073.\n",
      "WARNING: Method definition readavailable(Main.Base.IOStream) in module Compat at /Users/kiran/.julia/v0.4/Compat/src/Compat.jl:1074 overwritten in module Compat at /Users/kiran/.julia/v0.4/Compat/src/Compat.jl:1074.\n",
      "WARNING: Method definition readavailable(Main.Base.AbstractIOBuffer{Array{UInt8, 1}}) in module Compat at /Users/kiran/.julia/v0.4/Compat/src/Compat.jl:1075 overwritten in module Compat at /Users/kiran/.julia/v0.4/Compat/src/Compat.jl:1075.\n",
      "WARNING: Method definition eachline(AbstractString) in module Compat at /Users/kiran/.julia/v0.4/Compat/src/Compat.jl:1084 overwritten in module Compat at /Users/kiran/.julia/v0.4/Compat/src/Compat.jl:1084.\n",
      "WARNING: Method definition remotecall_wait(Function, Main.Base.LocalProcess, Any...) in module Compat at /Users/kiran/.julia/v0.4/Compat/src/Compat.jl:991 overwritten in module Compat at /Users/kiran/.julia/v0.4/Compat/src/Compat.jl:991.\n",
      "WARNING: Method definition remotecall_wait(Function, Main.Base.Worker, Any...) in module Compat at /Users/kiran/.julia/v0.4/Compat/src/Compat.jl:992 overwritten in module Compat at /Users/kiran/.julia/v0.4/Compat/src/Compat.jl:992.\n",
      "WARNING: Method definition remotecall_wait(Function, Integer, Any...) in module Compat at /Users/kiran/.julia/v0.4/Compat/src/Compat.jl:993 overwritten in module Compat at /Users/kiran/.julia/v0.4/Compat/src/Compat.jl:993.\n",
      "WARNING: Method definition redirect_stdout(Function, Any) in module Compat at /Users/kiran/.julia/v0.4/Compat/src/Compat.jl:1597 overwritten in module Compat at /Users/kiran/.julia/v0.4/Compat/src/Compat.jl:1597.\n",
      "WARNING: Method definition join(Main.Base.IO, Any) in module Compat at /Users/kiran/.julia/v0.4/Compat/src/Compat.jl:1567 overwritten in module Compat at /Users/kiran/.julia/v0.4/Compat/src/Compat.jl:1567.\n",
      "WARNING: Method definition join(Main.Base.IO, Any, Any) in module Compat at /Users/kiran/.julia/v0.4/Compat/src/Compat.jl:1569 overwritten in module Compat at /Users/kiran/.julia/v0.4/Compat/src/Compat.jl:1569.\n",
      "WARNING: Method definition join(Main.Base.IO, Any, Any, Any) in module Compat at /Users/kiran/.julia/v0.4/Compat/src/Compat.jl:1571 overwritten in module Compat at /Users/kiran/.julia/v0.4/Compat/src/Compat.jl:1571.\n",
      "WARNING: Method definition cor(AbstractArray{T<:Any, 2}, AbstractArray{T<:Any, 2}, Integer) in module Compat at /Users/kiran/.julia/v0.4/Compat/src/Compat.jl:1057 overwritten in module Compat at /Users/kiran/.julia/v0.4/Compat/src/Compat.jl:1057.\n",
      "WARNING: Method definition cor(AbstractArray{T<:Any, 2}, Integer) in module Compat at /Users/kiran/.julia/v0.4/Compat/src/Compat.jl:1056 overwritten in module Compat at /Users/kiran/.julia/v0.4/Compat/src/Compat.jl:1056.\n",
      "WARNING: Method definition remotecall_fetch(Function, Main.Base.LocalProcess, Any...) in module Compat at /Users/kiran/.julia/v0.4/Compat/src/Compat.jl:991 overwritten in module Compat at /Users/kiran/.julia/v0.4/Compat/src/Compat.jl:991.\n",
      "WARNING: Method definition remotecall_fetch(Function, Main.Base.Worker, Any...) in module Compat at /Users/kiran/.julia/v0.4/Compat/src/Compat.jl:992 overwritten in module Compat at /Users/kiran/.julia/v0.4/Compat/src/Compat.jl:992.\n",
      "WARNING: Method definition remotecall_fetch(Function, Integer, Any...) in module Compat at /Users/kiran/.julia/v0.4/Compat/src/Compat.jl:993 overwritten in module Compat at /Users/kiran/.julia/v0.4/Compat/src/Compat.jl:993.\n",
      "WARNING: Method definition show(Main.Base.IO, Any, Any) in module Compat at /Users/kiran/.julia/v0.4/Compat/src/Compat.jl:1580 overwritten in module Compat at /Users/kiran/.julia/v0.4/Compat/src/Compat.jl:1580.\n",
      "WARNING: Method definition readline(AbstractString) in module Compat at /Users/kiran/.julia/v0.4/Compat/src/Compat.jl:1072 overwritten in module Compat at /Users/kiran/.julia/v0.4/Compat/src/Compat.jl:1072.\n",
      "WARNING: Method definition cov(AbstractArray{T<:Any, 1}, AbstractArray{T<:Any, 1}, Bool) in module Compat at /Users/kiran/.julia/v0.4/Compat/src/Compat.jl:1052 overwritten in module Compat at /Users/kiran/.julia/v0.4/Compat/src/Compat.jl:1052.\n",
      "WARNING: Method definition cov(AbstractArray{T<:Any, 2}, AbstractArray{T<:Any, 2}, Integer) in module Compat at /Users/kiran/.julia/v0.4/Compat/src/Compat.jl:1053 overwritten in module Compat at /Users/kiran/.julia/v0.4/Compat/src/Compat.jl:1053.\n",
      "WARNING: Method definition cov(AbstractArray{T<:Any, 2}, AbstractArray{T<:Any, 2}, Integer, Bool) in module Compat at /Users/kiran/.julia/v0.4/Compat/src/Compat.jl:1054 overwritten in module Compat at /Users/kiran/.julia/v0.4/Compat/src/Compat.jl:1054.\n",
      "WARNING: Method definition cov(AbstractArray{T<:Any, 1}, Bool) in module Compat at /Users/kiran/.julia/v0.4/Compat/src/Compat.jl:1049 overwritten in module Compat at /Users/kiran/.julia/v0.4/Compat/src/Compat.jl:1049.\n",
      "WARNING: Method definition cov(AbstractArray{T<:Any, 2}, Integer) in module Compat at /Users/kiran/.julia/v0.4/Compat/src/Compat.jl:1050 overwritten in module Compat at /Users/kiran/.julia/v0.4/Compat/src/Compat.jl:1050.\n",
      "WARNING: Method definition cov(AbstractArray{T<:Any, 2}, Integer, Bool) in module Compat at /Users/kiran/.julia/v0.4/Compat/src/Compat.jl:1051 overwritten in module Compat at /Users/kiran/.julia/v0.4/Compat/src/Compat.jl:1051.\n",
      "WARNING: Method definition read(Main.Base.IO) in module Compat at /Users/kiran/.julia/v0.4/Compat/src/Compat.jl:1064 overwritten in module Compat at /Users/kiran/.julia/v0.4/Compat/src/Compat.jl:1064.\n",
      "WARNING: Method definition read(Main.Base.IO, Any) in module Compat at /Users/kiran/.julia/v0.4/Compat/src/Compat.jl:1065 overwritten in module Compat at /Users/kiran/.julia/v0.4/Compat/src/Compat.jl:1065.\n",
      "WARNING: Method definition read(AbstractString, Any...) in module Compat at /Users/kiran/.julia/v0.4/Compat/src/Compat.jl:1069 overwritten in module Compat at /Users/kiran/.julia/v0.4/Compat/src/Compat.jl:1069.\n",
      "WARNING: Method definition readuntil(AbstractString, Any...) in module Compat at /Users/kiran/.julia/v0.4/Compat/src/Compat.jl:1071 overwritten in module Compat at /Users/kiran/.julia/v0.4/Compat/src/Compat.jl:1071.\n",
      "WARNING: Method definition redirect_stdin(Function, Any) in module Compat at /Users/kiran/.julia/v0.4/Compat/src/Compat.jl:1597 overwritten in module Compat at /Users/kiran/.julia/v0.4/Compat/src/Compat.jl:1597.\n",
      "WARNING: Method definition remotecall(Function, Main.Base.LocalProcess, Any...) in module Compat at /Users/kiran/.julia/v0.4/Compat/src/Compat.jl:991 overwritten in module Compat at /Users/kiran/.julia/v0.4/Compat/src/Compat.jl:991.\n",
      "WARNING: Method definition remotecall(Function, Main.Base.Worker, Any...) in module Compat at /Users/kiran/.julia/v0.4/Compat/src/Compat.jl:992 overwritten in module Compat at /Users/kiran/.julia/v0.4/Compat/src/Compat.jl:992.\n",
      "WARNING: Method definition remotecall(Function, Integer, Any...) in module Compat at /Users/kiran/.julia/v0.4/Compat/src/Compat.jl:993 overwritten in module Compat at /Users/kiran/.julia/v0.4/Compat/src/Compat.jl:993.\n",
      "WARNING: Method definition remote_do(Function, Main.Base.LocalProcess, Any...) in module Compat at /Users/kiran/.julia/v0.4/Compat/src/Compat.jl:991 overwritten in module Compat at /Users/kiran/.julia/v0.4/Compat/src/Compat.jl:991.\n",
      "WARNING: Method definition remote_do(Function, Main.Base.Worker, Any...) in module Compat at /Users/kiran/.julia/v0.4/Compat/src/Compat.jl:992 overwritten in module Compat at /Users/kiran/.julia/v0.4/Compat/src/Compat.jl:992.\n",
      "WARNING: Method definition remote_do(Function, Integer, Any...) in module Compat at /Users/kiran/.julia/v0.4/Compat/src/Compat.jl:993 overwritten in module Compat at /Users/kiran/.julia/v0.4/Compat/src/Compat.jl:993.\n",
      "/Users/kiran/.julia/v0.4/Conda/deps/usr/lib/python2.7/site-packages/matplotlib/font_manager.py:273: UserWarning: Matplotlib is building the font cache using fc-list. This may take a moment.\n",
      "  warnings.warn('Matplotlib is building the font cache using fc-list. This may take a moment.')\n",
      "\n",
      "WARNING: deprecated syntax \"run (\" at /Users/kiran/Documents/Projects/UNSflow/src/postprocess.jl:280.\n",
      "Use \"run(\" instead.\n"
     ]
    }
   ],
   "source": [
    "workspace()\n",
    "include(\"../src/UNSflow.jl\")\n",
    "using UNSflow\n"
   ]
  },
  {
   "cell_type": "code",
   "execution_count": 2,
   "metadata": {
    "collapsed": false
   },
   "outputs": [
    {
     "data": {
      "text/plain": [
       "0.0030534351145038168"
      ]
     },
     "execution_count": 2,
     "metadata": {},
     "output_type": "execute_result"
    }
   ],
   "source": [
    "#This repeoduces results from Case 3A in Ramesh et al. (2014)\n",
    "alpha_mean = 4*pi/180.\n",
    "alpha_amp = 22.5*pi/180.\n",
    "k = 3.93\n",
    "h_amp = 0.05\n",
    "phi = 90*pi/180\n",
    "\n",
    "w = 2*k #Frequency\n",
    "T = (2*pi/w) #Period\n",
    "t_tot = 2*T  #Desired total time\n",
    "dt = 0.015*0.2*4/k #time step calculation\n"
   ]
  },
  {
   "cell_type": "code",
   "execution_count": 3,
   "metadata": {
    "collapsed": false
   },
   "outputs": [
    {
     "data": {
      "text/plain": [
       "UNSflow.TwoDSurf(1.0,1.0,\"FlatPlate\",0.0,70,35,\"Prescribed\",UNSflow.KinemDef(UNSflow.CosDef(0.06981317007977318,0.39269908169872414,3.93,1.5707963267948966),UNSflow.CosDef(0.0,0.05,3.93,0.0),UNSflow.ConstDef(1.0)),[0.0,0.0,0.0,0.0,0.0,0.0,0.0,0.0,0.0,0.0  …  0.0,0.0,0.0,0.0,0.0,0.0,0.0,0.0,0.0,0.0],[0.0,0.0,0.0,0.0,0.0,0.0,0.0,0.0,0.0,0.0  …  0.0,0.0,0.0,0.0,0.0,0.0,0.0,0.0,0.0,0.0],[0.0,0.0455303,0.0910607,0.136591,0.182121,0.227652,0.273182,0.318712,0.364243,0.409773  …  2.73182,2.77735,2.82288,2.86841,2.91394,2.95947,3.005,3.05053,3.09606,3.14159],[0.0,0.000518163,0.00207158,0.00465703,0.00826915,0.0129005,0.0185414,0.0251802,0.0328031,0.0413943  …  0.958606,0.967197,0.97482,0.981459,0.9871,0.991731,0.995343,0.997928,0.999482,1.0],UNSflow.KinemPar(0.06981317007977321,0.05,-1.543307391075986,-0.0,1.0,0.0),[-1.0,-0.999483,-0.997933,-0.995354,-0.991751,-0.987131,-0.981504,-0.974881,-0.967277,-0.958706  …  -0.0437295,-0.0351591,-0.0275548,-0.0209321,-0.015305,-0.010685,-0.00708163,-0.00450248,-0.00295285,-0.00243595],[0.05,0.0499639,0.0498555,0.0496751,0.0494232,0.0491001,0.0487066,0.0482435,0.0477118,0.0471125  …  -0.0168689,-0.0174682,-0.018,-0.0184631,-0.0188566,-0.0191796,-0.0194316,-0.019612,-0.0197203,-0.0197565],[0.0,0.0,0.0,0.0,0.0,0.0,0.0,0.0,0.0,0.0  …  0.0,0.0,0.0,0.0,0.0,0.0,0.0,0.0,0.0,0.0],[0.0,0.0,0.0,0.0,0.0,0.0,0.0,0.0,0.0,0.0  …  0.0,0.0,0.0,0.0,0.0,0.0,0.0,0.0,0.0,0.0],[0.0,0.0,0.0,0.0,0.0,0.0,0.0,0.0,0.0,0.0  …  0.0,0.0,0.0,0.0,0.0,0.0,0.0,0.0,0.0,0.0],[0.0],[0.0,0.0,0.0,0.0,0.0,0.0,0.0,0.0,0.0,0.0  …  0.0,0.0,0.0,0.0,0.0,0.0,0.0,0.0,0.0,0.0],[0.0],[0.0,0.0,0.0],[0.0],[0.0,0.0,0.0],[UNSflow.TwoDVort(0.0,0.0,0.0,0.02,0.0,0.0),UNSflow.TwoDVort(0.0,0.0,0.0,0.02,0.0,0.0),UNSflow.TwoDVort(0.0,0.0,0.0,0.02,0.0,0.0),UNSflow.TwoDVort(0.0,0.0,0.0,0.02,0.0,0.0),UNSflow.TwoDVort(0.0,0.0,0.0,0.02,0.0,0.0),UNSflow.TwoDVort(0.0,0.0,0.0,0.02,0.0,0.0),UNSflow.TwoDVort(0.0,0.0,0.0,0.02,0.0,0.0),UNSflow.TwoDVort(0.0,0.0,0.0,0.02,0.0,0.0),UNSflow.TwoDVort(0.0,0.0,0.0,0.02,0.0,0.0),UNSflow.TwoDVort(0.0,0.0,0.0,0.02,0.0,0.0)  …  UNSflow.TwoDVort(0.0,0.0,0.0,0.02,0.0,0.0),UNSflow.TwoDVort(0.0,0.0,0.0,0.02,0.0,0.0),UNSflow.TwoDVort(0.0,0.0,0.0,0.02,0.0,0.0),UNSflow.TwoDVort(0.0,0.0,0.0,0.02,0.0,0.0),UNSflow.TwoDVort(0.0,0.0,0.0,0.02,0.0,0.0),UNSflow.TwoDVort(0.0,0.0,0.0,0.02,0.0,0.0),UNSflow.TwoDVort(0.0,0.0,0.0,0.02,0.0,0.0),UNSflow.TwoDVort(0.0,0.0,0.0,0.02,0.0,0.0),UNSflow.TwoDVort(0.0,0.0,0.0,0.02,0.0,0.0),UNSflow.TwoDVort(0.0,0.0,0.0,0.02,0.0,0.0)],[0.21],Int8[0])"
      ]
     },
     "execution_count": 3,
     "metadata": {},
     "output_type": "execute_result"
    }
   ],
   "source": [
    "#CosDef arguments are mean, amplitude, k (red. freq.), phase (all in radians)\n",
    "alphadef = CosDef(4*pi/180, 22.5*pi/180, 3.93, 90*pi/180)\n",
    "hdef = CosDef(0., 0.05, 3.93, 0.)\n",
    "udef = ConstDef(1.)\n",
    "full_kinem = KinemDef(alphadef, hdef, udef)\n",
    "\n",
    "pvt = 0.25\n",
    "\n",
    "lespcrit = [0.21;]\n",
    "\n",
    "pvt = 0.0 #leading edge\n",
    "\n",
    "surf = TwoDSurf(1., 1., \"FlatPlate\", pvt, 70, 35, \"Prescribed\", full_kinem, lespcrit)\n"
   ]
  },
  {
   "cell_type": "code",
   "execution_count": 4,
   "metadata": {
    "collapsed": false
   },
   "outputs": [
    {
     "data": {
      "text/plain": [
       "525"
      ]
     },
     "execution_count": 4,
     "metadata": {},
     "output_type": "execute_result"
    }
   ],
   "source": [
    "curfield = TwoDFlowField()\n",
    "\n",
    "nsteps =round(Int,t_tot/dt)+1\n"
   ]
  },
  {
   "cell_type": "code",
   "execution_count": 5,
   "metadata": {
    "collapsed": false
   },
   "outputs": [
    {
     "data": {
      "text/plain": [
       "(\n",
       "525x9 Array{Float64,2}:\n",
       " 0.00305344  0.0651009   0.0499964  1.0  …  -25.8406    230.128     -0.578564\n",
       " 0.00610687  0.0603893   0.0499856  1.0      -0.410881    0.791245  -0.552148\n",
       " 0.00916031  0.0556791   0.0499676  1.0      -0.555263    3.51063   -0.558934\n",
       " 0.0122137   0.0509709   0.0499424  1.0      -0.640003    5.66169   -0.594695\n",
       " 0.0152672   0.0462654   0.04991    1.0      -0.638519    6.30845   -0.637476\n",
       " 0.0183206   0.0415633   0.0498705  1.0  …   -0.607831    6.43665   -0.680969\n",
       " 0.021374    0.0368652   0.0498237  1.0      -0.560033    6.20227   -0.721927\n",
       " 0.0244275   0.0321719   0.0497698  1.0      -0.508031    5.78564   -0.758429\n",
       " 0.0274809   0.0274841   0.0497087  1.0      -0.460655    5.38231   -0.790553\n",
       " 0.0305344   0.0228023   0.0496404  1.0      -0.419571    5.06369   -0.818968\n",
       " 0.0335878   0.0181273   0.049565   1.0  …   -0.383815    4.85521   -0.844664\n",
       " 0.0366412   0.0134597   0.0494825  1.0      -0.351383    4.74619   -0.868753\n",
       " 0.0396947   0.00880029  0.0493928  1.0      -0.320493    4.7076    -0.892334\n",
       " ⋮                                       ⋱                                   \n",
       " 1.56947     0.114946    0.0496687  1.0      -1.3134      4.46225   -1.63885 \n",
       " 1.57252     0.110262    0.0497341  1.0      -1.26753     4.412     -1.63282 \n",
       " 1.57557     0.105572    0.0497923  1.0  …   -1.21645     4.28246   -1.62541 \n",
       " 1.57863     0.100877    0.0498433  1.0      -1.16782     4.17246   -1.61687 \n",
       " 1.58168     0.0961769   0.0498872  1.0      -1.12475     4.17294   -1.60857 \n",
       " 1.58473     0.0914734   0.0499239  1.0      -1.09087     4.19481   -1.60018 \n",
       " 1.58779     0.0867667   0.0499534  1.0      -1.04752     4.16591   -1.59151 \n",
       " 1.59084     0.0820576   0.0499757  1.0  …   -0.997265    4.1094    -1.58277 \n",
       " 1.59389     0.0773468   0.0499908  1.0      -0.955649    4.09823   -1.5743  \n",
       " 1.59695     0.0726348   0.0499987  1.0      -0.914102    4.12429   -1.5667  \n",
       " 1.6         0.0679225   0.0499994  1.0      -0.871795    4.15659   -1.55999 \n",
       " 1.60305     0.0632104   0.0499929  1.0      -0.830086    4.15239   -1.55343 ,\n",
       "\n",
       "UNSflow.TwoDSurf(1.0,1.0,\"FlatPlate\",0.0,70,35,\"Prescribed\",UNSflow.KinemDef(UNSflow.CosDef(0.06981317007977318,0.39269908169872414,3.93,1.5707963267948966),UNSflow.CosDef(0.0,0.05,3.93,0.0),UNSflow.ConstDef(1.0)),[0.0,0.0,0.0,0.0,0.0,0.0,0.0,0.0,0.0,0.0  …  0.0,0.0,0.0,0.0,0.0,0.0,0.0,0.0,0.0,0.0],[0.0,0.0,0.0,0.0,0.0,0.0,0.0,0.0,0.0,0.0  …  0.0,0.0,0.0,0.0,0.0,0.0,0.0,0.0,0.0,0.0],[0.0,0.0455303,0.0910607,0.136591,0.182121,0.227652,0.273182,0.318712,0.364243,0.409773  …  2.73182,2.77735,2.82288,2.86841,2.91394,2.95947,3.005,3.05053,3.09606,3.14159],[0.0,0.000518163,0.00207158,0.00465703,0.00826915,0.0129005,0.0185414,0.0251802,0.0328031,0.0413943  …  0.958606,0.967197,0.97482,0.981459,0.9871,0.991731,0.995343,0.997928,0.999482,1.0],UNSflow.KinemPar(0.06321036679981033,0.04999293181917079,-1.5430892235616822,-0.003303931445167215,1.0,0.0),[-2.60305,-2.60254,-2.60099,-2.59841,-2.5948,-2.59018,-2.58455,-2.57792,-2.57032,-2.56174  …  -1.64638,-1.6378,-1.6302,-1.62357,-1.61794,-1.61332,-1.60971,-1.60713,-1.60558,-1.60507],[0.0499879,0.0499552,0.049857,0.0496937,0.0494655,0.049173,0.0488167,0.0483973,0.0479158,0.0473731  …  -0.010565,-0.0111077,-0.0115892,-0.0120086,-0.0123649,-0.0126574,-0.0128856,-0.0130489,-0.0131471,-0.0131798],[-3.15918,-3.16381,-3.1769,-3.19642,-3.22035,-3.24786,-3.27861,-3.31077,-3.34148,-3.37133  …  0.764453,0.800598,0.835014,0.867178,0.895643,0.919295,0.93799,0.951695,0.96013,0.962985],[0.276812,0.294975,0.347429,0.427603,0.523686,0.620165,0.707775,0.79622,0.895947,0.992625  …  1.00082,1.08148,1.17282,1.26445,1.33607,1.37424,1.3851,1.38191,1.37558,1.37273],[-0.143165,-0.160199,-0.209325,-0.284116,-0.372921,-0.460324,-0.537112,-0.613104,-0.69893,-0.780271  …  0.365638,0.296112,0.214548,0.131312,0.0667358,0.0342938,0.0278546,0.034158,0.0423436,0.0458072],[-0.20999421841574015],[-0.568957,-0.629725,0.182488,0.314348,0.328023,0.0936584,0.0468189,-0.151213,-0.169086,0.0555225  …  -0.015568,-0.00155849,0.00107645,0.0104138,0.00943161,-0.00401706,-0.0016958,0.00484195,0.000105108,-0.0052926],[-8.224615295208796],[12.490872639450341,11.268818777355936,6.113533338537655],[-0.20999421841574015],[-0.5689566577231789,-0.6297251886995462,0.18248775598335937],[UNSflow.TwoDVort(-2.6027948749692165,0.04997152215316759,-0.019028286011549055,0.02,0.0,0.0),UNSflow.TwoDVort(-2.6017611702934462,0.049906093750615985,-0.018676927018816965,0.02,0.0,0.0),UNSflow.TwoDVort(-2.5996959034527,0.049775372555868364,-0.01807588313507815,0.02,0.0,0.0),UNSflow.TwoDVort(-2.5966033550278866,0.04957962950856282,-0.01740019317255377,0.02,0.0,0.0),UNSflow.TwoDVort(-2.592489934797867,0.049319270316056193,-0.01680736055569415,0.02,0.0,0.0),UNSflow.TwoDVort(-2.5873641684542115,0.0489948346125335,-0.016386525162134402,0.02,0.0,0.0),UNSflow.TwoDVort(-2.5812366799304103,0.04860699484053371,-0.016194926327771864,0.02,0.0,0.0),UNSflow.TwoDVort(-2.5741201693821383,0.048156554857209946,-0.01628786873690024,0.02,0.0,0.0),UNSflow.TwoDVort(-2.5660293868642388,0.04764444826821286,-0.016786039205870497,0.02,0.0,0.0),UNSflow.TwoDVort(-2.5569811017589967,0.047071736492650146,-0.01792204727136416,0.02,0.0,0.0)  …  UNSflow.TwoDVort(-1.6511384280063819,-0.01026363258903798,0.0061565873020685445,0.02,0.0,0.0),UNSflow.TwoDVort(-1.6420901429011412,-0.010836344364600792,0.005836657845313939,0.02,0.0,0.0),UNSflow.TwoDVort(-1.6339993603832408,-0.011348450953597801,0.005337464216541991,0.02,0.0,0.0),UNSflow.TwoDVort(-1.6268828498349657,-0.011798890936921614,0.004424543666572281,0.02,0.0,0.0),UNSflow.TwoDVort(-1.620755361311166,-0.0121867307089214,0.0031930008507125743,0.02,0.0,0.0),UNSflow.TwoDVort(-1.6156295949675132,-0.012511166412444279,0.002001330270244879,0.02,0.0,0.0),UNSflow.TwoDVort(-1.6115161747374924,-0.012771525604950922,0.0010925348527550032,0.02,0.0,0.0),UNSflow.TwoDVort(-1.608423626312679,-0.012967268652256378,0.0004928248484053377,0.02,0.0,0.0),UNSflow.TwoDVort(-1.6063583594719333,-0.013097989847003826,0.00015795396802339287,0.02,0.0,0.0),UNSflow.TwoDVort(-1.6053246547961617,-0.013163418249555414,2.5719233856426746e-5,0.02,0.0,0.0)],[0.21],Int8[1]),UNSflow.TwoDFlowField(UNSflow.ConstDef(0.0),UNSflow.ConstDef(0.0),[0.0],[0.0],[UNSflow.TwoDVort(-0.0904910054586513,0.7378613175799528,0.5785642020793986,0.02,-0.05300686979208219,0.10087674868078078),UNSflow.TwoDVort(-0.10946467711248402,0.8095340680231495,-0.026416312141285134,0.02,1.0925422304909682,0.31108812700736066),UNSflow.TwoDVort(-0.2644338384720983,0.693264545892616,0.006786000678388533,0.02,-0.7346048326630402,1.761167096056391),UNSflow.TwoDVort(-0.18739716654336214,0.7773237671995232,0.03576145757849872,0.02,0.21030508501692233,1.2090359828023272),UNSflow.TwoDVort(-0.18900349717492404,0.6873785321971592,0.04278078551438895,0.02,-0.6950323925787,1.1767301330745417),UNSflow.TwoDVort(-0.20947033153980127,0.7298775230028735,0.043493228989873775,0.02,-0.25215510764986715,1.4146254050682336),UNSflow.TwoDVort(-0.13345262791488788,0.5926958859572546,0.04095737916081793,0.02,-1.4035162127230336,0.6687863845621872),UNSflow.TwoDVort(-0.2137548195130878,0.6548865305304087,0.036502444938287165,0.02,-1.1594126167958911,1.5675842496969175),UNSflow.TwoDVort(-0.1855800904215481,0.6559693842349256,0.03212381838469268,0.02,-1.1320245958511113,1.059766559114034),UNSflow.TwoDVort(-0.16591177066972707,0.6155930487855125,0.02841450941876001,0.02,-1.2629337542140968,1.12549158222331)  …  UNSflow.TwoDVort(-1.5438563721909726,-0.02386922902615746,0.021794893253808005,0.02,1.1174080386831795,0.66108710948811),UNSflow.TwoDVort(-1.5499976091190089,-0.02115298069225576,0.021452353965966443,0.02,1.120112931971113,0.7140691356249249),UNSflow.TwoDVort(-1.5561549940336017,-0.018614247090781088,0.021054702537401382,0.02,1.127718745176445,0.7767252711142205),UNSflow.TwoDVort(-1.5623248107428997,-0.016271739894911992,0.02068320534841494,0.02,1.1353864416072055,0.8526652801962137),UNSflow.TwoDVort(-1.568470843335964,-0.014129350043199068,0.020348963308715783,0.02,1.1430294949306246,0.9442244250076786),UNSflow.TwoDVort(-1.5746215858955945,-0.012220920536251744,0.020073709536045866,0.02,1.1466368706553276,1.0582004728335217),UNSflow.TwoDVort(-1.5808120692436485,-0.010651470372837585,0.019878015378972776,0.02,1.1349101092770675,1.1933395669037805),UNSflow.TwoDVort(-1.5870045686335998,-0.009515973879208169,0.01969423263090774,0.02,1.1021347895404006,1.3334372716256595),UNSflow.TwoDVort(-1.593123456639971,-0.008837773512909798,0.019516115517714924,0.02,1.0533414409905029,1.4506381786955165),UNSflow.TwoDVort(-1.5991078466731703,-0.00854533738338525,0.019357462219259554,0.02,0.9987020435041392,1.5273244779337687)],[UNSflow.TwoDVort(-0.7948117264535279,-0.8316047391792334,-0.0022093196938810554,0.02,-0.06794068602861514,-0.6270842417717825),UNSflow.TwoDVort(-0.7934622520350378,-0.8315664458531808,-0.0027907025184526614,0.02,-0.06204071639866178,-0.6074774313148443),UNSflow.TwoDVort(-0.8094091383807565,-0.8475845370197037,-0.0031287435569509656,0.02,0.13252497930222013,-0.8060405072301144),UNSflow.TwoDVort(-0.7991576384026867,-0.8469764160455685,-0.0035834738362900795,0.02,0.17024138422959123,-0.6576984228927452),UNSflow.TwoDVort(-0.798191724270716,-0.8446493463834467,-0.0040711505785338935,0.02,0.13477592094405588,-0.6472943635219813),UNSflow.TwoDVort(-0.7988382231838426,-0.843154034049485,-0.00451378108334169,0.02,0.10617451699843664,-0.6612039293627852),UNSflow.TwoDVort(-0.7992518955962531,-0.8414075193691766,-0.0049033438840074455,0.02,0.07371368812499543,-0.6718054042441578),UNSflow.TwoDVort(-0.7983027192504975,-0.8391118593673447,-0.005260217335415377,0.02,0.03694189586191416,-0.661182023116287),UNSflow.TwoDVort(-0.7942128022765967,-0.8369128192998085,-0.005594948059200567,0.02,0.016159927090935375,-0.6011400196309441),UNSflow.TwoDVort(-0.7864669615264488,-0.8388870363897342,-0.005909175740828232,0.02,0.08187964529403907,-0.4863753920254514)  …  UNSflow.TwoDVort(-2.6152083045165804,-0.018886112706709233,-0.029205234362039353,0.02,0.41162703166827586,-2.226207611651275),UNSflow.TwoDVort(-2.619158420817747,-0.012438172601353418,-0.029985008289548885,0.02,0.14856531009178187,-2.346837978561351),UNSflow.TwoDVort(-2.622276948805048,-0.005525760108335839,-0.02935746162429103,0.02,-0.14172113885255744,-2.4143741317452254),UNSflow.TwoDVort(-2.6248676385495076,0.0016293482752645005,-0.029069347877686745,0.02,-0.4883018297244529,-2.4589080720054213),UNSflow.TwoDVort(-2.6265503989829586,0.008946523798509298,-0.029028044431266806,0.02,-0.8800501617459178,-2.4701236574615795),UNSflow.TwoDVort(-2.6272108530351135,0.016287821808498602,-0.02881441759862787,0.02,-1.3097771695422977,-2.4436044999198314),UNSflow.TwoDVort(-2.626548340702401,0.02353324504888153,-0.028338516031169145,0.02,-1.7582634389234573,-2.3639667835724874),UNSflow.TwoDVort(-2.6242854918714444,0.030548142029716535,-0.027300431814701744,0.02,-2.1956388418855424,-2.2104946521126654),UNSflow.TwoDVort(-2.620566831042189,0.03717022983480399,-0.02622150095104693,0.02,-2.634597120728801,-1.9383919210181295),UNSflow.TwoDVort(-2.6155187173244947,0.04304297489725375,-0.02591912697598371,0.02,-3.048699908575996,-1.5213286070114171)],UNSflow.TwoDVort[]))"
      ]
     },
     "execution_count": 5,
     "metadata": {},
     "output_type": "execute_result"
    }
   ],
   "source": [
    "mat, surf, curfield = ldvm(surf, curfield, nsteps, dt)"
   ]
  },
  {
   "cell_type": "code",
   "execution_count": 6,
   "metadata": {
    "collapsed": false
   },
   "outputs": [
    {
     "data": {
      "text/plain": [
       "525-element Array{Float64,1}:\n",
       " -0.578564\n",
       " -0.552148\n",
       " -0.558934\n",
       " -0.594695\n",
       " -0.637476\n",
       " -0.680969\n",
       " -0.721927\n",
       " -0.758429\n",
       " -0.790553\n",
       " -0.818968\n",
       " -0.844664\n",
       " -0.868753\n",
       " -0.892334\n",
       "  ⋮       \n",
       " -1.63885 \n",
       " -1.63282 \n",
       " -1.62541 \n",
       " -1.61687 \n",
       " -1.60857 \n",
       " -1.60018 \n",
       " -1.59151 \n",
       " -1.58277 \n",
       " -1.5743  \n",
       " -1.5667  \n",
       " -1.55999 \n",
       " -1.55343 "
      ]
     },
     "execution_count": 6,
     "metadata": {},
     "output_type": "execute_result"
    }
   ],
   "source": [
    "bnd_circ2d = mat[:,9]"
   ]
  },
  {
   "cell_type": "code",
   "execution_count": 7,
   "metadata": {
    "collapsed": false
   },
   "outputs": [
    {
     "data": {
      "text/plain": [
       "525"
      ]
     },
     "execution_count": 7,
     "metadata": {},
     "output_type": "execute_result"
    }
   ],
   "source": [
    "n_step = length(bnd_circ2d)"
   ]
  },
  {
   "cell_type": "code",
   "execution_count": 8,
   "metadata": {
    "collapsed": false
   },
   "outputs": [
    {
     "data": {
      "text/plain": [
       "1"
      ]
     },
     "execution_count": 8,
     "metadata": {},
     "output_type": "execute_result"
    }
   ],
   "source": [
    "c = 1"
   ]
  },
  {
   "cell_type": "code",
   "execution_count": 9,
   "metadata": {
    "collapsed": false
   },
   "outputs": [
    {
     "data": {
      "text/plain": [
       "4"
      ]
     },
     "execution_count": 9,
     "metadata": {},
     "output_type": "execute_result"
    }
   ],
   "source": [
    "s = 4 #semispan"
   ]
  },
  {
   "cell_type": "code",
   "execution_count": 10,
   "metadata": {
    "collapsed": false
   },
   "outputs": [
    {
     "data": {
      "text/plain": [
       "1"
      ]
     },
     "execution_count": 10,
     "metadata": {},
     "output_type": "execute_result"
    }
   ],
   "source": [
    "u = 1"
   ]
  },
  {
   "cell_type": "code",
   "execution_count": 11,
   "metadata": {
    "collapsed": false
   },
   "outputs": [
    {
     "data": {
      "text/plain": [
       "10"
      ]
     },
     "execution_count": 11,
     "metadata": {},
     "output_type": "execute_result"
    }
   ],
   "source": [
    "n_bterm = 20\n",
    "n_span = 10"
   ]
  },
  {
   "cell_type": "code",
   "execution_count": 22,
   "metadata": {
    "collapsed": false
   },
   "outputs": [
    {
     "data": {
      "text/plain": [
       "525-element Array{Float64,1}:\n",
       " -215.517   \n",
       "  -11.426   \n",
       "   -4.04811 \n",
       "    2.7299  \n",
       "    4.20911 \n",
       "    4.29834 \n",
       "    3.808   \n",
       "    2.92371 \n",
       "    2.03916 \n",
       "    1.25421 \n",
       "    0.645943\n",
       "    0.274114\n",
       "    0.178721\n",
       "    ⋮       \n",
       "   -9.12206 \n",
       "   -9.25713 \n",
       "   -9.60491 \n",
       "   -9.89329 \n",
       "   -9.8176  \n",
       "   -9.93684 \n",
       "  -10.0211  \n",
       "   -9.94857 \n",
       "   -9.86982 \n",
       "   -9.61452 \n",
       "   -9.33246 \n",
       "   -9.2898  "
      ]
     },
     "execution_count": 22,
     "metadata": {},
     "output_type": "execute_result"
    }
   ],
   "source": [
    "lhs = zeros(n_span,n_bterm)\n",
    "rhs = zeros(n_span)\n",
    "b_coeff = zeros(n_bterm)\n",
    "bcoeff_prev = zeros(n_bterm)\n",
    "bdot = zeros(n_bterm)\n",
    "sp_gam = zeros(nsteps,n_span)\n",
    "psi = zeros(n_span)\n",
    "dt = mat[2,1]-mat[1,1]\n",
    "cnc_f = zeros(nsteps)\n",
    "cnnc_f = zeros(nsteps)\n",
    "\n",
    "for i = 1:n_span\n",
    "    psi[i] = (real(i)/(n_span+1))*pi\n",
    "end\n",
    "\n",
    "for i = 1:nsteps\n",
    "    for j = 1:n_span\n",
    "        for n = 1:n_bterm\n",
    "            lhs[j,n] = sin(n*psi[j])*(sin(psi[j]) + (n*c*pi/(4*s)))\n",
    "        end\n",
    "        rhs[j] = c*pi*sin(psi[j])*bnd_circ2d[i]/(4*s)\n",
    "    end\n",
    "    bcoeff_prev = b_coeff\n",
    "    b_coeff = \\(lhs, rhs)\n",
    "    bdot = (b_coeff - bcoeff_prev)/dt    \n",
    "    for j = 1:n_span\n",
    "        sp_gam[i,j] = 0\n",
    "        for n = 1:n_bterm\n",
    "            sp_gam[i,j] = sp_gam[i,j] + 4*s*u*b_coeff[n]*sin(n*psi[j])\n",
    "        end\n",
    "    end\n",
    "    sum_bcoeff = 0\n",
    "    for n = 1:n_bterm\n",
    "        if rem(n,2) != 0 \n",
    "            sum_bcoeff = sum_bcoeff + b_coeff[n]\n",
    "        end\n",
    "    end\n",
    "    cnc_f[i] = -2*pi*(surf.kinem.u*cos(surf.kinem.alpha)/surf.uref + surf.kinem.hdot*sin(surf.kinem.alpha)/surf.uref)*(sum_bcoeff)\n",
    "    sum_bdot = 0\n",
    "    for n = 1:n_bterm\n",
    "        if rem(n,2) != 0 \n",
    "            sum_bdot = sum_bdot + bdot[n]\n",
    "        end\n",
    "    end \n",
    "    cnnc_f[i] = -(2*pi*surf.c/(surf.uref))*sum_bdot\n",
    "end\n",
    "\n",
    "cl_2d = mat[:,6]\n",
    "cl_3d = mat[:,6] + cnc_f + cnnc_f"
   ]
  },
  {
   "cell_type": "code",
   "execution_count": 23,
   "metadata": {
    "collapsed": false
   },
   "outputs": [
    {
     "data": {
      "text/plain": [
       "525-element Array{Float64,1}:\n",
       " 0.00305344\n",
       " 0.00610687\n",
       " 0.00916031\n",
       " 0.0122137 \n",
       " 0.0152672 \n",
       " 0.0183206 \n",
       " 0.021374  \n",
       " 0.0244275 \n",
       " 0.0274809 \n",
       " 0.0305344 \n",
       " 0.0335878 \n",
       " 0.0366412 \n",
       " 0.0396947 \n",
       " ⋮         \n",
       " 1.56947   \n",
       " 1.57252   \n",
       " 1.57557   \n",
       " 1.57863   \n",
       " 1.58168   \n",
       " 1.58473   \n",
       " 1.58779   \n",
       " 1.59084   \n",
       " 1.59389   \n",
       " 1.59695   \n",
       " 1.6       \n",
       " 1.60305   "
      ]
     },
     "execution_count": 23,
     "metadata": {},
     "output_type": "execute_result"
    }
   ],
   "source": [
    "tim = mat[:,1] \n"
   ]
  },
  {
   "cell_type": "code",
   "execution_count": 25,
   "metadata": {
    "collapsed": false
   },
   "outputs": [
    {
     "data": {
      "text/plain": [
       "1-element Array{Any,1}:\n",
       " PyObject <matplotlib.lines.Line2D object at 0x3206d17d0>"
      ]
     },
     "execution_count": 25,
     "metadata": {},
     "output_type": "execute_result"
    }
   ],
   "source": [
    "plot(tim,cl_2d)"
   ]
  },
  {
   "cell_type": "markdown",
   "metadata": {},
   "source": [
    "### Corrected circulation distribution on the wing has been calculated. Now need expressions for forces and moments."
   ]
  },
  {
   "cell_type": "code",
   "execution_count": null,
   "metadata": {
    "collapsed": true
   },
   "outputs": [],
   "source": [
    "sum_bcoeff = 0\n",
    "for i = 2:nsteps\n",
    "    bdot[]\n",
    "for i = 1:n_bterm\n",
    "    if rem(i,2) != 0 \n",
    "        sum_bcoeff = sum_bcoeff + b_coeff[i]\n",
    "    end\n",
    "end\n",
    "cnc_F = -2*pi*(surf.kinem.u*cos(surf.kinem.alpha)/surf.uref + surf.kinem.hdot*sin(surf.kinem.alpha)/surf.uref)*(sum_bcoeff)\n"
   ]
  }
 ],
 "metadata": {
  "kernelspec": {
   "display_name": "Julia 0.4.5",
   "language": "julia",
   "name": "julia-0.4"
  },
  "language_info": {
   "file_extension": ".jl",
   "mimetype": "application/julia",
   "name": "julia",
   "version": "0.4.5"
  }
 },
 "nbformat": 4,
 "nbformat_minor": 0
}
