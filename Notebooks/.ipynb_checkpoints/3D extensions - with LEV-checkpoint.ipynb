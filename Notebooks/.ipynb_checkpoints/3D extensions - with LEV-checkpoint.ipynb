{
 "cells": [
  {
   "cell_type": "markdown",
   "metadata": {},
   "source": [
    "### Testing 3D data type \n",
    "\n"
   ]
  },
  {
   "cell_type": "markdown",
   "metadata": {},
   "source": [
    "### First test a steady case - 5 deg AoA"
   ]
  },
  {
   "cell_type": "code",
   "execution_count": 1,
   "metadata": {
    "collapsed": false
   },
   "outputs": [
    {
     "data": {
      "text/plain": [
       "UNSflow"
      ]
     },
     "execution_count": 1,
     "metadata": {},
     "output_type": "execute_result"
    }
   ],
   "source": [
    "include(\"../src/UNSflow.jl\")\n",
    "    "
   ]
  },
  {
   "cell_type": "code",
   "execution_count": 2,
   "metadata": {
    "collapsed": false
   },
   "outputs": [],
   "source": [
    "using UNSflow"
   ]
  },
  {
   "cell_type": "markdown",
   "metadata": {},
   "source": [
    "### Run a 2D case first"
   ]
  },
  {
   "cell_type": "code",
   "execution_count": 3,
   "metadata": {
    "collapsed": false,
    "scrolled": true
   },
   "outputs": [
    {
     "name": "stderr",
     "output_type": "stream",
     "text": [
      "WARNING: slice is deprecated, use view instead.\n",
      " in depwarn(::String, ::Symbol) at ./deprecated.jl:64\n",
      " in slice(::Array{Float64,2}, ::Vararg{Any,N}) at ./deprecated.jl:30\n",
      " in sumabs2j at /Users/kramesh/.julia/v0.5/NLsolve/src/utils.jl:1 [inlined]\n",
      " in trust_region_(::NLsolve.DifferentiableMultivariateFunction, ::Array{Float64,1}, ::Float64, ::Float64, ::Int64, ::Bool, ::Bool, ::Bool, ::Float64, ::Bool) at /Users/kramesh/.julia/v0.5/NLsolve/src/trust_region.jl:105\n",
      " in #nlsolve#17(::Symbol, ::Float64, ::Float64, ::Int64, ::Bool, ::Bool, ::Bool, ::Function, ::Float64, ::Bool, ::NLsolve.#nlsolve, ::NLsolve.DifferentiableMultivariateFunction, ::Array{Float64,1}) at /Users/kramesh/.julia/v0.5/NLsolve/src/nlsolve_func_defs.jl:24\n",
      " in lautat(::UNSflow.TwoDSurf, ::UNSflow.TwoDFlowField, ::Int64, ::Float64, ::UNSflow.DelVortDef, ::Array{Float64,2}, ::Float64) at /Users/kramesh/Documents/Workspace/UNSflow/src/solvers.jl:30\n",
      " in lautat(::UNSflow.TwoDSurf, ::UNSflow.TwoDFlowField, ::Int64) at /Users/kramesh/Documents/Workspace/UNSflow/src/solvers.jl:3\n",
      " in include_string(::String, ::String) at ./loading.jl:441\n",
      " in execute_request(::ZMQ.Socket, ::IJulia.Msg) at /Users/kramesh/.julia/v0.5/IJulia/src/execute_request.jl:169\n",
      " in eventloop(::ZMQ.Socket) at /Users/kramesh/.julia/v0.5/IJulia/src/eventloop.jl:8\n",
      " in (::IJulia.##9#15)() at ./task.jl:360\n",
      "while loading In[3], in expression starting on line 10\n",
      "WARNING: slice is deprecated, use view instead.\n",
      " in depwarn(::String, ::Symbol) at ./deprecated.jl:64\n",
      " in slice(::Array{Float64,2}, ::Vararg{Any,N}) at ./deprecated.jl:30\n",
      " in sumabs2j at /Users/kramesh/.julia/v0.5/NLsolve/src/utils.jl:1 [inlined]\n",
      " in trust_region_(::NLsolve.DifferentiableMultivariateFunction, ::Array{Float64,1}, ::Float64, ::Float64, ::Int64, ::Bool, ::Bool, ::Bool, ::Float64, ::Bool) at /Users/kramesh/.julia/v0.5/NLsolve/src/trust_region.jl:145\n",
      " in #nlsolve#17(::Symbol, ::Float64, ::Float64, ::Int64, ::Bool, ::Bool, ::Bool, ::Function, ::Float64, ::Bool, ::NLsolve.#nlsolve, ::NLsolve.DifferentiableMultivariateFunction, ::Array{Float64,1}) at /Users/kramesh/.julia/v0.5/NLsolve/src/nlsolve_func_defs.jl:24\n",
      " in lautat(::UNSflow.TwoDSurf, ::UNSflow.TwoDFlowField, ::Int64, ::Float64, ::UNSflow.DelVortDef, ::Array{Float64,2}, ::Float64) at /Users/kramesh/Documents/Workspace/UNSflow/src/solvers.jl:30\n",
      " in lautat(::UNSflow.TwoDSurf, ::UNSflow.TwoDFlowField, ::Int64) at /Users/kramesh/Documents/Workspace/UNSflow/src/solvers.jl:3\n",
      " in include_string(::String, ::String) at ./loading.jl:441\n",
      " in execute_request(::ZMQ.Socket, ::IJulia.Msg) at /Users/kramesh/.julia/v0.5/IJulia/src/execute_request.jl:169\n",
      " in eventloop(::ZMQ.Socket) at /Users/kramesh/.julia/v0.5/IJulia/src/eventloop.jl:8\n",
      " in (::IJulia.##9#15)() at ./task.jl:360\n",
      "while loading In[3], in expression starting on line 10\n"
     ]
    },
    {
     "data": {
      "text/plain": [
       "(\n",
       "[0.015 0.0872665 … 0.836499 -4.48477; 0.03 0.0872665 … 0.0140932 -0.0898808; … ; 9.99 0.0872665 … 0.00277278 -0.128238; 10.005 0.0872665 … 0.0027687 -0.128251],\n",
       "\n",
       "UNSflow.TwoDSurf(1.0,1.0,\"FlatPlate\",0.0,70,35,UNSflow.KinemDef(UNSflow.ConstDef(0.08726646259971647),UNSflow.ConstDef(0.0),UNSflow.ConstDef(1.0)),[0.0,0.0,0.0,0.0,0.0,0.0,0.0,0.0,0.0,0.0  …  0.0,0.0,0.0,0.0,0.0,0.0,0.0,0.0,0.0,0.0],[0.0,0.0,0.0,0.0,0.0,0.0,0.0,0.0,0.0,0.0  …  0.0,0.0,0.0,0.0,0.0,0.0,0.0,0.0,0.0,0.0],[0.0,0.0455303,0.0910607,0.136591,0.182121,0.227652,0.273182,0.318712,0.364243,0.409773  …  2.73182,2.77735,2.82288,2.86841,2.91394,2.95947,3.005,3.05053,3.09606,3.14159],[0.0,0.000518163,0.00207158,0.00465703,0.00826915,0.0129005,0.0185414,0.0251802,0.0328031,0.0413943  …  0.958606,0.967197,0.97482,0.981459,0.9871,0.991731,0.995343,0.997928,0.999482,1.0],UNSflow.KinemPar(0.08726646259971647,0.0,0.0,0.0,1.0,0.0),[-11.005,-11.0045,-11.0029,-11.0004,-10.9968,-10.9921,-10.9865,-10.9799,-10.9723,-10.9638  …  -10.05,-10.0415,-10.0339,-10.0273,-10.0217,-10.017,-10.0134,-10.0109,-10.0093,-10.0088],[0.0,-4.51609e-5,-0.00018055,-0.000405887,-0.000720704,-0.00112435,-0.00161599,-0.00219459,-0.00285898,-0.00360776  …  -0.083548,-0.0842968,-0.0849611,-0.0855398,-0.0860314,-0.086435,-0.0867499,-0.0869752,-0.0871106,-0.0871557],[-6.55704e-5,-6.55569e-5,-6.55164e-5,-6.5449e-5,-6.53546e-5,-6.52333e-5,-6.50851e-5,-6.491e-5,-6.47082e-5,-6.44797e-5  …  -3.12587e-5,-3.06448e-5,-2.96966e-5,-2.78699e-5,-2.42814e-5,-1.85198e-5,-1.16949e-5,-5.58095e-6,-1.45144e-6,0.0],[-0.00472475,-0.00472514,-0.00472631,-0.00472825,-0.00473098,-0.00473448,-0.00473875,-0.00474381,-0.00474964,-0.00475624  …  -0.00625423,-0.00633433,-0.00641952,-0.00650418,-0.00657481,-0.00661703,-0.00663286,-0.00663568,-0.00663478,-0.00663411],[-0.0824433,-0.0824429,-0.0824417,-0.0824398,-0.0824371,-0.0824336,-0.0824293,-0.0824243,-0.0824185,-0.082412  …  -0.0809226,-0.0808428,-0.0807581,-0.0806739,-0.0806038,-0.0805623,-0.0805471,-0.0805448,-0.0805461,-0.0805469],[0.0818016],[-0.000803402,0.00023967,-0.000121326,0.0,0.0,0.0,0.0,0.0,0.0,0.0  …  0.0,0.0,0.0,0.0,0.0,0.0,0.0,0.0,0.0,0.0],[0.000556403],[0.000154646,-4.77533e-5,2.36629e-5],[0.0818016],[-0.000803402,0.00023967,-0.000121326],UNSflow.TwoDVort[UNSflow.TwoDVort(0.0,0.0,0.0,0.02,0.0,0.0),UNSflow.TwoDVort(0.0,0.0,0.0,0.02,0.0,0.0),UNSflow.TwoDVort(0.0,0.0,0.0,0.02,0.0,0.0),UNSflow.TwoDVort(0.0,0.0,0.0,0.02,0.0,0.0),UNSflow.TwoDVort(0.0,0.0,0.0,0.02,0.0,0.0),UNSflow.TwoDVort(0.0,0.0,0.0,0.02,0.0,0.0),UNSflow.TwoDVort(0.0,0.0,0.0,0.02,0.0,0.0),UNSflow.TwoDVort(0.0,0.0,0.0,0.02,0.0,0.0),UNSflow.TwoDVort(0.0,0.0,0.0,0.02,0.0,0.0),UNSflow.TwoDVort(0.0,0.0,0.0,0.02,0.0,0.0)  …  UNSflow.TwoDVort(0.0,0.0,0.0,0.02,0.0,0.0),UNSflow.TwoDVort(0.0,0.0,0.0,0.02,0.0,0.0),UNSflow.TwoDVort(0.0,0.0,0.0,0.02,0.0,0.0),UNSflow.TwoDVort(0.0,0.0,0.0,0.02,0.0,0.0),UNSflow.TwoDVort(0.0,0.0,0.0,0.02,0.0,0.0),UNSflow.TwoDVort(0.0,0.0,0.0,0.02,0.0,0.0),UNSflow.TwoDVort(0.0,0.0,0.0,0.02,0.0,0.0),UNSflow.TwoDVort(0.0,0.0,0.0,0.02,0.0,0.0),UNSflow.TwoDVort(0.0,0.0,0.0,0.02,0.0,0.0),UNSflow.TwoDVort(0.0,0.0,0.0,0.02,0.0,0.0)],[18.0],Int8[0]),UNSflow.TwoDFlowField(UNSflow.ConstDef(0.0),UNSflow.ConstDef(0.0),[0.0],[0.0],UNSflow.TwoDVort[UNSflow.TwoDVort(-0.0113053,-0.0871557,-0.0418654,0.02,0.0,0.0),UNSflow.TwoDVort(-0.0263053,-0.0871557,-0.00151901,0.02,0.0,0.0),UNSflow.TwoDVort(-0.0413053,-0.0871557,-0.00711251,0.02,0.0,0.0),UNSflow.TwoDVort(-0.0563053,-0.0871557,-0.00524814,0.02,0.0,0.0),UNSflow.TwoDVort(-0.0713053,-0.0871557,-0.00470959,0.02,0.0,0.0),UNSflow.TwoDVort(-0.0863053,-0.0871557,-0.00422562,0.02,0.0,0.0),UNSflow.TwoDVort(-0.101305,-0.0871557,-0.0038609,0.02,0.0,0.0),UNSflow.TwoDVort(-0.116305,-0.0871557,-0.00356712,0.02,0.0,0.0),UNSflow.TwoDVort(-0.131305,-0.0871557,-0.00332459,0.02,0.0,0.0),UNSflow.TwoDVort(-0.146305,-0.0871557,-0.00311983,0.02,0.0,0.0)  …  UNSflow.TwoDVort(-9.86631,-0.0871557,-3.06821e-5,0.02,0.0,0.0),UNSflow.TwoDVort(-9.88131,-0.0871557,-3.05896e-5,0.02,0.0,0.0),UNSflow.TwoDVort(-9.89631,-0.0871557,-3.04975e-5,0.02,0.0,0.0),UNSflow.TwoDVort(-9.91131,-0.0871557,-3.04058e-5,0.02,0.0,0.0),UNSflow.TwoDVort(-9.92631,-0.0871557,-3.03145e-5,0.02,0.0,0.0),UNSflow.TwoDVort(-9.94131,-0.0871557,-3.02236e-5,0.02,0.0,0.0),UNSflow.TwoDVort(-9.95631,-0.0871557,-3.0133e-5,0.02,0.0,0.0),UNSflow.TwoDVort(-9.97131,-0.0871557,-3.00428e-5,0.02,0.0,0.0),UNSflow.TwoDVort(-9.98631,-0.0871557,-2.99531e-5,0.02,0.0,0.0),UNSflow.TwoDVort(-10.0013,-0.0871557,-2.98636e-5,0.02,0.0,0.0)],UNSflow.TwoDVort[],UNSflow.TwoDVort[]),0.0)"
      ]
     },
     "execution_count": 3,
     "metadata": {},
     "output_type": "execute_result"
    }
   ],
   "source": [
    "alphadef = ConstDef(5.*pi/180)\n",
    "hdef = ConstDef(0.)\n",
    "udef = ConstDef(1.)\n",
    "kinemdef = KinemDef(alphadef, hdef, udef) \n",
    "pvt = 0.0 #leading edge\n",
    "lespcrit = [18.;]\n",
    "surf = TwoDSurf(\"FlatPlate\", pvt, kinemdef,lespcrit)\n",
    "curfield = TwoDFlowField()\n",
    "nsteps = Int(round(10./0.015))\n",
    "mat2d, surf2d, curfield2d = lautat(surf, curfield, nsteps)"
   ]
  },
  {
   "cell_type": "code",
   "execution_count": 4,
   "metadata": {
    "collapsed": false
   },
   "outputs": [
    {
     "data": {
      "image/png": "[encoded data removed]",
      "text/plain": [
       "PyPlot.Figure(PyObject <matplotlib.figure.Figure object at 0x318dad050>)"
      ]
     },
     "metadata": {},
     "output_type": "display_data"
    },
    {
     "data": {
      "text/plain": [
       "0.5140466862990686"
      ]
     },
     "execution_count": 4,
     "metadata": {},
     "output_type": "execute_result"
    }
   ],
   "source": [
    "plot(mat2d[:,1],mat2d[:,6])\n",
    "mat2d[end,6]"
   ]
  },
  {
   "cell_type": "code",
   "execution_count": 5,
   "metadata": {
    "collapsed": true
   },
   "outputs": [],
   "source": [
    "# Theoretical value (2*pi*alpha) = 0.5483\n",
    "# 2D value = 0.5142\n",
    "# Error = 6% lower"
   ]
  },
  {
   "cell_type": "code",
   "execution_count": 6,
   "metadata": {
    "collapsed": false
   },
   "outputs": [
    {
     "data": {
      "text/plain": [
       "UNSflow.KinemDef3D(UNSflow.ConstDef(0.08726646259971647),UNSflow.ConstDef(0.0),UNSflow.ConstDef(1.0),\"Constant\",0,[0.0])"
      ]
     },
     "execution_count": 6,
     "metadata": {},
     "output_type": "execute_result"
    }
   ],
   "source": [
    "cref = 1.\n",
    "bref = 10.\n",
    "sref = 10.\n",
    "\n",
    "patch1 = patch(0., -5., 0., 0., \"FlatPlate\", 1., 0., 0.11, 10)\n",
    "patch2 = patch(0., 0., 0., 0., \"FlatPlate\", 1., 0., 0.11, 10)\n",
    "patch3 = patch(0., 5., 0., 0., \"FlatPlate\", 1., 0., 0.11, 5)\n",
    "patchdata = [patch1; patch2; patch3]\n",
    "\n",
    "alphadef = ConstDef(5.*pi/180)\n",
    "hdef = ConstDef(0.)\n",
    "udef = ConstDef(1.)\n",
    "kin = KinemDef3D(alphadef, hdef, udef)\n",
    "\n",
    "\n",
    "\n"
   ]
  },
  {
   "cell_type": "code",
   "execution_count": null,
   "metadata": {
    "collapsed": false
   },
   "outputs": [],
   "source": [
    "surf = ThreeDSurf(cref, bref, sref, patchdata, kin, 1., 70, 35, 21)\n",
    "field = ThreeDFlowField()\n",
    "dtstar = 0.015\n",
    "nsteps =round(Int,10./dtstar) + 1\n",
    "mat3d, surf3d, field3d = QSLLT_lautat(surf, field, nsteps, dtstar)\n"
   ]
  },
  {
   "cell_type": "code",
   "execution_count": null,
   "metadata": {
    "collapsed": false
   },
   "outputs": [],
   "source": [
    "plot(mat3d[:,1],mat3d[:,2])"
   ]
  },
  {
   "cell_type": "code",
   "execution_count": null,
   "metadata": {
    "collapsed": false
   },
   "outputs": [],
   "source": [
    "# Theoretical value = 0.4569\n",
    "# 3D value from QSLLT = 0.4164\n",
    "# 8% error lower\n"
   ]
  },
  {
   "cell_type": "code",
   "execution_count": null,
   "metadata": {
    "collapsed": false
   },
   "outputs": [],
   "source": [
    "for i = 1:surf.nspan\n",
    "    plot(surf.yle[i], surf3d[i].a0[1], \"x\")\n",
    "end"
   ]
  },
  {
   "cell_type": "code",
   "execution_count": null,
   "metadata": {
    "collapsed": true
   },
   "outputs": [],
   "source": [
    "### Now try the pitch ramp case\n"
   ]
  },
  {
   "cell_type": "code",
   "execution_count": null,
   "metadata": {
    "collapsed": false,
    "scrolled": true
   },
   "outputs": [],
   "source": [
    "alphadef = EldUpDef(45.*pi/180, pi/8, 0.8)\n",
    "hdef = ConstDef(0.)\n",
    "udef = ConstDef(1.)\n",
    "kinemdef = KinemDef(alphadef, hdef, udef) \n",
    "pvt = 0.0 #leading edge\n",
    "lespcrit = [18.;]\n",
    "surf = TwoDSurf(\"FlatPlate\", pvt, kinemdef,lespcrit)\n",
    "\n",
    "curfield = TwoDFlowField()\n",
    "dtstar = 0.0075\n",
    "nsteps = Int(round(2.5/0.0075))\n",
    "mat2d, surf2d, curfield2d = lautat(surf, curfield, nsteps, dtstar)"
   ]
  },
  {
   "cell_type": "code",
   "execution_count": null,
   "metadata": {
    "collapsed": false
   },
   "outputs": [],
   "source": [
    "cref = 1.\n",
    "bref = 10.\n",
    "sref = 10.\n",
    "\n",
    "patch1 = patch(0., -5., 0., 0., \"FlatPlate\", 1., 0., 0.11, 10)\n",
    "patch2 = patch(0., 0., 0., 0., \"FlatPlate\", 1., 0., 0.11, 10)\n",
    "patch3 = patch(0., 5., 0., 0., \"FlatPlate\", 1., 0., 0.11, 5)\n",
    "patchdata = [patch1; patch2; patch3]\n",
    "\n",
    "alphadef = EldUpDef(45.*pi/180, pi/8, 0.8)\n",
    "hdef = ConstDef(0.)\n",
    "udef = ConstDef(1.)\n",
    "kin = KinemDef3D(alphadef, hdef, udef)\n",
    "\n",
    "\n",
    "\n",
    "\n"
   ]
  },
  {
   "cell_type": "code",
   "execution_count": null,
   "metadata": {
    "collapsed": false
   },
   "outputs": [],
   "source": [
    "surf = ThreeDSurf(cref, bref, sref, patchdata, kin, 1., 70, 35, 21)\n",
    "field = ThreeDFlowField()\n",
    "dtstar = 0.0075\n",
    "nsteps =round(Int,2.5/dtstar) + 1\n",
    "mat3d, surf3d, field3d = QSLLT_lautat(surf, field, nsteps, dtstar)\n",
    "\n"
   ]
  },
  {
   "cell_type": "code",
   "execution_count": null,
   "metadata": {
    "collapsed": false
   },
   "outputs": [],
   "source": [
    "plot(mat2d[:,1],mat2d[:,6])\n",
    "plot(mat3d[:,1], mat3d[:,2])"
   ]
  },
  {
   "cell_type": "code",
   "execution_count": null,
   "metadata": {
    "collapsed": false
   },
   "outputs": [],
   "source": [
    "matAR103d = mat3d\n",
    "surfAR103d = surf3d\n",
    "fieldAR103d = field3d"
   ]
  },
  {
   "cell_type": "code",
   "execution_count": null,
   "metadata": {
    "collapsed": false
   },
   "outputs": [],
   "source": [
    "cref = 1.\n",
    "bref = 6.\n",
    "sref = 6.\n",
    "\n",
    "patch1 = patch(0., -3., 0., 0., \"FlatPlate\", 1., 0., 0.11, 10)\n",
    "patch2 = patch(0., 0., 0., 0., \"FlatPlate\", 1., 0., 0.11, 10)\n",
    "patch3 = patch(0., 3., 0., 0., \"FlatPlate\", 1., 0., 0.11, 5)\n",
    "patchdata = [patch1; patch2; patch3]\n",
    "\n",
    "alphadef = EldUpDef(45.*pi/180, pi/8, 0.8)\n",
    "hdef = ConstDef(0.)\n",
    "udef = ConstDef(1.)\n",
    "kin = KinemDef3D(alphadef, hdef, udef)\n",
    "\n",
    "\n",
    "surf = ThreeDSurf(cref, bref, sref, patchdata, kin, 1., 70, 35, 21)\n",
    "field = ThreeDFlowField()\n",
    "dtstar = 0.0075\n",
    "nsteps =round(Int,2.5/dtstar) + 1\n",
    "mat3d, surf3d, field3d = QSLLT_lautat(surf, field, nsteps, dtstar)\n",
    "\n",
    "\n",
    "\n",
    "\n",
    "\n"
   ]
  },
  {
   "cell_type": "code",
   "execution_count": null,
   "metadata": {
    "collapsed": false
   },
   "outputs": [],
   "source": [
    "matAR63d = mat3d\n",
    "surfAR63d = surf3d\n",
    "fieldAR63d = field3d"
   ]
  },
  {
   "cell_type": "code",
   "execution_count": null,
   "metadata": {
    "collapsed": false
   },
   "outputs": [],
   "source": [
    "plot(mat2d[:,1],mat2d[:,6])\n",
    "plot(matAR103d[:,1], matAR103d[:,2])\n",
    "plot(matAR63d[:,1], matAR63d[:,2])"
   ]
  },
  {
   "cell_type": "code",
   "execution_count": null,
   "metadata": {
    "collapsed": false
   },
   "outputs": [],
   "source": [
    "cref = 1.\n",
    "bref = 4.\n",
    "sref = 4.\n",
    "\n",
    "patch1 = patch(0., -2., 0., 0., \"FlatPlate\", 1., 0., 0.11, 10)\n",
    "patch2 = patch(0., 0., 0., 0., \"FlatPlate\", 1., 0., 0.11, 10)\n",
    "patch3 = patch(0., 2., 0., 0., \"FlatPlate\", 1., 0., 0.11, 5)\n",
    "patchdata = [patch1; patch2; patch3]\n",
    "\n",
    "alphadef = EldUpDef(45.*pi/180, pi/8, 0.8)\n",
    "hdef = ConstDef(0.)\n",
    "udef = ConstDef(1.)\n",
    "kin = KinemDef3D(alphadef, hdef, udef)\n",
    "\n",
    "\n",
    "surf = ThreeDSurf(cref, bref, sref, patchdata, kin, 1., 70, 35, 21)\n",
    "field = ThreeDFlowField()\n",
    "dtstar = 0.0075\n",
    "nsteps =round(Int,2.5/dtstar) + 1\n",
    "mat3d, surf3d, field3d = QSLLT_lautat(surf, field, nsteps, dtstar)\n",
    "\n",
    "\n",
    "\n",
    "\n",
    "\n",
    "\n"
   ]
  },
  {
   "cell_type": "code",
   "execution_count": null,
   "metadata": {
    "collapsed": false
   },
   "outputs": [],
   "source": [
    "matAR43d = mat3d\n",
    "surfAR43d = surf3d\n",
    "fieldAR43d = field3d"
   ]
  },
  {
   "cell_type": "code",
   "execution_count": null,
   "metadata": {
    "collapsed": false
   },
   "outputs": [],
   "source": [
    "cref = 1.\n",
    "bref = 2.\n",
    "sref = 2.\n",
    "\n",
    "patch1 = patch(0., -1., 0., 0., \"FlatPlate\", 1., 0., 0.11, 10)\n",
    "patch2 = patch(0., 0., 0., 0., \"FlatPlate\", 1., 0., 0.11, 10)\n",
    "patch3 = patch(0., 1., 0., 0., \"FlatPlate\", 1., 0., 0.11, 5)\n",
    "patchdata = [patch1; patch2; patch3]\n",
    "\n",
    "alphadef = EldUpDef(45.*pi/180, pi/8, 0.8)\n",
    "hdef = ConstDef(0.)\n",
    "udef = ConstDef(1.)\n",
    "kin = KinemDef3D(alphadef, hdef, udef)\n",
    "\n",
    "\n",
    "surf = ThreeDSurf(cref, bref, sref, patchdata, kin, 1., 70, 35, 21)\n",
    "field = ThreeDFlowField()\n",
    "dtstar = 0.0075\n",
    "nsteps =round(Int,2.5/dtstar) + 1\n",
    "mat3d, surf3d, field3d = QSLLT_lautat(surf, field, nsteps, dtstar)\n",
    "\n",
    "\n",
    "\n",
    "\n",
    "\n",
    "\n",
    "\n"
   ]
  },
  {
   "cell_type": "code",
   "execution_count": null,
   "metadata": {
    "collapsed": false
   },
   "outputs": [],
   "source": [
    "matAR23d = mat3d\n",
    "surfAR23d = surf3d\n",
    "fieldAR23d = field3d"
   ]
  },
  {
   "cell_type": "code",
   "execution_count": null,
   "metadata": {
    "collapsed": false
   },
   "outputs": [],
   "source": [
    "plot(mat2d[:,1],mat2d[:,6])\n",
    "plot(matAR103d[:,1], matAR103d[:,2])\n",
    "plot(matAR63d[:,1], matAR63d[:,2])\n",
    "plot(matAR43d[:,1], matAR43d[:,2])\n",
    "plot(matAR23d[:,1], matAR23d[:,2])\n"
   ]
  },
  {
   "cell_type": "code",
   "execution_count": null,
   "metadata": {
    "collapsed": false
   },
   "outputs": [],
   "source": [
    "k2d = readcsv(\"PR_2D.csv\")\n",
    "kar4 = readcsv(\"PR_AR4.csv\")\n",
    "kar2 =  readcsv(\"PR_AR2.csv\")"
   ]
  },
  {
   "cell_type": "code",
   "execution_count": null,
   "metadata": {
    "collapsed": false
   },
   "outputs": [],
   "source": [
    "plot(mat2d[:,1],mat2d[:,6])\n",
    "plot(k2d[:,1]+1., k2d[:,2])"
   ]
  },
  {
   "cell_type": "code",
   "execution_count": null,
   "metadata": {
    "collapsed": false
   },
   "outputs": [],
   "source": [
    "plot(matAR43d[:,1], matAR43d[:,2])\n",
    "plot(kar4[:,1]+1., kar4[:,2])"
   ]
  },
  {
   "cell_type": "code",
   "execution_count": null,
   "metadata": {
    "collapsed": false
   },
   "outputs": [],
   "source": [
    "plot(matAR23d[:,1], matAR23d[:,2])\n",
    "plot(kar2[:,1]+1., kar2[:,2])"
   ]
  },
  {
   "cell_type": "code",
   "execution_count": null,
   "metadata": {
    "collapsed": true
   },
   "outputs": [],
   "source": []
  }
 ],
 "metadata": {
  "anaconda-cloud": {},
  "kernelspec": {
   "display_name": "Julia 0.5.0",
   "language": "julia",
   "name": "julia-0.5"
  },
  "language_info": {
   "file_extension": ".jl",
   "mimetype": "application/julia",
   "name": "julia",
   "version": "0.5.0"
  }
 },
 "nbformat": 4,
 "nbformat_minor": 1
}
