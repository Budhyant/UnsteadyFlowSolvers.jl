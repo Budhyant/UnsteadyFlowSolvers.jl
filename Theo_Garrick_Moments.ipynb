{
 "cells": [
  {
   "cell_type": "code",
   "execution_count": 37,
   "metadata": {
    "collapsed": true
   },
   "outputs": [],
   "source": [
    "from sympy import *"
   ]
  },
  {
   "cell_type": "code",
   "execution_count": 38,
   "metadata": {
    "collapsed": false
   },
   "outputs": [
    {
     "data": {
      "text/plain": [
       "(t1, t3, t10, t11, t12, t13, t15, t16, t17, t18, t19)"
      ]
     },
     "execution_count": 38,
     "metadata": {},
     "output_type": "execute_result"
    }
   ],
   "source": [
    "var('h0 alpha0 beta0 w t k C a phi psi c')\n",
    "var('t1 t3 t10 t11 t12 t13 t15 t16 t17 t18 t19')"
   ]
  },
  {
   "cell_type": "code",
   "execution_count": 39,
   "metadata": {
    "collapsed": false
   },
   "outputs": [],
   "source": [
    "u, rho, b = var('u rho b')"
   ]
  },
  {
   "cell_type": "code",
   "execution_count": 40,
   "metadata": {
    "collapsed": false
   },
   "outputs": [],
   "source": [
    "h = -h0*exp(I*w*t)\n",
    "alpha = alpha0*exp(I*(w*t+phi))\n",
    "beta = beta0*exp(I*(w*t+psi))"
   ]
  },
  {
   "cell_type": "code",
   "execution_count": 41,
   "metadata": {
    "collapsed": false
   },
   "outputs": [],
   "source": [
    "Mal_h = -rho*b*b*(-a*pi*b*diff(h,t,2))+2*rho*u*b*b(a+0.5)*C*diff(h,t,1)\n",
    "Cmal_h = simplify(2*Mal_h/(rho*u*u*b*b))\n",
    "Cmal_h = simplify(Cmal_h.subs(b*w,u*k))"
   ]
  },
  {
   "cell_type": "code",
   "execution_count": 42,
   "metadata": {
    "collapsed": false,
    "scrolled": false
   },
   "outputs": [
    {
     "data": {
      "text/plain": [
       "2*h0*w*(-2*I*C*b(a + 0.5) + pi*a*b*k)*exp(I*t*w)/(b*u)"
      ]
     },
     "execution_count": 42,
     "metadata": {},
     "output_type": "execute_result"
    }
   ],
   "source": [
    "Cmal_h"
   ]
  },
  {
   "cell_type": "code",
   "execution_count": 43,
   "metadata": {
    "collapsed": false
   },
   "outputs": [],
   "source": [
    "Mal_al = -rho*b*b*(pi*(0.5-a)*u*b*diff(alpha,t,1)+pi*b*b*(1/8.+a*a)*diff(alpha,t,2))+2*rho*u*b*b*pi*(a+0.5)*C*(u*alpha+b*(0.5-a)*diff(alpha,t,1))\n",
    "Cmal_al =  simplify(2*Mal_al/(rho*u*u*b*b))\n",
    "Cmal_al = simplify(Cmal_al.subs(b*w,u*k))"
   ]
  },
  {
   "cell_type": "code",
   "execution_count": 44,
   "metadata": {
    "collapsed": false
   },
   "outputs": [
    {
     "data": {
      "text/plain": [
       "-2*pi*alpha0*(2*C*(a + 0.5)*(I*k*(a - 0.5) - 1) - k*(k*(a**2 + 0.125) + I*(a - 0.5)))*exp(I*(phi + t*w))"
      ]
     },
     "execution_count": 44,
     "metadata": {},
     "output_type": "execute_result"
    }
   ],
   "source": [
    "Cmal_al"
   ]
  },
  {
   "cell_type": "code",
   "execution_count": 45,
   "metadata": {
    "collapsed": true
   },
   "outputs": [],
   "source": [
    "Mal_be = -rho*b*b*(t15*u*u*beta+t16*u*b*diff(beta,t,1)+2*t18*b*b*diff(beta,t,2))+2*rho*u*b*b*pi*(a+0.5)*C*(t10*u*beta/pi+b*t11*(diff(beta,t,1)/2)/pi)\n",
    "Cmal_be = simplify(2*Mal_be/(rho*u*u*b*b))\n",
    "Cmal_be = simplify(Cmal_be.subs(b*w,u*k))"
   ]
  },
  {
   "cell_type": "code",
   "execution_count": 46,
   "metadata": {
    "collapsed": false
   },
   "outputs": [
    {
     "data": {
      "text/plain": [
       "2*beta0*(C*(a + 0.5)*(I*k*t11 + 2*t10) + 2*k**2*t18 - I*k*t16 - t15)*exp(I*(psi + t*w))"
      ]
     },
     "execution_count": 46,
     "metadata": {},
     "output_type": "execute_result"
    }
   ],
   "source": [
    "Cmal_be"
   ]
  },
  {
   "cell_type": "code",
   "execution_count": 47,
   "metadata": {
    "collapsed": true
   },
   "outputs": [],
   "source": [
    "Mbe_h = -rho*b*b*(-t1*b*diff(h,t,2)) - rho*u*b*b*t12*C*diff(h,t,1)\n",
    "Cmbe_h = simplify(2*Mbe_h/(rho*u*u*b*b))\n",
    "Cmbe_h = simplify(Cmbe_h.subs(b*w,u*k))"
   ]
  },
  {
   "cell_type": "code",
   "execution_count": 48,
   "metadata": {
    "collapsed": false
   },
   "outputs": [
    {
     "data": {
      "text/plain": [
       "2*h0*w*(I*C*t12 + k*t1)*exp(I*t*w)/u"
      ]
     },
     "execution_count": 48,
     "metadata": {},
     "output_type": "execute_result"
    }
   ],
   "source": [
    "Cmbe_h"
   ]
  },
  {
   "cell_type": "code",
   "execution_count": 49,
   "metadata": {
    "collapsed": true
   },
   "outputs": [],
   "source": [
    "Mbe_al = -rho*b*b*(t17*u*b*diff(alpha,t,1) +2*t13*b*b*diff(alpha,t,2))-rho*u*b*b*t12*C*(u*alpha + b*(0.5-a)*diff(alpha,t,1))\n",
    "Cmbe_al = simplify(2*Mbe_al/(rho*u*u*b*b))\n",
    "Cmbe_al = simplify(Cmbe_al.subs(b*w,u*k))"
   ]
  },
  {
   "cell_type": "code",
   "execution_count": 50,
   "metadata": {
    "collapsed": false
   },
   "outputs": [
    {
     "data": {
      "text/plain": [
       "2*alpha0*(C*t12*(I*k*(a - 0.5) - 1) + k*(2*k*t13 - I*t17))*exp(I*(phi + t*w))"
      ]
     },
     "execution_count": 50,
     "metadata": {},
     "output_type": "execute_result"
    }
   ],
   "source": [
    "Cmbe_al"
   ]
  },
  {
   "cell_type": "code",
   "execution_count": 51,
   "metadata": {
    "collapsed": true
   },
   "outputs": [],
   "source": [
    "Mbe_be = -rho*b*b*(u*u*t18*beta/pi -(u*b*t19*diff(beta,t,1)/2)/pi -t3*b*b*diff(beta,t,2)/pi) -rho*u*b*b*t12*C*(t10*u*beta/pi+b*t11*(diff(beta,t,1)/2)/pi)\n",
    "Cmbe_be = simplify(2*Mbe_be/(rho*u*u*b*b))\n",
    "Cmbe_be = simplify(Cmbe_be.subs(b*w,u*k))"
   ]
  },
  {
   "cell_type": "code",
   "execution_count": 52,
   "metadata": {
    "collapsed": false
   },
   "outputs": [
    {
     "data": {
      "text/plain": [
       "-beta0*(C*t12*(I*k*t11 + 2*t10) + 2*k**2*t3 - I*k*t19 + 2*t18)*exp(I*(psi + t*w))/pi"
      ]
     },
     "execution_count": 52,
     "metadata": {},
     "output_type": "execute_result"
    }
   ],
   "source": [
    "Cmbe_be"
   ]
  }
 ],
 "metadata": {
  "anaconda-cloud": {},
  "kernelspec": {
   "display_name": "Python [Root]",
   "language": "python",
   "name": "Python [Root]"
  },
  "language_info": {
   "codemirror_mode": {
    "name": "ipython",
    "version": 3
   },
   "file_extension": ".py",
   "mimetype": "text/x-python",
   "name": "python",
   "nbconvert_exporter": "python",
   "pygments_lexer": "ipython3",
   "version": "3.5.2"
  }
 },
 "nbformat": 4,
 "nbformat_minor": 0
}
