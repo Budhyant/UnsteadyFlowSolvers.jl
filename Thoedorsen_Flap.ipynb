{
 "cells": [
  {
   "cell_type": "code",
   "execution_count": 1,
   "metadata": {
    "collapsed": false
   },
   "outputs": [
    {
     "name": "stderr",
     "output_type": "stream",
     "text": [
      "INFO: Precompiling module SymPy...\n",
      "INFO: Recompiling stale cache file /home/kiran/.julia/lib/v0.4/PyCall.ji for module PyCall.\n",
      "INFO: Installing sympy via the Conda sympy package...\n"
     ]
    },
    {
     "name": "stdout",
     "output_type": "stream",
     "text": [
      "Fetching package metadata .......\n",
      "Solving package specifications: ..........\n",
      "\n",
      "Package plan for installation in environment /home/kiran/.julia/v0.4/Conda/deps/usr:\n",
      "\n",
      "The following packages will be downloaded:\n",
      "\n",
      "    package                    |            build\n",
      "    ---------------------------|-----------------\n",
      "    mpmath-0.19                |           py27_1         873 KB\n",
      "    sympy-1.0                  |           py27_0         5.6 MB\n",
      "    ------------------------------------------------------------\n",
      "                                           Total:         6.5 MB\n",
      "\n",
      "The following NEW packages will be INSTALLED:\n",
      "\n",
      "    mpmath: 0.19-py27_1\n",
      "    sympy:  1.0-py27_0 \n",
      "\n",
      "Fetching packages ...\n",
      "mpmath-0.19-py 100% |###############################| Time: 0:00:01 738.34 kB/s\n",
      "sympy-1.0-py27 100% |###############################| Time: 0:00:02   2.38 MB/s\n",
      "Extracting packages ...\n",
      "[      COMPLETE      ]|##################################################| 100%\n",
      "Linking packages ...\n",
      "[      COMPLETE      ]|##################################################| 100%\n"
     ]
    }
   ],
   "source": [
    "using SymPy\n"
   ]
  },
  {
   "cell_type": "code",
   "execution_count": 60,
   "metadata": {
    "collapsed": false
   },
   "outputs": [
    {
     "data": {
      "text/plain": [
       "(h0,alpha0,beta0,w,t,k,C,a,phi,psi,c)"
      ]
     },
     "execution_count": 60,
     "metadata": {},
     "output_type": "execute_result"
    }
   ],
   "source": [
    "@vars h0 alpha0 beta0 w t k C a phi psi c"
   ]
  },
  {
   "cell_type": "code",
   "execution_count": 3,
   "metadata": {
    "collapsed": false
   },
   "outputs": [
    {
     "data": {
      "text/plain": [
       "(u,rho,b)"
      ]
     },
     "execution_count": 3,
     "metadata": {},
     "output_type": "execute_result"
    }
   ],
   "source": [
    "u, rho, b = symbols(\"u, rho, b\")\n"
   ]
  },
  {
   "cell_type": "code",
   "execution_count": 49,
   "metadata": {
    "collapsed": false
   },
   "outputs": [
    {
     "data": {
      "text/latex": [
       "$$- h_{0} e^{i t w}$$"
      ],
      "text/plain": [
       "     I*t*w\n",
       "-h0*e     "
      ]
     },
     "execution_count": 49,
     "metadata": {},
     "output_type": "execute_result"
    }
   ],
   "source": [
    "h = -h0*exp(im*w*t) #Minus because plunge is downward in Theo\n"
   ]
  },
  {
   "cell_type": "code",
   "execution_count": 50,
   "metadata": {
    "collapsed": false,
    "scrolled": true
   },
   "outputs": [
    {
     "data": {
      "text/latex": [
       "$$2 i \\pi C b h_{0} \\rho u w e^{i t w} - \\pi b^{2} h_{0} \\rho w^{2} e^{i t w}$$"
      ],
      "text/plain": [
       "                       I*t*w       2         2  I*t*w\n",
       "2*I*pi*C*b*h0*rho*u*w*e      - pi*b *h0*rho*w *e     "
      ]
     },
     "execution_count": 50,
     "metadata": {},
     "output_type": "execute_result"
    }
   ],
   "source": [
    "P_h = -rho*b*b*pi*diff(h,t,2)-2*rho*u*pi*b*C*diff(h,t,1)\n"
   ]
  },
  {
   "cell_type": "code",
   "execution_count": 54,
   "metadata": {
    "collapsed": false,
    "scrolled": false
   },
   "outputs": [
    {
     "data": {
      "text/latex": [
       "$$\\frac{2 \\pi}{u^{2}} b h_{0} w \\left(- 2 i C u + b w\\right) e^{i t w}$$"
      ],
      "text/plain": [
       "                              I*t*w\n",
       "2*pi*b*h0*w*(-2*I*C*u + b*w)*e     \n",
       "-----------------------------------\n",
       "                  2                \n",
       "                 u                 "
      ]
     },
     "execution_count": 54,
     "metadata": {},
     "output_type": "execute_result"
    }
   ],
   "source": [
    "Cl_h = simplify(-2*P_h/(rho*u*u))  #Minus because lift is downward in Theo"
   ]
  },
  {
   "cell_type": "code",
   "execution_count": 55,
   "metadata": {
    "collapsed": false
   },
   "outputs": [
    {
     "data": {
      "text/latex": [
       "$$2 \\pi h_{0} k \\left(- 2 i C + k\\right) e^{i t w}$$"
      ],
      "text/plain": [
       "                        I*t*w\n",
       "2*pi*h0*k*(-2*I*C + k)*e     "
      ]
     },
     "execution_count": 55,
     "metadata": {},
     "output_type": "execute_result"
    }
   ],
   "source": [
    "Cl_h = simplify(subs(Cl_h,b*w,u*k))"
   ]
  },
  {
   "cell_type": "code",
   "execution_count": 20,
   "metadata": {
    "collapsed": true
   },
   "outputs": [],
   "source": [
    "#Brilliant"
   ]
  },
  {
   "cell_type": "code",
   "execution_count": 74,
   "metadata": {
    "collapsed": false
   },
   "outputs": [
    {
     "data": {
      "text/latex": [
       "$$- 2 \\pi C b \\rho u \\left(i \\alpha_{0} b w \\left(- a + 0.5\\right) e^{i \\left(\\phi + t w\\right)} + \\alpha_{0} u e^{i \\left(\\phi + t w\\right)}\\right) - b^{2} \\rho \\left(\\pi a \\alpha_{0} b w^{2} e^{i \\left(\\phi + t w\\right)} + i \\pi \\alpha_{0} u w e^{i \\left(\\phi + t w\\right)}\\right)$$"
      ],
      "text/plain": [
       "                 /                         I*(phi + t*w)             I*(phi + \n",
       "- 2*pi*C*b*rho*u*\\I*alpha0*b*w*(-a + 0.5)*e              + alpha0*u*e         \n",
       "\n",
       "t*w)\\    2     /               2  I*(phi + t*w)                    I*(phi + t*\n",
       "    / - b *rho*\\pi*a*alpha0*b*w *e              + I*pi*alpha0*u*w*e           \n",
       "\n",
       "w)\\\n",
       "  /"
      ]
     },
     "execution_count": 74,
     "metadata": {},
     "output_type": "execute_result"
    }
   ],
   "source": [
    "alpha = alpha0*exp(im*(w*t+phi))\n",
    "P_alpha = -rho*b*b*(u*pi*diff(alpha,t,1)-pi*b*a*diff(alpha,t,2)) - 2*rho*u*b*C*pi*(u*alpha+b*(1/2-a)*diff(alpha,t,1))\n"
   ]
  },
  {
   "cell_type": "code",
   "execution_count": 57,
   "metadata": {
    "collapsed": false
   },
   "outputs": [
    {
     "data": {
      "text/latex": [
       "$$\\frac{\\pi \\alpha_{0}}{u^{2}} \\left(- 2 C u \\left(i b w \\left(a - 0.5\\right) - u\\right) + b w \\left(a b w + i u\\right)\\right) e^{i \\left(\\phi + t w\\right)}$$"
      ],
      "text/plain": [
       "                                                              I*(phi + t*w)\n",
       "pi*alpha0*(-2*C*u*(I*b*w*(a - 0.5) - u) + b*w*(a*b*w + I*u))*e             \n",
       "---------------------------------------------------------------------------\n",
       "                                      2                                    \n",
       "                                     u                                     "
      ]
     },
     "execution_count": 57,
     "metadata": {},
     "output_type": "execute_result"
    }
   ],
   "source": [
    "Cl_alpha = simplify(-P_alpha/(rho*u*u*b)) #Minus because lift is downward in Theo"
   ]
  },
  {
   "cell_type": "code",
   "execution_count": 58,
   "metadata": {
    "collapsed": false
   },
   "outputs": [
    {
     "data": {
      "text/latex": [
       "$$- \\pi \\alpha_{0} \\left(2 C \\left(i k \\left(a - 0.5\\right) - 1\\right) - k \\left(a k + i\\right)\\right) e^{i \\left(\\phi + t w\\right)}$$"
      ],
      "text/plain": [
       "                                                    I*(phi + t*w)\n",
       "-pi*alpha0*(2*C*(I*k*(a - 0.5) - 1) - k*(a*k + I))*e             "
      ]
     },
     "execution_count": 58,
     "metadata": {},
     "output_type": "execute_result"
    }
   ],
   "source": [
    "Cl_alpha = simplify(subs(Cl_alpha,b*w,u*k)) "
   ]
  },
  {
   "cell_type": "code",
   "execution_count": 59,
   "metadata": {
    "collapsed": false,
    "scrolled": true
   },
   "outputs": [
    {
     "data": {
      "text/latex": [
       "$$\\beta_{0} e^{i \\left(\\psi + t w\\right)}$$"
      ],
      "text/plain": [
       "       I*(psi + t*w)\n",
       "beta0*e             "
      ]
     },
     "execution_count": 59,
     "metadata": {},
     "output_type": "execute_result"
    }
   ],
   "source": [
    "beta = beta0*exp(im*(w*t+psi))"
   ]
  },
  {
   "cell_type": "code",
   "execution_count": 63,
   "metadata": {
    "collapsed": false
   },
   "outputs": [
    {
     "data": {
      "text/latex": [
       "$$c \\operatorname{acos}{\\left (c \\right )} + \\frac{1}{3} \\left(- c^{2} - 2\\right) \\sqrt{- c^{2} + 1}$$"
      ],
      "text/plain": [
       "                          __________\n",
       "            /   2    \\   /    2     \n",
       "            \\- c  - 2/*\\/  - c  + 1 \n",
       "c*acos(c) + ------------------------\n",
       "                       3            "
      ]
     },
     "execution_count": 63,
     "metadata": {},
     "output_type": "execute_result"
    }
   ],
   "source": [
    "T1 = -(2+c*c)*sqrt(1-c*c)/3+c*acos(c)"
   ]
  },
  {
   "cell_type": "code",
   "execution_count": 64,
   "metadata": {
    "collapsed": false
   },
   "outputs": [
    {
     "data": {
      "text/latex": [
       "$$c \\sqrt{- c^{2} + 1} - \\operatorname{acos}{\\left (c \\right )}$$"
      ],
      "text/plain": [
       "     __________          \n",
       "    /    2               \n",
       "c*\\/  - c  + 1  - acos(c)"
      ]
     },
     "execution_count": 64,
     "metadata": {},
     "output_type": "execute_result"
    }
   ],
   "source": [
    "T4 = c*sqrt(1-c*c)-acos(c)"
   ]
  },
  {
   "cell_type": "code",
   "execution_count": 65,
   "metadata": {
    "collapsed": false
   },
   "outputs": [
    {
     "data": {
      "text/latex": [
       "$$\\left(- 2 c + 1\\right) \\operatorname{acos}{\\left (c \\right )} + \\left(- c + 2\\right) \\sqrt{- c^{2} + 1}$$"
      ],
      "text/plain": [
       "                                 __________\n",
       "                                /    2     \n",
       "(-2*c + 1)*acos(c) + (-c + 2)*\\/  - c  + 1 "
      ]
     },
     "execution_count": 65,
     "metadata": {},
     "output_type": "execute_result"
    }
   ],
   "source": [
    "T11 = (2-c)*sqrt(1-c*c)+(1-2*c)*acos(c)\n"
   ]
  },
  {
   "cell_type": "code",
   "execution_count": 84,
   "metadata": {
    "collapsed": false
   },
   "outputs": [
    {
     "data": {
      "text/latex": [
       "$$- 2 \\pi C b \\rho u \\left(\\frac{i b \\beta_{0} w}{2 \\pi} \\left(\\left(- 2 c + 1\\right) \\operatorname{acos}{\\left (c \\right )} + \\left(- c + 2\\right) \\sqrt{- c^{2} + 1}\\right) e^{i \\left(\\psi + t w\\right)} + \\frac{\\beta_{0} u}{\\pi} \\left(\\sqrt{- c^{2} + 1} + \\operatorname{acos}{\\left (c \\right )}\\right) e^{i \\left(\\psi + t w\\right)}\\right) - b^{2} \\rho \\left(b \\beta_{0} w^{2} \\left(c \\operatorname{acos}{\\left (c \\right )} + \\frac{1}{3} \\left(- c^{2} - 2\\right) \\sqrt{- c^{2} + 1}\\right) e^{i \\left(\\psi + t w\\right)} - i \\beta_{0} u w \\left(c \\sqrt{- c^{2} + 1} - \\operatorname{acos}{\\left (c \\right )}\\right) e^{i \\left(\\psi + t w\\right)}\\right)$$"
      ],
      "text/plain": [
       "                 /            /                                 __________\\   \n",
       "                 |            |                                /    2     |  I\n",
       "                 |I*b*beta0*w*\\(-2*c + 1)*acos(c) + (-c + 2)*\\/  - c  + 1 /*e \n",
       "- 2*pi*C*b*rho*u*|------------------------------------------------------------\n",
       "                 \\                                  2*pi                      \n",
       "\n",
       "                       /   __________          \\               \\          /   \n",
       "*(psi + t*w)           |  /    2               |  I*(psi + t*w)|          |   \n",
       "               beta0*u*\\\\/  - c  + 1  + acos(c)/*e             |    2     |   \n",
       "------------ + ------------------------------------------------| - b *rho*|b*b\n",
       "                                      pi                       /          \\   \n",
       "\n",
       "        /                          __________\\                                \n",
       "        |            /   2    \\   /    2     |                              / \n",
       "      2 |            \\- c  - 2/*\\/  - c  + 1 |  I*(psi + t*w)               | \n",
       "eta0*w *|c*acos(c) + ------------------------|*e              - I*beta0*u*w*\\c\n",
       "        \\                       3            /                                \n",
       "\n",
       "                                        \\\n",
       "    __________          \\               |\n",
       "   /    2               |  I*(psi + t*w)|\n",
       "*\\/  - c  + 1  - acos(c)/*e             |\n",
       "                                        /"
      ]
     },
     "execution_count": 84,
     "metadata": {},
     "output_type": "execute_result"
    }
   ],
   "source": [
    "T10 = sqrt(1-c*c)+acos(c)\n",
    "P_beta = -rho*b*b*(-u*T4*diff(beta,t,1) - T1*b*diff(beta,t,2)) - 2*rho*u*b*C*pi*(T10*u*beta/pi + (b*T11*diff(beta,t,1)/2)/pi)\n"
   ]
  },
  {
   "cell_type": "code",
   "execution_count": 85,
   "metadata": {
    "collapsed": false
   },
   "outputs": [
    {
     "data": {
      "text/latex": [
       "$$\\frac{\\beta_{0}}{3 u^{2}} \\left(3 C u \\left(- i b w \\left(\\left(c - 2\\right) \\sqrt{- c^{2} + 1} + \\left(2 c - 1\\right) \\operatorname{acos}{\\left (c \\right )}\\right) + 2 u \\left(\\sqrt{- c^{2} + 1} + \\operatorname{acos}{\\left (c \\right )}\\right)\\right) + b w \\left(b w \\left(3 c \\operatorname{acos}{\\left (c \\right )} - \\sqrt{- c^{2} + 1} \\left(c^{2} + 2\\right)\\right) - 3 i u \\left(c \\sqrt{- c^{2} + 1} - \\operatorname{acos}{\\left (c \\right )}\\right)\\right)\\right) e^{i \\left(\\psi + t w\\right)}$$"
      ],
      "text/plain": [
       "      /      /        /           __________                    \\       /   __\n",
       "      |      |        |          /    2                         |       |  /  \n",
       "beta0*\\3*C*u*\\- I*b*w*\\(c - 2)*\\/  - c  + 1  + (2*c - 1)*acos(c)/ + 2*u*\\\\/  -\n",
       "------------------------------------------------------------------------------\n",
       "                                                                              \n",
       "                                                                              \n",
       "\n",
       "________          \\\\       /    /                 __________         \\        \n",
       "  2               ||       |    |                /    2      / 2    \\|        \n",
       " c  + 1  + acos(c)// + b*w*\\b*w*\\3*c*acos(c) - \\/  - c  + 1 *\\c  + 2// - 3*I*u\n",
       "------------------------------------------------------------------------------\n",
       "                        2                                                     \n",
       "                     3*u                                                      \n",
       "\n",
       " /     __________          \\\\\\               \n",
       " |    /    2               |||  I*(psi + t*w)\n",
       "*\\c*\\/  - c  + 1  - acos(c)///*e             \n",
       "---------------------------------------------\n",
       "                                             \n",
       "                                             "
      ]
     },
     "execution_count": 85,
     "metadata": {},
     "output_type": "execute_result"
    }
   ],
   "source": [
    "Cl_beta = simplify(-P_beta/(rho*u*u*b)) #Minus because lift is downward in Theo"
   ]
  },
  {
   "cell_type": "code",
   "execution_count": 86,
   "metadata": {
    "collapsed": false
   },
   "outputs": [
    {
     "data": {
      "text/latex": [
       "$$\\frac{\\beta_{0}}{3} \\left(3 C \\left(- i k \\left(\\left(c - 2\\right) \\sqrt{- c^{2} + 1} + \\left(2 c - 1\\right) \\operatorname{acos}{\\left (c \\right )}\\right) + 2 \\sqrt{- c^{2} + 1} + 2 \\operatorname{acos}{\\left (c \\right )}\\right) + k \\left(k \\left(3 c \\operatorname{acos}{\\left (c \\right )} - \\sqrt{- c^{2} + 1} \\left(c^{2} + 2\\right)\\right) - 3 i \\left(c \\sqrt{- c^{2} + 1} - \\operatorname{acos}{\\left (c \\right )}\\right)\\right)\\right) e^{i \\left(\\psi + t w\\right)}$$"
      ],
      "text/plain": [
       "      /    /      /           __________                    \\        _________\n",
       "      |    |      |          /    2                         |       /    2    \n",
       "beta0*\\3*C*\\- I*k*\\(c - 2)*\\/  - c  + 1  + (2*c - 1)*acos(c)/ + 2*\\/  - c  + 1\n",
       "------------------------------------------------------------------------------\n",
       "                                                                              \n",
       "\n",
       "_            \\     /  /                 __________         \\       /     _____\n",
       "             |     |  |                /    2      / 2    \\|       |    /    2\n",
       "  + 2*acos(c)/ + k*\\k*\\3*c*acos(c) - \\/  - c  + 1 *\\c  + 2// - 3*I*\\c*\\/  - c \n",
       "------------------------------------------------------------------------------\n",
       "                3                                                             \n",
       "\n",
       "_____          \\\\\\               \n",
       "               |||  I*(psi + t*w)\n",
       " + 1  - acos(c)///*e             \n",
       "---------------------------------\n",
       "                                 "
      ]
     },
     "execution_count": 86,
     "metadata": {},
     "output_type": "execute_result"
    }
   ],
   "source": [
    "Cl_beta = simplify(subs(Cl_beta,b*w,u*k)) "
   ]
  },
  {
   "cell_type": "code",
   "execution_count": 77,
   "metadata": {
    "collapsed": true
   },
   "outputs": [],
   "source": [
    "#Lets also express it in terms of the Ts"
   ]
  },
  {
   "cell_type": "code",
   "execution_count": 78,
   "metadata": {
    "collapsed": false
   },
   "outputs": [
    {
     "data": {
      "text/plain": [
       "(t1,t4,t10,t11)"
      ]
     },
     "execution_count": 78,
     "metadata": {},
     "output_type": "execute_result"
    }
   ],
   "source": [
    "@vars t1 t4 t10 t11"
   ]
  },
  {
   "cell_type": "code",
   "execution_count": 79,
   "metadata": {
    "collapsed": false
   },
   "outputs": [
    {
     "data": {
      "text/latex": [
       "$$- 2 \\pi C b \\rho u \\left(\\frac{i b \\beta_{0} t_{11}}{2 \\pi} w e^{i \\left(\\psi + t w\\right)} + \\frac{\\beta_{0} t_{10}}{\\pi} u e^{i \\left(\\psi + t w\\right)}\\right) - b^{2} \\rho \\left(b \\beta_{0} t_{1} w^{2} e^{i \\left(\\psi + t w\\right)} - i \\beta_{0} t_{4} u w e^{i \\left(\\psi + t w\\right)}\\right)$$"
      ],
      "text/plain": [
       "                 /                 I*(psi + t*w)                I*(psi + t*w)\\\n",
       "                 |I*b*beta0*t11*w*e                beta0*t10*u*e             |\n",
       "- 2*pi*C*b*rho*u*|------------------------------ + --------------------------|\n",
       "                 \\             2*pi                            pi            /\n",
       "\n",
       "                                                                        \n",
       "    2     /            2  I*(psi + t*w)                   I*(psi + t*w)\\\n",
       " - b *rho*\\b*beta0*t1*w *e              - I*beta0*t4*u*w*e             /\n",
       "                                                                        "
      ]
     },
     "execution_count": 79,
     "metadata": {},
     "output_type": "execute_result"
    }
   ],
   "source": [
    "P_beta = -rho*b*b*(-u*t4*diff(beta,t,1) - t1*b*diff(beta,t,2)) - 2*rho*u*b*C*pi*(t10*u*beta/pi + (b*t11*diff(beta,t,1)/2)/pi)\n"
   ]
  },
  {
   "cell_type": "code",
   "execution_count": 80,
   "metadata": {
    "collapsed": false
   },
   "outputs": [
    {
     "data": {
      "text/latex": [
       "$$\\frac{\\beta_{0}}{u^{2}} \\left(C u \\left(i b t_{11} w + 2 t_{10} u\\right) + b w \\left(b t_{1} w - i t_{4} u\\right)\\right) e^{i \\left(\\psi + t w\\right)}$$"
      ],
      "text/plain": [
       "                                                           I*(psi + t*w)\n",
       "beta0*(C*u*(I*b*t11*w + 2*t10*u) + b*w*(b*t1*w - I*t4*u))*e             \n",
       "------------------------------------------------------------------------\n",
       "                                    2                                   \n",
       "                                   u                                    "
      ]
     },
     "execution_count": 80,
     "metadata": {},
     "output_type": "execute_result"
    }
   ],
   "source": [
    "Cl_beta = simplify(-P_beta/(rho*u*u*b)) #Minus because lift is downward in Theo"
   ]
  },
  {
   "cell_type": "code",
   "execution_count": 81,
   "metadata": {
    "collapsed": false
   },
   "outputs": [
    {
     "data": {
      "text/latex": [
       "$$\\beta_{0} \\left(C \\left(i k t_{11} + 2 t_{10}\\right) + k \\left(k t_{1} - i t_{4}\\right)\\right) e^{i \\left(\\psi + t w\\right)}$$"
      ],
      "text/plain": [
       "                                               I*(psi + t*w)\n",
       "beta0*(C*(I*k*t11 + 2*t10) + k*(k*t1 - I*t4))*e             "
      ]
     },
     "execution_count": 81,
     "metadata": {},
     "output_type": "execute_result"
    }
   ],
   "source": [
    "Cl_beta = simplify(subs(Cl_beta,b*w,u*k)) "
   ]
  },
  {
   "cell_type": "code",
   "execution_count": 82,
   "metadata": {
    "collapsed": false
   },
   "outputs": [
    {
     "name": "stdout",
     "output_type": "stream",
     "text": [
      "search: lambdify LambdaStaticData\n",
      "\n"
     ]
    },
    {
     "data": {
      "text/latex": [
       "\\texttt{lambidfy(ex::Sym,[vars])}: Lambidfy an expression returning a native Julia function.  SymPy's \\href{http://docs.sympy.org/dev/modules/utilities/lambdify.html}{lambdify} function translates code into Python, this translates an expression into a \\texttt{Julia} function.\n",
       "Evaluating the function does not call into SymPy, so should be much faster.\n",
       "The optional \\texttt{[vars]} specifies the order of the variables when more than one is in \\texttt{ex}. The default is to use the ordering of \\texttt{free_symbols(ex)}.\n",
       "The keyword aruguments allow for the passing of expressions that are not covered by the default ones. These are dictionaries whose keys are strings with a SymPy name and whose values are symbols representing \\texttt{Julia} values. For examples \\texttt{Dict(\"sin\"=>:sin)} could be used to map a function, were that not already done.\n",
       "Not all expressions can be lambdified. If not, an error is thrown.\n",
       "Some simple examples\n",
       "\\begin{verbatim}\n",
       "@vars x y\n",
       "lambdify(x^2)(2)       # 4\n",
       "lambdify(x*y^2)(2,3)   # 2*3^2 using default ordering\n",
       "lambdify(x*y^2, [y, x])(2,3) # 3*2^2, as function is (y,x) -> x*y^2 equivalent in Julia\n",
       "\\end{verbatim}\n",
       "Compare times\n",
       "\\begin{verbatim}\n",
       "xs = rand(1000)\n",
       "@vars x\n",
       "ex = sin(x)*cos(2x) * exp(x^2/2)\n",
       "map(u -> N(ex(u)), xs)   # 3.435850 seconds\n",
       "SymPy.mapsubs(ex, x, xs) # 0.008569 seconds (does calculuations in Python)\n",
       "map(lambdify(ex), xs)    # 0.007085 seconds\n",
       "\\end{verbatim}\n",
       "This is a \\emph{temporary} solution. The proper fix is to do this in SymPy.\n"
      ],
      "text/markdown": [
       "`lambidfy(ex::Sym,[vars])`: Lambidfy an expression returning a native Julia function.  SymPy's [lambdify](http://docs.sympy.org/dev/modules/utilities/lambdify.html) function translates code into Python, this translates an expression into a `Julia` function.\n",
       "\n",
       "Evaluating the function does not call into SymPy, so should be much faster.\n",
       "\n",
       "The optional `[vars]` specifies the order of the variables when more than one is in `ex`. The default is to use the ordering of `free_symbols(ex)`.\n",
       "\n",
       "The keyword aruguments allow for the passing of expressions that are not covered by the default ones. These are dictionaries whose keys are strings with a SymPy name and whose values are symbols representing `Julia` values. For examples `Dict(\"sin\"=>:sin)` could be used to map a function, were that not already done.\n",
       "\n",
       "Not all expressions can be lambdified. If not, an error is thrown.\n",
       "\n",
       "Some simple examples\n",
       "\n",
       "```\n",
       "@vars x y\n",
       "lambdify(x^2)(2)       # 4\n",
       "lambdify(x*y^2)(2,3)   # 2*3^2 using default ordering\n",
       "lambdify(x*y^2, [y, x])(2,3) # 3*2^2, as function is (y,x) -> x*y^2 equivalent in Julia\n",
       "```\n",
       "\n",
       "Compare times\n",
       "\n",
       "```\n",
       "xs = rand(1000)\n",
       "@vars x\n",
       "ex = sin(x)*cos(2x) * exp(x^2/2)\n",
       "map(u -> N(ex(u)), xs)   # 3.435850 seconds\n",
       "SymPy.mapsubs(ex, x, xs) # 0.008569 seconds (does calculuations in Python)\n",
       "map(lambdify(ex), xs)    # 0.007085 seconds\n",
       "```\n",
       "\n",
       "This is a *temporary* solution. The proper fix is to do this in SymPy.\n"
      ],
      "text/plain": [
       "`lambidfy(ex::Sym,[vars])`: Lambidfy an expression returning a native Julia function.  SymPy's [lambdify](http://docs.sympy.org/dev/modules/utilities/lambdify.html) function translates code into Python, this translates an expression into a `Julia` function.\n",
       "\n",
       "Evaluating the function does not call into SymPy, so should be much faster.\n",
       "\n",
       "The optional `[vars]` specifies the order of the variables when more than one is in `ex`. The default is to use the ordering of `free_symbols(ex)`.\n",
       "\n",
       "The keyword aruguments allow for the passing of expressions that are not covered by the default ones. These are dictionaries whose keys are strings with a SymPy name and whose values are symbols representing `Julia` values. For examples `Dict(\"sin\"=>:sin)` could be used to map a function, were that not already done.\n",
       "\n",
       "Not all expressions can be lambdified. If not, an error is thrown.\n",
       "\n",
       "Some simple examples\n",
       "\n",
       "```\n",
       "@vars x y\n",
       "lambdify(x^2)(2)       # 4\n",
       "lambdify(x*y^2)(2,3)   # 2*3^2 using default ordering\n",
       "lambdify(x*y^2, [y, x])(2,3) # 3*2^2, as function is (y,x) -> x*y^2 equivalent in Julia\n",
       "```\n",
       "\n",
       "Compare times\n",
       "\n",
       "```\n",
       "xs = rand(1000)\n",
       "@vars x\n",
       "ex = sin(x)*cos(2x) * exp(x^2/2)\n",
       "map(u -> N(ex(u)), xs)   # 3.435850 seconds\n",
       "SymPy.mapsubs(ex, x, xs) # 0.008569 seconds (does calculuations in Python)\n",
       "map(lambdify(ex), xs)    # 0.007085 seconds\n",
       "```\n",
       "\n",
       "This is a *temporary* solution. The proper fix is to do this in SymPy.\n"
      ]
     },
     "execution_count": 82,
     "metadata": {},
     "output_type": "execute_result"
    }
   ],
   "source": [
    "?lambdify\n"
   ]
  },
  {
   "cell_type": "code",
   "execution_count": 83,
   "metadata": {
    "collapsed": false
   },
   "outputs": [
    {
     "data": {
      "text/latex": [
       "$$\\beta_{0} \\left(C \\left(i k t_{11} + 2 t_{10}\\right) + k \\left(k t_{1} - i t_{4}\\right)\\right) e^{i \\left(\\psi + t w\\right)}$$"
      ],
      "text/plain": [
       "                                               I*(psi + t*w)\n",
       "beta0*(C*(I*k*t11 + 2*t10) + k*(k*t1 - I*t4))*e             "
      ]
     },
     "execution_count": 83,
     "metadata": {},
     "output_type": "execute_result"
    }
   ],
   "source": [
    "Cl_beta"
   ]
  },
  {
   "cell_type": "code",
   "execution_count": 87,
   "metadata": {
    "collapsed": true
   },
   "outputs": [],
   "source": [
    "#I'll bring it back to the form without t*s"
   ]
  },
  {
   "cell_type": "code",
   "execution_count": 88,
   "metadata": {
    "collapsed": false
   },
   "outputs": [
    {
     "data": {
      "text/latex": [
       "$$\\frac{\\beta_{0}}{3} \\left(3 C \\left(- i k \\left(\\left(c - 2\\right) \\sqrt{- c^{2} + 1} + \\left(2 c - 1\\right) \\operatorname{acos}{\\left (c \\right )}\\right) + 2 \\sqrt{- c^{2} + 1} + 2 \\operatorname{acos}{\\left (c \\right )}\\right) + k \\left(k \\left(3 c \\operatorname{acos}{\\left (c \\right )} - \\sqrt{- c^{2} + 1} \\left(c^{2} + 2\\right)\\right) - 3 i \\left(c \\sqrt{- c^{2} + 1} - \\operatorname{acos}{\\left (c \\right )}\\right)\\right)\\right) e^{i \\left(\\psi + t w\\right)}$$"
      ],
      "text/plain": [
       "      /    /      /           __________                    \\        _________\n",
       "      |    |      |          /    2                         |       /    2    \n",
       "beta0*\\3*C*\\- I*k*\\(c - 2)*\\/  - c  + 1  + (2*c - 1)*acos(c)/ + 2*\\/  - c  + 1\n",
       "------------------------------------------------------------------------------\n",
       "                                                                              \n",
       "\n",
       "_            \\     /  /                 __________         \\       /     _____\n",
       "             |     |  |                /    2      / 2    \\|       |    /    2\n",
       "  + 2*acos(c)/ + k*\\k*\\3*c*acos(c) - \\/  - c  + 1 *\\c  + 2// - 3*I*\\c*\\/  - c \n",
       "------------------------------------------------------------------------------\n",
       "                3                                                             \n",
       "\n",
       "_____          \\\\\\               \n",
       "               |||  I*(psi + t*w)\n",
       " + 1  - acos(c)///*e             \n",
       "---------------------------------\n",
       "                                 "
      ]
     },
     "execution_count": 88,
     "metadata": {},
     "output_type": "execute_result"
    }
   ],
   "source": [
    "Cl_beta"
   ]
  },
  {
   "cell_type": "code",
   "execution_count": 89,
   "metadata": {
    "collapsed": true
   },
   "outputs": [],
   "source": [
    "#Try flap only case"
   ]
  },
  {
   "cell_type": "code",
   "execution_count": 104,
   "metadata": {
    "collapsed": false
   },
   "outputs": [
    {
     "data": {
      "text/latex": [
       "$$-0.424797409752507$$"
      ],
      "text/plain": [
       "-0.424797409752507"
      ]
     },
     "execution_count": 104,
     "metadata": {},
     "output_type": "execute_result"
    }
   ],
   "source": [
    "step1 = Cl_beta(beta0=>5*pi/180, k=>3.93, c=>0.5, psi=>0,  w=>3.93*2, C=>besselh(1,2,3.93)./(besselh(1,2,3.93) + im*besselh(0,2,3.93))) "
   ]
  },
  {
   "cell_type": "code",
   "execution_count": 109,
   "metadata": {
    "collapsed": false
   },
   "outputs": [],
   "source": [
    "time = zeros(1000)\n",
    "cl = zeros(1000)\n",
    "for i = 1:1000\n",
    "    time[i] = i*0.01\n",
    "    cl[i] = real(subs(step1,t,time[i]))\n",
    "end"
   ]
  },
  {
   "cell_type": "code",
   "execution_count": 106,
   "metadata": {
    "collapsed": false
   },
   "outputs": [
    {
     "name": "stderr",
     "output_type": "stream",
     "text": [
      "INFO: Recompiling stale cache file /home/kiran/.julia/lib/v0.4/LaTeXStrings.ji for module LaTeXStrings.\n",
      "INFO: Recompiling stale cache file /home/kiran/.julia/lib/v0.4/PyPlot.ji for module PyPlot.\n",
      "INFO: Recompiling stale cache file /home/kiran/.julia/lib/v0.4/Colors.ji for module Colors.\n",
      "INFO: Recompiling stale cache file /home/kiran/.julia/lib/v0.4/FixedPointNumbers.ji for module FixedPointNumbers.\n",
      "INFO: Recompiling stale cache file /home/kiran/.julia/lib/v0.4/ColorTypes.ji for module ColorTypes.\n"
     ]
    }
   ],
   "source": [
    "using PyPlot\n"
   ]
  },
  {
   "cell_type": "code",
   "execution_count": 113,
   "metadata": {
    "collapsed": false
   },
   "outputs": [
    {
     "data": {
      "image/png": "[encoded data removed]",
      "text/plain": [
       "PyPlot.Figure(PyObject <matplotlib.figure.Figure object at 0x7fba530ca510>)"
      ]
     },
     "metadata": {},
     "output_type": "display_data"
    },
    {
     "data": {
      "text/plain": [
       "1-element Array{Any,1}:\n",
       " PyObject <matplotlib.lines.Line2D object at 0x7fba52e86550>"
      ]
     },
     "execution_count": 113,
     "metadata": {},
     "output_type": "execute_result"
    }
   ],
   "source": [
    "plot(time,cl)"
   ]
  },
  {
   "cell_type": "code",
   "execution_count": null,
   "metadata": {
    "collapsed": true
   },
   "outputs": [],
   "source": []
  }
 ],
 "metadata": {
  "kernelspec": {
   "display_name": "Julia 0.4.6-pre",
   "language": "julia",
   "name": "julia-0.4"
  },
  "language_info": {
   "file_extension": ".jl",
   "mimetype": "application/julia",
   "name": "julia",
   "version": "0.4.6"
  }
 },
 "nbformat": 4,
 "nbformat_minor": 0
}
