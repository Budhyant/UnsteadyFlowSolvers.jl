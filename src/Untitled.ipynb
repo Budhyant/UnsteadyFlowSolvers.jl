{
 "cells": [
  {
   "cell_type": "markdown",
   "metadata": {},
   "source": [
    "# General Boundary condition for Thick Airfoil "
   ]
  },
  {
   "cell_type": "markdown",
   "metadata": {},
   "source": [
    "Introduce the relevant terms:\n",
    "\n",
    "Freestream velocity $\\mathbf{U_\\infty}(t)$ \n",
    "\n",
    "\n",
    "Surge $u(t)$, \n",
    "Plunge $h(t)$, \n",
    "Pitch $\\alpha(t)$"
   ]
  },
  {
   "cell_type": "markdown",
   "metadata": {},
   "source": [
    "BC is given by,"
   ]
  },
  {
   "cell_type": "markdown",
   "metadata": {},
   "source": [
    "$(\\mathbf{\\nabla \\phi} - \\mathbf{U_\\infty} - \\mathbf{v_B} - \\mathbf{\\omega} X \\mathbf{r}) . \\mathbf{n} = 0$"
   ]
  },
  {
   "cell_type": "markdown",
   "metadata": {},
   "source": [
    "$\\mathbf{\\nabla \\phi} = (\\frac{\\partial \\phi}{\\partial x}, 0, \\frac{\\partial \\phi}{\\partial z})$"
   ]
  },
  {
   "cell_type": "markdown",
   "metadata": {},
   "source": [
    "where $\\phi = \\phi_l + \\phi_t + \\phi_w$"
   ]
  },
  {
   "cell_type": "code",
   "execution_count": null,
   "metadata": {
    "collapsed": true
   },
   "outputs": [],
   "source": [
    "$- \\mathbf{U_\\infty} - \\mathbf{v_B} - \\mathbf{\\omega} X \\mathbf{r} = (-(u + U_x)\\cos\\alpha - (\\dot{h} + U_z)\\sin\\alpha + \\dot{\\alpha}\\eta, 0, -(u + U_x)\\sin\\alpha )"
   ]
  }
 ],
 "metadata": {
  "kernelspec": {
   "display_name": "Julia 0.6.0",
   "language": "julia",
   "name": "julia-0.6"
  },
  "language_info": {
   "file_extension": ".jl",
   "mimetype": "application/julia",
   "name": "julia",
   "version": "0.6.0"
  }
 },
 "nbformat": 4,
 "nbformat_minor": 2
}
