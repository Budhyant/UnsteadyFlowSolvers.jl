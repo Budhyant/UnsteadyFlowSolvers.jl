{
 "cells": [
  {
   "cell_type": "markdown",
   "metadata": {},
   "source": [
    "# General Boundary condition for Thick Airfoil "
   ]
  },
  {
   "cell_type": "markdown",
   "metadata": {},
   "source": [
    "Introduce the relevant terms:\n",
    "\n",
    "Freestream velocity $\\vec{U_\\infty}(t)$ \n",
    "\n",
    "\n",
    "Surge $u(t)$, \n",
    "Plunge $h(t)$, \n",
    "Pitch $\\alpha(t)$"
   ]
  },
  {
   "cell_type": "markdown",
   "metadata": {},
   "source": [
    "BC is given by,"
   ]
  },
  {
   "cell_type": "code",
   "execution_count": 1,
   "metadata": {},
   "outputs": [
    {
     "ename": "LoadError",
     "evalue": "\u001b[91msyntax: \"\\\" is not a unary operator\u001b[39m",
     "output_type": "error",
     "traceback": [
      "\u001b[91msyntax: \"\\\" is not a unary operator\u001b[39m",
      ""
     ]
    }
   ],
   "source": [
    "$(\\vec{\\Delta \\phi} - \\vec{U_\\infty} - \\vec{v_B} - \\vec{omega} X \\vec{r}). \\vec{n} = 0"
   ]
  },
  {
   "cell_type": "code",
   "execution_count": null,
   "metadata": {
    "collapsed": true
   },
   "outputs": [],
   "source": []
  }
 ],
 "metadata": {
  "kernelspec": {
   "display_name": "Julia 0.6.0",
   "language": "julia",
   "name": "julia-0.6"
  },
  "language_info": {
   "file_extension": ".jl",
   "mimetype": "application/julia",
   "name": "julia",
   "version": "0.6.0"
  }
 },
 "nbformat": 4,
 "nbformat_minor": 2
}
